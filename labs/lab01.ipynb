{
 "cells": [
  {
   "cell_type": "markdown",
   "metadata": {},
   "source": [
    "# Lab01 - Getting Started\n",
    "\n",
    "Name: Jake Schaeffer\n",
    "\n",
    "Class: CSCI349 - Intro to Dating Mining\n",
    "\n",
    "Semester 2020SP\n",
    "\n",
    "Instructor: Brian King"
   ]
  },
  {
   "cell_type": "code",
   "execution_count": 44,
   "metadata": {},
   "outputs": [
    {
     "name": "stdout",
     "output_type": "stream",
     "text": [
      "3.7.4 (default, Aug  9 2019, 18:34:13) [MSC v.1915 64 bit (AMD64)]\n"
     ]
    }
   ],
   "source": [
    "import sys\n",
    "print(sys.version)"
   ]
  },
  {
   "cell_type": "markdown",
   "metadata": {},
   "source": [
    "# 2. Did you read the syllabus? All of it? Do you agree to abide by the cheating rules? Write a sentence clearly indicating your commitment to not cheating."
   ]
  },
  {
   "cell_type": "markdown",
   "metadata": {},
   "source": [
    "Yes. Yes. Yes. I will only submit work that is my own or created by my team."
   ]
  },
  {
   "cell_type": "markdown",
   "metadata": {},
   "source": [
    "# 3. What are you hoping to get out of this course?"
   ]
  },
  {
   "cell_type": "markdown",
   "metadata": {},
   "source": [
    "I want to learn about how to clean data in order to gather meaningful insights ."
   ]
  },
  {
   "cell_type": "markdown",
   "metadata": {},
   "source": [
    "# 4. Print the Python version (available in sys package)"
   ]
  },
  {
   "cell_type": "code",
   "execution_count": 45,
   "metadata": {},
   "outputs": [
    {
     "name": "stdout",
     "output_type": "stream",
     "text": [
      "3.7.4 (default, Aug  9 2019, 18:34:13) [MSC v.1915 64 bit (AMD64)]\n"
     ]
    }
   ],
   "source": [
    "import sys\n",
    "print(sys.version)"
   ]
  },
  {
   "cell_type": "markdown",
   "metadata": {},
   "source": [
    "# 5.Create a Python list of 10000 random integers in the range 1 to 100, using the random package. Name the list x_list."
   ]
  },
  {
   "cell_type": "code",
   "execution_count": 46,
   "metadata": {},
   "outputs": [],
   "source": [
    "import random\n",
    "x_list = [random.randint(1,100) for i in range(1000)]"
   ]
  },
  {
   "cell_type": "markdown",
   "metadata": {},
   "source": [
    "# 6. What is the minimum value of x_list? What is the max value? What is the mode?"
   ]
  },
  {
   "cell_type": "code",
   "execution_count": 47,
   "metadata": {},
   "outputs": [
    {
     "name": "stdout",
     "output_type": "stream",
     "text": [
      "The min value of x_list is 1.\n",
      "The max value of x_list is 100.\n",
      "The mode of x_list is 15.\n"
     ]
    }
   ],
   "source": [
    "from statistics import mode\n",
    "\n",
    "print(\"The min value of x_list is {}.\".format(min(x_list)))\n",
    "print(\"The max value of x_list is {}.\".format(max(x_list)))\n",
    "print(\"The mode of x_list is {}.\".format(mode(x_list)))"
   ]
  },
  {
   "cell_type": "markdown",
   "metadata": {},
   "source": [
    "# 7. Write a function to take a list of numbers as a parameter, and return the average of the list. Then, use your function to report the average value of x_list, printed as a float with 2 places of precision."
   ]
  },
  {
   "cell_type": "code",
   "execution_count": 48,
   "metadata": {},
   "outputs": [
    {
     "name": "stdout",
     "output_type": "stream",
     "text": [
      "The average of x_list is 50.53.\n"
     ]
    }
   ],
   "source": [
    "def avg(numList):\n",
    "    sum = 0\n",
    "    for num in numList:\n",
    "        sum +=num\n",
    "    return sum / len(numList)\n",
    "\n",
    "print(\"The average of x_list is %4.2f.\" %avg(x_list))"
   ]
  },
  {
   "cell_type": "markdown",
   "metadata": {},
   "source": [
    "# 8. Create a list called x_hist that represents a histogram, i.e. a distribution of the numerical data, of x_list. Each entry in x_hist should contain the range of data in widths of 10. So, x_hist[0] represents the frequency of numbers between 1-10, x_hist[1] is the frequency of numbers between 11-20, and so on. Be sure to print x_hist at the end."
   ]
  },
  {
   "cell_type": "code",
   "execution_count": 49,
   "metadata": {},
   "outputs": [
    {
     "name": "stdout",
     "output_type": "stream",
     "text": [
      "[99, 104, 111, 98, 95, 76, 105, 97, 110, 105]\n"
     ]
    }
   ],
   "source": [
    "#init the list as a list containing 10 0s\n",
    "x_hist = [0]*10 \n",
    "for num in x_list:\n",
    "    index = (num-1)//10\n",
    "    x_hist[index] += 1\n",
    "    \n",
    "print(x_hist)"
   ]
  },
  {
   "cell_type": "markdown",
   "metadata": {},
   "source": [
    "# 9. What is numpy? What are its strengths? Does it have any weaknesses?\n",
    "\n",
    "- For the following problems, I use [numpy documentation](docs.scipy.org) as a reference - \n"
   ]
  },
  {
   "cell_type": "markdown",
   "metadata": {},
   "source": [
    "numpy is a handy package for scientific computing. numpy offers many of the advantages that languages like C, which have less overhead, offer in terms of efficiency, while still allowing us to use python as our language of choice. This is done using vectorization and broadcasting.\n",
    "\n",
    "In terms of weaknesses , indexing like this: x[index] may be considered slow. I am not sure.\n",
    "\n",
    "[ref](https://cyrille.rossant.net/whats-wrong-with-scientific-python/)"
   ]
  },
  {
   "cell_type": "markdown",
   "metadata": {},
   "source": [
    "# 10. Import the numpy package as np and print the numpy version"
   ]
  },
  {
   "cell_type": "code",
   "execution_count": 50,
   "metadata": {},
   "outputs": [
    {
     "name": "stdout",
     "output_type": "stream",
     "text": [
      "1.16.5\n"
     ]
    }
   ],
   "source": [
    "import numpy as np\n",
    "\n",
    "print(np.version.version)"
   ]
  },
  {
   "cell_type": "markdown",
   "metadata": {},
   "source": [
    "# 11. What is the primary object type in numpy? Can it store data of different types? Discuss."
   ]
  },
  {
   "cell_type": "markdown",
   "metadata": {},
   "source": [
    "It uses a data type called a multidimensional array as the core object, called an ndarray. It can store data of different types. For instance, it can store integers or floats. These arrays contain elements that are all of the same type. A dtype can be made to be used in a ndarray."
   ]
  },
  {
   "cell_type": "markdown",
   "metadata": {},
   "source": [
    "# 12. [M] Discuss the types of data available in numpy. You need not list every type. Just generalize, and discuss how the type system is different than the built-in types int and float in Python."
   ]
  },
  {
   "cell_type": "markdown",
   "metadata": {},
   "source": [
    "numpy contains the primitive types supported by C because it is built using C. It contains many more numeric types than python. Instead of just int and float, it has many different levels of each that can contain different amounts of data."
   ]
  },
  {
   "cell_type": "markdown",
   "metadata": {},
   "source": [
    "# 13. [P] Create a numpy array from x_list. Reassign it as x_list. Show the contents."
   ]
  },
  {
   "cell_type": "code",
   "execution_count": 51,
   "metadata": {},
   "outputs": [
    {
     "data": {
      "text/plain": [
       "array([ 46,  66,  90,  75,  75,   2,  34,   2,  62,  42,  74,  89,  41,\n",
       "        15,  53,  43,  14,  81,  95,  18,  66,  27,  90,   8,  73,  57,\n",
       "        97,  21,  32,  99,  28,  90,  41,  30,  39,  99,  21,  82,  46,\n",
       "        86,  45,  71,  86,  83,  24,  24,  48,  66,  92,  91,  30,  54,\n",
       "        59,  27,  84,  12,  52,  56,  31,  50,  55,  36,  13,  57,  91,\n",
       "        42,  85,  26,  34,  26,  73,  68,  72,  65,  49,  95,  27,  23,\n",
       "       100,  10,  46,  98,  26,  57,  96,   3,  31,  28,  71,  82,  87,\n",
       "       100,  22,  27,  88,  50,  75,  61,  70,  71,  16,  17,  15,  84,\n",
       "        60,  39,  94,  71,  62,   9,  55,  75,  37,  85,  77,  49,  97,\n",
       "        57,  18,  68,  30,  47,  66,   9,   9,  91,  41,  56,  66,  15,\n",
       "        34,  85,  34,  84,  21,  94,  70,  33,  35,  42,  26,  17,  80,\n",
       "        69,  63,  38,  45,  96,   3,  69,  43,  45,  52,  35,  77,  61,\n",
       "         5,  20,   7,  23,  57,  17,  27,  66,  10,  12,  29,  67,  37,\n",
       "        19,  12,  46,  12,  54,   6,  11,  98,  31,  23,  51,  99,  11,\n",
       "        59,   8,  31,  98,  18,  39,  61,  39,   6,  75,   4,  18,  23,\n",
       "        30,  93,  99,  98,  59,  87,  97,  96,  40,  97,  38,  66,  84,\n",
       "        97,  86,  93,  76,  95,  32,   9,  18,  51,   6,  10,  87,  87,\n",
       "         4,  90,  28,  17,  67,  94,  86,  28,  12,  89,  63,  47,  72,\n",
       "        69,  82,  38,  80,  74,   5,  15,   9,  43,  88,  89,   8,  20,\n",
       "        49,  38,  80,  61,   2,  28,  96,  49,  15,  63,  75,  45,  85,\n",
       "        25,  59,  71,  97,   2,  71,  83,  39,  15,  32,  73,  93,  15,\n",
       "         9,  68,   8,   7,  84,  52,  38,  10,  98,  65,  14,  27,  88,\n",
       "        91,  90,  46,  83,  55,  83,  33,  74,  67,  70,  80,  15,  14,\n",
       "        17,   7,  19,  70,  94,  50,  57,   4,  32,  49,  14,  71,  63,\n",
       "        10,  68,  93,  32,  53,   9,  68,  64,  90,  91,  56,  34,  54,\n",
       "        71,  23,  42,  54,  92,  65,  72,  28,  28,  74,   2,  64,  15,\n",
       "        64,   2,  43,  27,  10,  64,  60,  92,  97,  59,  15,  39,  19,\n",
       "        57,  66,  57,  29,  39,  85,  11,   9,  24,  74,  86,  71,  61,\n",
       "        47,  87,  42,  69,  92,  73,  54,  88,  75,  44,  96,  56,  14,\n",
       "         8,  50,  12,  29,  30,  35,  35,   6,  19,  59,  13,  34,  91,\n",
       "        47,  71,   1,  84,  69,  20,  90,  90,  61,  34,  25,  31,  77,\n",
       "        42,  45,   5,  92,  81,  28,  47,  43,   6,  47,   7,  49,  45,\n",
       "        24,  83,  24,  36,  74,   3,  68,  58,  30,  85,  94,  15,  37,\n",
       "        59,  62,  87,  33,  27,  96,  99,  44,  90,   6,  22,  92,  87,\n",
       "        62,   6,  69,  60,  20,  10,  50,  96,  84,  18,  81,  11,  36,\n",
       "        82,  26,  33,  53,  87, 100,  85,  87,  97,   5,  99,  85,  76,\n",
       "        12,  83,   2,  77,  84,  72,  88,  32,  81,  73,  74,  88,  74,\n",
       "        56,  64,  40,  25,  77,  71,  18,  94,  66,  81,   1,  15,  65,\n",
       "        95,  64,  20,  89,  92,  95,  77,  15,  62,  69,  80,  45,  57,\n",
       "        51,  22,  51,  47,  76,   6,  75,  50,  17,  53,  51,  28,  95,\n",
       "        46,  19,  34,  39,  33,  75,  30,  30,  89,  49,  94,  73,  15,\n",
       "        13,  35,  32,  29,  24,  39,  14,  85,  94,  62,  30,   4,  62,\n",
       "        27,  44,  40,  65,  71,  11,  22, 100,   9,  58,  14,  47,  31,\n",
       "        48,  23,  25,   7,  25,  23,  78,  67,  64,  53,  42,  18,  10,\n",
       "        87,  86,  18,  81,  66,  81,  79,  48,  66,   3,  66,  58,  75,\n",
       "        14,  73,  31,  80,  68,  50,  67,  32,  95,  64,   6,  89,  71,\n",
       "        21,  68,  11,  74,  26,  90,  38,  65,  92,  14,  61,  12,  13,\n",
       "        24,  83,  38,  46,  42,  53,  99,  95,  61,  30,  12,  36,  37,\n",
       "        52,  54,  89,  44,  68,  26,  94,  32,  68,  73,  32,  29,  78,\n",
       "        65,  23,  23,  55,   3,  27,  77,  28,  12,   1,  32,  10,  22,\n",
       "        20,  85,  34,  21,  39, 100,  11,  94,  32,  44,  98,  85,  15,\n",
       "        77,  86,   6,  34,  98,  96,  49,   1,  32,  74,  91,  59,  62,\n",
       "        93,  98,  64,  61,  13,  98,  19,  60,   4,   9,  46,  75,  59,\n",
       "        43,  27,  66,   5,  97,  97,  19,  25,  37,   4,  76,  84,  42,\n",
       "        94,  98,  24,  27,  81,  17,  49,  93,  53,  31,  45,  61,   5,\n",
       "        79,  90,  26,  66, 100,  24,   1,  61,  42,  28,  10,   7,  16,\n",
       "        49,  42,  72,  19,  10,  71,  86,  99,  17,   7,  43,   7,  58,\n",
       "        59,   6,  82,  19,  63,  53,  31,  63,  85,  53,  22,  82,  99,\n",
       "        52,  72,  82,  97,   6,  30,  79,  78,  48,  99,  70,  78,  95,\n",
       "        86,  41,  93,   8,  84,   2,  56,  48,   5,  72,  74,  83,  24,\n",
       "        94,  57,  42,  65,  54,  25,  10,   1,  94,  44,  27,  24,  35,\n",
       "        45,  96,  72,  48,  28,  33,  42,  61,  17,  29,  44,  68,  31,\n",
       "       100,  88,  20,  79,  44,  38,  33,  22,  61,  47,  88,   8,  41,\n",
       "         5,  45,  51,  29,  23,  74,  81, 100,  23,  65,  72,  96,   9,\n",
       "        31,   9,  33,  12,  35,  27,  38,  60,  15,  84,  70,  46,  28,\n",
       "        64,  90,  73,  58,  22,  23,  92,  33,  37,  48,  60,   5,  19,\n",
       "        63,  18,  38,  44,  33,  97,  63,  85,  16,  22,   1,  31,  14,\n",
       "        79,  47,  93,  29,  95,  54,  79,  75,  71,  15,  16,  89,  91,\n",
       "        44,  25,  57,  19,   2,   9,  82,  79,  76,  17,  42,  43,  54,\n",
       "        16,  14,  13,  82,  62,  12,  91,   4,  18,  34,   9, 100,  24,\n",
       "        32,  56,  68,   2,  17,  28,  32,  42,  15,  88,  66,  40,  69,\n",
       "        95,  91,  10,  33,  50,  83,  34,   9,  65,  71,  25,  32,  25,\n",
       "        68,  41,  77,   6,  91,  87,  44,  54,  24,  77,  84,  67,  51,\n",
       "        74,  69,  16,  98,  82,   5,   1,  83,  70,  72,  75,  62,  18,\n",
       "        75,  34,  25,  65,  35,  16,  26,  84,  81,  22,  34,  65,  75,\n",
       "        46,  23,   3,  61,  56,  33,  77,  12,  24,  69,  90,   3,  38,\n",
       "        54,  27,  26,  81,  38,  90,  86,  74,   6,  98,  20,  81])"
      ]
     },
     "execution_count": 51,
     "metadata": {},
     "output_type": "execute_result"
    }
   ],
   "source": [
    "x_list = np.array(x_list)\n",
    "x_list"
   ]
  },
  {
   "cell_type": "markdown",
   "metadata": {},
   "source": [
    "# 14. [P] Redo the previous exercise, but set the data type of each value to 'float32'"
   ]
  },
  {
   "cell_type": "code",
   "execution_count": 52,
   "metadata": {},
   "outputs": [
    {
     "data": {
      "text/plain": [
       "array([ 46.,  66.,  90.,  75.,  75.,   2.,  34.,   2.,  62.,  42.,  74.,\n",
       "        89.,  41.,  15.,  53.,  43.,  14.,  81.,  95.,  18.,  66.,  27.,\n",
       "        90.,   8.,  73.,  57.,  97.,  21.,  32.,  99.,  28.,  90.,  41.,\n",
       "        30.,  39.,  99.,  21.,  82.,  46.,  86.,  45.,  71.,  86.,  83.,\n",
       "        24.,  24.,  48.,  66.,  92.,  91.,  30.,  54.,  59.,  27.,  84.,\n",
       "        12.,  52.,  56.,  31.,  50.,  55.,  36.,  13.,  57.,  91.,  42.,\n",
       "        85.,  26.,  34.,  26.,  73.,  68.,  72.,  65.,  49.,  95.,  27.,\n",
       "        23., 100.,  10.,  46.,  98.,  26.,  57.,  96.,   3.,  31.,  28.,\n",
       "        71.,  82.,  87., 100.,  22.,  27.,  88.,  50.,  75.,  61.,  70.,\n",
       "        71.,  16.,  17.,  15.,  84.,  60.,  39.,  94.,  71.,  62.,   9.,\n",
       "        55.,  75.,  37.,  85.,  77.,  49.,  97.,  57.,  18.,  68.,  30.,\n",
       "        47.,  66.,   9.,   9.,  91.,  41.,  56.,  66.,  15.,  34.,  85.,\n",
       "        34.,  84.,  21.,  94.,  70.,  33.,  35.,  42.,  26.,  17.,  80.,\n",
       "        69.,  63.,  38.,  45.,  96.,   3.,  69.,  43.,  45.,  52.,  35.,\n",
       "        77.,  61.,   5.,  20.,   7.,  23.,  57.,  17.,  27.,  66.,  10.,\n",
       "        12.,  29.,  67.,  37.,  19.,  12.,  46.,  12.,  54.,   6.,  11.,\n",
       "        98.,  31.,  23.,  51.,  99.,  11.,  59.,   8.,  31.,  98.,  18.,\n",
       "        39.,  61.,  39.,   6.,  75.,   4.,  18.,  23.,  30.,  93.,  99.,\n",
       "        98.,  59.,  87.,  97.,  96.,  40.,  97.,  38.,  66.,  84.,  97.,\n",
       "        86.,  93.,  76.,  95.,  32.,   9.,  18.,  51.,   6.,  10.,  87.,\n",
       "        87.,   4.,  90.,  28.,  17.,  67.,  94.,  86.,  28.,  12.,  89.,\n",
       "        63.,  47.,  72.,  69.,  82.,  38.,  80.,  74.,   5.,  15.,   9.,\n",
       "        43.,  88.,  89.,   8.,  20.,  49.,  38.,  80.,  61.,   2.,  28.,\n",
       "        96.,  49.,  15.,  63.,  75.,  45.,  85.,  25.,  59.,  71.,  97.,\n",
       "         2.,  71.,  83.,  39.,  15.,  32.,  73.,  93.,  15.,   9.,  68.,\n",
       "         8.,   7.,  84.,  52.,  38.,  10.,  98.,  65.,  14.,  27.,  88.,\n",
       "        91.,  90.,  46.,  83.,  55.,  83.,  33.,  74.,  67.,  70.,  80.,\n",
       "        15.,  14.,  17.,   7.,  19.,  70.,  94.,  50.,  57.,   4.,  32.,\n",
       "        49.,  14.,  71.,  63.,  10.,  68.,  93.,  32.,  53.,   9.,  68.,\n",
       "        64.,  90.,  91.,  56.,  34.,  54.,  71.,  23.,  42.,  54.,  92.,\n",
       "        65.,  72.,  28.,  28.,  74.,   2.,  64.,  15.,  64.,   2.,  43.,\n",
       "        27.,  10.,  64.,  60.,  92.,  97.,  59.,  15.,  39.,  19.,  57.,\n",
       "        66.,  57.,  29.,  39.,  85.,  11.,   9.,  24.,  74.,  86.,  71.,\n",
       "        61.,  47.,  87.,  42.,  69.,  92.,  73.,  54.,  88.,  75.,  44.,\n",
       "        96.,  56.,  14.,   8.,  50.,  12.,  29.,  30.,  35.,  35.,   6.,\n",
       "        19.,  59.,  13.,  34.,  91.,  47.,  71.,   1.,  84.,  69.,  20.,\n",
       "        90.,  90.,  61.,  34.,  25.,  31.,  77.,  42.,  45.,   5.,  92.,\n",
       "        81.,  28.,  47.,  43.,   6.,  47.,   7.,  49.,  45.,  24.,  83.,\n",
       "        24.,  36.,  74.,   3.,  68.,  58.,  30.,  85.,  94.,  15.,  37.,\n",
       "        59.,  62.,  87.,  33.,  27.,  96.,  99.,  44.,  90.,   6.,  22.,\n",
       "        92.,  87.,  62.,   6.,  69.,  60.,  20.,  10.,  50.,  96.,  84.,\n",
       "        18.,  81.,  11.,  36.,  82.,  26.,  33.,  53.,  87., 100.,  85.,\n",
       "        87.,  97.,   5.,  99.,  85.,  76.,  12.,  83.,   2.,  77.,  84.,\n",
       "        72.,  88.,  32.,  81.,  73.,  74.,  88.,  74.,  56.,  64.,  40.,\n",
       "        25.,  77.,  71.,  18.,  94.,  66.,  81.,   1.,  15.,  65.,  95.,\n",
       "        64.,  20.,  89.,  92.,  95.,  77.,  15.,  62.,  69.,  80.,  45.,\n",
       "        57.,  51.,  22.,  51.,  47.,  76.,   6.,  75.,  50.,  17.,  53.,\n",
       "        51.,  28.,  95.,  46.,  19.,  34.,  39.,  33.,  75.,  30.,  30.,\n",
       "        89.,  49.,  94.,  73.,  15.,  13.,  35.,  32.,  29.,  24.,  39.,\n",
       "        14.,  85.,  94.,  62.,  30.,   4.,  62.,  27.,  44.,  40.,  65.,\n",
       "        71.,  11.,  22., 100.,   9.,  58.,  14.,  47.,  31.,  48.,  23.,\n",
       "        25.,   7.,  25.,  23.,  78.,  67.,  64.,  53.,  42.,  18.,  10.,\n",
       "        87.,  86.,  18.,  81.,  66.,  81.,  79.,  48.,  66.,   3.,  66.,\n",
       "        58.,  75.,  14.,  73.,  31.,  80.,  68.,  50.,  67.,  32.,  95.,\n",
       "        64.,   6.,  89.,  71.,  21.,  68.,  11.,  74.,  26.,  90.,  38.,\n",
       "        65.,  92.,  14.,  61.,  12.,  13.,  24.,  83.,  38.,  46.,  42.,\n",
       "        53.,  99.,  95.,  61.,  30.,  12.,  36.,  37.,  52.,  54.,  89.,\n",
       "        44.,  68.,  26.,  94.,  32.,  68.,  73.,  32.,  29.,  78.,  65.,\n",
       "        23.,  23.,  55.,   3.,  27.,  77.,  28.,  12.,   1.,  32.,  10.,\n",
       "        22.,  20.,  85.,  34.,  21.,  39., 100.,  11.,  94.,  32.,  44.,\n",
       "        98.,  85.,  15.,  77.,  86.,   6.,  34.,  98.,  96.,  49.,   1.,\n",
       "        32.,  74.,  91.,  59.,  62.,  93.,  98.,  64.,  61.,  13.,  98.,\n",
       "        19.,  60.,   4.,   9.,  46.,  75.,  59.,  43.,  27.,  66.,   5.,\n",
       "        97.,  97.,  19.,  25.,  37.,   4.,  76.,  84.,  42.,  94.,  98.,\n",
       "        24.,  27.,  81.,  17.,  49.,  93.,  53.,  31.,  45.,  61.,   5.,\n",
       "        79.,  90.,  26.,  66., 100.,  24.,   1.,  61.,  42.,  28.,  10.,\n",
       "         7.,  16.,  49.,  42.,  72.,  19.,  10.,  71.,  86.,  99.,  17.,\n",
       "         7.,  43.,   7.,  58.,  59.,   6.,  82.,  19.,  63.,  53.,  31.,\n",
       "        63.,  85.,  53.,  22.,  82.,  99.,  52.,  72.,  82.,  97.,   6.,\n",
       "        30.,  79.,  78.,  48.,  99.,  70.,  78.,  95.,  86.,  41.,  93.,\n",
       "         8.,  84.,   2.,  56.,  48.,   5.,  72.,  74.,  83.,  24.,  94.,\n",
       "        57.,  42.,  65.,  54.,  25.,  10.,   1.,  94.,  44.,  27.,  24.,\n",
       "        35.,  45.,  96.,  72.,  48.,  28.,  33.,  42.,  61.,  17.,  29.,\n",
       "        44.,  68.,  31., 100.,  88.,  20.,  79.,  44.,  38.,  33.,  22.,\n",
       "        61.,  47.,  88.,   8.,  41.,   5.,  45.,  51.,  29.,  23.,  74.,\n",
       "        81., 100.,  23.,  65.,  72.,  96.,   9.,  31.,   9.,  33.,  12.,\n",
       "        35.,  27.,  38.,  60.,  15.,  84.,  70.,  46.,  28.,  64.,  90.,\n",
       "        73.,  58.,  22.,  23.,  92.,  33.,  37.,  48.,  60.,   5.,  19.,\n",
       "        63.,  18.,  38.,  44.,  33.,  97.,  63.,  85.,  16.,  22.,   1.,\n",
       "        31.,  14.,  79.,  47.,  93.,  29.,  95.,  54.,  79.,  75.,  71.,\n",
       "        15.,  16.,  89.,  91.,  44.,  25.,  57.,  19.,   2.,   9.,  82.,\n",
       "        79.,  76.,  17.,  42.,  43.,  54.,  16.,  14.,  13.,  82.,  62.,\n",
       "        12.,  91.,   4.,  18.,  34.,   9., 100.,  24.,  32.,  56.,  68.,\n",
       "         2.,  17.,  28.,  32.,  42.,  15.,  88.,  66.,  40.,  69.,  95.,\n",
       "        91.,  10.,  33.,  50.,  83.,  34.,   9.,  65.,  71.,  25.,  32.,\n",
       "        25.,  68.,  41.,  77.,   6.,  91.,  87.,  44.,  54.,  24.,  77.,\n",
       "        84.,  67.,  51.,  74.,  69.,  16.,  98.,  82.,   5.,   1.,  83.,\n",
       "        70.,  72.,  75.,  62.,  18.,  75.,  34.,  25.,  65.,  35.,  16.,\n",
       "        26.,  84.,  81.,  22.,  34.,  65.,  75.,  46.,  23.,   3.,  61.,\n",
       "        56.,  33.,  77.,  12.,  24.,  69.,  90.,   3.,  38.,  54.,  27.,\n",
       "        26.,  81.,  38.,  90.,  86.,  74.,   6.,  98.,  20.,  81.],\n",
       "      dtype=float32)"
      ]
     },
     "execution_count": 52,
     "metadata": {},
     "output_type": "execute_result"
    }
   ],
   "source": [
    "x_list = np.array(x_list).astype(\"float32\")\n",
    "x_list"
   ]
  },
  {
   "cell_type": "markdown",
   "metadata": {},
   "source": [
    "# 15. [P] Create a length 10 integer array filled with zeros"
   ]
  },
  {
   "cell_type": "code",
   "execution_count": 53,
   "metadata": {},
   "outputs": [
    {
     "data": {
      "text/plain": [
       "array([0., 0., 0., 0., 0., 0., 0., 0., 0., 0.])"
      ]
     },
     "execution_count": 53,
     "metadata": {},
     "output_type": "execute_result"
    }
   ],
   "source": [
    "np.zeros(10)"
   ]
  },
  {
   "cell_type": "markdown",
   "metadata": {},
   "source": [
    "# 16. [P] Create a float array of 3 rows and 4 columns, all initialized to one."
   ]
  },
  {
   "cell_type": "code",
   "execution_count": 54,
   "metadata": {},
   "outputs": [
    {
     "data": {
      "text/plain": [
       "array([[1., 1., 1., 1.],\n",
       "       [1., 1., 1., 1.],\n",
       "       [1., 1., 1., 1.]])"
      ]
     },
     "execution_count": 54,
     "metadata": {},
     "output_type": "execute_result"
    }
   ],
   "source": [
    "np.ones((3,4))"
   ]
  },
  {
   "cell_type": "markdown",
   "metadata": {},
   "source": [
    "# 17. [P] Create an array of 20 values, evenly spaced between 1 and 3 (HINT – look at np.linspace)"
   ]
  },
  {
   "cell_type": "code",
   "execution_count": 41,
   "metadata": {},
   "outputs": [
    {
     "data": {
      "text/plain": [
       "array([1.        , 1.10526316, 1.21052632, 1.31578947, 1.42105263,\n",
       "       1.52631579, 1.63157895, 1.73684211, 1.84210526, 1.94736842,\n",
       "       2.05263158, 2.15789474, 2.26315789, 2.36842105, 2.47368421,\n",
       "       2.57894737, 2.68421053, 2.78947368, 2.89473684, 3.        ])"
      ]
     },
     "execution_count": 41,
     "metadata": {},
     "output_type": "execute_result"
    }
   ],
   "source": [
    "np.linspace(1,3,20)"
   ]
  },
  {
   "cell_type": "markdown",
   "metadata": {},
   "source": [
    "# 18. [P] Set the numpy random seed to the value 12345, then create a 10 x 5 array of random integers on the interval [10, 20)"
   ]
  },
  {
   "cell_type": "code",
   "execution_count": 55,
   "metadata": {},
   "outputs": [
    {
     "data": {
      "text/plain": [
       "array([[12, 15, 11, 14, 19],\n",
       "       [15, 12, 11, 16, 11],\n",
       "       [19, 17, 16, 10, 12],\n",
       "       [19, 11, 12, 16, 17],\n",
       "       [17, 17, 18, 17, 11],\n",
       "       [17, 14, 10, 13, 15],\n",
       "       [17, 13, 11, 15, 12],\n",
       "       [15, 13, 18, 15, 12],\n",
       "       [15, 13, 10, 16, 18],\n",
       "       [10, 15, 16, 18, 19]])"
      ]
     },
     "execution_count": 55,
     "metadata": {},
     "output_type": "execute_result"
    }
   ],
   "source": [
    "np.random.seed(12345)\n",
    "np.random.randint(10,20,(10,5))"
   ]
  },
  {
   "cell_type": "code",
   "execution_count": null,
   "metadata": {},
   "outputs": [],
   "source": []
  }
 ],
 "metadata": {
  "kernelspec": {
   "display_name": "Python 3",
   "language": "python",
   "name": "python3"
  },
  "language_info": {
   "codemirror_mode": {
    "name": "ipython",
    "version": 3
   },
   "file_extension": ".py",
   "mimetype": "text/x-python",
   "name": "python",
   "nbconvert_exporter": "python",
   "pygments_lexer": "ipython3",
   "version": "3.7.4"
  }
 },
 "nbformat": 4,
 "nbformat_minor": 4
}
