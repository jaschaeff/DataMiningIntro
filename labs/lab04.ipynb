{
 "cells": [
  {
   "cell_type": "markdown",
   "metadata": {},
   "source": [
    "# Lab 04 - pandas II\n",
    "\n",
    "Name: Jake Schaeffer  \n",
    "Class: CSCI 349 - Intro to Data Mining  \n",
    "Semester: Spring 2020  \n",
    "Instructor: Brian King\n",
    "\n",
    "pandas documentation used as a reference for most(if not all) exercises"
   ]
  },
  {
   "cell_type": "code",
   "execution_count": 2,
   "metadata": {
    "scrolled": true
   },
   "outputs": [],
   "source": [
    "import sys\n",
    "import numpy as np\n",
    "import pandas as pd"
   ]
  },
  {
   "cell_type": "code",
   "execution_count": 17,
   "metadata": {},
   "outputs": [
    {
     "data": {
      "text/html": [
       "<div>\n",
       "<style scoped>\n",
       "    .dataframe tbody tr th:only-of-type {\n",
       "        vertical-align: middle;\n",
       "    }\n",
       "\n",
       "    .dataframe tbody tr th {\n",
       "        vertical-align: top;\n",
       "    }\n",
       "\n",
       "    .dataframe thead th {\n",
       "        text-align: right;\n",
       "    }\n",
       "</style>\n",
       "<table border=\"1\" class=\"dataframe\">\n",
       "  <thead>\n",
       "    <tr style=\"text-align: right;\">\n",
       "      <th></th>\n",
       "      <th>Mon</th>\n",
       "      <th>Tue</th>\n",
       "      <th>Wed</th>\n",
       "      <th>Thurs</th>\n",
       "      <th>Fri</th>\n",
       "      <th>Student</th>\n",
       "    </tr>\n",
       "  </thead>\n",
       "  <tbody>\n",
       "    <tr>\n",
       "      <th>week_1</th>\n",
       "      <td>9.50</td>\n",
       "      <td>8.75</td>\n",
       "      <td>8.00</td>\n",
       "      <td>10.00</td>\n",
       "      <td>7.75</td>\n",
       "      <td>Bob</td>\n",
       "    </tr>\n",
       "    <tr>\n",
       "      <th>week_1</th>\n",
       "      <td>9.00</td>\n",
       "      <td>8.00</td>\n",
       "      <td>10.00</td>\n",
       "      <td>8.75</td>\n",
       "      <td>7.25</td>\n",
       "      <td>Jane</td>\n",
       "    </tr>\n",
       "    <tr>\n",
       "      <th>week_2</th>\n",
       "      <td>8.50</td>\n",
       "      <td>0.00</td>\n",
       "      <td>9.75</td>\n",
       "      <td>9.00</td>\n",
       "      <td>6.00</td>\n",
       "      <td>Bob</td>\n",
       "    </tr>\n",
       "    <tr>\n",
       "      <th>week_2</th>\n",
       "      <td>7.00</td>\n",
       "      <td>8.25</td>\n",
       "      <td>9.25</td>\n",
       "      <td>0.00</td>\n",
       "      <td>8.00</td>\n",
       "      <td>Jane</td>\n",
       "    </tr>\n",
       "    <tr>\n",
       "      <th>week_3</th>\n",
       "      <td>7.00</td>\n",
       "      <td>8.50</td>\n",
       "      <td>9.25</td>\n",
       "      <td>0.00</td>\n",
       "      <td>0.00</td>\n",
       "      <td>Bob</td>\n",
       "    </tr>\n",
       "    <tr>\n",
       "      <th>week_3</th>\n",
       "      <td>8.50</td>\n",
       "      <td>8.25</td>\n",
       "      <td>9.00</td>\n",
       "      <td>8.00</td>\n",
       "      <td>7.50</td>\n",
       "      <td>Jane</td>\n",
       "    </tr>\n",
       "    <tr>\n",
       "      <th>week_4</th>\n",
       "      <td>9.00</td>\n",
       "      <td>7.00</td>\n",
       "      <td>8.50</td>\n",
       "      <td>8.00</td>\n",
       "      <td>8.00</td>\n",
       "      <td>Bob</td>\n",
       "    </tr>\n",
       "    <tr>\n",
       "      <th>week_4</th>\n",
       "      <td>9.25</td>\n",
       "      <td>9.25</td>\n",
       "      <td>8.50</td>\n",
       "      <td>7.75</td>\n",
       "      <td>7.50</td>\n",
       "      <td>Jane</td>\n",
       "    </tr>\n",
       "  </tbody>\n",
       "</table>\n",
       "</div>"
      ],
      "text/plain": [
       "         Mon   Tue    Wed  Thurs   Fri Student\n",
       "week_1  9.50  8.75   8.00  10.00  7.75     Bob\n",
       "week_1  9.00  8.00  10.00   8.75  7.25    Jane\n",
       "week_2  8.50  0.00   9.75   9.00  6.00     Bob\n",
       "week_2  7.00  8.25   9.25   0.00  8.00    Jane\n",
       "week_3  7.00  8.50   9.25   0.00  0.00     Bob\n",
       "week_3  8.50  8.25   9.00   8.00  7.50    Jane\n",
       "week_4  9.00  7.00   8.50   8.00  8.00     Bob\n",
       "week_4  9.25  9.25   8.50   7.75  7.50    Jane"
      ]
     },
     "execution_count": 17,
     "metadata": {},
     "output_type": "execute_result"
    }
   ],
   "source": [
    "days = [\"Mon\",\"Tue\",\"Wed\",\"Thurs\",\"Fri\",\"Student\"]\n",
    "scores = pd.DataFrame([pd.Series([9.5, 8.75, 8, 10, 7.75, \"Bob\"], index=days, name=\"week_1\"),\n",
    "pd.Series([9, 8, 10, 8.75, 7.25, \"Jane\"], index=days, name=\"week_1\"),\n",
    "pd.Series([8.5, 0, 9.75, 9, 6, \"Bob\"], index=days, name=\"week_2\"),\n",
    "pd.Series([7, 8.25, 9.25, 0, 8, \"Jane\"], index=days, name=\"week_2\"),\n",
    "pd.Series([7, 8.5, 9.25, 0, 0, \"Bob\"], index=days, name=\"week_3\"),\n",
    "pd.Series([8.5, 8.25, 9, 8, 7.5, \"Jane\"], index=days, name=\"week_3\"),\n",
    "pd.Series([9, 7, 8.5, 8, 8, \"Bob\"], index=days, name=\"week_4\"),\n",
    "pd.Series([9.25, 9.25, 8.5, 7.75, 7.5, \"Jane\"], index=days,name=\"week_4\"),])\n",
    "scores"
   ]
  },
  {
   "cell_type": "markdown",
   "metadata": {},
   "source": [
    "### 1) [P] Report the shape, the number of dimensions, the size of the data, and the data types of each column. Print each separately. Then create an additional code cell that shows the results of scores.info()."
   ]
  },
  {
   "cell_type": "code",
   "execution_count": 18,
   "metadata": {},
   "outputs": [
    {
     "name": "stdout",
     "output_type": "stream",
     "text": [
      "scores shape:  (8, 6)\n",
      "scores dimensions:  2\n",
      "scores size:  48\n",
      "scores column Mon type: float64\n",
      "scores column Tue type: float64\n",
      "scores column Wed type: float64\n",
      "scores column Thurs type: float64\n",
      "scores column Fri type: float64\n",
      "scores column Student type: object\n"
     ]
    }
   ],
   "source": [
    "print(\"scores shape: \",scores.shape)\n",
    "print(\"scores dimensions: \",scores.ndim)\n",
    "print(\"scores size: \",scores.size)\n",
    "\n",
    "# i feel like there is  a better way to do this in one line...\n",
    "for i in range(len(days)):\n",
    "    print(\"scores column {} type: {}\".format(days[i],scores.iloc[:,i].dtype))"
   ]
  },
  {
   "cell_type": "code",
   "execution_count": 19,
   "metadata": {},
   "outputs": [
    {
     "name": "stdout",
     "output_type": "stream",
     "text": [
      "<class 'pandas.core.frame.DataFrame'>\n",
      "Index: 8 entries, week_1 to week_4\n",
      "Data columns (total 6 columns):\n",
      "Mon        8 non-null float64\n",
      "Tue        8 non-null float64\n",
      "Wed        8 non-null float64\n",
      "Thurs      8 non-null float64\n",
      "Fri        8 non-null float64\n",
      "Student    8 non-null object\n",
      "dtypes: float64(5), object(1)\n",
      "memory usage: 448.0+ bytes\n"
     ]
    }
   ],
   "source": [
    "scores.info()"
   ]
  },
  {
   "cell_type": "markdown",
   "metadata": {},
   "source": [
    "### 2) [P] Show two different ways to report the number of observations in scores."
   ]
  },
  {
   "cell_type": "code",
   "execution_count": 28,
   "metadata": {},
   "outputs": [
    {
     "name": "stdout",
     "output_type": "stream",
     "text": [
      "number of observations:  8\n",
      "number of observations:  8\n"
     ]
    }
   ],
   "source": [
    "print(\"number of observations: \",len(scores.index))\n",
    "print(\"number of observations: \",scores.shape[0])"
   ]
  },
  {
   "cell_type": "markdown",
   "metadata": {},
   "source": [
    "### 3) [P] Show the variables (i.e. columns) in scores"
   ]
  },
  {
   "cell_type": "code",
   "execution_count": 9,
   "metadata": {},
   "outputs": [
    {
     "data": {
      "text/plain": [
       "Index(['Mon', 'Tue', 'Wed', 'Thurs', 'Fri', 'Student'], dtype='object')"
      ]
     },
     "execution_count": 9,
     "metadata": {},
     "output_type": "execute_result"
    }
   ],
   "source": [
    "scores.columns"
   ]
  },
  {
   "cell_type": "markdown",
   "metadata": {},
   "source": [
    "### 4) [P] There are repetitive names in the index. This happens quite a bit, depending on how the rows are to be named. For now. print the unique index names in scores"
   ]
  },
  {
   "cell_type": "code",
   "execution_count": 10,
   "metadata": {},
   "outputs": [
    {
     "data": {
      "text/plain": [
       "Index(['week_1', 'week_2', 'week_3', 'week_4'], dtype='object')"
      ]
     },
     "execution_count": 10,
     "metadata": {},
     "output_type": "execute_result"
    }
   ],
   "source": [
    "scores.index.drop_duplicates()"
   ]
  },
  {
   "cell_type": "markdown",
   "metadata": {},
   "source": [
    "### 5) [P] Rename the 'Thurs' column header to be 'Thu' . (Hint: Changing scores.columns[3] directly will not work, not to mention it would be a poor approach to hard code a location this way! Magic numbers be bad when referencing index or column locations. They may change!) Show the new scores data frame. This should be the same, except with Thurs changed to Thu."
   ]
  },
  {
   "cell_type": "code",
   "execution_count": 11,
   "metadata": {},
   "outputs": [
    {
     "data": {
      "text/html": [
       "<div>\n",
       "<style scoped>\n",
       "    .dataframe tbody tr th:only-of-type {\n",
       "        vertical-align: middle;\n",
       "    }\n",
       "\n",
       "    .dataframe tbody tr th {\n",
       "        vertical-align: top;\n",
       "    }\n",
       "\n",
       "    .dataframe thead th {\n",
       "        text-align: right;\n",
       "    }\n",
       "</style>\n",
       "<table border=\"1\" class=\"dataframe\">\n",
       "  <thead>\n",
       "    <tr style=\"text-align: right;\">\n",
       "      <th></th>\n",
       "      <th>Mon</th>\n",
       "      <th>Tue</th>\n",
       "      <th>Wed</th>\n",
       "      <th>Thu</th>\n",
       "      <th>Fri</th>\n",
       "      <th>Student</th>\n",
       "    </tr>\n",
       "  </thead>\n",
       "  <tbody>\n",
       "    <tr>\n",
       "      <th>week_1</th>\n",
       "      <td>9.50</td>\n",
       "      <td>8.75</td>\n",
       "      <td>8.00</td>\n",
       "      <td>10.00</td>\n",
       "      <td>7.75</td>\n",
       "      <td>Bob</td>\n",
       "    </tr>\n",
       "    <tr>\n",
       "      <th>week_1</th>\n",
       "      <td>9.00</td>\n",
       "      <td>8.00</td>\n",
       "      <td>10.00</td>\n",
       "      <td>8.75</td>\n",
       "      <td>7.25</td>\n",
       "      <td>Jane</td>\n",
       "    </tr>\n",
       "    <tr>\n",
       "      <th>week_2</th>\n",
       "      <td>8.50</td>\n",
       "      <td>0.00</td>\n",
       "      <td>9.75</td>\n",
       "      <td>9.00</td>\n",
       "      <td>6.00</td>\n",
       "      <td>Bob</td>\n",
       "    </tr>\n",
       "    <tr>\n",
       "      <th>week_2</th>\n",
       "      <td>7.00</td>\n",
       "      <td>8.25</td>\n",
       "      <td>9.25</td>\n",
       "      <td>0.00</td>\n",
       "      <td>8.00</td>\n",
       "      <td>Jane</td>\n",
       "    </tr>\n",
       "    <tr>\n",
       "      <th>week_3</th>\n",
       "      <td>7.00</td>\n",
       "      <td>8.50</td>\n",
       "      <td>9.25</td>\n",
       "      <td>0.00</td>\n",
       "      <td>0.00</td>\n",
       "      <td>Bob</td>\n",
       "    </tr>\n",
       "    <tr>\n",
       "      <th>week_3</th>\n",
       "      <td>8.50</td>\n",
       "      <td>8.25</td>\n",
       "      <td>9.00</td>\n",
       "      <td>8.00</td>\n",
       "      <td>7.50</td>\n",
       "      <td>Jane</td>\n",
       "    </tr>\n",
       "    <tr>\n",
       "      <th>week_4</th>\n",
       "      <td>9.00</td>\n",
       "      <td>7.00</td>\n",
       "      <td>8.50</td>\n",
       "      <td>8.00</td>\n",
       "      <td>8.00</td>\n",
       "      <td>Bob</td>\n",
       "    </tr>\n",
       "    <tr>\n",
       "      <th>week_4</th>\n",
       "      <td>9.25</td>\n",
       "      <td>9.25</td>\n",
       "      <td>8.50</td>\n",
       "      <td>7.75</td>\n",
       "      <td>7.50</td>\n",
       "      <td>Jane</td>\n",
       "    </tr>\n",
       "  </tbody>\n",
       "</table>\n",
       "</div>"
      ],
      "text/plain": [
       "         Mon   Tue    Wed    Thu   Fri Student\n",
       "week_1  9.50  8.75   8.00  10.00  7.75     Bob\n",
       "week_1  9.00  8.00  10.00   8.75  7.25    Jane\n",
       "week_2  8.50  0.00   9.75   9.00  6.00     Bob\n",
       "week_2  7.00  8.25   9.25   0.00  8.00    Jane\n",
       "week_3  7.00  8.50   9.25   0.00  0.00     Bob\n",
       "week_3  8.50  8.25   9.00   8.00  7.50    Jane\n",
       "week_4  9.00  7.00   8.50   8.00  8.00     Bob\n",
       "week_4  9.25  9.25   8.50   7.75  7.50    Jane"
      ]
     },
     "execution_count": 11,
     "metadata": {},
     "output_type": "execute_result"
    }
   ],
   "source": [
    "scores = scores.rename(columns = {\"Thurs\": \"Thu\"})\n",
    "scores"
   ]
  },
  {
   "cell_type": "markdown",
   "metadata": {},
   "source": [
    "### 6) [P] Now, make a bigger change. Let's rename 'week_1' to be 'w1', 'week_2' to be 'w2', and so on.Also, suppose you decide to use only 2 letter abbreviations for the days. Rename the days in the column names to be 'Mo', 'Tu', 'We', 'Th', 'Fr'. Your new scores should appear as follows:"
   ]
  },
  {
   "cell_type": "code",
   "execution_count": 12,
   "metadata": {},
   "outputs": [
    {
     "data": {
      "text/html": [
       "<div>\n",
       "<style scoped>\n",
       "    .dataframe tbody tr th:only-of-type {\n",
       "        vertical-align: middle;\n",
       "    }\n",
       "\n",
       "    .dataframe tbody tr th {\n",
       "        vertical-align: top;\n",
       "    }\n",
       "\n",
       "    .dataframe thead th {\n",
       "        text-align: right;\n",
       "    }\n",
       "</style>\n",
       "<table border=\"1\" class=\"dataframe\">\n",
       "  <thead>\n",
       "    <tr style=\"text-align: right;\">\n",
       "      <th></th>\n",
       "      <th>Mo</th>\n",
       "      <th>Tu</th>\n",
       "      <th>We</th>\n",
       "      <th>Th</th>\n",
       "      <th>Fr</th>\n",
       "      <th>Student</th>\n",
       "    </tr>\n",
       "  </thead>\n",
       "  <tbody>\n",
       "    <tr>\n",
       "      <th>w1</th>\n",
       "      <td>9.50</td>\n",
       "      <td>8.75</td>\n",
       "      <td>8.00</td>\n",
       "      <td>10.00</td>\n",
       "      <td>7.75</td>\n",
       "      <td>Bob</td>\n",
       "    </tr>\n",
       "    <tr>\n",
       "      <th>w1</th>\n",
       "      <td>9.00</td>\n",
       "      <td>8.00</td>\n",
       "      <td>10.00</td>\n",
       "      <td>8.75</td>\n",
       "      <td>7.25</td>\n",
       "      <td>Jane</td>\n",
       "    </tr>\n",
       "    <tr>\n",
       "      <th>w2</th>\n",
       "      <td>8.50</td>\n",
       "      <td>0.00</td>\n",
       "      <td>9.75</td>\n",
       "      <td>9.00</td>\n",
       "      <td>6.00</td>\n",
       "      <td>Bob</td>\n",
       "    </tr>\n",
       "    <tr>\n",
       "      <th>w2</th>\n",
       "      <td>7.00</td>\n",
       "      <td>8.25</td>\n",
       "      <td>9.25</td>\n",
       "      <td>0.00</td>\n",
       "      <td>8.00</td>\n",
       "      <td>Jane</td>\n",
       "    </tr>\n",
       "    <tr>\n",
       "      <th>w3</th>\n",
       "      <td>7.00</td>\n",
       "      <td>8.50</td>\n",
       "      <td>9.25</td>\n",
       "      <td>0.00</td>\n",
       "      <td>0.00</td>\n",
       "      <td>Bob</td>\n",
       "    </tr>\n",
       "    <tr>\n",
       "      <th>w3</th>\n",
       "      <td>8.50</td>\n",
       "      <td>8.25</td>\n",
       "      <td>9.00</td>\n",
       "      <td>8.00</td>\n",
       "      <td>7.50</td>\n",
       "      <td>Jane</td>\n",
       "    </tr>\n",
       "    <tr>\n",
       "      <th>w4</th>\n",
       "      <td>9.00</td>\n",
       "      <td>7.00</td>\n",
       "      <td>8.50</td>\n",
       "      <td>8.00</td>\n",
       "      <td>8.00</td>\n",
       "      <td>Bob</td>\n",
       "    </tr>\n",
       "    <tr>\n",
       "      <th>w4</th>\n",
       "      <td>9.25</td>\n",
       "      <td>9.25</td>\n",
       "      <td>8.50</td>\n",
       "      <td>7.75</td>\n",
       "      <td>7.50</td>\n",
       "      <td>Jane</td>\n",
       "    </tr>\n",
       "  </tbody>\n",
       "</table>\n",
       "</div>"
      ],
      "text/plain": [
       "      Mo    Tu     We     Th    Fr Student\n",
       "w1  9.50  8.75   8.00  10.00  7.75     Bob\n",
       "w1  9.00  8.00  10.00   8.75  7.25    Jane\n",
       "w2  8.50  0.00   9.75   9.00  6.00     Bob\n",
       "w2  7.00  8.25   9.25   0.00  8.00    Jane\n",
       "w3  7.00  8.50   9.25   0.00  0.00     Bob\n",
       "w3  8.50  8.25   9.00   8.00  7.50    Jane\n",
       "w4  9.00  7.00   8.50   8.00  8.00     Bob\n",
       "w4  9.25  9.25   8.50   7.75  7.50    Jane"
      ]
     },
     "execution_count": 12,
     "metadata": {},
     "output_type": "execute_result"
    }
   ],
   "source": [
    "scores = scores.rename(columns = {\"Mon\":\"Mo\",\"Tue\":\"Tu\",\"Wed\":\"We\",\"Thu\":\"Th\",\"Fri\":\"Fr\"},index = {\"week_1\":\"w1\",\"week_2\":\"w2\",\"week_3\":\"w3\",\"week_4\":\"w4\"})\n",
    "scores"
   ]
  },
  {
   "cell_type": "markdown",
   "metadata": {},
   "source": [
    "### 7) [P] Compare the type of the expression scores['Mo'] vs. scores[['Mo']]. What is the difference?\n",
    "(HINT: use the type() Python function on both.)\n",
    "Read about the describe() method of data frames. (FYI - This is essentially the equivalent to the summary()\n",
    "function in R.)"
   ]
  },
  {
   "cell_type": "code",
   "execution_count": 13,
   "metadata": {},
   "outputs": [
    {
     "name": "stdout",
     "output_type": "stream",
     "text": [
      "<class 'pandas.core.series.Series'>\n",
      "<class 'pandas.core.frame.DataFrame'>\n",
      "the first is a series and the second is a dataframe\n"
     ]
    }
   ],
   "source": [
    "print(type(scores[\"Mo\"]))\n",
    "print(type(scores[[\"Mo\"]]))\n",
    "\n",
    "print(\"the first is a series and the second is a dataframe\")"
   ]
  },
  {
   "cell_type": "markdown",
   "metadata": {},
   "source": [
    "### 8) [P] Demonstrate the describe() method on scores. What type does it return?\n",
    "From your observations of\n",
    "the output, which day had the largest standard deviation in quiz scores? (You can just hard code the answer to\n",
    "this question. You'll write code to do this next.)"
   ]
  },
  {
   "cell_type": "code",
   "execution_count": 14,
   "metadata": {},
   "outputs": [
    {
     "name": "stdout",
     "output_type": "stream",
     "text": [
      "             Mo      Tu         We         Th        Fr\n",
      "count  8.000000  8.0000   8.000000   8.000000  8.000000\n",
      "mean   8.468750  7.2500   9.031250   6.437500  6.500000\n",
      "std    0.967669  3.0000   0.673974   4.037215  2.702512\n",
      "min    7.000000  0.0000   8.000000   0.000000  0.000000\n",
      "25%    8.125000  7.7500   8.500000   5.812500  6.937500\n",
      "50%    8.750000  8.2500   9.125000   8.000000  7.500000\n",
      "75%    9.062500  8.5625   9.375000   8.812500  7.812500\n",
      "max    9.500000  9.2500  10.000000  10.000000  8.000000\n",
      "\n",
      " this returns type:  <class 'pandas.core.frame.DataFrame'>\n",
      "\n",
      "Thursday has highest std dev\n"
     ]
    }
   ],
   "source": [
    "print(scores.describe())\n",
    "\n",
    "print(\"\\n this returns type: \",type(scores.describe()))\n",
    "\n",
    "print(\"\\nThursday has highest std dev\")"
   ]
  },
  {
   "cell_type": "markdown",
   "metadata": {},
   "source": [
    "### 9) [P] While you could look at the output of describe() and infer information, it's more important to write code to output the specific results you are looking for. Write the Python code that shows the largest standard deviation and the day it occurred without using describe().\n",
    "OK. Take a moment and look over that output. If you've been doing everything correctly, then that result should be\n",
    "~4.0372 occurring on Thursday, and that is way too large! Think back to your stats course. What does standard\n",
    "deviation mean? It's the deviation from the mean! That's a large spread in the data! Why? There are two missing\n",
    "values represented by 0 that are being used to compute the deviation, and that's not what we want. Missing data\n",
    "are usually not included with summary statistics (and many other calculations!) We need to deal with missing data\n",
    "properly. So, instead, when we have missing values in data, we almost always use a na.nan value in its place to represent that the data is missing in that specific cell."
   ]
  },
  {
   "cell_type": "code",
   "execution_count": 15,
   "metadata": {},
   "outputs": [
    {
     "name": "stdout",
     "output_type": "stream",
     "text": [
      "the largest standard deviation was about 4.04 on Th\n"
     ]
    }
   ],
   "source": [
    "std = scores.std(axis = 0)\n",
    "print(\"the largest standard deviation was about {0:.2f} on {1}\".format(std.max(),std.idxmax()))\n"
   ]
  },
  {
   "cell_type": "markdown",
   "metadata": {},
   "source": [
    "### 10) [P] Write the code that changes all 0.0 entries to np.nan. \n",
    "(NOTE: You should be able to do this with just\n",
    "one line of code using pandas selection techniques!) Then, show scores. All 0.0 entries should be replaced\n",
    "with NaN in the output.\n",
    "At this point, now you need to start paying attention to NaN values in your data. These represent missing values,\n",
    "and are important to ignore in most calculations, especially preliminary EDA. We will learn about many techniques\n",
    "for dealing with missing values soon. Many functions will have an optional parameter such as skipna to make\n",
    "sure that whatever you are trying to do does not include these missing data. Pay attention to those parameters.\n",
    "Most of the time, the default parameter values for handling NaN values is to skip or ignore them."
   ]
  },
  {
   "cell_type": "code",
   "execution_count": 16,
   "metadata": {},
   "outputs": [
    {
     "data": {
      "text/html": [
       "<div>\n",
       "<style scoped>\n",
       "    .dataframe tbody tr th:only-of-type {\n",
       "        vertical-align: middle;\n",
       "    }\n",
       "\n",
       "    .dataframe tbody tr th {\n",
       "        vertical-align: top;\n",
       "    }\n",
       "\n",
       "    .dataframe thead th {\n",
       "        text-align: right;\n",
       "    }\n",
       "</style>\n",
       "<table border=\"1\" class=\"dataframe\">\n",
       "  <thead>\n",
       "    <tr style=\"text-align: right;\">\n",
       "      <th></th>\n",
       "      <th>Mo</th>\n",
       "      <th>Tu</th>\n",
       "      <th>We</th>\n",
       "      <th>Th</th>\n",
       "      <th>Fr</th>\n",
       "      <th>Student</th>\n",
       "    </tr>\n",
       "  </thead>\n",
       "  <tbody>\n",
       "    <tr>\n",
       "      <th>w1</th>\n",
       "      <td>9.50</td>\n",
       "      <td>8.75</td>\n",
       "      <td>8.00</td>\n",
       "      <td>10.00</td>\n",
       "      <td>7.75</td>\n",
       "      <td>Bob</td>\n",
       "    </tr>\n",
       "    <tr>\n",
       "      <th>w1</th>\n",
       "      <td>9.00</td>\n",
       "      <td>8.00</td>\n",
       "      <td>10.00</td>\n",
       "      <td>8.75</td>\n",
       "      <td>7.25</td>\n",
       "      <td>Jane</td>\n",
       "    </tr>\n",
       "    <tr>\n",
       "      <th>w2</th>\n",
       "      <td>8.50</td>\n",
       "      <td>NaN</td>\n",
       "      <td>9.75</td>\n",
       "      <td>9.00</td>\n",
       "      <td>6.00</td>\n",
       "      <td>Bob</td>\n",
       "    </tr>\n",
       "    <tr>\n",
       "      <th>w2</th>\n",
       "      <td>7.00</td>\n",
       "      <td>8.25</td>\n",
       "      <td>9.25</td>\n",
       "      <td>NaN</td>\n",
       "      <td>8.00</td>\n",
       "      <td>Jane</td>\n",
       "    </tr>\n",
       "    <tr>\n",
       "      <th>w3</th>\n",
       "      <td>7.00</td>\n",
       "      <td>8.50</td>\n",
       "      <td>9.25</td>\n",
       "      <td>NaN</td>\n",
       "      <td>NaN</td>\n",
       "      <td>Bob</td>\n",
       "    </tr>\n",
       "    <tr>\n",
       "      <th>w3</th>\n",
       "      <td>8.50</td>\n",
       "      <td>8.25</td>\n",
       "      <td>9.00</td>\n",
       "      <td>8.00</td>\n",
       "      <td>7.50</td>\n",
       "      <td>Jane</td>\n",
       "    </tr>\n",
       "    <tr>\n",
       "      <th>w4</th>\n",
       "      <td>9.00</td>\n",
       "      <td>7.00</td>\n",
       "      <td>8.50</td>\n",
       "      <td>8.00</td>\n",
       "      <td>8.00</td>\n",
       "      <td>Bob</td>\n",
       "    </tr>\n",
       "    <tr>\n",
       "      <th>w4</th>\n",
       "      <td>9.25</td>\n",
       "      <td>9.25</td>\n",
       "      <td>8.50</td>\n",
       "      <td>7.75</td>\n",
       "      <td>7.50</td>\n",
       "      <td>Jane</td>\n",
       "    </tr>\n",
       "  </tbody>\n",
       "</table>\n",
       "</div>"
      ],
      "text/plain": [
       "      Mo    Tu     We     Th    Fr Student\n",
       "w1  9.50  8.75   8.00  10.00  7.75     Bob\n",
       "w1  9.00  8.00  10.00   8.75  7.25    Jane\n",
       "w2  8.50   NaN   9.75   9.00  6.00     Bob\n",
       "w2  7.00  8.25   9.25    NaN  8.00    Jane\n",
       "w3  7.00  8.50   9.25    NaN   NaN     Bob\n",
       "w3  8.50  8.25   9.00   8.00  7.50    Jane\n",
       "w4  9.00  7.00   8.50   8.00  8.00     Bob\n",
       "w4  9.25  9.25   8.50   7.75  7.50    Jane"
      ]
     },
     "execution_count": 16,
     "metadata": {},
     "output_type": "execute_result"
    }
   ],
   "source": [
    "scores = scores.replace(0,np.nan) # could also have done inplace = True so we wouldn't have to write scores = \n",
    "scores"
   ]
  },
  {
   "cell_type": "markdown",
   "metadata": {},
   "source": [
    "### 11) [P] Show the output of describe() again. \n",
    "Yes, this is better! Note how much more informative this output\n",
    "is when properly dealing with missing data. Copy your code from above to output the day with the largest\n",
    "standard deviation in quiz scores. You should have a substantially different result than you did before!"
   ]
  },
  {
   "cell_type": "code",
   "execution_count": 17,
   "metadata": {},
   "outputs": [
    {
     "name": "stdout",
     "output_type": "stream",
     "text": [
      "             Mo        Tu         We         Th        Fr\n",
      "count  8.000000  7.000000   8.000000   6.000000  7.000000\n",
      "mean   8.468750  8.285714   9.031250   8.583333  7.428571\n",
      "std    0.967669  0.698638   0.673974   0.846562  0.687906\n",
      "min    7.000000  7.000000   8.000000   7.750000  6.000000\n",
      "25%    8.125000  8.125000   8.500000   8.000000  7.375000\n",
      "50%    8.750000  8.250000   9.125000   8.375000  7.500000\n",
      "75%    9.062500  8.625000   9.375000   8.937500  7.875000\n",
      "max    9.500000  9.250000  10.000000  10.000000  8.000000\n",
      "\n",
      "the largest standard deviation was about 0.97 on Mo\n"
     ]
    }
   ],
   "source": [
    "print(scores.describe())\n",
    "std = scores.std(axis = 0)\n",
    "print(\"\\nthe largest standard deviation was about {0:.2f} on {1}\".format(std.max(),std.idxmax()))"
   ]
  },
  {
   "cell_type": "markdown",
   "metadata": {},
   "source": [
    "### 12) [P] Show the output of scores.values. What does the .values attribute do?"
   ]
  },
  {
   "cell_type": "code",
   "execution_count": 18,
   "metadata": {},
   "outputs": [
    {
     "name": "stdout",
     "output_type": "stream",
     "text": [
      "[[9.5 8.75 8.0 10.0 7.75 'Bob']\n",
      " [9.0 8.0 10.0 8.75 7.25 'Jane']\n",
      " [8.5 nan 9.75 9.0 6.0 'Bob']\n",
      " [7.0 8.25 9.25 nan 8.0 'Jane']\n",
      " [7.0 8.5 9.25 nan nan 'Bob']\n",
      " [8.5 8.25 9.0 8.0 7.5 'Jane']\n",
      " [9.0 7.0 8.5 8.0 8.0 'Bob']\n",
      " [9.25 9.25 8.5 7.75 7.5 'Jane']]\n",
      "\n",
      " this outputs scores as a 2d numpy array\n"
     ]
    }
   ],
   "source": [
    "print(scores.values)\n",
    "print(\"\\n this outputs scores as a 2d numpy array\")"
   ]
  },
  {
   "cell_type": "markdown",
   "metadata": {},
   "source": [
    "### 13) [P] What is the mean quiz score for each day? Do not use describe()"
   ]
  },
  {
   "cell_type": "code",
   "execution_count": 19,
   "metadata": {},
   "outputs": [
    {
     "data": {
      "text/plain": [
       "Mo    8.468750\n",
       "Tu    8.285714\n",
       "We    9.031250\n",
       "Th    8.583333\n",
       "Fr    7.428571\n",
       "dtype: float64"
      ]
     },
     "execution_count": 19,
     "metadata": {},
     "output_type": "execute_result"
    }
   ],
   "source": [
    "scores.mean() # could put in axis = 0  but it will default to that because it is finding means over the index/rows to get a mean for each column\n",
    "# also skips nan by default"
   ]
  },
  {
   "cell_type": "markdown",
   "metadata": {},
   "source": [
    "### 14) [P] What is the mean quiz score over the entire dataset?\n",
    "(HINT: there are many ways to do this, and none\n",
    "should involve writing any loops! The only right answer is 8.375. If you aren't getting that, then you are not\n",
    "handling NaN values correctly. You only want the mean over all scores that are NOT NaN!)"
   ]
  },
  {
   "cell_type": "code",
   "execution_count": 20,
   "metadata": {},
   "outputs": [
    {
     "data": {
      "text/plain": [
       "8.375"
      ]
     },
     "execution_count": 20,
     "metadata": {},
     "output_type": "execute_result"
    }
   ],
   "source": [
    "# get the mean of all the means \n",
    "scores.loc[:,\"Mo\":\"Fr\"].stack().mean() \n",
    "\n",
    "#in order to not overweight columns with more nan values (less actual values), we cant just do .mean().mean(). instead, we use loc to not include names\n",
    "# then use stack() to make it 1 dimensional. a series. then we can get the mean with every nominal value having equal weight. skipna is True by default so we don't need to include that\n",
    "# because we are converting it to a series, we can not use the numeric_only arg for .mean(), so we have to do the .loc"
   ]
  },
  {
   "cell_type": "markdown",
   "metadata": {},
   "source": [
    "### 15) [P] Now, show the mean for each week over all students. \n",
    "Again, you are not counting missing quizzes into the\n",
    "average. (Yes, technically you could write a loop to compute this exhaustively. However, you should rarely\n",
    "need to do that. Use pandas!)\n",
    "You have the correct result if you report the following (shown with 5 places of significant digits):"
   ]
  },
  {
   "cell_type": "code",
   "execution_count": 21,
   "metadata": {},
   "outputs": [
    {
     "name": "stdout",
     "output_type": "stream",
     "text": [
      "Mean for each week:\n"
     ]
    },
    {
     "data": {
      "text/plain": [
       "w1    8.70000\n",
       "w2    8.21875\n",
       "w3    8.25000\n",
       "w4    8.27500\n",
       "dtype: float64"
      ]
     },
     "execution_count": 21,
     "metadata": {},
     "output_type": "execute_result"
    }
   ],
   "source": [
    "print(\"Mean for each week:\")\n",
    "scores.mean(axis = 1).groupby(level = 0).mean()\n",
    "# we get the mean for each week, separated, then combine means for same week by grouping by index and combining by taking the mean"
   ]
  },
  {
   "cell_type": "markdown",
   "metadata": {},
   "source": [
    "### 16) [P] Select the data frame for only Monday and Student variables using .loc, and again using .iloc"
   ]
  },
  {
   "cell_type": "code",
   "execution_count": 22,
   "metadata": {},
   "outputs": [
    {
     "name": "stdout",
     "output_type": "stream",
     "text": [
      "select monday and student using loc : \n",
      "       Mo Student\n",
      "w1  9.50     Bob\n",
      "w1  9.00    Jane\n",
      "w2  8.50     Bob\n",
      "w2  7.00    Jane\n",
      "w3  7.00     Bob\n",
      "w3  8.50    Jane\n",
      "w4  9.00     Bob\n",
      "w4  9.25    Jane\n",
      "select monday and student using iloc : \n",
      "       Mo Student\n",
      "w1  9.50     Bob\n",
      "w1  9.00    Jane\n",
      "w2  8.50     Bob\n",
      "w2  7.00    Jane\n",
      "w3  7.00     Bob\n",
      "w3  8.50    Jane\n",
      "w4  9.00     Bob\n",
      "w4  9.25    Jane\n"
     ]
    }
   ],
   "source": [
    "print(\"select monday and student using loc : \\n\" ,scores.loc[:,[\"Mo\",\"Student\"]])\n",
    "print(\"select monday and student using iloc : \\n\" ,scores.iloc[:,[0,-1]])"
   ]
  },
  {
   "cell_type": "markdown",
   "metadata": {},
   "source": [
    "### 17) [P] Show a new DataFrame containing the week as an index (like the original), but the mean of their scoresand the count of the quizzes they took. Your result should look as follows:"
   ]
  },
  {
   "cell_type": "code",
   "execution_count": 23,
   "metadata": {},
   "outputs": [
    {
     "data": {
      "text/html": [
       "<div>\n",
       "<style scoped>\n",
       "    .dataframe tbody tr th:only-of-type {\n",
       "        vertical-align: middle;\n",
       "    }\n",
       "\n",
       "    .dataframe tbody tr th {\n",
       "        vertical-align: top;\n",
       "    }\n",
       "\n",
       "    .dataframe thead th {\n",
       "        text-align: right;\n",
       "    }\n",
       "</style>\n",
       "<table border=\"1\" class=\"dataframe\">\n",
       "  <thead>\n",
       "    <tr style=\"text-align: right;\">\n",
       "      <th></th>\n",
       "      <th>Student</th>\n",
       "      <th>count</th>\n",
       "      <th>mean</th>\n",
       "    </tr>\n",
       "  </thead>\n",
       "  <tbody>\n",
       "    <tr>\n",
       "      <th>w1</th>\n",
       "      <td>Bob</td>\n",
       "      <td>6</td>\n",
       "      <td>8.8000</td>\n",
       "    </tr>\n",
       "    <tr>\n",
       "      <th>w1</th>\n",
       "      <td>Jane</td>\n",
       "      <td>6</td>\n",
       "      <td>8.6000</td>\n",
       "    </tr>\n",
       "    <tr>\n",
       "      <th>w2</th>\n",
       "      <td>Bob</td>\n",
       "      <td>5</td>\n",
       "      <td>8.3125</td>\n",
       "    </tr>\n",
       "    <tr>\n",
       "      <th>w2</th>\n",
       "      <td>Jane</td>\n",
       "      <td>5</td>\n",
       "      <td>8.1250</td>\n",
       "    </tr>\n",
       "    <tr>\n",
       "      <th>w3</th>\n",
       "      <td>Bob</td>\n",
       "      <td>4</td>\n",
       "      <td>8.2500</td>\n",
       "    </tr>\n",
       "    <tr>\n",
       "      <th>w3</th>\n",
       "      <td>Jane</td>\n",
       "      <td>6</td>\n",
       "      <td>8.2500</td>\n",
       "    </tr>\n",
       "    <tr>\n",
       "      <th>w4</th>\n",
       "      <td>Bob</td>\n",
       "      <td>6</td>\n",
       "      <td>8.1000</td>\n",
       "    </tr>\n",
       "    <tr>\n",
       "      <th>w4</th>\n",
       "      <td>Jane</td>\n",
       "      <td>6</td>\n",
       "      <td>8.4500</td>\n",
       "    </tr>\n",
       "  </tbody>\n",
       "</table>\n",
       "</div>"
      ],
      "text/plain": [
       "   Student  count    mean\n",
       "w1     Bob      6  8.8000\n",
       "w1    Jane      6  8.6000\n",
       "w2     Bob      5  8.3125\n",
       "w2    Jane      5  8.1250\n",
       "w3     Bob      4  8.2500\n",
       "w3    Jane      6  8.2500\n",
       "w4     Bob      6  8.1000\n",
       "w4    Jane      6  8.4500"
      ]
     },
     "execution_count": 23,
     "metadata": {},
     "output_type": "execute_result"
    }
   ],
   "source": [
    "students = scores.loc[:,\"Student\"]\n",
    "count = scores.count(axis = 1).rename(\"count\")\n",
    "means = scores.mean(axis = 1 ).rename(\"mean\")\n",
    "                            \n",
    "pd.concat([students,count,means],axis = 1)\n",
    "\n",
    "# axis  = 1 means we are going through columns\n",
    "# axis =1 for mean gives a mean for a row because it goes through all of that row's columns\n",
    "# we make each part into a series then concatenate by column (we add each as a new column)"
   ]
  },
  {
   "cell_type": "markdown",
   "metadata": {},
   "source": [
    "### 18) [P] Show the number of times Friday's score was greater than 7.25 for each student. Start by selecting your data with the [ ] operator. Your result should look as follows:"
   ]
  },
  {
   "cell_type": "code",
   "execution_count": 68,
   "metadata": {},
   "outputs": [
    {
     "data": {
      "text/html": [
       "<div>\n",
       "<style scoped>\n",
       "    .dataframe tbody tr th:only-of-type {\n",
       "        vertical-align: middle;\n",
       "    }\n",
       "\n",
       "    .dataframe tbody tr th {\n",
       "        vertical-align: top;\n",
       "    }\n",
       "\n",
       "    .dataframe thead th {\n",
       "        text-align: right;\n",
       "    }\n",
       "</style>\n",
       "<table border=\"1\" class=\"dataframe\">\n",
       "  <thead>\n",
       "    <tr style=\"text-align: right;\">\n",
       "      <th></th>\n",
       "      <th>Fr</th>\n",
       "    </tr>\n",
       "    <tr>\n",
       "      <th>Student</th>\n",
       "      <th></th>\n",
       "    </tr>\n",
       "  </thead>\n",
       "  <tbody>\n",
       "    <tr>\n",
       "      <th>Bob</th>\n",
       "      <td>2.0</td>\n",
       "    </tr>\n",
       "    <tr>\n",
       "      <th>Jane</th>\n",
       "      <td>3.0</td>\n",
       "    </tr>\n",
       "  </tbody>\n",
       "</table>\n",
       "</div>"
      ],
      "text/plain": [
       "          Fr\n",
       "Student     \n",
       "Bob      2.0\n",
       "Jane     3.0"
      ]
     },
     "execution_count": 68,
     "metadata": {},
     "output_type": "execute_result"
    }
   ],
   "source": [
    "#worked with Matt McLaughlin\n",
    "friday = scores.loc[:,[\"Fr\",\"Student\"]] #get only the things we are using (Friday scores and student names)\n",
    "friday.loc[:,\"Fr\"]  = friday.loc[:,\"Fr\"] > 7.25 # make scores booleans\n",
    "friday.groupby(by = \"Student\").sum() # sum trues for each name by grouping booleans by student then summing"
   ]
  },
  {
   "cell_type": "markdown",
   "metadata": {},
   "source": [
    "### 19) [P] Use the where() method on scores to repeat the previous exercise. \n",
    "(HINT: You might need to use\n",
    "dropna()). You should have the same output"
   ]
  },
  {
   "cell_type": "code",
   "execution_count": 87,
   "metadata": {},
   "outputs": [
    {
     "data": {
      "text/html": [
       "<div>\n",
       "<style scoped>\n",
       "    .dataframe tbody tr th:only-of-type {\n",
       "        vertical-align: middle;\n",
       "    }\n",
       "\n",
       "    .dataframe tbody tr th {\n",
       "        vertical-align: top;\n",
       "    }\n",
       "\n",
       "    .dataframe thead th {\n",
       "        text-align: right;\n",
       "    }\n",
       "</style>\n",
       "<table border=\"1\" class=\"dataframe\">\n",
       "  <thead>\n",
       "    <tr style=\"text-align: right;\">\n",
       "      <th></th>\n",
       "      <th>Fr</th>\n",
       "    </tr>\n",
       "    <tr>\n",
       "      <th>Student</th>\n",
       "      <th></th>\n",
       "    </tr>\n",
       "  </thead>\n",
       "  <tbody>\n",
       "    <tr>\n",
       "      <th>Bob</th>\n",
       "      <td>2</td>\n",
       "    </tr>\n",
       "    <tr>\n",
       "      <th>Jane</th>\n",
       "      <td>3</td>\n",
       "    </tr>\n",
       "  </tbody>\n",
       "</table>\n",
       "</div>"
      ],
      "text/plain": [
       "         Fr\n",
       "Student    \n",
       "Bob       2\n",
       "Jane      3"
      ]
     },
     "execution_count": 87,
     "metadata": {},
     "output_type": "execute_result"
    }
   ],
   "source": [
    "#worked with Matt McLaughlin\n",
    "friday = scores.loc[:,[\"Fr\",\"Student\"]] #get only the things we are using (Friday scores and student names)\n",
    "friday.where(friday[\"Fr\"] > 7.25).groupby(by = \"Student\").count()\n",
    "\n",
    "#dropna not necessary in this specific case, but would be good to include before .groupby for more general use"
   ]
  },
  {
   "cell_type": "markdown",
   "metadata": {},
   "source": [
    "20) [P] Select the scores that were greater than the mean score over the entire dataset (without the missing\n",
    "values). Again, no hard coding values here (i.e. do NOT hard code the mean, but recompute it. Then, report\n",
    "the number of scores for each day that exceeded that global mean. Your result should look like:\n",
    "\n",
    "This suggests that Wednesday seems to have the best quiz performance, whereas Friday... not so much."
   ]
  },
  {
   "cell_type": "code",
   "execution_count": null,
   "metadata": {},
   "outputs": [],
   "source": [
    "#worked with Matt McLaughlin\n",
    "scoresNoName = scores.loc[:,\"Mo\":\"Fr\"]\n",
    "totalMean = scoresNoName.stack().mean()\n",
    "scoresNoName.where(scoresNoName > totalMean).count()"
   ]
  },
  {
   "cell_type": "code",
   "execution_count": null,
   "metadata": {},
   "outputs": [],
   "source": []
  }
 ],
 "metadata": {
  "kernelspec": {
   "display_name": "Python 3",
   "language": "python",
   "name": "python3"
  },
  "language_info": {
   "codemirror_mode": {
    "name": "ipython",
    "version": 3
   },
   "file_extension": ".py",
   "mimetype": "text/x-python",
   "name": "python",
   "nbconvert_exporter": "python",
   "pygments_lexer": "ipython3",
   "version": "3.7.6"
  }
 },
 "nbformat": 4,
 "nbformat_minor": 4
}
