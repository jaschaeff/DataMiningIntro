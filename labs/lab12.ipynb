{
 "cells": [
  {
   "cell_type": "markdown",
   "metadata": {},
   "source": [
    "# Lab 12 - Hyperparameter Tuning\n",
    "#### Name: Jake Schaeffer\n",
    "#### Class: CSCI 349 - Intro to Data Mining\n",
    "#### Semester: Spring 2020\n",
    "#### Instructor: Brian King"
   ]
  },
  {
   "cell_type": "code",
   "execution_count": 32,
   "metadata": {},
   "outputs": [],
   "source": [
    "from sklearn.datasets import load_wine\n",
    "import pandas as pd"
   ]
  },
  {
   "cell_type": "markdown",
   "metadata": {},
   "source": [
    "#### 1) Read in the wine data frame using the code given above. It also gives you the names of the variables, which should align according to the data information given on the UCI web page."
   ]
  },
  {
   "cell_type": "code",
   "execution_count": 33,
   "metadata": {},
   "outputs": [],
   "source": [
    "names = [\"alcohol\",\"malic_acid\",\"ash\",\"alcalinity\",\"Mg\",\"tot_phenols\",\"flavanoids\",\n",
    "\"non_flav_phenols\",\"proanthocyanins\",\"color_intensity\",\n",
    "\"hue\",\"OD\",\"proline\"]\n",
    "df_wine = pd.DataFrame(load_wine().data, columns = names)"
   ]
  },
  {
   "cell_type": "code",
   "execution_count": 34,
   "metadata": {},
   "outputs": [],
   "source": [
    "df_wine[\"target\"] = load_wine().target"
   ]
  },
  {
   "cell_type": "markdown",
   "metadata": {},
   "source": [
    "#### 2) Prepare your data. Minimally, you should be reporting:  \n",
    "a) shape, info(), etc  \n",
    "b) describe()  \n",
    "c) Cast the type of the variables accordingly, particularly the target class  \n",
    "d) Report on any missing data  \n",
    "e) Show the head() of the data frame  "
   ]
  },
  {
   "cell_type": "code",
   "execution_count": 35,
   "metadata": {},
   "outputs": [
    {
     "data": {
      "text/plain": [
       "(178, 14)"
      ]
     },
     "execution_count": 35,
     "metadata": {},
     "output_type": "execute_result"
    }
   ],
   "source": [
    "#a\n",
    "df_wine.shape"
   ]
  },
  {
   "cell_type": "code",
   "execution_count": 36,
   "metadata": {},
   "outputs": [
    {
     "name": "stdout",
     "output_type": "stream",
     "text": [
      "<class 'pandas.core.frame.DataFrame'>\n",
      "RangeIndex: 178 entries, 0 to 177\n",
      "Data columns (total 14 columns):\n",
      "alcohol             178 non-null float64\n",
      "malic_acid          178 non-null float64\n",
      "ash                 178 non-null float64\n",
      "alcalinity          178 non-null float64\n",
      "Mg                  178 non-null float64\n",
      "tot_phenols         178 non-null float64\n",
      "flavanoids          178 non-null float64\n",
      "non_flav_phenols    178 non-null float64\n",
      "proanthocyanins     178 non-null float64\n",
      "color_intensity     178 non-null float64\n",
      "hue                 178 non-null float64\n",
      "OD                  178 non-null float64\n",
      "proline             178 non-null float64\n",
      "target              178 non-null int32\n",
      "dtypes: float64(13), int32(1)\n",
      "memory usage: 18.9 KB\n"
     ]
    }
   ],
   "source": [
    "#a\n",
    "df_wine.info()"
   ]
  },
  {
   "cell_type": "code",
   "execution_count": 37,
   "metadata": {},
   "outputs": [
    {
     "data": {
      "text/html": [
       "<div>\n",
       "<style scoped>\n",
       "    .dataframe tbody tr th:only-of-type {\n",
       "        vertical-align: middle;\n",
       "    }\n",
       "\n",
       "    .dataframe tbody tr th {\n",
       "        vertical-align: top;\n",
       "    }\n",
       "\n",
       "    .dataframe thead th {\n",
       "        text-align: right;\n",
       "    }\n",
       "</style>\n",
       "<table border=\"1\" class=\"dataframe\">\n",
       "  <thead>\n",
       "    <tr style=\"text-align: right;\">\n",
       "      <th></th>\n",
       "      <th>alcohol</th>\n",
       "      <th>malic_acid</th>\n",
       "      <th>ash</th>\n",
       "      <th>alcalinity</th>\n",
       "      <th>Mg</th>\n",
       "      <th>tot_phenols</th>\n",
       "      <th>flavanoids</th>\n",
       "      <th>non_flav_phenols</th>\n",
       "      <th>proanthocyanins</th>\n",
       "      <th>color_intensity</th>\n",
       "      <th>hue</th>\n",
       "      <th>OD</th>\n",
       "      <th>proline</th>\n",
       "      <th>target</th>\n",
       "    </tr>\n",
       "  </thead>\n",
       "  <tbody>\n",
       "    <tr>\n",
       "      <th>count</th>\n",
       "      <td>178.000000</td>\n",
       "      <td>178.000000</td>\n",
       "      <td>178.000000</td>\n",
       "      <td>178.000000</td>\n",
       "      <td>178.000000</td>\n",
       "      <td>178.000000</td>\n",
       "      <td>178.000000</td>\n",
       "      <td>178.000000</td>\n",
       "      <td>178.000000</td>\n",
       "      <td>178.000000</td>\n",
       "      <td>178.000000</td>\n",
       "      <td>178.000000</td>\n",
       "      <td>178.000000</td>\n",
       "      <td>178.000000</td>\n",
       "    </tr>\n",
       "    <tr>\n",
       "      <th>mean</th>\n",
       "      <td>13.000618</td>\n",
       "      <td>2.336348</td>\n",
       "      <td>2.366517</td>\n",
       "      <td>19.494944</td>\n",
       "      <td>99.741573</td>\n",
       "      <td>2.295112</td>\n",
       "      <td>2.029270</td>\n",
       "      <td>0.361854</td>\n",
       "      <td>1.590899</td>\n",
       "      <td>5.058090</td>\n",
       "      <td>0.957449</td>\n",
       "      <td>2.611685</td>\n",
       "      <td>746.893258</td>\n",
       "      <td>0.938202</td>\n",
       "    </tr>\n",
       "    <tr>\n",
       "      <th>std</th>\n",
       "      <td>0.811827</td>\n",
       "      <td>1.117146</td>\n",
       "      <td>0.274344</td>\n",
       "      <td>3.339564</td>\n",
       "      <td>14.282484</td>\n",
       "      <td>0.625851</td>\n",
       "      <td>0.998859</td>\n",
       "      <td>0.124453</td>\n",
       "      <td>0.572359</td>\n",
       "      <td>2.318286</td>\n",
       "      <td>0.228572</td>\n",
       "      <td>0.709990</td>\n",
       "      <td>314.907474</td>\n",
       "      <td>0.775035</td>\n",
       "    </tr>\n",
       "    <tr>\n",
       "      <th>min</th>\n",
       "      <td>11.030000</td>\n",
       "      <td>0.740000</td>\n",
       "      <td>1.360000</td>\n",
       "      <td>10.600000</td>\n",
       "      <td>70.000000</td>\n",
       "      <td>0.980000</td>\n",
       "      <td>0.340000</td>\n",
       "      <td>0.130000</td>\n",
       "      <td>0.410000</td>\n",
       "      <td>1.280000</td>\n",
       "      <td>0.480000</td>\n",
       "      <td>1.270000</td>\n",
       "      <td>278.000000</td>\n",
       "      <td>0.000000</td>\n",
       "    </tr>\n",
       "    <tr>\n",
       "      <th>25%</th>\n",
       "      <td>12.362500</td>\n",
       "      <td>1.602500</td>\n",
       "      <td>2.210000</td>\n",
       "      <td>17.200000</td>\n",
       "      <td>88.000000</td>\n",
       "      <td>1.742500</td>\n",
       "      <td>1.205000</td>\n",
       "      <td>0.270000</td>\n",
       "      <td>1.250000</td>\n",
       "      <td>3.220000</td>\n",
       "      <td>0.782500</td>\n",
       "      <td>1.937500</td>\n",
       "      <td>500.500000</td>\n",
       "      <td>0.000000</td>\n",
       "    </tr>\n",
       "    <tr>\n",
       "      <th>50%</th>\n",
       "      <td>13.050000</td>\n",
       "      <td>1.865000</td>\n",
       "      <td>2.360000</td>\n",
       "      <td>19.500000</td>\n",
       "      <td>98.000000</td>\n",
       "      <td>2.355000</td>\n",
       "      <td>2.135000</td>\n",
       "      <td>0.340000</td>\n",
       "      <td>1.555000</td>\n",
       "      <td>4.690000</td>\n",
       "      <td>0.965000</td>\n",
       "      <td>2.780000</td>\n",
       "      <td>673.500000</td>\n",
       "      <td>1.000000</td>\n",
       "    </tr>\n",
       "    <tr>\n",
       "      <th>75%</th>\n",
       "      <td>13.677500</td>\n",
       "      <td>3.082500</td>\n",
       "      <td>2.557500</td>\n",
       "      <td>21.500000</td>\n",
       "      <td>107.000000</td>\n",
       "      <td>2.800000</td>\n",
       "      <td>2.875000</td>\n",
       "      <td>0.437500</td>\n",
       "      <td>1.950000</td>\n",
       "      <td>6.200000</td>\n",
       "      <td>1.120000</td>\n",
       "      <td>3.170000</td>\n",
       "      <td>985.000000</td>\n",
       "      <td>2.000000</td>\n",
       "    </tr>\n",
       "    <tr>\n",
       "      <th>max</th>\n",
       "      <td>14.830000</td>\n",
       "      <td>5.800000</td>\n",
       "      <td>3.230000</td>\n",
       "      <td>30.000000</td>\n",
       "      <td>162.000000</td>\n",
       "      <td>3.880000</td>\n",
       "      <td>5.080000</td>\n",
       "      <td>0.660000</td>\n",
       "      <td>3.580000</td>\n",
       "      <td>13.000000</td>\n",
       "      <td>1.710000</td>\n",
       "      <td>4.000000</td>\n",
       "      <td>1680.000000</td>\n",
       "      <td>2.000000</td>\n",
       "    </tr>\n",
       "  </tbody>\n",
       "</table>\n",
       "</div>"
      ],
      "text/plain": [
       "          alcohol  malic_acid         ash  alcalinity          Mg  \\\n",
       "count  178.000000  178.000000  178.000000  178.000000  178.000000   \n",
       "mean    13.000618    2.336348    2.366517   19.494944   99.741573   \n",
       "std      0.811827    1.117146    0.274344    3.339564   14.282484   \n",
       "min     11.030000    0.740000    1.360000   10.600000   70.000000   \n",
       "25%     12.362500    1.602500    2.210000   17.200000   88.000000   \n",
       "50%     13.050000    1.865000    2.360000   19.500000   98.000000   \n",
       "75%     13.677500    3.082500    2.557500   21.500000  107.000000   \n",
       "max     14.830000    5.800000    3.230000   30.000000  162.000000   \n",
       "\n",
       "       tot_phenols  flavanoids  non_flav_phenols  proanthocyanins  \\\n",
       "count   178.000000  178.000000        178.000000       178.000000   \n",
       "mean      2.295112    2.029270          0.361854         1.590899   \n",
       "std       0.625851    0.998859          0.124453         0.572359   \n",
       "min       0.980000    0.340000          0.130000         0.410000   \n",
       "25%       1.742500    1.205000          0.270000         1.250000   \n",
       "50%       2.355000    2.135000          0.340000         1.555000   \n",
       "75%       2.800000    2.875000          0.437500         1.950000   \n",
       "max       3.880000    5.080000          0.660000         3.580000   \n",
       "\n",
       "       color_intensity         hue          OD      proline      target  \n",
       "count       178.000000  178.000000  178.000000   178.000000  178.000000  \n",
       "mean          5.058090    0.957449    2.611685   746.893258    0.938202  \n",
       "std           2.318286    0.228572    0.709990   314.907474    0.775035  \n",
       "min           1.280000    0.480000    1.270000   278.000000    0.000000  \n",
       "25%           3.220000    0.782500    1.937500   500.500000    0.000000  \n",
       "50%           4.690000    0.965000    2.780000   673.500000    1.000000  \n",
       "75%           6.200000    1.120000    3.170000   985.000000    2.000000  \n",
       "max          13.000000    1.710000    4.000000  1680.000000    2.000000  "
      ]
     },
     "execution_count": 37,
     "metadata": {},
     "output_type": "execute_result"
    }
   ],
   "source": [
    "#b\n",
    "df_wine.describe()"
   ]
  },
  {
   "cell_type": "code",
   "execution_count": 38,
   "metadata": {},
   "outputs": [],
   "source": [
    "#c\n",
    "df_wine[\"target\"] = pd.Categorical(df_wine[\"target\"])"
   ]
  },
  {
   "cell_type": "code",
   "execution_count": 39,
   "metadata": {},
   "outputs": [
    {
     "data": {
      "text/html": [
       "<div>\n",
       "<style scoped>\n",
       "    .dataframe tbody tr th:only-of-type {\n",
       "        vertical-align: middle;\n",
       "    }\n",
       "\n",
       "    .dataframe tbody tr th {\n",
       "        vertical-align: top;\n",
       "    }\n",
       "\n",
       "    .dataframe thead th {\n",
       "        text-align: right;\n",
       "    }\n",
       "</style>\n",
       "<table border=\"1\" class=\"dataframe\">\n",
       "  <thead>\n",
       "    <tr style=\"text-align: right;\">\n",
       "      <th></th>\n",
       "      <th>alcohol</th>\n",
       "      <th>malic_acid</th>\n",
       "      <th>ash</th>\n",
       "      <th>alcalinity</th>\n",
       "      <th>Mg</th>\n",
       "      <th>tot_phenols</th>\n",
       "      <th>flavanoids</th>\n",
       "      <th>non_flav_phenols</th>\n",
       "      <th>proanthocyanins</th>\n",
       "      <th>color_intensity</th>\n",
       "      <th>hue</th>\n",
       "      <th>OD</th>\n",
       "      <th>proline</th>\n",
       "      <th>target</th>\n",
       "    </tr>\n",
       "  </thead>\n",
       "  <tbody>\n",
       "  </tbody>\n",
       "</table>\n",
       "</div>"
      ],
      "text/plain": [
       "Empty DataFrame\n",
       "Columns: [alcohol, malic_acid, ash, alcalinity, Mg, tot_phenols, flavanoids, non_flav_phenols, proanthocyanins, color_intensity, hue, OD, proline, target]\n",
       "Index: []"
      ]
     },
     "execution_count": 39,
     "metadata": {},
     "output_type": "execute_result"
    }
   ],
   "source": [
    "#d\n",
    "df_wine[df_wine.isnull() == True].dropna(how = \"all\")"
   ]
  },
  {
   "cell_type": "code",
   "execution_count": 40,
   "metadata": {},
   "outputs": [],
   "source": [
    "#d\n",
    "#no NaN values, so no data is missing"
   ]
  },
  {
   "cell_type": "code",
   "execution_count": 41,
   "metadata": {},
   "outputs": [
    {
     "data": {
      "text/html": [
       "<div>\n",
       "<style scoped>\n",
       "    .dataframe tbody tr th:only-of-type {\n",
       "        vertical-align: middle;\n",
       "    }\n",
       "\n",
       "    .dataframe tbody tr th {\n",
       "        vertical-align: top;\n",
       "    }\n",
       "\n",
       "    .dataframe thead th {\n",
       "        text-align: right;\n",
       "    }\n",
       "</style>\n",
       "<table border=\"1\" class=\"dataframe\">\n",
       "  <thead>\n",
       "    <tr style=\"text-align: right;\">\n",
       "      <th></th>\n",
       "      <th>alcohol</th>\n",
       "      <th>malic_acid</th>\n",
       "      <th>ash</th>\n",
       "      <th>alcalinity</th>\n",
       "      <th>Mg</th>\n",
       "      <th>tot_phenols</th>\n",
       "      <th>flavanoids</th>\n",
       "      <th>non_flav_phenols</th>\n",
       "      <th>proanthocyanins</th>\n",
       "      <th>color_intensity</th>\n",
       "      <th>hue</th>\n",
       "      <th>OD</th>\n",
       "      <th>proline</th>\n",
       "      <th>target</th>\n",
       "    </tr>\n",
       "  </thead>\n",
       "  <tbody>\n",
       "    <tr>\n",
       "      <th>0</th>\n",
       "      <td>14.23</td>\n",
       "      <td>1.71</td>\n",
       "      <td>2.43</td>\n",
       "      <td>15.6</td>\n",
       "      <td>127.0</td>\n",
       "      <td>2.80</td>\n",
       "      <td>3.06</td>\n",
       "      <td>0.28</td>\n",
       "      <td>2.29</td>\n",
       "      <td>5.64</td>\n",
       "      <td>1.04</td>\n",
       "      <td>3.92</td>\n",
       "      <td>1065.0</td>\n",
       "      <td>0</td>\n",
       "    </tr>\n",
       "    <tr>\n",
       "      <th>1</th>\n",
       "      <td>13.20</td>\n",
       "      <td>1.78</td>\n",
       "      <td>2.14</td>\n",
       "      <td>11.2</td>\n",
       "      <td>100.0</td>\n",
       "      <td>2.65</td>\n",
       "      <td>2.76</td>\n",
       "      <td>0.26</td>\n",
       "      <td>1.28</td>\n",
       "      <td>4.38</td>\n",
       "      <td>1.05</td>\n",
       "      <td>3.40</td>\n",
       "      <td>1050.0</td>\n",
       "      <td>0</td>\n",
       "    </tr>\n",
       "    <tr>\n",
       "      <th>2</th>\n",
       "      <td>13.16</td>\n",
       "      <td>2.36</td>\n",
       "      <td>2.67</td>\n",
       "      <td>18.6</td>\n",
       "      <td>101.0</td>\n",
       "      <td>2.80</td>\n",
       "      <td>3.24</td>\n",
       "      <td>0.30</td>\n",
       "      <td>2.81</td>\n",
       "      <td>5.68</td>\n",
       "      <td>1.03</td>\n",
       "      <td>3.17</td>\n",
       "      <td>1185.0</td>\n",
       "      <td>0</td>\n",
       "    </tr>\n",
       "    <tr>\n",
       "      <th>3</th>\n",
       "      <td>14.37</td>\n",
       "      <td>1.95</td>\n",
       "      <td>2.50</td>\n",
       "      <td>16.8</td>\n",
       "      <td>113.0</td>\n",
       "      <td>3.85</td>\n",
       "      <td>3.49</td>\n",
       "      <td>0.24</td>\n",
       "      <td>2.18</td>\n",
       "      <td>7.80</td>\n",
       "      <td>0.86</td>\n",
       "      <td>3.45</td>\n",
       "      <td>1480.0</td>\n",
       "      <td>0</td>\n",
       "    </tr>\n",
       "    <tr>\n",
       "      <th>4</th>\n",
       "      <td>13.24</td>\n",
       "      <td>2.59</td>\n",
       "      <td>2.87</td>\n",
       "      <td>21.0</td>\n",
       "      <td>118.0</td>\n",
       "      <td>2.80</td>\n",
       "      <td>2.69</td>\n",
       "      <td>0.39</td>\n",
       "      <td>1.82</td>\n",
       "      <td>4.32</td>\n",
       "      <td>1.04</td>\n",
       "      <td>2.93</td>\n",
       "      <td>735.0</td>\n",
       "      <td>0</td>\n",
       "    </tr>\n",
       "  </tbody>\n",
       "</table>\n",
       "</div>"
      ],
      "text/plain": [
       "   alcohol  malic_acid   ash  alcalinity     Mg  tot_phenols  flavanoids  \\\n",
       "0    14.23        1.71  2.43        15.6  127.0         2.80        3.06   \n",
       "1    13.20        1.78  2.14        11.2  100.0         2.65        2.76   \n",
       "2    13.16        2.36  2.67        18.6  101.0         2.80        3.24   \n",
       "3    14.37        1.95  2.50        16.8  113.0         3.85        3.49   \n",
       "4    13.24        2.59  2.87        21.0  118.0         2.80        2.69   \n",
       "\n",
       "   non_flav_phenols  proanthocyanins  color_intensity   hue    OD  proline  \\\n",
       "0              0.28             2.29             5.64  1.04  3.92   1065.0   \n",
       "1              0.26             1.28             4.38  1.05  3.40   1050.0   \n",
       "2              0.30             2.81             5.68  1.03  3.17   1185.0   \n",
       "3              0.24             2.18             7.80  0.86  3.45   1480.0   \n",
       "4              0.39             1.82             4.32  1.04  2.93    735.0   \n",
       "\n",
       "  target  \n",
       "0      0  \n",
       "1      0  \n",
       "2      0  \n",
       "3      0  \n",
       "4      0  "
      ]
     },
     "execution_count": 41,
     "metadata": {},
     "output_type": "execute_result"
    }
   ],
   "source": [
    "#e\n",
    "df_wine.head() "
   ]
  },
  {
   "cell_type": "markdown",
   "metadata": {},
   "source": [
    "#### 3) Perform your EDA. Minimally, you should be reporting:  \n",
    "a) Distributions of the target class  \n",
    "b) Distributions of the variables  \n",
    "c) Distributions of the variables, given each target class. Numeric and visual summaries are useful here.  "
   ]
  },
  {
   "cell_type": "code",
   "execution_count": 42,
   "metadata": {},
   "outputs": [
    {
     "data": {
      "application/vnd.plotly.v1+json": {
       "config": {
        "plotlyServerURL": "https://plot.ly"
       },
       "data": [
        {
         "alignmentgroup": "True",
         "bingroup": "x",
         "hoverlabel": {
          "namelength": 0
         },
         "hovertemplate": "target=%{x}<br>count=%{y}",
         "legendgroup": "",
         "marker": {
          "color": "#636efa"
         },
         "name": "",
         "offsetgroup": "",
         "orientation": "v",
         "showlegend": false,
         "type": "histogram",
         "x": [
          0,
          0,
          0,
          0,
          0,
          0,
          0,
          0,
          0,
          0,
          0,
          0,
          0,
          0,
          0,
          0,
          0,
          0,
          0,
          0,
          0,
          0,
          0,
          0,
          0,
          0,
          0,
          0,
          0,
          0,
          0,
          0,
          0,
          0,
          0,
          0,
          0,
          0,
          0,
          0,
          0,
          0,
          0,
          0,
          0,
          0,
          0,
          0,
          0,
          0,
          0,
          0,
          0,
          0,
          0,
          0,
          0,
          0,
          0,
          1,
          1,
          1,
          1,
          1,
          1,
          1,
          1,
          1,
          1,
          1,
          1,
          1,
          1,
          1,
          1,
          1,
          1,
          1,
          1,
          1,
          1,
          1,
          1,
          1,
          1,
          1,
          1,
          1,
          1,
          1,
          1,
          1,
          1,
          1,
          1,
          1,
          1,
          1,
          1,
          1,
          1,
          1,
          1,
          1,
          1,
          1,
          1,
          1,
          1,
          1,
          1,
          1,
          1,
          1,
          1,
          1,
          1,
          1,
          1,
          1,
          1,
          1,
          1,
          1,
          1,
          1,
          1,
          1,
          1,
          1,
          2,
          2,
          2,
          2,
          2,
          2,
          2,
          2,
          2,
          2,
          2,
          2,
          2,
          2,
          2,
          2,
          2,
          2,
          2,
          2,
          2,
          2,
          2,
          2,
          2,
          2,
          2,
          2,
          2,
          2,
          2,
          2,
          2,
          2,
          2,
          2,
          2,
          2,
          2,
          2,
          2,
          2,
          2,
          2,
          2,
          2,
          2,
          2
         ],
         "xaxis": "x",
         "yaxis": "y"
        }
       ],
       "layout": {
        "autosize": true,
        "barmode": "relative",
        "legend": {
         "tracegroupgap": 0
        },
        "margin": {
         "t": 60
        },
        "template": {
         "data": {
          "bar": [
           {
            "error_x": {
             "color": "#2a3f5f"
            },
            "error_y": {
             "color": "#2a3f5f"
            },
            "marker": {
             "line": {
              "color": "#E5ECF6",
              "width": 0.5
             }
            },
            "type": "bar"
           }
          ],
          "barpolar": [
           {
            "marker": {
             "line": {
              "color": "#E5ECF6",
              "width": 0.5
             }
            },
            "type": "barpolar"
           }
          ],
          "carpet": [
           {
            "aaxis": {
             "endlinecolor": "#2a3f5f",
             "gridcolor": "white",
             "linecolor": "white",
             "minorgridcolor": "white",
             "startlinecolor": "#2a3f5f"
            },
            "baxis": {
             "endlinecolor": "#2a3f5f",
             "gridcolor": "white",
             "linecolor": "white",
             "minorgridcolor": "white",
             "startlinecolor": "#2a3f5f"
            },
            "type": "carpet"
           }
          ],
          "choropleth": [
           {
            "colorbar": {
             "outlinewidth": 0,
             "ticks": ""
            },
            "type": "choropleth"
           }
          ],
          "contour": [
           {
            "colorbar": {
             "outlinewidth": 0,
             "ticks": ""
            },
            "colorscale": [
             [
              0,
              "#0d0887"
             ],
             [
              0.1111111111111111,
              "#46039f"
             ],
             [
              0.2222222222222222,
              "#7201a8"
             ],
             [
              0.3333333333333333,
              "#9c179e"
             ],
             [
              0.4444444444444444,
              "#bd3786"
             ],
             [
              0.5555555555555556,
              "#d8576b"
             ],
             [
              0.6666666666666666,
              "#ed7953"
             ],
             [
              0.7777777777777778,
              "#fb9f3a"
             ],
             [
              0.8888888888888888,
              "#fdca26"
             ],
             [
              1,
              "#f0f921"
             ]
            ],
            "type": "contour"
           }
          ],
          "contourcarpet": [
           {
            "colorbar": {
             "outlinewidth": 0,
             "ticks": ""
            },
            "type": "contourcarpet"
           }
          ],
          "heatmap": [
           {
            "colorbar": {
             "outlinewidth": 0,
             "ticks": ""
            },
            "colorscale": [
             [
              0,
              "#0d0887"
             ],
             [
              0.1111111111111111,
              "#46039f"
             ],
             [
              0.2222222222222222,
              "#7201a8"
             ],
             [
              0.3333333333333333,
              "#9c179e"
             ],
             [
              0.4444444444444444,
              "#bd3786"
             ],
             [
              0.5555555555555556,
              "#d8576b"
             ],
             [
              0.6666666666666666,
              "#ed7953"
             ],
             [
              0.7777777777777778,
              "#fb9f3a"
             ],
             [
              0.8888888888888888,
              "#fdca26"
             ],
             [
              1,
              "#f0f921"
             ]
            ],
            "type": "heatmap"
           }
          ],
          "heatmapgl": [
           {
            "colorbar": {
             "outlinewidth": 0,
             "ticks": ""
            },
            "colorscale": [
             [
              0,
              "#0d0887"
             ],
             [
              0.1111111111111111,
              "#46039f"
             ],
             [
              0.2222222222222222,
              "#7201a8"
             ],
             [
              0.3333333333333333,
              "#9c179e"
             ],
             [
              0.4444444444444444,
              "#bd3786"
             ],
             [
              0.5555555555555556,
              "#d8576b"
             ],
             [
              0.6666666666666666,
              "#ed7953"
             ],
             [
              0.7777777777777778,
              "#fb9f3a"
             ],
             [
              0.8888888888888888,
              "#fdca26"
             ],
             [
              1,
              "#f0f921"
             ]
            ],
            "type": "heatmapgl"
           }
          ],
          "histogram": [
           {
            "marker": {
             "colorbar": {
              "outlinewidth": 0,
              "ticks": ""
             }
            },
            "type": "histogram"
           }
          ],
          "histogram2d": [
           {
            "colorbar": {
             "outlinewidth": 0,
             "ticks": ""
            },
            "colorscale": [
             [
              0,
              "#0d0887"
             ],
             [
              0.1111111111111111,
              "#46039f"
             ],
             [
              0.2222222222222222,
              "#7201a8"
             ],
             [
              0.3333333333333333,
              "#9c179e"
             ],
             [
              0.4444444444444444,
              "#bd3786"
             ],
             [
              0.5555555555555556,
              "#d8576b"
             ],
             [
              0.6666666666666666,
              "#ed7953"
             ],
             [
              0.7777777777777778,
              "#fb9f3a"
             ],
             [
              0.8888888888888888,
              "#fdca26"
             ],
             [
              1,
              "#f0f921"
             ]
            ],
            "type": "histogram2d"
           }
          ],
          "histogram2dcontour": [
           {
            "colorbar": {
             "outlinewidth": 0,
             "ticks": ""
            },
            "colorscale": [
             [
              0,
              "#0d0887"
             ],
             [
              0.1111111111111111,
              "#46039f"
             ],
             [
              0.2222222222222222,
              "#7201a8"
             ],
             [
              0.3333333333333333,
              "#9c179e"
             ],
             [
              0.4444444444444444,
              "#bd3786"
             ],
             [
              0.5555555555555556,
              "#d8576b"
             ],
             [
              0.6666666666666666,
              "#ed7953"
             ],
             [
              0.7777777777777778,
              "#fb9f3a"
             ],
             [
              0.8888888888888888,
              "#fdca26"
             ],
             [
              1,
              "#f0f921"
             ]
            ],
            "type": "histogram2dcontour"
           }
          ],
          "mesh3d": [
           {
            "colorbar": {
             "outlinewidth": 0,
             "ticks": ""
            },
            "type": "mesh3d"
           }
          ],
          "parcoords": [
           {
            "line": {
             "colorbar": {
              "outlinewidth": 0,
              "ticks": ""
             }
            },
            "type": "parcoords"
           }
          ],
          "pie": [
           {
            "automargin": true,
            "type": "pie"
           }
          ],
          "scatter": [
           {
            "marker": {
             "colorbar": {
              "outlinewidth": 0,
              "ticks": ""
             }
            },
            "type": "scatter"
           }
          ],
          "scatter3d": [
           {
            "line": {
             "colorbar": {
              "outlinewidth": 0,
              "ticks": ""
             }
            },
            "marker": {
             "colorbar": {
              "outlinewidth": 0,
              "ticks": ""
             }
            },
            "type": "scatter3d"
           }
          ],
          "scattercarpet": [
           {
            "marker": {
             "colorbar": {
              "outlinewidth": 0,
              "ticks": ""
             }
            },
            "type": "scattercarpet"
           }
          ],
          "scattergeo": [
           {
            "marker": {
             "colorbar": {
              "outlinewidth": 0,
              "ticks": ""
             }
            },
            "type": "scattergeo"
           }
          ],
          "scattergl": [
           {
            "marker": {
             "colorbar": {
              "outlinewidth": 0,
              "ticks": ""
             }
            },
            "type": "scattergl"
           }
          ],
          "scattermapbox": [
           {
            "marker": {
             "colorbar": {
              "outlinewidth": 0,
              "ticks": ""
             }
            },
            "type": "scattermapbox"
           }
          ],
          "scatterpolar": [
           {
            "marker": {
             "colorbar": {
              "outlinewidth": 0,
              "ticks": ""
             }
            },
            "type": "scatterpolar"
           }
          ],
          "scatterpolargl": [
           {
            "marker": {
             "colorbar": {
              "outlinewidth": 0,
              "ticks": ""
             }
            },
            "type": "scatterpolargl"
           }
          ],
          "scatterternary": [
           {
            "marker": {
             "colorbar": {
              "outlinewidth": 0,
              "ticks": ""
             }
            },
            "type": "scatterternary"
           }
          ],
          "surface": [
           {
            "colorbar": {
             "outlinewidth": 0,
             "ticks": ""
            },
            "colorscale": [
             [
              0,
              "#0d0887"
             ],
             [
              0.1111111111111111,
              "#46039f"
             ],
             [
              0.2222222222222222,
              "#7201a8"
             ],
             [
              0.3333333333333333,
              "#9c179e"
             ],
             [
              0.4444444444444444,
              "#bd3786"
             ],
             [
              0.5555555555555556,
              "#d8576b"
             ],
             [
              0.6666666666666666,
              "#ed7953"
             ],
             [
              0.7777777777777778,
              "#fb9f3a"
             ],
             [
              0.8888888888888888,
              "#fdca26"
             ],
             [
              1,
              "#f0f921"
             ]
            ],
            "type": "surface"
           }
          ],
          "table": [
           {
            "cells": {
             "fill": {
              "color": "#EBF0F8"
             },
             "line": {
              "color": "white"
             }
            },
            "header": {
             "fill": {
              "color": "#C8D4E3"
             },
             "line": {
              "color": "white"
             }
            },
            "type": "table"
           }
          ]
         },
         "layout": {
          "annotationdefaults": {
           "arrowcolor": "#2a3f5f",
           "arrowhead": 0,
           "arrowwidth": 1
          },
          "coloraxis": {
           "colorbar": {
            "outlinewidth": 0,
            "ticks": ""
           }
          },
          "colorscale": {
           "diverging": [
            [
             0,
             "#8e0152"
            ],
            [
             0.1,
             "#c51b7d"
            ],
            [
             0.2,
             "#de77ae"
            ],
            [
             0.3,
             "#f1b6da"
            ],
            [
             0.4,
             "#fde0ef"
            ],
            [
             0.5,
             "#f7f7f7"
            ],
            [
             0.6,
             "#e6f5d0"
            ],
            [
             0.7,
             "#b8e186"
            ],
            [
             0.8,
             "#7fbc41"
            ],
            [
             0.9,
             "#4d9221"
            ],
            [
             1,
             "#276419"
            ]
           ],
           "sequential": [
            [
             0,
             "#0d0887"
            ],
            [
             0.1111111111111111,
             "#46039f"
            ],
            [
             0.2222222222222222,
             "#7201a8"
            ],
            [
             0.3333333333333333,
             "#9c179e"
            ],
            [
             0.4444444444444444,
             "#bd3786"
            ],
            [
             0.5555555555555556,
             "#d8576b"
            ],
            [
             0.6666666666666666,
             "#ed7953"
            ],
            [
             0.7777777777777778,
             "#fb9f3a"
            ],
            [
             0.8888888888888888,
             "#fdca26"
            ],
            [
             1,
             "#f0f921"
            ]
           ],
           "sequentialminus": [
            [
             0,
             "#0d0887"
            ],
            [
             0.1111111111111111,
             "#46039f"
            ],
            [
             0.2222222222222222,
             "#7201a8"
            ],
            [
             0.3333333333333333,
             "#9c179e"
            ],
            [
             0.4444444444444444,
             "#bd3786"
            ],
            [
             0.5555555555555556,
             "#d8576b"
            ],
            [
             0.6666666666666666,
             "#ed7953"
            ],
            [
             0.7777777777777778,
             "#fb9f3a"
            ],
            [
             0.8888888888888888,
             "#fdca26"
            ],
            [
             1,
             "#f0f921"
            ]
           ]
          },
          "colorway": [
           "#636efa",
           "#EF553B",
           "#00cc96",
           "#ab63fa",
           "#FFA15A",
           "#19d3f3",
           "#FF6692",
           "#B6E880",
           "#FF97FF",
           "#FECB52"
          ],
          "font": {
           "color": "#2a3f5f"
          },
          "geo": {
           "bgcolor": "white",
           "lakecolor": "white",
           "landcolor": "#E5ECF6",
           "showlakes": true,
           "showland": true,
           "subunitcolor": "white"
          },
          "hoverlabel": {
           "align": "left"
          },
          "hovermode": "closest",
          "mapbox": {
           "style": "light"
          },
          "paper_bgcolor": "white",
          "plot_bgcolor": "#E5ECF6",
          "polar": {
           "angularaxis": {
            "gridcolor": "white",
            "linecolor": "white",
            "ticks": ""
           },
           "bgcolor": "#E5ECF6",
           "radialaxis": {
            "gridcolor": "white",
            "linecolor": "white",
            "ticks": ""
           }
          },
          "scene": {
           "xaxis": {
            "backgroundcolor": "#E5ECF6",
            "gridcolor": "white",
            "gridwidth": 2,
            "linecolor": "white",
            "showbackground": true,
            "ticks": "",
            "zerolinecolor": "white"
           },
           "yaxis": {
            "backgroundcolor": "#E5ECF6",
            "gridcolor": "white",
            "gridwidth": 2,
            "linecolor": "white",
            "showbackground": true,
            "ticks": "",
            "zerolinecolor": "white"
           },
           "zaxis": {
            "backgroundcolor": "#E5ECF6",
            "gridcolor": "white",
            "gridwidth": 2,
            "linecolor": "white",
            "showbackground": true,
            "ticks": "",
            "zerolinecolor": "white"
           }
          },
          "shapedefaults": {
           "line": {
            "color": "#2a3f5f"
           }
          },
          "ternary": {
           "aaxis": {
            "gridcolor": "white",
            "linecolor": "white",
            "ticks": ""
           },
           "baxis": {
            "gridcolor": "white",
            "linecolor": "white",
            "ticks": ""
           },
           "bgcolor": "#E5ECF6",
           "caxis": {
            "gridcolor": "white",
            "linecolor": "white",
            "ticks": ""
           }
          },
          "title": {
           "x": 0.05
          },
          "xaxis": {
           "automargin": true,
           "gridcolor": "white",
           "linecolor": "white",
           "ticks": "",
           "title": {
            "standoff": 15
           },
           "zerolinecolor": "white",
           "zerolinewidth": 2
          },
          "yaxis": {
           "automargin": true,
           "gridcolor": "white",
           "linecolor": "white",
           "ticks": "",
           "title": {
            "standoff": 15
           },
           "zerolinecolor": "white",
           "zerolinewidth": 2
          }
         }
        },
        "xaxis": {
         "anchor": "y",
         "autorange": true,
         "domain": [
          0,
          1
         ],
         "range": [
          -0.5,
          2.5
         ],
         "title": {
          "text": "target"
         },
         "type": "linear"
        },
        "yaxis": {
         "anchor": "x",
         "autorange": true,
         "domain": [
          0,
          1
         ],
         "range": [
          0,
          74.73684210526316
         ],
         "title": {
          "text": "count"
         }
        }
       }
      },
      "image/png": "[encoded data removed]",
      "text/html": [
       "<div>\n",
       "        \n",
       "        \n",
       "            <div id=\"4ff7ef6c-93fe-41be-838c-75e830f80567\" class=\"plotly-graph-div\" style=\"height:525px; width:100%;\"></div>\n",
       "            <script type=\"text/javascript\">\n",
       "                require([\"plotly\"], function(Plotly) {\n",
       "                    window.PLOTLYENV=window.PLOTLYENV || {};\n",
       "                    \n",
       "                if (document.getElementById(\"4ff7ef6c-93fe-41be-838c-75e830f80567\")) {\n",
       "                    Plotly.newPlot(\n",
       "                        '4ff7ef6c-93fe-41be-838c-75e830f80567',\n",
       "                        [{\"alignmentgroup\": \"True\", \"bingroup\": \"x\", \"hoverlabel\": {\"namelength\": 0}, \"hovertemplate\": \"target=%{x}<br>count=%{y}\", \"legendgroup\": \"\", \"marker\": {\"color\": \"#636efa\"}, \"name\": \"\", \"offsetgroup\": \"\", \"orientation\": \"v\", \"showlegend\": false, \"type\": \"histogram\", \"x\": [0, 0, 0, 0, 0, 0, 0, 0, 0, 0, 0, 0, 0, 0, 0, 0, 0, 0, 0, 0, 0, 0, 0, 0, 0, 0, 0, 0, 0, 0, 0, 0, 0, 0, 0, 0, 0, 0, 0, 0, 0, 0, 0, 0, 0, 0, 0, 0, 0, 0, 0, 0, 0, 0, 0, 0, 0, 0, 0, 1, 1, 1, 1, 1, 1, 1, 1, 1, 1, 1, 1, 1, 1, 1, 1, 1, 1, 1, 1, 1, 1, 1, 1, 1, 1, 1, 1, 1, 1, 1, 1, 1, 1, 1, 1, 1, 1, 1, 1, 1, 1, 1, 1, 1, 1, 1, 1, 1, 1, 1, 1, 1, 1, 1, 1, 1, 1, 1, 1, 1, 1, 1, 1, 1, 1, 1, 1, 1, 1, 1, 2, 2, 2, 2, 2, 2, 2, 2, 2, 2, 2, 2, 2, 2, 2, 2, 2, 2, 2, 2, 2, 2, 2, 2, 2, 2, 2, 2, 2, 2, 2, 2, 2, 2, 2, 2, 2, 2, 2, 2, 2, 2, 2, 2, 2, 2, 2, 2], \"xaxis\": \"x\", \"yaxis\": \"y\"}],\n",
       "                        {\"barmode\": \"relative\", \"legend\": {\"tracegroupgap\": 0}, \"margin\": {\"t\": 60}, \"template\": {\"data\": {\"bar\": [{\"error_x\": {\"color\": \"#2a3f5f\"}, \"error_y\": {\"color\": \"#2a3f5f\"}, \"marker\": {\"line\": {\"color\": \"#E5ECF6\", \"width\": 0.5}}, \"type\": \"bar\"}], \"barpolar\": [{\"marker\": {\"line\": {\"color\": \"#E5ECF6\", \"width\": 0.5}}, \"type\": \"barpolar\"}], \"carpet\": [{\"aaxis\": {\"endlinecolor\": \"#2a3f5f\", \"gridcolor\": \"white\", \"linecolor\": \"white\", \"minorgridcolor\": \"white\", \"startlinecolor\": \"#2a3f5f\"}, \"baxis\": {\"endlinecolor\": \"#2a3f5f\", \"gridcolor\": \"white\", \"linecolor\": \"white\", \"minorgridcolor\": \"white\", \"startlinecolor\": \"#2a3f5f\"}, \"type\": \"carpet\"}], \"choropleth\": [{\"colorbar\": {\"outlinewidth\": 0, \"ticks\": \"\"}, \"type\": \"choropleth\"}], \"contour\": [{\"colorbar\": {\"outlinewidth\": 0, \"ticks\": \"\"}, \"colorscale\": [[0.0, \"#0d0887\"], [0.1111111111111111, \"#46039f\"], [0.2222222222222222, \"#7201a8\"], [0.3333333333333333, \"#9c179e\"], [0.4444444444444444, \"#bd3786\"], [0.5555555555555556, \"#d8576b\"], [0.6666666666666666, \"#ed7953\"], [0.7777777777777778, \"#fb9f3a\"], [0.8888888888888888, \"#fdca26\"], [1.0, \"#f0f921\"]], \"type\": \"contour\"}], \"contourcarpet\": [{\"colorbar\": {\"outlinewidth\": 0, \"ticks\": \"\"}, \"type\": \"contourcarpet\"}], \"heatmap\": [{\"colorbar\": {\"outlinewidth\": 0, \"ticks\": \"\"}, \"colorscale\": [[0.0, \"#0d0887\"], [0.1111111111111111, \"#46039f\"], [0.2222222222222222, \"#7201a8\"], [0.3333333333333333, \"#9c179e\"], [0.4444444444444444, \"#bd3786\"], [0.5555555555555556, \"#d8576b\"], [0.6666666666666666, \"#ed7953\"], [0.7777777777777778, \"#fb9f3a\"], [0.8888888888888888, \"#fdca26\"], [1.0, \"#f0f921\"]], \"type\": \"heatmap\"}], \"heatmapgl\": [{\"colorbar\": {\"outlinewidth\": 0, \"ticks\": \"\"}, \"colorscale\": [[0.0, \"#0d0887\"], [0.1111111111111111, \"#46039f\"], [0.2222222222222222, \"#7201a8\"], [0.3333333333333333, \"#9c179e\"], [0.4444444444444444, \"#bd3786\"], [0.5555555555555556, \"#d8576b\"], [0.6666666666666666, \"#ed7953\"], [0.7777777777777778, \"#fb9f3a\"], [0.8888888888888888, \"#fdca26\"], [1.0, \"#f0f921\"]], \"type\": \"heatmapgl\"}], \"histogram\": [{\"marker\": {\"colorbar\": {\"outlinewidth\": 0, \"ticks\": \"\"}}, \"type\": \"histogram\"}], \"histogram2d\": [{\"colorbar\": {\"outlinewidth\": 0, \"ticks\": \"\"}, \"colorscale\": [[0.0, \"#0d0887\"], [0.1111111111111111, \"#46039f\"], [0.2222222222222222, \"#7201a8\"], [0.3333333333333333, \"#9c179e\"], [0.4444444444444444, \"#bd3786\"], [0.5555555555555556, \"#d8576b\"], [0.6666666666666666, \"#ed7953\"], [0.7777777777777778, \"#fb9f3a\"], [0.8888888888888888, \"#fdca26\"], [1.0, \"#f0f921\"]], \"type\": \"histogram2d\"}], \"histogram2dcontour\": [{\"colorbar\": {\"outlinewidth\": 0, \"ticks\": \"\"}, \"colorscale\": [[0.0, \"#0d0887\"], [0.1111111111111111, \"#46039f\"], [0.2222222222222222, \"#7201a8\"], [0.3333333333333333, \"#9c179e\"], [0.4444444444444444, \"#bd3786\"], [0.5555555555555556, \"#d8576b\"], [0.6666666666666666, \"#ed7953\"], [0.7777777777777778, \"#fb9f3a\"], [0.8888888888888888, \"#fdca26\"], [1.0, \"#f0f921\"]], \"type\": \"histogram2dcontour\"}], \"mesh3d\": [{\"colorbar\": {\"outlinewidth\": 0, \"ticks\": \"\"}, \"type\": \"mesh3d\"}], \"parcoords\": [{\"line\": {\"colorbar\": {\"outlinewidth\": 0, \"ticks\": \"\"}}, \"type\": \"parcoords\"}], \"pie\": [{\"automargin\": true, \"type\": \"pie\"}], \"scatter\": [{\"marker\": {\"colorbar\": {\"outlinewidth\": 0, \"ticks\": \"\"}}, \"type\": \"scatter\"}], \"scatter3d\": [{\"line\": {\"colorbar\": {\"outlinewidth\": 0, \"ticks\": \"\"}}, \"marker\": {\"colorbar\": {\"outlinewidth\": 0, \"ticks\": \"\"}}, \"type\": \"scatter3d\"}], \"scattercarpet\": [{\"marker\": {\"colorbar\": {\"outlinewidth\": 0, \"ticks\": \"\"}}, \"type\": \"scattercarpet\"}], \"scattergeo\": [{\"marker\": {\"colorbar\": {\"outlinewidth\": 0, \"ticks\": \"\"}}, \"type\": \"scattergeo\"}], \"scattergl\": [{\"marker\": {\"colorbar\": {\"outlinewidth\": 0, \"ticks\": \"\"}}, \"type\": \"scattergl\"}], \"scattermapbox\": [{\"marker\": {\"colorbar\": {\"outlinewidth\": 0, \"ticks\": \"\"}}, \"type\": \"scattermapbox\"}], \"scatterpolar\": [{\"marker\": {\"colorbar\": {\"outlinewidth\": 0, \"ticks\": \"\"}}, \"type\": \"scatterpolar\"}], \"scatterpolargl\": [{\"marker\": {\"colorbar\": {\"outlinewidth\": 0, \"ticks\": \"\"}}, \"type\": \"scatterpolargl\"}], \"scatterternary\": [{\"marker\": {\"colorbar\": {\"outlinewidth\": 0, \"ticks\": \"\"}}, \"type\": \"scatterternary\"}], \"surface\": [{\"colorbar\": {\"outlinewidth\": 0, \"ticks\": \"\"}, \"colorscale\": [[0.0, \"#0d0887\"], [0.1111111111111111, \"#46039f\"], [0.2222222222222222, \"#7201a8\"], [0.3333333333333333, \"#9c179e\"], [0.4444444444444444, \"#bd3786\"], [0.5555555555555556, \"#d8576b\"], [0.6666666666666666, \"#ed7953\"], [0.7777777777777778, \"#fb9f3a\"], [0.8888888888888888, \"#fdca26\"], [1.0, \"#f0f921\"]], \"type\": \"surface\"}], \"table\": [{\"cells\": {\"fill\": {\"color\": \"#EBF0F8\"}, \"line\": {\"color\": \"white\"}}, \"header\": {\"fill\": {\"color\": \"#C8D4E3\"}, \"line\": {\"color\": \"white\"}}, \"type\": \"table\"}]}, \"layout\": {\"annotationdefaults\": {\"arrowcolor\": \"#2a3f5f\", \"arrowhead\": 0, \"arrowwidth\": 1}, \"coloraxis\": {\"colorbar\": {\"outlinewidth\": 0, \"ticks\": \"\"}}, \"colorscale\": {\"diverging\": [[0, \"#8e0152\"], [0.1, \"#c51b7d\"], [0.2, \"#de77ae\"], [0.3, \"#f1b6da\"], [0.4, \"#fde0ef\"], [0.5, \"#f7f7f7\"], [0.6, \"#e6f5d0\"], [0.7, \"#b8e186\"], [0.8, \"#7fbc41\"], [0.9, \"#4d9221\"], [1, \"#276419\"]], \"sequential\": [[0.0, \"#0d0887\"], [0.1111111111111111, \"#46039f\"], [0.2222222222222222, \"#7201a8\"], [0.3333333333333333, \"#9c179e\"], [0.4444444444444444, \"#bd3786\"], [0.5555555555555556, \"#d8576b\"], [0.6666666666666666, \"#ed7953\"], [0.7777777777777778, \"#fb9f3a\"], [0.8888888888888888, \"#fdca26\"], [1.0, \"#f0f921\"]], \"sequentialminus\": [[0.0, \"#0d0887\"], [0.1111111111111111, \"#46039f\"], [0.2222222222222222, \"#7201a8\"], [0.3333333333333333, \"#9c179e\"], [0.4444444444444444, \"#bd3786\"], [0.5555555555555556, \"#d8576b\"], [0.6666666666666666, \"#ed7953\"], [0.7777777777777778, \"#fb9f3a\"], [0.8888888888888888, \"#fdca26\"], [1.0, \"#f0f921\"]]}, \"colorway\": [\"#636efa\", \"#EF553B\", \"#00cc96\", \"#ab63fa\", \"#FFA15A\", \"#19d3f3\", \"#FF6692\", \"#B6E880\", \"#FF97FF\", \"#FECB52\"], \"font\": {\"color\": \"#2a3f5f\"}, \"geo\": {\"bgcolor\": \"white\", \"lakecolor\": \"white\", \"landcolor\": \"#E5ECF6\", \"showlakes\": true, \"showland\": true, \"subunitcolor\": \"white\"}, \"hoverlabel\": {\"align\": \"left\"}, \"hovermode\": \"closest\", \"mapbox\": {\"style\": \"light\"}, \"paper_bgcolor\": \"white\", \"plot_bgcolor\": \"#E5ECF6\", \"polar\": {\"angularaxis\": {\"gridcolor\": \"white\", \"linecolor\": \"white\", \"ticks\": \"\"}, \"bgcolor\": \"#E5ECF6\", \"radialaxis\": {\"gridcolor\": \"white\", \"linecolor\": \"white\", \"ticks\": \"\"}}, \"scene\": {\"xaxis\": {\"backgroundcolor\": \"#E5ECF6\", \"gridcolor\": \"white\", \"gridwidth\": 2, \"linecolor\": \"white\", \"showbackground\": true, \"ticks\": \"\", \"zerolinecolor\": \"white\"}, \"yaxis\": {\"backgroundcolor\": \"#E5ECF6\", \"gridcolor\": \"white\", \"gridwidth\": 2, \"linecolor\": \"white\", \"showbackground\": true, \"ticks\": \"\", \"zerolinecolor\": \"white\"}, \"zaxis\": {\"backgroundcolor\": \"#E5ECF6\", \"gridcolor\": \"white\", \"gridwidth\": 2, \"linecolor\": \"white\", \"showbackground\": true, \"ticks\": \"\", \"zerolinecolor\": \"white\"}}, \"shapedefaults\": {\"line\": {\"color\": \"#2a3f5f\"}}, \"ternary\": {\"aaxis\": {\"gridcolor\": \"white\", \"linecolor\": \"white\", \"ticks\": \"\"}, \"baxis\": {\"gridcolor\": \"white\", \"linecolor\": \"white\", \"ticks\": \"\"}, \"bgcolor\": \"#E5ECF6\", \"caxis\": {\"gridcolor\": \"white\", \"linecolor\": \"white\", \"ticks\": \"\"}}, \"title\": {\"x\": 0.05}, \"xaxis\": {\"automargin\": true, \"gridcolor\": \"white\", \"linecolor\": \"white\", \"ticks\": \"\", \"title\": {\"standoff\": 15}, \"zerolinecolor\": \"white\", \"zerolinewidth\": 2}, \"yaxis\": {\"automargin\": true, \"gridcolor\": \"white\", \"linecolor\": \"white\", \"ticks\": \"\", \"title\": {\"standoff\": 15}, \"zerolinecolor\": \"white\", \"zerolinewidth\": 2}}}, \"xaxis\": {\"anchor\": \"y\", \"domain\": [0.0, 1.0], \"title\": {\"text\": \"target\"}}, \"yaxis\": {\"anchor\": \"x\", \"domain\": [0.0, 1.0], \"title\": {\"text\": \"count\"}}},\n",
       "                        {\"responsive\": true}\n",
       "                    ).then(function(){\n",
       "                            \n",
       "var gd = document.getElementById('4ff7ef6c-93fe-41be-838c-75e830f80567');\n",
       "var x = new MutationObserver(function (mutations, observer) {{\n",
       "        var display = window.getComputedStyle(gd).display;\n",
       "        if (!display || display === 'none') {{\n",
       "            console.log([gd, 'removed!']);\n",
       "            Plotly.purge(gd);\n",
       "            observer.disconnect();\n",
       "        }}\n",
       "}});\n",
       "\n",
       "// Listen for the removal of the full notebook cells\n",
       "var notebookContainer = gd.closest('#notebook-container');\n",
       "if (notebookContainer) {{\n",
       "    x.observe(notebookContainer, {childList: true});\n",
       "}}\n",
       "\n",
       "// Listen for the clearing of the current output cell\n",
       "var outputEl = gd.closest('.output');\n",
       "if (outputEl) {{\n",
       "    x.observe(outputEl, {childList: true});\n",
       "}}\n",
       "\n",
       "                        })\n",
       "                };\n",
       "                });\n",
       "            </script>\n",
       "        </div>"
      ]
     },
     "metadata": {},
     "output_type": "display_data"
    },
    {
     "data": {
      "application/vnd.plotly.v1+json": {
       "config": {
        "plotlyServerURL": "https://plot.ly"
       },
       "data": [
        {
         "name": "Mg",
         "type": "box",
         "y": [
          127,
          100,
          101,
          113,
          118,
          112,
          96,
          121,
          97,
          98,
          105,
          95,
          89,
          91,
          102,
          112,
          120,
          115,
          108,
          116,
          126,
          102,
          101,
          95,
          96,
          124,
          93,
          94,
          107,
          96,
          101,
          106,
          104,
          132,
          110,
          100,
          110,
          98,
          98,
          128,
          117,
          90,
          101,
          103,
          107,
          111,
          102,
          101,
          103,
          108,
          92,
          94,
          111,
          115,
          118,
          116,
          118,
          102,
          108,
          88,
          101,
          100,
          94,
          87,
          104,
          98,
          78,
          78,
          110,
          151,
          103,
          86,
          87,
          139,
          101,
          97,
          86,
          112,
          136,
          101,
          86,
          86,
          78,
          85,
          94,
          99,
          90,
          88,
          84,
          70,
          81,
          86,
          80,
          88,
          98,
          162,
          134,
          85,
          88,
          88,
          97,
          88,
          98,
          86,
          85,
          90,
          80,
          84,
          92,
          94,
          107,
          88,
          103,
          88,
          84,
          85,
          86,
          108,
          80,
          87,
          96,
          119,
          102,
          86,
          82,
          85,
          86,
          92,
          88,
          80,
          122,
          104,
          98,
          106,
          85,
          94,
          89,
          96,
          88,
          101,
          96,
          89,
          97,
          92,
          112,
          102,
          80,
          86,
          92,
          113,
          123,
          112,
          116,
          98,
          103,
          93,
          89,
          97,
          98,
          89,
          88,
          107,
          106,
          106,
          90,
          88,
          111,
          88,
          105,
          112,
          96,
          86,
          91,
          95,
          102,
          120,
          120,
          96
         ]
        }
       ],
       "layout": {
        "autosize": true,
        "template": {
         "data": {
          "bar": [
           {
            "error_x": {
             "color": "#2a3f5f"
            },
            "error_y": {
             "color": "#2a3f5f"
            },
            "marker": {
             "line": {
              "color": "#E5ECF6",
              "width": 0.5
             }
            },
            "type": "bar"
           }
          ],
          "barpolar": [
           {
            "marker": {
             "line": {
              "color": "#E5ECF6",
              "width": 0.5
             }
            },
            "type": "barpolar"
           }
          ],
          "carpet": [
           {
            "aaxis": {
             "endlinecolor": "#2a3f5f",
             "gridcolor": "white",
             "linecolor": "white",
             "minorgridcolor": "white",
             "startlinecolor": "#2a3f5f"
            },
            "baxis": {
             "endlinecolor": "#2a3f5f",
             "gridcolor": "white",
             "linecolor": "white",
             "minorgridcolor": "white",
             "startlinecolor": "#2a3f5f"
            },
            "type": "carpet"
           }
          ],
          "choropleth": [
           {
            "colorbar": {
             "outlinewidth": 0,
             "ticks": ""
            },
            "type": "choropleth"
           }
          ],
          "contour": [
           {
            "colorbar": {
             "outlinewidth": 0,
             "ticks": ""
            },
            "colorscale": [
             [
              0,
              "#0d0887"
             ],
             [
              0.1111111111111111,
              "#46039f"
             ],
             [
              0.2222222222222222,
              "#7201a8"
             ],
             [
              0.3333333333333333,
              "#9c179e"
             ],
             [
              0.4444444444444444,
              "#bd3786"
             ],
             [
              0.5555555555555556,
              "#d8576b"
             ],
             [
              0.6666666666666666,
              "#ed7953"
             ],
             [
              0.7777777777777778,
              "#fb9f3a"
             ],
             [
              0.8888888888888888,
              "#fdca26"
             ],
             [
              1,
              "#f0f921"
             ]
            ],
            "type": "contour"
           }
          ],
          "contourcarpet": [
           {
            "colorbar": {
             "outlinewidth": 0,
             "ticks": ""
            },
            "type": "contourcarpet"
           }
          ],
          "heatmap": [
           {
            "colorbar": {
             "outlinewidth": 0,
             "ticks": ""
            },
            "colorscale": [
             [
              0,
              "#0d0887"
             ],
             [
              0.1111111111111111,
              "#46039f"
             ],
             [
              0.2222222222222222,
              "#7201a8"
             ],
             [
              0.3333333333333333,
              "#9c179e"
             ],
             [
              0.4444444444444444,
              "#bd3786"
             ],
             [
              0.5555555555555556,
              "#d8576b"
             ],
             [
              0.6666666666666666,
              "#ed7953"
             ],
             [
              0.7777777777777778,
              "#fb9f3a"
             ],
             [
              0.8888888888888888,
              "#fdca26"
             ],
             [
              1,
              "#f0f921"
             ]
            ],
            "type": "heatmap"
           }
          ],
          "heatmapgl": [
           {
            "colorbar": {
             "outlinewidth": 0,
             "ticks": ""
            },
            "colorscale": [
             [
              0,
              "#0d0887"
             ],
             [
              0.1111111111111111,
              "#46039f"
             ],
             [
              0.2222222222222222,
              "#7201a8"
             ],
             [
              0.3333333333333333,
              "#9c179e"
             ],
             [
              0.4444444444444444,
              "#bd3786"
             ],
             [
              0.5555555555555556,
              "#d8576b"
             ],
             [
              0.6666666666666666,
              "#ed7953"
             ],
             [
              0.7777777777777778,
              "#fb9f3a"
             ],
             [
              0.8888888888888888,
              "#fdca26"
             ],
             [
              1,
              "#f0f921"
             ]
            ],
            "type": "heatmapgl"
           }
          ],
          "histogram": [
           {
            "marker": {
             "colorbar": {
              "outlinewidth": 0,
              "ticks": ""
             }
            },
            "type": "histogram"
           }
          ],
          "histogram2d": [
           {
            "colorbar": {
             "outlinewidth": 0,
             "ticks": ""
            },
            "colorscale": [
             [
              0,
              "#0d0887"
             ],
             [
              0.1111111111111111,
              "#46039f"
             ],
             [
              0.2222222222222222,
              "#7201a8"
             ],
             [
              0.3333333333333333,
              "#9c179e"
             ],
             [
              0.4444444444444444,
              "#bd3786"
             ],
             [
              0.5555555555555556,
              "#d8576b"
             ],
             [
              0.6666666666666666,
              "#ed7953"
             ],
             [
              0.7777777777777778,
              "#fb9f3a"
             ],
             [
              0.8888888888888888,
              "#fdca26"
             ],
             [
              1,
              "#f0f921"
             ]
            ],
            "type": "histogram2d"
           }
          ],
          "histogram2dcontour": [
           {
            "colorbar": {
             "outlinewidth": 0,
             "ticks": ""
            },
            "colorscale": [
             [
              0,
              "#0d0887"
             ],
             [
              0.1111111111111111,
              "#46039f"
             ],
             [
              0.2222222222222222,
              "#7201a8"
             ],
             [
              0.3333333333333333,
              "#9c179e"
             ],
             [
              0.4444444444444444,
              "#bd3786"
             ],
             [
              0.5555555555555556,
              "#d8576b"
             ],
             [
              0.6666666666666666,
              "#ed7953"
             ],
             [
              0.7777777777777778,
              "#fb9f3a"
             ],
             [
              0.8888888888888888,
              "#fdca26"
             ],
             [
              1,
              "#f0f921"
             ]
            ],
            "type": "histogram2dcontour"
           }
          ],
          "mesh3d": [
           {
            "colorbar": {
             "outlinewidth": 0,
             "ticks": ""
            },
            "type": "mesh3d"
           }
          ],
          "parcoords": [
           {
            "line": {
             "colorbar": {
              "outlinewidth": 0,
              "ticks": ""
             }
            },
            "type": "parcoords"
           }
          ],
          "pie": [
           {
            "automargin": true,
            "type": "pie"
           }
          ],
          "scatter": [
           {
            "marker": {
             "colorbar": {
              "outlinewidth": 0,
              "ticks": ""
             }
            },
            "type": "scatter"
           }
          ],
          "scatter3d": [
           {
            "line": {
             "colorbar": {
              "outlinewidth": 0,
              "ticks": ""
             }
            },
            "marker": {
             "colorbar": {
              "outlinewidth": 0,
              "ticks": ""
             }
            },
            "type": "scatter3d"
           }
          ],
          "scattercarpet": [
           {
            "marker": {
             "colorbar": {
              "outlinewidth": 0,
              "ticks": ""
             }
            },
            "type": "scattercarpet"
           }
          ],
          "scattergeo": [
           {
            "marker": {
             "colorbar": {
              "outlinewidth": 0,
              "ticks": ""
             }
            },
            "type": "scattergeo"
           }
          ],
          "scattergl": [
           {
            "marker": {
             "colorbar": {
              "outlinewidth": 0,
              "ticks": ""
             }
            },
            "type": "scattergl"
           }
          ],
          "scattermapbox": [
           {
            "marker": {
             "colorbar": {
              "outlinewidth": 0,
              "ticks": ""
             }
            },
            "type": "scattermapbox"
           }
          ],
          "scatterpolar": [
           {
            "marker": {
             "colorbar": {
              "outlinewidth": 0,
              "ticks": ""
             }
            },
            "type": "scatterpolar"
           }
          ],
          "scatterpolargl": [
           {
            "marker": {
             "colorbar": {
              "outlinewidth": 0,
              "ticks": ""
             }
            },
            "type": "scatterpolargl"
           }
          ],
          "scatterternary": [
           {
            "marker": {
             "colorbar": {
              "outlinewidth": 0,
              "ticks": ""
             }
            },
            "type": "scatterternary"
           }
          ],
          "surface": [
           {
            "colorbar": {
             "outlinewidth": 0,
             "ticks": ""
            },
            "colorscale": [
             [
              0,
              "#0d0887"
             ],
             [
              0.1111111111111111,
              "#46039f"
             ],
             [
              0.2222222222222222,
              "#7201a8"
             ],
             [
              0.3333333333333333,
              "#9c179e"
             ],
             [
              0.4444444444444444,
              "#bd3786"
             ],
             [
              0.5555555555555556,
              "#d8576b"
             ],
             [
              0.6666666666666666,
              "#ed7953"
             ],
             [
              0.7777777777777778,
              "#fb9f3a"
             ],
             [
              0.8888888888888888,
              "#fdca26"
             ],
             [
              1,
              "#f0f921"
             ]
            ],
            "type": "surface"
           }
          ],
          "table": [
           {
            "cells": {
             "fill": {
              "color": "#EBF0F8"
             },
             "line": {
              "color": "white"
             }
            },
            "header": {
             "fill": {
              "color": "#C8D4E3"
             },
             "line": {
              "color": "white"
             }
            },
            "type": "table"
           }
          ]
         },
         "layout": {
          "annotationdefaults": {
           "arrowcolor": "#2a3f5f",
           "arrowhead": 0,
           "arrowwidth": 1
          },
          "coloraxis": {
           "colorbar": {
            "outlinewidth": 0,
            "ticks": ""
           }
          },
          "colorscale": {
           "diverging": [
            [
             0,
             "#8e0152"
            ],
            [
             0.1,
             "#c51b7d"
            ],
            [
             0.2,
             "#de77ae"
            ],
            [
             0.3,
             "#f1b6da"
            ],
            [
             0.4,
             "#fde0ef"
            ],
            [
             0.5,
             "#f7f7f7"
            ],
            [
             0.6,
             "#e6f5d0"
            ],
            [
             0.7,
             "#b8e186"
            ],
            [
             0.8,
             "#7fbc41"
            ],
            [
             0.9,
             "#4d9221"
            ],
            [
             1,
             "#276419"
            ]
           ],
           "sequential": [
            [
             0,
             "#0d0887"
            ],
            [
             0.1111111111111111,
             "#46039f"
            ],
            [
             0.2222222222222222,
             "#7201a8"
            ],
            [
             0.3333333333333333,
             "#9c179e"
            ],
            [
             0.4444444444444444,
             "#bd3786"
            ],
            [
             0.5555555555555556,
             "#d8576b"
            ],
            [
             0.6666666666666666,
             "#ed7953"
            ],
            [
             0.7777777777777778,
             "#fb9f3a"
            ],
            [
             0.8888888888888888,
             "#fdca26"
            ],
            [
             1,
             "#f0f921"
            ]
           ],
           "sequentialminus": [
            [
             0,
             "#0d0887"
            ],
            [
             0.1111111111111111,
             "#46039f"
            ],
            [
             0.2222222222222222,
             "#7201a8"
            ],
            [
             0.3333333333333333,
             "#9c179e"
            ],
            [
             0.4444444444444444,
             "#bd3786"
            ],
            [
             0.5555555555555556,
             "#d8576b"
            ],
            [
             0.6666666666666666,
             "#ed7953"
            ],
            [
             0.7777777777777778,
             "#fb9f3a"
            ],
            [
             0.8888888888888888,
             "#fdca26"
            ],
            [
             1,
             "#f0f921"
            ]
           ]
          },
          "colorway": [
           "#636efa",
           "#EF553B",
           "#00cc96",
           "#ab63fa",
           "#FFA15A",
           "#19d3f3",
           "#FF6692",
           "#B6E880",
           "#FF97FF",
           "#FECB52"
          ],
          "font": {
           "color": "#2a3f5f"
          },
          "geo": {
           "bgcolor": "white",
           "lakecolor": "white",
           "landcolor": "#E5ECF6",
           "showlakes": true,
           "showland": true,
           "subunitcolor": "white"
          },
          "hoverlabel": {
           "align": "left"
          },
          "hovermode": "closest",
          "mapbox": {
           "style": "light"
          },
          "paper_bgcolor": "white",
          "plot_bgcolor": "#E5ECF6",
          "polar": {
           "angularaxis": {
            "gridcolor": "white",
            "linecolor": "white",
            "ticks": ""
           },
           "bgcolor": "#E5ECF6",
           "radialaxis": {
            "gridcolor": "white",
            "linecolor": "white",
            "ticks": ""
           }
          },
          "scene": {
           "xaxis": {
            "backgroundcolor": "#E5ECF6",
            "gridcolor": "white",
            "gridwidth": 2,
            "linecolor": "white",
            "showbackground": true,
            "ticks": "",
            "zerolinecolor": "white"
           },
           "yaxis": {
            "backgroundcolor": "#E5ECF6",
            "gridcolor": "white",
            "gridwidth": 2,
            "linecolor": "white",
            "showbackground": true,
            "ticks": "",
            "zerolinecolor": "white"
           },
           "zaxis": {
            "backgroundcolor": "#E5ECF6",
            "gridcolor": "white",
            "gridwidth": 2,
            "linecolor": "white",
            "showbackground": true,
            "ticks": "",
            "zerolinecolor": "white"
           }
          },
          "shapedefaults": {
           "line": {
            "color": "#2a3f5f"
           }
          },
          "ternary": {
           "aaxis": {
            "gridcolor": "white",
            "linecolor": "white",
            "ticks": ""
           },
           "baxis": {
            "gridcolor": "white",
            "linecolor": "white",
            "ticks": ""
           },
           "bgcolor": "#E5ECF6",
           "caxis": {
            "gridcolor": "white",
            "linecolor": "white",
            "ticks": ""
           }
          },
          "title": {
           "x": 0.05
          },
          "xaxis": {
           "automargin": true,
           "gridcolor": "white",
           "linecolor": "white",
           "ticks": "",
           "title": {
            "standoff": 15
           },
           "zerolinecolor": "white",
           "zerolinewidth": 2
          },
          "yaxis": {
           "automargin": true,
           "gridcolor": "white",
           "linecolor": "white",
           "ticks": "",
           "title": {
            "standoff": 15
           },
           "zerolinecolor": "white",
           "zerolinewidth": 2
          }
         }
        },
        "title": {
         "text": "Wine var distros"
        },
        "xaxis": {
         "autorange": true,
         "range": [
          -0.5,
          0.5
         ],
         "type": "category"
        },
        "yaxis": {
         "autorange": true,
         "range": [
          64.88888888888889,
          167.11111111111111
         ],
         "title": {
          "text": "unit"
         },
         "type": "linear"
        }
       }
      },
      "image/png": "[encoded data removed]",
      "text/html": [
       "<div>\n",
       "        \n",
       "        \n",
       "            <div id=\"ed2a3706-acfe-4e28-b1fb-20724aa8b382\" class=\"plotly-graph-div\" style=\"height:525px; width:100%;\"></div>\n",
       "            <script type=\"text/javascript\">\n",
       "                require([\"plotly\"], function(Plotly) {\n",
       "                    window.PLOTLYENV=window.PLOTLYENV || {};\n",
       "                    \n",
       "                if (document.getElementById(\"ed2a3706-acfe-4e28-b1fb-20724aa8b382\")) {\n",
       "                    Plotly.newPlot(\n",
       "                        'ed2a3706-acfe-4e28-b1fb-20724aa8b382',\n",
       "                        [{\"name\": \"Mg\", \"type\": \"box\", \"y\": [127.0, 100.0, 101.0, 113.0, 118.0, 112.0, 96.0, 121.0, 97.0, 98.0, 105.0, 95.0, 89.0, 91.0, 102.0, 112.0, 120.0, 115.0, 108.0, 116.0, 126.0, 102.0, 101.0, 95.0, 96.0, 124.0, 93.0, 94.0, 107.0, 96.0, 101.0, 106.0, 104.0, 132.0, 110.0, 100.0, 110.0, 98.0, 98.0, 128.0, 117.0, 90.0, 101.0, 103.0, 107.0, 111.0, 102.0, 101.0, 103.0, 108.0, 92.0, 94.0, 111.0, 115.0, 118.0, 116.0, 118.0, 102.0, 108.0, 88.0, 101.0, 100.0, 94.0, 87.0, 104.0, 98.0, 78.0, 78.0, 110.0, 151.0, 103.0, 86.0, 87.0, 139.0, 101.0, 97.0, 86.0, 112.0, 136.0, 101.0, 86.0, 86.0, 78.0, 85.0, 94.0, 99.0, 90.0, 88.0, 84.0, 70.0, 81.0, 86.0, 80.0, 88.0, 98.0, 162.0, 134.0, 85.0, 88.0, 88.0, 97.0, 88.0, 98.0, 86.0, 85.0, 90.0, 80.0, 84.0, 92.0, 94.0, 107.0, 88.0, 103.0, 88.0, 84.0, 85.0, 86.0, 108.0, 80.0, 87.0, 96.0, 119.0, 102.0, 86.0, 82.0, 85.0, 86.0, 92.0, 88.0, 80.0, 122.0, 104.0, 98.0, 106.0, 85.0, 94.0, 89.0, 96.0, 88.0, 101.0, 96.0, 89.0, 97.0, 92.0, 112.0, 102.0, 80.0, 86.0, 92.0, 113.0, 123.0, 112.0, 116.0, 98.0, 103.0, 93.0, 89.0, 97.0, 98.0, 89.0, 88.0, 107.0, 106.0, 106.0, 90.0, 88.0, 111.0, 88.0, 105.0, 112.0, 96.0, 86.0, 91.0, 95.0, 102.0, 120.0, 120.0, 96.0]}],\n",
       "                        {\"template\": {\"data\": {\"bar\": [{\"error_x\": {\"color\": \"#2a3f5f\"}, \"error_y\": {\"color\": \"#2a3f5f\"}, \"marker\": {\"line\": {\"color\": \"#E5ECF6\", \"width\": 0.5}}, \"type\": \"bar\"}], \"barpolar\": [{\"marker\": {\"line\": {\"color\": \"#E5ECF6\", \"width\": 0.5}}, \"type\": \"barpolar\"}], \"carpet\": [{\"aaxis\": {\"endlinecolor\": \"#2a3f5f\", \"gridcolor\": \"white\", \"linecolor\": \"white\", \"minorgridcolor\": \"white\", \"startlinecolor\": \"#2a3f5f\"}, \"baxis\": {\"endlinecolor\": \"#2a3f5f\", \"gridcolor\": \"white\", \"linecolor\": \"white\", \"minorgridcolor\": \"white\", \"startlinecolor\": \"#2a3f5f\"}, \"type\": \"carpet\"}], \"choropleth\": [{\"colorbar\": {\"outlinewidth\": 0, \"ticks\": \"\"}, \"type\": \"choropleth\"}], \"contour\": [{\"colorbar\": {\"outlinewidth\": 0, \"ticks\": \"\"}, \"colorscale\": [[0.0, \"#0d0887\"], [0.1111111111111111, \"#46039f\"], [0.2222222222222222, \"#7201a8\"], [0.3333333333333333, \"#9c179e\"], [0.4444444444444444, \"#bd3786\"], [0.5555555555555556, \"#d8576b\"], [0.6666666666666666, \"#ed7953\"], [0.7777777777777778, \"#fb9f3a\"], [0.8888888888888888, \"#fdca26\"], [1.0, \"#f0f921\"]], \"type\": \"contour\"}], \"contourcarpet\": [{\"colorbar\": {\"outlinewidth\": 0, \"ticks\": \"\"}, \"type\": \"contourcarpet\"}], \"heatmap\": [{\"colorbar\": {\"outlinewidth\": 0, \"ticks\": \"\"}, \"colorscale\": [[0.0, \"#0d0887\"], [0.1111111111111111, \"#46039f\"], [0.2222222222222222, \"#7201a8\"], [0.3333333333333333, \"#9c179e\"], [0.4444444444444444, \"#bd3786\"], [0.5555555555555556, \"#d8576b\"], [0.6666666666666666, \"#ed7953\"], [0.7777777777777778, \"#fb9f3a\"], [0.8888888888888888, \"#fdca26\"], [1.0, \"#f0f921\"]], \"type\": \"heatmap\"}], \"heatmapgl\": [{\"colorbar\": {\"outlinewidth\": 0, \"ticks\": \"\"}, \"colorscale\": [[0.0, \"#0d0887\"], [0.1111111111111111, \"#46039f\"], [0.2222222222222222, \"#7201a8\"], [0.3333333333333333, \"#9c179e\"], [0.4444444444444444, \"#bd3786\"], [0.5555555555555556, \"#d8576b\"], [0.6666666666666666, \"#ed7953\"], [0.7777777777777778, \"#fb9f3a\"], [0.8888888888888888, \"#fdca26\"], [1.0, \"#f0f921\"]], \"type\": \"heatmapgl\"}], \"histogram\": [{\"marker\": {\"colorbar\": {\"outlinewidth\": 0, \"ticks\": \"\"}}, \"type\": \"histogram\"}], \"histogram2d\": [{\"colorbar\": {\"outlinewidth\": 0, \"ticks\": \"\"}, \"colorscale\": [[0.0, \"#0d0887\"], [0.1111111111111111, \"#46039f\"], [0.2222222222222222, \"#7201a8\"], [0.3333333333333333, \"#9c179e\"], [0.4444444444444444, \"#bd3786\"], [0.5555555555555556, \"#d8576b\"], [0.6666666666666666, \"#ed7953\"], [0.7777777777777778, \"#fb9f3a\"], [0.8888888888888888, \"#fdca26\"], [1.0, \"#f0f921\"]], \"type\": \"histogram2d\"}], \"histogram2dcontour\": [{\"colorbar\": {\"outlinewidth\": 0, \"ticks\": \"\"}, \"colorscale\": [[0.0, \"#0d0887\"], [0.1111111111111111, \"#46039f\"], [0.2222222222222222, \"#7201a8\"], [0.3333333333333333, \"#9c179e\"], [0.4444444444444444, \"#bd3786\"], [0.5555555555555556, \"#d8576b\"], [0.6666666666666666, \"#ed7953\"], [0.7777777777777778, \"#fb9f3a\"], [0.8888888888888888, \"#fdca26\"], [1.0, \"#f0f921\"]], \"type\": \"histogram2dcontour\"}], \"mesh3d\": [{\"colorbar\": {\"outlinewidth\": 0, \"ticks\": \"\"}, \"type\": \"mesh3d\"}], \"parcoords\": [{\"line\": {\"colorbar\": {\"outlinewidth\": 0, \"ticks\": \"\"}}, \"type\": \"parcoords\"}], \"pie\": [{\"automargin\": true, \"type\": \"pie\"}], \"scatter\": [{\"marker\": {\"colorbar\": {\"outlinewidth\": 0, \"ticks\": \"\"}}, \"type\": \"scatter\"}], \"scatter3d\": [{\"line\": {\"colorbar\": {\"outlinewidth\": 0, \"ticks\": \"\"}}, \"marker\": {\"colorbar\": {\"outlinewidth\": 0, \"ticks\": \"\"}}, \"type\": \"scatter3d\"}], \"scattercarpet\": [{\"marker\": {\"colorbar\": {\"outlinewidth\": 0, \"ticks\": \"\"}}, \"type\": \"scattercarpet\"}], \"scattergeo\": [{\"marker\": {\"colorbar\": {\"outlinewidth\": 0, \"ticks\": \"\"}}, \"type\": \"scattergeo\"}], \"scattergl\": [{\"marker\": {\"colorbar\": {\"outlinewidth\": 0, \"ticks\": \"\"}}, \"type\": \"scattergl\"}], \"scattermapbox\": [{\"marker\": {\"colorbar\": {\"outlinewidth\": 0, \"ticks\": \"\"}}, \"type\": \"scattermapbox\"}], \"scatterpolar\": [{\"marker\": {\"colorbar\": {\"outlinewidth\": 0, \"ticks\": \"\"}}, \"type\": \"scatterpolar\"}], \"scatterpolargl\": [{\"marker\": {\"colorbar\": {\"outlinewidth\": 0, \"ticks\": \"\"}}, \"type\": \"scatterpolargl\"}], \"scatterternary\": [{\"marker\": {\"colorbar\": {\"outlinewidth\": 0, \"ticks\": \"\"}}, \"type\": \"scatterternary\"}], \"surface\": [{\"colorbar\": {\"outlinewidth\": 0, \"ticks\": \"\"}, \"colorscale\": [[0.0, \"#0d0887\"], [0.1111111111111111, \"#46039f\"], [0.2222222222222222, \"#7201a8\"], [0.3333333333333333, \"#9c179e\"], [0.4444444444444444, \"#bd3786\"], [0.5555555555555556, \"#d8576b\"], [0.6666666666666666, \"#ed7953\"], [0.7777777777777778, \"#fb9f3a\"], [0.8888888888888888, \"#fdca26\"], [1.0, \"#f0f921\"]], \"type\": \"surface\"}], \"table\": [{\"cells\": {\"fill\": {\"color\": \"#EBF0F8\"}, \"line\": {\"color\": \"white\"}}, \"header\": {\"fill\": {\"color\": \"#C8D4E3\"}, \"line\": {\"color\": \"white\"}}, \"type\": \"table\"}]}, \"layout\": {\"annotationdefaults\": {\"arrowcolor\": \"#2a3f5f\", \"arrowhead\": 0, \"arrowwidth\": 1}, \"coloraxis\": {\"colorbar\": {\"outlinewidth\": 0, \"ticks\": \"\"}}, \"colorscale\": {\"diverging\": [[0, \"#8e0152\"], [0.1, \"#c51b7d\"], [0.2, \"#de77ae\"], [0.3, \"#f1b6da\"], [0.4, \"#fde0ef\"], [0.5, \"#f7f7f7\"], [0.6, \"#e6f5d0\"], [0.7, \"#b8e186\"], [0.8, \"#7fbc41\"], [0.9, \"#4d9221\"], [1, \"#276419\"]], \"sequential\": [[0.0, \"#0d0887\"], [0.1111111111111111, \"#46039f\"], [0.2222222222222222, \"#7201a8\"], [0.3333333333333333, \"#9c179e\"], [0.4444444444444444, \"#bd3786\"], [0.5555555555555556, \"#d8576b\"], [0.6666666666666666, \"#ed7953\"], [0.7777777777777778, \"#fb9f3a\"], [0.8888888888888888, \"#fdca26\"], [1.0, \"#f0f921\"]], \"sequentialminus\": [[0.0, \"#0d0887\"], [0.1111111111111111, \"#46039f\"], [0.2222222222222222, \"#7201a8\"], [0.3333333333333333, \"#9c179e\"], [0.4444444444444444, \"#bd3786\"], [0.5555555555555556, \"#d8576b\"], [0.6666666666666666, \"#ed7953\"], [0.7777777777777778, \"#fb9f3a\"], [0.8888888888888888, \"#fdca26\"], [1.0, \"#f0f921\"]]}, \"colorway\": [\"#636efa\", \"#EF553B\", \"#00cc96\", \"#ab63fa\", \"#FFA15A\", \"#19d3f3\", \"#FF6692\", \"#B6E880\", \"#FF97FF\", \"#FECB52\"], \"font\": {\"color\": \"#2a3f5f\"}, \"geo\": {\"bgcolor\": \"white\", \"lakecolor\": \"white\", \"landcolor\": \"#E5ECF6\", \"showlakes\": true, \"showland\": true, \"subunitcolor\": \"white\"}, \"hoverlabel\": {\"align\": \"left\"}, \"hovermode\": \"closest\", \"mapbox\": {\"style\": \"light\"}, \"paper_bgcolor\": \"white\", \"plot_bgcolor\": \"#E5ECF6\", \"polar\": {\"angularaxis\": {\"gridcolor\": \"white\", \"linecolor\": \"white\", \"ticks\": \"\"}, \"bgcolor\": \"#E5ECF6\", \"radialaxis\": {\"gridcolor\": \"white\", \"linecolor\": \"white\", \"ticks\": \"\"}}, \"scene\": {\"xaxis\": {\"backgroundcolor\": \"#E5ECF6\", \"gridcolor\": \"white\", \"gridwidth\": 2, \"linecolor\": \"white\", \"showbackground\": true, \"ticks\": \"\", \"zerolinecolor\": \"white\"}, \"yaxis\": {\"backgroundcolor\": \"#E5ECF6\", \"gridcolor\": \"white\", \"gridwidth\": 2, \"linecolor\": \"white\", \"showbackground\": true, \"ticks\": \"\", \"zerolinecolor\": \"white\"}, \"zaxis\": {\"backgroundcolor\": \"#E5ECF6\", \"gridcolor\": \"white\", \"gridwidth\": 2, \"linecolor\": \"white\", \"showbackground\": true, \"ticks\": \"\", \"zerolinecolor\": \"white\"}}, \"shapedefaults\": {\"line\": {\"color\": \"#2a3f5f\"}}, \"ternary\": {\"aaxis\": {\"gridcolor\": \"white\", \"linecolor\": \"white\", \"ticks\": \"\"}, \"baxis\": {\"gridcolor\": \"white\", \"linecolor\": \"white\", \"ticks\": \"\"}, \"bgcolor\": \"#E5ECF6\", \"caxis\": {\"gridcolor\": \"white\", \"linecolor\": \"white\", \"ticks\": \"\"}}, \"title\": {\"x\": 0.05}, \"xaxis\": {\"automargin\": true, \"gridcolor\": \"white\", \"linecolor\": \"white\", \"ticks\": \"\", \"title\": {\"standoff\": 15}, \"zerolinecolor\": \"white\", \"zerolinewidth\": 2}, \"yaxis\": {\"automargin\": true, \"gridcolor\": \"white\", \"linecolor\": \"white\", \"ticks\": \"\", \"title\": {\"standoff\": 15}, \"zerolinecolor\": \"white\", \"zerolinewidth\": 2}}}, \"title\": {\"text\": \"Wine var distros\"}, \"yaxis\": {\"title\": {\"text\": \"unit\"}}},\n",
       "                        {\"responsive\": true}\n",
       "                    ).then(function(){\n",
       "                            \n",
       "var gd = document.getElementById('ed2a3706-acfe-4e28-b1fb-20724aa8b382');\n",
       "var x = new MutationObserver(function (mutations, observer) {{\n",
       "        var display = window.getComputedStyle(gd).display;\n",
       "        if (!display || display === 'none') {{\n",
       "            console.log([gd, 'removed!']);\n",
       "            Plotly.purge(gd);\n",
       "            observer.disconnect();\n",
       "        }}\n",
       "}});\n",
       "\n",
       "// Listen for the removal of the full notebook cells\n",
       "var notebookContainer = gd.closest('#notebook-container');\n",
       "if (notebookContainer) {{\n",
       "    x.observe(notebookContainer, {childList: true});\n",
       "}}\n",
       "\n",
       "// Listen for the clearing of the current output cell\n",
       "var outputEl = gd.closest('.output');\n",
       "if (outputEl) {{\n",
       "    x.observe(outputEl, {childList: true});\n",
       "}}\n",
       "\n",
       "                        })\n",
       "                };\n",
       "                });\n",
       "            </script>\n",
       "        </div>"
      ]
     },
     "metadata": {},
     "output_type": "display_data"
    },
    {
     "data": {
      "application/vnd.plotly.v1+json": {
       "config": {
        "plotlyServerURL": "https://plot.ly"
       },
       "data": [
        {
         "name": "proline",
         "type": "box",
         "y": [
          1065,
          1050,
          1185,
          1480,
          735,
          1450,
          1290,
          1295,
          1045,
          1045,
          1510,
          1280,
          1320,
          1150,
          1547,
          1310,
          1280,
          1130,
          1680,
          845,
          780,
          770,
          1035,
          1015,
          845,
          830,
          1195,
          1285,
          915,
          1035,
          1285,
          1515,
          990,
          1235,
          1095,
          920,
          880,
          1105,
          1020,
          760,
          795,
          1035,
          1095,
          680,
          885,
          1080,
          1065,
          985,
          1060,
          1260,
          1150,
          1265,
          1190,
          1375,
          1060,
          1120,
          970,
          1270,
          1285,
          520,
          680,
          450,
          630,
          420,
          355,
          678,
          502,
          510,
          750,
          718,
          870,
          410,
          472,
          985,
          886,
          428,
          392,
          500,
          750,
          463,
          278,
          714,
          630,
          515,
          520,
          450,
          495,
          562,
          680,
          625,
          480,
          450,
          495,
          290,
          345,
          937,
          625,
          428,
          660,
          406,
          710,
          562,
          438,
          415,
          672,
          315,
          510,
          488,
          312,
          680,
          562,
          325,
          607,
          434,
          385,
          407,
          495,
          345,
          372,
          564,
          625,
          465,
          365,
          380,
          380,
          378,
          352,
          466,
          342,
          580,
          630,
          530,
          560,
          600,
          650,
          695,
          720,
          515,
          580,
          590,
          600,
          780,
          520,
          550,
          855,
          830,
          415,
          625,
          650,
          550,
          500,
          480,
          425,
          675,
          640,
          725,
          480,
          880,
          660,
          620,
          520,
          680,
          570,
          675,
          615,
          520,
          695,
          685,
          750,
          630,
          510,
          470,
          660,
          740,
          750,
          835,
          840,
          560
         ]
        }
       ],
       "layout": {
        "autosize": true,
        "template": {
         "data": {
          "bar": [
           {
            "error_x": {
             "color": "#2a3f5f"
            },
            "error_y": {
             "color": "#2a3f5f"
            },
            "marker": {
             "line": {
              "color": "#E5ECF6",
              "width": 0.5
             }
            },
            "type": "bar"
           }
          ],
          "barpolar": [
           {
            "marker": {
             "line": {
              "color": "#E5ECF6",
              "width": 0.5
             }
            },
            "type": "barpolar"
           }
          ],
          "carpet": [
           {
            "aaxis": {
             "endlinecolor": "#2a3f5f",
             "gridcolor": "white",
             "linecolor": "white",
             "minorgridcolor": "white",
             "startlinecolor": "#2a3f5f"
            },
            "baxis": {
             "endlinecolor": "#2a3f5f",
             "gridcolor": "white",
             "linecolor": "white",
             "minorgridcolor": "white",
             "startlinecolor": "#2a3f5f"
            },
            "type": "carpet"
           }
          ],
          "choropleth": [
           {
            "colorbar": {
             "outlinewidth": 0,
             "ticks": ""
            },
            "type": "choropleth"
           }
          ],
          "contour": [
           {
            "colorbar": {
             "outlinewidth": 0,
             "ticks": ""
            },
            "colorscale": [
             [
              0,
              "#0d0887"
             ],
             [
              0.1111111111111111,
              "#46039f"
             ],
             [
              0.2222222222222222,
              "#7201a8"
             ],
             [
              0.3333333333333333,
              "#9c179e"
             ],
             [
              0.4444444444444444,
              "#bd3786"
             ],
             [
              0.5555555555555556,
              "#d8576b"
             ],
             [
              0.6666666666666666,
              "#ed7953"
             ],
             [
              0.7777777777777778,
              "#fb9f3a"
             ],
             [
              0.8888888888888888,
              "#fdca26"
             ],
             [
              1,
              "#f0f921"
             ]
            ],
            "type": "contour"
           }
          ],
          "contourcarpet": [
           {
            "colorbar": {
             "outlinewidth": 0,
             "ticks": ""
            },
            "type": "contourcarpet"
           }
          ],
          "heatmap": [
           {
            "colorbar": {
             "outlinewidth": 0,
             "ticks": ""
            },
            "colorscale": [
             [
              0,
              "#0d0887"
             ],
             [
              0.1111111111111111,
              "#46039f"
             ],
             [
              0.2222222222222222,
              "#7201a8"
             ],
             [
              0.3333333333333333,
              "#9c179e"
             ],
             [
              0.4444444444444444,
              "#bd3786"
             ],
             [
              0.5555555555555556,
              "#d8576b"
             ],
             [
              0.6666666666666666,
              "#ed7953"
             ],
             [
              0.7777777777777778,
              "#fb9f3a"
             ],
             [
              0.8888888888888888,
              "#fdca26"
             ],
             [
              1,
              "#f0f921"
             ]
            ],
            "type": "heatmap"
           }
          ],
          "heatmapgl": [
           {
            "colorbar": {
             "outlinewidth": 0,
             "ticks": ""
            },
            "colorscale": [
             [
              0,
              "#0d0887"
             ],
             [
              0.1111111111111111,
              "#46039f"
             ],
             [
              0.2222222222222222,
              "#7201a8"
             ],
             [
              0.3333333333333333,
              "#9c179e"
             ],
             [
              0.4444444444444444,
              "#bd3786"
             ],
             [
              0.5555555555555556,
              "#d8576b"
             ],
             [
              0.6666666666666666,
              "#ed7953"
             ],
             [
              0.7777777777777778,
              "#fb9f3a"
             ],
             [
              0.8888888888888888,
              "#fdca26"
             ],
             [
              1,
              "#f0f921"
             ]
            ],
            "type": "heatmapgl"
           }
          ],
          "histogram": [
           {
            "marker": {
             "colorbar": {
              "outlinewidth": 0,
              "ticks": ""
             }
            },
            "type": "histogram"
           }
          ],
          "histogram2d": [
           {
            "colorbar": {
             "outlinewidth": 0,
             "ticks": ""
            },
            "colorscale": [
             [
              0,
              "#0d0887"
             ],
             [
              0.1111111111111111,
              "#46039f"
             ],
             [
              0.2222222222222222,
              "#7201a8"
             ],
             [
              0.3333333333333333,
              "#9c179e"
             ],
             [
              0.4444444444444444,
              "#bd3786"
             ],
             [
              0.5555555555555556,
              "#d8576b"
             ],
             [
              0.6666666666666666,
              "#ed7953"
             ],
             [
              0.7777777777777778,
              "#fb9f3a"
             ],
             [
              0.8888888888888888,
              "#fdca26"
             ],
             [
              1,
              "#f0f921"
             ]
            ],
            "type": "histogram2d"
           }
          ],
          "histogram2dcontour": [
           {
            "colorbar": {
             "outlinewidth": 0,
             "ticks": ""
            },
            "colorscale": [
             [
              0,
              "#0d0887"
             ],
             [
              0.1111111111111111,
              "#46039f"
             ],
             [
              0.2222222222222222,
              "#7201a8"
             ],
             [
              0.3333333333333333,
              "#9c179e"
             ],
             [
              0.4444444444444444,
              "#bd3786"
             ],
             [
              0.5555555555555556,
              "#d8576b"
             ],
             [
              0.6666666666666666,
              "#ed7953"
             ],
             [
              0.7777777777777778,
              "#fb9f3a"
             ],
             [
              0.8888888888888888,
              "#fdca26"
             ],
             [
              1,
              "#f0f921"
             ]
            ],
            "type": "histogram2dcontour"
           }
          ],
          "mesh3d": [
           {
            "colorbar": {
             "outlinewidth": 0,
             "ticks": ""
            },
            "type": "mesh3d"
           }
          ],
          "parcoords": [
           {
            "line": {
             "colorbar": {
              "outlinewidth": 0,
              "ticks": ""
             }
            },
            "type": "parcoords"
           }
          ],
          "pie": [
           {
            "automargin": true,
            "type": "pie"
           }
          ],
          "scatter": [
           {
            "marker": {
             "colorbar": {
              "outlinewidth": 0,
              "ticks": ""
             }
            },
            "type": "scatter"
           }
          ],
          "scatter3d": [
           {
            "line": {
             "colorbar": {
              "outlinewidth": 0,
              "ticks": ""
             }
            },
            "marker": {
             "colorbar": {
              "outlinewidth": 0,
              "ticks": ""
             }
            },
            "type": "scatter3d"
           }
          ],
          "scattercarpet": [
           {
            "marker": {
             "colorbar": {
              "outlinewidth": 0,
              "ticks": ""
             }
            },
            "type": "scattercarpet"
           }
          ],
          "scattergeo": [
           {
            "marker": {
             "colorbar": {
              "outlinewidth": 0,
              "ticks": ""
             }
            },
            "type": "scattergeo"
           }
          ],
          "scattergl": [
           {
            "marker": {
             "colorbar": {
              "outlinewidth": 0,
              "ticks": ""
             }
            },
            "type": "scattergl"
           }
          ],
          "scattermapbox": [
           {
            "marker": {
             "colorbar": {
              "outlinewidth": 0,
              "ticks": ""
             }
            },
            "type": "scattermapbox"
           }
          ],
          "scatterpolar": [
           {
            "marker": {
             "colorbar": {
              "outlinewidth": 0,
              "ticks": ""
             }
            },
            "type": "scatterpolar"
           }
          ],
          "scatterpolargl": [
           {
            "marker": {
             "colorbar": {
              "outlinewidth": 0,
              "ticks": ""
             }
            },
            "type": "scatterpolargl"
           }
          ],
          "scatterternary": [
           {
            "marker": {
             "colorbar": {
              "outlinewidth": 0,
              "ticks": ""
             }
            },
            "type": "scatterternary"
           }
          ],
          "surface": [
           {
            "colorbar": {
             "outlinewidth": 0,
             "ticks": ""
            },
            "colorscale": [
             [
              0,
              "#0d0887"
             ],
             [
              0.1111111111111111,
              "#46039f"
             ],
             [
              0.2222222222222222,
              "#7201a8"
             ],
             [
              0.3333333333333333,
              "#9c179e"
             ],
             [
              0.4444444444444444,
              "#bd3786"
             ],
             [
              0.5555555555555556,
              "#d8576b"
             ],
             [
              0.6666666666666666,
              "#ed7953"
             ],
             [
              0.7777777777777778,
              "#fb9f3a"
             ],
             [
              0.8888888888888888,
              "#fdca26"
             ],
             [
              1,
              "#f0f921"
             ]
            ],
            "type": "surface"
           }
          ],
          "table": [
           {
            "cells": {
             "fill": {
              "color": "#EBF0F8"
             },
             "line": {
              "color": "white"
             }
            },
            "header": {
             "fill": {
              "color": "#C8D4E3"
             },
             "line": {
              "color": "white"
             }
            },
            "type": "table"
           }
          ]
         },
         "layout": {
          "annotationdefaults": {
           "arrowcolor": "#2a3f5f",
           "arrowhead": 0,
           "arrowwidth": 1
          },
          "coloraxis": {
           "colorbar": {
            "outlinewidth": 0,
            "ticks": ""
           }
          },
          "colorscale": {
           "diverging": [
            [
             0,
             "#8e0152"
            ],
            [
             0.1,
             "#c51b7d"
            ],
            [
             0.2,
             "#de77ae"
            ],
            [
             0.3,
             "#f1b6da"
            ],
            [
             0.4,
             "#fde0ef"
            ],
            [
             0.5,
             "#f7f7f7"
            ],
            [
             0.6,
             "#e6f5d0"
            ],
            [
             0.7,
             "#b8e186"
            ],
            [
             0.8,
             "#7fbc41"
            ],
            [
             0.9,
             "#4d9221"
            ],
            [
             1,
             "#276419"
            ]
           ],
           "sequential": [
            [
             0,
             "#0d0887"
            ],
            [
             0.1111111111111111,
             "#46039f"
            ],
            [
             0.2222222222222222,
             "#7201a8"
            ],
            [
             0.3333333333333333,
             "#9c179e"
            ],
            [
             0.4444444444444444,
             "#bd3786"
            ],
            [
             0.5555555555555556,
             "#d8576b"
            ],
            [
             0.6666666666666666,
             "#ed7953"
            ],
            [
             0.7777777777777778,
             "#fb9f3a"
            ],
            [
             0.8888888888888888,
             "#fdca26"
            ],
            [
             1,
             "#f0f921"
            ]
           ],
           "sequentialminus": [
            [
             0,
             "#0d0887"
            ],
            [
             0.1111111111111111,
             "#46039f"
            ],
            [
             0.2222222222222222,
             "#7201a8"
            ],
            [
             0.3333333333333333,
             "#9c179e"
            ],
            [
             0.4444444444444444,
             "#bd3786"
            ],
            [
             0.5555555555555556,
             "#d8576b"
            ],
            [
             0.6666666666666666,
             "#ed7953"
            ],
            [
             0.7777777777777778,
             "#fb9f3a"
            ],
            [
             0.8888888888888888,
             "#fdca26"
            ],
            [
             1,
             "#f0f921"
            ]
           ]
          },
          "colorway": [
           "#636efa",
           "#EF553B",
           "#00cc96",
           "#ab63fa",
           "#FFA15A",
           "#19d3f3",
           "#FF6692",
           "#B6E880",
           "#FF97FF",
           "#FECB52"
          ],
          "font": {
           "color": "#2a3f5f"
          },
          "geo": {
           "bgcolor": "white",
           "lakecolor": "white",
           "landcolor": "#E5ECF6",
           "showlakes": true,
           "showland": true,
           "subunitcolor": "white"
          },
          "hoverlabel": {
           "align": "left"
          },
          "hovermode": "closest",
          "mapbox": {
           "style": "light"
          },
          "paper_bgcolor": "white",
          "plot_bgcolor": "#E5ECF6",
          "polar": {
           "angularaxis": {
            "gridcolor": "white",
            "linecolor": "white",
            "ticks": ""
           },
           "bgcolor": "#E5ECF6",
           "radialaxis": {
            "gridcolor": "white",
            "linecolor": "white",
            "ticks": ""
           }
          },
          "scene": {
           "xaxis": {
            "backgroundcolor": "#E5ECF6",
            "gridcolor": "white",
            "gridwidth": 2,
            "linecolor": "white",
            "showbackground": true,
            "ticks": "",
            "zerolinecolor": "white"
           },
           "yaxis": {
            "backgroundcolor": "#E5ECF6",
            "gridcolor": "white",
            "gridwidth": 2,
            "linecolor": "white",
            "showbackground": true,
            "ticks": "",
            "zerolinecolor": "white"
           },
           "zaxis": {
            "backgroundcolor": "#E5ECF6",
            "gridcolor": "white",
            "gridwidth": 2,
            "linecolor": "white",
            "showbackground": true,
            "ticks": "",
            "zerolinecolor": "white"
           }
          },
          "shapedefaults": {
           "line": {
            "color": "#2a3f5f"
           }
          },
          "ternary": {
           "aaxis": {
            "gridcolor": "white",
            "linecolor": "white",
            "ticks": ""
           },
           "baxis": {
            "gridcolor": "white",
            "linecolor": "white",
            "ticks": ""
           },
           "bgcolor": "#E5ECF6",
           "caxis": {
            "gridcolor": "white",
            "linecolor": "white",
            "ticks": ""
           }
          },
          "title": {
           "x": 0.05
          },
          "xaxis": {
           "automargin": true,
           "gridcolor": "white",
           "linecolor": "white",
           "ticks": "",
           "title": {
            "standoff": 15
           },
           "zerolinecolor": "white",
           "zerolinewidth": 2
          },
          "yaxis": {
           "automargin": true,
           "gridcolor": "white",
           "linecolor": "white",
           "ticks": "",
           "title": {
            "standoff": 15
           },
           "zerolinecolor": "white",
           "zerolinewidth": 2
          }
         }
        },
        "xaxis": {
         "autorange": true,
         "range": [
          -0.5,
          0.5
         ],
         "type": "category"
        },
        "yaxis": {
         "autorange": true,
         "range": [
          200.11111111111111,
          1757.888888888889
         ],
         "type": "linear"
        }
       }
      },
      "image/png": "[encoded data removed]",
      "text/html": [
       "<div>\n",
       "        \n",
       "        \n",
       "            <div id=\"7f3de18c-6a10-4a01-8f30-7b102df11049\" class=\"plotly-graph-div\" style=\"height:525px; width:100%;\"></div>\n",
       "            <script type=\"text/javascript\">\n",
       "                require([\"plotly\"], function(Plotly) {\n",
       "                    window.PLOTLYENV=window.PLOTLYENV || {};\n",
       "                    \n",
       "                if (document.getElementById(\"7f3de18c-6a10-4a01-8f30-7b102df11049\")) {\n",
       "                    Plotly.newPlot(\n",
       "                        '7f3de18c-6a10-4a01-8f30-7b102df11049',\n",
       "                        [{\"name\": \"proline\", \"type\": \"box\", \"y\": [1065.0, 1050.0, 1185.0, 1480.0, 735.0, 1450.0, 1290.0, 1295.0, 1045.0, 1045.0, 1510.0, 1280.0, 1320.0, 1150.0, 1547.0, 1310.0, 1280.0, 1130.0, 1680.0, 845.0, 780.0, 770.0, 1035.0, 1015.0, 845.0, 830.0, 1195.0, 1285.0, 915.0, 1035.0, 1285.0, 1515.0, 990.0, 1235.0, 1095.0, 920.0, 880.0, 1105.0, 1020.0, 760.0, 795.0, 1035.0, 1095.0, 680.0, 885.0, 1080.0, 1065.0, 985.0, 1060.0, 1260.0, 1150.0, 1265.0, 1190.0, 1375.0, 1060.0, 1120.0, 970.0, 1270.0, 1285.0, 520.0, 680.0, 450.0, 630.0, 420.0, 355.0, 678.0, 502.0, 510.0, 750.0, 718.0, 870.0, 410.0, 472.0, 985.0, 886.0, 428.0, 392.0, 500.0, 750.0, 463.0, 278.0, 714.0, 630.0, 515.0, 520.0, 450.0, 495.0, 562.0, 680.0, 625.0, 480.0, 450.0, 495.0, 290.0, 345.0, 937.0, 625.0, 428.0, 660.0, 406.0, 710.0, 562.0, 438.0, 415.0, 672.0, 315.0, 510.0, 488.0, 312.0, 680.0, 562.0, 325.0, 607.0, 434.0, 385.0, 407.0, 495.0, 345.0, 372.0, 564.0, 625.0, 465.0, 365.0, 380.0, 380.0, 378.0, 352.0, 466.0, 342.0, 580.0, 630.0, 530.0, 560.0, 600.0, 650.0, 695.0, 720.0, 515.0, 580.0, 590.0, 600.0, 780.0, 520.0, 550.0, 855.0, 830.0, 415.0, 625.0, 650.0, 550.0, 500.0, 480.0, 425.0, 675.0, 640.0, 725.0, 480.0, 880.0, 660.0, 620.0, 520.0, 680.0, 570.0, 675.0, 615.0, 520.0, 695.0, 685.0, 750.0, 630.0, 510.0, 470.0, 660.0, 740.0, 750.0, 835.0, 840.0, 560.0]}],\n",
       "                        {\"template\": {\"data\": {\"bar\": [{\"error_x\": {\"color\": \"#2a3f5f\"}, \"error_y\": {\"color\": \"#2a3f5f\"}, \"marker\": {\"line\": {\"color\": \"#E5ECF6\", \"width\": 0.5}}, \"type\": \"bar\"}], \"barpolar\": [{\"marker\": {\"line\": {\"color\": \"#E5ECF6\", \"width\": 0.5}}, \"type\": \"barpolar\"}], \"carpet\": [{\"aaxis\": {\"endlinecolor\": \"#2a3f5f\", \"gridcolor\": \"white\", \"linecolor\": \"white\", \"minorgridcolor\": \"white\", \"startlinecolor\": \"#2a3f5f\"}, \"baxis\": {\"endlinecolor\": \"#2a3f5f\", \"gridcolor\": \"white\", \"linecolor\": \"white\", \"minorgridcolor\": \"white\", \"startlinecolor\": \"#2a3f5f\"}, \"type\": \"carpet\"}], \"choropleth\": [{\"colorbar\": {\"outlinewidth\": 0, \"ticks\": \"\"}, \"type\": \"choropleth\"}], \"contour\": [{\"colorbar\": {\"outlinewidth\": 0, \"ticks\": \"\"}, \"colorscale\": [[0.0, \"#0d0887\"], [0.1111111111111111, \"#46039f\"], [0.2222222222222222, \"#7201a8\"], [0.3333333333333333, \"#9c179e\"], [0.4444444444444444, \"#bd3786\"], [0.5555555555555556, \"#d8576b\"], [0.6666666666666666, \"#ed7953\"], [0.7777777777777778, \"#fb9f3a\"], [0.8888888888888888, \"#fdca26\"], [1.0, \"#f0f921\"]], \"type\": \"contour\"}], \"contourcarpet\": [{\"colorbar\": {\"outlinewidth\": 0, \"ticks\": \"\"}, \"type\": \"contourcarpet\"}], \"heatmap\": [{\"colorbar\": {\"outlinewidth\": 0, \"ticks\": \"\"}, \"colorscale\": [[0.0, \"#0d0887\"], [0.1111111111111111, \"#46039f\"], [0.2222222222222222, \"#7201a8\"], [0.3333333333333333, \"#9c179e\"], [0.4444444444444444, \"#bd3786\"], [0.5555555555555556, \"#d8576b\"], [0.6666666666666666, \"#ed7953\"], [0.7777777777777778, \"#fb9f3a\"], [0.8888888888888888, \"#fdca26\"], [1.0, \"#f0f921\"]], \"type\": \"heatmap\"}], \"heatmapgl\": [{\"colorbar\": {\"outlinewidth\": 0, \"ticks\": \"\"}, \"colorscale\": [[0.0, \"#0d0887\"], [0.1111111111111111, \"#46039f\"], [0.2222222222222222, \"#7201a8\"], [0.3333333333333333, \"#9c179e\"], [0.4444444444444444, \"#bd3786\"], [0.5555555555555556, \"#d8576b\"], [0.6666666666666666, \"#ed7953\"], [0.7777777777777778, \"#fb9f3a\"], [0.8888888888888888, \"#fdca26\"], [1.0, \"#f0f921\"]], \"type\": \"heatmapgl\"}], \"histogram\": [{\"marker\": {\"colorbar\": {\"outlinewidth\": 0, \"ticks\": \"\"}}, \"type\": \"histogram\"}], \"histogram2d\": [{\"colorbar\": {\"outlinewidth\": 0, \"ticks\": \"\"}, \"colorscale\": [[0.0, \"#0d0887\"], [0.1111111111111111, \"#46039f\"], [0.2222222222222222, \"#7201a8\"], [0.3333333333333333, \"#9c179e\"], [0.4444444444444444, \"#bd3786\"], [0.5555555555555556, \"#d8576b\"], [0.6666666666666666, \"#ed7953\"], [0.7777777777777778, \"#fb9f3a\"], [0.8888888888888888, \"#fdca26\"], [1.0, \"#f0f921\"]], \"type\": \"histogram2d\"}], \"histogram2dcontour\": [{\"colorbar\": {\"outlinewidth\": 0, \"ticks\": \"\"}, \"colorscale\": [[0.0, \"#0d0887\"], [0.1111111111111111, \"#46039f\"], [0.2222222222222222, \"#7201a8\"], [0.3333333333333333, \"#9c179e\"], [0.4444444444444444, \"#bd3786\"], [0.5555555555555556, \"#d8576b\"], [0.6666666666666666, \"#ed7953\"], [0.7777777777777778, \"#fb9f3a\"], [0.8888888888888888, \"#fdca26\"], [1.0, \"#f0f921\"]], \"type\": \"histogram2dcontour\"}], \"mesh3d\": [{\"colorbar\": {\"outlinewidth\": 0, \"ticks\": \"\"}, \"type\": \"mesh3d\"}], \"parcoords\": [{\"line\": {\"colorbar\": {\"outlinewidth\": 0, \"ticks\": \"\"}}, \"type\": \"parcoords\"}], \"pie\": [{\"automargin\": true, \"type\": \"pie\"}], \"scatter\": [{\"marker\": {\"colorbar\": {\"outlinewidth\": 0, \"ticks\": \"\"}}, \"type\": \"scatter\"}], \"scatter3d\": [{\"line\": {\"colorbar\": {\"outlinewidth\": 0, \"ticks\": \"\"}}, \"marker\": {\"colorbar\": {\"outlinewidth\": 0, \"ticks\": \"\"}}, \"type\": \"scatter3d\"}], \"scattercarpet\": [{\"marker\": {\"colorbar\": {\"outlinewidth\": 0, \"ticks\": \"\"}}, \"type\": \"scattercarpet\"}], \"scattergeo\": [{\"marker\": {\"colorbar\": {\"outlinewidth\": 0, \"ticks\": \"\"}}, \"type\": \"scattergeo\"}], \"scattergl\": [{\"marker\": {\"colorbar\": {\"outlinewidth\": 0, \"ticks\": \"\"}}, \"type\": \"scattergl\"}], \"scattermapbox\": [{\"marker\": {\"colorbar\": {\"outlinewidth\": 0, \"ticks\": \"\"}}, \"type\": \"scattermapbox\"}], \"scatterpolar\": [{\"marker\": {\"colorbar\": {\"outlinewidth\": 0, \"ticks\": \"\"}}, \"type\": \"scatterpolar\"}], \"scatterpolargl\": [{\"marker\": {\"colorbar\": {\"outlinewidth\": 0, \"ticks\": \"\"}}, \"type\": \"scatterpolargl\"}], \"scatterternary\": [{\"marker\": {\"colorbar\": {\"outlinewidth\": 0, \"ticks\": \"\"}}, \"type\": \"scatterternary\"}], \"surface\": [{\"colorbar\": {\"outlinewidth\": 0, \"ticks\": \"\"}, \"colorscale\": [[0.0, \"#0d0887\"], [0.1111111111111111, \"#46039f\"], [0.2222222222222222, \"#7201a8\"], [0.3333333333333333, \"#9c179e\"], [0.4444444444444444, \"#bd3786\"], [0.5555555555555556, \"#d8576b\"], [0.6666666666666666, \"#ed7953\"], [0.7777777777777778, \"#fb9f3a\"], [0.8888888888888888, \"#fdca26\"], [1.0, \"#f0f921\"]], \"type\": \"surface\"}], \"table\": [{\"cells\": {\"fill\": {\"color\": \"#EBF0F8\"}, \"line\": {\"color\": \"white\"}}, \"header\": {\"fill\": {\"color\": \"#C8D4E3\"}, \"line\": {\"color\": \"white\"}}, \"type\": \"table\"}]}, \"layout\": {\"annotationdefaults\": {\"arrowcolor\": \"#2a3f5f\", \"arrowhead\": 0, \"arrowwidth\": 1}, \"coloraxis\": {\"colorbar\": {\"outlinewidth\": 0, \"ticks\": \"\"}}, \"colorscale\": {\"diverging\": [[0, \"#8e0152\"], [0.1, \"#c51b7d\"], [0.2, \"#de77ae\"], [0.3, \"#f1b6da\"], [0.4, \"#fde0ef\"], [0.5, \"#f7f7f7\"], [0.6, \"#e6f5d0\"], [0.7, \"#b8e186\"], [0.8, \"#7fbc41\"], [0.9, \"#4d9221\"], [1, \"#276419\"]], \"sequential\": [[0.0, \"#0d0887\"], [0.1111111111111111, \"#46039f\"], [0.2222222222222222, \"#7201a8\"], [0.3333333333333333, \"#9c179e\"], [0.4444444444444444, \"#bd3786\"], [0.5555555555555556, \"#d8576b\"], [0.6666666666666666, \"#ed7953\"], [0.7777777777777778, \"#fb9f3a\"], [0.8888888888888888, \"#fdca26\"], [1.0, \"#f0f921\"]], \"sequentialminus\": [[0.0, \"#0d0887\"], [0.1111111111111111, \"#46039f\"], [0.2222222222222222, \"#7201a8\"], [0.3333333333333333, \"#9c179e\"], [0.4444444444444444, \"#bd3786\"], [0.5555555555555556, \"#d8576b\"], [0.6666666666666666, \"#ed7953\"], [0.7777777777777778, \"#fb9f3a\"], [0.8888888888888888, \"#fdca26\"], [1.0, \"#f0f921\"]]}, \"colorway\": [\"#636efa\", \"#EF553B\", \"#00cc96\", \"#ab63fa\", \"#FFA15A\", \"#19d3f3\", \"#FF6692\", \"#B6E880\", \"#FF97FF\", \"#FECB52\"], \"font\": {\"color\": \"#2a3f5f\"}, \"geo\": {\"bgcolor\": \"white\", \"lakecolor\": \"white\", \"landcolor\": \"#E5ECF6\", \"showlakes\": true, \"showland\": true, \"subunitcolor\": \"white\"}, \"hoverlabel\": {\"align\": \"left\"}, \"hovermode\": \"closest\", \"mapbox\": {\"style\": \"light\"}, \"paper_bgcolor\": \"white\", \"plot_bgcolor\": \"#E5ECF6\", \"polar\": {\"angularaxis\": {\"gridcolor\": \"white\", \"linecolor\": \"white\", \"ticks\": \"\"}, \"bgcolor\": \"#E5ECF6\", \"radialaxis\": {\"gridcolor\": \"white\", \"linecolor\": \"white\", \"ticks\": \"\"}}, \"scene\": {\"xaxis\": {\"backgroundcolor\": \"#E5ECF6\", \"gridcolor\": \"white\", \"gridwidth\": 2, \"linecolor\": \"white\", \"showbackground\": true, \"ticks\": \"\", \"zerolinecolor\": \"white\"}, \"yaxis\": {\"backgroundcolor\": \"#E5ECF6\", \"gridcolor\": \"white\", \"gridwidth\": 2, \"linecolor\": \"white\", \"showbackground\": true, \"ticks\": \"\", \"zerolinecolor\": \"white\"}, \"zaxis\": {\"backgroundcolor\": \"#E5ECF6\", \"gridcolor\": \"white\", \"gridwidth\": 2, \"linecolor\": \"white\", \"showbackground\": true, \"ticks\": \"\", \"zerolinecolor\": \"white\"}}, \"shapedefaults\": {\"line\": {\"color\": \"#2a3f5f\"}}, \"ternary\": {\"aaxis\": {\"gridcolor\": \"white\", \"linecolor\": \"white\", \"ticks\": \"\"}, \"baxis\": {\"gridcolor\": \"white\", \"linecolor\": \"white\", \"ticks\": \"\"}, \"bgcolor\": \"#E5ECF6\", \"caxis\": {\"gridcolor\": \"white\", \"linecolor\": \"white\", \"ticks\": \"\"}}, \"title\": {\"x\": 0.05}, \"xaxis\": {\"automargin\": true, \"gridcolor\": \"white\", \"linecolor\": \"white\", \"ticks\": \"\", \"title\": {\"standoff\": 15}, \"zerolinecolor\": \"white\", \"zerolinewidth\": 2}, \"yaxis\": {\"automargin\": true, \"gridcolor\": \"white\", \"linecolor\": \"white\", \"ticks\": \"\", \"title\": {\"standoff\": 15}, \"zerolinecolor\": \"white\", \"zerolinewidth\": 2}}}},\n",
       "                        {\"responsive\": true}\n",
       "                    ).then(function(){\n",
       "                            \n",
       "var gd = document.getElementById('7f3de18c-6a10-4a01-8f30-7b102df11049');\n",
       "var x = new MutationObserver(function (mutations, observer) {{\n",
       "        var display = window.getComputedStyle(gd).display;\n",
       "        if (!display || display === 'none') {{\n",
       "            console.log([gd, 'removed!']);\n",
       "            Plotly.purge(gd);\n",
       "            observer.disconnect();\n",
       "        }}\n",
       "}});\n",
       "\n",
       "// Listen for the removal of the full notebook cells\n",
       "var notebookContainer = gd.closest('#notebook-container');\n",
       "if (notebookContainer) {{\n",
       "    x.observe(notebookContainer, {childList: true});\n",
       "}}\n",
       "\n",
       "// Listen for the clearing of the current output cell\n",
       "var outputEl = gd.closest('.output');\n",
       "if (outputEl) {{\n",
       "    x.observe(outputEl, {childList: true});\n",
       "}}\n",
       "\n",
       "                        })\n",
       "                };\n",
       "                });\n",
       "            </script>\n",
       "        </div>"
      ]
     },
     "metadata": {},
     "output_type": "display_data"
    },
    {
     "data": {
      "application/vnd.plotly.v1+json": {
       "config": {
        "plotlyServerURL": "https://plot.ly"
       },
       "data": [
        {
         "name": "alcohol",
         "type": "box",
         "y": [
          14.23,
          13.2,
          13.16,
          14.37,
          13.24,
          14.2,
          14.39,
          14.06,
          14.83,
          13.86,
          14.1,
          14.12,
          13.75,
          14.75,
          14.38,
          13.63,
          14.3,
          13.83,
          14.19,
          13.64,
          14.06,
          12.93,
          13.71,
          12.85,
          13.5,
          13.05,
          13.39,
          13.3,
          13.87,
          14.02,
          13.73,
          13.58,
          13.68,
          13.76,
          13.51,
          13.48,
          13.28,
          13.05,
          13.07,
          14.22,
          13.56,
          13.41,
          13.88,
          13.24,
          13.05,
          14.21,
          14.38,
          13.9,
          14.1,
          13.94,
          13.05,
          13.83,
          13.82,
          13.77,
          13.74,
          13.56,
          14.22,
          13.29,
          13.72,
          12.37,
          12.33,
          12.64,
          13.67,
          12.37,
          12.17,
          12.37,
          13.11,
          12.37,
          13.34,
          12.21,
          12.29,
          13.86,
          13.49,
          12.99,
          11.96,
          11.66,
          13.03,
          11.84,
          12.33,
          12.7,
          12,
          12.72,
          12.08,
          13.05,
          11.84,
          12.67,
          12.16,
          11.65,
          11.64,
          12.08,
          12.08,
          12,
          12.69,
          12.29,
          11.62,
          12.47,
          11.81,
          12.29,
          12.37,
          12.29,
          12.08,
          12.6,
          12.34,
          11.82,
          12.51,
          12.42,
          12.25,
          12.72,
          12.22,
          11.61,
          11.46,
          12.52,
          11.76,
          11.41,
          12.08,
          11.03,
          11.82,
          12.42,
          12.77,
          12,
          11.45,
          11.56,
          12.42,
          13.05,
          11.87,
          12.07,
          12.43,
          11.79,
          12.37,
          12.04,
          12.86,
          12.88,
          12.81,
          12.7,
          12.51,
          12.6,
          12.25,
          12.53,
          13.49,
          12.84,
          12.93,
          13.36,
          13.52,
          13.62,
          12.25,
          13.16,
          13.88,
          12.87,
          13.32,
          13.08,
          13.5,
          12.79,
          13.11,
          13.23,
          12.58,
          13.17,
          13.84,
          12.45,
          14.34,
          13.48,
          12.36,
          13.69,
          12.85,
          12.96,
          13.78,
          13.73,
          13.45,
          12.82,
          13.58,
          13.4,
          12.2,
          12.77,
          14.16,
          13.71,
          13.4,
          13.27,
          13.17,
          14.13
         ]
        },
        {
         "name": "alcalinity",
         "type": "box",
         "y": [
          15.6,
          11.2,
          18.6,
          16.8,
          21,
          15.2,
          14.6,
          17.6,
          14,
          16,
          18,
          16.8,
          16,
          11.4,
          12,
          17.2,
          20,
          20,
          16.5,
          15.2,
          16,
          18.6,
          16.6,
          17.8,
          20,
          25,
          16.1,
          17,
          19.4,
          16,
          22.5,
          19.1,
          17.2,
          19.5,
          19,
          20.5,
          15.5,
          18,
          15.5,
          13.2,
          16.2,
          18.8,
          15,
          17.5,
          17,
          18.9,
          16,
          16,
          18.8,
          17.4,
          12.4,
          17.2,
          14,
          17.1,
          16.4,
          20.5,
          16.3,
          16.8,
          16.7,
          10.6,
          16,
          16.8,
          18,
          19,
          19,
          18.1,
          15,
          19.6,
          17,
          16.8,
          20.4,
          25,
          24,
          30,
          21,
          16,
          16,
          18,
          14.8,
          23,
          19,
          18.8,
          24,
          22.5,
          18,
          18,
          22.8,
          26,
          21.6,
          23.6,
          18.5,
          22,
          20.7,
          18,
          18,
          19,
          21.5,
          16,
          18.5,
          18,
          17.5,
          18.5,
          21,
          19.5,
          20.5,
          22,
          19,
          22.5,
          19,
          20,
          19.5,
          21,
          20,
          21,
          22.5,
          21.5,
          20.8,
          22.5,
          16,
          19,
          20,
          28.5,
          26.5,
          21.5,
          21,
          21,
          21.5,
          28.5,
          24.5,
          22,
          18,
          20,
          24,
          21.5,
          17.5,
          18.5,
          21,
          25,
          19.5,
          24,
          21,
          20,
          23.5,
          20,
          18.5,
          21,
          20,
          21.5,
          21.5,
          21.5,
          24,
          22,
          25.5,
          18.5,
          20,
          22,
          19.5,
          27,
          25,
          22.5,
          21,
          20,
          22,
          18.5,
          22,
          22.5,
          23,
          19.5,
          24.5,
          25,
          19,
          19.5,
          20,
          20.5,
          23,
          20,
          20,
          24.5
         ]
        },
        {
         "name": "color_intensity",
         "type": "box",
         "y": [
          5.64,
          4.38,
          5.68,
          7.8,
          4.32,
          6.75,
          5.25,
          5.05,
          5.2,
          7.22,
          5.75,
          5,
          5.6,
          5.4,
          7.5,
          7.3,
          6.2,
          6.6,
          8.7,
          5.1,
          5.65,
          4.5,
          3.8,
          3.93,
          3.52,
          3.58,
          4.8,
          3.95,
          4.5,
          4.7,
          5.7,
          6.9,
          3.84,
          5.4,
          4.2,
          5.1,
          4.6,
          4.25,
          3.7,
          5.1,
          6.13,
          4.28,
          5.43,
          4.36,
          5.04,
          5.24,
          4.9,
          6.1,
          6.2,
          8.9,
          7.2,
          5.6,
          7.05,
          6.3,
          5.85,
          6.25,
          6.38,
          6,
          6.8,
          1.95,
          3.27,
          5.75,
          3.8,
          4.45,
          2.95,
          4.6,
          5.3,
          4.68,
          3.17,
          2.85,
          3.05,
          3.38,
          3.74,
          3.35,
          3.21,
          3.8,
          4.6,
          2.65,
          3.4,
          2.57,
          2.5,
          3.9,
          2.2,
          4.8,
          3.05,
          2.62,
          2.45,
          2.6,
          2.8,
          1.74,
          2.4,
          3.6,
          3.05,
          2.15,
          3.25,
          2.6,
          2.5,
          2.9,
          4.5,
          2.3,
          3.3,
          2.45,
          2.8,
          2.06,
          2.94,
          2.7,
          3.4,
          3.3,
          2.7,
          2.65,
          2.9,
          2,
          3.8,
          3.08,
          2.9,
          1.9,
          1.95,
          2.06,
          3.4,
          1.28,
          3.25,
          6,
          2.08,
          2.6,
          2.8,
          2.76,
          3.94,
          3,
          2.12,
          2.6,
          4.1,
          5.4,
          5.7,
          5,
          5.45,
          7.1,
          3.85,
          5,
          5.7,
          4.92,
          4.6,
          5.6,
          4.35,
          4.4,
          8.21,
          4,
          4.9,
          7.65,
          8.42,
          9.4,
          8.6,
          10.8,
          7.1,
          10.52,
          7.6,
          7.9,
          9.01,
          7.5,
          13,
          11.75,
          7.65,
          5.88,
          5.58,
          5.28,
          9.58,
          6.62,
          10.68,
          10.26,
          8.66,
          8.5,
          5.5,
          9.899999,
          9.7,
          7.7,
          7.3,
          10.2,
          9.3,
          9.2
         ]
        }
       ],
       "layout": {
        "autosize": true,
        "template": {
         "data": {
          "bar": [
           {
            "error_x": {
             "color": "#2a3f5f"
            },
            "error_y": {
             "color": "#2a3f5f"
            },
            "marker": {
             "line": {
              "color": "#E5ECF6",
              "width": 0.5
             }
            },
            "type": "bar"
           }
          ],
          "barpolar": [
           {
            "marker": {
             "line": {
              "color": "#E5ECF6",
              "width": 0.5
             }
            },
            "type": "barpolar"
           }
          ],
          "carpet": [
           {
            "aaxis": {
             "endlinecolor": "#2a3f5f",
             "gridcolor": "white",
             "linecolor": "white",
             "minorgridcolor": "white",
             "startlinecolor": "#2a3f5f"
            },
            "baxis": {
             "endlinecolor": "#2a3f5f",
             "gridcolor": "white",
             "linecolor": "white",
             "minorgridcolor": "white",
             "startlinecolor": "#2a3f5f"
            },
            "type": "carpet"
           }
          ],
          "choropleth": [
           {
            "colorbar": {
             "outlinewidth": 0,
             "ticks": ""
            },
            "type": "choropleth"
           }
          ],
          "contour": [
           {
            "colorbar": {
             "outlinewidth": 0,
             "ticks": ""
            },
            "colorscale": [
             [
              0,
              "#0d0887"
             ],
             [
              0.1111111111111111,
              "#46039f"
             ],
             [
              0.2222222222222222,
              "#7201a8"
             ],
             [
              0.3333333333333333,
              "#9c179e"
             ],
             [
              0.4444444444444444,
              "#bd3786"
             ],
             [
              0.5555555555555556,
              "#d8576b"
             ],
             [
              0.6666666666666666,
              "#ed7953"
             ],
             [
              0.7777777777777778,
              "#fb9f3a"
             ],
             [
              0.8888888888888888,
              "#fdca26"
             ],
             [
              1,
              "#f0f921"
             ]
            ],
            "type": "contour"
           }
          ],
          "contourcarpet": [
           {
            "colorbar": {
             "outlinewidth": 0,
             "ticks": ""
            },
            "type": "contourcarpet"
           }
          ],
          "heatmap": [
           {
            "colorbar": {
             "outlinewidth": 0,
             "ticks": ""
            },
            "colorscale": [
             [
              0,
              "#0d0887"
             ],
             [
              0.1111111111111111,
              "#46039f"
             ],
             [
              0.2222222222222222,
              "#7201a8"
             ],
             [
              0.3333333333333333,
              "#9c179e"
             ],
             [
              0.4444444444444444,
              "#bd3786"
             ],
             [
              0.5555555555555556,
              "#d8576b"
             ],
             [
              0.6666666666666666,
              "#ed7953"
             ],
             [
              0.7777777777777778,
              "#fb9f3a"
             ],
             [
              0.8888888888888888,
              "#fdca26"
             ],
             [
              1,
              "#f0f921"
             ]
            ],
            "type": "heatmap"
           }
          ],
          "heatmapgl": [
           {
            "colorbar": {
             "outlinewidth": 0,
             "ticks": ""
            },
            "colorscale": [
             [
              0,
              "#0d0887"
             ],
             [
              0.1111111111111111,
              "#46039f"
             ],
             [
              0.2222222222222222,
              "#7201a8"
             ],
             [
              0.3333333333333333,
              "#9c179e"
             ],
             [
              0.4444444444444444,
              "#bd3786"
             ],
             [
              0.5555555555555556,
              "#d8576b"
             ],
             [
              0.6666666666666666,
              "#ed7953"
             ],
             [
              0.7777777777777778,
              "#fb9f3a"
             ],
             [
              0.8888888888888888,
              "#fdca26"
             ],
             [
              1,
              "#f0f921"
             ]
            ],
            "type": "heatmapgl"
           }
          ],
          "histogram": [
           {
            "marker": {
             "colorbar": {
              "outlinewidth": 0,
              "ticks": ""
             }
            },
            "type": "histogram"
           }
          ],
          "histogram2d": [
           {
            "colorbar": {
             "outlinewidth": 0,
             "ticks": ""
            },
            "colorscale": [
             [
              0,
              "#0d0887"
             ],
             [
              0.1111111111111111,
              "#46039f"
             ],
             [
              0.2222222222222222,
              "#7201a8"
             ],
             [
              0.3333333333333333,
              "#9c179e"
             ],
             [
              0.4444444444444444,
              "#bd3786"
             ],
             [
              0.5555555555555556,
              "#d8576b"
             ],
             [
              0.6666666666666666,
              "#ed7953"
             ],
             [
              0.7777777777777778,
              "#fb9f3a"
             ],
             [
              0.8888888888888888,
              "#fdca26"
             ],
             [
              1,
              "#f0f921"
             ]
            ],
            "type": "histogram2d"
           }
          ],
          "histogram2dcontour": [
           {
            "colorbar": {
             "outlinewidth": 0,
             "ticks": ""
            },
            "colorscale": [
             [
              0,
              "#0d0887"
             ],
             [
              0.1111111111111111,
              "#46039f"
             ],
             [
              0.2222222222222222,
              "#7201a8"
             ],
             [
              0.3333333333333333,
              "#9c179e"
             ],
             [
              0.4444444444444444,
              "#bd3786"
             ],
             [
              0.5555555555555556,
              "#d8576b"
             ],
             [
              0.6666666666666666,
              "#ed7953"
             ],
             [
              0.7777777777777778,
              "#fb9f3a"
             ],
             [
              0.8888888888888888,
              "#fdca26"
             ],
             [
              1,
              "#f0f921"
             ]
            ],
            "type": "histogram2dcontour"
           }
          ],
          "mesh3d": [
           {
            "colorbar": {
             "outlinewidth": 0,
             "ticks": ""
            },
            "type": "mesh3d"
           }
          ],
          "parcoords": [
           {
            "line": {
             "colorbar": {
              "outlinewidth": 0,
              "ticks": ""
             }
            },
            "type": "parcoords"
           }
          ],
          "pie": [
           {
            "automargin": true,
            "type": "pie"
           }
          ],
          "scatter": [
           {
            "marker": {
             "colorbar": {
              "outlinewidth": 0,
              "ticks": ""
             }
            },
            "type": "scatter"
           }
          ],
          "scatter3d": [
           {
            "line": {
             "colorbar": {
              "outlinewidth": 0,
              "ticks": ""
             }
            },
            "marker": {
             "colorbar": {
              "outlinewidth": 0,
              "ticks": ""
             }
            },
            "type": "scatter3d"
           }
          ],
          "scattercarpet": [
           {
            "marker": {
             "colorbar": {
              "outlinewidth": 0,
              "ticks": ""
             }
            },
            "type": "scattercarpet"
           }
          ],
          "scattergeo": [
           {
            "marker": {
             "colorbar": {
              "outlinewidth": 0,
              "ticks": ""
             }
            },
            "type": "scattergeo"
           }
          ],
          "scattergl": [
           {
            "marker": {
             "colorbar": {
              "outlinewidth": 0,
              "ticks": ""
             }
            },
            "type": "scattergl"
           }
          ],
          "scattermapbox": [
           {
            "marker": {
             "colorbar": {
              "outlinewidth": 0,
              "ticks": ""
             }
            },
            "type": "scattermapbox"
           }
          ],
          "scatterpolar": [
           {
            "marker": {
             "colorbar": {
              "outlinewidth": 0,
              "ticks": ""
             }
            },
            "type": "scatterpolar"
           }
          ],
          "scatterpolargl": [
           {
            "marker": {
             "colorbar": {
              "outlinewidth": 0,
              "ticks": ""
             }
            },
            "type": "scatterpolargl"
           }
          ],
          "scatterternary": [
           {
            "marker": {
             "colorbar": {
              "outlinewidth": 0,
              "ticks": ""
             }
            },
            "type": "scatterternary"
           }
          ],
          "surface": [
           {
            "colorbar": {
             "outlinewidth": 0,
             "ticks": ""
            },
            "colorscale": [
             [
              0,
              "#0d0887"
             ],
             [
              0.1111111111111111,
              "#46039f"
             ],
             [
              0.2222222222222222,
              "#7201a8"
             ],
             [
              0.3333333333333333,
              "#9c179e"
             ],
             [
              0.4444444444444444,
              "#bd3786"
             ],
             [
              0.5555555555555556,
              "#d8576b"
             ],
             [
              0.6666666666666666,
              "#ed7953"
             ],
             [
              0.7777777777777778,
              "#fb9f3a"
             ],
             [
              0.8888888888888888,
              "#fdca26"
             ],
             [
              1,
              "#f0f921"
             ]
            ],
            "type": "surface"
           }
          ],
          "table": [
           {
            "cells": {
             "fill": {
              "color": "#EBF0F8"
             },
             "line": {
              "color": "white"
             }
            },
            "header": {
             "fill": {
              "color": "#C8D4E3"
             },
             "line": {
              "color": "white"
             }
            },
            "type": "table"
           }
          ]
         },
         "layout": {
          "annotationdefaults": {
           "arrowcolor": "#2a3f5f",
           "arrowhead": 0,
           "arrowwidth": 1
          },
          "coloraxis": {
           "colorbar": {
            "outlinewidth": 0,
            "ticks": ""
           }
          },
          "colorscale": {
           "diverging": [
            [
             0,
             "#8e0152"
            ],
            [
             0.1,
             "#c51b7d"
            ],
            [
             0.2,
             "#de77ae"
            ],
            [
             0.3,
             "#f1b6da"
            ],
            [
             0.4,
             "#fde0ef"
            ],
            [
             0.5,
             "#f7f7f7"
            ],
            [
             0.6,
             "#e6f5d0"
            ],
            [
             0.7,
             "#b8e186"
            ],
            [
             0.8,
             "#7fbc41"
            ],
            [
             0.9,
             "#4d9221"
            ],
            [
             1,
             "#276419"
            ]
           ],
           "sequential": [
            [
             0,
             "#0d0887"
            ],
            [
             0.1111111111111111,
             "#46039f"
            ],
            [
             0.2222222222222222,
             "#7201a8"
            ],
            [
             0.3333333333333333,
             "#9c179e"
            ],
            [
             0.4444444444444444,
             "#bd3786"
            ],
            [
             0.5555555555555556,
             "#d8576b"
            ],
            [
             0.6666666666666666,
             "#ed7953"
            ],
            [
             0.7777777777777778,
             "#fb9f3a"
            ],
            [
             0.8888888888888888,
             "#fdca26"
            ],
            [
             1,
             "#f0f921"
            ]
           ],
           "sequentialminus": [
            [
             0,
             "#0d0887"
            ],
            [
             0.1111111111111111,
             "#46039f"
            ],
            [
             0.2222222222222222,
             "#7201a8"
            ],
            [
             0.3333333333333333,
             "#9c179e"
            ],
            [
             0.4444444444444444,
             "#bd3786"
            ],
            [
             0.5555555555555556,
             "#d8576b"
            ],
            [
             0.6666666666666666,
             "#ed7953"
            ],
            [
             0.7777777777777778,
             "#fb9f3a"
            ],
            [
             0.8888888888888888,
             "#fdca26"
            ],
            [
             1,
             "#f0f921"
            ]
           ]
          },
          "colorway": [
           "#636efa",
           "#EF553B",
           "#00cc96",
           "#ab63fa",
           "#FFA15A",
           "#19d3f3",
           "#FF6692",
           "#B6E880",
           "#FF97FF",
           "#FECB52"
          ],
          "font": {
           "color": "#2a3f5f"
          },
          "geo": {
           "bgcolor": "white",
           "lakecolor": "white",
           "landcolor": "#E5ECF6",
           "showlakes": true,
           "showland": true,
           "subunitcolor": "white"
          },
          "hoverlabel": {
           "align": "left"
          },
          "hovermode": "closest",
          "mapbox": {
           "style": "light"
          },
          "paper_bgcolor": "white",
          "plot_bgcolor": "#E5ECF6",
          "polar": {
           "angularaxis": {
            "gridcolor": "white",
            "linecolor": "white",
            "ticks": ""
           },
           "bgcolor": "#E5ECF6",
           "radialaxis": {
            "gridcolor": "white",
            "linecolor": "white",
            "ticks": ""
           }
          },
          "scene": {
           "xaxis": {
            "backgroundcolor": "#E5ECF6",
            "gridcolor": "white",
            "gridwidth": 2,
            "linecolor": "white",
            "showbackground": true,
            "ticks": "",
            "zerolinecolor": "white"
           },
           "yaxis": {
            "backgroundcolor": "#E5ECF6",
            "gridcolor": "white",
            "gridwidth": 2,
            "linecolor": "white",
            "showbackground": true,
            "ticks": "",
            "zerolinecolor": "white"
           },
           "zaxis": {
            "backgroundcolor": "#E5ECF6",
            "gridcolor": "white",
            "gridwidth": 2,
            "linecolor": "white",
            "showbackground": true,
            "ticks": "",
            "zerolinecolor": "white"
           }
          },
          "shapedefaults": {
           "line": {
            "color": "#2a3f5f"
           }
          },
          "ternary": {
           "aaxis": {
            "gridcolor": "white",
            "linecolor": "white",
            "ticks": ""
           },
           "baxis": {
            "gridcolor": "white",
            "linecolor": "white",
            "ticks": ""
           },
           "bgcolor": "#E5ECF6",
           "caxis": {
            "gridcolor": "white",
            "linecolor": "white",
            "ticks": ""
           }
          },
          "title": {
           "x": 0.05
          },
          "xaxis": {
           "automargin": true,
           "gridcolor": "white",
           "linecolor": "white",
           "ticks": "",
           "title": {
            "standoff": 15
           },
           "zerolinecolor": "white",
           "zerolinewidth": 2
          },
          "yaxis": {
           "automargin": true,
           "gridcolor": "white",
           "linecolor": "white",
           "ticks": "",
           "title": {
            "standoff": 15
           },
           "zerolinecolor": "white",
           "zerolinewidth": 2
          }
         }
        },
        "xaxis": {
         "autorange": true,
         "range": [
          -0.5,
          2.5
         ],
         "title": {
          "text": "Attribute"
         },
         "type": "category"
        },
        "yaxis": {
         "autorange": true,
         "range": [
          -0.3155555555555556,
          31.595555555555556
         ],
         "title": {
          "text": "unit"
         },
         "type": "linear"
        }
       }
      },
      "image/png": "[encoded data removed]",
      "text/html": [
       "<div>\n",
       "        \n",
       "        \n",
       "            <div id=\"5b16ca5e-df6a-46c7-8fca-a34c341e0e55\" class=\"plotly-graph-div\" style=\"height:525px; width:100%;\"></div>\n",
       "            <script type=\"text/javascript\">\n",
       "                require([\"plotly\"], function(Plotly) {\n",
       "                    window.PLOTLYENV=window.PLOTLYENV || {};\n",
       "                    \n",
       "                if (document.getElementById(\"5b16ca5e-df6a-46c7-8fca-a34c341e0e55\")) {\n",
       "                    Plotly.newPlot(\n",
       "                        '5b16ca5e-df6a-46c7-8fca-a34c341e0e55',\n",
       "                        [{\"name\": \"alcohol\", \"type\": \"box\", \"y\": [14.23, 13.2, 13.16, 14.37, 13.24, 14.2, 14.39, 14.06, 14.83, 13.86, 14.1, 14.12, 13.75, 14.75, 14.38, 13.63, 14.3, 13.83, 14.19, 13.64, 14.06, 12.93, 13.71, 12.85, 13.5, 13.05, 13.39, 13.3, 13.87, 14.02, 13.73, 13.58, 13.68, 13.76, 13.51, 13.48, 13.28, 13.05, 13.07, 14.22, 13.56, 13.41, 13.88, 13.24, 13.05, 14.21, 14.38, 13.9, 14.1, 13.94, 13.05, 13.83, 13.82, 13.77, 13.74, 13.56, 14.22, 13.29, 13.72, 12.37, 12.33, 12.64, 13.67, 12.37, 12.17, 12.37, 13.11, 12.37, 13.34, 12.21, 12.29, 13.86, 13.49, 12.99, 11.96, 11.66, 13.03, 11.84, 12.33, 12.7, 12.0, 12.72, 12.08, 13.05, 11.84, 12.67, 12.16, 11.65, 11.64, 12.08, 12.08, 12.0, 12.69, 12.29, 11.62, 12.47, 11.81, 12.29, 12.37, 12.29, 12.08, 12.6, 12.34, 11.82, 12.51, 12.42, 12.25, 12.72, 12.22, 11.61, 11.46, 12.52, 11.76, 11.41, 12.08, 11.03, 11.82, 12.42, 12.77, 12.0, 11.45, 11.56, 12.42, 13.05, 11.87, 12.07, 12.43, 11.79, 12.37, 12.04, 12.86, 12.88, 12.81, 12.7, 12.51, 12.6, 12.25, 12.53, 13.49, 12.84, 12.93, 13.36, 13.52, 13.62, 12.25, 13.16, 13.88, 12.87, 13.32, 13.08, 13.5, 12.79, 13.11, 13.23, 12.58, 13.17, 13.84, 12.45, 14.34, 13.48, 12.36, 13.69, 12.85, 12.96, 13.78, 13.73, 13.45, 12.82, 13.58, 13.4, 12.2, 12.77, 14.16, 13.71, 13.4, 13.27, 13.17, 14.13]}, {\"name\": \"alcalinity\", \"type\": \"box\", \"y\": [15.6, 11.2, 18.6, 16.8, 21.0, 15.2, 14.6, 17.6, 14.0, 16.0, 18.0, 16.8, 16.0, 11.4, 12.0, 17.2, 20.0, 20.0, 16.5, 15.2, 16.0, 18.6, 16.6, 17.8, 20.0, 25.0, 16.1, 17.0, 19.4, 16.0, 22.5, 19.1, 17.2, 19.5, 19.0, 20.5, 15.5, 18.0, 15.5, 13.2, 16.2, 18.8, 15.0, 17.5, 17.0, 18.9, 16.0, 16.0, 18.8, 17.4, 12.4, 17.2, 14.0, 17.1, 16.4, 20.5, 16.3, 16.8, 16.7, 10.6, 16.0, 16.8, 18.0, 19.0, 19.0, 18.1, 15.0, 19.6, 17.0, 16.8, 20.4, 25.0, 24.0, 30.0, 21.0, 16.0, 16.0, 18.0, 14.8, 23.0, 19.0, 18.8, 24.0, 22.5, 18.0, 18.0, 22.8, 26.0, 21.6, 23.6, 18.5, 22.0, 20.7, 18.0, 18.0, 19.0, 21.5, 16.0, 18.5, 18.0, 17.5, 18.5, 21.0, 19.5, 20.5, 22.0, 19.0, 22.5, 19.0, 20.0, 19.5, 21.0, 20.0, 21.0, 22.5, 21.5, 20.8, 22.5, 16.0, 19.0, 20.0, 28.5, 26.5, 21.5, 21.0, 21.0, 21.5, 28.5, 24.5, 22.0, 18.0, 20.0, 24.0, 21.5, 17.5, 18.5, 21.0, 25.0, 19.5, 24.0, 21.0, 20.0, 23.5, 20.0, 18.5, 21.0, 20.0, 21.5, 21.5, 21.5, 24.0, 22.0, 25.5, 18.5, 20.0, 22.0, 19.5, 27.0, 25.0, 22.5, 21.0, 20.0, 22.0, 18.5, 22.0, 22.5, 23.0, 19.5, 24.5, 25.0, 19.0, 19.5, 20.0, 20.5, 23.0, 20.0, 20.0, 24.5]}, {\"name\": \"color_intensity\", \"type\": \"box\", \"y\": [5.64, 4.38, 5.68, 7.8, 4.32, 6.75, 5.25, 5.05, 5.2, 7.22, 5.75, 5.0, 5.6, 5.4, 7.5, 7.3, 6.2, 6.6, 8.7, 5.1, 5.65, 4.5, 3.8, 3.93, 3.52, 3.58, 4.8, 3.95, 4.5, 4.7, 5.7, 6.9, 3.84, 5.4, 4.2, 5.1, 4.6, 4.25, 3.7, 5.1, 6.13, 4.28, 5.43, 4.36, 5.04, 5.24, 4.9, 6.1, 6.2, 8.9, 7.2, 5.6, 7.05, 6.3, 5.85, 6.25, 6.38, 6.0, 6.8, 1.95, 3.27, 5.75, 3.8, 4.45, 2.95, 4.6, 5.3, 4.68, 3.17, 2.85, 3.05, 3.38, 3.74, 3.35, 3.21, 3.8, 4.6, 2.65, 3.4, 2.57, 2.5, 3.9, 2.2, 4.8, 3.05, 2.62, 2.45, 2.6, 2.8, 1.74, 2.4, 3.6, 3.05, 2.15, 3.25, 2.6, 2.5, 2.9, 4.5, 2.3, 3.3, 2.45, 2.8, 2.06, 2.94, 2.7, 3.4, 3.3, 2.7, 2.65, 2.9, 2.0, 3.8, 3.08, 2.9, 1.9, 1.95, 2.06, 3.4, 1.28, 3.25, 6.0, 2.08, 2.6, 2.8, 2.76, 3.94, 3.0, 2.12, 2.6, 4.1, 5.4, 5.7, 5.0, 5.45, 7.1, 3.85, 5.0, 5.7, 4.92, 4.6, 5.6, 4.35, 4.4, 8.21, 4.0, 4.9, 7.65, 8.42, 9.4, 8.6, 10.8, 7.1, 10.52, 7.6, 7.9, 9.01, 7.5, 13.0, 11.75, 7.65, 5.88, 5.58, 5.28, 9.58, 6.62, 10.68, 10.26, 8.66, 8.5, 5.5, 9.899999, 9.7, 7.7, 7.3, 10.2, 9.3, 9.2]}],\n",
       "                        {\"template\": {\"data\": {\"bar\": [{\"error_x\": {\"color\": \"#2a3f5f\"}, \"error_y\": {\"color\": \"#2a3f5f\"}, \"marker\": {\"line\": {\"color\": \"#E5ECF6\", \"width\": 0.5}}, \"type\": \"bar\"}], \"barpolar\": [{\"marker\": {\"line\": {\"color\": \"#E5ECF6\", \"width\": 0.5}}, \"type\": \"barpolar\"}], \"carpet\": [{\"aaxis\": {\"endlinecolor\": \"#2a3f5f\", \"gridcolor\": \"white\", \"linecolor\": \"white\", \"minorgridcolor\": \"white\", \"startlinecolor\": \"#2a3f5f\"}, \"baxis\": {\"endlinecolor\": \"#2a3f5f\", \"gridcolor\": \"white\", \"linecolor\": \"white\", \"minorgridcolor\": \"white\", \"startlinecolor\": \"#2a3f5f\"}, \"type\": \"carpet\"}], \"choropleth\": [{\"colorbar\": {\"outlinewidth\": 0, \"ticks\": \"\"}, \"type\": \"choropleth\"}], \"contour\": [{\"colorbar\": {\"outlinewidth\": 0, \"ticks\": \"\"}, \"colorscale\": [[0.0, \"#0d0887\"], [0.1111111111111111, \"#46039f\"], [0.2222222222222222, \"#7201a8\"], [0.3333333333333333, \"#9c179e\"], [0.4444444444444444, \"#bd3786\"], [0.5555555555555556, \"#d8576b\"], [0.6666666666666666, \"#ed7953\"], [0.7777777777777778, \"#fb9f3a\"], [0.8888888888888888, \"#fdca26\"], [1.0, \"#f0f921\"]], \"type\": \"contour\"}], \"contourcarpet\": [{\"colorbar\": {\"outlinewidth\": 0, \"ticks\": \"\"}, \"type\": \"contourcarpet\"}], \"heatmap\": [{\"colorbar\": {\"outlinewidth\": 0, \"ticks\": \"\"}, \"colorscale\": [[0.0, \"#0d0887\"], [0.1111111111111111, \"#46039f\"], [0.2222222222222222, \"#7201a8\"], [0.3333333333333333, \"#9c179e\"], [0.4444444444444444, \"#bd3786\"], [0.5555555555555556, \"#d8576b\"], [0.6666666666666666, \"#ed7953\"], [0.7777777777777778, \"#fb9f3a\"], [0.8888888888888888, \"#fdca26\"], [1.0, \"#f0f921\"]], \"type\": \"heatmap\"}], \"heatmapgl\": [{\"colorbar\": {\"outlinewidth\": 0, \"ticks\": \"\"}, \"colorscale\": [[0.0, \"#0d0887\"], [0.1111111111111111, \"#46039f\"], [0.2222222222222222, \"#7201a8\"], [0.3333333333333333, \"#9c179e\"], [0.4444444444444444, \"#bd3786\"], [0.5555555555555556, \"#d8576b\"], [0.6666666666666666, \"#ed7953\"], [0.7777777777777778, \"#fb9f3a\"], [0.8888888888888888, \"#fdca26\"], [1.0, \"#f0f921\"]], \"type\": \"heatmapgl\"}], \"histogram\": [{\"marker\": {\"colorbar\": {\"outlinewidth\": 0, \"ticks\": \"\"}}, \"type\": \"histogram\"}], \"histogram2d\": [{\"colorbar\": {\"outlinewidth\": 0, \"ticks\": \"\"}, \"colorscale\": [[0.0, \"#0d0887\"], [0.1111111111111111, \"#46039f\"], [0.2222222222222222, \"#7201a8\"], [0.3333333333333333, \"#9c179e\"], [0.4444444444444444, \"#bd3786\"], [0.5555555555555556, \"#d8576b\"], [0.6666666666666666, \"#ed7953\"], [0.7777777777777778, \"#fb9f3a\"], [0.8888888888888888, \"#fdca26\"], [1.0, \"#f0f921\"]], \"type\": \"histogram2d\"}], \"histogram2dcontour\": [{\"colorbar\": {\"outlinewidth\": 0, \"ticks\": \"\"}, \"colorscale\": [[0.0, \"#0d0887\"], [0.1111111111111111, \"#46039f\"], [0.2222222222222222, \"#7201a8\"], [0.3333333333333333, \"#9c179e\"], [0.4444444444444444, \"#bd3786\"], [0.5555555555555556, \"#d8576b\"], [0.6666666666666666, \"#ed7953\"], [0.7777777777777778, \"#fb9f3a\"], [0.8888888888888888, \"#fdca26\"], [1.0, \"#f0f921\"]], \"type\": \"histogram2dcontour\"}], \"mesh3d\": [{\"colorbar\": {\"outlinewidth\": 0, \"ticks\": \"\"}, \"type\": \"mesh3d\"}], \"parcoords\": [{\"line\": {\"colorbar\": {\"outlinewidth\": 0, \"ticks\": \"\"}}, \"type\": \"parcoords\"}], \"pie\": [{\"automargin\": true, \"type\": \"pie\"}], \"scatter\": [{\"marker\": {\"colorbar\": {\"outlinewidth\": 0, \"ticks\": \"\"}}, \"type\": \"scatter\"}], \"scatter3d\": [{\"line\": {\"colorbar\": {\"outlinewidth\": 0, \"ticks\": \"\"}}, \"marker\": {\"colorbar\": {\"outlinewidth\": 0, \"ticks\": \"\"}}, \"type\": \"scatter3d\"}], \"scattercarpet\": [{\"marker\": {\"colorbar\": {\"outlinewidth\": 0, \"ticks\": \"\"}}, \"type\": \"scattercarpet\"}], \"scattergeo\": [{\"marker\": {\"colorbar\": {\"outlinewidth\": 0, \"ticks\": \"\"}}, \"type\": \"scattergeo\"}], \"scattergl\": [{\"marker\": {\"colorbar\": {\"outlinewidth\": 0, \"ticks\": \"\"}}, \"type\": \"scattergl\"}], \"scattermapbox\": [{\"marker\": {\"colorbar\": {\"outlinewidth\": 0, \"ticks\": \"\"}}, \"type\": \"scattermapbox\"}], \"scatterpolar\": [{\"marker\": {\"colorbar\": {\"outlinewidth\": 0, \"ticks\": \"\"}}, \"type\": \"scatterpolar\"}], \"scatterpolargl\": [{\"marker\": {\"colorbar\": {\"outlinewidth\": 0, \"ticks\": \"\"}}, \"type\": \"scatterpolargl\"}], \"scatterternary\": [{\"marker\": {\"colorbar\": {\"outlinewidth\": 0, \"ticks\": \"\"}}, \"type\": \"scatterternary\"}], \"surface\": [{\"colorbar\": {\"outlinewidth\": 0, \"ticks\": \"\"}, \"colorscale\": [[0.0, \"#0d0887\"], [0.1111111111111111, \"#46039f\"], [0.2222222222222222, \"#7201a8\"], [0.3333333333333333, \"#9c179e\"], [0.4444444444444444, \"#bd3786\"], [0.5555555555555556, \"#d8576b\"], [0.6666666666666666, \"#ed7953\"], [0.7777777777777778, \"#fb9f3a\"], [0.8888888888888888, \"#fdca26\"], [1.0, \"#f0f921\"]], \"type\": \"surface\"}], \"table\": [{\"cells\": {\"fill\": {\"color\": \"#EBF0F8\"}, \"line\": {\"color\": \"white\"}}, \"header\": {\"fill\": {\"color\": \"#C8D4E3\"}, \"line\": {\"color\": \"white\"}}, \"type\": \"table\"}]}, \"layout\": {\"annotationdefaults\": {\"arrowcolor\": \"#2a3f5f\", \"arrowhead\": 0, \"arrowwidth\": 1}, \"coloraxis\": {\"colorbar\": {\"outlinewidth\": 0, \"ticks\": \"\"}}, \"colorscale\": {\"diverging\": [[0, \"#8e0152\"], [0.1, \"#c51b7d\"], [0.2, \"#de77ae\"], [0.3, \"#f1b6da\"], [0.4, \"#fde0ef\"], [0.5, \"#f7f7f7\"], [0.6, \"#e6f5d0\"], [0.7, \"#b8e186\"], [0.8, \"#7fbc41\"], [0.9, \"#4d9221\"], [1, \"#276419\"]], \"sequential\": [[0.0, \"#0d0887\"], [0.1111111111111111, \"#46039f\"], [0.2222222222222222, \"#7201a8\"], [0.3333333333333333, \"#9c179e\"], [0.4444444444444444, \"#bd3786\"], [0.5555555555555556, \"#d8576b\"], [0.6666666666666666, \"#ed7953\"], [0.7777777777777778, \"#fb9f3a\"], [0.8888888888888888, \"#fdca26\"], [1.0, \"#f0f921\"]], \"sequentialminus\": [[0.0, \"#0d0887\"], [0.1111111111111111, \"#46039f\"], [0.2222222222222222, \"#7201a8\"], [0.3333333333333333, \"#9c179e\"], [0.4444444444444444, \"#bd3786\"], [0.5555555555555556, \"#d8576b\"], [0.6666666666666666, \"#ed7953\"], [0.7777777777777778, \"#fb9f3a\"], [0.8888888888888888, \"#fdca26\"], [1.0, \"#f0f921\"]]}, \"colorway\": [\"#636efa\", \"#EF553B\", \"#00cc96\", \"#ab63fa\", \"#FFA15A\", \"#19d3f3\", \"#FF6692\", \"#B6E880\", \"#FF97FF\", \"#FECB52\"], \"font\": {\"color\": \"#2a3f5f\"}, \"geo\": {\"bgcolor\": \"white\", \"lakecolor\": \"white\", \"landcolor\": \"#E5ECF6\", \"showlakes\": true, \"showland\": true, \"subunitcolor\": \"white\"}, \"hoverlabel\": {\"align\": \"left\"}, \"hovermode\": \"closest\", \"mapbox\": {\"style\": \"light\"}, \"paper_bgcolor\": \"white\", \"plot_bgcolor\": \"#E5ECF6\", \"polar\": {\"angularaxis\": {\"gridcolor\": \"white\", \"linecolor\": \"white\", \"ticks\": \"\"}, \"bgcolor\": \"#E5ECF6\", \"radialaxis\": {\"gridcolor\": \"white\", \"linecolor\": \"white\", \"ticks\": \"\"}}, \"scene\": {\"xaxis\": {\"backgroundcolor\": \"#E5ECF6\", \"gridcolor\": \"white\", \"gridwidth\": 2, \"linecolor\": \"white\", \"showbackground\": true, \"ticks\": \"\", \"zerolinecolor\": \"white\"}, \"yaxis\": {\"backgroundcolor\": \"#E5ECF6\", \"gridcolor\": \"white\", \"gridwidth\": 2, \"linecolor\": \"white\", \"showbackground\": true, \"ticks\": \"\", \"zerolinecolor\": \"white\"}, \"zaxis\": {\"backgroundcolor\": \"#E5ECF6\", \"gridcolor\": \"white\", \"gridwidth\": 2, \"linecolor\": \"white\", \"showbackground\": true, \"ticks\": \"\", \"zerolinecolor\": \"white\"}}, \"shapedefaults\": {\"line\": {\"color\": \"#2a3f5f\"}}, \"ternary\": {\"aaxis\": {\"gridcolor\": \"white\", \"linecolor\": \"white\", \"ticks\": \"\"}, \"baxis\": {\"gridcolor\": \"white\", \"linecolor\": \"white\", \"ticks\": \"\"}, \"bgcolor\": \"#E5ECF6\", \"caxis\": {\"gridcolor\": \"white\", \"linecolor\": \"white\", \"ticks\": \"\"}}, \"title\": {\"x\": 0.05}, \"xaxis\": {\"automargin\": true, \"gridcolor\": \"white\", \"linecolor\": \"white\", \"ticks\": \"\", \"title\": {\"standoff\": 15}, \"zerolinecolor\": \"white\", \"zerolinewidth\": 2}, \"yaxis\": {\"automargin\": true, \"gridcolor\": \"white\", \"linecolor\": \"white\", \"ticks\": \"\", \"title\": {\"standoff\": 15}, \"zerolinecolor\": \"white\", \"zerolinewidth\": 2}}}, \"xaxis\": {\"title\": {\"text\": \"Attribute\"}}, \"yaxis\": {\"title\": {\"text\": \"unit\"}}},\n",
       "                        {\"responsive\": true}\n",
       "                    ).then(function(){\n",
       "                            \n",
       "var gd = document.getElementById('5b16ca5e-df6a-46c7-8fca-a34c341e0e55');\n",
       "var x = new MutationObserver(function (mutations, observer) {{\n",
       "        var display = window.getComputedStyle(gd).display;\n",
       "        if (!display || display === 'none') {{\n",
       "            console.log([gd, 'removed!']);\n",
       "            Plotly.purge(gd);\n",
       "            observer.disconnect();\n",
       "        }}\n",
       "}});\n",
       "\n",
       "// Listen for the removal of the full notebook cells\n",
       "var notebookContainer = gd.closest('#notebook-container');\n",
       "if (notebookContainer) {{\n",
       "    x.observe(notebookContainer, {childList: true});\n",
       "}}\n",
       "\n",
       "// Listen for the clearing of the current output cell\n",
       "var outputEl = gd.closest('.output');\n",
       "if (outputEl) {{\n",
       "    x.observe(outputEl, {childList: true});\n",
       "}}\n",
       "\n",
       "                        })\n",
       "                };\n",
       "                });\n",
       "            </script>\n",
       "        </div>"
      ]
     },
     "metadata": {},
     "output_type": "display_data"
    },
    {
     "data": {
      "application/vnd.plotly.v1+json": {
       "config": {
        "plotlyServerURL": "https://plot.ly"
       },
       "data": [
        {
         "name": "malic_acid",
         "type": "box",
         "y": [
          1.71,
          1.78,
          2.36,
          1.95,
          2.59,
          1.76,
          1.87,
          2.15,
          1.64,
          1.35,
          2.16,
          1.48,
          1.73,
          1.73,
          1.87,
          1.81,
          1.92,
          1.57,
          1.59,
          3.1,
          1.63,
          3.8,
          1.86,
          1.6,
          1.81,
          2.05,
          1.77,
          1.72,
          1.9,
          1.68,
          1.5,
          1.66,
          1.83,
          1.53,
          1.8,
          1.81,
          1.64,
          1.65,
          1.5,
          3.99,
          1.71,
          3.84,
          1.89,
          3.98,
          1.77,
          4.04,
          3.59,
          1.68,
          2.02,
          1.73,
          1.73,
          1.65,
          1.75,
          1.9,
          1.67,
          1.73,
          1.7,
          1.97,
          1.43,
          0.94,
          1.1,
          1.36,
          1.25,
          1.13,
          1.45,
          1.21,
          1.01,
          1.17,
          0.94,
          1.19,
          1.61,
          1.51,
          1.66,
          1.67,
          1.09,
          1.88,
          0.9,
          2.89,
          0.99,
          3.87,
          0.92,
          1.81,
          1.13,
          3.86,
          0.89,
          0.98,
          1.61,
          1.67,
          2.06,
          1.33,
          1.83,
          1.51,
          1.53,
          2.83,
          1.99,
          1.52,
          2.12,
          1.41,
          1.07,
          3.17,
          2.08,
          1.34,
          2.45,
          1.72,
          1.73,
          2.55,
          1.73,
          1.75,
          1.29,
          1.35,
          3.74,
          2.43,
          2.68,
          0.74,
          1.39,
          1.51,
          1.47,
          1.61,
          3.43,
          3.43,
          2.4,
          2.05,
          4.43,
          5.8,
          4.31,
          2.16,
          1.53,
          2.13,
          1.63,
          4.3,
          1.35,
          2.99,
          2.31,
          3.55,
          1.24,
          2.46,
          4.72,
          5.51,
          3.59,
          2.96,
          2.81,
          2.56,
          3.17,
          4.95,
          3.88,
          3.57,
          5.04,
          4.61,
          3.24,
          3.9,
          3.12,
          2.67,
          1.9,
          3.3,
          1.29,
          5.19,
          4.12,
          3.03,
          1.68,
          1.67,
          3.83,
          3.26,
          3.27,
          3.45,
          2.76,
          4.36,
          3.7,
          3.37,
          2.58,
          4.6,
          3.03,
          2.39,
          2.51,
          5.65,
          3.91,
          4.28,
          2.59,
          4.1
         ]
        },
        {
         "name": "ash",
         "type": "box",
         "y": [
          2.43,
          2.14,
          2.67,
          2.5,
          2.87,
          2.45,
          2.45,
          2.61,
          2.17,
          2.27,
          2.3,
          2.32,
          2.41,
          2.39,
          2.38,
          2.7,
          2.72,
          2.62,
          2.48,
          2.56,
          2.28,
          2.65,
          2.36,
          2.52,
          2.61,
          3.22,
          2.62,
          2.14,
          2.8,
          2.21,
          2.7,
          2.36,
          2.36,
          2.7,
          2.65,
          2.41,
          2.84,
          2.55,
          2.1,
          2.51,
          2.31,
          2.12,
          2.59,
          2.29,
          2.1,
          2.44,
          2.28,
          2.12,
          2.4,
          2.27,
          2.04,
          2.6,
          2.42,
          2.68,
          2.25,
          2.46,
          2.3,
          2.68,
          2.5,
          1.36,
          2.28,
          2.02,
          1.92,
          2.16,
          2.53,
          2.56,
          1.7,
          1.92,
          2.36,
          1.75,
          2.21,
          2.67,
          2.24,
          2.6,
          2.3,
          1.92,
          1.71,
          2.23,
          1.95,
          2.4,
          2,
          2.2,
          2.51,
          2.32,
          2.58,
          2.24,
          2.31,
          2.62,
          2.46,
          2.3,
          2.32,
          2.42,
          2.26,
          2.22,
          2.28,
          2.2,
          2.74,
          1.98,
          2.1,
          2.21,
          1.7,
          1.9,
          2.46,
          1.88,
          1.98,
          2.27,
          2.12,
          2.28,
          1.94,
          2.7,
          1.82,
          2.17,
          2.92,
          2.5,
          2.5,
          2.2,
          1.99,
          2.19,
          1.98,
          2,
          2.42,
          3.23,
          2.73,
          2.13,
          2.39,
          2.17,
          2.29,
          2.78,
          2.3,
          2.38,
          2.32,
          2.4,
          2.4,
          2.36,
          2.25,
          2.2,
          2.54,
          2.64,
          2.19,
          2.61,
          2.7,
          2.35,
          2.72,
          2.35,
          2.2,
          2.15,
          2.23,
          2.48,
          2.38,
          2.36,
          2.62,
          2.48,
          2.75,
          2.28,
          2.1,
          2.32,
          2.38,
          2.64,
          2.7,
          2.64,
          2.38,
          2.54,
          2.58,
          2.35,
          2.3,
          2.26,
          2.6,
          2.3,
          2.69,
          2.86,
          2.32,
          2.28,
          2.48,
          2.45,
          2.48,
          2.26,
          2.37,
          2.74
         ]
        },
        {
         "name": "tot_phenols",
         "type": "box",
         "y": [
          2.8,
          2.65,
          2.8,
          3.85,
          2.8,
          3.27,
          2.5,
          2.6,
          2.8,
          2.98,
          2.95,
          2.2,
          2.6,
          3.1,
          3.3,
          2.85,
          2.8,
          2.95,
          3.3,
          2.7,
          3,
          2.41,
          2.61,
          2.48,
          2.53,
          2.63,
          2.85,
          2.4,
          2.95,
          2.65,
          3,
          2.86,
          2.42,
          2.95,
          2.35,
          2.7,
          2.6,
          2.45,
          2.4,
          3,
          3.15,
          2.45,
          3.25,
          2.64,
          3,
          2.85,
          3.25,
          3.1,
          2.75,
          2.88,
          2.72,
          2.45,
          3.88,
          3,
          2.6,
          2.96,
          3.2,
          3,
          3.4,
          1.98,
          2.05,
          2.02,
          2.1,
          3.5,
          1.89,
          2.42,
          2.98,
          2.11,
          2.53,
          1.85,
          1.1,
          2.95,
          1.88,
          3.3,
          3.38,
          1.61,
          1.95,
          1.72,
          1.9,
          2.83,
          2.42,
          2.2,
          2,
          1.65,
          2.2,
          2.2,
          1.78,
          1.92,
          1.95,
          2.2,
          1.6,
          1.45,
          1.38,
          2.45,
          3.02,
          2.5,
          1.6,
          2.55,
          3.52,
          2.85,
          2.23,
          1.45,
          2.56,
          2.5,
          2.2,
          1.68,
          1.65,
          1.38,
          2.36,
          2.74,
          3.18,
          2.55,
          1.75,
          2.48,
          2.56,
          2.46,
          1.98,
          2,
          1.63,
          2,
          2.9,
          3.18,
          2.2,
          2.62,
          2.86,
          2.6,
          2.74,
          2.13,
          2.22,
          2.1,
          1.51,
          1.3,
          1.15,
          1.7,
          2,
          1.62,
          1.38,
          1.79,
          1.62,
          2.32,
          1.54,
          1.4,
          1.55,
          2,
          1.38,
          1.5,
          0.98,
          1.7,
          1.93,
          1.41,
          1.4,
          1.48,
          2.2,
          1.8,
          1.48,
          1.74,
          1.8,
          1.9,
          2.8,
          2.6,
          2.3,
          1.83,
          1.65,
          1.39,
          1.35,
          1.28,
          1.7,
          1.48,
          1.55,
          1.98,
          1.25,
          1.39,
          1.68,
          1.68,
          1.8,
          1.59,
          1.65,
          2.05
         ]
        },
        {
         "name": "flavanoids",
         "type": "box",
         "y": [
          3.06,
          2.76,
          3.24,
          3.49,
          2.69,
          3.39,
          2.52,
          2.51,
          2.98,
          3.15,
          3.32,
          2.43,
          2.76,
          3.69,
          3.64,
          2.91,
          3.14,
          3.4,
          3.93,
          3.03,
          3.17,
          2.41,
          2.88,
          2.37,
          2.61,
          2.68,
          2.94,
          2.19,
          2.97,
          2.33,
          3.25,
          3.19,
          2.69,
          2.74,
          2.53,
          2.98,
          2.68,
          2.43,
          2.64,
          3.04,
          3.29,
          2.68,
          3.56,
          2.63,
          3,
          2.65,
          3.17,
          3.39,
          2.92,
          3.54,
          3.27,
          2.99,
          3.74,
          2.79,
          2.9,
          2.78,
          3,
          3.23,
          3.67,
          0.57,
          1.09,
          1.41,
          1.79,
          3.1,
          1.75,
          2.65,
          3.18,
          2,
          1.3,
          1.28,
          1.02,
          2.86,
          1.84,
          2.89,
          2.14,
          1.57,
          2.03,
          1.32,
          1.85,
          2.55,
          2.26,
          2.53,
          1.58,
          1.59,
          2.21,
          1.94,
          1.69,
          1.61,
          1.69,
          1.59,
          1.5,
          1.25,
          1.46,
          2.25,
          2.26,
          2.27,
          0.99,
          2.5,
          3.75,
          2.99,
          2.17,
          1.36,
          2.11,
          1.64,
          1.92,
          1.84,
          2.03,
          1.76,
          2.04,
          2.92,
          2.58,
          2.27,
          2.03,
          2.01,
          2.29,
          2.17,
          1.6,
          2.09,
          1.25,
          1.64,
          2.79,
          5.08,
          2.13,
          2.65,
          3.03,
          2.65,
          3.15,
          2.24,
          2.45,
          1.75,
          1.25,
          1.22,
          1.09,
          1.2,
          0.58,
          0.66,
          0.47,
          0.6,
          0.48,
          0.6,
          0.5,
          0.5,
          0.52,
          0.8,
          0.78,
          0.55,
          0.34,
          0.65,
          0.76,
          1.39,
          1.57,
          1.36,
          1.28,
          0.83,
          0.58,
          0.63,
          0.83,
          0.58,
          1.31,
          1.1,
          0.92,
          0.56,
          0.6,
          0.7,
          0.68,
          0.47,
          0.92,
          0.66,
          0.84,
          0.96,
          0.49,
          0.51,
          0.7,
          0.61,
          0.75,
          0.69,
          0.68,
          0.76
         ]
        },
        {
         "name": "non_flav_phenols",
         "type": "box",
         "y": [
          0.28,
          0.26,
          0.3,
          0.24,
          0.39,
          0.34,
          0.3,
          0.31,
          0.29,
          0.22,
          0.22,
          0.26,
          0.29,
          0.43,
          0.29,
          0.3,
          0.33,
          0.4,
          0.32,
          0.17,
          0.24,
          0.25,
          0.27,
          0.26,
          0.28,
          0.47,
          0.34,
          0.27,
          0.37,
          0.26,
          0.29,
          0.22,
          0.42,
          0.5,
          0.29,
          0.26,
          0.34,
          0.29,
          0.28,
          0.2,
          0.34,
          0.27,
          0.17,
          0.32,
          0.28,
          0.3,
          0.27,
          0.21,
          0.32,
          0.32,
          0.17,
          0.22,
          0.32,
          0.39,
          0.21,
          0.2,
          0.26,
          0.31,
          0.19,
          0.28,
          0.63,
          0.53,
          0.32,
          0.19,
          0.45,
          0.37,
          0.26,
          0.27,
          0.55,
          0.14,
          0.37,
          0.21,
          0.27,
          0.21,
          0.13,
          0.34,
          0.24,
          0.43,
          0.35,
          0.43,
          0.3,
          0.26,
          0.4,
          0.61,
          0.22,
          0.3,
          0.43,
          0.4,
          0.48,
          0.42,
          0.52,
          0.5,
          0.58,
          0.25,
          0.17,
          0.32,
          0.14,
          0.29,
          0.24,
          0.45,
          0.26,
          0.29,
          0.34,
          0.37,
          0.32,
          0.66,
          0.37,
          0.48,
          0.39,
          0.29,
          0.24,
          0.26,
          0.6,
          0.42,
          0.43,
          0.52,
          0.3,
          0.34,
          0.43,
          0.37,
          0.32,
          0.47,
          0.43,
          0.3,
          0.21,
          0.37,
          0.39,
          0.58,
          0.4,
          0.42,
          0.21,
          0.24,
          0.27,
          0.17,
          0.6,
          0.63,
          0.53,
          0.63,
          0.58,
          0.53,
          0.53,
          0.37,
          0.5,
          0.47,
          0.29,
          0.43,
          0.4,
          0.47,
          0.45,
          0.34,
          0.22,
          0.24,
          0.26,
          0.61,
          0.53,
          0.61,
          0.48,
          0.63,
          0.53,
          0.52,
          0.5,
          0.5,
          0.6,
          0.4,
          0.41,
          0.52,
          0.43,
          0.4,
          0.39,
          0.27,
          0.4,
          0.48,
          0.44,
          0.52,
          0.43,
          0.43,
          0.53,
          0.56
         ]
        },
        {
         "name": "proanthocyanins",
         "type": "box",
         "y": [
          2.29,
          1.28,
          2.81,
          2.18,
          1.82,
          1.97,
          1.98,
          1.25,
          1.98,
          1.85,
          2.38,
          1.57,
          1.81,
          2.81,
          2.96,
          1.46,
          1.97,
          1.72,
          1.86,
          1.66,
          2.1,
          1.98,
          1.69,
          1.46,
          1.66,
          1.92,
          1.45,
          1.35,
          1.76,
          1.98,
          2.38,
          1.95,
          1.97,
          1.35,
          1.54,
          1.86,
          1.36,
          1.44,
          1.37,
          2.08,
          2.34,
          1.48,
          1.7,
          1.66,
          2.03,
          1.25,
          2.19,
          2.14,
          2.38,
          2.08,
          2.91,
          2.29,
          1.87,
          1.68,
          1.62,
          2.45,
          2.03,
          1.66,
          2.04,
          0.42,
          0.41,
          0.62,
          0.73,
          1.87,
          1.03,
          2.08,
          2.28,
          1.04,
          0.42,
          2.5,
          1.46,
          1.87,
          1.03,
          1.96,
          1.65,
          1.15,
          1.46,
          0.95,
          2.76,
          1.95,
          1.43,
          1.77,
          1.4,
          1.62,
          2.35,
          1.46,
          1.56,
          1.34,
          1.35,
          1.38,
          1.64,
          1.63,
          1.62,
          1.99,
          1.35,
          3.28,
          1.56,
          1.77,
          1.95,
          2.81,
          1.4,
          1.35,
          1.31,
          1.42,
          1.48,
          1.42,
          1.63,
          1.63,
          2.08,
          2.49,
          3.58,
          1.22,
          1.05,
          1.44,
          1.04,
          2.01,
          1.53,
          1.61,
          0.83,
          1.87,
          1.83,
          1.87,
          1.71,
          2.01,
          2.91,
          1.35,
          1.77,
          1.76,
          1.9,
          1.35,
          0.94,
          0.83,
          0.83,
          0.84,
          1.25,
          0.94,
          0.8,
          1.1,
          0.88,
          0.81,
          0.75,
          0.64,
          0.55,
          1.02,
          1.14,
          1.3,
          0.68,
          0.86,
          1.25,
          1.14,
          1.25,
          1.26,
          1.56,
          1.87,
          1.4,
          1.55,
          1.56,
          1.14,
          2.7,
          2.29,
          1.04,
          0.8,
          0.96,
          0.94,
          1.03,
          1.15,
          1.46,
          0.97,
          1.54,
          1.11,
          0.73,
          0.64,
          1.24,
          1.06,
          1.41,
          1.35,
          1.46,
          1.35
         ]
        },
        {
         "name": "hue",
         "type": "box",
         "y": [
          1.04,
          1.05,
          1.03,
          0.86,
          1.04,
          1.05,
          1.02,
          1.06,
          1.08,
          1.01,
          1.25,
          1.17,
          1.15,
          1.25,
          1.2,
          1.28,
          1.07,
          1.13,
          1.23,
          0.96,
          1.09,
          1.03,
          1.11,
          1.09,
          1.12,
          1.13,
          0.92,
          1.02,
          1.25,
          1.04,
          1.19,
          1.09,
          1.23,
          1.25,
          1.1,
          1.04,
          1.09,
          1.12,
          1.18,
          0.89,
          0.95,
          0.91,
          0.88,
          0.82,
          0.88,
          0.87,
          1.04,
          0.91,
          1.07,
          1.12,
          1.12,
          1.24,
          1.01,
          1.13,
          0.92,
          0.98,
          0.94,
          1.07,
          0.89,
          1.05,
          1.25,
          0.98,
          1.23,
          1.22,
          1.45,
          1.19,
          1.12,
          1.12,
          1.02,
          1.28,
          0.906,
          1.36,
          0.98,
          1.31,
          0.99,
          1.23,
          1.19,
          0.96,
          1.06,
          1.19,
          1.38,
          1.16,
          1.31,
          0.84,
          0.79,
          1.23,
          1.33,
          1.36,
          1,
          1.07,
          1.08,
          1.05,
          0.96,
          1.15,
          1.16,
          1.16,
          0.95,
          1.23,
          1.04,
          1.42,
          1.27,
          1.04,
          0.8,
          0.94,
          1.04,
          0.86,
          1,
          0.88,
          0.86,
          0.96,
          0.75,
          0.9,
          1.23,
          1.1,
          0.93,
          1.71,
          0.95,
          1.06,
          0.7,
          0.93,
          0.8,
          0.93,
          0.92,
          0.73,
          0.75,
          0.86,
          0.69,
          0.97,
          0.89,
          0.79,
          0.76,
          0.74,
          0.66,
          0.78,
          0.75,
          0.73,
          0.75,
          0.82,
          0.81,
          0.89,
          0.77,
          0.7,
          0.89,
          0.91,
          0.65,
          0.6,
          0.58,
          0.54,
          0.55,
          0.57,
          0.59,
          0.48,
          0.61,
          0.56,
          0.58,
          0.6,
          0.57,
          0.67,
          0.57,
          0.57,
          0.56,
          0.96,
          0.87,
          0.68,
          0.7,
          0.78,
          0.85,
          0.72,
          0.74,
          0.67,
          0.66,
          0.57,
          0.62,
          0.64,
          0.7,
          0.59,
          0.6,
          0.61
         ]
        },
        {
         "name": "OD",
         "type": "box",
         "y": [
          3.92,
          3.4,
          3.17,
          3.45,
          2.93,
          2.85,
          3.58,
          3.58,
          2.85,
          3.55,
          3.17,
          2.82,
          2.9,
          2.73,
          3,
          2.88,
          2.65,
          2.57,
          2.82,
          3.36,
          3.71,
          3.52,
          4,
          3.63,
          3.82,
          3.2,
          3.22,
          2.77,
          3.4,
          3.59,
          2.71,
          2.88,
          2.87,
          3,
          2.87,
          3.47,
          2.78,
          2.51,
          2.69,
          3.53,
          3.38,
          3,
          3.56,
          3,
          3.35,
          3.33,
          3.44,
          3.33,
          2.75,
          3.1,
          2.91,
          3.37,
          3.26,
          2.93,
          3.2,
          3.03,
          3.31,
          2.84,
          2.87,
          1.82,
          1.67,
          1.59,
          2.46,
          2.87,
          2.23,
          2.3,
          3.18,
          3.48,
          1.93,
          3.07,
          1.82,
          3.16,
          2.78,
          3.5,
          3.13,
          2.14,
          2.48,
          2.52,
          2.31,
          3.13,
          3.12,
          3.14,
          2.72,
          2.01,
          3.08,
          3.16,
          2.26,
          3.21,
          2.75,
          3.21,
          2.27,
          2.65,
          2.06,
          3.3,
          2.96,
          2.63,
          2.26,
          2.74,
          2.77,
          2.83,
          2.96,
          2.77,
          3.38,
          2.44,
          3.57,
          3.3,
          3.17,
          2.42,
          3.02,
          3.26,
          2.81,
          2.78,
          2.5,
          2.31,
          3.19,
          2.87,
          3.33,
          2.96,
          2.12,
          3.05,
          3.39,
          3.69,
          3.12,
          3.1,
          3.64,
          3.28,
          2.84,
          2.44,
          2.78,
          2.57,
          1.29,
          1.42,
          1.36,
          1.29,
          1.51,
          1.58,
          1.27,
          1.69,
          1.82,
          2.15,
          2.31,
          2.47,
          2.06,
          2.05,
          2,
          1.68,
          1.33,
          1.86,
          1.62,
          1.33,
          1.3,
          1.47,
          1.33,
          1.51,
          1.55,
          1.48,
          1.64,
          1.73,
          1.96,
          1.78,
          1.58,
          1.82,
          2.11,
          1.75,
          1.68,
          1.75,
          1.56,
          1.75,
          1.8,
          1.92,
          1.83,
          1.63,
          1.71,
          1.74,
          1.56,
          1.56,
          1.62,
          1.6
         ]
        }
       ],
       "layout": {
        "autosize": true,
        "template": {
         "data": {
          "bar": [
           {
            "error_x": {
             "color": "#2a3f5f"
            },
            "error_y": {
             "color": "#2a3f5f"
            },
            "marker": {
             "line": {
              "color": "#E5ECF6",
              "width": 0.5
             }
            },
            "type": "bar"
           }
          ],
          "barpolar": [
           {
            "marker": {
             "line": {
              "color": "#E5ECF6",
              "width": 0.5
             }
            },
            "type": "barpolar"
           }
          ],
          "carpet": [
           {
            "aaxis": {
             "endlinecolor": "#2a3f5f",
             "gridcolor": "white",
             "linecolor": "white",
             "minorgridcolor": "white",
             "startlinecolor": "#2a3f5f"
            },
            "baxis": {
             "endlinecolor": "#2a3f5f",
             "gridcolor": "white",
             "linecolor": "white",
             "minorgridcolor": "white",
             "startlinecolor": "#2a3f5f"
            },
            "type": "carpet"
           }
          ],
          "choropleth": [
           {
            "colorbar": {
             "outlinewidth": 0,
             "ticks": ""
            },
            "type": "choropleth"
           }
          ],
          "contour": [
           {
            "colorbar": {
             "outlinewidth": 0,
             "ticks": ""
            },
            "colorscale": [
             [
              0,
              "#0d0887"
             ],
             [
              0.1111111111111111,
              "#46039f"
             ],
             [
              0.2222222222222222,
              "#7201a8"
             ],
             [
              0.3333333333333333,
              "#9c179e"
             ],
             [
              0.4444444444444444,
              "#bd3786"
             ],
             [
              0.5555555555555556,
              "#d8576b"
             ],
             [
              0.6666666666666666,
              "#ed7953"
             ],
             [
              0.7777777777777778,
              "#fb9f3a"
             ],
             [
              0.8888888888888888,
              "#fdca26"
             ],
             [
              1,
              "#f0f921"
             ]
            ],
            "type": "contour"
           }
          ],
          "contourcarpet": [
           {
            "colorbar": {
             "outlinewidth": 0,
             "ticks": ""
            },
            "type": "contourcarpet"
           }
          ],
          "heatmap": [
           {
            "colorbar": {
             "outlinewidth": 0,
             "ticks": ""
            },
            "colorscale": [
             [
              0,
              "#0d0887"
             ],
             [
              0.1111111111111111,
              "#46039f"
             ],
             [
              0.2222222222222222,
              "#7201a8"
             ],
             [
              0.3333333333333333,
              "#9c179e"
             ],
             [
              0.4444444444444444,
              "#bd3786"
             ],
             [
              0.5555555555555556,
              "#d8576b"
             ],
             [
              0.6666666666666666,
              "#ed7953"
             ],
             [
              0.7777777777777778,
              "#fb9f3a"
             ],
             [
              0.8888888888888888,
              "#fdca26"
             ],
             [
              1,
              "#f0f921"
             ]
            ],
            "type": "heatmap"
           }
          ],
          "heatmapgl": [
           {
            "colorbar": {
             "outlinewidth": 0,
             "ticks": ""
            },
            "colorscale": [
             [
              0,
              "#0d0887"
             ],
             [
              0.1111111111111111,
              "#46039f"
             ],
             [
              0.2222222222222222,
              "#7201a8"
             ],
             [
              0.3333333333333333,
              "#9c179e"
             ],
             [
              0.4444444444444444,
              "#bd3786"
             ],
             [
              0.5555555555555556,
              "#d8576b"
             ],
             [
              0.6666666666666666,
              "#ed7953"
             ],
             [
              0.7777777777777778,
              "#fb9f3a"
             ],
             [
              0.8888888888888888,
              "#fdca26"
             ],
             [
              1,
              "#f0f921"
             ]
            ],
            "type": "heatmapgl"
           }
          ],
          "histogram": [
           {
            "marker": {
             "colorbar": {
              "outlinewidth": 0,
              "ticks": ""
             }
            },
            "type": "histogram"
           }
          ],
          "histogram2d": [
           {
            "colorbar": {
             "outlinewidth": 0,
             "ticks": ""
            },
            "colorscale": [
             [
              0,
              "#0d0887"
             ],
             [
              0.1111111111111111,
              "#46039f"
             ],
             [
              0.2222222222222222,
              "#7201a8"
             ],
             [
              0.3333333333333333,
              "#9c179e"
             ],
             [
              0.4444444444444444,
              "#bd3786"
             ],
             [
              0.5555555555555556,
              "#d8576b"
             ],
             [
              0.6666666666666666,
              "#ed7953"
             ],
             [
              0.7777777777777778,
              "#fb9f3a"
             ],
             [
              0.8888888888888888,
              "#fdca26"
             ],
             [
              1,
              "#f0f921"
             ]
            ],
            "type": "histogram2d"
           }
          ],
          "histogram2dcontour": [
           {
            "colorbar": {
             "outlinewidth": 0,
             "ticks": ""
            },
            "colorscale": [
             [
              0,
              "#0d0887"
             ],
             [
              0.1111111111111111,
              "#46039f"
             ],
             [
              0.2222222222222222,
              "#7201a8"
             ],
             [
              0.3333333333333333,
              "#9c179e"
             ],
             [
              0.4444444444444444,
              "#bd3786"
             ],
             [
              0.5555555555555556,
              "#d8576b"
             ],
             [
              0.6666666666666666,
              "#ed7953"
             ],
             [
              0.7777777777777778,
              "#fb9f3a"
             ],
             [
              0.8888888888888888,
              "#fdca26"
             ],
             [
              1,
              "#f0f921"
             ]
            ],
            "type": "histogram2dcontour"
           }
          ],
          "mesh3d": [
           {
            "colorbar": {
             "outlinewidth": 0,
             "ticks": ""
            },
            "type": "mesh3d"
           }
          ],
          "parcoords": [
           {
            "line": {
             "colorbar": {
              "outlinewidth": 0,
              "ticks": ""
             }
            },
            "type": "parcoords"
           }
          ],
          "pie": [
           {
            "automargin": true,
            "type": "pie"
           }
          ],
          "scatter": [
           {
            "marker": {
             "colorbar": {
              "outlinewidth": 0,
              "ticks": ""
             }
            },
            "type": "scatter"
           }
          ],
          "scatter3d": [
           {
            "line": {
             "colorbar": {
              "outlinewidth": 0,
              "ticks": ""
             }
            },
            "marker": {
             "colorbar": {
              "outlinewidth": 0,
              "ticks": ""
             }
            },
            "type": "scatter3d"
           }
          ],
          "scattercarpet": [
           {
            "marker": {
             "colorbar": {
              "outlinewidth": 0,
              "ticks": ""
             }
            },
            "type": "scattercarpet"
           }
          ],
          "scattergeo": [
           {
            "marker": {
             "colorbar": {
              "outlinewidth": 0,
              "ticks": ""
             }
            },
            "type": "scattergeo"
           }
          ],
          "scattergl": [
           {
            "marker": {
             "colorbar": {
              "outlinewidth": 0,
              "ticks": ""
             }
            },
            "type": "scattergl"
           }
          ],
          "scattermapbox": [
           {
            "marker": {
             "colorbar": {
              "outlinewidth": 0,
              "ticks": ""
             }
            },
            "type": "scattermapbox"
           }
          ],
          "scatterpolar": [
           {
            "marker": {
             "colorbar": {
              "outlinewidth": 0,
              "ticks": ""
             }
            },
            "type": "scatterpolar"
           }
          ],
          "scatterpolargl": [
           {
            "marker": {
             "colorbar": {
              "outlinewidth": 0,
              "ticks": ""
             }
            },
            "type": "scatterpolargl"
           }
          ],
          "scatterternary": [
           {
            "marker": {
             "colorbar": {
              "outlinewidth": 0,
              "ticks": ""
             }
            },
            "type": "scatterternary"
           }
          ],
          "surface": [
           {
            "colorbar": {
             "outlinewidth": 0,
             "ticks": ""
            },
            "colorscale": [
             [
              0,
              "#0d0887"
             ],
             [
              0.1111111111111111,
              "#46039f"
             ],
             [
              0.2222222222222222,
              "#7201a8"
             ],
             [
              0.3333333333333333,
              "#9c179e"
             ],
             [
              0.4444444444444444,
              "#bd3786"
             ],
             [
              0.5555555555555556,
              "#d8576b"
             ],
             [
              0.6666666666666666,
              "#ed7953"
             ],
             [
              0.7777777777777778,
              "#fb9f3a"
             ],
             [
              0.8888888888888888,
              "#fdca26"
             ],
             [
              1,
              "#f0f921"
             ]
            ],
            "type": "surface"
           }
          ],
          "table": [
           {
            "cells": {
             "fill": {
              "color": "#EBF0F8"
             },
             "line": {
              "color": "white"
             }
            },
            "header": {
             "fill": {
              "color": "#C8D4E3"
             },
             "line": {
              "color": "white"
             }
            },
            "type": "table"
           }
          ]
         },
         "layout": {
          "annotationdefaults": {
           "arrowcolor": "#2a3f5f",
           "arrowhead": 0,
           "arrowwidth": 1
          },
          "coloraxis": {
           "colorbar": {
            "outlinewidth": 0,
            "ticks": ""
           }
          },
          "colorscale": {
           "diverging": [
            [
             0,
             "#8e0152"
            ],
            [
             0.1,
             "#c51b7d"
            ],
            [
             0.2,
             "#de77ae"
            ],
            [
             0.3,
             "#f1b6da"
            ],
            [
             0.4,
             "#fde0ef"
            ],
            [
             0.5,
             "#f7f7f7"
            ],
            [
             0.6,
             "#e6f5d0"
            ],
            [
             0.7,
             "#b8e186"
            ],
            [
             0.8,
             "#7fbc41"
            ],
            [
             0.9,
             "#4d9221"
            ],
            [
             1,
             "#276419"
            ]
           ],
           "sequential": [
            [
             0,
             "#0d0887"
            ],
            [
             0.1111111111111111,
             "#46039f"
            ],
            [
             0.2222222222222222,
             "#7201a8"
            ],
            [
             0.3333333333333333,
             "#9c179e"
            ],
            [
             0.4444444444444444,
             "#bd3786"
            ],
            [
             0.5555555555555556,
             "#d8576b"
            ],
            [
             0.6666666666666666,
             "#ed7953"
            ],
            [
             0.7777777777777778,
             "#fb9f3a"
            ],
            [
             0.8888888888888888,
             "#fdca26"
            ],
            [
             1,
             "#f0f921"
            ]
           ],
           "sequentialminus": [
            [
             0,
             "#0d0887"
            ],
            [
             0.1111111111111111,
             "#46039f"
            ],
            [
             0.2222222222222222,
             "#7201a8"
            ],
            [
             0.3333333333333333,
             "#9c179e"
            ],
            [
             0.4444444444444444,
             "#bd3786"
            ],
            [
             0.5555555555555556,
             "#d8576b"
            ],
            [
             0.6666666666666666,
             "#ed7953"
            ],
            [
             0.7777777777777778,
             "#fb9f3a"
            ],
            [
             0.8888888888888888,
             "#fdca26"
            ],
            [
             1,
             "#f0f921"
            ]
           ]
          },
          "colorway": [
           "#636efa",
           "#EF553B",
           "#00cc96",
           "#ab63fa",
           "#FFA15A",
           "#19d3f3",
           "#FF6692",
           "#B6E880",
           "#FF97FF",
           "#FECB52"
          ],
          "font": {
           "color": "#2a3f5f"
          },
          "geo": {
           "bgcolor": "white",
           "lakecolor": "white",
           "landcolor": "#E5ECF6",
           "showlakes": true,
           "showland": true,
           "subunitcolor": "white"
          },
          "hoverlabel": {
           "align": "left"
          },
          "hovermode": "closest",
          "mapbox": {
           "style": "light"
          },
          "paper_bgcolor": "white",
          "plot_bgcolor": "#E5ECF6",
          "polar": {
           "angularaxis": {
            "gridcolor": "white",
            "linecolor": "white",
            "ticks": ""
           },
           "bgcolor": "#E5ECF6",
           "radialaxis": {
            "gridcolor": "white",
            "linecolor": "white",
            "ticks": ""
           }
          },
          "scene": {
           "xaxis": {
            "backgroundcolor": "#E5ECF6",
            "gridcolor": "white",
            "gridwidth": 2,
            "linecolor": "white",
            "showbackground": true,
            "ticks": "",
            "zerolinecolor": "white"
           },
           "yaxis": {
            "backgroundcolor": "#E5ECF6",
            "gridcolor": "white",
            "gridwidth": 2,
            "linecolor": "white",
            "showbackground": true,
            "ticks": "",
            "zerolinecolor": "white"
           },
           "zaxis": {
            "backgroundcolor": "#E5ECF6",
            "gridcolor": "white",
            "gridwidth": 2,
            "linecolor": "white",
            "showbackground": true,
            "ticks": "",
            "zerolinecolor": "white"
           }
          },
          "shapedefaults": {
           "line": {
            "color": "#2a3f5f"
           }
          },
          "ternary": {
           "aaxis": {
            "gridcolor": "white",
            "linecolor": "white",
            "ticks": ""
           },
           "baxis": {
            "gridcolor": "white",
            "linecolor": "white",
            "ticks": ""
           },
           "bgcolor": "#E5ECF6",
           "caxis": {
            "gridcolor": "white",
            "linecolor": "white",
            "ticks": ""
           }
          },
          "title": {
           "x": 0.05
          },
          "xaxis": {
           "automargin": true,
           "gridcolor": "white",
           "linecolor": "white",
           "ticks": "",
           "title": {
            "standoff": 15
           },
           "zerolinecolor": "white",
           "zerolinewidth": 2
          },
          "yaxis": {
           "automargin": true,
           "gridcolor": "white",
           "linecolor": "white",
           "ticks": "",
           "title": {
            "standoff": 15
           },
           "zerolinecolor": "white",
           "zerolinewidth": 2
          }
         }
        },
        "xaxis": {
         "autorange": true,
         "range": [
          -0.5,
          7.5
         ],
         "title": {
          "text": "Attribute"
         },
         "type": "category"
        },
        "yaxis": {
         "autorange": true,
         "range": [
          -0.185,
          6.115
         ],
         "title": {
          "text": "unit"
         },
         "type": "linear"
        }
       }
      },
      "image/png": "[encoded data removed]",
      "text/html": [
       "<div>\n",
       "        \n",
       "        \n",
       "            <div id=\"77c75e23-6bc3-46cb-861a-91a269b5a4a2\" class=\"plotly-graph-div\" style=\"height:525px; width:100%;\"></div>\n",
       "            <script type=\"text/javascript\">\n",
       "                require([\"plotly\"], function(Plotly) {\n",
       "                    window.PLOTLYENV=window.PLOTLYENV || {};\n",
       "                    \n",
       "                if (document.getElementById(\"77c75e23-6bc3-46cb-861a-91a269b5a4a2\")) {\n",
       "                    Plotly.newPlot(\n",
       "                        '77c75e23-6bc3-46cb-861a-91a269b5a4a2',\n",
       "                        [{\"name\": \"malic_acid\", \"type\": \"box\", \"y\": [1.71, 1.78, 2.36, 1.95, 2.59, 1.76, 1.87, 2.15, 1.64, 1.35, 2.16, 1.48, 1.73, 1.73, 1.87, 1.81, 1.92, 1.57, 1.59, 3.1, 1.63, 3.8, 1.86, 1.6, 1.81, 2.05, 1.77, 1.72, 1.9, 1.68, 1.5, 1.66, 1.83, 1.53, 1.8, 1.81, 1.64, 1.65, 1.5, 3.99, 1.71, 3.84, 1.89, 3.98, 1.77, 4.04, 3.59, 1.68, 2.02, 1.73, 1.73, 1.65, 1.75, 1.9, 1.67, 1.73, 1.7, 1.97, 1.43, 0.94, 1.1, 1.36, 1.25, 1.13, 1.45, 1.21, 1.01, 1.17, 0.94, 1.19, 1.61, 1.51, 1.66, 1.67, 1.09, 1.88, 0.9, 2.89, 0.99, 3.87, 0.92, 1.81, 1.13, 3.86, 0.89, 0.98, 1.61, 1.67, 2.06, 1.33, 1.83, 1.51, 1.53, 2.83, 1.99, 1.52, 2.12, 1.41, 1.07, 3.17, 2.08, 1.34, 2.45, 1.72, 1.73, 2.55, 1.73, 1.75, 1.29, 1.35, 3.74, 2.43, 2.68, 0.74, 1.39, 1.51, 1.47, 1.61, 3.43, 3.43, 2.4, 2.05, 4.43, 5.8, 4.31, 2.16, 1.53, 2.13, 1.63, 4.3, 1.35, 2.99, 2.31, 3.55, 1.24, 2.46, 4.72, 5.51, 3.59, 2.96, 2.81, 2.56, 3.17, 4.95, 3.88, 3.57, 5.04, 4.61, 3.24, 3.9, 3.12, 2.67, 1.9, 3.3, 1.29, 5.19, 4.12, 3.03, 1.68, 1.67, 3.83, 3.26, 3.27, 3.45, 2.76, 4.36, 3.7, 3.37, 2.58, 4.6, 3.03, 2.39, 2.51, 5.65, 3.91, 4.28, 2.59, 4.1]}, {\"name\": \"ash\", \"type\": \"box\", \"y\": [2.43, 2.14, 2.67, 2.5, 2.87, 2.45, 2.45, 2.61, 2.17, 2.27, 2.3, 2.32, 2.41, 2.39, 2.38, 2.7, 2.72, 2.62, 2.48, 2.56, 2.28, 2.65, 2.36, 2.52, 2.61, 3.22, 2.62, 2.14, 2.8, 2.21, 2.7, 2.36, 2.36, 2.7, 2.65, 2.41, 2.84, 2.55, 2.1, 2.51, 2.31, 2.12, 2.59, 2.29, 2.1, 2.44, 2.28, 2.12, 2.4, 2.27, 2.04, 2.6, 2.42, 2.68, 2.25, 2.46, 2.3, 2.68, 2.5, 1.36, 2.28, 2.02, 1.92, 2.16, 2.53, 2.56, 1.7, 1.92, 2.36, 1.75, 2.21, 2.67, 2.24, 2.6, 2.3, 1.92, 1.71, 2.23, 1.95, 2.4, 2.0, 2.2, 2.51, 2.32, 2.58, 2.24, 2.31, 2.62, 2.46, 2.3, 2.32, 2.42, 2.26, 2.22, 2.28, 2.2, 2.74, 1.98, 2.1, 2.21, 1.7, 1.9, 2.46, 1.88, 1.98, 2.27, 2.12, 2.28, 1.94, 2.7, 1.82, 2.17, 2.92, 2.5, 2.5, 2.2, 1.99, 2.19, 1.98, 2.0, 2.42, 3.23, 2.73, 2.13, 2.39, 2.17, 2.29, 2.78, 2.3, 2.38, 2.32, 2.4, 2.4, 2.36, 2.25, 2.2, 2.54, 2.64, 2.19, 2.61, 2.7, 2.35, 2.72, 2.35, 2.2, 2.15, 2.23, 2.48, 2.38, 2.36, 2.62, 2.48, 2.75, 2.28, 2.1, 2.32, 2.38, 2.64, 2.7, 2.64, 2.38, 2.54, 2.58, 2.35, 2.3, 2.26, 2.6, 2.3, 2.69, 2.86, 2.32, 2.28, 2.48, 2.45, 2.48, 2.26, 2.37, 2.74]}, {\"name\": \"tot_phenols\", \"type\": \"box\", \"y\": [2.8, 2.65, 2.8, 3.85, 2.8, 3.27, 2.5, 2.6, 2.8, 2.98, 2.95, 2.2, 2.6, 3.1, 3.3, 2.85, 2.8, 2.95, 3.3, 2.7, 3.0, 2.41, 2.61, 2.48, 2.53, 2.63, 2.85, 2.4, 2.95, 2.65, 3.0, 2.86, 2.42, 2.95, 2.35, 2.7, 2.6, 2.45, 2.4, 3.0, 3.15, 2.45, 3.25, 2.64, 3.0, 2.85, 3.25, 3.1, 2.75, 2.88, 2.72, 2.45, 3.88, 3.0, 2.6, 2.96, 3.2, 3.0, 3.4, 1.98, 2.05, 2.02, 2.1, 3.5, 1.89, 2.42, 2.98, 2.11, 2.53, 1.85, 1.1, 2.95, 1.88, 3.3, 3.38, 1.61, 1.95, 1.72, 1.9, 2.83, 2.42, 2.2, 2.0, 1.65, 2.2, 2.2, 1.78, 1.92, 1.95, 2.2, 1.6, 1.45, 1.38, 2.45, 3.02, 2.5, 1.6, 2.55, 3.52, 2.85, 2.23, 1.45, 2.56, 2.5, 2.2, 1.68, 1.65, 1.38, 2.36, 2.74, 3.18, 2.55, 1.75, 2.48, 2.56, 2.46, 1.98, 2.0, 1.63, 2.0, 2.9, 3.18, 2.2, 2.62, 2.86, 2.6, 2.74, 2.13, 2.22, 2.1, 1.51, 1.3, 1.15, 1.7, 2.0, 1.62, 1.38, 1.79, 1.62, 2.32, 1.54, 1.4, 1.55, 2.0, 1.38, 1.5, 0.98, 1.7, 1.93, 1.41, 1.4, 1.48, 2.2, 1.8, 1.48, 1.74, 1.8, 1.9, 2.8, 2.6, 2.3, 1.83, 1.65, 1.39, 1.35, 1.28, 1.7, 1.48, 1.55, 1.98, 1.25, 1.39, 1.68, 1.68, 1.8, 1.59, 1.65, 2.05]}, {\"name\": \"flavanoids\", \"type\": \"box\", \"y\": [3.06, 2.76, 3.24, 3.49, 2.69, 3.39, 2.52, 2.51, 2.98, 3.15, 3.32, 2.43, 2.76, 3.69, 3.64, 2.91, 3.14, 3.4, 3.93, 3.03, 3.17, 2.41, 2.88, 2.37, 2.61, 2.68, 2.94, 2.19, 2.97, 2.33, 3.25, 3.19, 2.69, 2.74, 2.53, 2.98, 2.68, 2.43, 2.64, 3.04, 3.29, 2.68, 3.56, 2.63, 3.0, 2.65, 3.17, 3.39, 2.92, 3.54, 3.27, 2.99, 3.74, 2.79, 2.9, 2.78, 3.0, 3.23, 3.67, 0.57, 1.09, 1.41, 1.79, 3.1, 1.75, 2.65, 3.18, 2.0, 1.3, 1.28, 1.02, 2.86, 1.84, 2.89, 2.14, 1.57, 2.03, 1.32, 1.85, 2.55, 2.26, 2.53, 1.58, 1.59, 2.21, 1.94, 1.69, 1.61, 1.69, 1.59, 1.5, 1.25, 1.46, 2.25, 2.26, 2.27, 0.99, 2.5, 3.75, 2.99, 2.17, 1.36, 2.11, 1.64, 1.92, 1.84, 2.03, 1.76, 2.04, 2.92, 2.58, 2.27, 2.03, 2.01, 2.29, 2.17, 1.6, 2.09, 1.25, 1.64, 2.79, 5.08, 2.13, 2.65, 3.03, 2.65, 3.15, 2.24, 2.45, 1.75, 1.25, 1.22, 1.09, 1.2, 0.58, 0.66, 0.47, 0.6, 0.48, 0.6, 0.5, 0.5, 0.52, 0.8, 0.78, 0.55, 0.34, 0.65, 0.76, 1.39, 1.57, 1.36, 1.28, 0.83, 0.58, 0.63, 0.83, 0.58, 1.31, 1.1, 0.92, 0.56, 0.6, 0.7, 0.68, 0.47, 0.92, 0.66, 0.84, 0.96, 0.49, 0.51, 0.7, 0.61, 0.75, 0.69, 0.68, 0.76]}, {\"name\": \"non_flav_phenols\", \"type\": \"box\", \"y\": [0.28, 0.26, 0.3, 0.24, 0.39, 0.34, 0.3, 0.31, 0.29, 0.22, 0.22, 0.26, 0.29, 0.43, 0.29, 0.3, 0.33, 0.4, 0.32, 0.17, 0.24, 0.25, 0.27, 0.26, 0.28, 0.47, 0.34, 0.27, 0.37, 0.26, 0.29, 0.22, 0.42, 0.5, 0.29, 0.26, 0.34, 0.29, 0.28, 0.2, 0.34, 0.27, 0.17, 0.32, 0.28, 0.3, 0.27, 0.21, 0.32, 0.32, 0.17, 0.22, 0.32, 0.39, 0.21, 0.2, 0.26, 0.31, 0.19, 0.28, 0.63, 0.53, 0.32, 0.19, 0.45, 0.37, 0.26, 0.27, 0.55, 0.14, 0.37, 0.21, 0.27, 0.21, 0.13, 0.34, 0.24, 0.43, 0.35, 0.43, 0.3, 0.26, 0.4, 0.61, 0.22, 0.3, 0.43, 0.4, 0.48, 0.42, 0.52, 0.5, 0.58, 0.25, 0.17, 0.32, 0.14, 0.29, 0.24, 0.45, 0.26, 0.29, 0.34, 0.37, 0.32, 0.66, 0.37, 0.48, 0.39, 0.29, 0.24, 0.26, 0.6, 0.42, 0.43, 0.52, 0.3, 0.34, 0.43, 0.37, 0.32, 0.47, 0.43, 0.3, 0.21, 0.37, 0.39, 0.58, 0.4, 0.42, 0.21, 0.24, 0.27, 0.17, 0.6, 0.63, 0.53, 0.63, 0.58, 0.53, 0.53, 0.37, 0.5, 0.47, 0.29, 0.43, 0.4, 0.47, 0.45, 0.34, 0.22, 0.24, 0.26, 0.61, 0.53, 0.61, 0.48, 0.63, 0.53, 0.52, 0.5, 0.5, 0.6, 0.4, 0.41, 0.52, 0.43, 0.4, 0.39, 0.27, 0.4, 0.48, 0.44, 0.52, 0.43, 0.43, 0.53, 0.56]}, {\"name\": \"proanthocyanins\", \"type\": \"box\", \"y\": [2.29, 1.28, 2.81, 2.18, 1.82, 1.97, 1.98, 1.25, 1.98, 1.85, 2.38, 1.57, 1.81, 2.81, 2.96, 1.46, 1.97, 1.72, 1.86, 1.66, 2.1, 1.98, 1.69, 1.46, 1.66, 1.92, 1.45, 1.35, 1.76, 1.98, 2.38, 1.95, 1.97, 1.35, 1.54, 1.86, 1.36, 1.44, 1.37, 2.08, 2.34, 1.48, 1.7, 1.66, 2.03, 1.25, 2.19, 2.14, 2.38, 2.08, 2.91, 2.29, 1.87, 1.68, 1.62, 2.45, 2.03, 1.66, 2.04, 0.42, 0.41, 0.62, 0.73, 1.87, 1.03, 2.08, 2.28, 1.04, 0.42, 2.5, 1.46, 1.87, 1.03, 1.96, 1.65, 1.15, 1.46, 0.95, 2.76, 1.95, 1.43, 1.77, 1.4, 1.62, 2.35, 1.46, 1.56, 1.34, 1.35, 1.38, 1.64, 1.63, 1.62, 1.99, 1.35, 3.28, 1.56, 1.77, 1.95, 2.81, 1.4, 1.35, 1.31, 1.42, 1.48, 1.42, 1.63, 1.63, 2.08, 2.49, 3.58, 1.22, 1.05, 1.44, 1.04, 2.01, 1.53, 1.61, 0.83, 1.87, 1.83, 1.87, 1.71, 2.01, 2.91, 1.35, 1.77, 1.76, 1.9, 1.35, 0.94, 0.83, 0.83, 0.84, 1.25, 0.94, 0.8, 1.1, 0.88, 0.81, 0.75, 0.64, 0.55, 1.02, 1.14, 1.3, 0.68, 0.86, 1.25, 1.14, 1.25, 1.26, 1.56, 1.87, 1.4, 1.55, 1.56, 1.14, 2.7, 2.29, 1.04, 0.8, 0.96, 0.94, 1.03, 1.15, 1.46, 0.97, 1.54, 1.11, 0.73, 0.64, 1.24, 1.06, 1.41, 1.35, 1.46, 1.35]}, {\"name\": \"hue\", \"type\": \"box\", \"y\": [1.04, 1.05, 1.03, 0.86, 1.04, 1.05, 1.02, 1.06, 1.08, 1.01, 1.25, 1.17, 1.15, 1.25, 1.2, 1.28, 1.07, 1.13, 1.23, 0.96, 1.09, 1.03, 1.11, 1.09, 1.12, 1.13, 0.92, 1.02, 1.25, 1.04, 1.19, 1.09, 1.23, 1.25, 1.1, 1.04, 1.09, 1.12, 1.18, 0.89, 0.95, 0.91, 0.88, 0.82, 0.88, 0.87, 1.04, 0.91, 1.07, 1.12, 1.12, 1.24, 1.01, 1.13, 0.92, 0.98, 0.94, 1.07, 0.89, 1.05, 1.25, 0.98, 1.23, 1.22, 1.45, 1.19, 1.12, 1.12, 1.02, 1.28, 0.906, 1.36, 0.98, 1.31, 0.99, 1.23, 1.19, 0.96, 1.06, 1.19, 1.38, 1.16, 1.31, 0.84, 0.79, 1.23, 1.33, 1.36, 1.0, 1.07, 1.08, 1.05, 0.96, 1.15, 1.16, 1.16, 0.95, 1.23, 1.04, 1.42, 1.27, 1.04, 0.8, 0.94, 1.04, 0.86, 1.0, 0.88, 0.86, 0.96, 0.75, 0.9, 1.23, 1.1, 0.93, 1.71, 0.95, 1.06, 0.7, 0.93, 0.8, 0.93, 0.92, 0.73, 0.75, 0.86, 0.69, 0.97, 0.89, 0.79, 0.76, 0.74, 0.66, 0.78, 0.75, 0.73, 0.75, 0.82, 0.81, 0.89, 0.77, 0.7, 0.89, 0.91, 0.65, 0.6, 0.58, 0.54, 0.55, 0.57, 0.59, 0.48, 0.61, 0.56, 0.58, 0.6, 0.57, 0.67, 0.57, 0.57, 0.56, 0.96, 0.87, 0.68, 0.7, 0.78, 0.85, 0.72, 0.74, 0.67, 0.66, 0.57, 0.62, 0.64, 0.7, 0.59, 0.6, 0.61]}, {\"name\": \"OD\", \"type\": \"box\", \"y\": [3.92, 3.4, 3.17, 3.45, 2.93, 2.85, 3.58, 3.58, 2.85, 3.55, 3.17, 2.82, 2.9, 2.73, 3.0, 2.88, 2.65, 2.57, 2.82, 3.36, 3.71, 3.52, 4.0, 3.63, 3.82, 3.2, 3.22, 2.77, 3.4, 3.59, 2.71, 2.88, 2.87, 3.0, 2.87, 3.47, 2.78, 2.51, 2.69, 3.53, 3.38, 3.0, 3.56, 3.0, 3.35, 3.33, 3.44, 3.33, 2.75, 3.1, 2.91, 3.37, 3.26, 2.93, 3.2, 3.03, 3.31, 2.84, 2.87, 1.82, 1.67, 1.59, 2.46, 2.87, 2.23, 2.3, 3.18, 3.48, 1.93, 3.07, 1.82, 3.16, 2.78, 3.5, 3.13, 2.14, 2.48, 2.52, 2.31, 3.13, 3.12, 3.14, 2.72, 2.01, 3.08, 3.16, 2.26, 3.21, 2.75, 3.21, 2.27, 2.65, 2.06, 3.3, 2.96, 2.63, 2.26, 2.74, 2.77, 2.83, 2.96, 2.77, 3.38, 2.44, 3.57, 3.3, 3.17, 2.42, 3.02, 3.26, 2.81, 2.78, 2.5, 2.31, 3.19, 2.87, 3.33, 2.96, 2.12, 3.05, 3.39, 3.69, 3.12, 3.1, 3.64, 3.28, 2.84, 2.44, 2.78, 2.57, 1.29, 1.42, 1.36, 1.29, 1.51, 1.58, 1.27, 1.69, 1.82, 2.15, 2.31, 2.47, 2.06, 2.05, 2.0, 1.68, 1.33, 1.86, 1.62, 1.33, 1.3, 1.47, 1.33, 1.51, 1.55, 1.48, 1.64, 1.73, 1.96, 1.78, 1.58, 1.82, 2.11, 1.75, 1.68, 1.75, 1.56, 1.75, 1.8, 1.92, 1.83, 1.63, 1.71, 1.74, 1.56, 1.56, 1.62, 1.6]}],\n",
       "                        {\"template\": {\"data\": {\"bar\": [{\"error_x\": {\"color\": \"#2a3f5f\"}, \"error_y\": {\"color\": \"#2a3f5f\"}, \"marker\": {\"line\": {\"color\": \"#E5ECF6\", \"width\": 0.5}}, \"type\": \"bar\"}], \"barpolar\": [{\"marker\": {\"line\": {\"color\": \"#E5ECF6\", \"width\": 0.5}}, \"type\": \"barpolar\"}], \"carpet\": [{\"aaxis\": {\"endlinecolor\": \"#2a3f5f\", \"gridcolor\": \"white\", \"linecolor\": \"white\", \"minorgridcolor\": \"white\", \"startlinecolor\": \"#2a3f5f\"}, \"baxis\": {\"endlinecolor\": \"#2a3f5f\", \"gridcolor\": \"white\", \"linecolor\": \"white\", \"minorgridcolor\": \"white\", \"startlinecolor\": \"#2a3f5f\"}, \"type\": \"carpet\"}], \"choropleth\": [{\"colorbar\": {\"outlinewidth\": 0, \"ticks\": \"\"}, \"type\": \"choropleth\"}], \"contour\": [{\"colorbar\": {\"outlinewidth\": 0, \"ticks\": \"\"}, \"colorscale\": [[0.0, \"#0d0887\"], [0.1111111111111111, \"#46039f\"], [0.2222222222222222, \"#7201a8\"], [0.3333333333333333, \"#9c179e\"], [0.4444444444444444, \"#bd3786\"], [0.5555555555555556, \"#d8576b\"], [0.6666666666666666, \"#ed7953\"], [0.7777777777777778, \"#fb9f3a\"], [0.8888888888888888, \"#fdca26\"], [1.0, \"#f0f921\"]], \"type\": \"contour\"}], \"contourcarpet\": [{\"colorbar\": {\"outlinewidth\": 0, \"ticks\": \"\"}, \"type\": \"contourcarpet\"}], \"heatmap\": [{\"colorbar\": {\"outlinewidth\": 0, \"ticks\": \"\"}, \"colorscale\": [[0.0, \"#0d0887\"], [0.1111111111111111, \"#46039f\"], [0.2222222222222222, \"#7201a8\"], [0.3333333333333333, \"#9c179e\"], [0.4444444444444444, \"#bd3786\"], [0.5555555555555556, \"#d8576b\"], [0.6666666666666666, \"#ed7953\"], [0.7777777777777778, \"#fb9f3a\"], [0.8888888888888888, \"#fdca26\"], [1.0, \"#f0f921\"]], \"type\": \"heatmap\"}], \"heatmapgl\": [{\"colorbar\": {\"outlinewidth\": 0, \"ticks\": \"\"}, \"colorscale\": [[0.0, \"#0d0887\"], [0.1111111111111111, \"#46039f\"], [0.2222222222222222, \"#7201a8\"], [0.3333333333333333, \"#9c179e\"], [0.4444444444444444, \"#bd3786\"], [0.5555555555555556, \"#d8576b\"], [0.6666666666666666, \"#ed7953\"], [0.7777777777777778, \"#fb9f3a\"], [0.8888888888888888, \"#fdca26\"], [1.0, \"#f0f921\"]], \"type\": \"heatmapgl\"}], \"histogram\": [{\"marker\": {\"colorbar\": {\"outlinewidth\": 0, \"ticks\": \"\"}}, \"type\": \"histogram\"}], \"histogram2d\": [{\"colorbar\": {\"outlinewidth\": 0, \"ticks\": \"\"}, \"colorscale\": [[0.0, \"#0d0887\"], [0.1111111111111111, \"#46039f\"], [0.2222222222222222, \"#7201a8\"], [0.3333333333333333, \"#9c179e\"], [0.4444444444444444, \"#bd3786\"], [0.5555555555555556, \"#d8576b\"], [0.6666666666666666, \"#ed7953\"], [0.7777777777777778, \"#fb9f3a\"], [0.8888888888888888, \"#fdca26\"], [1.0, \"#f0f921\"]], \"type\": \"histogram2d\"}], \"histogram2dcontour\": [{\"colorbar\": {\"outlinewidth\": 0, \"ticks\": \"\"}, \"colorscale\": [[0.0, \"#0d0887\"], [0.1111111111111111, \"#46039f\"], [0.2222222222222222, \"#7201a8\"], [0.3333333333333333, \"#9c179e\"], [0.4444444444444444, \"#bd3786\"], [0.5555555555555556, \"#d8576b\"], [0.6666666666666666, \"#ed7953\"], [0.7777777777777778, \"#fb9f3a\"], [0.8888888888888888, \"#fdca26\"], [1.0, \"#f0f921\"]], \"type\": \"histogram2dcontour\"}], \"mesh3d\": [{\"colorbar\": {\"outlinewidth\": 0, \"ticks\": \"\"}, \"type\": \"mesh3d\"}], \"parcoords\": [{\"line\": {\"colorbar\": {\"outlinewidth\": 0, \"ticks\": \"\"}}, \"type\": \"parcoords\"}], \"pie\": [{\"automargin\": true, \"type\": \"pie\"}], \"scatter\": [{\"marker\": {\"colorbar\": {\"outlinewidth\": 0, \"ticks\": \"\"}}, \"type\": \"scatter\"}], \"scatter3d\": [{\"line\": {\"colorbar\": {\"outlinewidth\": 0, \"ticks\": \"\"}}, \"marker\": {\"colorbar\": {\"outlinewidth\": 0, \"ticks\": \"\"}}, \"type\": \"scatter3d\"}], \"scattercarpet\": [{\"marker\": {\"colorbar\": {\"outlinewidth\": 0, \"ticks\": \"\"}}, \"type\": \"scattercarpet\"}], \"scattergeo\": [{\"marker\": {\"colorbar\": {\"outlinewidth\": 0, \"ticks\": \"\"}}, \"type\": \"scattergeo\"}], \"scattergl\": [{\"marker\": {\"colorbar\": {\"outlinewidth\": 0, \"ticks\": \"\"}}, \"type\": \"scattergl\"}], \"scattermapbox\": [{\"marker\": {\"colorbar\": {\"outlinewidth\": 0, \"ticks\": \"\"}}, \"type\": \"scattermapbox\"}], \"scatterpolar\": [{\"marker\": {\"colorbar\": {\"outlinewidth\": 0, \"ticks\": \"\"}}, \"type\": \"scatterpolar\"}], \"scatterpolargl\": [{\"marker\": {\"colorbar\": {\"outlinewidth\": 0, \"ticks\": \"\"}}, \"type\": \"scatterpolargl\"}], \"scatterternary\": [{\"marker\": {\"colorbar\": {\"outlinewidth\": 0, \"ticks\": \"\"}}, \"type\": \"scatterternary\"}], \"surface\": [{\"colorbar\": {\"outlinewidth\": 0, \"ticks\": \"\"}, \"colorscale\": [[0.0, \"#0d0887\"], [0.1111111111111111, \"#46039f\"], [0.2222222222222222, \"#7201a8\"], [0.3333333333333333, \"#9c179e\"], [0.4444444444444444, \"#bd3786\"], [0.5555555555555556, \"#d8576b\"], [0.6666666666666666, \"#ed7953\"], [0.7777777777777778, \"#fb9f3a\"], [0.8888888888888888, \"#fdca26\"], [1.0, \"#f0f921\"]], \"type\": \"surface\"}], \"table\": [{\"cells\": {\"fill\": {\"color\": \"#EBF0F8\"}, \"line\": {\"color\": \"white\"}}, \"header\": {\"fill\": {\"color\": \"#C8D4E3\"}, \"line\": {\"color\": \"white\"}}, \"type\": \"table\"}]}, \"layout\": {\"annotationdefaults\": {\"arrowcolor\": \"#2a3f5f\", \"arrowhead\": 0, \"arrowwidth\": 1}, \"coloraxis\": {\"colorbar\": {\"outlinewidth\": 0, \"ticks\": \"\"}}, \"colorscale\": {\"diverging\": [[0, \"#8e0152\"], [0.1, \"#c51b7d\"], [0.2, \"#de77ae\"], [0.3, \"#f1b6da\"], [0.4, \"#fde0ef\"], [0.5, \"#f7f7f7\"], [0.6, \"#e6f5d0\"], [0.7, \"#b8e186\"], [0.8, \"#7fbc41\"], [0.9, \"#4d9221\"], [1, \"#276419\"]], \"sequential\": [[0.0, \"#0d0887\"], [0.1111111111111111, \"#46039f\"], [0.2222222222222222, \"#7201a8\"], [0.3333333333333333, \"#9c179e\"], [0.4444444444444444, \"#bd3786\"], [0.5555555555555556, \"#d8576b\"], [0.6666666666666666, \"#ed7953\"], [0.7777777777777778, \"#fb9f3a\"], [0.8888888888888888, \"#fdca26\"], [1.0, \"#f0f921\"]], \"sequentialminus\": [[0.0, \"#0d0887\"], [0.1111111111111111, \"#46039f\"], [0.2222222222222222, \"#7201a8\"], [0.3333333333333333, \"#9c179e\"], [0.4444444444444444, \"#bd3786\"], [0.5555555555555556, \"#d8576b\"], [0.6666666666666666, \"#ed7953\"], [0.7777777777777778, \"#fb9f3a\"], [0.8888888888888888, \"#fdca26\"], [1.0, \"#f0f921\"]]}, \"colorway\": [\"#636efa\", \"#EF553B\", \"#00cc96\", \"#ab63fa\", \"#FFA15A\", \"#19d3f3\", \"#FF6692\", \"#B6E880\", \"#FF97FF\", \"#FECB52\"], \"font\": {\"color\": \"#2a3f5f\"}, \"geo\": {\"bgcolor\": \"white\", \"lakecolor\": \"white\", \"landcolor\": \"#E5ECF6\", \"showlakes\": true, \"showland\": true, \"subunitcolor\": \"white\"}, \"hoverlabel\": {\"align\": \"left\"}, \"hovermode\": \"closest\", \"mapbox\": {\"style\": \"light\"}, \"paper_bgcolor\": \"white\", \"plot_bgcolor\": \"#E5ECF6\", \"polar\": {\"angularaxis\": {\"gridcolor\": \"white\", \"linecolor\": \"white\", \"ticks\": \"\"}, \"bgcolor\": \"#E5ECF6\", \"radialaxis\": {\"gridcolor\": \"white\", \"linecolor\": \"white\", \"ticks\": \"\"}}, \"scene\": {\"xaxis\": {\"backgroundcolor\": \"#E5ECF6\", \"gridcolor\": \"white\", \"gridwidth\": 2, \"linecolor\": \"white\", \"showbackground\": true, \"ticks\": \"\", \"zerolinecolor\": \"white\"}, \"yaxis\": {\"backgroundcolor\": \"#E5ECF6\", \"gridcolor\": \"white\", \"gridwidth\": 2, \"linecolor\": \"white\", \"showbackground\": true, \"ticks\": \"\", \"zerolinecolor\": \"white\"}, \"zaxis\": {\"backgroundcolor\": \"#E5ECF6\", \"gridcolor\": \"white\", \"gridwidth\": 2, \"linecolor\": \"white\", \"showbackground\": true, \"ticks\": \"\", \"zerolinecolor\": \"white\"}}, \"shapedefaults\": {\"line\": {\"color\": \"#2a3f5f\"}}, \"ternary\": {\"aaxis\": {\"gridcolor\": \"white\", \"linecolor\": \"white\", \"ticks\": \"\"}, \"baxis\": {\"gridcolor\": \"white\", \"linecolor\": \"white\", \"ticks\": \"\"}, \"bgcolor\": \"#E5ECF6\", \"caxis\": {\"gridcolor\": \"white\", \"linecolor\": \"white\", \"ticks\": \"\"}}, \"title\": {\"x\": 0.05}, \"xaxis\": {\"automargin\": true, \"gridcolor\": \"white\", \"linecolor\": \"white\", \"ticks\": \"\", \"title\": {\"standoff\": 15}, \"zerolinecolor\": \"white\", \"zerolinewidth\": 2}, \"yaxis\": {\"automargin\": true, \"gridcolor\": \"white\", \"linecolor\": \"white\", \"ticks\": \"\", \"title\": {\"standoff\": 15}, \"zerolinecolor\": \"white\", \"zerolinewidth\": 2}}}, \"xaxis\": {\"title\": {\"text\": \"Attribute\"}}, \"yaxis\": {\"title\": {\"text\": \"unit\"}}},\n",
       "                        {\"responsive\": true}\n",
       "                    ).then(function(){\n",
       "                            \n",
       "var gd = document.getElementById('77c75e23-6bc3-46cb-861a-91a269b5a4a2');\n",
       "var x = new MutationObserver(function (mutations, observer) {{\n",
       "        var display = window.getComputedStyle(gd).display;\n",
       "        if (!display || display === 'none') {{\n",
       "            console.log([gd, 'removed!']);\n",
       "            Plotly.purge(gd);\n",
       "            observer.disconnect();\n",
       "        }}\n",
       "}});\n",
       "\n",
       "// Listen for the removal of the full notebook cells\n",
       "var notebookContainer = gd.closest('#notebook-container');\n",
       "if (notebookContainer) {{\n",
       "    x.observe(notebookContainer, {childList: true});\n",
       "}}\n",
       "\n",
       "// Listen for the clearing of the current output cell\n",
       "var outputEl = gd.closest('.output');\n",
       "if (outputEl) {{\n",
       "    x.observe(outputEl, {childList: true});\n",
       "}}\n",
       "\n",
       "                        })\n",
       "                };\n",
       "                });\n",
       "            </script>\n",
       "        </div>"
      ]
     },
     "metadata": {},
     "output_type": "display_data"
    }
   ],
   "source": [
    "import plotly.graph_objects as go\n",
    "lt5fig = go.Figure()\n",
    "for col in df_wine.columns:\n",
    "    if col == \"target\": continue\n",
    "    if df_wine[col].max() <=6 :\n",
    "        lt5fig.add_trace(go.Box(y=df_wine[col],name=col))\n",
    "lt5fig.update_layout(\n",
    "    xaxis_title=\"Attribute\",\n",
    "    yaxis_title=\"unit\"\n",
    "    )\n",
    "gt5fig = go.Figure()\n",
    "for col in df_wine.columns:\n",
    "    if col == \"target\": continue\n",
    "    if df_wine[col].max() >6 and col != \"proline\" and col != \"Mg\":\n",
    "        gt5fig.add_trace(go.Box(y=df_wine[col],name=col))\n",
    "gt5fig.update_layout(\n",
    "    xaxis_title=\"Attribute\",\n",
    "    yaxis_title=\"unit\"\n",
    "    )\n",
    "prolineFig = go.Figure()\n",
    "prolineFig.add_trace(go.Box(y=df_wine[\"proline\"],name=\"proline\"))\n",
    "mgFig = go.Figure()\n",
    "mgFig.add_trace(go.Box(y=df_wine[\"Mg\"],name=\"Mg\"))\n",
    "mgFig.update_layout(\n",
    "    title=\"Wine var distros\",\n",
    "    yaxis_title=\"unit\"\n",
    "    )\n",
    "import plotly.express as px\n",
    "tarFig = px.histogram(df_wine, x=\"target\")\n",
    "tarFig.show()\n",
    "mgFig.show()\n",
    "prolineFig.show()\n",
    "gt5fig.show()\n",
    "lt5fig.show()"
   ]
  },
  {
   "cell_type": "code",
   "execution_count": 43,
   "metadata": {},
   "outputs": [
    {
     "data": {
      "application/vnd.plotly.v1+json": {
       "config": {
        "plotlyServerURL": "https://plot.ly"
       },
       "data": [
        {
         "alignmentgroup": "True",
         "hoverlabel": {
          "namelength": 0
         },
         "hovertemplate": "target=0<br>variable=malic_acid<br>value=%{y}",
         "legendgroup": "0",
         "marker": {
          "color": "#636efa"
         },
         "name": "0",
         "notched": false,
         "offsetgroup": "0",
         "orientation": "v",
         "showlegend": true,
         "type": "box",
         "x0": " ",
         "xaxis": "x",
         "y": [
          1.71,
          1.78,
          2.36,
          1.95,
          2.59,
          1.76,
          1.87,
          2.15,
          1.64,
          1.35,
          2.16,
          1.48,
          1.73,
          1.73,
          1.87,
          1.81,
          1.92,
          1.57,
          1.59,
          3.1,
          1.63,
          3.8,
          1.86,
          1.6,
          1.81,
          2.05,
          1.77,
          1.72,
          1.9,
          1.68,
          1.5,
          1.66,
          1.83,
          1.53,
          1.8,
          1.81,
          1.64,
          1.65,
          1.5,
          3.99,
          1.71,
          3.84,
          1.89,
          3.98,
          1.77,
          4.04,
          3.59,
          1.68,
          2.02,
          1.73,
          1.73,
          1.65,
          1.75,
          1.9,
          1.67,
          1.73,
          1.7,
          1.97,
          1.43
         ],
         "y0": " ",
         "yaxis": "y"
        },
        {
         "alignmentgroup": "True",
         "hoverlabel": {
          "namelength": 0
         },
         "hovertemplate": "target=0<br>variable=ash<br>value=%{y}",
         "legendgroup": "0",
         "marker": {
          "color": "#636efa"
         },
         "name": "0",
         "notched": false,
         "offsetgroup": "0",
         "orientation": "v",
         "showlegend": false,
         "type": "box",
         "x0": " ",
         "xaxis": "x2",
         "y": [
          2.43,
          2.14,
          2.67,
          2.5,
          2.87,
          2.45,
          2.45,
          2.61,
          2.17,
          2.27,
          2.3,
          2.32,
          2.41,
          2.39,
          2.38,
          2.7,
          2.72,
          2.62,
          2.48,
          2.56,
          2.28,
          2.65,
          2.36,
          2.52,
          2.61,
          3.22,
          2.62,
          2.14,
          2.8,
          2.21,
          2.7,
          2.36,
          2.36,
          2.7,
          2.65,
          2.41,
          2.84,
          2.55,
          2.1,
          2.51,
          2.31,
          2.12,
          2.59,
          2.29,
          2.1,
          2.44,
          2.28,
          2.12,
          2.4,
          2.27,
          2.04,
          2.6,
          2.42,
          2.68,
          2.25,
          2.46,
          2.3,
          2.68,
          2.5
         ],
         "y0": " ",
         "yaxis": "y2"
        },
        {
         "alignmentgroup": "True",
         "hoverlabel": {
          "namelength": 0
         },
         "hovertemplate": "target=0<br>variable=tot_phenols<br>value=%{y}",
         "legendgroup": "0",
         "marker": {
          "color": "#636efa"
         },
         "name": "0",
         "notched": false,
         "offsetgroup": "0",
         "orientation": "v",
         "showlegend": false,
         "type": "box",
         "x0": " ",
         "xaxis": "x3",
         "y": [
          2.8,
          2.65,
          2.8,
          3.85,
          2.8,
          3.27,
          2.5,
          2.6,
          2.8,
          2.98,
          2.95,
          2.2,
          2.6,
          3.1,
          3.3,
          2.85,
          2.8,
          2.95,
          3.3,
          2.7,
          3,
          2.41,
          2.61,
          2.48,
          2.53,
          2.63,
          2.85,
          2.4,
          2.95,
          2.65,
          3,
          2.86,
          2.42,
          2.95,
          2.35,
          2.7,
          2.6,
          2.45,
          2.4,
          3,
          3.15,
          2.45,
          3.25,
          2.64,
          3,
          2.85,
          3.25,
          3.1,
          2.75,
          2.88,
          2.72,
          2.45,
          3.88,
          3,
          2.6,
          2.96,
          3.2,
          3,
          3.4
         ],
         "y0": " ",
         "yaxis": "y3"
        },
        {
         "alignmentgroup": "True",
         "hoverlabel": {
          "namelength": 0
         },
         "hovertemplate": "target=0<br>variable=flavanoids<br>value=%{y}",
         "legendgroup": "0",
         "marker": {
          "color": "#636efa"
         },
         "name": "0",
         "notched": false,
         "offsetgroup": "0",
         "orientation": "v",
         "showlegend": false,
         "type": "box",
         "x0": " ",
         "xaxis": "x4",
         "y": [
          3.06,
          2.76,
          3.24,
          3.49,
          2.69,
          3.39,
          2.52,
          2.51,
          2.98,
          3.15,
          3.32,
          2.43,
          2.76,
          3.69,
          3.64,
          2.91,
          3.14,
          3.4,
          3.93,
          3.03,
          3.17,
          2.41,
          2.88,
          2.37,
          2.61,
          2.68,
          2.94,
          2.19,
          2.97,
          2.33,
          3.25,
          3.19,
          2.69,
          2.74,
          2.53,
          2.98,
          2.68,
          2.43,
          2.64,
          3.04,
          3.29,
          2.68,
          3.56,
          2.63,
          3,
          2.65,
          3.17,
          3.39,
          2.92,
          3.54,
          3.27,
          2.99,
          3.74,
          2.79,
          2.9,
          2.78,
          3,
          3.23,
          3.67
         ],
         "y0": " ",
         "yaxis": "y4"
        },
        {
         "alignmentgroup": "True",
         "hoverlabel": {
          "namelength": 0
         },
         "hovertemplate": "target=0<br>variable=non_flav_phenols<br>value=%{y}",
         "legendgroup": "0",
         "marker": {
          "color": "#636efa"
         },
         "name": "0",
         "notched": false,
         "offsetgroup": "0",
         "orientation": "v",
         "showlegend": false,
         "type": "box",
         "x0": " ",
         "xaxis": "x5",
         "y": [
          0.28,
          0.26,
          0.3,
          0.24,
          0.39,
          0.34,
          0.3,
          0.31,
          0.29,
          0.22,
          0.22,
          0.26,
          0.29,
          0.43,
          0.29,
          0.3,
          0.33,
          0.4,
          0.32,
          0.17,
          0.24,
          0.25,
          0.27,
          0.26,
          0.28,
          0.47,
          0.34,
          0.27,
          0.37,
          0.26,
          0.29,
          0.22,
          0.42,
          0.5,
          0.29,
          0.26,
          0.34,
          0.29,
          0.28,
          0.2,
          0.34,
          0.27,
          0.17,
          0.32,
          0.28,
          0.3,
          0.27,
          0.21,
          0.32,
          0.32,
          0.17,
          0.22,
          0.32,
          0.39,
          0.21,
          0.2,
          0.26,
          0.31,
          0.19
         ],
         "y0": " ",
         "yaxis": "y5"
        },
        {
         "alignmentgroup": "True",
         "hoverlabel": {
          "namelength": 0
         },
         "hovertemplate": "target=0<br>variable=proanthocyanins<br>value=%{y}",
         "legendgroup": "0",
         "marker": {
          "color": "#636efa"
         },
         "name": "0",
         "notched": false,
         "offsetgroup": "0",
         "orientation": "v",
         "showlegend": false,
         "type": "box",
         "x0": " ",
         "xaxis": "x6",
         "y": [
          2.29,
          1.28,
          2.81,
          2.18,
          1.82,
          1.97,
          1.98,
          1.25,
          1.98,
          1.85,
          2.38,
          1.57,
          1.81,
          2.81,
          2.96,
          1.46,
          1.97,
          1.72,
          1.86,
          1.66,
          2.1,
          1.98,
          1.69,
          1.46,
          1.66,
          1.92,
          1.45,
          1.35,
          1.76,
          1.98,
          2.38,
          1.95,
          1.97,
          1.35,
          1.54,
          1.86,
          1.36,
          1.44,
          1.37,
          2.08,
          2.34,
          1.48,
          1.7,
          1.66,
          2.03,
          1.25,
          2.19,
          2.14,
          2.38,
          2.08,
          2.91,
          2.29,
          1.87,
          1.68,
          1.62,
          2.45,
          2.03,
          1.66,
          2.04
         ],
         "y0": " ",
         "yaxis": "y6"
        },
        {
         "alignmentgroup": "True",
         "hoverlabel": {
          "namelength": 0
         },
         "hovertemplate": "target=0<br>variable=hue<br>value=%{y}",
         "legendgroup": "0",
         "marker": {
          "color": "#636efa"
         },
         "name": "0",
         "notched": false,
         "offsetgroup": "0",
         "orientation": "v",
         "showlegend": false,
         "type": "box",
         "x0": " ",
         "xaxis": "x7",
         "y": [
          1.04,
          1.05,
          1.03,
          0.86,
          1.04,
          1.05,
          1.02,
          1.06,
          1.08,
          1.01,
          1.25,
          1.17,
          1.15,
          1.25,
          1.2,
          1.28,
          1.07,
          1.13,
          1.23,
          0.96,
          1.09,
          1.03,
          1.11,
          1.09,
          1.12,
          1.13,
          0.92,
          1.02,
          1.25,
          1.04,
          1.19,
          1.09,
          1.23,
          1.25,
          1.1,
          1.04,
          1.09,
          1.12,
          1.18,
          0.89,
          0.95,
          0.91,
          0.88,
          0.82,
          0.88,
          0.87,
          1.04,
          0.91,
          1.07,
          1.12,
          1.12,
          1.24,
          1.01,
          1.13,
          0.92,
          0.98,
          0.94,
          1.07,
          0.89
         ],
         "y0": " ",
         "yaxis": "y7"
        },
        {
         "alignmentgroup": "True",
         "hoverlabel": {
          "namelength": 0
         },
         "hovertemplate": "target=0<br>variable=OD<br>value=%{y}",
         "legendgroup": "0",
         "marker": {
          "color": "#636efa"
         },
         "name": "0",
         "notched": false,
         "offsetgroup": "0",
         "orientation": "v",
         "showlegend": false,
         "type": "box",
         "x0": " ",
         "xaxis": "x8",
         "y": [
          3.92,
          3.4,
          3.17,
          3.45,
          2.93,
          2.85,
          3.58,
          3.58,
          2.85,
          3.55,
          3.17,
          2.82,
          2.9,
          2.73,
          3,
          2.88,
          2.65,
          2.57,
          2.82,
          3.36,
          3.71,
          3.52,
          4,
          3.63,
          3.82,
          3.2,
          3.22,
          2.77,
          3.4,
          3.59,
          2.71,
          2.88,
          2.87,
          3,
          2.87,
          3.47,
          2.78,
          2.51,
          2.69,
          3.53,
          3.38,
          3,
          3.56,
          3,
          3.35,
          3.33,
          3.44,
          3.33,
          2.75,
          3.1,
          2.91,
          3.37,
          3.26,
          2.93,
          3.2,
          3.03,
          3.31,
          2.84,
          2.87
         ],
         "y0": " ",
         "yaxis": "y8"
        },
        {
         "alignmentgroup": "True",
         "hoverlabel": {
          "namelength": 0
         },
         "hovertemplate": "target=1<br>variable=malic_acid<br>value=%{y}",
         "legendgroup": "1",
         "marker": {
          "color": "#EF553B"
         },
         "name": "1",
         "notched": false,
         "offsetgroup": "1",
         "orientation": "v",
         "showlegend": true,
         "type": "box",
         "x0": " ",
         "xaxis": "x",
         "y": [
          0.94,
          1.1,
          1.36,
          1.25,
          1.13,
          1.45,
          1.21,
          1.01,
          1.17,
          0.94,
          1.19,
          1.61,
          1.51,
          1.66,
          1.67,
          1.09,
          1.88,
          0.9,
          2.89,
          0.99,
          3.87,
          0.92,
          1.81,
          1.13,
          3.86,
          0.89,
          0.98,
          1.61,
          1.67,
          2.06,
          1.33,
          1.83,
          1.51,
          1.53,
          2.83,
          1.99,
          1.52,
          2.12,
          1.41,
          1.07,
          3.17,
          2.08,
          1.34,
          2.45,
          1.72,
          1.73,
          2.55,
          1.73,
          1.75,
          1.29,
          1.35,
          3.74,
          2.43,
          2.68,
          0.74,
          1.39,
          1.51,
          1.47,
          1.61,
          3.43,
          3.43,
          2.4,
          2.05,
          4.43,
          5.8,
          4.31,
          2.16,
          1.53,
          2.13,
          1.63,
          4.3
         ],
         "y0": " ",
         "yaxis": "y"
        },
        {
         "alignmentgroup": "True",
         "hoverlabel": {
          "namelength": 0
         },
         "hovertemplate": "target=1<br>variable=ash<br>value=%{y}",
         "legendgroup": "1",
         "marker": {
          "color": "#EF553B"
         },
         "name": "1",
         "notched": false,
         "offsetgroup": "1",
         "orientation": "v",
         "showlegend": false,
         "type": "box",
         "x0": " ",
         "xaxis": "x2",
         "y": [
          1.36,
          2.28,
          2.02,
          1.92,
          2.16,
          2.53,
          2.56,
          1.7,
          1.92,
          2.36,
          1.75,
          2.21,
          2.67,
          2.24,
          2.6,
          2.3,
          1.92,
          1.71,
          2.23,
          1.95,
          2.4,
          2,
          2.2,
          2.51,
          2.32,
          2.58,
          2.24,
          2.31,
          2.62,
          2.46,
          2.3,
          2.32,
          2.42,
          2.26,
          2.22,
          2.28,
          2.2,
          2.74,
          1.98,
          2.1,
          2.21,
          1.7,
          1.9,
          2.46,
          1.88,
          1.98,
          2.27,
          2.12,
          2.28,
          1.94,
          2.7,
          1.82,
          2.17,
          2.92,
          2.5,
          2.5,
          2.2,
          1.99,
          2.19,
          1.98,
          2,
          2.42,
          3.23,
          2.73,
          2.13,
          2.39,
          2.17,
          2.29,
          2.78,
          2.3,
          2.38
         ],
         "y0": " ",
         "yaxis": "y2"
        },
        {
         "alignmentgroup": "True",
         "hoverlabel": {
          "namelength": 0
         },
         "hovertemplate": "target=1<br>variable=tot_phenols<br>value=%{y}",
         "legendgroup": "1",
         "marker": {
          "color": "#EF553B"
         },
         "name": "1",
         "notched": false,
         "offsetgroup": "1",
         "orientation": "v",
         "showlegend": false,
         "type": "box",
         "x0": " ",
         "xaxis": "x3",
         "y": [
          1.98,
          2.05,
          2.02,
          2.1,
          3.5,
          1.89,
          2.42,
          2.98,
          2.11,
          2.53,
          1.85,
          1.1,
          2.95,
          1.88,
          3.3,
          3.38,
          1.61,
          1.95,
          1.72,
          1.9,
          2.83,
          2.42,
          2.2,
          2,
          1.65,
          2.2,
          2.2,
          1.78,
          1.92,
          1.95,
          2.2,
          1.6,
          1.45,
          1.38,
          2.45,
          3.02,
          2.5,
          1.6,
          2.55,
          3.52,
          2.85,
          2.23,
          1.45,
          2.56,
          2.5,
          2.2,
          1.68,
          1.65,
          1.38,
          2.36,
          2.74,
          3.18,
          2.55,
          1.75,
          2.48,
          2.56,
          2.46,
          1.98,
          2,
          1.63,
          2,
          2.9,
          3.18,
          2.2,
          2.62,
          2.86,
          2.6,
          2.74,
          2.13,
          2.22,
          2.1
         ],
         "y0": " ",
         "yaxis": "y3"
        },
        {
         "alignmentgroup": "True",
         "hoverlabel": {
          "namelength": 0
         },
         "hovertemplate": "target=1<br>variable=flavanoids<br>value=%{y}",
         "legendgroup": "1",
         "marker": {
          "color": "#EF553B"
         },
         "name": "1",
         "notched": false,
         "offsetgroup": "1",
         "orientation": "v",
         "showlegend": false,
         "type": "box",
         "x0": " ",
         "xaxis": "x4",
         "y": [
          0.57,
          1.09,
          1.41,
          1.79,
          3.1,
          1.75,
          2.65,
          3.18,
          2,
          1.3,
          1.28,
          1.02,
          2.86,
          1.84,
          2.89,
          2.14,
          1.57,
          2.03,
          1.32,
          1.85,
          2.55,
          2.26,
          2.53,
          1.58,
          1.59,
          2.21,
          1.94,
          1.69,
          1.61,
          1.69,
          1.59,
          1.5,
          1.25,
          1.46,
          2.25,
          2.26,
          2.27,
          0.99,
          2.5,
          3.75,
          2.99,
          2.17,
          1.36,
          2.11,
          1.64,
          1.92,
          1.84,
          2.03,
          1.76,
          2.04,
          2.92,
          2.58,
          2.27,
          2.03,
          2.01,
          2.29,
          2.17,
          1.6,
          2.09,
          1.25,
          1.64,
          2.79,
          5.08,
          2.13,
          2.65,
          3.03,
          2.65,
          3.15,
          2.24,
          2.45,
          1.75
         ],
         "y0": " ",
         "yaxis": "y4"
        },
        {
         "alignmentgroup": "True",
         "hoverlabel": {
          "namelength": 0
         },
         "hovertemplate": "target=1<br>variable=non_flav_phenols<br>value=%{y}",
         "legendgroup": "1",
         "marker": {
          "color": "#EF553B"
         },
         "name": "1",
         "notched": false,
         "offsetgroup": "1",
         "orientation": "v",
         "showlegend": false,
         "type": "box",
         "x0": " ",
         "xaxis": "x5",
         "y": [
          0.28,
          0.63,
          0.53,
          0.32,
          0.19,
          0.45,
          0.37,
          0.26,
          0.27,
          0.55,
          0.14,
          0.37,
          0.21,
          0.27,
          0.21,
          0.13,
          0.34,
          0.24,
          0.43,
          0.35,
          0.43,
          0.3,
          0.26,
          0.4,
          0.61,
          0.22,
          0.3,
          0.43,
          0.4,
          0.48,
          0.42,
          0.52,
          0.5,
          0.58,
          0.25,
          0.17,
          0.32,
          0.14,
          0.29,
          0.24,
          0.45,
          0.26,
          0.29,
          0.34,
          0.37,
          0.32,
          0.66,
          0.37,
          0.48,
          0.39,
          0.29,
          0.24,
          0.26,
          0.6,
          0.42,
          0.43,
          0.52,
          0.3,
          0.34,
          0.43,
          0.37,
          0.32,
          0.47,
          0.43,
          0.3,
          0.21,
          0.37,
          0.39,
          0.58,
          0.4,
          0.42
         ],
         "y0": " ",
         "yaxis": "y5"
        },
        {
         "alignmentgroup": "True",
         "hoverlabel": {
          "namelength": 0
         },
         "hovertemplate": "target=1<br>variable=proanthocyanins<br>value=%{y}",
         "legendgroup": "1",
         "marker": {
          "color": "#EF553B"
         },
         "name": "1",
         "notched": false,
         "offsetgroup": "1",
         "orientation": "v",
         "showlegend": false,
         "type": "box",
         "x0": " ",
         "xaxis": "x6",
         "y": [
          0.42,
          0.41,
          0.62,
          0.73,
          1.87,
          1.03,
          2.08,
          2.28,
          1.04,
          0.42,
          2.5,
          1.46,
          1.87,
          1.03,
          1.96,
          1.65,
          1.15,
          1.46,
          0.95,
          2.76,
          1.95,
          1.43,
          1.77,
          1.4,
          1.62,
          2.35,
          1.46,
          1.56,
          1.34,
          1.35,
          1.38,
          1.64,
          1.63,
          1.62,
          1.99,
          1.35,
          3.28,
          1.56,
          1.77,
          1.95,
          2.81,
          1.4,
          1.35,
          1.31,
          1.42,
          1.48,
          1.42,
          1.63,
          1.63,
          2.08,
          2.49,
          3.58,
          1.22,
          1.05,
          1.44,
          1.04,
          2.01,
          1.53,
          1.61,
          0.83,
          1.87,
          1.83,
          1.87,
          1.71,
          2.01,
          2.91,
          1.35,
          1.77,
          1.76,
          1.9,
          1.35
         ],
         "y0": " ",
         "yaxis": "y6"
        },
        {
         "alignmentgroup": "True",
         "hoverlabel": {
          "namelength": 0
         },
         "hovertemplate": "target=1<br>variable=hue<br>value=%{y}",
         "legendgroup": "1",
         "marker": {
          "color": "#EF553B"
         },
         "name": "1",
         "notched": false,
         "offsetgroup": "1",
         "orientation": "v",
         "showlegend": false,
         "type": "box",
         "x0": " ",
         "xaxis": "x7",
         "y": [
          1.05,
          1.25,
          0.98,
          1.23,
          1.22,
          1.45,
          1.19,
          1.12,
          1.12,
          1.02,
          1.28,
          0.906,
          1.36,
          0.98,
          1.31,
          0.99,
          1.23,
          1.19,
          0.96,
          1.06,
          1.19,
          1.38,
          1.16,
          1.31,
          0.84,
          0.79,
          1.23,
          1.33,
          1.36,
          1,
          1.07,
          1.08,
          1.05,
          0.96,
          1.15,
          1.16,
          1.16,
          0.95,
          1.23,
          1.04,
          1.42,
          1.27,
          1.04,
          0.8,
          0.94,
          1.04,
          0.86,
          1,
          0.88,
          0.86,
          0.96,
          0.75,
          0.9,
          1.23,
          1.1,
          0.93,
          1.71,
          0.95,
          1.06,
          0.7,
          0.93,
          0.8,
          0.93,
          0.92,
          0.73,
          0.75,
          0.86,
          0.69,
          0.97,
          0.89,
          0.79
         ],
         "y0": " ",
         "yaxis": "y7"
        },
        {
         "alignmentgroup": "True",
         "hoverlabel": {
          "namelength": 0
         },
         "hovertemplate": "target=1<br>variable=OD<br>value=%{y}",
         "legendgroup": "1",
         "marker": {
          "color": "#EF553B"
         },
         "name": "1",
         "notched": false,
         "offsetgroup": "1",
         "orientation": "v",
         "showlegend": false,
         "type": "box",
         "x0": " ",
         "xaxis": "x8",
         "y": [
          1.82,
          1.67,
          1.59,
          2.46,
          2.87,
          2.23,
          2.3,
          3.18,
          3.48,
          1.93,
          3.07,
          1.82,
          3.16,
          2.78,
          3.5,
          3.13,
          2.14,
          2.48,
          2.52,
          2.31,
          3.13,
          3.12,
          3.14,
          2.72,
          2.01,
          3.08,
          3.16,
          2.26,
          3.21,
          2.75,
          3.21,
          2.27,
          2.65,
          2.06,
          3.3,
          2.96,
          2.63,
          2.26,
          2.74,
          2.77,
          2.83,
          2.96,
          2.77,
          3.38,
          2.44,
          3.57,
          3.3,
          3.17,
          2.42,
          3.02,
          3.26,
          2.81,
          2.78,
          2.5,
          2.31,
          3.19,
          2.87,
          3.33,
          2.96,
          2.12,
          3.05,
          3.39,
          3.69,
          3.12,
          3.1,
          3.64,
          3.28,
          2.84,
          2.44,
          2.78,
          2.57
         ],
         "y0": " ",
         "yaxis": "y8"
        },
        {
         "alignmentgroup": "True",
         "hoverlabel": {
          "namelength": 0
         },
         "hovertemplate": "target=2<br>variable=malic_acid<br>value=%{y}",
         "legendgroup": "2",
         "marker": {
          "color": "#00cc96"
         },
         "name": "2",
         "notched": false,
         "offsetgroup": "2",
         "orientation": "v",
         "showlegend": true,
         "type": "box",
         "x0": " ",
         "xaxis": "x",
         "y": [
          1.35,
          2.99,
          2.31,
          3.55,
          1.24,
          2.46,
          4.72,
          5.51,
          3.59,
          2.96,
          2.81,
          2.56,
          3.17,
          4.95,
          3.88,
          3.57,
          5.04,
          4.61,
          3.24,
          3.9,
          3.12,
          2.67,
          1.9,
          3.3,
          1.29,
          5.19,
          4.12,
          3.03,
          1.68,
          1.67,
          3.83,
          3.26,
          3.27,
          3.45,
          2.76,
          4.36,
          3.7,
          3.37,
          2.58,
          4.6,
          3.03,
          2.39,
          2.51,
          5.65,
          3.91,
          4.28,
          2.59,
          4.1
         ],
         "y0": " ",
         "yaxis": "y"
        },
        {
         "alignmentgroup": "True",
         "hoverlabel": {
          "namelength": 0
         },
         "hovertemplate": "target=2<br>variable=ash<br>value=%{y}",
         "legendgroup": "2",
         "marker": {
          "color": "#00cc96"
         },
         "name": "2",
         "notched": false,
         "offsetgroup": "2",
         "orientation": "v",
         "showlegend": false,
         "type": "box",
         "x0": " ",
         "xaxis": "x2",
         "y": [
          2.32,
          2.4,
          2.4,
          2.36,
          2.25,
          2.2,
          2.54,
          2.64,
          2.19,
          2.61,
          2.7,
          2.35,
          2.72,
          2.35,
          2.2,
          2.15,
          2.23,
          2.48,
          2.38,
          2.36,
          2.62,
          2.48,
          2.75,
          2.28,
          2.1,
          2.32,
          2.38,
          2.64,
          2.7,
          2.64,
          2.38,
          2.54,
          2.58,
          2.35,
          2.3,
          2.26,
          2.6,
          2.3,
          2.69,
          2.86,
          2.32,
          2.28,
          2.48,
          2.45,
          2.48,
          2.26,
          2.37,
          2.74
         ],
         "y0": " ",
         "yaxis": "y2"
        },
        {
         "alignmentgroup": "True",
         "hoverlabel": {
          "namelength": 0
         },
         "hovertemplate": "target=2<br>variable=tot_phenols<br>value=%{y}",
         "legendgroup": "2",
         "marker": {
          "color": "#00cc96"
         },
         "name": "2",
         "notched": false,
         "offsetgroup": "2",
         "orientation": "v",
         "showlegend": false,
         "type": "box",
         "x0": " ",
         "xaxis": "x3",
         "y": [
          1.51,
          1.3,
          1.15,
          1.7,
          2,
          1.62,
          1.38,
          1.79,
          1.62,
          2.32,
          1.54,
          1.4,
          1.55,
          2,
          1.38,
          1.5,
          0.98,
          1.7,
          1.93,
          1.41,
          1.4,
          1.48,
          2.2,
          1.8,
          1.48,
          1.74,
          1.8,
          1.9,
          2.8,
          2.6,
          2.3,
          1.83,
          1.65,
          1.39,
          1.35,
          1.28,
          1.7,
          1.48,
          1.55,
          1.98,
          1.25,
          1.39,
          1.68,
          1.68,
          1.8,
          1.59,
          1.65,
          2.05
         ],
         "y0": " ",
         "yaxis": "y3"
        },
        {
         "alignmentgroup": "True",
         "hoverlabel": {
          "namelength": 0
         },
         "hovertemplate": "target=2<br>variable=flavanoids<br>value=%{y}",
         "legendgroup": "2",
         "marker": {
          "color": "#00cc96"
         },
         "name": "2",
         "notched": false,
         "offsetgroup": "2",
         "orientation": "v",
         "showlegend": false,
         "type": "box",
         "x0": " ",
         "xaxis": "x4",
         "y": [
          1.25,
          1.22,
          1.09,
          1.2,
          0.58,
          0.66,
          0.47,
          0.6,
          0.48,
          0.6,
          0.5,
          0.5,
          0.52,
          0.8,
          0.78,
          0.55,
          0.34,
          0.65,
          0.76,
          1.39,
          1.57,
          1.36,
          1.28,
          0.83,
          0.58,
          0.63,
          0.83,
          0.58,
          1.31,
          1.1,
          0.92,
          0.56,
          0.6,
          0.7,
          0.68,
          0.47,
          0.92,
          0.66,
          0.84,
          0.96,
          0.49,
          0.51,
          0.7,
          0.61,
          0.75,
          0.69,
          0.68,
          0.76
         ],
         "y0": " ",
         "yaxis": "y4"
        },
        {
         "alignmentgroup": "True",
         "hoverlabel": {
          "namelength": 0
         },
         "hovertemplate": "target=2<br>variable=non_flav_phenols<br>value=%{y}",
         "legendgroup": "2",
         "marker": {
          "color": "#00cc96"
         },
         "name": "2",
         "notched": false,
         "offsetgroup": "2",
         "orientation": "v",
         "showlegend": false,
         "type": "box",
         "x0": " ",
         "xaxis": "x5",
         "y": [
          0.21,
          0.24,
          0.27,
          0.17,
          0.6,
          0.63,
          0.53,
          0.63,
          0.58,
          0.53,
          0.53,
          0.37,
          0.5,
          0.47,
          0.29,
          0.43,
          0.4,
          0.47,
          0.45,
          0.34,
          0.22,
          0.24,
          0.26,
          0.61,
          0.53,
          0.61,
          0.48,
          0.63,
          0.53,
          0.52,
          0.5,
          0.5,
          0.6,
          0.4,
          0.41,
          0.52,
          0.43,
          0.4,
          0.39,
          0.27,
          0.4,
          0.48,
          0.44,
          0.52,
          0.43,
          0.43,
          0.53,
          0.56
         ],
         "y0": " ",
         "yaxis": "y5"
        },
        {
         "alignmentgroup": "True",
         "hoverlabel": {
          "namelength": 0
         },
         "hovertemplate": "target=2<br>variable=proanthocyanins<br>value=%{y}",
         "legendgroup": "2",
         "marker": {
          "color": "#00cc96"
         },
         "name": "2",
         "notched": false,
         "offsetgroup": "2",
         "orientation": "v",
         "showlegend": false,
         "type": "box",
         "x0": " ",
         "xaxis": "x6",
         "y": [
          0.94,
          0.83,
          0.83,
          0.84,
          1.25,
          0.94,
          0.8,
          1.1,
          0.88,
          0.81,
          0.75,
          0.64,
          0.55,
          1.02,
          1.14,
          1.3,
          0.68,
          0.86,
          1.25,
          1.14,
          1.25,
          1.26,
          1.56,
          1.87,
          1.4,
          1.55,
          1.56,
          1.14,
          2.7,
          2.29,
          1.04,
          0.8,
          0.96,
          0.94,
          1.03,
          1.15,
          1.46,
          0.97,
          1.54,
          1.11,
          0.73,
          0.64,
          1.24,
          1.06,
          1.41,
          1.35,
          1.46,
          1.35
         ],
         "y0": " ",
         "yaxis": "y6"
        },
        {
         "alignmentgroup": "True",
         "hoverlabel": {
          "namelength": 0
         },
         "hovertemplate": "target=2<br>variable=hue<br>value=%{y}",
         "legendgroup": "2",
         "marker": {
          "color": "#00cc96"
         },
         "name": "2",
         "notched": false,
         "offsetgroup": "2",
         "orientation": "v",
         "showlegend": false,
         "type": "box",
         "x0": " ",
         "xaxis": "x7",
         "y": [
          0.76,
          0.74,
          0.66,
          0.78,
          0.75,
          0.73,
          0.75,
          0.82,
          0.81,
          0.89,
          0.77,
          0.7,
          0.89,
          0.91,
          0.65,
          0.6,
          0.58,
          0.54,
          0.55,
          0.57,
          0.59,
          0.48,
          0.61,
          0.56,
          0.58,
          0.6,
          0.57,
          0.67,
          0.57,
          0.57,
          0.56,
          0.96,
          0.87,
          0.68,
          0.7,
          0.78,
          0.85,
          0.72,
          0.74,
          0.67,
          0.66,
          0.57,
          0.62,
          0.64,
          0.7,
          0.59,
          0.6,
          0.61
         ],
         "y0": " ",
         "yaxis": "y7"
        },
        {
         "alignmentgroup": "True",
         "hoverlabel": {
          "namelength": 0
         },
         "hovertemplate": "target=2<br>variable=OD<br>value=%{y}",
         "legendgroup": "2",
         "marker": {
          "color": "#00cc96"
         },
         "name": "2",
         "notched": false,
         "offsetgroup": "2",
         "orientation": "v",
         "showlegend": false,
         "type": "box",
         "x0": " ",
         "xaxis": "x8",
         "y": [
          1.29,
          1.42,
          1.36,
          1.29,
          1.51,
          1.58,
          1.27,
          1.69,
          1.82,
          2.15,
          2.31,
          2.47,
          2.06,
          2.05,
          2,
          1.68,
          1.33,
          1.86,
          1.62,
          1.33,
          1.3,
          1.47,
          1.33,
          1.51,
          1.55,
          1.48,
          1.64,
          1.73,
          1.96,
          1.78,
          1.58,
          1.82,
          2.11,
          1.75,
          1.68,
          1.75,
          1.56,
          1.75,
          1.8,
          1.92,
          1.83,
          1.63,
          1.71,
          1.74,
          1.56,
          1.56,
          1.62,
          1.6
         ],
         "y0": " ",
         "yaxis": "y8"
        }
       ],
       "layout": {
        "annotations": [
         {
          "font": {},
          "showarrow": false,
          "text": "variable=malic_acid",
          "x": 0.05375,
          "xanchor": "center",
          "xref": "paper",
          "y": 1,
          "yanchor": "bottom",
          "yref": "paper"
         },
         {
          "font": {},
          "showarrow": false,
          "text": "variable=ash",
          "x": 0.18125,
          "xanchor": "center",
          "xref": "paper",
          "y": 1,
          "yanchor": "bottom",
          "yref": "paper"
         },
         {
          "font": {},
          "showarrow": false,
          "text": "variable=tot_phenols",
          "x": 0.30874999999999997,
          "xanchor": "center",
          "xref": "paper",
          "y": 1,
          "yanchor": "bottom",
          "yref": "paper"
         },
         {
          "font": {},
          "showarrow": false,
          "text": "variable=flavanoids",
          "x": 0.43625,
          "xanchor": "center",
          "xref": "paper",
          "y": 1,
          "yanchor": "bottom",
          "yref": "paper"
         },
         {
          "font": {},
          "showarrow": false,
          "text": "variable=non_flav_phenols",
          "x": 0.56375,
          "xanchor": "center",
          "xref": "paper",
          "y": 1,
          "yanchor": "bottom",
          "yref": "paper"
         },
         {
          "font": {},
          "showarrow": false,
          "text": "variable=proanthocyanins",
          "x": 0.6912499999999999,
          "xanchor": "center",
          "xref": "paper",
          "y": 1,
          "yanchor": "bottom",
          "yref": "paper"
         },
         {
          "font": {},
          "showarrow": false,
          "text": "variable=hue",
          "x": 0.8187500000000001,
          "xanchor": "center",
          "xref": "paper",
          "y": 1,
          "yanchor": "bottom",
          "yref": "paper"
         },
         {
          "font": {},
          "showarrow": false,
          "text": "variable=OD",
          "x": 0.94625,
          "xanchor": "center",
          "xref": "paper",
          "y": 1,
          "yanchor": "bottom",
          "yref": "paper"
         }
        ],
        "autosize": true,
        "boxmode": "group",
        "legend": {
         "title": {
          "text": "target"
         },
         "tracegroupgap": 0
        },
        "template": {
         "data": {
          "bar": [
           {
            "error_x": {
             "color": "#2a3f5f"
            },
            "error_y": {
             "color": "#2a3f5f"
            },
            "marker": {
             "line": {
              "color": "#E5ECF6",
              "width": 0.5
             }
            },
            "type": "bar"
           }
          ],
          "barpolar": [
           {
            "marker": {
             "line": {
              "color": "#E5ECF6",
              "width": 0.5
             }
            },
            "type": "barpolar"
           }
          ],
          "carpet": [
           {
            "aaxis": {
             "endlinecolor": "#2a3f5f",
             "gridcolor": "white",
             "linecolor": "white",
             "minorgridcolor": "white",
             "startlinecolor": "#2a3f5f"
            },
            "baxis": {
             "endlinecolor": "#2a3f5f",
             "gridcolor": "white",
             "linecolor": "white",
             "minorgridcolor": "white",
             "startlinecolor": "#2a3f5f"
            },
            "type": "carpet"
           }
          ],
          "choropleth": [
           {
            "colorbar": {
             "outlinewidth": 0,
             "ticks": ""
            },
            "type": "choropleth"
           }
          ],
          "contour": [
           {
            "colorbar": {
             "outlinewidth": 0,
             "ticks": ""
            },
            "colorscale": [
             [
              0,
              "#0d0887"
             ],
             [
              0.1111111111111111,
              "#46039f"
             ],
             [
              0.2222222222222222,
              "#7201a8"
             ],
             [
              0.3333333333333333,
              "#9c179e"
             ],
             [
              0.4444444444444444,
              "#bd3786"
             ],
             [
              0.5555555555555556,
              "#d8576b"
             ],
             [
              0.6666666666666666,
              "#ed7953"
             ],
             [
              0.7777777777777778,
              "#fb9f3a"
             ],
             [
              0.8888888888888888,
              "#fdca26"
             ],
             [
              1,
              "#f0f921"
             ]
            ],
            "type": "contour"
           }
          ],
          "contourcarpet": [
           {
            "colorbar": {
             "outlinewidth": 0,
             "ticks": ""
            },
            "type": "contourcarpet"
           }
          ],
          "heatmap": [
           {
            "colorbar": {
             "outlinewidth": 0,
             "ticks": ""
            },
            "colorscale": [
             [
              0,
              "#0d0887"
             ],
             [
              0.1111111111111111,
              "#46039f"
             ],
             [
              0.2222222222222222,
              "#7201a8"
             ],
             [
              0.3333333333333333,
              "#9c179e"
             ],
             [
              0.4444444444444444,
              "#bd3786"
             ],
             [
              0.5555555555555556,
              "#d8576b"
             ],
             [
              0.6666666666666666,
              "#ed7953"
             ],
             [
              0.7777777777777778,
              "#fb9f3a"
             ],
             [
              0.8888888888888888,
              "#fdca26"
             ],
             [
              1,
              "#f0f921"
             ]
            ],
            "type": "heatmap"
           }
          ],
          "heatmapgl": [
           {
            "colorbar": {
             "outlinewidth": 0,
             "ticks": ""
            },
            "colorscale": [
             [
              0,
              "#0d0887"
             ],
             [
              0.1111111111111111,
              "#46039f"
             ],
             [
              0.2222222222222222,
              "#7201a8"
             ],
             [
              0.3333333333333333,
              "#9c179e"
             ],
             [
              0.4444444444444444,
              "#bd3786"
             ],
             [
              0.5555555555555556,
              "#d8576b"
             ],
             [
              0.6666666666666666,
              "#ed7953"
             ],
             [
              0.7777777777777778,
              "#fb9f3a"
             ],
             [
              0.8888888888888888,
              "#fdca26"
             ],
             [
              1,
              "#f0f921"
             ]
            ],
            "type": "heatmapgl"
           }
          ],
          "histogram": [
           {
            "marker": {
             "colorbar": {
              "outlinewidth": 0,
              "ticks": ""
             }
            },
            "type": "histogram"
           }
          ],
          "histogram2d": [
           {
            "colorbar": {
             "outlinewidth": 0,
             "ticks": ""
            },
            "colorscale": [
             [
              0,
              "#0d0887"
             ],
             [
              0.1111111111111111,
              "#46039f"
             ],
             [
              0.2222222222222222,
              "#7201a8"
             ],
             [
              0.3333333333333333,
              "#9c179e"
             ],
             [
              0.4444444444444444,
              "#bd3786"
             ],
             [
              0.5555555555555556,
              "#d8576b"
             ],
             [
              0.6666666666666666,
              "#ed7953"
             ],
             [
              0.7777777777777778,
              "#fb9f3a"
             ],
             [
              0.8888888888888888,
              "#fdca26"
             ],
             [
              1,
              "#f0f921"
             ]
            ],
            "type": "histogram2d"
           }
          ],
          "histogram2dcontour": [
           {
            "colorbar": {
             "outlinewidth": 0,
             "ticks": ""
            },
            "colorscale": [
             [
              0,
              "#0d0887"
             ],
             [
              0.1111111111111111,
              "#46039f"
             ],
             [
              0.2222222222222222,
              "#7201a8"
             ],
             [
              0.3333333333333333,
              "#9c179e"
             ],
             [
              0.4444444444444444,
              "#bd3786"
             ],
             [
              0.5555555555555556,
              "#d8576b"
             ],
             [
              0.6666666666666666,
              "#ed7953"
             ],
             [
              0.7777777777777778,
              "#fb9f3a"
             ],
             [
              0.8888888888888888,
              "#fdca26"
             ],
             [
              1,
              "#f0f921"
             ]
            ],
            "type": "histogram2dcontour"
           }
          ],
          "mesh3d": [
           {
            "colorbar": {
             "outlinewidth": 0,
             "ticks": ""
            },
            "type": "mesh3d"
           }
          ],
          "parcoords": [
           {
            "line": {
             "colorbar": {
              "outlinewidth": 0,
              "ticks": ""
             }
            },
            "type": "parcoords"
           }
          ],
          "pie": [
           {
            "automargin": true,
            "type": "pie"
           }
          ],
          "scatter": [
           {
            "marker": {
             "colorbar": {
              "outlinewidth": 0,
              "ticks": ""
             }
            },
            "type": "scatter"
           }
          ],
          "scatter3d": [
           {
            "line": {
             "colorbar": {
              "outlinewidth": 0,
              "ticks": ""
             }
            },
            "marker": {
             "colorbar": {
              "outlinewidth": 0,
              "ticks": ""
             }
            },
            "type": "scatter3d"
           }
          ],
          "scattercarpet": [
           {
            "marker": {
             "colorbar": {
              "outlinewidth": 0,
              "ticks": ""
             }
            },
            "type": "scattercarpet"
           }
          ],
          "scattergeo": [
           {
            "marker": {
             "colorbar": {
              "outlinewidth": 0,
              "ticks": ""
             }
            },
            "type": "scattergeo"
           }
          ],
          "scattergl": [
           {
            "marker": {
             "colorbar": {
              "outlinewidth": 0,
              "ticks": ""
             }
            },
            "type": "scattergl"
           }
          ],
          "scattermapbox": [
           {
            "marker": {
             "colorbar": {
              "outlinewidth": 0,
              "ticks": ""
             }
            },
            "type": "scattermapbox"
           }
          ],
          "scatterpolar": [
           {
            "marker": {
             "colorbar": {
              "outlinewidth": 0,
              "ticks": ""
             }
            },
            "type": "scatterpolar"
           }
          ],
          "scatterpolargl": [
           {
            "marker": {
             "colorbar": {
              "outlinewidth": 0,
              "ticks": ""
             }
            },
            "type": "scatterpolargl"
           }
          ],
          "scatterternary": [
           {
            "marker": {
             "colorbar": {
              "outlinewidth": 0,
              "ticks": ""
             }
            },
            "type": "scatterternary"
           }
          ],
          "surface": [
           {
            "colorbar": {
             "outlinewidth": 0,
             "ticks": ""
            },
            "colorscale": [
             [
              0,
              "#0d0887"
             ],
             [
              0.1111111111111111,
              "#46039f"
             ],
             [
              0.2222222222222222,
              "#7201a8"
             ],
             [
              0.3333333333333333,
              "#9c179e"
             ],
             [
              0.4444444444444444,
              "#bd3786"
             ],
             [
              0.5555555555555556,
              "#d8576b"
             ],
             [
              0.6666666666666666,
              "#ed7953"
             ],
             [
              0.7777777777777778,
              "#fb9f3a"
             ],
             [
              0.8888888888888888,
              "#fdca26"
             ],
             [
              1,
              "#f0f921"
             ]
            ],
            "type": "surface"
           }
          ],
          "table": [
           {
            "cells": {
             "fill": {
              "color": "#EBF0F8"
             },
             "line": {
              "color": "white"
             }
            },
            "header": {
             "fill": {
              "color": "#C8D4E3"
             },
             "line": {
              "color": "white"
             }
            },
            "type": "table"
           }
          ]
         },
         "layout": {
          "annotationdefaults": {
           "arrowcolor": "#2a3f5f",
           "arrowhead": 0,
           "arrowwidth": 1
          },
          "coloraxis": {
           "colorbar": {
            "outlinewidth": 0,
            "ticks": ""
           }
          },
          "colorscale": {
           "diverging": [
            [
             0,
             "#8e0152"
            ],
            [
             0.1,
             "#c51b7d"
            ],
            [
             0.2,
             "#de77ae"
            ],
            [
             0.3,
             "#f1b6da"
            ],
            [
             0.4,
             "#fde0ef"
            ],
            [
             0.5,
             "#f7f7f7"
            ],
            [
             0.6,
             "#e6f5d0"
            ],
            [
             0.7,
             "#b8e186"
            ],
            [
             0.8,
             "#7fbc41"
            ],
            [
             0.9,
             "#4d9221"
            ],
            [
             1,
             "#276419"
            ]
           ],
           "sequential": [
            [
             0,
             "#0d0887"
            ],
            [
             0.1111111111111111,
             "#46039f"
            ],
            [
             0.2222222222222222,
             "#7201a8"
            ],
            [
             0.3333333333333333,
             "#9c179e"
            ],
            [
             0.4444444444444444,
             "#bd3786"
            ],
            [
             0.5555555555555556,
             "#d8576b"
            ],
            [
             0.6666666666666666,
             "#ed7953"
            ],
            [
             0.7777777777777778,
             "#fb9f3a"
            ],
            [
             0.8888888888888888,
             "#fdca26"
            ],
            [
             1,
             "#f0f921"
            ]
           ],
           "sequentialminus": [
            [
             0,
             "#0d0887"
            ],
            [
             0.1111111111111111,
             "#46039f"
            ],
            [
             0.2222222222222222,
             "#7201a8"
            ],
            [
             0.3333333333333333,
             "#9c179e"
            ],
            [
             0.4444444444444444,
             "#bd3786"
            ],
            [
             0.5555555555555556,
             "#d8576b"
            ],
            [
             0.6666666666666666,
             "#ed7953"
            ],
            [
             0.7777777777777778,
             "#fb9f3a"
            ],
            [
             0.8888888888888888,
             "#fdca26"
            ],
            [
             1,
             "#f0f921"
            ]
           ]
          },
          "colorway": [
           "#636efa",
           "#EF553B",
           "#00cc96",
           "#ab63fa",
           "#FFA15A",
           "#19d3f3",
           "#FF6692",
           "#B6E880",
           "#FF97FF",
           "#FECB52"
          ],
          "font": {
           "color": "#2a3f5f"
          },
          "geo": {
           "bgcolor": "white",
           "lakecolor": "white",
           "landcolor": "#E5ECF6",
           "showlakes": true,
           "showland": true,
           "subunitcolor": "white"
          },
          "hoverlabel": {
           "align": "left"
          },
          "hovermode": "closest",
          "mapbox": {
           "style": "light"
          },
          "paper_bgcolor": "white",
          "plot_bgcolor": "#E5ECF6",
          "polar": {
           "angularaxis": {
            "gridcolor": "white",
            "linecolor": "white",
            "ticks": ""
           },
           "bgcolor": "#E5ECF6",
           "radialaxis": {
            "gridcolor": "white",
            "linecolor": "white",
            "ticks": ""
           }
          },
          "scene": {
           "xaxis": {
            "backgroundcolor": "#E5ECF6",
            "gridcolor": "white",
            "gridwidth": 2,
            "linecolor": "white",
            "showbackground": true,
            "ticks": "",
            "zerolinecolor": "white"
           },
           "yaxis": {
            "backgroundcolor": "#E5ECF6",
            "gridcolor": "white",
            "gridwidth": 2,
            "linecolor": "white",
            "showbackground": true,
            "ticks": "",
            "zerolinecolor": "white"
           },
           "zaxis": {
            "backgroundcolor": "#E5ECF6",
            "gridcolor": "white",
            "gridwidth": 2,
            "linecolor": "white",
            "showbackground": true,
            "ticks": "",
            "zerolinecolor": "white"
           }
          },
          "shapedefaults": {
           "line": {
            "color": "#2a3f5f"
           }
          },
          "ternary": {
           "aaxis": {
            "gridcolor": "white",
            "linecolor": "white",
            "ticks": ""
           },
           "baxis": {
            "gridcolor": "white",
            "linecolor": "white",
            "ticks": ""
           },
           "bgcolor": "#E5ECF6",
           "caxis": {
            "gridcolor": "white",
            "linecolor": "white",
            "ticks": ""
           }
          },
          "title": {
           "x": 0.05
          },
          "xaxis": {
           "automargin": true,
           "gridcolor": "white",
           "linecolor": "white",
           "ticks": "",
           "title": {
            "standoff": 15
           },
           "zerolinecolor": "white",
           "zerolinewidth": 2
          },
          "yaxis": {
           "automargin": true,
           "gridcolor": "white",
           "linecolor": "white",
           "ticks": "",
           "title": {
            "standoff": 15
           },
           "zerolinecolor": "white",
           "zerolinewidth": 2
          }
         }
        },
        "title": {
         "text": "Wine"
        },
        "xaxis": {
         "anchor": "y",
         "autorange": true,
         "domain": [
          0,
          0.1075
         ],
         "range": [
          -0.5243264611080704,
          0.5243264611080704
         ],
         "type": "category"
        },
        "xaxis2": {
         "anchor": "y2",
         "autorange": true,
         "domain": [
          0.1275,
          0.235
         ],
         "matches": "x",
         "range": [
          -0.5243264611080704,
          0.5243264611080704
         ],
         "type": "category"
        },
        "xaxis3": {
         "anchor": "y3",
         "autorange": true,
         "domain": [
          0.255,
          0.3625
         ],
         "matches": "x",
         "range": [
          -0.5243264611080704,
          0.5243264611080704
         ],
         "type": "category"
        },
        "xaxis4": {
         "anchor": "y4",
         "autorange": true,
         "domain": [
          0.3825,
          0.49
         ],
         "matches": "x",
         "range": [
          -0.5243264611080704,
          0.5243264611080704
         ],
         "type": "category"
        },
        "xaxis5": {
         "anchor": "y5",
         "autorange": true,
         "domain": [
          0.51,
          0.6175
         ],
         "matches": "x",
         "range": [
          -0.5243264611080704,
          0.5243264611080704
         ],
         "type": "category"
        },
        "xaxis6": {
         "anchor": "y6",
         "autorange": true,
         "domain": [
          0.6375,
          0.745
         ],
         "matches": "x",
         "range": [
          -0.5243264611080704,
          0.5243264611080704
         ],
         "type": "category"
        },
        "xaxis7": {
         "anchor": "y7",
         "autorange": true,
         "domain": [
          0.765,
          0.8725
         ],
         "matches": "x",
         "range": [
          -0.5243264611080704,
          0.5243264611080704
         ],
         "type": "category"
        },
        "xaxis8": {
         "anchor": "y8",
         "autorange": true,
         "domain": [
          0.8925000000000001,
          1
         ],
         "matches": "x",
         "range": [
          -0.5243264611080704,
          0.5243264611080704
         ],
         "type": "category"
        },
        "yaxis": {
         "anchor": "x",
         "autorange": true,
         "domain": [
          0,
          1
         ],
         "range": [
          0.07666666666666666,
          6.081111111111111
         ],
         "title": {
          "text": "value"
         },
         "type": "linear"
        },
        "yaxis2": {
         "anchor": "x2",
         "autorange": true,
         "domain": [
          0,
          1
         ],
         "matches": "y",
         "range": [
          0.07666666666666666,
          6.081111111111111
         ],
         "showticklabels": false,
         "type": "linear"
        },
        "yaxis3": {
         "anchor": "x3",
         "autorange": true,
         "domain": [
          0,
          1
         ],
         "matches": "y",
         "range": [
          0.07666666666666666,
          6.081111111111111
         ],
         "showticklabels": false,
         "type": "linear"
        },
        "yaxis4": {
         "anchor": "x4",
         "autorange": true,
         "domain": [
          0,
          1
         ],
         "matches": "y",
         "range": [
          0.07666666666666666,
          6.081111111111111
         ],
         "showticklabels": false,
         "type": "linear"
        },
        "yaxis5": {
         "anchor": "x5",
         "autorange": true,
         "domain": [
          0,
          1
         ],
         "matches": "y",
         "range": [
          0.07666666666666666,
          6.081111111111111
         ],
         "showticklabels": false,
         "type": "linear"
        },
        "yaxis6": {
         "anchor": "x6",
         "autorange": true,
         "domain": [
          0,
          1
         ],
         "matches": "y",
         "range": [
          0.07666666666666666,
          6.081111111111111
         ],
         "showticklabels": false,
         "type": "linear"
        },
        "yaxis7": {
         "anchor": "x7",
         "autorange": true,
         "domain": [
          0,
          1
         ],
         "matches": "y",
         "range": [
          0.07666666666666666,
          6.081111111111111
         ],
         "showticklabels": false,
         "type": "linear"
        },
        "yaxis8": {
         "anchor": "x8",
         "autorange": true,
         "domain": [
          0,
          1
         ],
         "matches": "y",
         "range": [
          0.07666666666666666,
          6.081111111111111
         ],
         "showticklabels": false,
         "type": "linear"
        }
       }
      },
      "image/png": "[encoded data removed]",
      "text/html": [
       "<div>\n",
       "        \n",
       "        \n",
       "            <div id=\"c366192f-e4f6-4928-b790-c3e6b18b7b52\" class=\"plotly-graph-div\" style=\"height:525px; width:100%;\"></div>\n",
       "            <script type=\"text/javascript\">\n",
       "                require([\"plotly\"], function(Plotly) {\n",
       "                    window.PLOTLYENV=window.PLOTLYENV || {};\n",
       "                    \n",
       "                if (document.getElementById(\"c366192f-e4f6-4928-b790-c3e6b18b7b52\")) {\n",
       "                    Plotly.newPlot(\n",
       "                        'c366192f-e4f6-4928-b790-c3e6b18b7b52',\n",
       "                        [{\"alignmentgroup\": \"True\", \"hoverlabel\": {\"namelength\": 0}, \"hovertemplate\": \"target=0<br>variable=malic_acid<br>value=%{y}\", \"legendgroup\": \"0\", \"marker\": {\"color\": \"#636efa\"}, \"name\": \"0\", \"notched\": false, \"offsetgroup\": \"0\", \"orientation\": \"v\", \"showlegend\": true, \"type\": \"box\", \"x0\": \" \", \"xaxis\": \"x\", \"y\": [1.71, 1.78, 2.36, 1.95, 2.59, 1.76, 1.87, 2.15, 1.64, 1.35, 2.16, 1.48, 1.73, 1.73, 1.87, 1.81, 1.92, 1.57, 1.59, 3.1, 1.63, 3.8, 1.86, 1.6, 1.81, 2.05, 1.77, 1.72, 1.9, 1.68, 1.5, 1.66, 1.83, 1.53, 1.8, 1.81, 1.64, 1.65, 1.5, 3.99, 1.71, 3.84, 1.89, 3.98, 1.77, 4.04, 3.59, 1.68, 2.02, 1.73, 1.73, 1.65, 1.75, 1.9, 1.67, 1.73, 1.7, 1.97, 1.43], \"y0\": \" \", \"yaxis\": \"y\"}, {\"alignmentgroup\": \"True\", \"hoverlabel\": {\"namelength\": 0}, \"hovertemplate\": \"target=0<br>variable=ash<br>value=%{y}\", \"legendgroup\": \"0\", \"marker\": {\"color\": \"#636efa\"}, \"name\": \"0\", \"notched\": false, \"offsetgroup\": \"0\", \"orientation\": \"v\", \"showlegend\": false, \"type\": \"box\", \"x0\": \" \", \"xaxis\": \"x2\", \"y\": [2.43, 2.14, 2.67, 2.5, 2.87, 2.45, 2.45, 2.61, 2.17, 2.27, 2.3, 2.32, 2.41, 2.39, 2.38, 2.7, 2.72, 2.62, 2.48, 2.56, 2.28, 2.65, 2.36, 2.52, 2.61, 3.22, 2.62, 2.14, 2.8, 2.21, 2.7, 2.36, 2.36, 2.7, 2.65, 2.41, 2.84, 2.55, 2.1, 2.51, 2.31, 2.12, 2.59, 2.29, 2.1, 2.44, 2.28, 2.12, 2.4, 2.27, 2.04, 2.6, 2.42, 2.68, 2.25, 2.46, 2.3, 2.68, 2.5], \"y0\": \" \", \"yaxis\": \"y2\"}, {\"alignmentgroup\": \"True\", \"hoverlabel\": {\"namelength\": 0}, \"hovertemplate\": \"target=0<br>variable=tot_phenols<br>value=%{y}\", \"legendgroup\": \"0\", \"marker\": {\"color\": \"#636efa\"}, \"name\": \"0\", \"notched\": false, \"offsetgroup\": \"0\", \"orientation\": \"v\", \"showlegend\": false, \"type\": \"box\", \"x0\": \" \", \"xaxis\": \"x3\", \"y\": [2.8, 2.65, 2.8, 3.85, 2.8, 3.27, 2.5, 2.6, 2.8, 2.98, 2.95, 2.2, 2.6, 3.1, 3.3, 2.85, 2.8, 2.95, 3.3, 2.7, 3.0, 2.41, 2.61, 2.48, 2.53, 2.63, 2.85, 2.4, 2.95, 2.65, 3.0, 2.86, 2.42, 2.95, 2.35, 2.7, 2.6, 2.45, 2.4, 3.0, 3.15, 2.45, 3.25, 2.64, 3.0, 2.85, 3.25, 3.1, 2.75, 2.88, 2.72, 2.45, 3.88, 3.0, 2.6, 2.96, 3.2, 3.0, 3.4], \"y0\": \" \", \"yaxis\": \"y3\"}, {\"alignmentgroup\": \"True\", \"hoverlabel\": {\"namelength\": 0}, \"hovertemplate\": \"target=0<br>variable=flavanoids<br>value=%{y}\", \"legendgroup\": \"0\", \"marker\": {\"color\": \"#636efa\"}, \"name\": \"0\", \"notched\": false, \"offsetgroup\": \"0\", \"orientation\": \"v\", \"showlegend\": false, \"type\": \"box\", \"x0\": \" \", \"xaxis\": \"x4\", \"y\": [3.06, 2.76, 3.24, 3.49, 2.69, 3.39, 2.52, 2.51, 2.98, 3.15, 3.32, 2.43, 2.76, 3.69, 3.64, 2.91, 3.14, 3.4, 3.93, 3.03, 3.17, 2.41, 2.88, 2.37, 2.61, 2.68, 2.94, 2.19, 2.97, 2.33, 3.25, 3.19, 2.69, 2.74, 2.53, 2.98, 2.68, 2.43, 2.64, 3.04, 3.29, 2.68, 3.56, 2.63, 3.0, 2.65, 3.17, 3.39, 2.92, 3.54, 3.27, 2.99, 3.74, 2.79, 2.9, 2.78, 3.0, 3.23, 3.67], \"y0\": \" \", \"yaxis\": \"y4\"}, {\"alignmentgroup\": \"True\", \"hoverlabel\": {\"namelength\": 0}, \"hovertemplate\": \"target=0<br>variable=non_flav_phenols<br>value=%{y}\", \"legendgroup\": \"0\", \"marker\": {\"color\": \"#636efa\"}, \"name\": \"0\", \"notched\": false, \"offsetgroup\": \"0\", \"orientation\": \"v\", \"showlegend\": false, \"type\": \"box\", \"x0\": \" \", \"xaxis\": \"x5\", \"y\": [0.28, 0.26, 0.3, 0.24, 0.39, 0.34, 0.3, 0.31, 0.29, 0.22, 0.22, 0.26, 0.29, 0.43, 0.29, 0.3, 0.33, 0.4, 0.32, 0.17, 0.24, 0.25, 0.27, 0.26, 0.28, 0.47, 0.34, 0.27, 0.37, 0.26, 0.29, 0.22, 0.42, 0.5, 0.29, 0.26, 0.34, 0.29, 0.28, 0.2, 0.34, 0.27, 0.17, 0.32, 0.28, 0.3, 0.27, 0.21, 0.32, 0.32, 0.17, 0.22, 0.32, 0.39, 0.21, 0.2, 0.26, 0.31, 0.19], \"y0\": \" \", \"yaxis\": \"y5\"}, {\"alignmentgroup\": \"True\", \"hoverlabel\": {\"namelength\": 0}, \"hovertemplate\": \"target=0<br>variable=proanthocyanins<br>value=%{y}\", \"legendgroup\": \"0\", \"marker\": {\"color\": \"#636efa\"}, \"name\": \"0\", \"notched\": false, \"offsetgroup\": \"0\", \"orientation\": \"v\", \"showlegend\": false, \"type\": \"box\", \"x0\": \" \", \"xaxis\": \"x6\", \"y\": [2.29, 1.28, 2.81, 2.18, 1.82, 1.97, 1.98, 1.25, 1.98, 1.85, 2.38, 1.57, 1.81, 2.81, 2.96, 1.46, 1.97, 1.72, 1.86, 1.66, 2.1, 1.98, 1.69, 1.46, 1.66, 1.92, 1.45, 1.35, 1.76, 1.98, 2.38, 1.95, 1.97, 1.35, 1.54, 1.86, 1.36, 1.44, 1.37, 2.08, 2.34, 1.48, 1.7, 1.66, 2.03, 1.25, 2.19, 2.14, 2.38, 2.08, 2.91, 2.29, 1.87, 1.68, 1.62, 2.45, 2.03, 1.66, 2.04], \"y0\": \" \", \"yaxis\": \"y6\"}, {\"alignmentgroup\": \"True\", \"hoverlabel\": {\"namelength\": 0}, \"hovertemplate\": \"target=0<br>variable=hue<br>value=%{y}\", \"legendgroup\": \"0\", \"marker\": {\"color\": \"#636efa\"}, \"name\": \"0\", \"notched\": false, \"offsetgroup\": \"0\", \"orientation\": \"v\", \"showlegend\": false, \"type\": \"box\", \"x0\": \" \", \"xaxis\": \"x7\", \"y\": [1.04, 1.05, 1.03, 0.86, 1.04, 1.05, 1.02, 1.06, 1.08, 1.01, 1.25, 1.17, 1.15, 1.25, 1.2, 1.28, 1.07, 1.13, 1.23, 0.96, 1.09, 1.03, 1.11, 1.09, 1.12, 1.13, 0.92, 1.02, 1.25, 1.04, 1.19, 1.09, 1.23, 1.25, 1.1, 1.04, 1.09, 1.12, 1.18, 0.89, 0.95, 0.91, 0.88, 0.82, 0.88, 0.87, 1.04, 0.91, 1.07, 1.12, 1.12, 1.24, 1.01, 1.13, 0.92, 0.98, 0.94, 1.07, 0.89], \"y0\": \" \", \"yaxis\": \"y7\"}, {\"alignmentgroup\": \"True\", \"hoverlabel\": {\"namelength\": 0}, \"hovertemplate\": \"target=0<br>variable=OD<br>value=%{y}\", \"legendgroup\": \"0\", \"marker\": {\"color\": \"#636efa\"}, \"name\": \"0\", \"notched\": false, \"offsetgroup\": \"0\", \"orientation\": \"v\", \"showlegend\": false, \"type\": \"box\", \"x0\": \" \", \"xaxis\": \"x8\", \"y\": [3.92, 3.4, 3.17, 3.45, 2.93, 2.85, 3.58, 3.58, 2.85, 3.55, 3.17, 2.82, 2.9, 2.73, 3.0, 2.88, 2.65, 2.57, 2.82, 3.36, 3.71, 3.52, 4.0, 3.63, 3.82, 3.2, 3.22, 2.77, 3.4, 3.59, 2.71, 2.88, 2.87, 3.0, 2.87, 3.47, 2.78, 2.51, 2.69, 3.53, 3.38, 3.0, 3.56, 3.0, 3.35, 3.33, 3.44, 3.33, 2.75, 3.1, 2.91, 3.37, 3.26, 2.93, 3.2, 3.03, 3.31, 2.84, 2.87], \"y0\": \" \", \"yaxis\": \"y8\"}, {\"alignmentgroup\": \"True\", \"hoverlabel\": {\"namelength\": 0}, \"hovertemplate\": \"target=1<br>variable=malic_acid<br>value=%{y}\", \"legendgroup\": \"1\", \"marker\": {\"color\": \"#EF553B\"}, \"name\": \"1\", \"notched\": false, \"offsetgroup\": \"1\", \"orientation\": \"v\", \"showlegend\": true, \"type\": \"box\", \"x0\": \" \", \"xaxis\": \"x\", \"y\": [0.94, 1.1, 1.36, 1.25, 1.13, 1.45, 1.21, 1.01, 1.17, 0.94, 1.19, 1.61, 1.51, 1.66, 1.67, 1.09, 1.88, 0.9, 2.89, 0.99, 3.87, 0.92, 1.81, 1.13, 3.86, 0.89, 0.98, 1.61, 1.67, 2.06, 1.33, 1.83, 1.51, 1.53, 2.83, 1.99, 1.52, 2.12, 1.41, 1.07, 3.17, 2.08, 1.34, 2.45, 1.72, 1.73, 2.55, 1.73, 1.75, 1.29, 1.35, 3.74, 2.43, 2.68, 0.74, 1.39, 1.51, 1.47, 1.61, 3.43, 3.43, 2.4, 2.05, 4.43, 5.8, 4.31, 2.16, 1.53, 2.13, 1.63, 4.3], \"y0\": \" \", \"yaxis\": \"y\"}, {\"alignmentgroup\": \"True\", \"hoverlabel\": {\"namelength\": 0}, \"hovertemplate\": \"target=1<br>variable=ash<br>value=%{y}\", \"legendgroup\": \"1\", \"marker\": {\"color\": \"#EF553B\"}, \"name\": \"1\", \"notched\": false, \"offsetgroup\": \"1\", \"orientation\": \"v\", \"showlegend\": false, \"type\": \"box\", \"x0\": \" \", \"xaxis\": \"x2\", \"y\": [1.36, 2.28, 2.02, 1.92, 2.16, 2.53, 2.56, 1.7, 1.92, 2.36, 1.75, 2.21, 2.67, 2.24, 2.6, 2.3, 1.92, 1.71, 2.23, 1.95, 2.4, 2.0, 2.2, 2.51, 2.32, 2.58, 2.24, 2.31, 2.62, 2.46, 2.3, 2.32, 2.42, 2.26, 2.22, 2.28, 2.2, 2.74, 1.98, 2.1, 2.21, 1.7, 1.9, 2.46, 1.88, 1.98, 2.27, 2.12, 2.28, 1.94, 2.7, 1.82, 2.17, 2.92, 2.5, 2.5, 2.2, 1.99, 2.19, 1.98, 2.0, 2.42, 3.23, 2.73, 2.13, 2.39, 2.17, 2.29, 2.78, 2.3, 2.38], \"y0\": \" \", \"yaxis\": \"y2\"}, {\"alignmentgroup\": \"True\", \"hoverlabel\": {\"namelength\": 0}, \"hovertemplate\": \"target=1<br>variable=tot_phenols<br>value=%{y}\", \"legendgroup\": \"1\", \"marker\": {\"color\": \"#EF553B\"}, \"name\": \"1\", \"notched\": false, \"offsetgroup\": \"1\", \"orientation\": \"v\", \"showlegend\": false, \"type\": \"box\", \"x0\": \" \", \"xaxis\": \"x3\", \"y\": [1.98, 2.05, 2.02, 2.1, 3.5, 1.89, 2.42, 2.98, 2.11, 2.53, 1.85, 1.1, 2.95, 1.88, 3.3, 3.38, 1.61, 1.95, 1.72, 1.9, 2.83, 2.42, 2.2, 2.0, 1.65, 2.2, 2.2, 1.78, 1.92, 1.95, 2.2, 1.6, 1.45, 1.38, 2.45, 3.02, 2.5, 1.6, 2.55, 3.52, 2.85, 2.23, 1.45, 2.56, 2.5, 2.2, 1.68, 1.65, 1.38, 2.36, 2.74, 3.18, 2.55, 1.75, 2.48, 2.56, 2.46, 1.98, 2.0, 1.63, 2.0, 2.9, 3.18, 2.2, 2.62, 2.86, 2.6, 2.74, 2.13, 2.22, 2.1], \"y0\": \" \", \"yaxis\": \"y3\"}, {\"alignmentgroup\": \"True\", \"hoverlabel\": {\"namelength\": 0}, \"hovertemplate\": \"target=1<br>variable=flavanoids<br>value=%{y}\", \"legendgroup\": \"1\", \"marker\": {\"color\": \"#EF553B\"}, \"name\": \"1\", \"notched\": false, \"offsetgroup\": \"1\", \"orientation\": \"v\", \"showlegend\": false, \"type\": \"box\", \"x0\": \" \", \"xaxis\": \"x4\", \"y\": [0.57, 1.09, 1.41, 1.79, 3.1, 1.75, 2.65, 3.18, 2.0, 1.3, 1.28, 1.02, 2.86, 1.84, 2.89, 2.14, 1.57, 2.03, 1.32, 1.85, 2.55, 2.26, 2.53, 1.58, 1.59, 2.21, 1.94, 1.69, 1.61, 1.69, 1.59, 1.5, 1.25, 1.46, 2.25, 2.26, 2.27, 0.99, 2.5, 3.75, 2.99, 2.17, 1.36, 2.11, 1.64, 1.92, 1.84, 2.03, 1.76, 2.04, 2.92, 2.58, 2.27, 2.03, 2.01, 2.29, 2.17, 1.6, 2.09, 1.25, 1.64, 2.79, 5.08, 2.13, 2.65, 3.03, 2.65, 3.15, 2.24, 2.45, 1.75], \"y0\": \" \", \"yaxis\": \"y4\"}, {\"alignmentgroup\": \"True\", \"hoverlabel\": {\"namelength\": 0}, \"hovertemplate\": \"target=1<br>variable=non_flav_phenols<br>value=%{y}\", \"legendgroup\": \"1\", \"marker\": {\"color\": \"#EF553B\"}, \"name\": \"1\", \"notched\": false, \"offsetgroup\": \"1\", \"orientation\": \"v\", \"showlegend\": false, \"type\": \"box\", \"x0\": \" \", \"xaxis\": \"x5\", \"y\": [0.28, 0.63, 0.53, 0.32, 0.19, 0.45, 0.37, 0.26, 0.27, 0.55, 0.14, 0.37, 0.21, 0.27, 0.21, 0.13, 0.34, 0.24, 0.43, 0.35, 0.43, 0.3, 0.26, 0.4, 0.61, 0.22, 0.3, 0.43, 0.4, 0.48, 0.42, 0.52, 0.5, 0.58, 0.25, 0.17, 0.32, 0.14, 0.29, 0.24, 0.45, 0.26, 0.29, 0.34, 0.37, 0.32, 0.66, 0.37, 0.48, 0.39, 0.29, 0.24, 0.26, 0.6, 0.42, 0.43, 0.52, 0.3, 0.34, 0.43, 0.37, 0.32, 0.47, 0.43, 0.3, 0.21, 0.37, 0.39, 0.58, 0.4, 0.42], \"y0\": \" \", \"yaxis\": \"y5\"}, {\"alignmentgroup\": \"True\", \"hoverlabel\": {\"namelength\": 0}, \"hovertemplate\": \"target=1<br>variable=proanthocyanins<br>value=%{y}\", \"legendgroup\": \"1\", \"marker\": {\"color\": \"#EF553B\"}, \"name\": \"1\", \"notched\": false, \"offsetgroup\": \"1\", \"orientation\": \"v\", \"showlegend\": false, \"type\": \"box\", \"x0\": \" \", \"xaxis\": \"x6\", \"y\": [0.42, 0.41, 0.62, 0.73, 1.87, 1.03, 2.08, 2.28, 1.04, 0.42, 2.5, 1.46, 1.87, 1.03, 1.96, 1.65, 1.15, 1.46, 0.95, 2.76, 1.95, 1.43, 1.77, 1.4, 1.62, 2.35, 1.46, 1.56, 1.34, 1.35, 1.38, 1.64, 1.63, 1.62, 1.99, 1.35, 3.28, 1.56, 1.77, 1.95, 2.81, 1.4, 1.35, 1.31, 1.42, 1.48, 1.42, 1.63, 1.63, 2.08, 2.49, 3.58, 1.22, 1.05, 1.44, 1.04, 2.01, 1.53, 1.61, 0.83, 1.87, 1.83, 1.87, 1.71, 2.01, 2.91, 1.35, 1.77, 1.76, 1.9, 1.35], \"y0\": \" \", \"yaxis\": \"y6\"}, {\"alignmentgroup\": \"True\", \"hoverlabel\": {\"namelength\": 0}, \"hovertemplate\": \"target=1<br>variable=hue<br>value=%{y}\", \"legendgroup\": \"1\", \"marker\": {\"color\": \"#EF553B\"}, \"name\": \"1\", \"notched\": false, \"offsetgroup\": \"1\", \"orientation\": \"v\", \"showlegend\": false, \"type\": \"box\", \"x0\": \" \", \"xaxis\": \"x7\", \"y\": [1.05, 1.25, 0.98, 1.23, 1.22, 1.45, 1.19, 1.12, 1.12, 1.02, 1.28, 0.906, 1.36, 0.98, 1.31, 0.99, 1.23, 1.19, 0.96, 1.06, 1.19, 1.38, 1.16, 1.31, 0.84, 0.79, 1.23, 1.33, 1.36, 1.0, 1.07, 1.08, 1.05, 0.96, 1.15, 1.16, 1.16, 0.95, 1.23, 1.04, 1.42, 1.27, 1.04, 0.8, 0.94, 1.04, 0.86, 1.0, 0.88, 0.86, 0.96, 0.75, 0.9, 1.23, 1.1, 0.93, 1.71, 0.95, 1.06, 0.7, 0.93, 0.8, 0.93, 0.92, 0.73, 0.75, 0.86, 0.69, 0.97, 0.89, 0.79], \"y0\": \" \", \"yaxis\": \"y7\"}, {\"alignmentgroup\": \"True\", \"hoverlabel\": {\"namelength\": 0}, \"hovertemplate\": \"target=1<br>variable=OD<br>value=%{y}\", \"legendgroup\": \"1\", \"marker\": {\"color\": \"#EF553B\"}, \"name\": \"1\", \"notched\": false, \"offsetgroup\": \"1\", \"orientation\": \"v\", \"showlegend\": false, \"type\": \"box\", \"x0\": \" \", \"xaxis\": \"x8\", \"y\": [1.82, 1.67, 1.59, 2.46, 2.87, 2.23, 2.3, 3.18, 3.48, 1.93, 3.07, 1.82, 3.16, 2.78, 3.5, 3.13, 2.14, 2.48, 2.52, 2.31, 3.13, 3.12, 3.14, 2.72, 2.01, 3.08, 3.16, 2.26, 3.21, 2.75, 3.21, 2.27, 2.65, 2.06, 3.3, 2.96, 2.63, 2.26, 2.74, 2.77, 2.83, 2.96, 2.77, 3.38, 2.44, 3.57, 3.3, 3.17, 2.42, 3.02, 3.26, 2.81, 2.78, 2.5, 2.31, 3.19, 2.87, 3.33, 2.96, 2.12, 3.05, 3.39, 3.69, 3.12, 3.1, 3.64, 3.28, 2.84, 2.44, 2.78, 2.57], \"y0\": \" \", \"yaxis\": \"y8\"}, {\"alignmentgroup\": \"True\", \"hoverlabel\": {\"namelength\": 0}, \"hovertemplate\": \"target=2<br>variable=malic_acid<br>value=%{y}\", \"legendgroup\": \"2\", \"marker\": {\"color\": \"#00cc96\"}, \"name\": \"2\", \"notched\": false, \"offsetgroup\": \"2\", \"orientation\": \"v\", \"showlegend\": true, \"type\": \"box\", \"x0\": \" \", \"xaxis\": \"x\", \"y\": [1.35, 2.99, 2.31, 3.55, 1.24, 2.46, 4.72, 5.51, 3.59, 2.96, 2.81, 2.56, 3.17, 4.95, 3.88, 3.57, 5.04, 4.61, 3.24, 3.9, 3.12, 2.67, 1.9, 3.3, 1.29, 5.19, 4.12, 3.03, 1.68, 1.67, 3.83, 3.26, 3.27, 3.45, 2.76, 4.36, 3.7, 3.37, 2.58, 4.6, 3.03, 2.39, 2.51, 5.65, 3.91, 4.28, 2.59, 4.1], \"y0\": \" \", \"yaxis\": \"y\"}, {\"alignmentgroup\": \"True\", \"hoverlabel\": {\"namelength\": 0}, \"hovertemplate\": \"target=2<br>variable=ash<br>value=%{y}\", \"legendgroup\": \"2\", \"marker\": {\"color\": \"#00cc96\"}, \"name\": \"2\", \"notched\": false, \"offsetgroup\": \"2\", \"orientation\": \"v\", \"showlegend\": false, \"type\": \"box\", \"x0\": \" \", \"xaxis\": \"x2\", \"y\": [2.32, 2.4, 2.4, 2.36, 2.25, 2.2, 2.54, 2.64, 2.19, 2.61, 2.7, 2.35, 2.72, 2.35, 2.2, 2.15, 2.23, 2.48, 2.38, 2.36, 2.62, 2.48, 2.75, 2.28, 2.1, 2.32, 2.38, 2.64, 2.7, 2.64, 2.38, 2.54, 2.58, 2.35, 2.3, 2.26, 2.6, 2.3, 2.69, 2.86, 2.32, 2.28, 2.48, 2.45, 2.48, 2.26, 2.37, 2.74], \"y0\": \" \", \"yaxis\": \"y2\"}, {\"alignmentgroup\": \"True\", \"hoverlabel\": {\"namelength\": 0}, \"hovertemplate\": \"target=2<br>variable=tot_phenols<br>value=%{y}\", \"legendgroup\": \"2\", \"marker\": {\"color\": \"#00cc96\"}, \"name\": \"2\", \"notched\": false, \"offsetgroup\": \"2\", \"orientation\": \"v\", \"showlegend\": false, \"type\": \"box\", \"x0\": \" \", \"xaxis\": \"x3\", \"y\": [1.51, 1.3, 1.15, 1.7, 2.0, 1.62, 1.38, 1.79, 1.62, 2.32, 1.54, 1.4, 1.55, 2.0, 1.38, 1.5, 0.98, 1.7, 1.93, 1.41, 1.4, 1.48, 2.2, 1.8, 1.48, 1.74, 1.8, 1.9, 2.8, 2.6, 2.3, 1.83, 1.65, 1.39, 1.35, 1.28, 1.7, 1.48, 1.55, 1.98, 1.25, 1.39, 1.68, 1.68, 1.8, 1.59, 1.65, 2.05], \"y0\": \" \", \"yaxis\": \"y3\"}, {\"alignmentgroup\": \"True\", \"hoverlabel\": {\"namelength\": 0}, \"hovertemplate\": \"target=2<br>variable=flavanoids<br>value=%{y}\", \"legendgroup\": \"2\", \"marker\": {\"color\": \"#00cc96\"}, \"name\": \"2\", \"notched\": false, \"offsetgroup\": \"2\", \"orientation\": \"v\", \"showlegend\": false, \"type\": \"box\", \"x0\": \" \", \"xaxis\": \"x4\", \"y\": [1.25, 1.22, 1.09, 1.2, 0.58, 0.66, 0.47, 0.6, 0.48, 0.6, 0.5, 0.5, 0.52, 0.8, 0.78, 0.55, 0.34, 0.65, 0.76, 1.39, 1.57, 1.36, 1.28, 0.83, 0.58, 0.63, 0.83, 0.58, 1.31, 1.1, 0.92, 0.56, 0.6, 0.7, 0.68, 0.47, 0.92, 0.66, 0.84, 0.96, 0.49, 0.51, 0.7, 0.61, 0.75, 0.69, 0.68, 0.76], \"y0\": \" \", \"yaxis\": \"y4\"}, {\"alignmentgroup\": \"True\", \"hoverlabel\": {\"namelength\": 0}, \"hovertemplate\": \"target=2<br>variable=non_flav_phenols<br>value=%{y}\", \"legendgroup\": \"2\", \"marker\": {\"color\": \"#00cc96\"}, \"name\": \"2\", \"notched\": false, \"offsetgroup\": \"2\", \"orientation\": \"v\", \"showlegend\": false, \"type\": \"box\", \"x0\": \" \", \"xaxis\": \"x5\", \"y\": [0.21, 0.24, 0.27, 0.17, 0.6, 0.63, 0.53, 0.63, 0.58, 0.53, 0.53, 0.37, 0.5, 0.47, 0.29, 0.43, 0.4, 0.47, 0.45, 0.34, 0.22, 0.24, 0.26, 0.61, 0.53, 0.61, 0.48, 0.63, 0.53, 0.52, 0.5, 0.5, 0.6, 0.4, 0.41, 0.52, 0.43, 0.4, 0.39, 0.27, 0.4, 0.48, 0.44, 0.52, 0.43, 0.43, 0.53, 0.56], \"y0\": \" \", \"yaxis\": \"y5\"}, {\"alignmentgroup\": \"True\", \"hoverlabel\": {\"namelength\": 0}, \"hovertemplate\": \"target=2<br>variable=proanthocyanins<br>value=%{y}\", \"legendgroup\": \"2\", \"marker\": {\"color\": \"#00cc96\"}, \"name\": \"2\", \"notched\": false, \"offsetgroup\": \"2\", \"orientation\": \"v\", \"showlegend\": false, \"type\": \"box\", \"x0\": \" \", \"xaxis\": \"x6\", \"y\": [0.94, 0.83, 0.83, 0.84, 1.25, 0.94, 0.8, 1.1, 0.88, 0.81, 0.75, 0.64, 0.55, 1.02, 1.14, 1.3, 0.68, 0.86, 1.25, 1.14, 1.25, 1.26, 1.56, 1.87, 1.4, 1.55, 1.56, 1.14, 2.7, 2.29, 1.04, 0.8, 0.96, 0.94, 1.03, 1.15, 1.46, 0.97, 1.54, 1.11, 0.73, 0.64, 1.24, 1.06, 1.41, 1.35, 1.46, 1.35], \"y0\": \" \", \"yaxis\": \"y6\"}, {\"alignmentgroup\": \"True\", \"hoverlabel\": {\"namelength\": 0}, \"hovertemplate\": \"target=2<br>variable=hue<br>value=%{y}\", \"legendgroup\": \"2\", \"marker\": {\"color\": \"#00cc96\"}, \"name\": \"2\", \"notched\": false, \"offsetgroup\": \"2\", \"orientation\": \"v\", \"showlegend\": false, \"type\": \"box\", \"x0\": \" \", \"xaxis\": \"x7\", \"y\": [0.76, 0.74, 0.66, 0.78, 0.75, 0.73, 0.75, 0.82, 0.81, 0.89, 0.77, 0.7, 0.89, 0.91, 0.65, 0.6, 0.58, 0.54, 0.55, 0.57, 0.59, 0.48, 0.61, 0.56, 0.58, 0.6, 0.57, 0.67, 0.57, 0.57, 0.56, 0.96, 0.87, 0.68, 0.7, 0.78, 0.85, 0.72, 0.74, 0.67, 0.66, 0.57, 0.62, 0.64, 0.7, 0.59, 0.6, 0.61], \"y0\": \" \", \"yaxis\": \"y7\"}, {\"alignmentgroup\": \"True\", \"hoverlabel\": {\"namelength\": 0}, \"hovertemplate\": \"target=2<br>variable=OD<br>value=%{y}\", \"legendgroup\": \"2\", \"marker\": {\"color\": \"#00cc96\"}, \"name\": \"2\", \"notched\": false, \"offsetgroup\": \"2\", \"orientation\": \"v\", \"showlegend\": false, \"type\": \"box\", \"x0\": \" \", \"xaxis\": \"x8\", \"y\": [1.29, 1.42, 1.36, 1.29, 1.51, 1.58, 1.27, 1.69, 1.82, 2.15, 2.31, 2.47, 2.06, 2.05, 2.0, 1.68, 1.33, 1.86, 1.62, 1.33, 1.3, 1.47, 1.33, 1.51, 1.55, 1.48, 1.64, 1.73, 1.96, 1.78, 1.58, 1.82, 2.11, 1.75, 1.68, 1.75, 1.56, 1.75, 1.8, 1.92, 1.83, 1.63, 1.71, 1.74, 1.56, 1.56, 1.62, 1.6], \"y0\": \" \", \"yaxis\": \"y8\"}],\n",
       "                        {\"annotations\": [{\"font\": {}, \"showarrow\": false, \"text\": \"variable=malic_acid\", \"x\": 0.05375, \"xanchor\": \"center\", \"xref\": \"paper\", \"y\": 1.0, \"yanchor\": \"bottom\", \"yref\": \"paper\"}, {\"font\": {}, \"showarrow\": false, \"text\": \"variable=ash\", \"x\": 0.18125, \"xanchor\": \"center\", \"xref\": \"paper\", \"y\": 1.0, \"yanchor\": \"bottom\", \"yref\": \"paper\"}, {\"font\": {}, \"showarrow\": false, \"text\": \"variable=tot_phenols\", \"x\": 0.30874999999999997, \"xanchor\": \"center\", \"xref\": \"paper\", \"y\": 1.0, \"yanchor\": \"bottom\", \"yref\": \"paper\"}, {\"font\": {}, \"showarrow\": false, \"text\": \"variable=flavanoids\", \"x\": 0.43625, \"xanchor\": \"center\", \"xref\": \"paper\", \"y\": 1.0, \"yanchor\": \"bottom\", \"yref\": \"paper\"}, {\"font\": {}, \"showarrow\": false, \"text\": \"variable=non_flav_phenols\", \"x\": 0.56375, \"xanchor\": \"center\", \"xref\": \"paper\", \"y\": 1.0, \"yanchor\": \"bottom\", \"yref\": \"paper\"}, {\"font\": {}, \"showarrow\": false, \"text\": \"variable=proanthocyanins\", \"x\": 0.6912499999999999, \"xanchor\": \"center\", \"xref\": \"paper\", \"y\": 1.0, \"yanchor\": \"bottom\", \"yref\": \"paper\"}, {\"font\": {}, \"showarrow\": false, \"text\": \"variable=hue\", \"x\": 0.8187500000000001, \"xanchor\": \"center\", \"xref\": \"paper\", \"y\": 1.0, \"yanchor\": \"bottom\", \"yref\": \"paper\"}, {\"font\": {}, \"showarrow\": false, \"text\": \"variable=OD\", \"x\": 0.94625, \"xanchor\": \"center\", \"xref\": \"paper\", \"y\": 1.0, \"yanchor\": \"bottom\", \"yref\": \"paper\"}], \"boxmode\": \"group\", \"legend\": {\"title\": {\"text\": \"target\"}, \"tracegroupgap\": 0}, \"template\": {\"data\": {\"bar\": [{\"error_x\": {\"color\": \"#2a3f5f\"}, \"error_y\": {\"color\": \"#2a3f5f\"}, \"marker\": {\"line\": {\"color\": \"#E5ECF6\", \"width\": 0.5}}, \"type\": \"bar\"}], \"barpolar\": [{\"marker\": {\"line\": {\"color\": \"#E5ECF6\", \"width\": 0.5}}, \"type\": \"barpolar\"}], \"carpet\": [{\"aaxis\": {\"endlinecolor\": \"#2a3f5f\", \"gridcolor\": \"white\", \"linecolor\": \"white\", \"minorgridcolor\": \"white\", \"startlinecolor\": \"#2a3f5f\"}, \"baxis\": {\"endlinecolor\": \"#2a3f5f\", \"gridcolor\": \"white\", \"linecolor\": \"white\", \"minorgridcolor\": \"white\", \"startlinecolor\": \"#2a3f5f\"}, \"type\": \"carpet\"}], \"choropleth\": [{\"colorbar\": {\"outlinewidth\": 0, \"ticks\": \"\"}, \"type\": \"choropleth\"}], \"contour\": [{\"colorbar\": {\"outlinewidth\": 0, \"ticks\": \"\"}, \"colorscale\": [[0.0, \"#0d0887\"], [0.1111111111111111, \"#46039f\"], [0.2222222222222222, \"#7201a8\"], [0.3333333333333333, \"#9c179e\"], [0.4444444444444444, \"#bd3786\"], [0.5555555555555556, \"#d8576b\"], [0.6666666666666666, \"#ed7953\"], [0.7777777777777778, \"#fb9f3a\"], [0.8888888888888888, \"#fdca26\"], [1.0, \"#f0f921\"]], \"type\": \"contour\"}], \"contourcarpet\": [{\"colorbar\": {\"outlinewidth\": 0, \"ticks\": \"\"}, \"type\": \"contourcarpet\"}], \"heatmap\": [{\"colorbar\": {\"outlinewidth\": 0, \"ticks\": \"\"}, \"colorscale\": [[0.0, \"#0d0887\"], [0.1111111111111111, \"#46039f\"], [0.2222222222222222, \"#7201a8\"], [0.3333333333333333, \"#9c179e\"], [0.4444444444444444, \"#bd3786\"], [0.5555555555555556, \"#d8576b\"], [0.6666666666666666, \"#ed7953\"], [0.7777777777777778, \"#fb9f3a\"], [0.8888888888888888, \"#fdca26\"], [1.0, \"#f0f921\"]], \"type\": \"heatmap\"}], \"heatmapgl\": [{\"colorbar\": {\"outlinewidth\": 0, \"ticks\": \"\"}, \"colorscale\": [[0.0, \"#0d0887\"], [0.1111111111111111, \"#46039f\"], [0.2222222222222222, \"#7201a8\"], [0.3333333333333333, \"#9c179e\"], [0.4444444444444444, \"#bd3786\"], [0.5555555555555556, \"#d8576b\"], [0.6666666666666666, \"#ed7953\"], [0.7777777777777778, \"#fb9f3a\"], [0.8888888888888888, \"#fdca26\"], [1.0, \"#f0f921\"]], \"type\": \"heatmapgl\"}], \"histogram\": [{\"marker\": {\"colorbar\": {\"outlinewidth\": 0, \"ticks\": \"\"}}, \"type\": \"histogram\"}], \"histogram2d\": [{\"colorbar\": {\"outlinewidth\": 0, \"ticks\": \"\"}, \"colorscale\": [[0.0, \"#0d0887\"], [0.1111111111111111, \"#46039f\"], [0.2222222222222222, \"#7201a8\"], [0.3333333333333333, \"#9c179e\"], [0.4444444444444444, \"#bd3786\"], [0.5555555555555556, \"#d8576b\"], [0.6666666666666666, \"#ed7953\"], [0.7777777777777778, \"#fb9f3a\"], [0.8888888888888888, \"#fdca26\"], [1.0, \"#f0f921\"]], \"type\": \"histogram2d\"}], \"histogram2dcontour\": [{\"colorbar\": {\"outlinewidth\": 0, \"ticks\": \"\"}, \"colorscale\": [[0.0, \"#0d0887\"], [0.1111111111111111, \"#46039f\"], [0.2222222222222222, \"#7201a8\"], [0.3333333333333333, \"#9c179e\"], [0.4444444444444444, \"#bd3786\"], [0.5555555555555556, \"#d8576b\"], [0.6666666666666666, \"#ed7953\"], [0.7777777777777778, \"#fb9f3a\"], [0.8888888888888888, \"#fdca26\"], [1.0, \"#f0f921\"]], \"type\": \"histogram2dcontour\"}], \"mesh3d\": [{\"colorbar\": {\"outlinewidth\": 0, \"ticks\": \"\"}, \"type\": \"mesh3d\"}], \"parcoords\": [{\"line\": {\"colorbar\": {\"outlinewidth\": 0, \"ticks\": \"\"}}, \"type\": \"parcoords\"}], \"pie\": [{\"automargin\": true, \"type\": \"pie\"}], \"scatter\": [{\"marker\": {\"colorbar\": {\"outlinewidth\": 0, \"ticks\": \"\"}}, \"type\": \"scatter\"}], \"scatter3d\": [{\"line\": {\"colorbar\": {\"outlinewidth\": 0, \"ticks\": \"\"}}, \"marker\": {\"colorbar\": {\"outlinewidth\": 0, \"ticks\": \"\"}}, \"type\": \"scatter3d\"}], \"scattercarpet\": [{\"marker\": {\"colorbar\": {\"outlinewidth\": 0, \"ticks\": \"\"}}, \"type\": \"scattercarpet\"}], \"scattergeo\": [{\"marker\": {\"colorbar\": {\"outlinewidth\": 0, \"ticks\": \"\"}}, \"type\": \"scattergeo\"}], \"scattergl\": [{\"marker\": {\"colorbar\": {\"outlinewidth\": 0, \"ticks\": \"\"}}, \"type\": \"scattergl\"}], \"scattermapbox\": [{\"marker\": {\"colorbar\": {\"outlinewidth\": 0, \"ticks\": \"\"}}, \"type\": \"scattermapbox\"}], \"scatterpolar\": [{\"marker\": {\"colorbar\": {\"outlinewidth\": 0, \"ticks\": \"\"}}, \"type\": \"scatterpolar\"}], \"scatterpolargl\": [{\"marker\": {\"colorbar\": {\"outlinewidth\": 0, \"ticks\": \"\"}}, \"type\": \"scatterpolargl\"}], \"scatterternary\": [{\"marker\": {\"colorbar\": {\"outlinewidth\": 0, \"ticks\": \"\"}}, \"type\": \"scatterternary\"}], \"surface\": [{\"colorbar\": {\"outlinewidth\": 0, \"ticks\": \"\"}, \"colorscale\": [[0.0, \"#0d0887\"], [0.1111111111111111, \"#46039f\"], [0.2222222222222222, \"#7201a8\"], [0.3333333333333333, \"#9c179e\"], [0.4444444444444444, \"#bd3786\"], [0.5555555555555556, \"#d8576b\"], [0.6666666666666666, \"#ed7953\"], [0.7777777777777778, \"#fb9f3a\"], [0.8888888888888888, \"#fdca26\"], [1.0, \"#f0f921\"]], \"type\": \"surface\"}], \"table\": [{\"cells\": {\"fill\": {\"color\": \"#EBF0F8\"}, \"line\": {\"color\": \"white\"}}, \"header\": {\"fill\": {\"color\": \"#C8D4E3\"}, \"line\": {\"color\": \"white\"}}, \"type\": \"table\"}]}, \"layout\": {\"annotationdefaults\": {\"arrowcolor\": \"#2a3f5f\", \"arrowhead\": 0, \"arrowwidth\": 1}, \"coloraxis\": {\"colorbar\": {\"outlinewidth\": 0, \"ticks\": \"\"}}, \"colorscale\": {\"diverging\": [[0, \"#8e0152\"], [0.1, \"#c51b7d\"], [0.2, \"#de77ae\"], [0.3, \"#f1b6da\"], [0.4, \"#fde0ef\"], [0.5, \"#f7f7f7\"], [0.6, \"#e6f5d0\"], [0.7, \"#b8e186\"], [0.8, \"#7fbc41\"], [0.9, \"#4d9221\"], [1, \"#276419\"]], \"sequential\": [[0.0, \"#0d0887\"], [0.1111111111111111, \"#46039f\"], [0.2222222222222222, \"#7201a8\"], [0.3333333333333333, \"#9c179e\"], [0.4444444444444444, \"#bd3786\"], [0.5555555555555556, \"#d8576b\"], [0.6666666666666666, \"#ed7953\"], [0.7777777777777778, \"#fb9f3a\"], [0.8888888888888888, \"#fdca26\"], [1.0, \"#f0f921\"]], \"sequentialminus\": [[0.0, \"#0d0887\"], [0.1111111111111111, \"#46039f\"], [0.2222222222222222, \"#7201a8\"], [0.3333333333333333, \"#9c179e\"], [0.4444444444444444, \"#bd3786\"], [0.5555555555555556, \"#d8576b\"], [0.6666666666666666, \"#ed7953\"], [0.7777777777777778, \"#fb9f3a\"], [0.8888888888888888, \"#fdca26\"], [1.0, \"#f0f921\"]]}, \"colorway\": [\"#636efa\", \"#EF553B\", \"#00cc96\", \"#ab63fa\", \"#FFA15A\", \"#19d3f3\", \"#FF6692\", \"#B6E880\", \"#FF97FF\", \"#FECB52\"], \"font\": {\"color\": \"#2a3f5f\"}, \"geo\": {\"bgcolor\": \"white\", \"lakecolor\": \"white\", \"landcolor\": \"#E5ECF6\", \"showlakes\": true, \"showland\": true, \"subunitcolor\": \"white\"}, \"hoverlabel\": {\"align\": \"left\"}, \"hovermode\": \"closest\", \"mapbox\": {\"style\": \"light\"}, \"paper_bgcolor\": \"white\", \"plot_bgcolor\": \"#E5ECF6\", \"polar\": {\"angularaxis\": {\"gridcolor\": \"white\", \"linecolor\": \"white\", \"ticks\": \"\"}, \"bgcolor\": \"#E5ECF6\", \"radialaxis\": {\"gridcolor\": \"white\", \"linecolor\": \"white\", \"ticks\": \"\"}}, \"scene\": {\"xaxis\": {\"backgroundcolor\": \"#E5ECF6\", \"gridcolor\": \"white\", \"gridwidth\": 2, \"linecolor\": \"white\", \"showbackground\": true, \"ticks\": \"\", \"zerolinecolor\": \"white\"}, \"yaxis\": {\"backgroundcolor\": \"#E5ECF6\", \"gridcolor\": \"white\", \"gridwidth\": 2, \"linecolor\": \"white\", \"showbackground\": true, \"ticks\": \"\", \"zerolinecolor\": \"white\"}, \"zaxis\": {\"backgroundcolor\": \"#E5ECF6\", \"gridcolor\": \"white\", \"gridwidth\": 2, \"linecolor\": \"white\", \"showbackground\": true, \"ticks\": \"\", \"zerolinecolor\": \"white\"}}, \"shapedefaults\": {\"line\": {\"color\": \"#2a3f5f\"}}, \"ternary\": {\"aaxis\": {\"gridcolor\": \"white\", \"linecolor\": \"white\", \"ticks\": \"\"}, \"baxis\": {\"gridcolor\": \"white\", \"linecolor\": \"white\", \"ticks\": \"\"}, \"bgcolor\": \"#E5ECF6\", \"caxis\": {\"gridcolor\": \"white\", \"linecolor\": \"white\", \"ticks\": \"\"}}, \"title\": {\"x\": 0.05}, \"xaxis\": {\"automargin\": true, \"gridcolor\": \"white\", \"linecolor\": \"white\", \"ticks\": \"\", \"title\": {\"standoff\": 15}, \"zerolinecolor\": \"white\", \"zerolinewidth\": 2}, \"yaxis\": {\"automargin\": true, \"gridcolor\": \"white\", \"linecolor\": \"white\", \"ticks\": \"\", \"title\": {\"standoff\": 15}, \"zerolinecolor\": \"white\", \"zerolinewidth\": 2}}}, \"title\": {\"text\": \"Wine\"}, \"xaxis\": {\"anchor\": \"y\", \"domain\": [0.0, 0.1075]}, \"xaxis2\": {\"anchor\": \"y2\", \"domain\": [0.1275, 0.235], \"matches\": \"x\"}, \"xaxis3\": {\"anchor\": \"y3\", \"domain\": [0.255, 0.3625], \"matches\": \"x\"}, \"xaxis4\": {\"anchor\": \"y4\", \"domain\": [0.3825, 0.49], \"matches\": \"x\"}, \"xaxis5\": {\"anchor\": \"y5\", \"domain\": [0.51, 0.6175], \"matches\": \"x\"}, \"xaxis6\": {\"anchor\": \"y6\", \"domain\": [0.6375, 0.745], \"matches\": \"x\"}, \"xaxis7\": {\"anchor\": \"y7\", \"domain\": [0.765, 0.8725], \"matches\": \"x\"}, \"xaxis8\": {\"anchor\": \"y8\", \"domain\": [0.8925000000000001, 1.0], \"matches\": \"x\"}, \"yaxis\": {\"anchor\": \"x\", \"domain\": [0.0, 1.0], \"title\": {\"text\": \"value\"}}, \"yaxis2\": {\"anchor\": \"x2\", \"domain\": [0.0, 1.0], \"matches\": \"y\", \"showticklabels\": false}, \"yaxis3\": {\"anchor\": \"x3\", \"domain\": [0.0, 1.0], \"matches\": \"y\", \"showticklabels\": false}, \"yaxis4\": {\"anchor\": \"x4\", \"domain\": [0.0, 1.0], \"matches\": \"y\", \"showticklabels\": false}, \"yaxis5\": {\"anchor\": \"x5\", \"domain\": [0.0, 1.0], \"matches\": \"y\", \"showticklabels\": false}, \"yaxis6\": {\"anchor\": \"x6\", \"domain\": [0.0, 1.0], \"matches\": \"y\", \"showticklabels\": false}, \"yaxis7\": {\"anchor\": \"x7\", \"domain\": [0.0, 1.0], \"matches\": \"y\", \"showticklabels\": false}, \"yaxis8\": {\"anchor\": \"x8\", \"domain\": [0.0, 1.0], \"matches\": \"y\", \"showticklabels\": false}},\n",
       "                        {\"responsive\": true}\n",
       "                    ).then(function(){\n",
       "                            \n",
       "var gd = document.getElementById('c366192f-e4f6-4928-b790-c3e6b18b7b52');\n",
       "var x = new MutationObserver(function (mutations, observer) {{\n",
       "        var display = window.getComputedStyle(gd).display;\n",
       "        if (!display || display === 'none') {{\n",
       "            console.log([gd, 'removed!']);\n",
       "            Plotly.purge(gd);\n",
       "            observer.disconnect();\n",
       "        }}\n",
       "}});\n",
       "\n",
       "// Listen for the removal of the full notebook cells\n",
       "var notebookContainer = gd.closest('#notebook-container');\n",
       "if (notebookContainer) {{\n",
       "    x.observe(notebookContainer, {childList: true});\n",
       "}}\n",
       "\n",
       "// Listen for the clearing of the current output cell\n",
       "var outputEl = gd.closest('.output');\n",
       "if (outputEl) {{\n",
       "    x.observe(outputEl, {childList: true});\n",
       "}}\n",
       "\n",
       "                        })\n",
       "                };\n",
       "                });\n",
       "            </script>\n",
       "        </div>"
      ]
     },
     "metadata": {},
     "output_type": "display_data"
    }
   ],
   "source": [
    "wineMelt = pd.melt(df_wine.drop([\"proline\",\"Mg\",\"alcalinity\",\"alcohol\",\"color_intensity\"],axis =1),id_vars = \"target\")\n",
    "fig = px.box(wineMelt,y=\"value\",facet_col=\"variable\",color=\"target\",title=\"Wine\")\n",
    "fig.show()"
   ]
  },
  {
   "cell_type": "code",
   "execution_count": 44,
   "metadata": {},
   "outputs": [
    {
     "data": {
      "application/vnd.plotly.v1+json": {
       "config": {
        "plotlyServerURL": "https://plot.ly"
       },
       "data": [
        {
         "alignmentgroup": "True",
         "hoverlabel": {
          "namelength": 0
         },
         "hovertemplate": "target=0<br>variable=malic_acid<br>value=%{y}",
         "legendgroup": "0",
         "marker": {
          "color": "#636efa"
         },
         "name": "0",
         "notched": false,
         "offsetgroup": "0",
         "orientation": "v",
         "showlegend": true,
         "type": "box",
         "x0": " ",
         "xaxis": "x",
         "y": [
          1.71,
          1.78,
          2.36,
          1.95,
          2.59,
          1.76,
          1.87,
          2.15,
          1.64,
          1.35,
          2.16,
          1.48,
          1.73,
          1.73,
          1.87,
          1.81,
          1.92,
          1.57,
          1.59,
          3.1,
          1.63,
          3.8,
          1.86,
          1.6,
          1.81,
          2.05,
          1.77,
          1.72,
          1.9,
          1.68,
          1.5,
          1.66,
          1.83,
          1.53,
          1.8,
          1.81,
          1.64,
          1.65,
          1.5,
          3.99,
          1.71,
          3.84,
          1.89,
          3.98,
          1.77,
          4.04,
          3.59,
          1.68,
          2.02,
          1.73,
          1.73,
          1.65,
          1.75,
          1.9,
          1.67,
          1.73,
          1.7,
          1.97,
          1.43
         ],
         "y0": " ",
         "yaxis": "y"
        },
        {
         "alignmentgroup": "True",
         "hoverlabel": {
          "namelength": 0
         },
         "hovertemplate": "target=0<br>variable=ash<br>value=%{y}",
         "legendgroup": "0",
         "marker": {
          "color": "#636efa"
         },
         "name": "0",
         "notched": false,
         "offsetgroup": "0",
         "orientation": "v",
         "showlegend": false,
         "type": "box",
         "x0": " ",
         "xaxis": "x2",
         "y": [
          2.43,
          2.14,
          2.67,
          2.5,
          2.87,
          2.45,
          2.45,
          2.61,
          2.17,
          2.27,
          2.3,
          2.32,
          2.41,
          2.39,
          2.38,
          2.7,
          2.72,
          2.62,
          2.48,
          2.56,
          2.28,
          2.65,
          2.36,
          2.52,
          2.61,
          3.22,
          2.62,
          2.14,
          2.8,
          2.21,
          2.7,
          2.36,
          2.36,
          2.7,
          2.65,
          2.41,
          2.84,
          2.55,
          2.1,
          2.51,
          2.31,
          2.12,
          2.59,
          2.29,
          2.1,
          2.44,
          2.28,
          2.12,
          2.4,
          2.27,
          2.04,
          2.6,
          2.42,
          2.68,
          2.25,
          2.46,
          2.3,
          2.68,
          2.5
         ],
         "y0": " ",
         "yaxis": "y2"
        },
        {
         "alignmentgroup": "True",
         "hoverlabel": {
          "namelength": 0
         },
         "hovertemplate": "target=0<br>variable=tot_phenols<br>value=%{y}",
         "legendgroup": "0",
         "marker": {
          "color": "#636efa"
         },
         "name": "0",
         "notched": false,
         "offsetgroup": "0",
         "orientation": "v",
         "showlegend": false,
         "type": "box",
         "x0": " ",
         "xaxis": "x3",
         "y": [
          2.8,
          2.65,
          2.8,
          3.85,
          2.8,
          3.27,
          2.5,
          2.6,
          2.8,
          2.98,
          2.95,
          2.2,
          2.6,
          3.1,
          3.3,
          2.85,
          2.8,
          2.95,
          3.3,
          2.7,
          3,
          2.41,
          2.61,
          2.48,
          2.53,
          2.63,
          2.85,
          2.4,
          2.95,
          2.65,
          3,
          2.86,
          2.42,
          2.95,
          2.35,
          2.7,
          2.6,
          2.45,
          2.4,
          3,
          3.15,
          2.45,
          3.25,
          2.64,
          3,
          2.85,
          3.25,
          3.1,
          2.75,
          2.88,
          2.72,
          2.45,
          3.88,
          3,
          2.6,
          2.96,
          3.2,
          3,
          3.4
         ],
         "y0": " ",
         "yaxis": "y3"
        },
        {
         "alignmentgroup": "True",
         "hoverlabel": {
          "namelength": 0
         },
         "hovertemplate": "target=0<br>variable=flavanoids<br>value=%{y}",
         "legendgroup": "0",
         "marker": {
          "color": "#636efa"
         },
         "name": "0",
         "notched": false,
         "offsetgroup": "0",
         "orientation": "v",
         "showlegend": false,
         "type": "box",
         "x0": " ",
         "xaxis": "x4",
         "y": [
          3.06,
          2.76,
          3.24,
          3.49,
          2.69,
          3.39,
          2.52,
          2.51,
          2.98,
          3.15,
          3.32,
          2.43,
          2.76,
          3.69,
          3.64,
          2.91,
          3.14,
          3.4,
          3.93,
          3.03,
          3.17,
          2.41,
          2.88,
          2.37,
          2.61,
          2.68,
          2.94,
          2.19,
          2.97,
          2.33,
          3.25,
          3.19,
          2.69,
          2.74,
          2.53,
          2.98,
          2.68,
          2.43,
          2.64,
          3.04,
          3.29,
          2.68,
          3.56,
          2.63,
          3,
          2.65,
          3.17,
          3.39,
          2.92,
          3.54,
          3.27,
          2.99,
          3.74,
          2.79,
          2.9,
          2.78,
          3,
          3.23,
          3.67
         ],
         "y0": " ",
         "yaxis": "y4"
        },
        {
         "alignmentgroup": "True",
         "hoverlabel": {
          "namelength": 0
         },
         "hovertemplate": "target=0<br>variable=non_flav_phenols<br>value=%{y}",
         "legendgroup": "0",
         "marker": {
          "color": "#636efa"
         },
         "name": "0",
         "notched": false,
         "offsetgroup": "0",
         "orientation": "v",
         "showlegend": false,
         "type": "box",
         "x0": " ",
         "xaxis": "x5",
         "y": [
          0.28,
          0.26,
          0.3,
          0.24,
          0.39,
          0.34,
          0.3,
          0.31,
          0.29,
          0.22,
          0.22,
          0.26,
          0.29,
          0.43,
          0.29,
          0.3,
          0.33,
          0.4,
          0.32,
          0.17,
          0.24,
          0.25,
          0.27,
          0.26,
          0.28,
          0.47,
          0.34,
          0.27,
          0.37,
          0.26,
          0.29,
          0.22,
          0.42,
          0.5,
          0.29,
          0.26,
          0.34,
          0.29,
          0.28,
          0.2,
          0.34,
          0.27,
          0.17,
          0.32,
          0.28,
          0.3,
          0.27,
          0.21,
          0.32,
          0.32,
          0.17,
          0.22,
          0.32,
          0.39,
          0.21,
          0.2,
          0.26,
          0.31,
          0.19
         ],
         "y0": " ",
         "yaxis": "y5"
        },
        {
         "alignmentgroup": "True",
         "hoverlabel": {
          "namelength": 0
         },
         "hovertemplate": "target=0<br>variable=proanthocyanins<br>value=%{y}",
         "legendgroup": "0",
         "marker": {
          "color": "#636efa"
         },
         "name": "0",
         "notched": false,
         "offsetgroup": "0",
         "orientation": "v",
         "showlegend": false,
         "type": "box",
         "x0": " ",
         "xaxis": "x6",
         "y": [
          2.29,
          1.28,
          2.81,
          2.18,
          1.82,
          1.97,
          1.98,
          1.25,
          1.98,
          1.85,
          2.38,
          1.57,
          1.81,
          2.81,
          2.96,
          1.46,
          1.97,
          1.72,
          1.86,
          1.66,
          2.1,
          1.98,
          1.69,
          1.46,
          1.66,
          1.92,
          1.45,
          1.35,
          1.76,
          1.98,
          2.38,
          1.95,
          1.97,
          1.35,
          1.54,
          1.86,
          1.36,
          1.44,
          1.37,
          2.08,
          2.34,
          1.48,
          1.7,
          1.66,
          2.03,
          1.25,
          2.19,
          2.14,
          2.38,
          2.08,
          2.91,
          2.29,
          1.87,
          1.68,
          1.62,
          2.45,
          2.03,
          1.66,
          2.04
         ],
         "y0": " ",
         "yaxis": "y6"
        },
        {
         "alignmentgroup": "True",
         "hoverlabel": {
          "namelength": 0
         },
         "hovertemplate": "target=0<br>variable=hue<br>value=%{y}",
         "legendgroup": "0",
         "marker": {
          "color": "#636efa"
         },
         "name": "0",
         "notched": false,
         "offsetgroup": "0",
         "orientation": "v",
         "showlegend": false,
         "type": "box",
         "x0": " ",
         "xaxis": "x7",
         "y": [
          1.04,
          1.05,
          1.03,
          0.86,
          1.04,
          1.05,
          1.02,
          1.06,
          1.08,
          1.01,
          1.25,
          1.17,
          1.15,
          1.25,
          1.2,
          1.28,
          1.07,
          1.13,
          1.23,
          0.96,
          1.09,
          1.03,
          1.11,
          1.09,
          1.12,
          1.13,
          0.92,
          1.02,
          1.25,
          1.04,
          1.19,
          1.09,
          1.23,
          1.25,
          1.1,
          1.04,
          1.09,
          1.12,
          1.18,
          0.89,
          0.95,
          0.91,
          0.88,
          0.82,
          0.88,
          0.87,
          1.04,
          0.91,
          1.07,
          1.12,
          1.12,
          1.24,
          1.01,
          1.13,
          0.92,
          0.98,
          0.94,
          1.07,
          0.89
         ],
         "y0": " ",
         "yaxis": "y7"
        },
        {
         "alignmentgroup": "True",
         "hoverlabel": {
          "namelength": 0
         },
         "hovertemplate": "target=0<br>variable=OD<br>value=%{y}",
         "legendgroup": "0",
         "marker": {
          "color": "#636efa"
         },
         "name": "0",
         "notched": false,
         "offsetgroup": "0",
         "orientation": "v",
         "showlegend": false,
         "type": "box",
         "x0": " ",
         "xaxis": "x8",
         "y": [
          3.92,
          3.4,
          3.17,
          3.45,
          2.93,
          2.85,
          3.58,
          3.58,
          2.85,
          3.55,
          3.17,
          2.82,
          2.9,
          2.73,
          3,
          2.88,
          2.65,
          2.57,
          2.82,
          3.36,
          3.71,
          3.52,
          4,
          3.63,
          3.82,
          3.2,
          3.22,
          2.77,
          3.4,
          3.59,
          2.71,
          2.88,
          2.87,
          3,
          2.87,
          3.47,
          2.78,
          2.51,
          2.69,
          3.53,
          3.38,
          3,
          3.56,
          3,
          3.35,
          3.33,
          3.44,
          3.33,
          2.75,
          3.1,
          2.91,
          3.37,
          3.26,
          2.93,
          3.2,
          3.03,
          3.31,
          2.84,
          2.87
         ],
         "y0": " ",
         "yaxis": "y8"
        },
        {
         "alignmentgroup": "True",
         "hoverlabel": {
          "namelength": 0
         },
         "hovertemplate": "target=1<br>variable=malic_acid<br>value=%{y}",
         "legendgroup": "1",
         "marker": {
          "color": "#EF553B"
         },
         "name": "1",
         "notched": false,
         "offsetgroup": "1",
         "orientation": "v",
         "showlegend": true,
         "type": "box",
         "x0": " ",
         "xaxis": "x",
         "y": [
          0.94,
          1.1,
          1.36,
          1.25,
          1.13,
          1.45,
          1.21,
          1.01,
          1.17,
          0.94,
          1.19,
          1.61,
          1.51,
          1.66,
          1.67,
          1.09,
          1.88,
          0.9,
          2.89,
          0.99,
          3.87,
          0.92,
          1.81,
          1.13,
          3.86,
          0.89,
          0.98,
          1.61,
          1.67,
          2.06,
          1.33,
          1.83,
          1.51,
          1.53,
          2.83,
          1.99,
          1.52,
          2.12,
          1.41,
          1.07,
          3.17,
          2.08,
          1.34,
          2.45,
          1.72,
          1.73,
          2.55,
          1.73,
          1.75,
          1.29,
          1.35,
          3.74,
          2.43,
          2.68,
          0.74,
          1.39,
          1.51,
          1.47,
          1.61,
          3.43,
          3.43,
          2.4,
          2.05,
          4.43,
          5.8,
          4.31,
          2.16,
          1.53,
          2.13,
          1.63,
          4.3
         ],
         "y0": " ",
         "yaxis": "y"
        },
        {
         "alignmentgroup": "True",
         "hoverlabel": {
          "namelength": 0
         },
         "hovertemplate": "target=1<br>variable=ash<br>value=%{y}",
         "legendgroup": "1",
         "marker": {
          "color": "#EF553B"
         },
         "name": "1",
         "notched": false,
         "offsetgroup": "1",
         "orientation": "v",
         "showlegend": false,
         "type": "box",
         "x0": " ",
         "xaxis": "x2",
         "y": [
          1.36,
          2.28,
          2.02,
          1.92,
          2.16,
          2.53,
          2.56,
          1.7,
          1.92,
          2.36,
          1.75,
          2.21,
          2.67,
          2.24,
          2.6,
          2.3,
          1.92,
          1.71,
          2.23,
          1.95,
          2.4,
          2,
          2.2,
          2.51,
          2.32,
          2.58,
          2.24,
          2.31,
          2.62,
          2.46,
          2.3,
          2.32,
          2.42,
          2.26,
          2.22,
          2.28,
          2.2,
          2.74,
          1.98,
          2.1,
          2.21,
          1.7,
          1.9,
          2.46,
          1.88,
          1.98,
          2.27,
          2.12,
          2.28,
          1.94,
          2.7,
          1.82,
          2.17,
          2.92,
          2.5,
          2.5,
          2.2,
          1.99,
          2.19,
          1.98,
          2,
          2.42,
          3.23,
          2.73,
          2.13,
          2.39,
          2.17,
          2.29,
          2.78,
          2.3,
          2.38
         ],
         "y0": " ",
         "yaxis": "y2"
        },
        {
         "alignmentgroup": "True",
         "hoverlabel": {
          "namelength": 0
         },
         "hovertemplate": "target=1<br>variable=tot_phenols<br>value=%{y}",
         "legendgroup": "1",
         "marker": {
          "color": "#EF553B"
         },
         "name": "1",
         "notched": false,
         "offsetgroup": "1",
         "orientation": "v",
         "showlegend": false,
         "type": "box",
         "x0": " ",
         "xaxis": "x3",
         "y": [
          1.98,
          2.05,
          2.02,
          2.1,
          3.5,
          1.89,
          2.42,
          2.98,
          2.11,
          2.53,
          1.85,
          1.1,
          2.95,
          1.88,
          3.3,
          3.38,
          1.61,
          1.95,
          1.72,
          1.9,
          2.83,
          2.42,
          2.2,
          2,
          1.65,
          2.2,
          2.2,
          1.78,
          1.92,
          1.95,
          2.2,
          1.6,
          1.45,
          1.38,
          2.45,
          3.02,
          2.5,
          1.6,
          2.55,
          3.52,
          2.85,
          2.23,
          1.45,
          2.56,
          2.5,
          2.2,
          1.68,
          1.65,
          1.38,
          2.36,
          2.74,
          3.18,
          2.55,
          1.75,
          2.48,
          2.56,
          2.46,
          1.98,
          2,
          1.63,
          2,
          2.9,
          3.18,
          2.2,
          2.62,
          2.86,
          2.6,
          2.74,
          2.13,
          2.22,
          2.1
         ],
         "y0": " ",
         "yaxis": "y3"
        },
        {
         "alignmentgroup": "True",
         "hoverlabel": {
          "namelength": 0
         },
         "hovertemplate": "target=1<br>variable=flavanoids<br>value=%{y}",
         "legendgroup": "1",
         "marker": {
          "color": "#EF553B"
         },
         "name": "1",
         "notched": false,
         "offsetgroup": "1",
         "orientation": "v",
         "showlegend": false,
         "type": "box",
         "x0": " ",
         "xaxis": "x4",
         "y": [
          0.57,
          1.09,
          1.41,
          1.79,
          3.1,
          1.75,
          2.65,
          3.18,
          2,
          1.3,
          1.28,
          1.02,
          2.86,
          1.84,
          2.89,
          2.14,
          1.57,
          2.03,
          1.32,
          1.85,
          2.55,
          2.26,
          2.53,
          1.58,
          1.59,
          2.21,
          1.94,
          1.69,
          1.61,
          1.69,
          1.59,
          1.5,
          1.25,
          1.46,
          2.25,
          2.26,
          2.27,
          0.99,
          2.5,
          3.75,
          2.99,
          2.17,
          1.36,
          2.11,
          1.64,
          1.92,
          1.84,
          2.03,
          1.76,
          2.04,
          2.92,
          2.58,
          2.27,
          2.03,
          2.01,
          2.29,
          2.17,
          1.6,
          2.09,
          1.25,
          1.64,
          2.79,
          5.08,
          2.13,
          2.65,
          3.03,
          2.65,
          3.15,
          2.24,
          2.45,
          1.75
         ],
         "y0": " ",
         "yaxis": "y4"
        },
        {
         "alignmentgroup": "True",
         "hoverlabel": {
          "namelength": 0
         },
         "hovertemplate": "target=1<br>variable=non_flav_phenols<br>value=%{y}",
         "legendgroup": "1",
         "marker": {
          "color": "#EF553B"
         },
         "name": "1",
         "notched": false,
         "offsetgroup": "1",
         "orientation": "v",
         "showlegend": false,
         "type": "box",
         "x0": " ",
         "xaxis": "x5",
         "y": [
          0.28,
          0.63,
          0.53,
          0.32,
          0.19,
          0.45,
          0.37,
          0.26,
          0.27,
          0.55,
          0.14,
          0.37,
          0.21,
          0.27,
          0.21,
          0.13,
          0.34,
          0.24,
          0.43,
          0.35,
          0.43,
          0.3,
          0.26,
          0.4,
          0.61,
          0.22,
          0.3,
          0.43,
          0.4,
          0.48,
          0.42,
          0.52,
          0.5,
          0.58,
          0.25,
          0.17,
          0.32,
          0.14,
          0.29,
          0.24,
          0.45,
          0.26,
          0.29,
          0.34,
          0.37,
          0.32,
          0.66,
          0.37,
          0.48,
          0.39,
          0.29,
          0.24,
          0.26,
          0.6,
          0.42,
          0.43,
          0.52,
          0.3,
          0.34,
          0.43,
          0.37,
          0.32,
          0.47,
          0.43,
          0.3,
          0.21,
          0.37,
          0.39,
          0.58,
          0.4,
          0.42
         ],
         "y0": " ",
         "yaxis": "y5"
        },
        {
         "alignmentgroup": "True",
         "hoverlabel": {
          "namelength": 0
         },
         "hovertemplate": "target=1<br>variable=proanthocyanins<br>value=%{y}",
         "legendgroup": "1",
         "marker": {
          "color": "#EF553B"
         },
         "name": "1",
         "notched": false,
         "offsetgroup": "1",
         "orientation": "v",
         "showlegend": false,
         "type": "box",
         "x0": " ",
         "xaxis": "x6",
         "y": [
          0.42,
          0.41,
          0.62,
          0.73,
          1.87,
          1.03,
          2.08,
          2.28,
          1.04,
          0.42,
          2.5,
          1.46,
          1.87,
          1.03,
          1.96,
          1.65,
          1.15,
          1.46,
          0.95,
          2.76,
          1.95,
          1.43,
          1.77,
          1.4,
          1.62,
          2.35,
          1.46,
          1.56,
          1.34,
          1.35,
          1.38,
          1.64,
          1.63,
          1.62,
          1.99,
          1.35,
          3.28,
          1.56,
          1.77,
          1.95,
          2.81,
          1.4,
          1.35,
          1.31,
          1.42,
          1.48,
          1.42,
          1.63,
          1.63,
          2.08,
          2.49,
          3.58,
          1.22,
          1.05,
          1.44,
          1.04,
          2.01,
          1.53,
          1.61,
          0.83,
          1.87,
          1.83,
          1.87,
          1.71,
          2.01,
          2.91,
          1.35,
          1.77,
          1.76,
          1.9,
          1.35
         ],
         "y0": " ",
         "yaxis": "y6"
        },
        {
         "alignmentgroup": "True",
         "hoverlabel": {
          "namelength": 0
         },
         "hovertemplate": "target=1<br>variable=hue<br>value=%{y}",
         "legendgroup": "1",
         "marker": {
          "color": "#EF553B"
         },
         "name": "1",
         "notched": false,
         "offsetgroup": "1",
         "orientation": "v",
         "showlegend": false,
         "type": "box",
         "x0": " ",
         "xaxis": "x7",
         "y": [
          1.05,
          1.25,
          0.98,
          1.23,
          1.22,
          1.45,
          1.19,
          1.12,
          1.12,
          1.02,
          1.28,
          0.906,
          1.36,
          0.98,
          1.31,
          0.99,
          1.23,
          1.19,
          0.96,
          1.06,
          1.19,
          1.38,
          1.16,
          1.31,
          0.84,
          0.79,
          1.23,
          1.33,
          1.36,
          1,
          1.07,
          1.08,
          1.05,
          0.96,
          1.15,
          1.16,
          1.16,
          0.95,
          1.23,
          1.04,
          1.42,
          1.27,
          1.04,
          0.8,
          0.94,
          1.04,
          0.86,
          1,
          0.88,
          0.86,
          0.96,
          0.75,
          0.9,
          1.23,
          1.1,
          0.93,
          1.71,
          0.95,
          1.06,
          0.7,
          0.93,
          0.8,
          0.93,
          0.92,
          0.73,
          0.75,
          0.86,
          0.69,
          0.97,
          0.89,
          0.79
         ],
         "y0": " ",
         "yaxis": "y7"
        },
        {
         "alignmentgroup": "True",
         "hoverlabel": {
          "namelength": 0
         },
         "hovertemplate": "target=1<br>variable=OD<br>value=%{y}",
         "legendgroup": "1",
         "marker": {
          "color": "#EF553B"
         },
         "name": "1",
         "notched": false,
         "offsetgroup": "1",
         "orientation": "v",
         "showlegend": false,
         "type": "box",
         "x0": " ",
         "xaxis": "x8",
         "y": [
          1.82,
          1.67,
          1.59,
          2.46,
          2.87,
          2.23,
          2.3,
          3.18,
          3.48,
          1.93,
          3.07,
          1.82,
          3.16,
          2.78,
          3.5,
          3.13,
          2.14,
          2.48,
          2.52,
          2.31,
          3.13,
          3.12,
          3.14,
          2.72,
          2.01,
          3.08,
          3.16,
          2.26,
          3.21,
          2.75,
          3.21,
          2.27,
          2.65,
          2.06,
          3.3,
          2.96,
          2.63,
          2.26,
          2.74,
          2.77,
          2.83,
          2.96,
          2.77,
          3.38,
          2.44,
          3.57,
          3.3,
          3.17,
          2.42,
          3.02,
          3.26,
          2.81,
          2.78,
          2.5,
          2.31,
          3.19,
          2.87,
          3.33,
          2.96,
          2.12,
          3.05,
          3.39,
          3.69,
          3.12,
          3.1,
          3.64,
          3.28,
          2.84,
          2.44,
          2.78,
          2.57
         ],
         "y0": " ",
         "yaxis": "y8"
        },
        {
         "alignmentgroup": "True",
         "hoverlabel": {
          "namelength": 0
         },
         "hovertemplate": "target=2<br>variable=malic_acid<br>value=%{y}",
         "legendgroup": "2",
         "marker": {
          "color": "#00cc96"
         },
         "name": "2",
         "notched": false,
         "offsetgroup": "2",
         "orientation": "v",
         "showlegend": true,
         "type": "box",
         "x0": " ",
         "xaxis": "x",
         "y": [
          1.35,
          2.99,
          2.31,
          3.55,
          1.24,
          2.46,
          4.72,
          5.51,
          3.59,
          2.96,
          2.81,
          2.56,
          3.17,
          4.95,
          3.88,
          3.57,
          5.04,
          4.61,
          3.24,
          3.9,
          3.12,
          2.67,
          1.9,
          3.3,
          1.29,
          5.19,
          4.12,
          3.03,
          1.68,
          1.67,
          3.83,
          3.26,
          3.27,
          3.45,
          2.76,
          4.36,
          3.7,
          3.37,
          2.58,
          4.6,
          3.03,
          2.39,
          2.51,
          5.65,
          3.91,
          4.28,
          2.59,
          4.1
         ],
         "y0": " ",
         "yaxis": "y"
        },
        {
         "alignmentgroup": "True",
         "hoverlabel": {
          "namelength": 0
         },
         "hovertemplate": "target=2<br>variable=ash<br>value=%{y}",
         "legendgroup": "2",
         "marker": {
          "color": "#00cc96"
         },
         "name": "2",
         "notched": false,
         "offsetgroup": "2",
         "orientation": "v",
         "showlegend": false,
         "type": "box",
         "x0": " ",
         "xaxis": "x2",
         "y": [
          2.32,
          2.4,
          2.4,
          2.36,
          2.25,
          2.2,
          2.54,
          2.64,
          2.19,
          2.61,
          2.7,
          2.35,
          2.72,
          2.35,
          2.2,
          2.15,
          2.23,
          2.48,
          2.38,
          2.36,
          2.62,
          2.48,
          2.75,
          2.28,
          2.1,
          2.32,
          2.38,
          2.64,
          2.7,
          2.64,
          2.38,
          2.54,
          2.58,
          2.35,
          2.3,
          2.26,
          2.6,
          2.3,
          2.69,
          2.86,
          2.32,
          2.28,
          2.48,
          2.45,
          2.48,
          2.26,
          2.37,
          2.74
         ],
         "y0": " ",
         "yaxis": "y2"
        },
        {
         "alignmentgroup": "True",
         "hoverlabel": {
          "namelength": 0
         },
         "hovertemplate": "target=2<br>variable=tot_phenols<br>value=%{y}",
         "legendgroup": "2",
         "marker": {
          "color": "#00cc96"
         },
         "name": "2",
         "notched": false,
         "offsetgroup": "2",
         "orientation": "v",
         "showlegend": false,
         "type": "box",
         "x0": " ",
         "xaxis": "x3",
         "y": [
          1.51,
          1.3,
          1.15,
          1.7,
          2,
          1.62,
          1.38,
          1.79,
          1.62,
          2.32,
          1.54,
          1.4,
          1.55,
          2,
          1.38,
          1.5,
          0.98,
          1.7,
          1.93,
          1.41,
          1.4,
          1.48,
          2.2,
          1.8,
          1.48,
          1.74,
          1.8,
          1.9,
          2.8,
          2.6,
          2.3,
          1.83,
          1.65,
          1.39,
          1.35,
          1.28,
          1.7,
          1.48,
          1.55,
          1.98,
          1.25,
          1.39,
          1.68,
          1.68,
          1.8,
          1.59,
          1.65,
          2.05
         ],
         "y0": " ",
         "yaxis": "y3"
        },
        {
         "alignmentgroup": "True",
         "hoverlabel": {
          "namelength": 0
         },
         "hovertemplate": "target=2<br>variable=flavanoids<br>value=%{y}",
         "legendgroup": "2",
         "marker": {
          "color": "#00cc96"
         },
         "name": "2",
         "notched": false,
         "offsetgroup": "2",
         "orientation": "v",
         "showlegend": false,
         "type": "box",
         "x0": " ",
         "xaxis": "x4",
         "y": [
          1.25,
          1.22,
          1.09,
          1.2,
          0.58,
          0.66,
          0.47,
          0.6,
          0.48,
          0.6,
          0.5,
          0.5,
          0.52,
          0.8,
          0.78,
          0.55,
          0.34,
          0.65,
          0.76,
          1.39,
          1.57,
          1.36,
          1.28,
          0.83,
          0.58,
          0.63,
          0.83,
          0.58,
          1.31,
          1.1,
          0.92,
          0.56,
          0.6,
          0.7,
          0.68,
          0.47,
          0.92,
          0.66,
          0.84,
          0.96,
          0.49,
          0.51,
          0.7,
          0.61,
          0.75,
          0.69,
          0.68,
          0.76
         ],
         "y0": " ",
         "yaxis": "y4"
        },
        {
         "alignmentgroup": "True",
         "hoverlabel": {
          "namelength": 0
         },
         "hovertemplate": "target=2<br>variable=non_flav_phenols<br>value=%{y}",
         "legendgroup": "2",
         "marker": {
          "color": "#00cc96"
         },
         "name": "2",
         "notched": false,
         "offsetgroup": "2",
         "orientation": "v",
         "showlegend": false,
         "type": "box",
         "x0": " ",
         "xaxis": "x5",
         "y": [
          0.21,
          0.24,
          0.27,
          0.17,
          0.6,
          0.63,
          0.53,
          0.63,
          0.58,
          0.53,
          0.53,
          0.37,
          0.5,
          0.47,
          0.29,
          0.43,
          0.4,
          0.47,
          0.45,
          0.34,
          0.22,
          0.24,
          0.26,
          0.61,
          0.53,
          0.61,
          0.48,
          0.63,
          0.53,
          0.52,
          0.5,
          0.5,
          0.6,
          0.4,
          0.41,
          0.52,
          0.43,
          0.4,
          0.39,
          0.27,
          0.4,
          0.48,
          0.44,
          0.52,
          0.43,
          0.43,
          0.53,
          0.56
         ],
         "y0": " ",
         "yaxis": "y5"
        },
        {
         "alignmentgroup": "True",
         "hoverlabel": {
          "namelength": 0
         },
         "hovertemplate": "target=2<br>variable=proanthocyanins<br>value=%{y}",
         "legendgroup": "2",
         "marker": {
          "color": "#00cc96"
         },
         "name": "2",
         "notched": false,
         "offsetgroup": "2",
         "orientation": "v",
         "showlegend": false,
         "type": "box",
         "x0": " ",
         "xaxis": "x6",
         "y": [
          0.94,
          0.83,
          0.83,
          0.84,
          1.25,
          0.94,
          0.8,
          1.1,
          0.88,
          0.81,
          0.75,
          0.64,
          0.55,
          1.02,
          1.14,
          1.3,
          0.68,
          0.86,
          1.25,
          1.14,
          1.25,
          1.26,
          1.56,
          1.87,
          1.4,
          1.55,
          1.56,
          1.14,
          2.7,
          2.29,
          1.04,
          0.8,
          0.96,
          0.94,
          1.03,
          1.15,
          1.46,
          0.97,
          1.54,
          1.11,
          0.73,
          0.64,
          1.24,
          1.06,
          1.41,
          1.35,
          1.46,
          1.35
         ],
         "y0": " ",
         "yaxis": "y6"
        },
        {
         "alignmentgroup": "True",
         "hoverlabel": {
          "namelength": 0
         },
         "hovertemplate": "target=2<br>variable=hue<br>value=%{y}",
         "legendgroup": "2",
         "marker": {
          "color": "#00cc96"
         },
         "name": "2",
         "notched": false,
         "offsetgroup": "2",
         "orientation": "v",
         "showlegend": false,
         "type": "box",
         "x0": " ",
         "xaxis": "x7",
         "y": [
          0.76,
          0.74,
          0.66,
          0.78,
          0.75,
          0.73,
          0.75,
          0.82,
          0.81,
          0.89,
          0.77,
          0.7,
          0.89,
          0.91,
          0.65,
          0.6,
          0.58,
          0.54,
          0.55,
          0.57,
          0.59,
          0.48,
          0.61,
          0.56,
          0.58,
          0.6,
          0.57,
          0.67,
          0.57,
          0.57,
          0.56,
          0.96,
          0.87,
          0.68,
          0.7,
          0.78,
          0.85,
          0.72,
          0.74,
          0.67,
          0.66,
          0.57,
          0.62,
          0.64,
          0.7,
          0.59,
          0.6,
          0.61
         ],
         "y0": " ",
         "yaxis": "y7"
        },
        {
         "alignmentgroup": "True",
         "hoverlabel": {
          "namelength": 0
         },
         "hovertemplate": "target=2<br>variable=OD<br>value=%{y}",
         "legendgroup": "2",
         "marker": {
          "color": "#00cc96"
         },
         "name": "2",
         "notched": false,
         "offsetgroup": "2",
         "orientation": "v",
         "showlegend": false,
         "type": "box",
         "x0": " ",
         "xaxis": "x8",
         "y": [
          1.29,
          1.42,
          1.36,
          1.29,
          1.51,
          1.58,
          1.27,
          1.69,
          1.82,
          2.15,
          2.31,
          2.47,
          2.06,
          2.05,
          2,
          1.68,
          1.33,
          1.86,
          1.62,
          1.33,
          1.3,
          1.47,
          1.33,
          1.51,
          1.55,
          1.48,
          1.64,
          1.73,
          1.96,
          1.78,
          1.58,
          1.82,
          2.11,
          1.75,
          1.68,
          1.75,
          1.56,
          1.75,
          1.8,
          1.92,
          1.83,
          1.63,
          1.71,
          1.74,
          1.56,
          1.56,
          1.62,
          1.6
         ],
         "y0": " ",
         "yaxis": "y8"
        }
       ],
       "layout": {
        "annotations": [
         {
          "font": {},
          "showarrow": false,
          "text": "variable=malic_acid",
          "x": 0.05375,
          "xanchor": "center",
          "xref": "paper",
          "y": 1,
          "yanchor": "bottom",
          "yref": "paper"
         },
         {
          "font": {},
          "showarrow": false,
          "text": "variable=ash",
          "x": 0.18125,
          "xanchor": "center",
          "xref": "paper",
          "y": 1,
          "yanchor": "bottom",
          "yref": "paper"
         },
         {
          "font": {},
          "showarrow": false,
          "text": "variable=tot_phenols",
          "x": 0.30874999999999997,
          "xanchor": "center",
          "xref": "paper",
          "y": 1,
          "yanchor": "bottom",
          "yref": "paper"
         },
         {
          "font": {},
          "showarrow": false,
          "text": "variable=flavanoids",
          "x": 0.43625,
          "xanchor": "center",
          "xref": "paper",
          "y": 1,
          "yanchor": "bottom",
          "yref": "paper"
         },
         {
          "font": {},
          "showarrow": false,
          "text": "variable=non_flav_phenols",
          "x": 0.56375,
          "xanchor": "center",
          "xref": "paper",
          "y": 1,
          "yanchor": "bottom",
          "yref": "paper"
         },
         {
          "font": {},
          "showarrow": false,
          "text": "variable=proanthocyanins",
          "x": 0.6912499999999999,
          "xanchor": "center",
          "xref": "paper",
          "y": 1,
          "yanchor": "bottom",
          "yref": "paper"
         },
         {
          "font": {},
          "showarrow": false,
          "text": "variable=hue",
          "x": 0.8187500000000001,
          "xanchor": "center",
          "xref": "paper",
          "y": 1,
          "yanchor": "bottom",
          "yref": "paper"
         },
         {
          "font": {},
          "showarrow": false,
          "text": "variable=OD",
          "x": 0.94625,
          "xanchor": "center",
          "xref": "paper",
          "y": 1,
          "yanchor": "bottom",
          "yref": "paper"
         }
        ],
        "autosize": true,
        "boxmode": "group",
        "legend": {
         "title": {
          "text": "target"
         },
         "tracegroupgap": 0
        },
        "template": {
         "data": {
          "bar": [
           {
            "error_x": {
             "color": "#2a3f5f"
            },
            "error_y": {
             "color": "#2a3f5f"
            },
            "marker": {
             "line": {
              "color": "#E5ECF6",
              "width": 0.5
             }
            },
            "type": "bar"
           }
          ],
          "barpolar": [
           {
            "marker": {
             "line": {
              "color": "#E5ECF6",
              "width": 0.5
             }
            },
            "type": "barpolar"
           }
          ],
          "carpet": [
           {
            "aaxis": {
             "endlinecolor": "#2a3f5f",
             "gridcolor": "white",
             "linecolor": "white",
             "minorgridcolor": "white",
             "startlinecolor": "#2a3f5f"
            },
            "baxis": {
             "endlinecolor": "#2a3f5f",
             "gridcolor": "white",
             "linecolor": "white",
             "minorgridcolor": "white",
             "startlinecolor": "#2a3f5f"
            },
            "type": "carpet"
           }
          ],
          "choropleth": [
           {
            "colorbar": {
             "outlinewidth": 0,
             "ticks": ""
            },
            "type": "choropleth"
           }
          ],
          "contour": [
           {
            "colorbar": {
             "outlinewidth": 0,
             "ticks": ""
            },
            "colorscale": [
             [
              0,
              "#0d0887"
             ],
             [
              0.1111111111111111,
              "#46039f"
             ],
             [
              0.2222222222222222,
              "#7201a8"
             ],
             [
              0.3333333333333333,
              "#9c179e"
             ],
             [
              0.4444444444444444,
              "#bd3786"
             ],
             [
              0.5555555555555556,
              "#d8576b"
             ],
             [
              0.6666666666666666,
              "#ed7953"
             ],
             [
              0.7777777777777778,
              "#fb9f3a"
             ],
             [
              0.8888888888888888,
              "#fdca26"
             ],
             [
              1,
              "#f0f921"
             ]
            ],
            "type": "contour"
           }
          ],
          "contourcarpet": [
           {
            "colorbar": {
             "outlinewidth": 0,
             "ticks": ""
            },
            "type": "contourcarpet"
           }
          ],
          "heatmap": [
           {
            "colorbar": {
             "outlinewidth": 0,
             "ticks": ""
            },
            "colorscale": [
             [
              0,
              "#0d0887"
             ],
             [
              0.1111111111111111,
              "#46039f"
             ],
             [
              0.2222222222222222,
              "#7201a8"
             ],
             [
              0.3333333333333333,
              "#9c179e"
             ],
             [
              0.4444444444444444,
              "#bd3786"
             ],
             [
              0.5555555555555556,
              "#d8576b"
             ],
             [
              0.6666666666666666,
              "#ed7953"
             ],
             [
              0.7777777777777778,
              "#fb9f3a"
             ],
             [
              0.8888888888888888,
              "#fdca26"
             ],
             [
              1,
              "#f0f921"
             ]
            ],
            "type": "heatmap"
           }
          ],
          "heatmapgl": [
           {
            "colorbar": {
             "outlinewidth": 0,
             "ticks": ""
            },
            "colorscale": [
             [
              0,
              "#0d0887"
             ],
             [
              0.1111111111111111,
              "#46039f"
             ],
             [
              0.2222222222222222,
              "#7201a8"
             ],
             [
              0.3333333333333333,
              "#9c179e"
             ],
             [
              0.4444444444444444,
              "#bd3786"
             ],
             [
              0.5555555555555556,
              "#d8576b"
             ],
             [
              0.6666666666666666,
              "#ed7953"
             ],
             [
              0.7777777777777778,
              "#fb9f3a"
             ],
             [
              0.8888888888888888,
              "#fdca26"
             ],
             [
              1,
              "#f0f921"
             ]
            ],
            "type": "heatmapgl"
           }
          ],
          "histogram": [
           {
            "marker": {
             "colorbar": {
              "outlinewidth": 0,
              "ticks": ""
             }
            },
            "type": "histogram"
           }
          ],
          "histogram2d": [
           {
            "colorbar": {
             "outlinewidth": 0,
             "ticks": ""
            },
            "colorscale": [
             [
              0,
              "#0d0887"
             ],
             [
              0.1111111111111111,
              "#46039f"
             ],
             [
              0.2222222222222222,
              "#7201a8"
             ],
             [
              0.3333333333333333,
              "#9c179e"
             ],
             [
              0.4444444444444444,
              "#bd3786"
             ],
             [
              0.5555555555555556,
              "#d8576b"
             ],
             [
              0.6666666666666666,
              "#ed7953"
             ],
             [
              0.7777777777777778,
              "#fb9f3a"
             ],
             [
              0.8888888888888888,
              "#fdca26"
             ],
             [
              1,
              "#f0f921"
             ]
            ],
            "type": "histogram2d"
           }
          ],
          "histogram2dcontour": [
           {
            "colorbar": {
             "outlinewidth": 0,
             "ticks": ""
            },
            "colorscale": [
             [
              0,
              "#0d0887"
             ],
             [
              0.1111111111111111,
              "#46039f"
             ],
             [
              0.2222222222222222,
              "#7201a8"
             ],
             [
              0.3333333333333333,
              "#9c179e"
             ],
             [
              0.4444444444444444,
              "#bd3786"
             ],
             [
              0.5555555555555556,
              "#d8576b"
             ],
             [
              0.6666666666666666,
              "#ed7953"
             ],
             [
              0.7777777777777778,
              "#fb9f3a"
             ],
             [
              0.8888888888888888,
              "#fdca26"
             ],
             [
              1,
              "#f0f921"
             ]
            ],
            "type": "histogram2dcontour"
           }
          ],
          "mesh3d": [
           {
            "colorbar": {
             "outlinewidth": 0,
             "ticks": ""
            },
            "type": "mesh3d"
           }
          ],
          "parcoords": [
           {
            "line": {
             "colorbar": {
              "outlinewidth": 0,
              "ticks": ""
             }
            },
            "type": "parcoords"
           }
          ],
          "pie": [
           {
            "automargin": true,
            "type": "pie"
           }
          ],
          "scatter": [
           {
            "marker": {
             "colorbar": {
              "outlinewidth": 0,
              "ticks": ""
             }
            },
            "type": "scatter"
           }
          ],
          "scatter3d": [
           {
            "line": {
             "colorbar": {
              "outlinewidth": 0,
              "ticks": ""
             }
            },
            "marker": {
             "colorbar": {
              "outlinewidth": 0,
              "ticks": ""
             }
            },
            "type": "scatter3d"
           }
          ],
          "scattercarpet": [
           {
            "marker": {
             "colorbar": {
              "outlinewidth": 0,
              "ticks": ""
             }
            },
            "type": "scattercarpet"
           }
          ],
          "scattergeo": [
           {
            "marker": {
             "colorbar": {
              "outlinewidth": 0,
              "ticks": ""
             }
            },
            "type": "scattergeo"
           }
          ],
          "scattergl": [
           {
            "marker": {
             "colorbar": {
              "outlinewidth": 0,
              "ticks": ""
             }
            },
            "type": "scattergl"
           }
          ],
          "scattermapbox": [
           {
            "marker": {
             "colorbar": {
              "outlinewidth": 0,
              "ticks": ""
             }
            },
            "type": "scattermapbox"
           }
          ],
          "scatterpolar": [
           {
            "marker": {
             "colorbar": {
              "outlinewidth": 0,
              "ticks": ""
             }
            },
            "type": "scatterpolar"
           }
          ],
          "scatterpolargl": [
           {
            "marker": {
             "colorbar": {
              "outlinewidth": 0,
              "ticks": ""
             }
            },
            "type": "scatterpolargl"
           }
          ],
          "scatterternary": [
           {
            "marker": {
             "colorbar": {
              "outlinewidth": 0,
              "ticks": ""
             }
            },
            "type": "scatterternary"
           }
          ],
          "surface": [
           {
            "colorbar": {
             "outlinewidth": 0,
             "ticks": ""
            },
            "colorscale": [
             [
              0,
              "#0d0887"
             ],
             [
              0.1111111111111111,
              "#46039f"
             ],
             [
              0.2222222222222222,
              "#7201a8"
             ],
             [
              0.3333333333333333,
              "#9c179e"
             ],
             [
              0.4444444444444444,
              "#bd3786"
             ],
             [
              0.5555555555555556,
              "#d8576b"
             ],
             [
              0.6666666666666666,
              "#ed7953"
             ],
             [
              0.7777777777777778,
              "#fb9f3a"
             ],
             [
              0.8888888888888888,
              "#fdca26"
             ],
             [
              1,
              "#f0f921"
             ]
            ],
            "type": "surface"
           }
          ],
          "table": [
           {
            "cells": {
             "fill": {
              "color": "#EBF0F8"
             },
             "line": {
              "color": "white"
             }
            },
            "header": {
             "fill": {
              "color": "#C8D4E3"
             },
             "line": {
              "color": "white"
             }
            },
            "type": "table"
           }
          ]
         },
         "layout": {
          "annotationdefaults": {
           "arrowcolor": "#2a3f5f",
           "arrowhead": 0,
           "arrowwidth": 1
          },
          "coloraxis": {
           "colorbar": {
            "outlinewidth": 0,
            "ticks": ""
           }
          },
          "colorscale": {
           "diverging": [
            [
             0,
             "#8e0152"
            ],
            [
             0.1,
             "#c51b7d"
            ],
            [
             0.2,
             "#de77ae"
            ],
            [
             0.3,
             "#f1b6da"
            ],
            [
             0.4,
             "#fde0ef"
            ],
            [
             0.5,
             "#f7f7f7"
            ],
            [
             0.6,
             "#e6f5d0"
            ],
            [
             0.7,
             "#b8e186"
            ],
            [
             0.8,
             "#7fbc41"
            ],
            [
             0.9,
             "#4d9221"
            ],
            [
             1,
             "#276419"
            ]
           ],
           "sequential": [
            [
             0,
             "#0d0887"
            ],
            [
             0.1111111111111111,
             "#46039f"
            ],
            [
             0.2222222222222222,
             "#7201a8"
            ],
            [
             0.3333333333333333,
             "#9c179e"
            ],
            [
             0.4444444444444444,
             "#bd3786"
            ],
            [
             0.5555555555555556,
             "#d8576b"
            ],
            [
             0.6666666666666666,
             "#ed7953"
            ],
            [
             0.7777777777777778,
             "#fb9f3a"
            ],
            [
             0.8888888888888888,
             "#fdca26"
            ],
            [
             1,
             "#f0f921"
            ]
           ],
           "sequentialminus": [
            [
             0,
             "#0d0887"
            ],
            [
             0.1111111111111111,
             "#46039f"
            ],
            [
             0.2222222222222222,
             "#7201a8"
            ],
            [
             0.3333333333333333,
             "#9c179e"
            ],
            [
             0.4444444444444444,
             "#bd3786"
            ],
            [
             0.5555555555555556,
             "#d8576b"
            ],
            [
             0.6666666666666666,
             "#ed7953"
            ],
            [
             0.7777777777777778,
             "#fb9f3a"
            ],
            [
             0.8888888888888888,
             "#fdca26"
            ],
            [
             1,
             "#f0f921"
            ]
           ]
          },
          "colorway": [
           "#636efa",
           "#EF553B",
           "#00cc96",
           "#ab63fa",
           "#FFA15A",
           "#19d3f3",
           "#FF6692",
           "#B6E880",
           "#FF97FF",
           "#FECB52"
          ],
          "font": {
           "color": "#2a3f5f"
          },
          "geo": {
           "bgcolor": "white",
           "lakecolor": "white",
           "landcolor": "#E5ECF6",
           "showlakes": true,
           "showland": true,
           "subunitcolor": "white"
          },
          "hoverlabel": {
           "align": "left"
          },
          "hovermode": "closest",
          "mapbox": {
           "style": "light"
          },
          "paper_bgcolor": "white",
          "plot_bgcolor": "#E5ECF6",
          "polar": {
           "angularaxis": {
            "gridcolor": "white",
            "linecolor": "white",
            "ticks": ""
           },
           "bgcolor": "#E5ECF6",
           "radialaxis": {
            "gridcolor": "white",
            "linecolor": "white",
            "ticks": ""
           }
          },
          "scene": {
           "xaxis": {
            "backgroundcolor": "#E5ECF6",
            "gridcolor": "white",
            "gridwidth": 2,
            "linecolor": "white",
            "showbackground": true,
            "ticks": "",
            "zerolinecolor": "white"
           },
           "yaxis": {
            "backgroundcolor": "#E5ECF6",
            "gridcolor": "white",
            "gridwidth": 2,
            "linecolor": "white",
            "showbackground": true,
            "ticks": "",
            "zerolinecolor": "white"
           },
           "zaxis": {
            "backgroundcolor": "#E5ECF6",
            "gridcolor": "white",
            "gridwidth": 2,
            "linecolor": "white",
            "showbackground": true,
            "ticks": "",
            "zerolinecolor": "white"
           }
          },
          "shapedefaults": {
           "line": {
            "color": "#2a3f5f"
           }
          },
          "ternary": {
           "aaxis": {
            "gridcolor": "white",
            "linecolor": "white",
            "ticks": ""
           },
           "baxis": {
            "gridcolor": "white",
            "linecolor": "white",
            "ticks": ""
           },
           "bgcolor": "#E5ECF6",
           "caxis": {
            "gridcolor": "white",
            "linecolor": "white",
            "ticks": ""
           }
          },
          "title": {
           "x": 0.05
          },
          "xaxis": {
           "automargin": true,
           "gridcolor": "white",
           "linecolor": "white",
           "ticks": "",
           "title": {
            "standoff": 15
           },
           "zerolinecolor": "white",
           "zerolinewidth": 2
          },
          "yaxis": {
           "automargin": true,
           "gridcolor": "white",
           "linecolor": "white",
           "ticks": "",
           "title": {
            "standoff": 15
           },
           "zerolinecolor": "white",
           "zerolinewidth": 2
          }
         }
        },
        "title": {
         "text": "Wine"
        },
        "xaxis": {
         "anchor": "y",
         "autorange": true,
         "domain": [
          0,
          0.1075
         ],
         "range": [
          -0.5312093628088427,
          0.5312093628088427
         ],
         "type": "category"
        },
        "xaxis2": {
         "anchor": "y2",
         "autorange": true,
         "domain": [
          0.1275,
          0.235
         ],
         "matches": "x",
         "range": [
          -0.5312093628088427,
          0.5312093628088427
         ],
         "type": "category"
        },
        "xaxis3": {
         "anchor": "y3",
         "autorange": true,
         "domain": [
          0.255,
          0.3625
         ],
         "matches": "x",
         "range": [
          -0.5312093628088427,
          0.5312093628088427
         ],
         "type": "category"
        },
        "xaxis4": {
         "anchor": "y4",
         "autorange": true,
         "domain": [
          0.3825,
          0.49
         ],
         "matches": "x",
         "range": [
          -0.5312093628088427,
          0.5312093628088427
         ],
         "type": "category"
        },
        "xaxis5": {
         "anchor": "y5",
         "autorange": true,
         "domain": [
          0.51,
          0.6175
         ],
         "matches": "x",
         "range": [
          -0.5312093628088427,
          0.5312093628088427
         ],
         "type": "category"
        },
        "xaxis6": {
         "anchor": "y6",
         "autorange": true,
         "domain": [
          0.6375,
          0.745
         ],
         "matches": "x",
         "range": [
          -0.5312093628088427,
          0.5312093628088427
         ],
         "type": "category"
        },
        "xaxis7": {
         "anchor": "y7",
         "autorange": true,
         "domain": [
          0.765,
          0.8725
         ],
         "matches": "x",
         "range": [
          -0.5312093628088427,
          0.5312093628088427
         ],
         "type": "category"
        },
        "xaxis8": {
         "anchor": "y8",
         "autorange": true,
         "domain": [
          0.8925000000000001,
          1
         ],
         "matches": "x",
         "range": [
          -0.5312093628088427,
          0.5312093628088427
         ],
         "type": "category"
        },
        "yaxis": {
         "anchor": "x",
         "autorange": true,
         "domain": [
          0,
          1
         ],
         "range": [
          0.07666666666666666,
          6.081111111111111
         ],
         "title": {
          "text": "value"
         },
         "type": "linear"
        },
        "yaxis2": {
         "anchor": "x2",
         "autorange": true,
         "domain": [
          0,
          1
         ],
         "matches": "y",
         "range": [
          0.07666666666666666,
          6.081111111111111
         ],
         "showticklabels": false,
         "type": "linear"
        },
        "yaxis3": {
         "anchor": "x3",
         "autorange": true,
         "domain": [
          0,
          1
         ],
         "matches": "y",
         "range": [
          0.07666666666666666,
          6.081111111111111
         ],
         "showticklabels": false,
         "type": "linear"
        },
        "yaxis4": {
         "anchor": "x4",
         "autorange": true,
         "domain": [
          0,
          1
         ],
         "matches": "y",
         "range": [
          0.07666666666666666,
          6.081111111111111
         ],
         "showticklabels": false,
         "type": "linear"
        },
        "yaxis5": {
         "anchor": "x5",
         "autorange": true,
         "domain": [
          0,
          1
         ],
         "matches": "y",
         "range": [
          0.07666666666666666,
          6.081111111111111
         ],
         "showticklabels": false,
         "type": "linear"
        },
        "yaxis6": {
         "anchor": "x6",
         "autorange": true,
         "domain": [
          0,
          1
         ],
         "matches": "y",
         "range": [
          0.07666666666666666,
          6.081111111111111
         ],
         "showticklabels": false,
         "type": "linear"
        },
        "yaxis7": {
         "anchor": "x7",
         "autorange": true,
         "domain": [
          0,
          1
         ],
         "matches": "y",
         "range": [
          0.07666666666666666,
          6.081111111111111
         ],
         "showticklabels": false,
         "type": "linear"
        },
        "yaxis8": {
         "anchor": "x8",
         "autorange": true,
         "domain": [
          0,
          1
         ],
         "matches": "y",
         "range": [
          0.07666666666666666,
          6.081111111111111
         ],
         "showticklabels": false,
         "type": "linear"
        }
       }
      },
      "image/png": "[encoded data removed]",
      "text/html": [
       "<div>\n",
       "        \n",
       "        \n",
       "            <div id=\"76683249-7a17-4ff8-80b4-12747c22ecc5\" class=\"plotly-graph-div\" style=\"height:525px; width:100%;\"></div>\n",
       "            <script type=\"text/javascript\">\n",
       "                require([\"plotly\"], function(Plotly) {\n",
       "                    window.PLOTLYENV=window.PLOTLYENV || {};\n",
       "                    \n",
       "                if (document.getElementById(\"76683249-7a17-4ff8-80b4-12747c22ecc5\")) {\n",
       "                    Plotly.newPlot(\n",
       "                        '76683249-7a17-4ff8-80b4-12747c22ecc5',\n",
       "                        [{\"alignmentgroup\": \"True\", \"hoverlabel\": {\"namelength\": 0}, \"hovertemplate\": \"target=0<br>variable=malic_acid<br>value=%{y}\", \"legendgroup\": \"0\", \"marker\": {\"color\": \"#636efa\"}, \"name\": \"0\", \"notched\": false, \"offsetgroup\": \"0\", \"orientation\": \"v\", \"showlegend\": true, \"type\": \"box\", \"x0\": \" \", \"xaxis\": \"x\", \"y\": [1.71, 1.78, 2.36, 1.95, 2.59, 1.76, 1.87, 2.15, 1.64, 1.35, 2.16, 1.48, 1.73, 1.73, 1.87, 1.81, 1.92, 1.57, 1.59, 3.1, 1.63, 3.8, 1.86, 1.6, 1.81, 2.05, 1.77, 1.72, 1.9, 1.68, 1.5, 1.66, 1.83, 1.53, 1.8, 1.81, 1.64, 1.65, 1.5, 3.99, 1.71, 3.84, 1.89, 3.98, 1.77, 4.04, 3.59, 1.68, 2.02, 1.73, 1.73, 1.65, 1.75, 1.9, 1.67, 1.73, 1.7, 1.97, 1.43], \"y0\": \" \", \"yaxis\": \"y\"}, {\"alignmentgroup\": \"True\", \"hoverlabel\": {\"namelength\": 0}, \"hovertemplate\": \"target=0<br>variable=ash<br>value=%{y}\", \"legendgroup\": \"0\", \"marker\": {\"color\": \"#636efa\"}, \"name\": \"0\", \"notched\": false, \"offsetgroup\": \"0\", \"orientation\": \"v\", \"showlegend\": false, \"type\": \"box\", \"x0\": \" \", \"xaxis\": \"x2\", \"y\": [2.43, 2.14, 2.67, 2.5, 2.87, 2.45, 2.45, 2.61, 2.17, 2.27, 2.3, 2.32, 2.41, 2.39, 2.38, 2.7, 2.72, 2.62, 2.48, 2.56, 2.28, 2.65, 2.36, 2.52, 2.61, 3.22, 2.62, 2.14, 2.8, 2.21, 2.7, 2.36, 2.36, 2.7, 2.65, 2.41, 2.84, 2.55, 2.1, 2.51, 2.31, 2.12, 2.59, 2.29, 2.1, 2.44, 2.28, 2.12, 2.4, 2.27, 2.04, 2.6, 2.42, 2.68, 2.25, 2.46, 2.3, 2.68, 2.5], \"y0\": \" \", \"yaxis\": \"y2\"}, {\"alignmentgroup\": \"True\", \"hoverlabel\": {\"namelength\": 0}, \"hovertemplate\": \"target=0<br>variable=tot_phenols<br>value=%{y}\", \"legendgroup\": \"0\", \"marker\": {\"color\": \"#636efa\"}, \"name\": \"0\", \"notched\": false, \"offsetgroup\": \"0\", \"orientation\": \"v\", \"showlegend\": false, \"type\": \"box\", \"x0\": \" \", \"xaxis\": \"x3\", \"y\": [2.8, 2.65, 2.8, 3.85, 2.8, 3.27, 2.5, 2.6, 2.8, 2.98, 2.95, 2.2, 2.6, 3.1, 3.3, 2.85, 2.8, 2.95, 3.3, 2.7, 3.0, 2.41, 2.61, 2.48, 2.53, 2.63, 2.85, 2.4, 2.95, 2.65, 3.0, 2.86, 2.42, 2.95, 2.35, 2.7, 2.6, 2.45, 2.4, 3.0, 3.15, 2.45, 3.25, 2.64, 3.0, 2.85, 3.25, 3.1, 2.75, 2.88, 2.72, 2.45, 3.88, 3.0, 2.6, 2.96, 3.2, 3.0, 3.4], \"y0\": \" \", \"yaxis\": \"y3\"}, {\"alignmentgroup\": \"True\", \"hoverlabel\": {\"namelength\": 0}, \"hovertemplate\": \"target=0<br>variable=flavanoids<br>value=%{y}\", \"legendgroup\": \"0\", \"marker\": {\"color\": \"#636efa\"}, \"name\": \"0\", \"notched\": false, \"offsetgroup\": \"0\", \"orientation\": \"v\", \"showlegend\": false, \"type\": \"box\", \"x0\": \" \", \"xaxis\": \"x4\", \"y\": [3.06, 2.76, 3.24, 3.49, 2.69, 3.39, 2.52, 2.51, 2.98, 3.15, 3.32, 2.43, 2.76, 3.69, 3.64, 2.91, 3.14, 3.4, 3.93, 3.03, 3.17, 2.41, 2.88, 2.37, 2.61, 2.68, 2.94, 2.19, 2.97, 2.33, 3.25, 3.19, 2.69, 2.74, 2.53, 2.98, 2.68, 2.43, 2.64, 3.04, 3.29, 2.68, 3.56, 2.63, 3.0, 2.65, 3.17, 3.39, 2.92, 3.54, 3.27, 2.99, 3.74, 2.79, 2.9, 2.78, 3.0, 3.23, 3.67], \"y0\": \" \", \"yaxis\": \"y4\"}, {\"alignmentgroup\": \"True\", \"hoverlabel\": {\"namelength\": 0}, \"hovertemplate\": \"target=0<br>variable=non_flav_phenols<br>value=%{y}\", \"legendgroup\": \"0\", \"marker\": {\"color\": \"#636efa\"}, \"name\": \"0\", \"notched\": false, \"offsetgroup\": \"0\", \"orientation\": \"v\", \"showlegend\": false, \"type\": \"box\", \"x0\": \" \", \"xaxis\": \"x5\", \"y\": [0.28, 0.26, 0.3, 0.24, 0.39, 0.34, 0.3, 0.31, 0.29, 0.22, 0.22, 0.26, 0.29, 0.43, 0.29, 0.3, 0.33, 0.4, 0.32, 0.17, 0.24, 0.25, 0.27, 0.26, 0.28, 0.47, 0.34, 0.27, 0.37, 0.26, 0.29, 0.22, 0.42, 0.5, 0.29, 0.26, 0.34, 0.29, 0.28, 0.2, 0.34, 0.27, 0.17, 0.32, 0.28, 0.3, 0.27, 0.21, 0.32, 0.32, 0.17, 0.22, 0.32, 0.39, 0.21, 0.2, 0.26, 0.31, 0.19], \"y0\": \" \", \"yaxis\": \"y5\"}, {\"alignmentgroup\": \"True\", \"hoverlabel\": {\"namelength\": 0}, \"hovertemplate\": \"target=0<br>variable=proanthocyanins<br>value=%{y}\", \"legendgroup\": \"0\", \"marker\": {\"color\": \"#636efa\"}, \"name\": \"0\", \"notched\": false, \"offsetgroup\": \"0\", \"orientation\": \"v\", \"showlegend\": false, \"type\": \"box\", \"x0\": \" \", \"xaxis\": \"x6\", \"y\": [2.29, 1.28, 2.81, 2.18, 1.82, 1.97, 1.98, 1.25, 1.98, 1.85, 2.38, 1.57, 1.81, 2.81, 2.96, 1.46, 1.97, 1.72, 1.86, 1.66, 2.1, 1.98, 1.69, 1.46, 1.66, 1.92, 1.45, 1.35, 1.76, 1.98, 2.38, 1.95, 1.97, 1.35, 1.54, 1.86, 1.36, 1.44, 1.37, 2.08, 2.34, 1.48, 1.7, 1.66, 2.03, 1.25, 2.19, 2.14, 2.38, 2.08, 2.91, 2.29, 1.87, 1.68, 1.62, 2.45, 2.03, 1.66, 2.04], \"y0\": \" \", \"yaxis\": \"y6\"}, {\"alignmentgroup\": \"True\", \"hoverlabel\": {\"namelength\": 0}, \"hovertemplate\": \"target=0<br>variable=hue<br>value=%{y}\", \"legendgroup\": \"0\", \"marker\": {\"color\": \"#636efa\"}, \"name\": \"0\", \"notched\": false, \"offsetgroup\": \"0\", \"orientation\": \"v\", \"showlegend\": false, \"type\": \"box\", \"x0\": \" \", \"xaxis\": \"x7\", \"y\": [1.04, 1.05, 1.03, 0.86, 1.04, 1.05, 1.02, 1.06, 1.08, 1.01, 1.25, 1.17, 1.15, 1.25, 1.2, 1.28, 1.07, 1.13, 1.23, 0.96, 1.09, 1.03, 1.11, 1.09, 1.12, 1.13, 0.92, 1.02, 1.25, 1.04, 1.19, 1.09, 1.23, 1.25, 1.1, 1.04, 1.09, 1.12, 1.18, 0.89, 0.95, 0.91, 0.88, 0.82, 0.88, 0.87, 1.04, 0.91, 1.07, 1.12, 1.12, 1.24, 1.01, 1.13, 0.92, 0.98, 0.94, 1.07, 0.89], \"y0\": \" \", \"yaxis\": \"y7\"}, {\"alignmentgroup\": \"True\", \"hoverlabel\": {\"namelength\": 0}, \"hovertemplate\": \"target=0<br>variable=OD<br>value=%{y}\", \"legendgroup\": \"0\", \"marker\": {\"color\": \"#636efa\"}, \"name\": \"0\", \"notched\": false, \"offsetgroup\": \"0\", \"orientation\": \"v\", \"showlegend\": false, \"type\": \"box\", \"x0\": \" \", \"xaxis\": \"x8\", \"y\": [3.92, 3.4, 3.17, 3.45, 2.93, 2.85, 3.58, 3.58, 2.85, 3.55, 3.17, 2.82, 2.9, 2.73, 3.0, 2.88, 2.65, 2.57, 2.82, 3.36, 3.71, 3.52, 4.0, 3.63, 3.82, 3.2, 3.22, 2.77, 3.4, 3.59, 2.71, 2.88, 2.87, 3.0, 2.87, 3.47, 2.78, 2.51, 2.69, 3.53, 3.38, 3.0, 3.56, 3.0, 3.35, 3.33, 3.44, 3.33, 2.75, 3.1, 2.91, 3.37, 3.26, 2.93, 3.2, 3.03, 3.31, 2.84, 2.87], \"y0\": \" \", \"yaxis\": \"y8\"}, {\"alignmentgroup\": \"True\", \"hoverlabel\": {\"namelength\": 0}, \"hovertemplate\": \"target=1<br>variable=malic_acid<br>value=%{y}\", \"legendgroup\": \"1\", \"marker\": {\"color\": \"#EF553B\"}, \"name\": \"1\", \"notched\": false, \"offsetgroup\": \"1\", \"orientation\": \"v\", \"showlegend\": true, \"type\": \"box\", \"x0\": \" \", \"xaxis\": \"x\", \"y\": [0.94, 1.1, 1.36, 1.25, 1.13, 1.45, 1.21, 1.01, 1.17, 0.94, 1.19, 1.61, 1.51, 1.66, 1.67, 1.09, 1.88, 0.9, 2.89, 0.99, 3.87, 0.92, 1.81, 1.13, 3.86, 0.89, 0.98, 1.61, 1.67, 2.06, 1.33, 1.83, 1.51, 1.53, 2.83, 1.99, 1.52, 2.12, 1.41, 1.07, 3.17, 2.08, 1.34, 2.45, 1.72, 1.73, 2.55, 1.73, 1.75, 1.29, 1.35, 3.74, 2.43, 2.68, 0.74, 1.39, 1.51, 1.47, 1.61, 3.43, 3.43, 2.4, 2.05, 4.43, 5.8, 4.31, 2.16, 1.53, 2.13, 1.63, 4.3], \"y0\": \" \", \"yaxis\": \"y\"}, {\"alignmentgroup\": \"True\", \"hoverlabel\": {\"namelength\": 0}, \"hovertemplate\": \"target=1<br>variable=ash<br>value=%{y}\", \"legendgroup\": \"1\", \"marker\": {\"color\": \"#EF553B\"}, \"name\": \"1\", \"notched\": false, \"offsetgroup\": \"1\", \"orientation\": \"v\", \"showlegend\": false, \"type\": \"box\", \"x0\": \" \", \"xaxis\": \"x2\", \"y\": [1.36, 2.28, 2.02, 1.92, 2.16, 2.53, 2.56, 1.7, 1.92, 2.36, 1.75, 2.21, 2.67, 2.24, 2.6, 2.3, 1.92, 1.71, 2.23, 1.95, 2.4, 2.0, 2.2, 2.51, 2.32, 2.58, 2.24, 2.31, 2.62, 2.46, 2.3, 2.32, 2.42, 2.26, 2.22, 2.28, 2.2, 2.74, 1.98, 2.1, 2.21, 1.7, 1.9, 2.46, 1.88, 1.98, 2.27, 2.12, 2.28, 1.94, 2.7, 1.82, 2.17, 2.92, 2.5, 2.5, 2.2, 1.99, 2.19, 1.98, 2.0, 2.42, 3.23, 2.73, 2.13, 2.39, 2.17, 2.29, 2.78, 2.3, 2.38], \"y0\": \" \", \"yaxis\": \"y2\"}, {\"alignmentgroup\": \"True\", \"hoverlabel\": {\"namelength\": 0}, \"hovertemplate\": \"target=1<br>variable=tot_phenols<br>value=%{y}\", \"legendgroup\": \"1\", \"marker\": {\"color\": \"#EF553B\"}, \"name\": \"1\", \"notched\": false, \"offsetgroup\": \"1\", \"orientation\": \"v\", \"showlegend\": false, \"type\": \"box\", \"x0\": \" \", \"xaxis\": \"x3\", \"y\": [1.98, 2.05, 2.02, 2.1, 3.5, 1.89, 2.42, 2.98, 2.11, 2.53, 1.85, 1.1, 2.95, 1.88, 3.3, 3.38, 1.61, 1.95, 1.72, 1.9, 2.83, 2.42, 2.2, 2.0, 1.65, 2.2, 2.2, 1.78, 1.92, 1.95, 2.2, 1.6, 1.45, 1.38, 2.45, 3.02, 2.5, 1.6, 2.55, 3.52, 2.85, 2.23, 1.45, 2.56, 2.5, 2.2, 1.68, 1.65, 1.38, 2.36, 2.74, 3.18, 2.55, 1.75, 2.48, 2.56, 2.46, 1.98, 2.0, 1.63, 2.0, 2.9, 3.18, 2.2, 2.62, 2.86, 2.6, 2.74, 2.13, 2.22, 2.1], \"y0\": \" \", \"yaxis\": \"y3\"}, {\"alignmentgroup\": \"True\", \"hoverlabel\": {\"namelength\": 0}, \"hovertemplate\": \"target=1<br>variable=flavanoids<br>value=%{y}\", \"legendgroup\": \"1\", \"marker\": {\"color\": \"#EF553B\"}, \"name\": \"1\", \"notched\": false, \"offsetgroup\": \"1\", \"orientation\": \"v\", \"showlegend\": false, \"type\": \"box\", \"x0\": \" \", \"xaxis\": \"x4\", \"y\": [0.57, 1.09, 1.41, 1.79, 3.1, 1.75, 2.65, 3.18, 2.0, 1.3, 1.28, 1.02, 2.86, 1.84, 2.89, 2.14, 1.57, 2.03, 1.32, 1.85, 2.55, 2.26, 2.53, 1.58, 1.59, 2.21, 1.94, 1.69, 1.61, 1.69, 1.59, 1.5, 1.25, 1.46, 2.25, 2.26, 2.27, 0.99, 2.5, 3.75, 2.99, 2.17, 1.36, 2.11, 1.64, 1.92, 1.84, 2.03, 1.76, 2.04, 2.92, 2.58, 2.27, 2.03, 2.01, 2.29, 2.17, 1.6, 2.09, 1.25, 1.64, 2.79, 5.08, 2.13, 2.65, 3.03, 2.65, 3.15, 2.24, 2.45, 1.75], \"y0\": \" \", \"yaxis\": \"y4\"}, {\"alignmentgroup\": \"True\", \"hoverlabel\": {\"namelength\": 0}, \"hovertemplate\": \"target=1<br>variable=non_flav_phenols<br>value=%{y}\", \"legendgroup\": \"1\", \"marker\": {\"color\": \"#EF553B\"}, \"name\": \"1\", \"notched\": false, \"offsetgroup\": \"1\", \"orientation\": \"v\", \"showlegend\": false, \"type\": \"box\", \"x0\": \" \", \"xaxis\": \"x5\", \"y\": [0.28, 0.63, 0.53, 0.32, 0.19, 0.45, 0.37, 0.26, 0.27, 0.55, 0.14, 0.37, 0.21, 0.27, 0.21, 0.13, 0.34, 0.24, 0.43, 0.35, 0.43, 0.3, 0.26, 0.4, 0.61, 0.22, 0.3, 0.43, 0.4, 0.48, 0.42, 0.52, 0.5, 0.58, 0.25, 0.17, 0.32, 0.14, 0.29, 0.24, 0.45, 0.26, 0.29, 0.34, 0.37, 0.32, 0.66, 0.37, 0.48, 0.39, 0.29, 0.24, 0.26, 0.6, 0.42, 0.43, 0.52, 0.3, 0.34, 0.43, 0.37, 0.32, 0.47, 0.43, 0.3, 0.21, 0.37, 0.39, 0.58, 0.4, 0.42], \"y0\": \" \", \"yaxis\": \"y5\"}, {\"alignmentgroup\": \"True\", \"hoverlabel\": {\"namelength\": 0}, \"hovertemplate\": \"target=1<br>variable=proanthocyanins<br>value=%{y}\", \"legendgroup\": \"1\", \"marker\": {\"color\": \"#EF553B\"}, \"name\": \"1\", \"notched\": false, \"offsetgroup\": \"1\", \"orientation\": \"v\", \"showlegend\": false, \"type\": \"box\", \"x0\": \" \", \"xaxis\": \"x6\", \"y\": [0.42, 0.41, 0.62, 0.73, 1.87, 1.03, 2.08, 2.28, 1.04, 0.42, 2.5, 1.46, 1.87, 1.03, 1.96, 1.65, 1.15, 1.46, 0.95, 2.76, 1.95, 1.43, 1.77, 1.4, 1.62, 2.35, 1.46, 1.56, 1.34, 1.35, 1.38, 1.64, 1.63, 1.62, 1.99, 1.35, 3.28, 1.56, 1.77, 1.95, 2.81, 1.4, 1.35, 1.31, 1.42, 1.48, 1.42, 1.63, 1.63, 2.08, 2.49, 3.58, 1.22, 1.05, 1.44, 1.04, 2.01, 1.53, 1.61, 0.83, 1.87, 1.83, 1.87, 1.71, 2.01, 2.91, 1.35, 1.77, 1.76, 1.9, 1.35], \"y0\": \" \", \"yaxis\": \"y6\"}, {\"alignmentgroup\": \"True\", \"hoverlabel\": {\"namelength\": 0}, \"hovertemplate\": \"target=1<br>variable=hue<br>value=%{y}\", \"legendgroup\": \"1\", \"marker\": {\"color\": \"#EF553B\"}, \"name\": \"1\", \"notched\": false, \"offsetgroup\": \"1\", \"orientation\": \"v\", \"showlegend\": false, \"type\": \"box\", \"x0\": \" \", \"xaxis\": \"x7\", \"y\": [1.05, 1.25, 0.98, 1.23, 1.22, 1.45, 1.19, 1.12, 1.12, 1.02, 1.28, 0.906, 1.36, 0.98, 1.31, 0.99, 1.23, 1.19, 0.96, 1.06, 1.19, 1.38, 1.16, 1.31, 0.84, 0.79, 1.23, 1.33, 1.36, 1.0, 1.07, 1.08, 1.05, 0.96, 1.15, 1.16, 1.16, 0.95, 1.23, 1.04, 1.42, 1.27, 1.04, 0.8, 0.94, 1.04, 0.86, 1.0, 0.88, 0.86, 0.96, 0.75, 0.9, 1.23, 1.1, 0.93, 1.71, 0.95, 1.06, 0.7, 0.93, 0.8, 0.93, 0.92, 0.73, 0.75, 0.86, 0.69, 0.97, 0.89, 0.79], \"y0\": \" \", \"yaxis\": \"y7\"}, {\"alignmentgroup\": \"True\", \"hoverlabel\": {\"namelength\": 0}, \"hovertemplate\": \"target=1<br>variable=OD<br>value=%{y}\", \"legendgroup\": \"1\", \"marker\": {\"color\": \"#EF553B\"}, \"name\": \"1\", \"notched\": false, \"offsetgroup\": \"1\", \"orientation\": \"v\", \"showlegend\": false, \"type\": \"box\", \"x0\": \" \", \"xaxis\": \"x8\", \"y\": [1.82, 1.67, 1.59, 2.46, 2.87, 2.23, 2.3, 3.18, 3.48, 1.93, 3.07, 1.82, 3.16, 2.78, 3.5, 3.13, 2.14, 2.48, 2.52, 2.31, 3.13, 3.12, 3.14, 2.72, 2.01, 3.08, 3.16, 2.26, 3.21, 2.75, 3.21, 2.27, 2.65, 2.06, 3.3, 2.96, 2.63, 2.26, 2.74, 2.77, 2.83, 2.96, 2.77, 3.38, 2.44, 3.57, 3.3, 3.17, 2.42, 3.02, 3.26, 2.81, 2.78, 2.5, 2.31, 3.19, 2.87, 3.33, 2.96, 2.12, 3.05, 3.39, 3.69, 3.12, 3.1, 3.64, 3.28, 2.84, 2.44, 2.78, 2.57], \"y0\": \" \", \"yaxis\": \"y8\"}, {\"alignmentgroup\": \"True\", \"hoverlabel\": {\"namelength\": 0}, \"hovertemplate\": \"target=2<br>variable=malic_acid<br>value=%{y}\", \"legendgroup\": \"2\", \"marker\": {\"color\": \"#00cc96\"}, \"name\": \"2\", \"notched\": false, \"offsetgroup\": \"2\", \"orientation\": \"v\", \"showlegend\": true, \"type\": \"box\", \"x0\": \" \", \"xaxis\": \"x\", \"y\": [1.35, 2.99, 2.31, 3.55, 1.24, 2.46, 4.72, 5.51, 3.59, 2.96, 2.81, 2.56, 3.17, 4.95, 3.88, 3.57, 5.04, 4.61, 3.24, 3.9, 3.12, 2.67, 1.9, 3.3, 1.29, 5.19, 4.12, 3.03, 1.68, 1.67, 3.83, 3.26, 3.27, 3.45, 2.76, 4.36, 3.7, 3.37, 2.58, 4.6, 3.03, 2.39, 2.51, 5.65, 3.91, 4.28, 2.59, 4.1], \"y0\": \" \", \"yaxis\": \"y\"}, {\"alignmentgroup\": \"True\", \"hoverlabel\": {\"namelength\": 0}, \"hovertemplate\": \"target=2<br>variable=ash<br>value=%{y}\", \"legendgroup\": \"2\", \"marker\": {\"color\": \"#00cc96\"}, \"name\": \"2\", \"notched\": false, \"offsetgroup\": \"2\", \"orientation\": \"v\", \"showlegend\": false, \"type\": \"box\", \"x0\": \" \", \"xaxis\": \"x2\", \"y\": [2.32, 2.4, 2.4, 2.36, 2.25, 2.2, 2.54, 2.64, 2.19, 2.61, 2.7, 2.35, 2.72, 2.35, 2.2, 2.15, 2.23, 2.48, 2.38, 2.36, 2.62, 2.48, 2.75, 2.28, 2.1, 2.32, 2.38, 2.64, 2.7, 2.64, 2.38, 2.54, 2.58, 2.35, 2.3, 2.26, 2.6, 2.3, 2.69, 2.86, 2.32, 2.28, 2.48, 2.45, 2.48, 2.26, 2.37, 2.74], \"y0\": \" \", \"yaxis\": \"y2\"}, {\"alignmentgroup\": \"True\", \"hoverlabel\": {\"namelength\": 0}, \"hovertemplate\": \"target=2<br>variable=tot_phenols<br>value=%{y}\", \"legendgroup\": \"2\", \"marker\": {\"color\": \"#00cc96\"}, \"name\": \"2\", \"notched\": false, \"offsetgroup\": \"2\", \"orientation\": \"v\", \"showlegend\": false, \"type\": \"box\", \"x0\": \" \", \"xaxis\": \"x3\", \"y\": [1.51, 1.3, 1.15, 1.7, 2.0, 1.62, 1.38, 1.79, 1.62, 2.32, 1.54, 1.4, 1.55, 2.0, 1.38, 1.5, 0.98, 1.7, 1.93, 1.41, 1.4, 1.48, 2.2, 1.8, 1.48, 1.74, 1.8, 1.9, 2.8, 2.6, 2.3, 1.83, 1.65, 1.39, 1.35, 1.28, 1.7, 1.48, 1.55, 1.98, 1.25, 1.39, 1.68, 1.68, 1.8, 1.59, 1.65, 2.05], \"y0\": \" \", \"yaxis\": \"y3\"}, {\"alignmentgroup\": \"True\", \"hoverlabel\": {\"namelength\": 0}, \"hovertemplate\": \"target=2<br>variable=flavanoids<br>value=%{y}\", \"legendgroup\": \"2\", \"marker\": {\"color\": \"#00cc96\"}, \"name\": \"2\", \"notched\": false, \"offsetgroup\": \"2\", \"orientation\": \"v\", \"showlegend\": false, \"type\": \"box\", \"x0\": \" \", \"xaxis\": \"x4\", \"y\": [1.25, 1.22, 1.09, 1.2, 0.58, 0.66, 0.47, 0.6, 0.48, 0.6, 0.5, 0.5, 0.52, 0.8, 0.78, 0.55, 0.34, 0.65, 0.76, 1.39, 1.57, 1.36, 1.28, 0.83, 0.58, 0.63, 0.83, 0.58, 1.31, 1.1, 0.92, 0.56, 0.6, 0.7, 0.68, 0.47, 0.92, 0.66, 0.84, 0.96, 0.49, 0.51, 0.7, 0.61, 0.75, 0.69, 0.68, 0.76], \"y0\": \" \", \"yaxis\": \"y4\"}, {\"alignmentgroup\": \"True\", \"hoverlabel\": {\"namelength\": 0}, \"hovertemplate\": \"target=2<br>variable=non_flav_phenols<br>value=%{y}\", \"legendgroup\": \"2\", \"marker\": {\"color\": \"#00cc96\"}, \"name\": \"2\", \"notched\": false, \"offsetgroup\": \"2\", \"orientation\": \"v\", \"showlegend\": false, \"type\": \"box\", \"x0\": \" \", \"xaxis\": \"x5\", \"y\": [0.21, 0.24, 0.27, 0.17, 0.6, 0.63, 0.53, 0.63, 0.58, 0.53, 0.53, 0.37, 0.5, 0.47, 0.29, 0.43, 0.4, 0.47, 0.45, 0.34, 0.22, 0.24, 0.26, 0.61, 0.53, 0.61, 0.48, 0.63, 0.53, 0.52, 0.5, 0.5, 0.6, 0.4, 0.41, 0.52, 0.43, 0.4, 0.39, 0.27, 0.4, 0.48, 0.44, 0.52, 0.43, 0.43, 0.53, 0.56], \"y0\": \" \", \"yaxis\": \"y5\"}, {\"alignmentgroup\": \"True\", \"hoverlabel\": {\"namelength\": 0}, \"hovertemplate\": \"target=2<br>variable=proanthocyanins<br>value=%{y}\", \"legendgroup\": \"2\", \"marker\": {\"color\": \"#00cc96\"}, \"name\": \"2\", \"notched\": false, \"offsetgroup\": \"2\", \"orientation\": \"v\", \"showlegend\": false, \"type\": \"box\", \"x0\": \" \", \"xaxis\": \"x6\", \"y\": [0.94, 0.83, 0.83, 0.84, 1.25, 0.94, 0.8, 1.1, 0.88, 0.81, 0.75, 0.64, 0.55, 1.02, 1.14, 1.3, 0.68, 0.86, 1.25, 1.14, 1.25, 1.26, 1.56, 1.87, 1.4, 1.55, 1.56, 1.14, 2.7, 2.29, 1.04, 0.8, 0.96, 0.94, 1.03, 1.15, 1.46, 0.97, 1.54, 1.11, 0.73, 0.64, 1.24, 1.06, 1.41, 1.35, 1.46, 1.35], \"y0\": \" \", \"yaxis\": \"y6\"}, {\"alignmentgroup\": \"True\", \"hoverlabel\": {\"namelength\": 0}, \"hovertemplate\": \"target=2<br>variable=hue<br>value=%{y}\", \"legendgroup\": \"2\", \"marker\": {\"color\": \"#00cc96\"}, \"name\": \"2\", \"notched\": false, \"offsetgroup\": \"2\", \"orientation\": \"v\", \"showlegend\": false, \"type\": \"box\", \"x0\": \" \", \"xaxis\": \"x7\", \"y\": [0.76, 0.74, 0.66, 0.78, 0.75, 0.73, 0.75, 0.82, 0.81, 0.89, 0.77, 0.7, 0.89, 0.91, 0.65, 0.6, 0.58, 0.54, 0.55, 0.57, 0.59, 0.48, 0.61, 0.56, 0.58, 0.6, 0.57, 0.67, 0.57, 0.57, 0.56, 0.96, 0.87, 0.68, 0.7, 0.78, 0.85, 0.72, 0.74, 0.67, 0.66, 0.57, 0.62, 0.64, 0.7, 0.59, 0.6, 0.61], \"y0\": \" \", \"yaxis\": \"y7\"}, {\"alignmentgroup\": \"True\", \"hoverlabel\": {\"namelength\": 0}, \"hovertemplate\": \"target=2<br>variable=OD<br>value=%{y}\", \"legendgroup\": \"2\", \"marker\": {\"color\": \"#00cc96\"}, \"name\": \"2\", \"notched\": false, \"offsetgroup\": \"2\", \"orientation\": \"v\", \"showlegend\": false, \"type\": \"box\", \"x0\": \" \", \"xaxis\": \"x8\", \"y\": [1.29, 1.42, 1.36, 1.29, 1.51, 1.58, 1.27, 1.69, 1.82, 2.15, 2.31, 2.47, 2.06, 2.05, 2.0, 1.68, 1.33, 1.86, 1.62, 1.33, 1.3, 1.47, 1.33, 1.51, 1.55, 1.48, 1.64, 1.73, 1.96, 1.78, 1.58, 1.82, 2.11, 1.75, 1.68, 1.75, 1.56, 1.75, 1.8, 1.92, 1.83, 1.63, 1.71, 1.74, 1.56, 1.56, 1.62, 1.6], \"y0\": \" \", \"yaxis\": \"y8\"}],\n",
       "                        {\"annotations\": [{\"font\": {}, \"showarrow\": false, \"text\": \"variable=malic_acid\", \"x\": 0.05375, \"xanchor\": \"center\", \"xref\": \"paper\", \"y\": 1.0, \"yanchor\": \"bottom\", \"yref\": \"paper\"}, {\"font\": {}, \"showarrow\": false, \"text\": \"variable=ash\", \"x\": 0.18125, \"xanchor\": \"center\", \"xref\": \"paper\", \"y\": 1.0, \"yanchor\": \"bottom\", \"yref\": \"paper\"}, {\"font\": {}, \"showarrow\": false, \"text\": \"variable=tot_phenols\", \"x\": 0.30874999999999997, \"xanchor\": \"center\", \"xref\": \"paper\", \"y\": 1.0, \"yanchor\": \"bottom\", \"yref\": \"paper\"}, {\"font\": {}, \"showarrow\": false, \"text\": \"variable=flavanoids\", \"x\": 0.43625, \"xanchor\": \"center\", \"xref\": \"paper\", \"y\": 1.0, \"yanchor\": \"bottom\", \"yref\": \"paper\"}, {\"font\": {}, \"showarrow\": false, \"text\": \"variable=non_flav_phenols\", \"x\": 0.56375, \"xanchor\": \"center\", \"xref\": \"paper\", \"y\": 1.0, \"yanchor\": \"bottom\", \"yref\": \"paper\"}, {\"font\": {}, \"showarrow\": false, \"text\": \"variable=proanthocyanins\", \"x\": 0.6912499999999999, \"xanchor\": \"center\", \"xref\": \"paper\", \"y\": 1.0, \"yanchor\": \"bottom\", \"yref\": \"paper\"}, {\"font\": {}, \"showarrow\": false, \"text\": \"variable=hue\", \"x\": 0.8187500000000001, \"xanchor\": \"center\", \"xref\": \"paper\", \"y\": 1.0, \"yanchor\": \"bottom\", \"yref\": \"paper\"}, {\"font\": {}, \"showarrow\": false, \"text\": \"variable=OD\", \"x\": 0.94625, \"xanchor\": \"center\", \"xref\": \"paper\", \"y\": 1.0, \"yanchor\": \"bottom\", \"yref\": \"paper\"}], \"boxmode\": \"group\", \"legend\": {\"title\": {\"text\": \"target\"}, \"tracegroupgap\": 0}, \"template\": {\"data\": {\"bar\": [{\"error_x\": {\"color\": \"#2a3f5f\"}, \"error_y\": {\"color\": \"#2a3f5f\"}, \"marker\": {\"line\": {\"color\": \"#E5ECF6\", \"width\": 0.5}}, \"type\": \"bar\"}], \"barpolar\": [{\"marker\": {\"line\": {\"color\": \"#E5ECF6\", \"width\": 0.5}}, \"type\": \"barpolar\"}], \"carpet\": [{\"aaxis\": {\"endlinecolor\": \"#2a3f5f\", \"gridcolor\": \"white\", \"linecolor\": \"white\", \"minorgridcolor\": \"white\", \"startlinecolor\": \"#2a3f5f\"}, \"baxis\": {\"endlinecolor\": \"#2a3f5f\", \"gridcolor\": \"white\", \"linecolor\": \"white\", \"minorgridcolor\": \"white\", \"startlinecolor\": \"#2a3f5f\"}, \"type\": \"carpet\"}], \"choropleth\": [{\"colorbar\": {\"outlinewidth\": 0, \"ticks\": \"\"}, \"type\": \"choropleth\"}], \"contour\": [{\"colorbar\": {\"outlinewidth\": 0, \"ticks\": \"\"}, \"colorscale\": [[0.0, \"#0d0887\"], [0.1111111111111111, \"#46039f\"], [0.2222222222222222, \"#7201a8\"], [0.3333333333333333, \"#9c179e\"], [0.4444444444444444, \"#bd3786\"], [0.5555555555555556, \"#d8576b\"], [0.6666666666666666, \"#ed7953\"], [0.7777777777777778, \"#fb9f3a\"], [0.8888888888888888, \"#fdca26\"], [1.0, \"#f0f921\"]], \"type\": \"contour\"}], \"contourcarpet\": [{\"colorbar\": {\"outlinewidth\": 0, \"ticks\": \"\"}, \"type\": \"contourcarpet\"}], \"heatmap\": [{\"colorbar\": {\"outlinewidth\": 0, \"ticks\": \"\"}, \"colorscale\": [[0.0, \"#0d0887\"], [0.1111111111111111, \"#46039f\"], [0.2222222222222222, \"#7201a8\"], [0.3333333333333333, \"#9c179e\"], [0.4444444444444444, \"#bd3786\"], [0.5555555555555556, \"#d8576b\"], [0.6666666666666666, \"#ed7953\"], [0.7777777777777778, \"#fb9f3a\"], [0.8888888888888888, \"#fdca26\"], [1.0, \"#f0f921\"]], \"type\": \"heatmap\"}], \"heatmapgl\": [{\"colorbar\": {\"outlinewidth\": 0, \"ticks\": \"\"}, \"colorscale\": [[0.0, \"#0d0887\"], [0.1111111111111111, \"#46039f\"], [0.2222222222222222, \"#7201a8\"], [0.3333333333333333, \"#9c179e\"], [0.4444444444444444, \"#bd3786\"], [0.5555555555555556, \"#d8576b\"], [0.6666666666666666, \"#ed7953\"], [0.7777777777777778, \"#fb9f3a\"], [0.8888888888888888, \"#fdca26\"], [1.0, \"#f0f921\"]], \"type\": \"heatmapgl\"}], \"histogram\": [{\"marker\": {\"colorbar\": {\"outlinewidth\": 0, \"ticks\": \"\"}}, \"type\": \"histogram\"}], \"histogram2d\": [{\"colorbar\": {\"outlinewidth\": 0, \"ticks\": \"\"}, \"colorscale\": [[0.0, \"#0d0887\"], [0.1111111111111111, \"#46039f\"], [0.2222222222222222, \"#7201a8\"], [0.3333333333333333, \"#9c179e\"], [0.4444444444444444, \"#bd3786\"], [0.5555555555555556, \"#d8576b\"], [0.6666666666666666, \"#ed7953\"], [0.7777777777777778, \"#fb9f3a\"], [0.8888888888888888, \"#fdca26\"], [1.0, \"#f0f921\"]], \"type\": \"histogram2d\"}], \"histogram2dcontour\": [{\"colorbar\": {\"outlinewidth\": 0, \"ticks\": \"\"}, \"colorscale\": [[0.0, \"#0d0887\"], [0.1111111111111111, \"#46039f\"], [0.2222222222222222, \"#7201a8\"], [0.3333333333333333, \"#9c179e\"], [0.4444444444444444, \"#bd3786\"], [0.5555555555555556, \"#d8576b\"], [0.6666666666666666, \"#ed7953\"], [0.7777777777777778, \"#fb9f3a\"], [0.8888888888888888, \"#fdca26\"], [1.0, \"#f0f921\"]], \"type\": \"histogram2dcontour\"}], \"mesh3d\": [{\"colorbar\": {\"outlinewidth\": 0, \"ticks\": \"\"}, \"type\": \"mesh3d\"}], \"parcoords\": [{\"line\": {\"colorbar\": {\"outlinewidth\": 0, \"ticks\": \"\"}}, \"type\": \"parcoords\"}], \"pie\": [{\"automargin\": true, \"type\": \"pie\"}], \"scatter\": [{\"marker\": {\"colorbar\": {\"outlinewidth\": 0, \"ticks\": \"\"}}, \"type\": \"scatter\"}], \"scatter3d\": [{\"line\": {\"colorbar\": {\"outlinewidth\": 0, \"ticks\": \"\"}}, \"marker\": {\"colorbar\": {\"outlinewidth\": 0, \"ticks\": \"\"}}, \"type\": \"scatter3d\"}], \"scattercarpet\": [{\"marker\": {\"colorbar\": {\"outlinewidth\": 0, \"ticks\": \"\"}}, \"type\": \"scattercarpet\"}], \"scattergeo\": [{\"marker\": {\"colorbar\": {\"outlinewidth\": 0, \"ticks\": \"\"}}, \"type\": \"scattergeo\"}], \"scattergl\": [{\"marker\": {\"colorbar\": {\"outlinewidth\": 0, \"ticks\": \"\"}}, \"type\": \"scattergl\"}], \"scattermapbox\": [{\"marker\": {\"colorbar\": {\"outlinewidth\": 0, \"ticks\": \"\"}}, \"type\": \"scattermapbox\"}], \"scatterpolar\": [{\"marker\": {\"colorbar\": {\"outlinewidth\": 0, \"ticks\": \"\"}}, \"type\": \"scatterpolar\"}], \"scatterpolargl\": [{\"marker\": {\"colorbar\": {\"outlinewidth\": 0, \"ticks\": \"\"}}, \"type\": \"scatterpolargl\"}], \"scatterternary\": [{\"marker\": {\"colorbar\": {\"outlinewidth\": 0, \"ticks\": \"\"}}, \"type\": \"scatterternary\"}], \"surface\": [{\"colorbar\": {\"outlinewidth\": 0, \"ticks\": \"\"}, \"colorscale\": [[0.0, \"#0d0887\"], [0.1111111111111111, \"#46039f\"], [0.2222222222222222, \"#7201a8\"], [0.3333333333333333, \"#9c179e\"], [0.4444444444444444, \"#bd3786\"], [0.5555555555555556, \"#d8576b\"], [0.6666666666666666, \"#ed7953\"], [0.7777777777777778, \"#fb9f3a\"], [0.8888888888888888, \"#fdca26\"], [1.0, \"#f0f921\"]], \"type\": \"surface\"}], \"table\": [{\"cells\": {\"fill\": {\"color\": \"#EBF0F8\"}, \"line\": {\"color\": \"white\"}}, \"header\": {\"fill\": {\"color\": \"#C8D4E3\"}, \"line\": {\"color\": \"white\"}}, \"type\": \"table\"}]}, \"layout\": {\"annotationdefaults\": {\"arrowcolor\": \"#2a3f5f\", \"arrowhead\": 0, \"arrowwidth\": 1}, \"coloraxis\": {\"colorbar\": {\"outlinewidth\": 0, \"ticks\": \"\"}}, \"colorscale\": {\"diverging\": [[0, \"#8e0152\"], [0.1, \"#c51b7d\"], [0.2, \"#de77ae\"], [0.3, \"#f1b6da\"], [0.4, \"#fde0ef\"], [0.5, \"#f7f7f7\"], [0.6, \"#e6f5d0\"], [0.7, \"#b8e186\"], [0.8, \"#7fbc41\"], [0.9, \"#4d9221\"], [1, \"#276419\"]], \"sequential\": [[0.0, \"#0d0887\"], [0.1111111111111111, \"#46039f\"], [0.2222222222222222, \"#7201a8\"], [0.3333333333333333, \"#9c179e\"], [0.4444444444444444, \"#bd3786\"], [0.5555555555555556, \"#d8576b\"], [0.6666666666666666, \"#ed7953\"], [0.7777777777777778, \"#fb9f3a\"], [0.8888888888888888, \"#fdca26\"], [1.0, \"#f0f921\"]], \"sequentialminus\": [[0.0, \"#0d0887\"], [0.1111111111111111, \"#46039f\"], [0.2222222222222222, \"#7201a8\"], [0.3333333333333333, \"#9c179e\"], [0.4444444444444444, \"#bd3786\"], [0.5555555555555556, \"#d8576b\"], [0.6666666666666666, \"#ed7953\"], [0.7777777777777778, \"#fb9f3a\"], [0.8888888888888888, \"#fdca26\"], [1.0, \"#f0f921\"]]}, \"colorway\": [\"#636efa\", \"#EF553B\", \"#00cc96\", \"#ab63fa\", \"#FFA15A\", \"#19d3f3\", \"#FF6692\", \"#B6E880\", \"#FF97FF\", \"#FECB52\"], \"font\": {\"color\": \"#2a3f5f\"}, \"geo\": {\"bgcolor\": \"white\", \"lakecolor\": \"white\", \"landcolor\": \"#E5ECF6\", \"showlakes\": true, \"showland\": true, \"subunitcolor\": \"white\"}, \"hoverlabel\": {\"align\": \"left\"}, \"hovermode\": \"closest\", \"mapbox\": {\"style\": \"light\"}, \"paper_bgcolor\": \"white\", \"plot_bgcolor\": \"#E5ECF6\", \"polar\": {\"angularaxis\": {\"gridcolor\": \"white\", \"linecolor\": \"white\", \"ticks\": \"\"}, \"bgcolor\": \"#E5ECF6\", \"radialaxis\": {\"gridcolor\": \"white\", \"linecolor\": \"white\", \"ticks\": \"\"}}, \"scene\": {\"xaxis\": {\"backgroundcolor\": \"#E5ECF6\", \"gridcolor\": \"white\", \"gridwidth\": 2, \"linecolor\": \"white\", \"showbackground\": true, \"ticks\": \"\", \"zerolinecolor\": \"white\"}, \"yaxis\": {\"backgroundcolor\": \"#E5ECF6\", \"gridcolor\": \"white\", \"gridwidth\": 2, \"linecolor\": \"white\", \"showbackground\": true, \"ticks\": \"\", \"zerolinecolor\": \"white\"}, \"zaxis\": {\"backgroundcolor\": \"#E5ECF6\", \"gridcolor\": \"white\", \"gridwidth\": 2, \"linecolor\": \"white\", \"showbackground\": true, \"ticks\": \"\", \"zerolinecolor\": \"white\"}}, \"shapedefaults\": {\"line\": {\"color\": \"#2a3f5f\"}}, \"ternary\": {\"aaxis\": {\"gridcolor\": \"white\", \"linecolor\": \"white\", \"ticks\": \"\"}, \"baxis\": {\"gridcolor\": \"white\", \"linecolor\": \"white\", \"ticks\": \"\"}, \"bgcolor\": \"#E5ECF6\", \"caxis\": {\"gridcolor\": \"white\", \"linecolor\": \"white\", \"ticks\": \"\"}}, \"title\": {\"x\": 0.05}, \"xaxis\": {\"automargin\": true, \"gridcolor\": \"white\", \"linecolor\": \"white\", \"ticks\": \"\", \"title\": {\"standoff\": 15}, \"zerolinecolor\": \"white\", \"zerolinewidth\": 2}, \"yaxis\": {\"automargin\": true, \"gridcolor\": \"white\", \"linecolor\": \"white\", \"ticks\": \"\", \"title\": {\"standoff\": 15}, \"zerolinecolor\": \"white\", \"zerolinewidth\": 2}}}, \"title\": {\"text\": \"Wine\"}, \"xaxis\": {\"anchor\": \"y\", \"domain\": [0.0, 0.1075]}, \"xaxis2\": {\"anchor\": \"y2\", \"domain\": [0.1275, 0.235], \"matches\": \"x\"}, \"xaxis3\": {\"anchor\": \"y3\", \"domain\": [0.255, 0.3625], \"matches\": \"x\"}, \"xaxis4\": {\"anchor\": \"y4\", \"domain\": [0.3825, 0.49], \"matches\": \"x\"}, \"xaxis5\": {\"anchor\": \"y5\", \"domain\": [0.51, 0.6175], \"matches\": \"x\"}, \"xaxis6\": {\"anchor\": \"y6\", \"domain\": [0.6375, 0.745], \"matches\": \"x\"}, \"xaxis7\": {\"anchor\": \"y7\", \"domain\": [0.765, 0.8725], \"matches\": \"x\"}, \"xaxis8\": {\"anchor\": \"y8\", \"domain\": [0.8925000000000001, 1.0], \"matches\": \"x\"}, \"yaxis\": {\"anchor\": \"x\", \"domain\": [0.0, 1.0], \"title\": {\"text\": \"value\"}}, \"yaxis2\": {\"anchor\": \"x2\", \"domain\": [0.0, 1.0], \"matches\": \"y\", \"showticklabels\": false}, \"yaxis3\": {\"anchor\": \"x3\", \"domain\": [0.0, 1.0], \"matches\": \"y\", \"showticklabels\": false}, \"yaxis4\": {\"anchor\": \"x4\", \"domain\": [0.0, 1.0], \"matches\": \"y\", \"showticklabels\": false}, \"yaxis5\": {\"anchor\": \"x5\", \"domain\": [0.0, 1.0], \"matches\": \"y\", \"showticklabels\": false}, \"yaxis6\": {\"anchor\": \"x6\", \"domain\": [0.0, 1.0], \"matches\": \"y\", \"showticklabels\": false}, \"yaxis7\": {\"anchor\": \"x7\", \"domain\": [0.0, 1.0], \"matches\": \"y\", \"showticklabels\": false}, \"yaxis8\": {\"anchor\": \"x8\", \"domain\": [0.0, 1.0], \"matches\": \"y\", \"showticklabels\": false}},\n",
       "                        {\"responsive\": true}\n",
       "                    ).then(function(){\n",
       "                            \n",
       "var gd = document.getElementById('76683249-7a17-4ff8-80b4-12747c22ecc5');\n",
       "var x = new MutationObserver(function (mutations, observer) {{\n",
       "        var display = window.getComputedStyle(gd).display;\n",
       "        if (!display || display === 'none') {{\n",
       "            console.log([gd, 'removed!']);\n",
       "            Plotly.purge(gd);\n",
       "            observer.disconnect();\n",
       "        }}\n",
       "}});\n",
       "\n",
       "// Listen for the removal of the full notebook cells\n",
       "var notebookContainer = gd.closest('#notebook-container');\n",
       "if (notebookContainer) {{\n",
       "    x.observe(notebookContainer, {childList: true});\n",
       "}}\n",
       "\n",
       "// Listen for the clearing of the current output cell\n",
       "var outputEl = gd.closest('.output');\n",
       "if (outputEl) {{\n",
       "    x.observe(outputEl, {childList: true});\n",
       "}}\n",
       "\n",
       "                        })\n",
       "                };\n",
       "                });\n",
       "            </script>\n",
       "        </div>"
      ]
     },
     "metadata": {},
     "output_type": "display_data"
    }
   ],
   "source": [
    "wineMelt = pd.melt(df_wine.drop([\"proline\",\"Mg\",\"alcalinity\",\"alcohol\",\"color_intensity\"],axis =1),id_vars = \"target\")\n",
    "fig = px.box(wineMelt,y=\"value\",facet_col=\"variable\",color=\"target\",title=\"Wine\")\n",
    "fig.show()"
   ]
  },
  {
   "cell_type": "markdown",
   "metadata": {},
   "source": [
    "#### 4) Set up your X and y data frames to prepare for your modeling steps. Be sure to standardize your X variables. Create a binarized version of y as well. (Remember, this is important for classifiers such as neural nets when you are working with a target variable that is multi-class (i.e. more than two labels). And, again, it's very important that you shuffle your data."
   ]
  },
  {
   "cell_type": "code",
   "execution_count": 45,
   "metadata": {},
   "outputs": [],
   "source": [
    "from sklearn.preprocessing import StandardScaler\n",
    "scaler = StandardScaler()\n",
    "X = df_wine.drop(\"target\",axis = 1)\n",
    "scaler.fit(X)\n",
    "X = pd.DataFrame(scaler.transform(X),columns = X.columns)\n",
    "\n",
    "y = df_wine[\"target\"]\n",
    "y = pd.get_dummies(y)\n",
    "\n",
    "from sklearn.utils import shuffle\n",
    "X = shuffle(X,random_state = 0)\n",
    "y = shuffle(y,random_state = 0)"
   ]
  },
  {
   "cell_type": "markdown",
   "metadata": {},
   "source": [
    "#### 5) Let's induce a basic Decision Tree Classifier (i.e. DecisionTreeClassifier()).\n",
    "Don't set any initial\n",
    "parameters. Let the default tree induction parameters be used. Evaluate the tree using a 5-fold cross\n",
    "validation. Perform a standard report of your class-wide performance metrics (i.e. using classification report,\n",
    "but specify 3 significant digits instead of the default of 2). You should have all of this code completed from a\n",
    "previous lab.\n",
    "#### What is the overall accuracy? Which class performs the best? The worst?"
   ]
  },
  {
   "cell_type": "code",
   "execution_count": 46,
   "metadata": {},
   "outputs": [],
   "source": [
    "from sklearn.tree import DecisionTreeClassifier\n",
    "from sklearn.metrics import accuracy_score,classification_report\n",
    "from sklearn.model_selection import KFold\n",
    "\n",
    "def wine5fold():\n",
    "    clf = DecisionTreeClassifier()\n",
    "    kfold = KFold(5,True)\n",
    "\n",
    "    df_results = []\n",
    "\n",
    "    for k, (train,test) in enumerate(kfold.split(X,y)):\n",
    "        clf = DecisionTreeClassifier()\n",
    "        clf.fit(X.iloc[train,:],y.iloc[train])\n",
    "        df_results.append([y.iloc[test].values.tolist(),clf.predict(X.iloc[test,:])])\n",
    "\n",
    "\n",
    "    df_results = pd.DataFrame(df_results,columns=[\"true\",\"pred\"])\n",
    "    #df_results[\"true\"] = df_results[\"true\"].apply(lambda x: [e[0] for e in x])\n",
    "    df_def = pd.DataFrame({\"true\":df_results.explode(\"true\").iloc[:,0],\"pred\":df_results.explode(\"pred\").iloc[:,1]}).reset_index(drop = True)\n",
    "    df_def[\"true\"] = df_def[\"true\"].apply(lambda x: [i for i in range(len(x)) if x[i] == 1][0])\n",
    "    df_def[\"pred\"] = df_def[\"pred\"].apply(lambda x: [i for i in range(len(x)) if x[i] == 1][0])\n",
    "    print(classification_report(df_def[\"true\"],df_def[\"pred\"],digits = 3))"
   ]
  },
  {
   "cell_type": "code",
   "execution_count": 47,
   "metadata": {},
   "outputs": [
    {
     "name": "stdout",
     "output_type": "stream",
     "text": [
      "              precision    recall  f1-score   support\n",
      "\n",
      "           0      0.917     0.932     0.924        59\n",
      "           1      0.900     0.887     0.894        71\n",
      "           2      0.917     0.917     0.917        48\n",
      "\n",
      "    accuracy                          0.910       178\n",
      "   macro avg      0.911     0.912     0.912       178\n",
      "weighted avg      0.910     0.910     0.910       178\n",
      "\n"
     ]
    }
   ],
   "source": [
    "wine5fold()\n",
    "#Overall 92% accurate, with class 0 performing the best and 1 perforing the worst."
   ]
  },
  {
   "cell_type": "markdown",
   "metadata": {},
   "source": [
    "#### 6) Try to run your code above a few different times. Your performance results should fluctuate a bit. Why?"
   ]
  },
  {
   "cell_type": "code",
   "execution_count": 48,
   "metadata": {},
   "outputs": [
    {
     "name": "stdout",
     "output_type": "stream",
     "text": [
      "              precision    recall  f1-score   support\n",
      "\n",
      "           0      0.879     0.983     0.928        59\n",
      "           1      0.938     0.845     0.889        71\n",
      "           2      0.896     0.896     0.896        48\n",
      "\n",
      "    accuracy                          0.904       178\n",
      "   macro avg      0.904     0.908     0.904       178\n",
      "weighted avg      0.907     0.904     0.904       178\n",
      "\n",
      "              precision    recall  f1-score   support\n",
      "\n",
      "           0      1.000     0.949     0.974        59\n",
      "           1      0.905     0.944     0.924        71\n",
      "           2      0.917     0.917     0.917        48\n",
      "\n",
      "    accuracy                          0.938       178\n",
      "   macro avg      0.941     0.936     0.938       178\n",
      "weighted avg      0.940     0.938     0.939       178\n",
      "\n",
      "              precision    recall  f1-score   support\n",
      "\n",
      "           0      0.885     0.915     0.900        59\n",
      "           1      0.879     0.817     0.847        71\n",
      "           2      0.882     0.938     0.909        48\n",
      "\n",
      "    accuracy                          0.882       178\n",
      "   macro avg      0.882     0.890     0.885       178\n",
      "weighted avg      0.882     0.882     0.881       178\n",
      "\n"
     ]
    }
   ],
   "source": [
    "wine5fold()\n",
    "wine5fold()\n",
    "wine5fold()\n",
    "#fluctuates because it is reshuffled everytime with different folds."
   ]
  },
  {
   "cell_type": "markdown",
   "metadata": {},
   "source": [
    "#### 7) As we learned, a decision tree has a lot of parameters. Likewise, the DecisionTreeClassifier class offers thoseparameters for you to affect your tree induction."
   ]
  },
  {
   "cell_type": "code",
   "execution_count": 49,
   "metadata": {},
   "outputs": [],
   "source": [
    "from sklearn.model_selection import GridSearchCV\n",
    "param_grid = {\n",
    "'criterion' : ['gini', 'entropy'],\n",
    "'max_depth' : [3,4,5,6,7]\n",
    "}\n",
    "grid = GridSearchCV(DecisionTreeClassifier(), param_grid,return_train_score=True, cv=5)\n",
    "grid_result = grid.fit(X,y)"
   ]
  },
  {
   "cell_type": "markdown",
   "metadata": {},
   "source": [
    "#### 8) Cool! Now, you need to explore the internal attributes of grid_result. It contains a LOT of information.\n",
    "Look closely at the description of the return value on the documentation page for GridSearchCV. Then,\n",
    "show the best score, along with the best parameters for that score. (HINT best_score_ and\n",
    "best_params_)"
   ]
  },
  {
   "cell_type": "code",
   "execution_count": 50,
   "metadata": {},
   "outputs": [
    {
     "name": "stdout",
     "output_type": "stream",
     "text": [
      "Best Score: 0.9326984126984128\n",
      "Best Params: {'criterion': 'gini', 'max_depth': 7}\n"
     ]
    }
   ],
   "source": [
    "print(\"Best Score: {}\".format(grid_result.best_score_))\n",
    "print(\"Best Params: {}\".format(grid_result.best_params_))"
   ]
  },
  {
   "cell_type": "markdown",
   "metadata": {},
   "source": [
    "#### 9) [M] What does the best \"score\" represent? What performance metric? How do you override it, if, for example, you want to use f1_macro?\n"
   ]
  },
  {
   "cell_type": "markdown",
   "metadata": {},
   "source": [
    "Best score is the best accuracy. The percentage of classifications that were correct. To override it, we can change the scoring parameter passed to GridSearchCV. So we could say scoring = \"fl_macro\" within the GridSearchCV() call."
   ]
  },
  {
   "cell_type": "markdown",
   "metadata": {},
   "source": [
    "#### 10) Write the code to report the mean training and testing score and standard deviation for every parametercombination tested. Output your data in order of highest mean test score to lowest. How did you docompared to the default decision tree without any parameters? \n",
    "(HINT: This is easily done by casting the\n",
    "cv_results_ parameter to a DataFrame, and then using standard pandas data selection and sorting\n",
    "methods.)"
   ]
  },
  {
   "cell_type": "code",
   "execution_count": 60,
   "metadata": {},
   "outputs": [
    {
     "data": {
      "text/html": [
       "<div>\n",
       "<style scoped>\n",
       "    .dataframe tbody tr th:only-of-type {\n",
       "        vertical-align: middle;\n",
       "    }\n",
       "\n",
       "    .dataframe tbody tr th {\n",
       "        vertical-align: top;\n",
       "    }\n",
       "\n",
       "    .dataframe thead th {\n",
       "        text-align: right;\n",
       "    }\n",
       "</style>\n",
       "<table border=\"1\" class=\"dataframe\">\n",
       "  <thead>\n",
       "    <tr style=\"text-align: right;\">\n",
       "      <th></th>\n",
       "      <th>params</th>\n",
       "      <th>mean_test_score</th>\n",
       "      <th>std_test_score</th>\n",
       "      <th>mean_train_score</th>\n",
       "      <th>std_train_score</th>\n",
       "    </tr>\n",
       "  </thead>\n",
       "  <tbody>\n",
       "    <tr>\n",
       "      <th>4</th>\n",
       "      <td>{'criterion': 'gini', 'max_depth': 7}</td>\n",
       "      <td>0.932698</td>\n",
       "      <td>0.033399</td>\n",
       "      <td>1.000000</td>\n",
       "      <td>0.000000</td>\n",
       "    </tr>\n",
       "    <tr>\n",
       "      <th>3</th>\n",
       "      <td>{'criterion': 'gini', 'max_depth': 6}</td>\n",
       "      <td>0.927143</td>\n",
       "      <td>0.041542</td>\n",
       "      <td>1.000000</td>\n",
       "      <td>0.000000</td>\n",
       "    </tr>\n",
       "    <tr>\n",
       "      <th>7</th>\n",
       "      <td>{'criterion': 'entropy', 'max_depth': 5}</td>\n",
       "      <td>0.921429</td>\n",
       "      <td>0.044758</td>\n",
       "      <td>1.000000</td>\n",
       "      <td>0.000000</td>\n",
       "    </tr>\n",
       "    <tr>\n",
       "      <th>2</th>\n",
       "      <td>{'criterion': 'gini', 'max_depth': 5}</td>\n",
       "      <td>0.916032</td>\n",
       "      <td>0.049521</td>\n",
       "      <td>1.000000</td>\n",
       "      <td>0.000000</td>\n",
       "    </tr>\n",
       "    <tr>\n",
       "      <th>6</th>\n",
       "      <td>{'criterion': 'entropy', 'max_depth': 4}</td>\n",
       "      <td>0.916032</td>\n",
       "      <td>0.061160</td>\n",
       "      <td>0.998592</td>\n",
       "      <td>0.002817</td>\n",
       "    </tr>\n",
       "    <tr>\n",
       "      <th>0</th>\n",
       "      <td>{'criterion': 'gini', 'max_depth': 3}</td>\n",
       "      <td>0.916032</td>\n",
       "      <td>0.060720</td>\n",
       "      <td>0.983158</td>\n",
       "      <td>0.010464</td>\n",
       "    </tr>\n",
       "    <tr>\n",
       "      <th>9</th>\n",
       "      <td>{'criterion': 'entropy', 'max_depth': 7}</td>\n",
       "      <td>0.910476</td>\n",
       "      <td>0.069159</td>\n",
       "      <td>1.000000</td>\n",
       "      <td>0.000000</td>\n",
       "    </tr>\n",
       "    <tr>\n",
       "      <th>5</th>\n",
       "      <td>{'criterion': 'entropy', 'max_depth': 3}</td>\n",
       "      <td>0.903968</td>\n",
       "      <td>0.100182</td>\n",
       "      <td>0.964976</td>\n",
       "      <td>0.045725</td>\n",
       "    </tr>\n",
       "    <tr>\n",
       "      <th>8</th>\n",
       "      <td>{'criterion': 'entropy', 'max_depth': 6}</td>\n",
       "      <td>0.899206</td>\n",
       "      <td>0.081605</td>\n",
       "      <td>1.000000</td>\n",
       "      <td>0.000000</td>\n",
       "    </tr>\n",
       "    <tr>\n",
       "      <th>1</th>\n",
       "      <td>{'criterion': 'gini', 'max_depth': 4}</td>\n",
       "      <td>0.893651</td>\n",
       "      <td>0.081172</td>\n",
       "      <td>0.990210</td>\n",
       "      <td>0.019580</td>\n",
       "    </tr>\n",
       "  </tbody>\n",
       "</table>\n",
       "</div>"
      ],
      "text/plain": [
       "                                     params  mean_test_score  std_test_score  \\\n",
       "4     {'criterion': 'gini', 'max_depth': 7}         0.932698        0.033399   \n",
       "3     {'criterion': 'gini', 'max_depth': 6}         0.927143        0.041542   \n",
       "7  {'criterion': 'entropy', 'max_depth': 5}         0.921429        0.044758   \n",
       "2     {'criterion': 'gini', 'max_depth': 5}         0.916032        0.049521   \n",
       "6  {'criterion': 'entropy', 'max_depth': 4}         0.916032        0.061160   \n",
       "0     {'criterion': 'gini', 'max_depth': 3}         0.916032        0.060720   \n",
       "9  {'criterion': 'entropy', 'max_depth': 7}         0.910476        0.069159   \n",
       "5  {'criterion': 'entropy', 'max_depth': 3}         0.903968        0.100182   \n",
       "8  {'criterion': 'entropy', 'max_depth': 6}         0.899206        0.081605   \n",
       "1     {'criterion': 'gini', 'max_depth': 4}         0.893651        0.081172   \n",
       "\n",
       "   mean_train_score  std_train_score  \n",
       "4          1.000000         0.000000  \n",
       "3          1.000000         0.000000  \n",
       "7          1.000000         0.000000  \n",
       "2          1.000000         0.000000  \n",
       "6          0.998592         0.002817  \n",
       "0          0.983158         0.010464  \n",
       "9          1.000000         0.000000  \n",
       "5          0.964976         0.045725  \n",
       "8          1.000000         0.000000  \n",
       "1          0.990210         0.019580  "
      ]
     },
     "execution_count": 60,
     "metadata": {},
     "output_type": "execute_result"
    }
   ],
   "source": [
    "resultDF = pd.DataFrame(grid_result.cv_results_)\n",
    "resultDF.sort_values(by = \"mean_test_score\",ascending = False)[[\"params\",\"mean_test_score\",\"std_test_score\",\"mean_train_score\",\"std_train_score\"]]\n",
    "#This does much better than the default decision tree."
   ]
  },
  {
   "cell_type": "markdown",
   "metadata": {},
   "source": [
    "#### 11) The default scoring parameter is accuracy, and you've already learned about how accuracy is not necessarily the best metric on unbalanced data. This data is only slightly unbalanced, thus it is not a bad metric. However, you should understand how to choose a better scoring metric to identify the best results for these data.\n",
    "In general, a macro-averaged f1 metric is a pretty good assessment of classifier performance when you have\n",
    "unbalanced data, as it will give you an honest assessment of how you are doing on the smallest classes.\n",
    "Redo the above steps, but you must accomplish three things:\n",
    "  \n",
    "    a) Add min_samples_split and min_samples_leaf criteria to your grid search. Choose the\n",
    "    parameter values that make sense to you.  \n",
    "\n",
    "    b) Specify the scoring parameter to use both accuracy AND f1_macro. You'll likely also need to\n",
    "    specify the refit parameter. (Look these up! Don't just blindly do what I'm telling you to do without\n",
    "    understanding!)  \n",
    "\n",
    "    c) Change your result to a full 10-fold cross validation. This could take some time, but gives a better\n",
    "    assessment of the power of your classifier. Perhaps using 5 fold just wasn't quite enough data for each\n",
    "    member?  \n",
    "\n",
    "Again, output your results, showing the top five configurations by accuracy, and also by f1_macro.\n",
    "Comment on your results.  "
   ]
  },
  {
   "cell_type": "code",
   "execution_count": 68,
   "metadata": {},
   "outputs": [],
   "source": [
    "param_grid = {\n",
    "'criterion' : ['gini', 'entropy'],\n",
    "'max_depth' : [3,4,5,6,7],\n",
    "\"min_samples_split\": [2,5] ,\n",
    "\"min_samples_leaf\" : [1,2] \n",
    "}\n",
    "grid = GridSearchCV(DecisionTreeClassifier(), param_grid,return_train_score=True, cv=10, scoring = [\"accuracy\", \"f1_macro\"], refit = False)\n",
    "grid_result = grid.fit(X,y)\n",
    "resultDF = pd.DataFrame(grid_result.cv_results_)"
   ]
  },
  {
   "cell_type": "code",
   "execution_count": 92,
   "metadata": {},
   "outputs": [
    {
     "data": {
      "text/html": [
       "<div>\n",
       "<style scoped>\n",
       "    .dataframe tbody tr th:only-of-type {\n",
       "        vertical-align: middle;\n",
       "    }\n",
       "\n",
       "    .dataframe tbody tr th {\n",
       "        vertical-align: top;\n",
       "    }\n",
       "\n",
       "    .dataframe thead th {\n",
       "        text-align: right;\n",
       "    }\n",
       "</style>\n",
       "<table border=\"1\" class=\"dataframe\">\n",
       "  <thead>\n",
       "    <tr style=\"text-align: right;\">\n",
       "      <th></th>\n",
       "      <th>params</th>\n",
       "      <th>mean_train_accuracy</th>\n",
       "      <th>mean_train_f1_macro</th>\n",
       "      <th>mean_test_accuracy</th>\n",
       "      <th>mean_test_f1_macro</th>\n",
       "    </tr>\n",
       "  </thead>\n",
       "  <tbody>\n",
       "    <tr>\n",
       "      <th>12</th>\n",
       "      <td>{'criterion': 'gini', 'max_depth': 6, 'min_sam...</td>\n",
       "      <td>1.00000</td>\n",
       "      <td>1.00000</td>\n",
       "      <td>0.910131</td>\n",
       "      <td>0.900187</td>\n",
       "    </tr>\n",
       "    <tr>\n",
       "      <th>36</th>\n",
       "      <td>{'criterion': 'entropy', 'max_depth': 7, 'min_...</td>\n",
       "      <td>1.00000</td>\n",
       "      <td>1.00000</td>\n",
       "      <td>0.926797</td>\n",
       "      <td>0.920265</td>\n",
       "    </tr>\n",
       "    <tr>\n",
       "      <th>16</th>\n",
       "      <td>{'criterion': 'gini', 'max_depth': 7, 'min_sam...</td>\n",
       "      <td>1.00000</td>\n",
       "      <td>1.00000</td>\n",
       "      <td>0.921569</td>\n",
       "      <td>0.908349</td>\n",
       "    </tr>\n",
       "    <tr>\n",
       "      <th>32</th>\n",
       "      <td>{'criterion': 'entropy', 'max_depth': 6, 'min_...</td>\n",
       "      <td>1.00000</td>\n",
       "      <td>1.00000</td>\n",
       "      <td>0.926797</td>\n",
       "      <td>0.920265</td>\n",
       "    </tr>\n",
       "    <tr>\n",
       "      <th>28</th>\n",
       "      <td>{'criterion': 'entropy', 'max_depth': 5, 'min_...</td>\n",
       "      <td>0.99875</td>\n",
       "      <td>0.99933</td>\n",
       "      <td>0.921242</td>\n",
       "      <td>0.915076</td>\n",
       "    </tr>\n",
       "  </tbody>\n",
       "</table>\n",
       "</div>"
      ],
      "text/plain": [
       "                                               params  mean_train_accuracy  \\\n",
       "12  {'criterion': 'gini', 'max_depth': 6, 'min_sam...              1.00000   \n",
       "36  {'criterion': 'entropy', 'max_depth': 7, 'min_...              1.00000   \n",
       "16  {'criterion': 'gini', 'max_depth': 7, 'min_sam...              1.00000   \n",
       "32  {'criterion': 'entropy', 'max_depth': 6, 'min_...              1.00000   \n",
       "28  {'criterion': 'entropy', 'max_depth': 5, 'min_...              0.99875   \n",
       "\n",
       "    mean_train_f1_macro  mean_test_accuracy  mean_test_f1_macro  \n",
       "12              1.00000            0.910131            0.900187  \n",
       "36              1.00000            0.926797            0.920265  \n",
       "16              1.00000            0.921569            0.908349  \n",
       "32              1.00000            0.926797            0.920265  \n",
       "28              0.99933            0.921242            0.915076  "
      ]
     },
     "execution_count": 92,
     "metadata": {},
     "output_type": "execute_result"
    }
   ],
   "source": [
    "resultDF.sort_values(by = \"mean_train_f1_macro\",ascending = False)[[\"params\",\"mean_train_accuracy\",\"mean_train_f1_macro\",\"mean_test_accuracy\",\"mean_test_f1_macro\"]].head()\n",
    "#shows that high depth and low min samples works most effectively"
   ]
  },
  {
   "cell_type": "code",
   "execution_count": 93,
   "metadata": {},
   "outputs": [
    {
     "data": {
      "text/html": [
       "<div>\n",
       "<style scoped>\n",
       "    .dataframe tbody tr th:only-of-type {\n",
       "        vertical-align: middle;\n",
       "    }\n",
       "\n",
       "    .dataframe tbody tr th {\n",
       "        vertical-align: top;\n",
       "    }\n",
       "\n",
       "    .dataframe thead th {\n",
       "        text-align: right;\n",
       "    }\n",
       "</style>\n",
       "<table border=\"1\" class=\"dataframe\">\n",
       "  <thead>\n",
       "    <tr style=\"text-align: right;\">\n",
       "      <th></th>\n",
       "      <th>params</th>\n",
       "      <th>mean_train_accuracy</th>\n",
       "      <th>mean_train_f1_macro</th>\n",
       "      <th>mean_test_accuracy</th>\n",
       "      <th>mean_test_f1_macro</th>\n",
       "    </tr>\n",
       "  </thead>\n",
       "  <tbody>\n",
       "    <tr>\n",
       "      <th>16</th>\n",
       "      <td>{'criterion': 'gini', 'max_depth': 7, 'min_sam...</td>\n",
       "      <td>1.000000</td>\n",
       "      <td>1.000000</td>\n",
       "      <td>0.921569</td>\n",
       "      <td>0.908349</td>\n",
       "    </tr>\n",
       "    <tr>\n",
       "      <th>36</th>\n",
       "      <td>{'criterion': 'entropy', 'max_depth': 7, 'min_...</td>\n",
       "      <td>1.000000</td>\n",
       "      <td>1.000000</td>\n",
       "      <td>0.926797</td>\n",
       "      <td>0.920265</td>\n",
       "    </tr>\n",
       "    <tr>\n",
       "      <th>32</th>\n",
       "      <td>{'criterion': 'entropy', 'max_depth': 6, 'min_...</td>\n",
       "      <td>1.000000</td>\n",
       "      <td>1.000000</td>\n",
       "      <td>0.926797</td>\n",
       "      <td>0.920265</td>\n",
       "    </tr>\n",
       "    <tr>\n",
       "      <th>12</th>\n",
       "      <td>{'criterion': 'gini', 'max_depth': 6, 'min_sam...</td>\n",
       "      <td>1.000000</td>\n",
       "      <td>1.000000</td>\n",
       "      <td>0.910131</td>\n",
       "      <td>0.900187</td>\n",
       "    </tr>\n",
       "    <tr>\n",
       "      <th>8</th>\n",
       "      <td>{'criterion': 'gini', 'max_depth': 5, 'min_sam...</td>\n",
       "      <td>0.998758</td>\n",
       "      <td>0.998881</td>\n",
       "      <td>0.911111</td>\n",
       "      <td>0.896741</td>\n",
       "    </tr>\n",
       "  </tbody>\n",
       "</table>\n",
       "</div>"
      ],
      "text/plain": [
       "                                               params  mean_train_accuracy  \\\n",
       "16  {'criterion': 'gini', 'max_depth': 7, 'min_sam...             1.000000   \n",
       "36  {'criterion': 'entropy', 'max_depth': 7, 'min_...             1.000000   \n",
       "32  {'criterion': 'entropy', 'max_depth': 6, 'min_...             1.000000   \n",
       "12  {'criterion': 'gini', 'max_depth': 6, 'min_sam...             1.000000   \n",
       "8   {'criterion': 'gini', 'max_depth': 5, 'min_sam...             0.998758   \n",
       "\n",
       "    mean_train_f1_macro  mean_test_accuracy  mean_test_f1_macro  \n",
       "16             1.000000            0.921569            0.908349  \n",
       "36             1.000000            0.926797            0.920265  \n",
       "32             1.000000            0.926797            0.920265  \n",
       "12             1.000000            0.910131            0.900187  \n",
       "8              0.998881            0.911111            0.896741  "
      ]
     },
     "execution_count": 93,
     "metadata": {},
     "output_type": "execute_result"
    }
   ],
   "source": [
    "resultDF.sort_values(by = \"mean_train_accuracy\",ascending = False)[[\"params\",\"mean_train_accuracy\",\"mean_train_f1_macro\",\"mean_test_accuracy\",\"mean_test_f1_macro\"]].head()\n",
    "#Depth is more important than criterion. higher depth gave better f1 macro than a different criterion"
   ]
  },
  {
   "cell_type": "markdown",
   "metadata": {},
   "source": [
    "#### 12) [M] Discuss your findings. Did 10-fold make a difference? Did the additional parameters make a difference?\n",
    "\n",
    "10 fold  and the addition parameters did not make a difference. The default values actually worked better."
   ]
  },
  {
   "cell_type": "markdown",
   "metadata": {},
   "source": [
    "#### 13) Most of you should have some sort of multicore processor, even on the simplest laptops. You can easily take advantage of this. \n",
    "The default configuration of GridSearchCV is to NOT use any parallel processing, thus\n",
    "evaluating one model at a time. However, you could perhaps do 2 at a time! Do you have a CPU with more\n",
    "than 1 core? (Yes, you most likely do!)\n",
    "Redo the above, but try out the parameter n_jobs=2 (I also sometimes set pre_dispatch to the same\n",
    "number as n_jobs, just to control too much memory usage. Not really important for decision trees, but\n",
    "could be important for larger models. If you have a really juicy machine, try an even higher value of n_jobs.\n",
    "(NOTE: Don't go higher than the number of cores in your machine as you will slow down quite a bit.\n",
    "Experiment by starting with only 2, and incrementally increase. NOTE: Parallel jobs for large models such as\n",
    "neural nets can sometimes fail with a memory error. If this happens, just run with n_jobs=1.)\n",
    "If you are able, do some basic time comparisons with different values of n_jobs, just to see how much time\n",
    "you save by parallelizing your grid search. If you set it too high, you will start to discover diminishing returns,\n",
    "and will harm your timing more then help, so back off the value. I typically do something simple:\n",
    "import time\n",
    "start_ts = time.time()\n",
    "grid_result = grid.fit(X,y)\n",
    "end_ts = time.time()\n",
    "print(\"Time in seconds\", end-ts - start_ts)\n",
    "\n",
    "OK – You should notice that you were able to get better results by doing hyperparameter tuning (not to mention\n",
    "that an improved CV helped.) And, you should have noticed quite a boost in time by simply doubling the number of\n",
    "jobs you are completing simultaneously.\n",
    "Depending on the number of parameters you choose, and the cv value, and most importantly, the model,\n",
    "this can take an extraordinarily long time! Like, seriously long. Like, if you are not careful, you could be\n",
    "wait days for results! Serious grid search for hyperparameter tuning is typically very CPU intensive (and\n",
    "memory intensive for large datasets.) So, ALWAYS START SIMPLE! Use only a few parameters to explore,\n",
    "with few values, and a small CV number to start with. With neural nets, choose a small number of epochs\n",
    "to begin. Why? Confirm you are getting decent results first! Then, let your obsessive side kick into high\n",
    "gear, set your system to evaluate many different parameters, and then typically, you go to bed. J"
   ]
  },
  {
   "cell_type": "code",
   "execution_count": 99,
   "metadata": {},
   "outputs": [
    {
     "name": "stdout",
     "output_type": "stream",
     "text": [
      "Time in seconds 3.369025468826294\n",
      "Time in seconds 3.355405807495117\n",
      "Time in seconds 2.7651987075805664\n",
      "Time in seconds 1.760296106338501\n",
      "Time in seconds 3.0986931324005127\n",
      "Time in seconds 1.7943248748779297\n",
      "Time in seconds 1.9098429679870605\n"
     ]
    }
   ],
   "source": [
    "param_grid = {\n",
    "'criterion' : ['gini', 'entropy'],\n",
    "'max_depth' : [3,4,5,6,7],\n",
    "\"min_samples_split\": [2,5] ,\n",
    "\"min_samples_leaf\" : [1,2] \n",
    "}\n",
    "\n",
    "\n",
    "\n",
    "import time\n",
    "for jobs in range(1,8):\n",
    "    start_ts = time.time()\n",
    "    grid = GridSearchCV(DecisionTreeClassifier(), param_grid,return_train_score=True, cv=10, scoring = [\"accuracy\", \"f1_macro\"], refit = False,n_jobs = jobs)\n",
    "    grid_result = grid.fit(X,y)\n",
    "    end_ts = time.time()\n",
    "    print(\"Time in seconds\", end_ts - start_ts)\n",
    "\n",
    "resultDF = pd.DataFrame(grid_result.cv_results_)\n",
    "#4 jobs at a time performed fastest"
   ]
  },
  {
   "cell_type": "markdown",
   "metadata": {},
   "source": [
    "#### 14) OK. Now on to hyperparameter tuning for Keras. (CONSIDER YOURSELF WARNED! \n",
    "Neural nets take a long time\n",
    "to train compared to decision trees!) From the previous lab, copy over your code for the function\n",
    "create_keras_model(). Now, modify your base neural net structure to match the inputs and outputs\n",
    "for the wine dataset you are working on for this lab.\n",
    "Modify the parameters of your function to allow you to pass model parameters of interest. In particular, you\n",
    "are going to want to evaluate a different optimizer and activation values for the hidden layer, and\n",
    "vary the number of hidden units. Modify your function to take these three additional parameters. You may\n",
    "name the parameters whatever you want, though generally it's good to keep them the same as the actual\n",
    "parameters used as you build your model.\n",
    "Once you have your new function, create your Keras classifier with KerasClassifier(). When you call\n",
    "this function, this is where you pass parameters such as epochs and batch_size. You don't want to wait\n",
    "long, so just use epochs=5 and a batch_size=4. (I would advise starting with verbose=1, just to make\n",
    "sure your model is training properly, and you notice the accuracy increasing and loss decreasing, then set\n",
    "verbose=0 when doing a bigger grid search on the next step.)\n",
    "Test out your KerasClassifier() instance with the cross_val_predict() method you learned\n",
    "about in the previous lab, and print the results of classification_report. You can try to vary some\n",
    "parameters if you want, but don't spend a lot of time here."
   ]
  },
  {
   "cell_type": "code",
   "execution_count": 123,
   "metadata": {},
   "outputs": [
    {
     "name": "stdout",
     "output_type": "stream",
     "text": [
      "              precision    recall  f1-score   support\n",
      "\n",
      "           0       0.92      0.93      0.92        59\n",
      "           1       0.90      0.86      0.88        71\n",
      "           2       0.90      0.94      0.92        48\n",
      "\n",
      "   micro avg       0.90      0.90      0.90       178\n",
      "   macro avg       0.90      0.91      0.91       178\n",
      "weighted avg       0.90      0.90      0.90       178\n",
      " samples avg       0.90      0.90      0.90       178\n",
      "\n"
     ]
    }
   ],
   "source": [
    "from keras.models import Sequential\n",
    "from keras.layers import Dense, Activation\n",
    "def create_keras_model(optimizer,activation,units):\n",
    "        #different optimizer\n",
    "        #different activation for hidden layer\n",
    "        #vary number of hidden units\n",
    "    model = Sequential([Dense(units = units,input_shape = (len(X.columns),)),Activation(activation),Dense(units = 3),Activation(activation)])\n",
    "    model.compile(optimizer=optimizer, loss=\"categorical_crossentropy\",metrics=[\"accuracy\"])\n",
    "    return model\n",
    "\n",
    "#create classifier - Keras Classifier()\n",
    "#then pass params such as epochs= 5 and batch+soize = 4, verbose = 1. verbose = 0  awhen we do next....\n",
    "from keras.wrappers.scikit_learn import KerasClassifier\n",
    "clf = KerasClassifier(build_fn=create_keras_model, verbose=1, epochs=5,batch_size=4)\n",
    "#test keras classifier with cross_val_preduxt() and print results of classification report\n",
    "from sklearn.metrics import classification_report\n",
    "from sklearn.model_selection import cross_val_predict\n",
    "y_pred = cross_val_predict(DecisionTreeClassifier(),X,y,cv=10)\n",
    "print(classification_report(y,y_pred))"
   ]
  },
  {
   "cell_type": "markdown",
   "metadata": {},
   "source": [
    "#### 15) Use GridSearchCV on Keras (and prepare to wait several minutes!) \n",
    "First, create a param_grid\n",
    "dictionary. You must, minimally, specify the following keys:\n",
    "a) 'optimizer' : ['adam','sgd']\n",
    "b) number of hidden units : 2 different numbers of your choice\n",
    "c) 'activation' : ['relu']\n",
    "d) 'epochs' : [5, 10]\n",
    "e) 'batch_size' : [4, 8]\n",
    "Create a new classifier, but be sure verbose=0. Then, just like you did with the decision tree, wrap that\n",
    "classifier model in a GridSearchCV instance. Use a cross validation of 5 (though you can try more if you\n",
    "want.) Report your best model hyperparameters\n",
    "You should get some pretty good results!"
   ]
  },
  {
   "cell_type": "code",
   "execution_count": 124,
   "metadata": {},
   "outputs": [],
   "source": [
    "param_grid = { 'optimizer' : ['adam','sgd']\n",
    "              ,\"units\": [1,10] \n",
    "              ,'activation' : ['relu']\n",
    "              ,'epochs' : [5, 10]\n",
    "              ,'batch_size' : [4, 8]}\n",
    "clf = KerasClassifier(build_fn=create_keras_model, verbose=0, epochs=5,batch_size=4)\n",
    "\n",
    "grid = GridSearchCV(clf, param_grid,return_train_score=True, cv=5,n_jobs = 4)\n",
    "grid_result = grid.fit(X,y)"
   ]
  },
  {
   "cell_type": "markdown",
   "metadata": {},
   "source": [
    "#### 16) Study your results. Can you do even better? How close can you get to 100% accuracy on a 5- or 10-fold cross\n",
    "validation with Keras? Try a different activation... say... 'tanh'. Perhaps a few more hidden units? A bit\n",
    "larger batch size, but more epochs? See what happens...."
   ]
  },
  {
   "cell_type": "code",
   "execution_count": 133,
   "metadata": {},
   "outputs": [
    {
     "data": {
      "text/plain": [
       "3     0.457353\n",
       "7     0.455954\n",
       "15    0.455954\n",
       "9     0.452605\n",
       "0     0.331478\n",
       "1     0.331478\n",
       "2     0.331478\n",
       "4     0.331478\n",
       "5     0.331478\n",
       "6     0.331478\n",
       "8     0.331478\n",
       "10    0.331478\n",
       "11    0.331478\n",
       "12    0.331478\n",
       "13    0.331478\n",
       "14    0.331478\n",
       "Name: mean_train_score, dtype: float64"
      ]
     },
     "execution_count": 133,
     "metadata": {},
     "output_type": "execute_result"
    }
   ],
   "source": [
    "resultDF = pd.DataFrame(grid_result.cv_results_)\n",
    "resultDF.sort_values(by = 'mean_train_score', ascending = False)[\"mean_train_score\"]"
   ]
  },
  {
   "cell_type": "code",
   "execution_count": null,
   "metadata": {},
   "outputs": [],
   "source": []
  }
 ],
 "metadata": {
  "kernelspec": {
   "display_name": "Python 3",
   "language": "python",
   "name": "python3"
  },
  "language_info": {
   "codemirror_mode": {
    "name": "ipython",
    "version": 3
   },
   "file_extension": ".py",
   "mimetype": "text/x-python",
   "name": "python",
   "nbconvert_exporter": "python",
   "pygments_lexer": "ipython3",
   "version": "3.7.6"
  }
 },
 "nbformat": 4,
 "nbformat_minor": 4
}
