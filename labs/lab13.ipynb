{
 "cells": [
  {
   "cell_type": "markdown",
   "metadata": {},
   "source": [
    "# Lab 13 - Clustering I: K Means\n",
    "#### Name: Jake Schaeffer\n",
    "#### Class: CSCI 349 - Intro to Data Mining\n",
    "#### Semester: Spring 2020\n",
    "#### Instructor: Brian King"
   ]
  },
  {
   "cell_type": "code",
   "execution_count": 2,
   "metadata": {},
   "outputs": [],
   "source": [
    "import numpy as np\n",
    "import pandas as pd\n",
    "import matplotlib as mpl\n",
    "import matplotlib.pyplot as plt\n",
    "import seaborn as sns\n",
    "from sklearn.cluster import KMeans, AgglomerativeClustering\n",
    "from sklearn.metrics import silhouette_score,homogeneity_completeness_v_measure"
   ]
  },
  {
   "cell_type": "markdown",
   "metadata": {},
   "source": [
    "#### 1) [P] Copy the following code to build a very basic set of clustered data using the make_blobs function in sklearn.datasets.samples_generator"
   ]
  },
  {
   "cell_type": "code",
   "execution_count": 3,
   "metadata": {},
   "outputs": [],
   "source": [
    "from sklearn.datasets import make_blobs\n",
    "X, y_true = make_blobs(n_samples=60, centers=5,\n",
    "            cluster_std=(0.3,0.4,0.5,0.7,0.7),\n",
    "        center_box=(0, 8), random_state=1234)"
   ]
  },
  {
   "cell_type": "markdown",
   "metadata": {},
   "source": [
    "#### 2) [P] Convert your data into a single pandas data frame with three variables, \"x1\", \"x2\", and \"target\". \n",
    "The\n",
    "variable \"target\" will represent our ground truth, i.e. the correct cluster class. Be sure it is a true\n",
    "categorical variable. Show the first 5 observations, which should have two numeric variables, named \"x\" and\n",
    "\"y\", and one category, named \"target\"."
   ]
  },
  {
   "cell_type": "code",
   "execution_count": 4,
   "metadata": {},
   "outputs": [
    {
     "data": {
      "text/html": [
       "<div>\n",
       "<style scoped>\n",
       "    .dataframe tbody tr th:only-of-type {\n",
       "        vertical-align: middle;\n",
       "    }\n",
       "\n",
       "    .dataframe tbody tr th {\n",
       "        vertical-align: top;\n",
       "    }\n",
       "\n",
       "    .dataframe thead th {\n",
       "        text-align: right;\n",
       "    }\n",
       "</style>\n",
       "<table border=\"1\" class=\"dataframe\">\n",
       "  <thead>\n",
       "    <tr style=\"text-align: right;\">\n",
       "      <th></th>\n",
       "      <th>x</th>\n",
       "      <th>y</th>\n",
       "      <th>target</th>\n",
       "    </tr>\n",
       "  </thead>\n",
       "  <tbody>\n",
       "    <tr>\n",
       "      <th>0</th>\n",
       "      <td>3.920853</td>\n",
       "      <td>6.701244</td>\n",
       "      <td>1</td>\n",
       "    </tr>\n",
       "    <tr>\n",
       "      <th>1</th>\n",
       "      <td>7.349579</td>\n",
       "      <td>7.531876</td>\n",
       "      <td>4</td>\n",
       "    </tr>\n",
       "    <tr>\n",
       "      <th>2</th>\n",
       "      <td>2.415558</td>\n",
       "      <td>6.811551</td>\n",
       "      <td>3</td>\n",
       "    </tr>\n",
       "    <tr>\n",
       "      <th>3</th>\n",
       "      <td>1.471362</td>\n",
       "      <td>4.780079</td>\n",
       "      <td>0</td>\n",
       "    </tr>\n",
       "    <tr>\n",
       "      <th>4</th>\n",
       "      <td>2.536789</td>\n",
       "      <td>3.920516</td>\n",
       "      <td>3</td>\n",
       "    </tr>\n",
       "  </tbody>\n",
       "</table>\n",
       "</div>"
      ],
      "text/plain": [
       "          x         y target\n",
       "0  3.920853  6.701244      1\n",
       "1  7.349579  7.531876      4\n",
       "2  2.415558  6.811551      3\n",
       "3  1.471362  4.780079      0\n",
       "4  2.536789  3.920516      3"
      ]
     },
     "execution_count": 4,
     "metadata": {},
     "output_type": "execute_result"
    }
   ],
   "source": [
    "df = pd.DataFrame(X.tolist(), columns = [\"x\",\"y\"])\n",
    "#x1, x2, target = \n",
    "df[\"target\"] = pd.Categorical(y_true)\n",
    "df.head()"
   ]
  },
  {
   "cell_type": "markdown",
   "metadata": {},
   "source": [
    "#### 3) [P] Show the info() and a table of the counts of the \"target\" variable (you should have the same number of observations for each label)"
   ]
  },
  {
   "cell_type": "code",
   "execution_count": 5,
   "metadata": {},
   "outputs": [
    {
     "name": "stdout",
     "output_type": "stream",
     "text": [
      "<class 'pandas.core.frame.DataFrame'>\n",
      "RangeIndex: 60 entries, 0 to 59\n",
      "Data columns (total 3 columns):\n",
      "x         60 non-null float64\n",
      "y         60 non-null float64\n",
      "target    60 non-null category\n",
      "dtypes: category(1), float64(2)\n",
      "memory usage: 1.3 KB\n"
     ]
    }
   ],
   "source": [
    "df.info()"
   ]
  },
  {
   "cell_type": "code",
   "execution_count": 6,
   "metadata": {},
   "outputs": [
    {
     "data": {
      "text/html": [
       "<div>\n",
       "<style scoped>\n",
       "    .dataframe tbody tr th:only-of-type {\n",
       "        vertical-align: middle;\n",
       "    }\n",
       "\n",
       "    .dataframe tbody tr th {\n",
       "        vertical-align: top;\n",
       "    }\n",
       "\n",
       "    .dataframe thead th {\n",
       "        text-align: right;\n",
       "    }\n",
       "</style>\n",
       "<table border=\"1\" class=\"dataframe\">\n",
       "  <thead>\n",
       "    <tr style=\"text-align: right;\">\n",
       "      <th></th>\n",
       "      <th>x</th>\n",
       "      <th>y</th>\n",
       "    </tr>\n",
       "    <tr>\n",
       "      <th>target</th>\n",
       "      <th></th>\n",
       "      <th></th>\n",
       "    </tr>\n",
       "  </thead>\n",
       "  <tbody>\n",
       "    <tr>\n",
       "      <th>0</th>\n",
       "      <td>12</td>\n",
       "      <td>12</td>\n",
       "    </tr>\n",
       "    <tr>\n",
       "      <th>1</th>\n",
       "      <td>12</td>\n",
       "      <td>12</td>\n",
       "    </tr>\n",
       "    <tr>\n",
       "      <th>2</th>\n",
       "      <td>12</td>\n",
       "      <td>12</td>\n",
       "    </tr>\n",
       "    <tr>\n",
       "      <th>3</th>\n",
       "      <td>12</td>\n",
       "      <td>12</td>\n",
       "    </tr>\n",
       "    <tr>\n",
       "      <th>4</th>\n",
       "      <td>12</td>\n",
       "      <td>12</td>\n",
       "    </tr>\n",
       "  </tbody>\n",
       "</table>\n",
       "</div>"
      ],
      "text/plain": [
       "         x   y\n",
       "target        \n",
       "0       12  12\n",
       "1       12  12\n",
       "2       12  12\n",
       "3       12  12\n",
       "4       12  12"
      ]
     },
     "execution_count": 6,
     "metadata": {},
     "output_type": "execute_result"
    }
   ],
   "source": [
    "df.groupby(\"target\").count()"
   ]
  },
  {
   "cell_type": "markdown",
   "metadata": {},
   "source": [
    "#### 4) [P] Create a scatterplot of the data, using the target variable to color each cluster. You should have five colored clusters. Two classes should stand out as quite separate. Three will have some minor overlap."
   ]
  },
  {
   "cell_type": "code",
   "execution_count": 7,
   "metadata": {},
   "outputs": [
    {
     "data": {
      "text/plain": [
       "<matplotlib.collections.PathCollection at 0x21ad3e7d608>"
      ]
     },
     "execution_count": 7,
     "metadata": {},
     "output_type": "execute_result"
    },
    {
     "data": {
      "image/png": "[encoded data removed]",
      "text/plain": [
       "<Figure size 432x288 with 1 Axes>"
      ]
     },
     "metadata": {
      "needs_background": "light"
     },
     "output_type": "display_data"
    }
   ],
   "source": [
    "plt.scatter(df.x,df.y,c=df.target)"
   ]
  },
  {
   "cell_type": "markdown",
   "metadata": {},
   "source": [
    "#### 5) [P] Read the reference for KMeans. Now, create a clustering using KMeans. Let's assume you have prior knowledge that there are indeed 5clusters, but you aren't aware of ground truth. Thus, you can only assess the SSE and silhouette coefficient for your clustering.\n",
    "\n",
    "Print the inertia_ (SSE) and the silhouette_score results for this clustering."
   ]
  },
  {
   "cell_type": "code",
   "execution_count": 8,
   "metadata": {},
   "outputs": [
    {
     "name": "stdout",
     "output_type": "stream",
     "text": [
      "SSE(Inertia) :  25.674698692870933\n",
      "Silhouette score:  0.6193221245493099\n"
     ]
    }
   ],
   "source": [
    "kmeanStuff = KMeans(5).fit(X)\n",
    "print(\"SSE(Inertia) : \",kmeanStuff.inertia_)\n",
    "print(\"Silhouette score: \",silhouette_score(X,kmeanStuff.labels_))"
   ]
  },
  {
   "cell_type": "markdown",
   "metadata": {},
   "source": [
    "#### 6) [P] Generate a scatterplot again, however, now color the points based off of the labels generated by the clustering, and NOT the correct labels\n",
    "Add the centroids using a distinguishing color and size with an\n",
    "alpha=0.5.\n"
   ]
  },
  {
   "cell_type": "code",
   "execution_count": 9,
   "metadata": {},
   "outputs": [
    {
     "data": {
      "image/png": "[encoded data removed]",
      "text/plain": [
       "<Figure size 432x288 with 1 Axes>"
      ]
     },
     "metadata": {
      "needs_background": "light"
     },
     "output_type": "display_data"
    }
   ],
   "source": [
    "def plotKMeans(X,numCluster):\n",
    "    kmeanStuff = KMeans(numCluster).fit(X)\n",
    "    plt.scatter(df.x,df.y,c=kmeanStuff.labels_)\n",
    "    centroids = pd.DataFrame(kmeanStuff.cluster_centers_.tolist(), columns = [\"x\",\"y\"])\n",
    "    plt.scatter(centroids.x,centroids.y,c = \"red\",alpha = .5)\n",
    "    plt.show()\n",
    "plotKMeans(X,5)"
   ]
  },
  {
   "cell_type": "markdown",
   "metadata": {},
   "source": [
    "#### 7) [P] Generate the same plots with a KMeans clustering with k=3 and k=4. You'll need this to explain your next steps."
   ]
  },
  {
   "cell_type": "code",
   "execution_count": 10,
   "metadata": {},
   "outputs": [
    {
     "data": {
      "image/png": "[encoded data removed]",
      "text/plain": [
       "<Figure size 432x288 with 1 Axes>"
      ]
     },
     "metadata": {
      "needs_background": "light"
     },
     "output_type": "display_data"
    }
   ],
   "source": [
    "plotKMeans(X,4)"
   ]
  },
  {
   "cell_type": "code",
   "execution_count": 11,
   "metadata": {},
   "outputs": [
    {
     "data": {
      "image/png": "[encoded data removed]",
      "text/plain": [
       "<Figure size 432x288 with 1 Axes>"
      ]
     },
     "metadata": {
      "needs_background": "light"
     },
     "output_type": "display_data"
    }
   ],
   "source": [
    "plotKMeans(X,3)"
   ]
  },
  {
   "cell_type": "markdown",
   "metadata": {},
   "source": [
    "#### 8) [P] Let's take a step backward and assume that you are uncertain about how many actual clusters you have.\n",
    "Evaluate cluster sizes from 2 through 10. Create a data frame that stores the SSE and the silhouette score for\n",
    "each k. Show the resulting data frame."
   ]
  },
  {
   "cell_type": "code",
   "execution_count": 12,
   "metadata": {},
   "outputs": [
    {
     "data": {
      "text/html": [
       "<div>\n",
       "<style scoped>\n",
       "    .dataframe tbody tr th:only-of-type {\n",
       "        vertical-align: middle;\n",
       "    }\n",
       "\n",
       "    .dataframe tbody tr th {\n",
       "        vertical-align: top;\n",
       "    }\n",
       "\n",
       "    .dataframe thead th {\n",
       "        text-align: right;\n",
       "    }\n",
       "</style>\n",
       "<table border=\"1\" class=\"dataframe\">\n",
       "  <thead>\n",
       "    <tr style=\"text-align: right;\">\n",
       "      <th></th>\n",
       "      <th>SSE (Inertia)</th>\n",
       "      <th>Silhouette Score</th>\n",
       "    </tr>\n",
       "  </thead>\n",
       "  <tbody>\n",
       "    <tr>\n",
       "      <th>2</th>\n",
       "      <td>208.38</td>\n",
       "      <td>0.591168</td>\n",
       "    </tr>\n",
       "    <tr>\n",
       "      <th>3</th>\n",
       "      <td>70.4956</td>\n",
       "      <td>0.716448</td>\n",
       "    </tr>\n",
       "    <tr>\n",
       "      <th>4</th>\n",
       "      <td>33.5804</td>\n",
       "      <td>0.653255</td>\n",
       "    </tr>\n",
       "    <tr>\n",
       "      <th>5</th>\n",
       "      <td>25.6747</td>\n",
       "      <td>0.619322</td>\n",
       "    </tr>\n",
       "    <tr>\n",
       "      <th>6</th>\n",
       "      <td>20.0225</td>\n",
       "      <td>0.587421</td>\n",
       "    </tr>\n",
       "    <tr>\n",
       "      <th>7</th>\n",
       "      <td>16.8359</td>\n",
       "      <td>0.519022</td>\n",
       "    </tr>\n",
       "    <tr>\n",
       "      <th>8</th>\n",
       "      <td>14.1487</td>\n",
       "      <td>0.468039</td>\n",
       "    </tr>\n",
       "    <tr>\n",
       "      <th>9</th>\n",
       "      <td>12.9121</td>\n",
       "      <td>0.437714</td>\n",
       "    </tr>\n",
       "    <tr>\n",
       "      <th>10</th>\n",
       "      <td>11.7654</td>\n",
       "      <td>0.405661</td>\n",
       "    </tr>\n",
       "  </tbody>\n",
       "</table>\n",
       "</div>"
      ],
      "text/plain": [
       "   SSE (Inertia) Silhouette Score\n",
       "2         208.38         0.591168\n",
       "3        70.4956         0.716448\n",
       "4        33.5804         0.653255\n",
       "5        25.6747         0.619322\n",
       "6        20.0225         0.587421\n",
       "7        16.8359         0.519022\n",
       "8        14.1487         0.468039\n",
       "9        12.9121         0.437714\n",
       "10       11.7654         0.405661"
      ]
     },
     "execution_count": 12,
     "metadata": {},
     "output_type": "execute_result"
    }
   ],
   "source": [
    "kmScores = pd.DataFrame(index = [i for i in range(2,11)],columns = [\"SSE (Inertia)\", \"Silhouette Score\"])\n",
    "for i in range(2,11):\n",
    "    kms = KMeans(i).fit(X)\n",
    "    kmScores.at[i,\"SSE (Inertia)\"] = kms.inertia_ #SSE\n",
    "    kmScores.at[i,\"Silhouette Score\"] = silhouette_score(X,kms.labels_)\n",
    "kmScores"
   ]
  },
  {
   "cell_type": "markdown",
   "metadata": {},
   "source": [
    "#### 9) [P] Show the elbow plot (i.e. a line plot) of both measures on separate graphs. Use k as the x axis."
   ]
  },
  {
   "cell_type": "code",
   "execution_count": 13,
   "metadata": {},
   "outputs": [
    {
     "name": "stdout",
     "output_type": "stream",
     "text": [
      "SSE\n"
     ]
    },
    {
     "data": {
      "image/png": "[encoded data removed]",
      "text/plain": [
       "<Figure size 432x288 with 1 Axes>"
      ]
     },
     "metadata": {
      "needs_background": "light"
     },
     "output_type": "display_data"
    },
    {
     "name": "stdout",
     "output_type": "stream",
     "text": [
      "Silhouette Score\n"
     ]
    },
    {
     "data": {
      "image/png": "[encoded data removed]",
      "text/plain": [
       "<Figure size 432x288 with 1 Axes>"
      ]
     },
     "metadata": {
      "needs_background": "light"
     },
     "output_type": "display_data"
    }
   ],
   "source": [
    "print(\"SSE\")\n",
    "plt.plot(kmScores.index,kmScores.iloc[:,0])\n",
    "plt.xlabel(\"k\")\n",
    "plt.show()\n",
    "print(\"Silhouette Score\")\n",
    "plt.plot(kmScores.index,kmScores.iloc[:,1])\n",
    "plt.show()\n",
    "#plt.figure(figsize = (12,6))"
   ]
  },
  {
   "cell_type": "markdown",
   "metadata": {},
   "source": [
    "#### 10) [M] What does the SSE suggest is the best value of k? What about the silhouette coefficient? \n",
    "Refer to your\n",
    "three plots above to help you explain what happened. Why do you think there are these discrepancies?\n",
    "(If you have the interest, you should go back and regenerate your data with much smaller cluster_std values...\n",
    "and you'll see much more consistent results! That tells you something about how well these techniques work\n",
    "when your data are not linearly separable, and when your clusters are not all equally distributed.)"
   ]
  },
  {
   "cell_type": "markdown",
   "metadata": {},
   "source": [
    "the SSE suggests that the best value of k is 3 or 4 because that is where to elbow is. this means that the amount closer we can get points to a centroid will no longer increase  a lot if we add another centroid. The silhoutte coefficient is best when k is 3, and second best at 4. The reason these metrics show that 3 is better than any other value is because there are three distinct collections of points when looking at the graph visually. When the clusters are closer together, they have a better defined space. In the example with 5 blobs, the 3 are so close together that the metrics show 3 clusters to be the best way of categorizing, even though the actual number is 5."
   ]
  },
  {
   "cell_type": "markdown",
   "metadata": {},
   "source": [
    "#### 11) [P] Now, re-generate your clustering for k=5. You will likely notice that your labels will be different colors than\n",
    "your original labels. That's annoying. Write the code to remap your cluster labels to use the same order as\n",
    "your labels as your ground truth. And, re-generate the correct plot, AND the clustered plot. This will make it\n",
    "easier to distinguish the observations that have different labels between the plots.\n",
    "(HINT: How? Perhaps the easiest approach is to use the contingency_matrix function in\n",
    "sklearn.metrics.cluster package. Show the output of that, then think about how you can use that to\n",
    "get the best mapping.)\n",
    "If you do it correctly, you should have two plots that look very, very similar:\n",
    "\n",
    "Your plots might be slightly different, but you should see at least a couple of points that were partitioned into\n",
    "the wrong cluster."
   ]
  },
  {
   "cell_type": "code",
   "execution_count": 130,
   "metadata": {},
   "outputs": [
    {
     "data": {
      "image/png": "[encoded data removed]",
      "text/plain": [
       "<Figure size 432x288 with 1 Axes>"
      ]
     },
     "metadata": {
      "needs_background": "light"
     },
     "output_type": "display_data"
    }
   ],
   "source": [
    "plotKMeans(X,5)"
   ]
  },
  {
   "cell_type": "markdown",
   "metadata": {},
   "source": [
    "#### 12) Re-generate your two plots above into a single plot that clearly highlights every point that has been assigned\n",
    "to an incorrect correct cluster. For example, here is one approach you could use:"
   ]
  },
  {
   "cell_type": "markdown",
   "metadata": {},
   "source": [
    "#### 13) [M] Since we do have ground truth, there are several metrics that are used to assess the quality of your\n",
    "clustering. Read the section on clustering performance evaluation in Scikit-learn's documentation page:\n",
    "https://scikit-learn.org/stable/modules/clustering.html#clustering-evaluation\n",
    "Pay close attention to the following: Adjusted Rand Index, Homogeneity, Completeness, and V-measure. In\n",
    "this section, very briefly describe each of these four measures. Though we did not explicitly cover them in\n",
    "class, these are good to know."
   ]
  },
  {
   "cell_type": "markdown",
   "metadata": {},
   "source": [
    "#### 14) [P] Create a new data frame that contains these four measures for all KMeans clusterings of k between 2-10.\n",
    "As before, show your data frame, then generate a plot for each. However, since each of these falls on the\n",
    "same scale, you could generate them on one plot, or show them as subplots."
   ]
  },
  {
   "cell_type": "markdown",
   "metadata": {},
   "source": [
    "#### 15) [P] OPTIONAL – A benchmark dataset has been going around called the diamonds dataset. It's a rich dataset\n",
    "of 53940 rows over 10 variables. Each row represents various characteristics of diamonds. The primary\n",
    "motivation of these data is to challenge the machine learning community to predict the price of a diamond,\n",
    "based on the other 9 characteristics.\n",
    "Load in the data as follows:\n",
    "df_diamonds = sns.load_dataset(\"diamonds\")\n",
    "This page has good info about the variables: https://www.kaggle.com/shivam2503/diamonds\n",
    "Your aim right now is to simply assess the following - are there any natural clusterings of these data? If so,\n",
    "over which variables? How many clusters? (NOTE: If you are computing the silhouette over many values of k,\n",
    "this could take a bit of time.)\n",
    "(NOTE: don't spend too much time on this yet. The next lab will repeat this question, but allow you to use\n",
    "Hierarchical Agglomerative clustering to help you answer the question.)"
   ]
  }
 ],
 "metadata": {
  "kernelspec": {
   "display_name": "Python 3",
   "language": "python",
   "name": "python3"
  },
  "language_info": {
   "codemirror_mode": {
    "name": "ipython",
    "version": 3
   },
   "file_extension": ".py",
   "mimetype": "text/x-python",
   "name": "python",
   "nbconvert_exporter": "python",
   "pygments_lexer": "ipython3",
   "version": "3.7.6"
  }
 },
 "nbformat": 4,
 "nbformat_minor": 4
}
