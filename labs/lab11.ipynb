{
 "cells": [
  {
   "cell_type": "markdown",
   "metadata": {},
   "source": [
    "# Lab 11 - Keras\n",
    "#### Name: Jake Schaeffer\n",
    "#### Class: CSCI 349 - Intro to Data Mining\n",
    "#### Semester: Spring 2020\n",
    "#### Instructor: Brian King"
   ]
  },
  {
   "cell_type": "markdown",
   "metadata": {},
   "source": [
    "#### 1) What is an artificial neural network (ANN)?"
   ]
  },
  {
   "cell_type": "markdown",
   "metadata": {},
   "source": [
    "A computational model that simulates what the brain does by using artificial abstractions of neurons. These perceptrons translate inputs into outputs by aggregating weighted inputs, combining with bias, and putting them into an activation function."
   ]
  },
  {
   "cell_type": "markdown",
   "metadata": {},
   "source": [
    "#### 2) What is deep learning? How does it relate to an ANN?"
   ]
  },
  {
   "cell_type": "markdown",
   "metadata": {},
   "source": [
    "Deep learning uses an artificial neural network to \"teach\" how to classify data based on inputs. It does this by updating weights on inputs to perceptrons in order to better represent the boundary between activation and not. By adjusting weights to decrease error, we can make the model better and thus make are classification better."
   ]
  },
  {
   "cell_type": "markdown",
   "metadata": {},
   "source": [
    "#### 3) Name a couple of examples where deep learning has made a tremendous impact."
   ]
  },
  {
   "cell_type": "markdown",
   "metadata": {},
   "source": [
    "Speech recognition - aiding someone that cannot use traditional control methods  \n",
    "Finding anomalies in pictures - like tumors  \n",
    "Identifying objects - like with self driving cars  "
   ]
  },
  {
   "cell_type": "markdown",
   "metadata": {},
   "source": [
    "#### 4) Briefly, what is the feedforward algorithm with a neural net?"
   ]
  },
  {
   "cell_type": "markdown",
   "metadata": {},
   "source": [
    "Feeding inputs through the neural net. The information moves linearly, and weights sareconstantly being updated after every batch."
   ]
  },
  {
   "cell_type": "markdown",
   "metadata": {},
   "source": [
    "#### 5) In the context of machine learning, what is a loss function?"
   ]
  },
  {
   "cell_type": "markdown",
   "metadata": {},
   "source": [
    "The loss function, or error function measures how far off the output from the model is from the actual. We can use the amount of loss to determine the best weights. Less loss = better weights."
   ]
  },
  {
   "cell_type": "markdown",
   "metadata": {},
   "source": [
    "#### 6) What is gradient descent? And how is the loss function a critical part of gradient descent?"
   ]
  },
  {
   "cell_type": "markdown",
   "metadata": {},
   "source": [
    "By looking at what changes the the inputs of the cost function reduce costs the most, we can figure out what direction we should go with the inputs in order to reduce the cost the most. In other words, gradient descent shows how the cost function will change with different weights and biases. It uses the derivative of the cost function. https://ml-cheatsheet.readthedocs.io/en/latest/gradient_descent.html. So if reducing the bias of input i reduces cost more than increasing it, we should reduce the bais of input i. https://www.analyticsvidhya.com/blog/2017/03/introduction-to-gradient-descent-algorithm-along-its-variants/"
   ]
  },
  {
   "cell_type": "markdown",
   "metadata": {},
   "source": [
    "#### 7) Training a neural net involves the backpropagation algorithm. In a few sentences, describe what this algorithm does."
   ]
  },
  {
   "cell_type": "markdown",
   "metadata": {},
   "source": [
    "Backpropagation looks at how much the cost changes when the inputs to the cost function are changed. For this, we must be able to average all the cost functions that are functons of the output.\n",
    "http://neuralnetworksanddeeplearning.com/chap2.html"
   ]
  },
  {
   "cell_type": "markdown",
   "metadata": {},
   "source": [
    "#### 8) What is the difference between batch gradient descent and stochastic gradient descent?"
   ]
  },
  {
   "cell_type": "markdown",
   "metadata": {},
   "source": [
    "In batch, all data is used every iteration of the descent. In stochastic, only one piece of data is used for every iteration of the descent.\n",
    "\n",
    "https://towardsdatascience.com/batch-mini-batch-stochastic-gradient-descent-7a62ecba642a"
   ]
  },
  {
   "cell_type": "markdown",
   "metadata": {},
   "source": [
    "#### 9) In the context of neural network training, explain the terms epoch and batch."
   ]
  },
  {
   "cell_type": "markdown",
   "metadata": {},
   "source": [
    "A batch is the data that gets used by the model in one iteration. An epoch is the once we have used all the data in the model. For instance, if we separated the data into 10 batches and used one batch every iteration, we would need to iterate 10 times, each time with a different batch in order to get through one epoch."
   ]
  },
  {
   "cell_type": "markdown",
   "metadata": {},
   "source": [
    "#### 10) In the context of machine learning, what is a hyperparameter?"
   ]
  },
  {
   "cell_type": "markdown",
   "metadata": {},
   "source": [
    "A hyperparameter is a parameter that does not change within the model. It is set outside of the model's iterative process.\n",
    "\n",
    "https://towardsdatascience.com/hyperparameter-tuning-c5619e7e6624"
   ]
  },
  {
   "cell_type": "markdown",
   "metadata": {},
   "source": [
    "#### 11) In the context of neural nets training, what are examples of hyperparameters that can affect model performance?"
   ]
  },
  {
   "cell_type": "markdown",
   "metadata": {},
   "source": [
    "Learning rate, number of epochs, hidden layers, hidden units, activation functions. https://towardsdatascience.com/understanding-hyperparameters-and-its-optimisation-techniques-f0debba07568"
   ]
  },
  {
   "cell_type": "markdown",
   "metadata": {},
   "source": [
    "#### 12) What is an activation function?"
   ]
  },
  {
   "cell_type": "markdown",
   "metadata": {},
   "source": [
    "An activation function takes in all inputs (bias, weighted inputs) and determines whether the perceptron is activated or not. Typically this is a threshold."
   ]
  },
  {
   "cell_type": "markdown",
   "metadata": {},
   "source": [
    "#### 13) Most agree that the most popular activation functions are sigmoid, hyperbolic tangent (tanh), softmax, and ReLu (rectified linear unit). Compare and contrast each, using whatever resources you want. Again, 1-2 sentences for each Is sufficient."
   ]
  },
  {
   "cell_type": "markdown",
   "metadata": {},
   "source": [
    "Sigmoid is 0-1 and differentiable and monotonic. S shaped. slow convergence. saturate and kills gradients.  \n",
    "Hyperbolic tangent is a sigmoid but better. range is -1 to 1.being 0 centered makes it easier to optimized. still kills gradient  \n",
    "Softmax. more generalized logistic activation fuction which is used for multiclass classification. Good for outer layers.  \n",
    "\n",
    "ReLu has 6 times better convergence than tanh. Rectifies vanishing gradient problem. 0 when independent var is <0 and =to independent when >=0  . Most commonly used.  Good for hidden layers.Can result in dead Neurons. \n",
    "  \n",
    "https://towardsdatascience.com/activation-functions-neural-networks-1cbd9f8d91d6\n",
    "https://towardsdatascience.com/activation-functions-and-its-types-which-is-better-a9a5310cc8f"
   ]
  },
  {
   "cell_type": "markdown",
   "metadata": {},
   "source": [
    "#### 14) Why is ReLu so popular for large, deep learning networks?"
   ]
  },
  {
   "cell_type": "markdown",
   "metadata": {},
   "source": [
    "ReLu does not Saturate. It doesn't have the vanishing gradient problem. It is also quite cheap to compute converges faster, and is activated sparsely. All of these characteristics are advantageous when dealing with large deep netoworks that have a lot of nodes."
   ]
  },
  {
   "cell_type": "markdown",
   "metadata": {},
   "source": [
    "#### 15) Why is softmax most appropriate for the output layer, especially for classification problems?"
   ]
  },
  {
   "cell_type": "markdown",
   "metadata": {},
   "source": [
    "It limits the output to being between 0 and 1, so that the output can easily be interpreted as a probability. In addition, due to their advantages with multi-class, they are good at combining multiple probabilities together.  \n",
    "https://deepai.org/machine-learning-glossary-and-terms/softmax-layer"
   ]
  },
  {
   "cell_type": "markdown",
   "metadata": {},
   "source": [
    "#### 16) What does ReLu sometimes suffer from, and how does a Leaky ReLu activation address it?\n"
   ]
  },
  {
   "cell_type": "markdown",
   "metadata": {},
   "source": [
    "Large weight updates can make th sum of he input into the activation function always be negative. This makes it a dead neuron because it never will activate. In order to avoid this, we can use Leaky Relu, which allows for negative values for when input is a little less than 0.  \n",
    "https://machinelearningmastery.com/rectified-linear-activation-function-for-deep-learning-neural-networks/"
   ]
  },
  {
   "cell_type": "markdown",
   "metadata": {},
   "source": [
    "#### 17) What is Tensorflow? Who created it?"
   ]
  },
  {
   "cell_type": "markdown",
   "metadata": {},
   "source": [
    "Tensor flow is a library that is centered around neural networks. It was created by the Google Brain team."
   ]
  },
  {
   "cell_type": "markdown",
   "metadata": {},
   "source": [
    "#### 18) What are tensors?"
   ]
  },
  {
   "cell_type": "markdown",
   "metadata": {},
   "source": [
    "Tensors are generalizations of vectors and matrices. They are represented as n-dimensional arrays."
   ]
  },
  {
   "cell_type": "markdown",
   "metadata": {},
   "source": [
    "#### 19) What is keras? Who created it?"
   ]
  },
  {
   "cell_type": "markdown",
   "metadata": {},
   "source": [
    "Keras is a neural network library for python. It can run on top of tensorflow. It is a handyh interface that makes it easy to do quick experiments with deep neural networks.\n",
    "\n",
    "https://www.tensorflow.org/guide/keras/overview"
   ]
  },
  {
   "cell_type": "markdown",
   "metadata": {},
   "source": [
    "#### 20) Explain the relationship between keras and tensorflow. How are they similar? Different?"
   ]
  },
  {
   "cell_type": "markdown",
   "metadata": {},
   "source": [
    "Keras can be built on top of tensorflow. Keras is only highlevel while tensorflow is both high and low level. Keras is specifically for python so it is arguably easier to use than tensorflow."
   ]
  },
  {
   "cell_type": "markdown",
   "metadata": {},
   "source": [
    "#### 21) Describe what the Sequential class represents"
   ]
  },
  {
   "cell_type": "markdown",
   "metadata": {},
   "source": [
    "It is a linear stack of layers. These layers can be used for a neural net. "
   ]
  },
  {
   "cell_type": "markdown",
   "metadata": {},
   "source": [
    "#### 22) What is a layer? How is a layer added to a model?"
   ]
  },
  {
   "cell_type": "markdown",
   "metadata": {},
   "source": [
    "A Layer connects one tensor to the next. A layer has nodes that can be thought of like neurons. A layer can be added in multiple ways. The simplest would be the add() method of the model."
   ]
  },
  {
   "cell_type": "markdown",
   "metadata": {},
   "source": [
    "#### 23) What is a Dense layer?"
   ]
  },
  {
   "cell_type": "markdown",
   "metadata": {},
   "source": [
    "A dense layer has many nodes. It recieves input from all the previous neurons."
   ]
  },
  {
   "cell_type": "markdown",
   "metadata": {},
   "source": [
    "#### 24) What does the compile method do for a model, and what two parameters are required to compile every model?"
   ]
  },
  {
   "cell_type": "markdown",
   "metadata": {},
   "source": [
    "Compile configures the model for training. And requires an optimizer as well as metrics."
   ]
  },
  {
   "cell_type": "code",
   "execution_count": 83,
   "metadata": {},
   "outputs": [],
   "source": [
    "from sklearn.model_selection import train_test_split, KFold\n",
    "from sklearn.metrics import classification_report, confusion_matrix\n",
    "from keras.models import Sequential\n",
    "from keras.layers.core import Dense, Activation\n",
    "import numpy as np\n",
    "import pandas as pd\n",
    "import matplotlib.pyplot as plt\n",
    "import seaborn as sns\n",
    "import plotly\n",
    "from sklearn.preprocessing import StandardScaler"
   ]
  },
  {
   "cell_type": "markdown",
   "metadata": {},
   "source": [
    "#### 1) [P] Copy over your code from the previous lab that read in and pre-processed the iris dataset from seaborn. You should have a pandas dataframe that contains four numeric variables and one categorical variable representing the target class. You should have one dataframe X and a dataframe y representing the target class. Do not split your data into training and testing data yet.\n",
    "NORMALLY, I would always expect some EDA tasks to be performed to understand the distributions of your\n",
    "data (i.e. the center, shape, spread of your variables, etc). However, you did a lot of that in the previous lab.\n",
    "Generally, these variables have very similar distributions, with centers that are near each other. Thus,\n",
    "technically, you really don't need to standardize your variables. However, for most models we've learned\n",
    "about, it's a good idea. So, if you did not standardize, go ahead and do that to your X dataframe now using a\n",
    "z-score standardization. (All variables are numeric, so this is quite straightforward.)"
   ]
  },
  {
   "cell_type": "code",
   "execution_count": 84,
   "metadata": {},
   "outputs": [],
   "source": [
    "df_iris = sns.load_dataset('iris')"
   ]
  },
  {
   "cell_type": "code",
   "execution_count": 85,
   "metadata": {},
   "outputs": [
    {
     "data": {
      "text/html": [
       "<div>\n",
       "<style scoped>\n",
       "    .dataframe tbody tr th:only-of-type {\n",
       "        vertical-align: middle;\n",
       "    }\n",
       "\n",
       "    .dataframe tbody tr th {\n",
       "        vertical-align: top;\n",
       "    }\n",
       "\n",
       "    .dataframe thead th {\n",
       "        text-align: right;\n",
       "    }\n",
       "</style>\n",
       "<table border=\"1\" class=\"dataframe\">\n",
       "  <thead>\n",
       "    <tr style=\"text-align: right;\">\n",
       "      <th></th>\n",
       "      <th>sepal_length</th>\n",
       "      <th>sepal_width</th>\n",
       "      <th>petal_length</th>\n",
       "      <th>petal_width</th>\n",
       "    </tr>\n",
       "  </thead>\n",
       "  <tbody>\n",
       "    <tr>\n",
       "      <th>0</th>\n",
       "      <td>-0.900681</td>\n",
       "      <td>1.019004</td>\n",
       "      <td>-1.340227</td>\n",
       "      <td>-1.315444</td>\n",
       "    </tr>\n",
       "    <tr>\n",
       "      <th>1</th>\n",
       "      <td>-1.143017</td>\n",
       "      <td>-0.131979</td>\n",
       "      <td>-1.340227</td>\n",
       "      <td>-1.315444</td>\n",
       "    </tr>\n",
       "    <tr>\n",
       "      <th>2</th>\n",
       "      <td>-1.385353</td>\n",
       "      <td>0.328414</td>\n",
       "      <td>-1.397064</td>\n",
       "      <td>-1.315444</td>\n",
       "    </tr>\n",
       "    <tr>\n",
       "      <th>3</th>\n",
       "      <td>-1.506521</td>\n",
       "      <td>0.098217</td>\n",
       "      <td>-1.283389</td>\n",
       "      <td>-1.315444</td>\n",
       "    </tr>\n",
       "    <tr>\n",
       "      <th>4</th>\n",
       "      <td>-1.021849</td>\n",
       "      <td>1.249201</td>\n",
       "      <td>-1.340227</td>\n",
       "      <td>-1.315444</td>\n",
       "    </tr>\n",
       "    <tr>\n",
       "      <th>...</th>\n",
       "      <td>...</td>\n",
       "      <td>...</td>\n",
       "      <td>...</td>\n",
       "      <td>...</td>\n",
       "    </tr>\n",
       "    <tr>\n",
       "      <th>145</th>\n",
       "      <td>1.038005</td>\n",
       "      <td>-0.131979</td>\n",
       "      <td>0.819596</td>\n",
       "      <td>1.448832</td>\n",
       "    </tr>\n",
       "    <tr>\n",
       "      <th>146</th>\n",
       "      <td>0.553333</td>\n",
       "      <td>-1.282963</td>\n",
       "      <td>0.705921</td>\n",
       "      <td>0.922303</td>\n",
       "    </tr>\n",
       "    <tr>\n",
       "      <th>147</th>\n",
       "      <td>0.795669</td>\n",
       "      <td>-0.131979</td>\n",
       "      <td>0.819596</td>\n",
       "      <td>1.053935</td>\n",
       "    </tr>\n",
       "    <tr>\n",
       "      <th>148</th>\n",
       "      <td>0.432165</td>\n",
       "      <td>0.788808</td>\n",
       "      <td>0.933271</td>\n",
       "      <td>1.448832</td>\n",
       "    </tr>\n",
       "    <tr>\n",
       "      <th>149</th>\n",
       "      <td>0.068662</td>\n",
       "      <td>-0.131979</td>\n",
       "      <td>0.762758</td>\n",
       "      <td>0.790671</td>\n",
       "    </tr>\n",
       "  </tbody>\n",
       "</table>\n",
       "<p>150 rows × 4 columns</p>\n",
       "</div>"
      ],
      "text/plain": [
       "     sepal_length  sepal_width  petal_length  petal_width\n",
       "0       -0.900681     1.019004     -1.340227    -1.315444\n",
       "1       -1.143017    -0.131979     -1.340227    -1.315444\n",
       "2       -1.385353     0.328414     -1.397064    -1.315444\n",
       "3       -1.506521     0.098217     -1.283389    -1.315444\n",
       "4       -1.021849     1.249201     -1.340227    -1.315444\n",
       "..            ...          ...           ...          ...\n",
       "145      1.038005    -0.131979      0.819596     1.448832\n",
       "146      0.553333    -1.282963      0.705921     0.922303\n",
       "147      0.795669    -0.131979      0.819596     1.053935\n",
       "148      0.432165     0.788808      0.933271     1.448832\n",
       "149      0.068662    -0.131979      0.762758     0.790671\n",
       "\n",
       "[150 rows x 4 columns]"
      ]
     },
     "execution_count": 85,
     "metadata": {},
     "output_type": "execute_result"
    }
   ],
   "source": [
    "df_iris.species = pd.Categorical(df_iris.species)\n",
    "X = df_iris.iloc[:,:4]\n",
    "y = pd.DataFrame(df_iris.iloc[:,4])\n",
    "scaler = StandardScaler()\n",
    "scaler.fit(X)\n",
    "X = pd.DataFrame(scaler.transform(X),columns = X.columns)\n",
    "X"
   ]
  },
  {
   "cell_type": "markdown",
   "metadata": {},
   "source": [
    "#### 2) [P] Shuffle your data in your data frames. This will be important for later exercises. Read about the shuffle() function in sklearn.utils. Import it, and use it to shuffle your X and y data frames. Use random_state=0. Remember – it returns the shuffled data! So, be sure to reassign X and y."
   ]
  },
  {
   "cell_type": "code",
   "execution_count": 86,
   "metadata": {},
   "outputs": [],
   "source": [
    "from sklearn.utils import shuffle\n",
    "X = shuffle(X,random_state = 0)\n",
    "y = shuffle(y,random_state = 0)"
   ]
  },
  {
   "cell_type": "markdown",
   "metadata": {},
   "source": [
    "#### 3) [P] Use train_test_split to split your data, but this time, let's use an even smaller split, using a 50/50 split, initializing with a random state of 0. (Why? This is a relatively simple dataset. Let's make the problem a bit more challenging by introducing a smaller training data size.) Completing this will result in X_train, X_test, y_train and y_test data frames, both with 75 instances."
   ]
  },
  {
   "cell_type": "code",
   "execution_count": 87,
   "metadata": {},
   "outputs": [],
   "source": [
    "from sklearn.model_selection import train_test_split\n",
    "X_train, X_test, y_train, y_test = train_test_split(X,y, test_size = .5, train_size = .5,random_state = 0)"
   ]
  },
  {
   "cell_type": "markdown",
   "metadata": {},
   "source": [
    "#### 4) [M] How many inputs will your network need to have?"
   ]
  },
  {
   "cell_type": "markdown",
   "metadata": {},
   "source": [
    "4 because there are 4 variables. (sepal width and length, petal width and length)"
   ]
  },
  {
   "cell_type": "markdown",
   "metadata": {},
   "source": [
    "#### 5) [M] Consider the outputs required for a neural network. Remember that the iris dataset is a multi-class dataset. It has to predict three different, categorical values. How do you represent a multi-class target variable in a model like a neural net? For the iris data, what does the final layer of your neural net structure need to look like?"
   ]
  },
  {
   "cell_type": "markdown",
   "metadata": {},
   "source": [
    "Have 3 possible outputs for the outer layer. And have the target binarized. The final layer needs to have 3 outputs, each representing the probability of each class."
   ]
  },
  {
   "cell_type": "markdown",
   "metadata": {},
   "source": [
    "#### 6) [P] Write the code to convert the iris target variables (i.e. y_train and y_test) to a set of binarized variables derived from the target class variable (why? Hopefully you figured out why based on your previous answer!)\n",
    "With iris, this means that the \"species\" variable should be converted to a data frame (or numpy\n",
    "array) of three variables, one representing each species. (HINT: as usual, there are many ways to do this. I\n",
    "like pandas get_dummies() or scikit-learn's OneHotEncoder.)\n",
    "OK. You are now going to build a very basic ANN structure with only one hidden layer. Feel free to explore more\n",
    "complex structures, just for practice, but for this simple dataset, you won't need it. For this first exercise, I'll step\n",
    "you through the basics, but you are encouraged to document the &#^!%$ out of each line, as you want to work\n",
    "toward a solid understanding of what you are doing here! Don't just blindly copy and paste what you see online. If\n",
    "you don't document and understand, you will NOT have the guidance and confidence to work through the next\n",
    "assignment. It will be far more challenging.\n",
    "Each line tells you to complete a task. The process is laid out exhaustively to ensure that you understand every\n",
    "critical step toward building the structure of a neural net, train it, and then use it. (HINT: As stated above, be sure\n",
    "to open a page to the Keras documentation referred to above!)"
   ]
  },
  {
   "cell_type": "code",
   "execution_count": 88,
   "metadata": {},
   "outputs": [],
   "source": [
    "y_train = pd.get_dummies(y_train)\n",
    "y_test_unbinarized = y_test.copy()\n",
    "y_test = pd.get_dummies(y_test)"
   ]
  },
  {
   "cell_type": "markdown",
   "metadata": {},
   "source": [
    "#### 7) Create an instance of Sequential() called model."
   ]
  },
  {
   "cell_type": "code",
   "execution_count": 89,
   "metadata": {},
   "outputs": [],
   "source": [
    "model = Sequential()"
   ]
  },
  {
   "cell_type": "markdown",
   "metadata": {},
   "source": [
    "#### 8) Now, we will sequentially add layers, starting with the hidden layer that receives the input, then you continue adding layers until you get to the output layer. We will keep it simple: one hidden layer, and one output layer. Add a Dense layer representing the hidden layer. The first layer you add always needs to specify the number of inputs. And, you also need to specify the number of units in the layer (e.g. 9-12 is a good start for these simple data.) Specify an activation function of your choosing. Most basic nets use a 'sigmoid' or 'tanh' activation, though deep learning emphasizes 'relu'. (Be sure you understand why at some point in your near future!) Any of the above is fine."
   ]
  },
  {
   "cell_type": "code",
   "execution_count": 90,
   "metadata": {},
   "outputs": [],
   "source": [
    "model.add(Dense(units = 10,activation = \"tanh\", input_dim = 4))"
   ]
  },
  {
   "cell_type": "markdown",
   "metadata": {},
   "source": [
    "#### 9) Add one more layer representing the output layer. Be sure to specify the correct number of outputs.\n",
    "Remember, use a 'softmax' activation here. (NOTE – after you specify your first layer, the number of\n",
    "inputs in further layers added are implied, and thus do not need to be specified.)"
   ]
  },
  {
   "cell_type": "code",
   "execution_count": 91,
   "metadata": {},
   "outputs": [],
   "source": [
    "model.add(Dense(units  = 3,activation = \"softmax\",input_dim = 10))"
   ]
  },
  {
   "cell_type": "markdown",
   "metadata": {},
   "source": [
    "#### 10) OK. Now compile your model. Look at the documentation for the compile() method. You'll need to specify the following parameters:\n",
    "a) Choose an optimizer  \n",
    "b) Choose the loss function – This is the function that gives you the error that is backpropagated. Use\n",
    "loss='categorical_crossentropy' for this problem.  \n",
    "c) Choose the performance metrics – Typically, you will stick with metrics=['accuracy'] here. You\n",
    "can do far more with your predictions later.  "
   ]
  },
  {
   "cell_type": "code",
   "execution_count": 92,
   "metadata": {},
   "outputs": [],
   "source": [
    "model.compile(optimizer = \"adam\",loss = \"categorical_crossentropy\",metrics = [\"accuracy\"])"
   ]
  },
  {
   "cell_type": "markdown",
   "metadata": {},
   "source": [
    "#### 11) OK, your structure is set. Now you need to train the model.\n",
    "a) epochs = number of epochs to train the model. An epoch is an iteration over all your training data. You\n",
    "will need to experiment. Start with a value of 100.  \n",
    "b) batch_size = number of samples per gradient update. Updating every instance will usually converge\n",
    "the earliest, but with high variance. At the other extreme, batch_size using the entire dataset is slow, but\n",
    "very smooth convergence. Experiment. Use 1, 5, 15. You'll need to select the number of epochs in\n",
    "conjunction with this parameter. For this simple problem, batch_size = 1 will likely work just fine.  \n",
    "c) verbose = 1 will show output as training progresses. Very useful!  \n",
    "d) Use validation_data to pass your test data. This will make it easy to understand if your model is  \n",
    "overfitting your data. (This slows things down a bit more, but it's so important to capture how your model\n",
    "is doing on BOTH training and test data!)"
   ]
  },
  {
   "cell_type": "code",
   "execution_count": 93,
   "metadata": {},
   "outputs": [
    {
     "name": "stdout",
     "output_type": "stream",
     "text": [
      "Train on 75 samples, validate on 75 samples\n",
      "Epoch 1/100\n",
      "75/75 [==============================] - 1s 7ms/step - loss: 1.0248 - accuracy: 0.4133 - val_loss: 0.8355 - val_accuracy: 0.5600\n",
      "Epoch 2/100\n",
      "75/75 [==============================] - 0s 2ms/step - loss: 0.7233 - accuracy: 0.8000 - val_loss: 0.6642 - val_accuracy: 0.8133\n",
      "Epoch 3/100\n",
      "75/75 [==============================] - 0s 2ms/step - loss: 0.5633 - accuracy: 0.8533 - val_loss: 0.5770 - val_accuracy: 0.7600\n",
      "Epoch 4/100\n",
      "75/75 [==============================] - 0s 2ms/step - loss: 0.4755 - accuracy: 0.9067 - val_loss: 0.5300 - val_accuracy: 0.7733\n",
      "Epoch 5/100\n",
      "75/75 [==============================] - 0s 2ms/step - loss: 0.4194 - accuracy: 0.9200 - val_loss: 0.5000 - val_accuracy: 0.7867\n",
      "Epoch 6/100\n",
      "75/75 [==============================] - 0s 3ms/step - loss: 0.3814 - accuracy: 0.8933 - val_loss: 0.4803 - val_accuracy: 0.8133\n",
      "Epoch 7/100\n",
      "75/75 [==============================] - 0s 2ms/step - loss: 0.3535 - accuracy: 0.8800 - val_loss: 0.4659 - val_accuracy: 0.8000\n",
      "Epoch 8/100\n",
      "75/75 [==============================] - 0s 3ms/step - loss: 0.3330 - accuracy: 0.8800 - val_loss: 0.4521 - val_accuracy: 0.8133\n",
      "Epoch 9/100\n",
      "75/75 [==============================] - 0s 2ms/step - loss: 0.3144 - accuracy: 0.8933 - val_loss: 0.4404 - val_accuracy: 0.8133\n",
      "Epoch 10/100\n",
      "75/75 [==============================] - 0s 2ms/step - loss: 0.2997 - accuracy: 0.8933 - val_loss: 0.4310 - val_accuracy: 0.8133\n",
      "Epoch 11/100\n",
      "75/75 [==============================] - 0s 2ms/step - loss: 0.2877 - accuracy: 0.8933 - val_loss: 0.4222 - val_accuracy: 0.8133\n",
      "Epoch 12/100\n",
      "75/75 [==============================] - 0s 2ms/step - loss: 0.2755 - accuracy: 0.8933 - val_loss: 0.4137 - val_accuracy: 0.8267\n",
      "Epoch 13/100\n",
      "75/75 [==============================] - 0s 2ms/step - loss: 0.2670 - accuracy: 0.8933 - val_loss: 0.4055 - val_accuracy: 0.8267\n",
      "Epoch 14/100\n",
      "75/75 [==============================] - 0s 2ms/step - loss: 0.2578 - accuracy: 0.8933 - val_loss: 0.4004 - val_accuracy: 0.8267\n",
      "Epoch 15/100\n",
      "75/75 [==============================] - 0s 2ms/step - loss: 0.2487 - accuracy: 0.8933 - val_loss: 0.3912 - val_accuracy: 0.8267\n",
      "Epoch 16/100\n",
      "75/75 [==============================] - 0s 2ms/step - loss: 0.2392 - accuracy: 0.8933 - val_loss: 0.3834 - val_accuracy: 0.8267\n",
      "Epoch 17/100\n",
      "75/75 [==============================] - 0s 2ms/step - loss: 0.2316 - accuracy: 0.8933 - val_loss: 0.3810 - val_accuracy: 0.8267\n",
      "Epoch 18/100\n",
      "75/75 [==============================] - 0s 2ms/step - loss: 0.2236 - accuracy: 0.8933 - val_loss: 0.3707 - val_accuracy: 0.8533\n",
      "Epoch 19/100\n",
      "75/75 [==============================] - 0s 2ms/step - loss: 0.2166 - accuracy: 0.9067 - val_loss: 0.3631 - val_accuracy: 0.8533\n",
      "Epoch 20/100\n",
      "75/75 [==============================] - 0s 2ms/step - loss: 0.2103 - accuracy: 0.9067 - val_loss: 0.3554 - val_accuracy: 0.8533\n",
      "Epoch 21/100\n",
      "75/75 [==============================] - 0s 2ms/step - loss: 0.2023 - accuracy: 0.9200 - val_loss: 0.3464 - val_accuracy: 0.8533\n",
      "Epoch 22/100\n",
      "75/75 [==============================] - 0s 2ms/step - loss: 0.1939 - accuracy: 0.9200 - val_loss: 0.3412 - val_accuracy: 0.8533\n",
      "Epoch 23/100\n",
      "75/75 [==============================] - 0s 2ms/step - loss: 0.1865 - accuracy: 0.9200 - val_loss: 0.3354 - val_accuracy: 0.8533\n",
      "Epoch 24/100\n",
      "75/75 [==============================] - 0s 2ms/step - loss: 0.1802 - accuracy: 0.9200 - val_loss: 0.3289 - val_accuracy: 0.8533\n",
      "Epoch 25/100\n",
      "75/75 [==============================] - 0s 2ms/step - loss: 0.1731 - accuracy: 0.9333 - val_loss: 0.3209 - val_accuracy: 0.8800\n",
      "Epoch 26/100\n",
      "75/75 [==============================] - 0s 2ms/step - loss: 0.1669 - accuracy: 0.9467 - val_loss: 0.3145 - val_accuracy: 0.8800\n",
      "Epoch 27/100\n",
      "75/75 [==============================] - 0s 2ms/step - loss: 0.1606 - accuracy: 0.9467 - val_loss: 0.3104 - val_accuracy: 0.8800\n",
      "Epoch 28/100\n",
      "75/75 [==============================] - 0s 2ms/step - loss: 0.1550 - accuracy: 0.9467 - val_loss: 0.2990 - val_accuracy: 0.8933\n",
      "Epoch 29/100\n",
      "75/75 [==============================] - 0s 2ms/step - loss: 0.1471 - accuracy: 0.9467 - val_loss: 0.2953 - val_accuracy: 0.8933\n",
      "Epoch 30/100\n",
      "75/75 [==============================] - 0s 2ms/step - loss: 0.1423 - accuracy: 0.9600 - val_loss: 0.2864 - val_accuracy: 0.8933\n",
      "Epoch 31/100\n",
      "75/75 [==============================] - 0s 2ms/step - loss: 0.1367 - accuracy: 0.9600 - val_loss: 0.2790 - val_accuracy: 0.8933\n",
      "Epoch 32/100\n",
      "75/75 [==============================] - 0s 2ms/step - loss: 0.1319 - accuracy: 0.9600 - val_loss: 0.2740 - val_accuracy: 0.8933\n",
      "Epoch 33/100\n",
      "75/75 [==============================] - 0s 2ms/step - loss: 0.1257 - accuracy: 0.9600 - val_loss: 0.2694 - val_accuracy: 0.9067\n",
      "Epoch 34/100\n",
      "75/75 [==============================] - 0s 2ms/step - loss: 0.1233 - accuracy: 0.9733 - val_loss: 0.2612 - val_accuracy: 0.9067\n",
      "Epoch 35/100\n",
      "75/75 [==============================] - 0s 2ms/step - loss: 0.1169 - accuracy: 0.9733 - val_loss: 0.2587 - val_accuracy: 0.9067\n",
      "Epoch 36/100\n",
      "75/75 [==============================] - 0s 2ms/step - loss: 0.1115 - accuracy: 0.9733 - val_loss: 0.2490 - val_accuracy: 0.9067\n",
      "Epoch 37/100\n",
      "75/75 [==============================] - 0s 2ms/step - loss: 0.1068 - accuracy: 0.9733 - val_loss: 0.2418 - val_accuracy: 0.9067\n",
      "Epoch 38/100\n",
      "75/75 [==============================] - 0s 2ms/step - loss: 0.1029 - accuracy: 0.9733 - val_loss: 0.2377 - val_accuracy: 0.9067\n",
      "Epoch 39/100\n",
      "75/75 [==============================] - 0s 2ms/step - loss: 0.0998 - accuracy: 0.9733 - val_loss: 0.2329 - val_accuracy: 0.9200\n",
      "Epoch 40/100\n",
      "75/75 [==============================] - 0s 2ms/step - loss: 0.0959 - accuracy: 0.9733 - val_loss: 0.2263 - val_accuracy: 0.9200\n",
      "Epoch 41/100\n",
      "75/75 [==============================] - 0s 2ms/step - loss: 0.0906 - accuracy: 0.9867 - val_loss: 0.2251 - val_accuracy: 0.9200\n",
      "Epoch 42/100\n",
      "75/75 [==============================] - 0s 2ms/step - loss: 0.0886 - accuracy: 0.9733 - val_loss: 0.2193 - val_accuracy: 0.9333\n",
      "Epoch 43/100\n",
      "75/75 [==============================] - 0s 2ms/step - loss: 0.0848 - accuracy: 0.9867 - val_loss: 0.2138 - val_accuracy: 0.9333\n",
      "Epoch 44/100\n",
      "75/75 [==============================] - 0s 2ms/step - loss: 0.0812 - accuracy: 0.9867 - val_loss: 0.2100 - val_accuracy: 0.9333\n",
      "Epoch 45/100\n",
      "75/75 [==============================] - 0s 2ms/step - loss: 0.0787 - accuracy: 0.9867 - val_loss: 0.2047 - val_accuracy: 0.9333\n",
      "Epoch 46/100\n",
      "75/75 [==============================] - 0s 2ms/step - loss: 0.0759 - accuracy: 0.9867 - val_loss: 0.2007 - val_accuracy: 0.9333\n",
      "Epoch 47/100\n",
      "75/75 [==============================] - 0s 2ms/step - loss: 0.0750 - accuracy: 0.9867 - val_loss: 0.1967 - val_accuracy: 0.9333\n",
      "Epoch 48/100\n",
      "75/75 [==============================] - 0s 2ms/step - loss: 0.0713 - accuracy: 0.9867 - val_loss: 0.1953 - val_accuracy: 0.9333\n",
      "Epoch 49/100\n",
      "75/75 [==============================] - 0s 2ms/step - loss: 0.0690 - accuracy: 0.9867 - val_loss: 0.1902 - val_accuracy: 0.9333\n",
      "Epoch 50/100\n",
      "75/75 [==============================] - 0s 2ms/step - loss: 0.0667 - accuracy: 0.9867 - val_loss: 0.1866 - val_accuracy: 0.9333\n",
      "Epoch 51/100\n",
      "75/75 [==============================] - 0s 2ms/step - loss: 0.0645 - accuracy: 0.9867 - val_loss: 0.1847 - val_accuracy: 0.9333\n",
      "Epoch 52/100\n",
      "75/75 [==============================] - 0s 2ms/step - loss: 0.0622 - accuracy: 0.9867 - val_loss: 0.1805 - val_accuracy: 0.9333\n",
      "Epoch 53/100\n",
      "75/75 [==============================] - 0s 2ms/step - loss: 0.0619 - accuracy: 0.9867 - val_loss: 0.1769 - val_accuracy: 0.9333\n",
      "Epoch 54/100\n",
      "75/75 [==============================] - 0s 2ms/step - loss: 0.0589 - accuracy: 0.9867 - val_loss: 0.1763 - val_accuracy: 0.9333\n",
      "Epoch 55/100\n",
      "75/75 [==============================] - 0s 2ms/step - loss: 0.0569 - accuracy: 0.9867 - val_loss: 0.1729 - val_accuracy: 0.9333\n",
      "Epoch 56/100\n",
      "75/75 [==============================] - 0s 2ms/step - loss: 0.0560 - accuracy: 0.9867 - val_loss: 0.1707 - val_accuracy: 0.9333\n",
      "Epoch 57/100\n",
      "75/75 [==============================] - 0s 2ms/step - loss: 0.0536 - accuracy: 0.9867 - val_loss: 0.1678 - val_accuracy: 0.9333\n",
      "Epoch 58/100\n",
      "75/75 [==============================] - 0s 2ms/step - loss: 0.0530 - accuracy: 0.9867 - val_loss: 0.1652 - val_accuracy: 0.9333\n",
      "Epoch 59/100\n",
      "75/75 [==============================] - 0s 2ms/step - loss: 0.0514 - accuracy: 0.9867 - val_loss: 0.1641 - val_accuracy: 0.9333\n",
      "Epoch 60/100\n",
      "75/75 [==============================] - 0s 2ms/step - loss: 0.0506 - accuracy: 0.9867 - val_loss: 0.1612 - val_accuracy: 0.9333\n",
      "Epoch 61/100\n",
      "75/75 [==============================] - 0s 2ms/step - loss: 0.0499 - accuracy: 0.9867 - val_loss: 0.1583 - val_accuracy: 0.9200\n",
      "Epoch 62/100\n",
      "75/75 [==============================] - 0s 2ms/step - loss: 0.0484 - accuracy: 0.9867 - val_loss: 0.1591 - val_accuracy: 0.9333\n",
      "Epoch 63/100\n",
      "75/75 [==============================] - 0s 2ms/step - loss: 0.0462 - accuracy: 0.9867 - val_loss: 0.1562 - val_accuracy: 0.9333\n",
      "Epoch 64/100\n",
      "75/75 [==============================] - 0s 2ms/step - loss: 0.0451 - accuracy: 0.9867 - val_loss: 0.1538 - val_accuracy: 0.9200\n",
      "Epoch 65/100\n",
      "75/75 [==============================] - 0s 2ms/step - loss: 0.0446 - accuracy: 0.9867 - val_loss: 0.1517 - val_accuracy: 0.9200\n",
      "Epoch 66/100\n",
      "75/75 [==============================] - 0s 3ms/step - loss: 0.0437 - accuracy: 0.9867 - val_loss: 0.1492 - val_accuracy: 0.9200\n",
      "Epoch 67/100\n",
      "75/75 [==============================] - 0s 2ms/step - loss: 0.0428 - accuracy: 0.9867 - val_loss: 0.1486 - val_accuracy: 0.9200\n",
      "Epoch 68/100\n",
      "75/75 [==============================] - 0s 2ms/step - loss: 0.0419 - accuracy: 0.9867 - val_loss: 0.1485 - val_accuracy: 0.9200\n",
      "Epoch 69/100\n",
      "75/75 [==============================] - 0s 2ms/step - loss: 0.0408 - accuracy: 0.9867 - val_loss: 0.1464 - val_accuracy: 0.9200\n",
      "Epoch 70/100\n",
      "75/75 [==============================] - 0s 2ms/step - loss: 0.0397 - accuracy: 0.9867 - val_loss: 0.1451 - val_accuracy: 0.9200\n",
      "Epoch 71/100\n",
      "75/75 [==============================] - 0s 2ms/step - loss: 0.0395 - accuracy: 0.9867 - val_loss: 0.1434 - val_accuracy: 0.9200\n",
      "Epoch 72/100\n",
      "75/75 [==============================] - 0s 2ms/step - loss: 0.0392 - accuracy: 0.9867 - val_loss: 0.1428 - val_accuracy: 0.9200\n",
      "Epoch 73/100\n",
      "75/75 [==============================] - 0s 2ms/step - loss: 0.0376 - accuracy: 0.9867 - val_loss: 0.1412 - val_accuracy: 0.9200\n",
      "Epoch 74/100\n",
      "75/75 [==============================] - 0s 2ms/step - loss: 0.0387 - accuracy: 0.9867 - val_loss: 0.1392 - val_accuracy: 0.9200\n",
      "Epoch 75/100\n",
      "75/75 [==============================] - 0s 2ms/step - loss: 0.0364 - accuracy: 0.9867 - val_loss: 0.1387 - val_accuracy: 0.9200\n",
      "Epoch 76/100\n",
      "75/75 [==============================] - 0s 2ms/step - loss: 0.0364 - accuracy: 0.9867 - val_loss: 0.1377 - val_accuracy: 0.9200\n",
      "Epoch 77/100\n",
      "75/75 [==============================] - 0s 2ms/step - loss: 0.0361 - accuracy: 0.9867 - val_loss: 0.1375 - val_accuracy: 0.9200\n",
      "Epoch 78/100\n",
      "75/75 [==============================] - 0s 3ms/step - loss: 0.0348 - accuracy: 0.9867 - val_loss: 0.1361 - val_accuracy: 0.9200\n",
      "Epoch 79/100\n",
      "75/75 [==============================] - 0s 2ms/step - loss: 0.0343 - accuracy: 0.9867 - val_loss: 0.1348 - val_accuracy: 0.9200\n",
      "Epoch 80/100\n",
      "75/75 [==============================] - 0s 2ms/step - loss: 0.0345 - accuracy: 0.9867 - val_loss: 0.1339 - val_accuracy: 0.9200\n",
      "Epoch 81/100\n",
      "75/75 [==============================] - 0s 2ms/step - loss: 0.0337 - accuracy: 0.9867 - val_loss: 0.1334 - val_accuracy: 0.9200\n",
      "Epoch 82/100\n",
      "75/75 [==============================] - 0s 2ms/step - loss: 0.0334 - accuracy: 0.9867 - val_loss: 0.1329 - val_accuracy: 0.9200\n",
      "Epoch 83/100\n",
      "75/75 [==============================] - 0s 2ms/step - loss: 0.0332 - accuracy: 0.9867 - val_loss: 0.1315 - val_accuracy: 0.9200\n",
      "Epoch 84/100\n",
      "75/75 [==============================] - 0s 2ms/step - loss: 0.0316 - accuracy: 0.9867 - val_loss: 0.1325 - val_accuracy: 0.9200\n",
      "Epoch 85/100\n",
      "75/75 [==============================] - 0s 2ms/step - loss: 0.0313 - accuracy: 0.9867 - val_loss: 0.1301 - val_accuracy: 0.9200\n",
      "Epoch 86/100\n",
      "75/75 [==============================] - 0s 2ms/step - loss: 0.0307 - accuracy: 0.9867 - val_loss: 0.1291 - val_accuracy: 0.9200\n",
      "Epoch 87/100\n",
      "75/75 [==============================] - 0s 2ms/step - loss: 0.0300 - accuracy: 0.9867 - val_loss: 0.1289 - val_accuracy: 0.9200\n",
      "Epoch 88/100\n",
      "75/75 [==============================] - 0s 2ms/step - loss: 0.0299 - accuracy: 0.9867 - val_loss: 0.1286 - val_accuracy: 0.9200\n",
      "Epoch 89/100\n",
      "75/75 [==============================] - 0s 2ms/step - loss: 0.0301 - accuracy: 0.9867 - val_loss: 0.1269 - val_accuracy: 0.9200\n",
      "Epoch 90/100\n",
      "75/75 [==============================] - 0s 2ms/step - loss: 0.0290 - accuracy: 0.9867 - val_loss: 0.1291 - val_accuracy: 0.9200\n",
      "Epoch 91/100\n",
      "75/75 [==============================] - 0s 2ms/step - loss: 0.0292 - accuracy: 0.9867 - val_loss: 0.1308 - val_accuracy: 0.9333\n",
      "Epoch 92/100\n",
      "75/75 [==============================] - 0s 2ms/step - loss: 0.0281 - accuracy: 0.9867 - val_loss: 0.1265 - val_accuracy: 0.9200\n",
      "Epoch 93/100\n",
      "75/75 [==============================] - 0s 2ms/step - loss: 0.0285 - accuracy: 0.9867 - val_loss: 0.1259 - val_accuracy: 0.9200\n",
      "Epoch 94/100\n",
      "75/75 [==============================] - 0s 2ms/step - loss: 0.0290 - accuracy: 0.9867 - val_loss: 0.1266 - val_accuracy: 0.9333\n",
      "Epoch 95/100\n",
      "75/75 [==============================] - 0s 2ms/step - loss: 0.0272 - accuracy: 0.9867 - val_loss: 0.1254 - val_accuracy: 0.9333\n",
      "Epoch 96/100\n",
      "75/75 [==============================] - 0s 2ms/step - loss: 0.0272 - accuracy: 0.9867 - val_loss: 0.1252 - val_accuracy: 0.9333\n",
      "Epoch 97/100\n",
      "75/75 [==============================] - 0s 2ms/step - loss: 0.0266 - accuracy: 0.9867 - val_loss: 0.1259 - val_accuracy: 0.9333\n",
      "Epoch 98/100\n",
      "75/75 [==============================] - 0s 2ms/step - loss: 0.0261 - accuracy: 0.9867 - val_loss: 0.1246 - val_accuracy: 0.9333\n",
      "Epoch 99/100\n",
      "75/75 [==============================] - 0s 2ms/step - loss: 0.0261 - accuracy: 0.9867 - val_loss: 0.1240 - val_accuracy: 0.9333\n",
      "Epoch 100/100\n",
      "75/75 [==============================] - 0s 2ms/step - loss: 0.0254 - accuracy: 0.9867 - val_loss: 0.1255 - val_accuracy: 0.9333\n"
     ]
    }
   ],
   "source": [
    "history = model.fit(X_train,y_train,epochs = 100, batch_size = 1,verbose = 1, validation_data = (X_test,y_test))"
   ]
  },
  {
   "cell_type": "markdown",
   "metadata": {},
   "source": [
    "#### 12) [P] It's important to understand your accuracy and loss rates as your model proceeds through training. Visualize the loss on training and test data. Look at the code presented here: https://keras.io/visualization/."
   ]
  },
  {
   "cell_type": "code",
   "execution_count": 94,
   "metadata": {},
   "outputs": [
    {
     "data": {
      "image/png": "[encoded data removed]",
      "text/plain": [
       "<Figure size 432x288 with 1 Axes>"
      ]
     },
     "metadata": {
      "needs_background": "light"
     },
     "output_type": "display_data"
    },
    {
     "data": {
      "image/png": "[encoded data removed]",
      "text/plain": [
       "<Figure size 432x288 with 1 Axes>"
      ]
     },
     "metadata": {
      "needs_background": "light"
     },
     "output_type": "display_data"
    }
   ],
   "source": [
    "def plotHistory(history):\n",
    "    plt.plot(history.history['accuracy'])\n",
    "    plt.plot(history.history['val_accuracy'])\n",
    "    plt.title('Model accuracy')\n",
    "    plt.ylabel('Accuracy')\n",
    "    plt.xlabel('Epoch')\n",
    "    plt.legend(['Train', 'Test'], loc='upper left')\n",
    "    plt.show()\n",
    "\n",
    "    # Plot training & validation loss values\n",
    "    plt.plot(history.history['loss'])\n",
    "    plt.plot(history.history['val_loss'])\n",
    "    plt.title('Model loss')\n",
    "    plt.ylabel('Loss')\n",
    "    plt.xlabel('Epoch')\n",
    "    plt.legend(['Train', 'Test'], loc='upper left')\n",
    "    plt.show()\n",
    "\n",
    "plotHistory(history)"
   ]
  },
  {
   "cell_type": "markdown",
   "metadata": {},
   "source": [
    "#### 13) Try to change some parameters with the model. However, instead of copying and pasting each individual line you wrote above, follow the approach of creating the entire structure in a single line. \n",
    "Use the example\n",
    "laid out in the Keras documention https://keras.io/getting-started/sequential-model-guide/ This will get\n",
    "you started:\n",
    "model = Sequential([\n",
    "Dense(12, input_shape=(4,)),\n",
    "Activation( ??? ),\n",
    "...\n",
    "])\n",
    "\n",
    "Clearly, you need to finish the rest. And, you'll need to compile and build your model. However, change the\n",
    "parameters in some way from what you did above. Clearly, as given above, you need 4 inputs, and 3\n",
    "outputs. Beyond that, you have countless ways to create a different approach! Different structure? An\n",
    "additional hidden layer? Different activation? Or, use the same structure, and use different batch_size for\n",
    "training? Different optimization algorithm? More epochs? Etc. The choices are quite vast!\n",
    "Generate the same two plots. Compare and contrast your findings."
   ]
  },
  {
   "cell_type": "code",
   "execution_count": 95,
   "metadata": {},
   "outputs": [
    {
     "name": "stdout",
     "output_type": "stream",
     "text": [
      "Train on 75 samples, validate on 75 samples\n",
      "Epoch 1/150\n",
      "75/75 [==============================] - 0s 6ms/step - loss: 1.3631 - accuracy: 0.2667 - val_loss: 1.1513 - val_accuracy: 0.4000\n",
      "Epoch 2/150\n",
      "75/75 [==============================] - 0s 266us/step - loss: 1.3132 - accuracy: 0.2667 - val_loss: 1.1148 - val_accuracy: 0.4267\n",
      "Epoch 3/150\n",
      "75/75 [==============================] - 0s 215us/step - loss: 1.2628 - accuracy: 0.3067 - val_loss: 1.0806 - val_accuracy: 0.4667\n",
      "Epoch 4/150\n",
      "75/75 [==============================] - 0s 239us/step - loss: 1.2150 - accuracy: 0.3467 - val_loss: 1.0489 - val_accuracy: 0.5333\n",
      "Epoch 5/150\n",
      "75/75 [==============================] - 0s 213us/step - loss: 1.1705 - accuracy: 0.4400 - val_loss: 1.0198 - val_accuracy: 0.5600\n",
      "Epoch 6/150\n",
      "75/75 [==============================] - 0s 239us/step - loss: 1.1308 - accuracy: 0.5333 - val_loss: 0.9929 - val_accuracy: 0.6133\n",
      "Epoch 7/150\n",
      "75/75 [==============================] - 0s 186us/step - loss: 1.0921 - accuracy: 0.5867 - val_loss: 0.9683 - val_accuracy: 0.6533\n",
      "Epoch 8/150\n",
      "75/75 [==============================] - 0s 313us/step - loss: 1.0574 - accuracy: 0.6267 - val_loss: 0.9452 - val_accuracy: 0.6800\n",
      "Epoch 9/150\n",
      "75/75 [==============================] - 0s 199us/step - loss: 1.0236 - accuracy: 0.6267 - val_loss: 0.9236 - val_accuracy: 0.6933\n",
      "Epoch 10/150\n",
      "75/75 [==============================] - 0s 199us/step - loss: 0.9909 - accuracy: 0.6267 - val_loss: 0.9039 - val_accuracy: 0.6933\n",
      "Epoch 11/150\n",
      "75/75 [==============================] - 0s 320us/step - loss: 0.9616 - accuracy: 0.6267 - val_loss: 0.8853 - val_accuracy: 0.6933\n",
      "Epoch 12/150\n",
      "75/75 [==============================] - 0s 239us/step - loss: 0.9355 - accuracy: 0.6267 - val_loss: 0.8675 - val_accuracy: 0.6933\n",
      "Epoch 13/150\n",
      "75/75 [==============================] - 0s 186us/step - loss: 0.9097 - accuracy: 0.6267 - val_loss: 0.8514 - val_accuracy: 0.6933\n",
      "Epoch 14/150\n",
      "75/75 [==============================] - 0s 320us/step - loss: 0.8865 - accuracy: 0.6267 - val_loss: 0.8367 - val_accuracy: 0.6933\n",
      "Epoch 15/150\n",
      "75/75 [==============================] - 0s 199us/step - loss: 0.8630 - accuracy: 0.6267 - val_loss: 0.8233 - val_accuracy: 0.6933\n",
      "Epoch 16/150\n",
      "75/75 [==============================] - 0s 293us/step - loss: 0.8425 - accuracy: 0.6267 - val_loss: 0.8109 - val_accuracy: 0.7067\n",
      "Epoch 17/150\n",
      "75/75 [==============================] - 0s 372us/step - loss: 0.8230 - accuracy: 0.6267 - val_loss: 0.7995 - val_accuracy: 0.7067\n",
      "Epoch 18/150\n",
      "75/75 [==============================] - 0s 186us/step - loss: 0.8058 - accuracy: 0.6267 - val_loss: 0.7887 - val_accuracy: 0.7067\n",
      "Epoch 19/150\n",
      "75/75 [==============================] - 0s 386us/step - loss: 0.7882 - accuracy: 0.6267 - val_loss: 0.7785 - val_accuracy: 0.7067\n",
      "Epoch 20/150\n",
      "75/75 [==============================] - 0s 332us/step - loss: 0.7725 - accuracy: 0.6267 - val_loss: 0.7689 - val_accuracy: 0.7067\n",
      "Epoch 21/150\n",
      "75/75 [==============================] - 0s 453us/step - loss: 0.7578 - accuracy: 0.6267 - val_loss: 0.7600 - val_accuracy: 0.7067\n",
      "Epoch 22/150\n",
      "75/75 [==============================] - 0s 239us/step - loss: 0.7435 - accuracy: 0.6267 - val_loss: 0.7516 - val_accuracy: 0.7067\n",
      "Epoch 23/150\n",
      "75/75 [==============================] - 0s 160us/step - loss: 0.7300 - accuracy: 0.6267 - val_loss: 0.7434 - val_accuracy: 0.7067\n",
      "Epoch 24/150\n",
      "75/75 [==============================] - 0s 373us/step - loss: 0.7169 - accuracy: 0.6267 - val_loss: 0.7356 - val_accuracy: 0.7067\n",
      "Epoch 25/150\n",
      "75/75 [==============================] - 0s 213us/step - loss: 0.7056 - accuracy: 0.6667 - val_loss: 0.7287 - val_accuracy: 0.7200\n",
      "Epoch 26/150\n",
      "75/75 [==============================] - 0s 160us/step - loss: 0.6935 - accuracy: 0.7333 - val_loss: 0.7218 - val_accuracy: 0.7467\n",
      "Epoch 27/150\n",
      "75/75 [==============================] - 0s 279us/step - loss: 0.6823 - accuracy: 0.7867 - val_loss: 0.7151 - val_accuracy: 0.7600\n",
      "Epoch 28/150\n",
      "75/75 [==============================] - 0s 186us/step - loss: 0.6718 - accuracy: 0.8533 - val_loss: 0.7089 - val_accuracy: 0.7333\n",
      "Epoch 29/150\n",
      "75/75 [==============================] - 0s 452us/step - loss: 0.6616 - accuracy: 0.8800 - val_loss: 0.7028 - val_accuracy: 0.7600\n",
      "Epoch 30/150\n",
      "75/75 [==============================] - 0s 253us/step - loss: 0.6524 - accuracy: 0.8800 - val_loss: 0.6974 - val_accuracy: 0.7733\n",
      "Epoch 31/150\n",
      "75/75 [==============================] - 0s 160us/step - loss: 0.6431 - accuracy: 0.8800 - val_loss: 0.6915 - val_accuracy: 0.7467\n",
      "Epoch 32/150\n",
      "75/75 [==============================] - 0s 279us/step - loss: 0.6346 - accuracy: 0.8800 - val_loss: 0.6856 - val_accuracy: 0.7467\n",
      "Epoch 33/150\n",
      "75/75 [==============================] - 0s 213us/step - loss: 0.6264 - accuracy: 0.8800 - val_loss: 0.6790 - val_accuracy: 0.7600\n",
      "Epoch 34/150\n",
      "75/75 [==============================] - 0s 213us/step - loss: 0.6183 - accuracy: 0.8800 - val_loss: 0.6737 - val_accuracy: 0.7733\n",
      "Epoch 35/150\n",
      "75/75 [==============================] - 0s 173us/step - loss: 0.6102 - accuracy: 0.8667 - val_loss: 0.6682 - val_accuracy: 0.7600\n",
      "Epoch 36/150\n",
      "75/75 [==============================] - 0s 319us/step - loss: 0.6025 - accuracy: 0.8800 - val_loss: 0.6626 - val_accuracy: 0.7600\n",
      "Epoch 37/150\n",
      "75/75 [==============================] - 0s 173us/step - loss: 0.5953 - accuracy: 0.8667 - val_loss: 0.6573 - val_accuracy: 0.7600\n",
      "Epoch 38/150\n",
      "75/75 [==============================] - 0s 160us/step - loss: 0.5877 - accuracy: 0.8800 - val_loss: 0.6513 - val_accuracy: 0.7600\n",
      "Epoch 39/150\n",
      "75/75 [==============================] - 0s 266us/step - loss: 0.5806 - accuracy: 0.8800 - val_loss: 0.6463 - val_accuracy: 0.7867\n",
      "Epoch 40/150\n",
      "75/75 [==============================] - 0s 226us/step - loss: 0.5737 - accuracy: 0.8800 - val_loss: 0.6412 - val_accuracy: 0.7867\n",
      "Epoch 41/150\n",
      "75/75 [==============================] - 0s 213us/step - loss: 0.5668 - accuracy: 0.8800 - val_loss: 0.6361 - val_accuracy: 0.7867\n",
      "Epoch 42/150\n",
      "75/75 [==============================] - 0s 319us/step - loss: 0.5602 - accuracy: 0.8933 - val_loss: 0.6314 - val_accuracy: 0.7733\n",
      "Epoch 43/150\n",
      "75/75 [==============================] - 0s 199us/step - loss: 0.5538 - accuracy: 0.8933 - val_loss: 0.6265 - val_accuracy: 0.7733\n",
      "Epoch 44/150\n",
      "75/75 [==============================] - 0s 200us/step - loss: 0.5473 - accuracy: 0.8933 - val_loss: 0.6221 - val_accuracy: 0.7733\n",
      "Epoch 45/150\n",
      "75/75 [==============================] - 0s 332us/step - loss: 0.5416 - accuracy: 0.8933 - val_loss: 0.6183 - val_accuracy: 0.7867\n",
      "Epoch 46/150\n",
      "75/75 [==============================] - 0s 253us/step - loss: 0.5353 - accuracy: 0.8933 - val_loss: 0.6132 - val_accuracy: 0.7733\n",
      "Epoch 47/150\n",
      "75/75 [==============================] - 0s 253us/step - loss: 0.5296 - accuracy: 0.9067 - val_loss: 0.6091 - val_accuracy: 0.7867\n",
      "Epoch 48/150\n",
      "75/75 [==============================] - 0s 319us/step - loss: 0.5235 - accuracy: 0.9067 - val_loss: 0.6042 - val_accuracy: 0.7867\n",
      "Epoch 49/150\n",
      "75/75 [==============================] - 0s 186us/step - loss: 0.5182 - accuracy: 0.9067 - val_loss: 0.5989 - val_accuracy: 0.7867\n",
      "Epoch 50/150\n",
      "75/75 [==============================] - 0s 147us/step - loss: 0.5125 - accuracy: 0.9067 - val_loss: 0.5944 - val_accuracy: 0.7867\n",
      "Epoch 51/150\n",
      "75/75 [==============================] - 0s 333us/step - loss: 0.5072 - accuracy: 0.9067 - val_loss: 0.5908 - val_accuracy: 0.7867\n",
      "Epoch 52/150\n",
      "75/75 [==============================] - 0s 186us/step - loss: 0.5019 - accuracy: 0.9067 - val_loss: 0.5853 - val_accuracy: 0.7867\n",
      "Epoch 53/150\n",
      "75/75 [==============================] - 0s 199us/step - loss: 0.4965 - accuracy: 0.9067 - val_loss: 0.5809 - val_accuracy: 0.7867\n",
      "Epoch 54/150\n",
      "75/75 [==============================] - 0s 173us/step - loss: 0.4915 - accuracy: 0.9067 - val_loss: 0.5757 - val_accuracy: 0.7867\n",
      "Epoch 55/150\n",
      "75/75 [==============================] - 0s 319us/step - loss: 0.4864 - accuracy: 0.8933 - val_loss: 0.5716 - val_accuracy: 0.7867\n",
      "Epoch 56/150\n",
      "75/75 [==============================] - 0s 171us/step - loss: 0.4814 - accuracy: 0.8933 - val_loss: 0.5673 - val_accuracy: 0.7867\n",
      "Epoch 57/150\n",
      "75/75 [==============================] - 0s 333us/step - loss: 0.4767 - accuracy: 0.8933 - val_loss: 0.5633 - val_accuracy: 0.7867\n",
      "Epoch 58/150\n",
      "75/75 [==============================] - 0s 199us/step - loss: 0.4725 - accuracy: 0.8933 - val_loss: 0.5576 - val_accuracy: 0.8000\n",
      "Epoch 59/150\n",
      "75/75 [==============================] - 0s 146us/step - loss: 0.4673 - accuracy: 0.8933 - val_loss: 0.5537 - val_accuracy: 0.8000\n",
      "Epoch 60/150\n",
      "75/75 [==============================] - 0s 292us/step - loss: 0.4628 - accuracy: 0.8933 - val_loss: 0.5497 - val_accuracy: 0.7867\n",
      "Epoch 61/150\n",
      "75/75 [==============================] - 0s 364us/step - loss: 0.4583 - accuracy: 0.8933 - val_loss: 0.5459 - val_accuracy: 0.7867\n",
      "Epoch 62/150\n",
      "75/75 [==============================] - 0s 173us/step - loss: 0.4540 - accuracy: 0.8933 - val_loss: 0.5436 - val_accuracy: 0.8000\n",
      "Epoch 63/150\n",
      "75/75 [==============================] - 0s 306us/step - loss: 0.4496 - accuracy: 0.8933 - val_loss: 0.5398 - val_accuracy: 0.8000\n",
      "Epoch 64/150\n",
      "75/75 [==============================] - 0s 186us/step - loss: 0.4453 - accuracy: 0.8933 - val_loss: 0.5370 - val_accuracy: 0.8000\n",
      "Epoch 65/150\n",
      "75/75 [==============================] - 0s 186us/step - loss: 0.4414 - accuracy: 0.8933 - val_loss: 0.5340 - val_accuracy: 0.8000\n",
      "Epoch 66/150\n",
      "75/75 [==============================] - 0s 173us/step - loss: 0.4372 - accuracy: 0.8933 - val_loss: 0.5311 - val_accuracy: 0.8000\n",
      "Epoch 67/150\n",
      "75/75 [==============================] - 0s 294us/step - loss: 0.4332 - accuracy: 0.8933 - val_loss: 0.5269 - val_accuracy: 0.7867\n",
      "Epoch 68/150\n",
      "75/75 [==============================] - 0s 173us/step - loss: 0.4293 - accuracy: 0.8933 - val_loss: 0.5237 - val_accuracy: 0.7867\n",
      "Epoch 69/150\n",
      "75/75 [==============================] - 0s 306us/step - loss: 0.4255 - accuracy: 0.8933 - val_loss: 0.5210 - val_accuracy: 0.7867\n",
      "Epoch 70/150\n",
      "75/75 [==============================] - 0s 239us/step - loss: 0.4215 - accuracy: 0.9067 - val_loss: 0.5179 - val_accuracy: 0.7867\n",
      "Epoch 71/150\n",
      "75/75 [==============================] - 0s 160us/step - loss: 0.4179 - accuracy: 0.9067 - val_loss: 0.5147 - val_accuracy: 0.7867\n",
      "Epoch 72/150\n",
      "75/75 [==============================] - 0s 183us/step - loss: 0.4143 - accuracy: 0.9067 - val_loss: 0.5117 - val_accuracy: 0.7867\n",
      "Epoch 73/150\n",
      "75/75 [==============================] - 0s 319us/step - loss: 0.4105 - accuracy: 0.9067 - val_loss: 0.5097 - val_accuracy: 0.7867\n",
      "Epoch 74/150\n",
      "75/75 [==============================] - 0s 226us/step - loss: 0.4070 - accuracy: 0.9067 - val_loss: 0.5075 - val_accuracy: 0.7867\n",
      "Epoch 75/150\n",
      "75/75 [==============================] - 0s 186us/step - loss: 0.4035 - accuracy: 0.9067 - val_loss: 0.5046 - val_accuracy: 0.7867\n",
      "Epoch 76/150\n",
      "75/75 [==============================] - 0s 359us/step - loss: 0.4001 - accuracy: 0.9067 - val_loss: 0.5014 - val_accuracy: 0.7867\n",
      "Epoch 77/150\n",
      "75/75 [==============================] - 0s 213us/step - loss: 0.3967 - accuracy: 0.9067 - val_loss: 0.4996 - val_accuracy: 0.7867\n",
      "Epoch 78/150\n",
      "75/75 [==============================] - 0s 173us/step - loss: 0.3933 - accuracy: 0.9067 - val_loss: 0.4972 - val_accuracy: 0.7867\n",
      "Epoch 79/150\n",
      "75/75 [==============================] - 0s 359us/step - loss: 0.3901 - accuracy: 0.9067 - val_loss: 0.4948 - val_accuracy: 0.7867\n",
      "Epoch 80/150\n",
      "75/75 [==============================] - 0s 173us/step - loss: 0.3867 - accuracy: 0.9067 - val_loss: 0.4924 - val_accuracy: 0.7867\n",
      "Epoch 81/150\n",
      "75/75 [==============================] - 0s 253us/step - loss: 0.3839 - accuracy: 0.9067 - val_loss: 0.4905 - val_accuracy: 0.7867\n",
      "Epoch 82/150\n",
      "75/75 [==============================] - 0s 226us/step - loss: 0.3808 - accuracy: 0.9067 - val_loss: 0.4868 - val_accuracy: 0.7867\n",
      "Epoch 83/150\n",
      "75/75 [==============================] - 0s 173us/step - loss: 0.3775 - accuracy: 0.9067 - val_loss: 0.4844 - val_accuracy: 0.7867\n",
      "Epoch 84/150\n",
      "75/75 [==============================] - 0s 186us/step - loss: 0.3748 - accuracy: 0.9067 - val_loss: 0.4814 - val_accuracy: 0.7867\n",
      "Epoch 85/150\n",
      "75/75 [==============================] - 0s 293us/step - loss: 0.3717 - accuracy: 0.9067 - val_loss: 0.4786 - val_accuracy: 0.7867\n",
      "Epoch 86/150\n",
      "75/75 [==============================] - 0s 186us/step - loss: 0.3688 - accuracy: 0.9067 - val_loss: 0.4768 - val_accuracy: 0.7867\n",
      "Epoch 87/150\n",
      "75/75 [==============================] - 0s 169us/step - loss: 0.3659 - accuracy: 0.9067 - val_loss: 0.4744 - val_accuracy: 0.7867\n",
      "Epoch 88/150\n",
      "75/75 [==============================] - 0s 439us/step - loss: 0.3632 - accuracy: 0.9200 - val_loss: 0.4717 - val_accuracy: 0.7733\n",
      "Epoch 89/150\n",
      "75/75 [==============================] - 0s 213us/step - loss: 0.3605 - accuracy: 0.9200 - val_loss: 0.4694 - val_accuracy: 0.7600\n",
      "Epoch 90/150\n",
      "75/75 [==============================] - 0s 146us/step - loss: 0.3577 - accuracy: 0.9200 - val_loss: 0.4683 - val_accuracy: 0.7867\n",
      "Epoch 91/150\n",
      "75/75 [==============================] - 0s 293us/step - loss: 0.3551 - accuracy: 0.9200 - val_loss: 0.4667 - val_accuracy: 0.7867\n",
      "Epoch 92/150\n",
      "75/75 [==============================] - 0s 175us/step - loss: 0.3524 - accuracy: 0.9200 - val_loss: 0.4648 - val_accuracy: 0.7867\n",
      "Epoch 93/150\n",
      "75/75 [==============================] - 0s 200us/step - loss: 0.3500 - accuracy: 0.9200 - val_loss: 0.4632 - val_accuracy: 0.7867\n",
      "Epoch 94/150\n",
      "75/75 [==============================] - 0s 253us/step - loss: 0.3473 - accuracy: 0.9200 - val_loss: 0.4608 - val_accuracy: 0.7867\n",
      "Epoch 95/150\n",
      "75/75 [==============================] - 0s 173us/step - loss: 0.3449 - accuracy: 0.9200 - val_loss: 0.4586 - val_accuracy: 0.7733\n",
      "Epoch 96/150\n",
      "75/75 [==============================] - 0s 146us/step - loss: 0.3422 - accuracy: 0.9200 - val_loss: 0.4576 - val_accuracy: 0.7867\n",
      "Epoch 97/150\n",
      "75/75 [==============================] - 0s 253us/step - loss: 0.3398 - accuracy: 0.9200 - val_loss: 0.4562 - val_accuracy: 0.7867\n",
      "Epoch 98/150\n",
      "75/75 [==============================] - 0s 239us/step - loss: 0.3374 - accuracy: 0.9200 - val_loss: 0.4548 - val_accuracy: 0.7867\n",
      "Epoch 99/150\n",
      "75/75 [==============================] - 0s 173us/step - loss: 0.3349 - accuracy: 0.9200 - val_loss: 0.4538 - val_accuracy: 0.7867\n",
      "Epoch 100/150\n",
      "75/75 [==============================] - 0s 186us/step - loss: 0.3329 - accuracy: 0.9200 - val_loss: 0.4530 - val_accuracy: 0.7867\n",
      "Epoch 101/150\n",
      "75/75 [==============================] - 0s 293us/step - loss: 0.3303 - accuracy: 0.9200 - val_loss: 0.4512 - val_accuracy: 0.7867\n",
      "Epoch 102/150\n",
      "75/75 [==============================] - 0s 213us/step - loss: 0.3280 - accuracy: 0.9200 - val_loss: 0.4496 - val_accuracy: 0.7867\n",
      "Epoch 103/150\n",
      "75/75 [==============================] - 0s 146us/step - loss: 0.3256 - accuracy: 0.9200 - val_loss: 0.4474 - val_accuracy: 0.7867\n",
      "Epoch 104/150\n",
      "75/75 [==============================] - 0s 279us/step - loss: 0.3234 - accuracy: 0.9200 - val_loss: 0.4445 - val_accuracy: 0.7733\n",
      "Epoch 105/150\n",
      "75/75 [==============================] - 0s 200us/step - loss: 0.3214 - accuracy: 0.9200 - val_loss: 0.4415 - val_accuracy: 0.7733\n",
      "Epoch 106/150\n",
      "75/75 [==============================] - 0s 372us/step - loss: 0.3193 - accuracy: 0.9200 - val_loss: 0.4387 - val_accuracy: 0.7733\n",
      "Epoch 107/150\n",
      "75/75 [==============================] - 0s 346us/step - loss: 0.3171 - accuracy: 0.9200 - val_loss: 0.4374 - val_accuracy: 0.7733\n",
      "Epoch 108/150\n",
      "75/75 [==============================] - 0s 226us/step - loss: 0.3149 - accuracy: 0.9200 - val_loss: 0.4350 - val_accuracy: 0.7733\n",
      "Epoch 109/150\n",
      "75/75 [==============================] - 0s 226us/step - loss: 0.3129 - accuracy: 0.9200 - val_loss: 0.4333 - val_accuracy: 0.7733\n",
      "Epoch 110/150\n",
      "75/75 [==============================] - 0s 226us/step - loss: 0.3108 - accuracy: 0.9200 - val_loss: 0.4326 - val_accuracy: 0.7733\n",
      "Epoch 111/150\n",
      "75/75 [==============================] - 0s 173us/step - loss: 0.3088 - accuracy: 0.9200 - val_loss: 0.4315 - val_accuracy: 0.7733\n",
      "Epoch 112/150\n",
      "75/75 [==============================] - 0s 199us/step - loss: 0.3068 - accuracy: 0.9200 - val_loss: 0.4301 - val_accuracy: 0.7733\n",
      "Epoch 113/150\n",
      "75/75 [==============================] - 0s 319us/step - loss: 0.3048 - accuracy: 0.9200 - val_loss: 0.4293 - val_accuracy: 0.7733\n",
      "Epoch 114/150\n",
      "75/75 [==============================] - 0s 213us/step - loss: 0.3033 - accuracy: 0.9200 - val_loss: 0.4289 - val_accuracy: 0.7867\n",
      "Epoch 115/150\n",
      "75/75 [==============================] - 0s 186us/step - loss: 0.3010 - accuracy: 0.9200 - val_loss: 0.4263 - val_accuracy: 0.7733\n",
      "Epoch 116/150\n",
      "75/75 [==============================] - 0s 332us/step - loss: 0.2990 - accuracy: 0.9200 - val_loss: 0.4256 - val_accuracy: 0.7867\n",
      "Epoch 117/150\n",
      "75/75 [==============================] - 0s 226us/step - loss: 0.2970 - accuracy: 0.9200 - val_loss: 0.4240 - val_accuracy: 0.7733\n",
      "Epoch 118/150\n",
      "75/75 [==============================] - 0s 160us/step - loss: 0.2953 - accuracy: 0.9200 - val_loss: 0.4222 - val_accuracy: 0.7733\n",
      "Epoch 119/150\n",
      "75/75 [==============================] - 0s 505us/step - loss: 0.2934 - accuracy: 0.9200 - val_loss: 0.4205 - val_accuracy: 0.7733\n",
      "Epoch 120/150\n",
      "75/75 [==============================] - 0s 226us/step - loss: 0.2917 - accuracy: 0.9200 - val_loss: 0.4194 - val_accuracy: 0.7733\n",
      "Epoch 121/150\n",
      "75/75 [==============================] - 0s 239us/step - loss: 0.2899 - accuracy: 0.9200 - val_loss: 0.4179 - val_accuracy: 0.7733\n",
      "Epoch 122/150\n",
      "75/75 [==============================] - 0s 186us/step - loss: 0.2883 - accuracy: 0.9200 - val_loss: 0.4179 - val_accuracy: 0.7867\n",
      "Epoch 123/150\n",
      "75/75 [==============================] - 0s 386us/step - loss: 0.2864 - accuracy: 0.9200 - val_loss: 0.4168 - val_accuracy: 0.7867\n",
      "Epoch 124/150\n",
      "75/75 [==============================] - 0s 292us/step - loss: 0.2850 - accuracy: 0.9200 - val_loss: 0.4142 - val_accuracy: 0.7733\n",
      "Epoch 125/150\n",
      "75/75 [==============================] - 0s 173us/step - loss: 0.2830 - accuracy: 0.9200 - val_loss: 0.4130 - val_accuracy: 0.7733\n",
      "Epoch 126/150\n",
      "75/75 [==============================] - 0s 252us/step - loss: 0.2813 - accuracy: 0.9200 - val_loss: 0.4121 - val_accuracy: 0.7733\n",
      "Epoch 127/150\n",
      "75/75 [==============================] - 0s 253us/step - loss: 0.2796 - accuracy: 0.9200 - val_loss: 0.4109 - val_accuracy: 0.7733\n",
      "Epoch 128/150\n",
      "75/75 [==============================] - 0s 187us/step - loss: 0.2779 - accuracy: 0.9200 - val_loss: 0.4102 - val_accuracy: 0.7867\n",
      "Epoch 129/150\n",
      "75/75 [==============================] - 0s 160us/step - loss: 0.2763 - accuracy: 0.9200 - val_loss: 0.4092 - val_accuracy: 0.7867\n",
      "Epoch 130/150\n",
      "75/75 [==============================] - 0s 359us/step - loss: 0.2747 - accuracy: 0.9200 - val_loss: 0.4088 - val_accuracy: 0.7867\n",
      "Epoch 131/150\n",
      "75/75 [==============================] - 0s 213us/step - loss: 0.2730 - accuracy: 0.9200 - val_loss: 0.4076 - val_accuracy: 0.7867\n",
      "Epoch 132/150\n",
      "75/75 [==============================] - 0s 346us/step - loss: 0.2715 - accuracy: 0.9200 - val_loss: 0.4058 - val_accuracy: 0.7867\n",
      "Epoch 133/150\n",
      "75/75 [==============================] - 0s 173us/step - loss: 0.2698 - accuracy: 0.9200 - val_loss: 0.4048 - val_accuracy: 0.7867\n",
      "Epoch 134/150\n",
      "75/75 [==============================] - 0s 213us/step - loss: 0.2686 - accuracy: 0.9200 - val_loss: 0.4048 - val_accuracy: 0.7867\n",
      "Epoch 135/150\n",
      "75/75 [==============================] - 0s 266us/step - loss: 0.2668 - accuracy: 0.9200 - val_loss: 0.4036 - val_accuracy: 0.7867\n",
      "Epoch 136/150\n",
      "75/75 [==============================] - 0s 213us/step - loss: 0.2653 - accuracy: 0.9200 - val_loss: 0.4025 - val_accuracy: 0.7867\n",
      "Epoch 137/150\n",
      "75/75 [==============================] - 0s 239us/step - loss: 0.2641 - accuracy: 0.9200 - val_loss: 0.4027 - val_accuracy: 0.7867\n",
      "Epoch 138/150\n",
      "75/75 [==============================] - 0s 603us/step - loss: 0.2623 - accuracy: 0.9200 - val_loss: 0.4009 - val_accuracy: 0.7867\n",
      "Epoch 139/150\n",
      "75/75 [==============================] - 0s 398us/step - loss: 0.2609 - accuracy: 0.9200 - val_loss: 0.3995 - val_accuracy: 0.7867\n",
      "Epoch 140/150\n",
      "75/75 [==============================] - 0s 332us/step - loss: 0.2595 - accuracy: 0.9200 - val_loss: 0.3980 - val_accuracy: 0.7867\n",
      "Epoch 141/150\n",
      "75/75 [==============================] - 0s 186us/step - loss: 0.2581 - accuracy: 0.9200 - val_loss: 0.3978 - val_accuracy: 0.7867\n",
      "Epoch 142/150\n",
      "75/75 [==============================] - 0s 319us/step - loss: 0.2567 - accuracy: 0.9200 - val_loss: 0.3972 - val_accuracy: 0.8000\n",
      "Epoch 143/150\n",
      "75/75 [==============================] - 0s 266us/step - loss: 0.2552 - accuracy: 0.9200 - val_loss: 0.3958 - val_accuracy: 0.8000\n",
      "Epoch 144/150\n",
      "75/75 [==============================] - 0s 319us/step - loss: 0.2538 - accuracy: 0.9333 - val_loss: 0.3956 - val_accuracy: 0.8000\n",
      "Epoch 145/150\n",
      "75/75 [==============================] - 0s 226us/step - loss: 0.2524 - accuracy: 0.9333 - val_loss: 0.3936 - val_accuracy: 0.8000\n",
      "Epoch 146/150\n",
      "75/75 [==============================] - 0s 160us/step - loss: 0.2509 - accuracy: 0.9333 - val_loss: 0.3926 - val_accuracy: 0.8000\n",
      "Epoch 147/150\n",
      "75/75 [==============================] - 0s 266us/step - loss: 0.2496 - accuracy: 0.9333 - val_loss: 0.3908 - val_accuracy: 0.7867\n",
      "Epoch 148/150\n",
      "75/75 [==============================] - 0s 213us/step - loss: 0.2483 - accuracy: 0.9333 - val_loss: 0.3902 - val_accuracy: 0.8000\n",
      "Epoch 149/150\n",
      "75/75 [==============================] - 0s 173us/step - loss: 0.2469 - accuracy: 0.9333 - val_loss: 0.3899 - val_accuracy: 0.8000\n",
      "Epoch 150/150\n",
      "75/75 [==============================] - 0s 146us/step - loss: 0.2454 - accuracy: 0.9467 - val_loss: 0.3887 - val_accuracy: 0.8000\n"
     ]
    },
    {
     "data": {
      "image/png": "[encoded data removed]",
      "text/plain": [
       "<Figure size 432x288 with 1 Axes>"
      ]
     },
     "metadata": {
      "needs_background": "light"
     },
     "output_type": "display_data"
    },
    {
     "data": {
      "image/png": "[encoded data removed]",
      "text/plain": [
       "<Figure size 432x288 with 1 Axes>"
      ]
     },
     "metadata": {
      "needs_background": "light"
     },
     "output_type": "display_data"
    }
   ],
   "source": [
    "model = Sequential([Dense(12,input_shape = (4,)),Activation(\"sigmoid\"),Dense(units = 3,input_shape=(12,)),Activation(\"softmax\")])\n",
    "model.compile(optimizer = \"adam\",loss = \"categorical_crossentropy\",metrics = [\"accuracy\"])\n",
    "history = model.fit(X_train,y_train,epochs = 150, batch_size = 10,verbose = 1, validation_data = (X_test,y_test))\n",
    "plotHistory(history)"
   ]
  },
  {
   "cell_type": "markdown",
   "metadata": {},
   "source": [
    "By changing the hidden layer from tanh to sigmoid, epochs from 100 to 150, and batch size from 1 to 10. I noticed that it took less epochs to get to 100% accuracy but then as the epochs continue the accuracy actually goes down. This is likely because I use a sigmoid activation function, which experienced gradient decay."
   ]
  },
  {
   "cell_type": "markdown",
   "metadata": {},
   "source": [
    "#### 14) OK, one more time. This time, copy the same model, but use an SGD optimizer. \n",
    "Of course, you may have\n",
    "already chosen this by specifying the optimizer='sgd' parameter when you compiled your model. This\n",
    "time, you will instantiate your optimizer.\n",
    "From Keras documentation:\n",
    "\n",
    "Copy one of your models above. (Remember, if you keep using the same model instance, you are\n",
    "continually improving the weights, and thus not evaluating your new model properly! When you\n",
    "experiment with new models, you need to instantiate a new model, or figure out how to reset your\n",
    "weights to random initial values. For now, it's just easy enough to reinstantiate a new model.)\n",
    "Now, instantiate SGD. Look at the documentation, and choose a different learning rate (lr) and a\n",
    "momentum value of some value between 0.5-0.9. Compile and fit your model. Regenerate your accuracy\n",
    "and loss plots. Compare and contrast your findings."
   ]
  },
  {
   "cell_type": "code",
   "execution_count": 96,
   "metadata": {},
   "outputs": [
    {
     "name": "stdout",
     "output_type": "stream",
     "text": [
      "Train on 75 samples, validate on 75 samples\n",
      "Epoch 1/150\n",
      "75/75 [==============================] - 0s 3ms/step - loss: 0.9668 - accuracy: 0.4933 - val_loss: 0.6988 - val_accuracy: 0.6400\n",
      "Epoch 2/150\n",
      "75/75 [==============================] - 0s 359us/step - loss: 0.5070 - accuracy: 0.8267 - val_loss: 0.4444 - val_accuracy: 0.8133\n",
      "Epoch 3/150\n",
      "75/75 [==============================] - 0s 213us/step - loss: 0.2964 - accuracy: 0.9200 - val_loss: 0.4420 - val_accuracy: 0.8000\n",
      "Epoch 4/150\n",
      "75/75 [==============================] - 0s 253us/step - loss: 0.2526 - accuracy: 0.9067 - val_loss: 0.3413 - val_accuracy: 0.8533\n",
      "Epoch 5/150\n",
      "75/75 [==============================] - 0s 253us/step - loss: 0.2063 - accuracy: 0.9333 - val_loss: 0.3364 - val_accuracy: 0.8533\n",
      "Epoch 6/150\n",
      "75/75 [==============================] - 0s 187us/step - loss: 0.1752 - accuracy: 0.9467 - val_loss: 0.3167 - val_accuracy: 0.8533\n",
      "Epoch 7/150\n",
      "75/75 [==============================] - 0s 332us/step - loss: 0.1646 - accuracy: 0.9467 - val_loss: 0.3030 - val_accuracy: 0.8933\n",
      "Epoch 8/150\n",
      "75/75 [==============================] - 0s 412us/step - loss: 0.1385 - accuracy: 0.9733 - val_loss: 0.3093 - val_accuracy: 0.8267\n",
      "Epoch 9/150\n",
      "75/75 [==============================] - 0s 293us/step - loss: 0.1311 - accuracy: 0.9600 - val_loss: 0.2844 - val_accuracy: 0.9067\n",
      "Epoch 10/150\n",
      "75/75 [==============================] - 0s 173us/step - loss: 0.1145 - accuracy: 0.9733 - val_loss: 0.2551 - val_accuracy: 0.9467\n",
      "Epoch 11/150\n",
      "75/75 [==============================] - 0s 199us/step - loss: 0.1019 - accuracy: 0.9733 - val_loss: 0.2481 - val_accuracy: 0.9333\n",
      "Epoch 12/150\n",
      "75/75 [==============================] - 0s 160us/step - loss: 0.0971 - accuracy: 0.9733 - val_loss: 0.2260 - val_accuracy: 0.9333\n",
      "Epoch 13/150\n",
      "75/75 [==============================] - 0s 293us/step - loss: 0.0837 - accuracy: 0.9867 - val_loss: 0.2101 - val_accuracy: 0.9467\n",
      "Epoch 14/150\n",
      "75/75 [==============================] - 0s 160us/step - loss: 0.0817 - accuracy: 0.9867 - val_loss: 0.2004 - val_accuracy: 0.9467\n",
      "Epoch 15/150\n",
      "75/75 [==============================] - 0s 160us/step - loss: 0.0801 - accuracy: 0.9733 - val_loss: 0.1962 - val_accuracy: 0.9467\n",
      "Epoch 16/150\n",
      "75/75 [==============================] - 0s 159us/step - loss: 0.0704 - accuracy: 0.9867 - val_loss: 0.1919 - val_accuracy: 0.9467\n",
      "Epoch 17/150\n",
      "75/75 [==============================] - 0s 266us/step - loss: 0.0651 - accuracy: 0.9867 - val_loss: 0.1766 - val_accuracy: 0.9467\n",
      "Epoch 18/150\n",
      "75/75 [==============================] - 0s 173us/step - loss: 0.0608 - accuracy: 0.9867 - val_loss: 0.1660 - val_accuracy: 0.9333\n",
      "Epoch 19/150\n",
      "75/75 [==============================] - 0s 439us/step - loss: 0.0574 - accuracy: 0.9867 - val_loss: 0.1686 - val_accuracy: 0.9333\n",
      "Epoch 20/150\n",
      "75/75 [==============================] - 0s 186us/step - loss: 0.0540 - accuracy: 0.9867 - val_loss: 0.1591 - val_accuracy: 0.9333\n",
      "Epoch 21/150\n",
      "75/75 [==============================] - 0s 146us/step - loss: 0.0567 - accuracy: 0.9867 - val_loss: 0.1544 - val_accuracy: 0.9333\n",
      "Epoch 22/150\n",
      "75/75 [==============================] - 0s 306us/step - loss: 0.0528 - accuracy: 1.0000 - val_loss: 0.1492 - val_accuracy: 0.9333\n",
      "Epoch 23/150\n",
      "75/75 [==============================] - 0s 186us/step - loss: 0.0499 - accuracy: 0.9867 - val_loss: 0.1457 - val_accuracy: 0.9333\n",
      "Epoch 24/150\n",
      "75/75 [==============================] - 0s 186us/step - loss: 0.0452 - accuracy: 0.9867 - val_loss: 0.1429 - val_accuracy: 0.9333\n",
      "Epoch 25/150\n",
      "75/75 [==============================] - 0s 186us/step - loss: 0.0441 - accuracy: 0.9867 - val_loss: 0.1383 - val_accuracy: 0.9333\n",
      "Epoch 26/150\n",
      "75/75 [==============================] - 0s 266us/step - loss: 0.0435 - accuracy: 0.9867 - val_loss: 0.1368 - val_accuracy: 0.9333\n",
      "Epoch 27/150\n",
      "75/75 [==============================] - 0s 159us/step - loss: 0.0414 - accuracy: 0.9867 - val_loss: 0.1360 - val_accuracy: 0.9333\n",
      "Epoch 28/150\n",
      "75/75 [==============================] - 0s 187us/step - loss: 0.0433 - accuracy: 0.9867 - val_loss: 0.1385 - val_accuracy: 0.9333\n",
      "Epoch 29/150\n",
      "75/75 [==============================] - 0s 279us/step - loss: 0.0423 - accuracy: 0.9867 - val_loss: 0.1293 - val_accuracy: 0.9333\n",
      "Epoch 30/150\n",
      "75/75 [==============================] - 0s 226us/step - loss: 0.0372 - accuracy: 0.9867 - val_loss: 0.1289 - val_accuracy: 0.9333\n",
      "Epoch 31/150\n",
      "75/75 [==============================] - 0s 146us/step - loss: 0.0365 - accuracy: 0.9867 - val_loss: 0.1277 - val_accuracy: 0.9333\n",
      "Epoch 32/150\n",
      "75/75 [==============================] - 0s 200us/step - loss: 0.0338 - accuracy: 0.9867 - val_loss: 0.1261 - val_accuracy: 0.9333\n",
      "Epoch 33/150\n",
      "75/75 [==============================] - 0s 253us/step - loss: 0.0357 - accuracy: 0.9867 - val_loss: 0.1219 - val_accuracy: 0.9333\n",
      "Epoch 34/150\n",
      "75/75 [==============================] - 0s 160us/step - loss: 0.0327 - accuracy: 0.9867 - val_loss: 0.1214 - val_accuracy: 0.9333\n",
      "Epoch 35/150\n",
      "75/75 [==============================] - 0s 201us/step - loss: 0.0345 - accuracy: 0.9867 - val_loss: 0.1200 - val_accuracy: 0.9333\n",
      "Epoch 36/150\n",
      "75/75 [==============================] - 0s 226us/step - loss: 0.0331 - accuracy: 0.9867 - val_loss: 0.1194 - val_accuracy: 0.9333\n",
      "Epoch 37/150\n",
      "75/75 [==============================] - 0s 160us/step - loss: 0.0326 - accuracy: 0.9867 - val_loss: 0.1187 - val_accuracy: 0.9333\n",
      "Epoch 38/150\n",
      "75/75 [==============================] - 0s 186us/step - loss: 0.0346 - accuracy: 0.9867 - val_loss: 0.1195 - val_accuracy: 0.9467\n",
      "Epoch 39/150\n",
      "75/75 [==============================] - 0s 240us/step - loss: 0.0283 - accuracy: 0.9867 - val_loss: 0.1164 - val_accuracy: 0.9333\n",
      "Epoch 40/150\n",
      "75/75 [==============================] - 0s 242us/step - loss: 0.0303 - accuracy: 0.9867 - val_loss: 0.1187 - val_accuracy: 0.9333\n",
      "Epoch 41/150\n",
      "75/75 [==============================] - 0s 147us/step - loss: 0.0287 - accuracy: 0.9867 - val_loss: 0.1198 - val_accuracy: 0.9467\n",
      "Epoch 42/150\n",
      "75/75 [==============================] - 0s 146us/step - loss: 0.0280 - accuracy: 0.9867 - val_loss: 0.1197 - val_accuracy: 0.9467\n",
      "Epoch 43/150\n",
      "75/75 [==============================] - 0s 332us/step - loss: 0.0287 - accuracy: 1.0000 - val_loss: 0.1275 - val_accuracy: 0.9467\n",
      "Epoch 44/150\n",
      "75/75 [==============================] - 0s 186us/step - loss: 0.0277 - accuracy: 0.9867 - val_loss: 0.1189 - val_accuracy: 0.9333\n",
      "Epoch 45/150\n",
      "75/75 [==============================] - 0s 213us/step - loss: 0.0261 - accuracy: 0.9867 - val_loss: 0.1179 - val_accuracy: 0.9333\n",
      "Epoch 46/150\n",
      "75/75 [==============================] - 0s 263us/step - loss: 0.0279 - accuracy: 0.9867 - val_loss: 0.1167 - val_accuracy: 0.9333\n",
      "Epoch 47/150\n",
      "75/75 [==============================] - 0s 226us/step - loss: 0.0284 - accuracy: 0.9867 - val_loss: 0.1135 - val_accuracy: 0.9333\n",
      "Epoch 48/150\n",
      "75/75 [==============================] - 0s 133us/step - loss: 0.0243 - accuracy: 0.9867 - val_loss: 0.1176 - val_accuracy: 0.9600\n",
      "Epoch 49/150\n",
      "75/75 [==============================] - 0s 319us/step - loss: 0.0252 - accuracy: 1.0000 - val_loss: 0.1163 - val_accuracy: 0.9600\n",
      "Epoch 50/150\n",
      "75/75 [==============================] - 0s 160us/step - loss: 0.0239 - accuracy: 0.9867 - val_loss: 0.1139 - val_accuracy: 0.9333\n",
      "Epoch 51/150\n",
      "75/75 [==============================] - 0s 200us/step - loss: 0.0235 - accuracy: 0.9867 - val_loss: 0.1164 - val_accuracy: 0.9600\n",
      "Epoch 52/150\n",
      "75/75 [==============================] - 0s 186us/step - loss: 0.0238 - accuracy: 1.0000 - val_loss: 0.1145 - val_accuracy: 0.9600\n",
      "Epoch 53/150\n",
      "75/75 [==============================] - 0s 279us/step - loss: 0.0229 - accuracy: 1.0000 - val_loss: 0.1138 - val_accuracy: 0.9600\n",
      "Epoch 54/150\n",
      "75/75 [==============================] - 0s 160us/step - loss: 0.0222 - accuracy: 1.0000 - val_loss: 0.1105 - val_accuracy: 0.9600\n",
      "Epoch 55/150\n",
      "75/75 [==============================] - 0s 199us/step - loss: 0.0240 - accuracy: 1.0000 - val_loss: 0.1118 - val_accuracy: 0.9600\n",
      "Epoch 56/150\n",
      "75/75 [==============================] - 0s 239us/step - loss: 0.0216 - accuracy: 1.0000 - val_loss: 0.1092 - val_accuracy: 0.9333\n",
      "Epoch 57/150\n",
      "75/75 [==============================] - 0s 186us/step - loss: 0.0236 - accuracy: 0.9867 - val_loss: 0.1087 - val_accuracy: 0.9333\n",
      "Epoch 58/150\n",
      "75/75 [==============================] - 0s 160us/step - loss: 0.0268 - accuracy: 1.0000 - val_loss: 0.1282 - val_accuracy: 0.9467\n",
      "Epoch 59/150\n",
      "75/75 [==============================] - 0s 199us/step - loss: 0.0211 - accuracy: 1.0000 - val_loss: 0.1106 - val_accuracy: 0.9600\n",
      "Epoch 60/150\n",
      "75/75 [==============================] - 0s 333us/step - loss: 0.0218 - accuracy: 0.9867 - val_loss: 0.1091 - val_accuracy: 0.9333\n",
      "Epoch 61/150\n",
      "75/75 [==============================] - 0s 146us/step - loss: 0.0240 - accuracy: 0.9867 - val_loss: 0.1175 - val_accuracy: 0.9600\n",
      "Epoch 62/150\n",
      "75/75 [==============================] - 0s 266us/step - loss: 0.0197 - accuracy: 1.0000 - val_loss: 0.1116 - val_accuracy: 0.9600\n",
      "Epoch 63/150\n",
      "75/75 [==============================] - 0s 216us/step - loss: 0.0190 - accuracy: 1.0000 - val_loss: 0.1049 - val_accuracy: 0.9467\n",
      "Epoch 64/150\n",
      "75/75 [==============================] - 0s 372us/step - loss: 0.0209 - accuracy: 0.9867 - val_loss: 0.1060 - val_accuracy: 0.9600\n",
      "Epoch 65/150\n",
      "75/75 [==============================] - 0s 359us/step - loss: 0.0188 - accuracy: 1.0000 - val_loss: 0.1151 - val_accuracy: 0.9600\n",
      "Epoch 66/150\n",
      "75/75 [==============================] - 0s 133us/step - loss: 0.0186 - accuracy: 1.0000 - val_loss: 0.1124 - val_accuracy: 0.9600\n",
      "Epoch 67/150\n",
      "75/75 [==============================] - 0s 226us/step - loss: 0.0184 - accuracy: 1.0000 - val_loss: 0.1087 - val_accuracy: 0.9600\n",
      "Epoch 68/150\n",
      "75/75 [==============================] - 0s 226us/step - loss: 0.0180 - accuracy: 1.0000 - val_loss: 0.1104 - val_accuracy: 0.9600\n",
      "Epoch 69/150\n",
      "75/75 [==============================] - 0s 213us/step - loss: 0.0182 - accuracy: 1.0000 - val_loss: 0.1115 - val_accuracy: 0.9600\n",
      "Epoch 70/150\n",
      "75/75 [==============================] - 0s 146us/step - loss: 0.0181 - accuracy: 1.0000 - val_loss: 0.1137 - val_accuracy: 0.9600\n",
      "Epoch 71/150\n",
      "75/75 [==============================] - 0s 186us/step - loss: 0.0171 - accuracy: 1.0000 - val_loss: 0.1046 - val_accuracy: 0.9600\n",
      "Epoch 72/150\n",
      "75/75 [==============================] - 0s 213us/step - loss: 0.0190 - accuracy: 0.9867 - val_loss: 0.1023 - val_accuracy: 0.9600\n",
      "Epoch 73/150\n",
      "75/75 [==============================] - 0s 213us/step - loss: 0.0179 - accuracy: 1.0000 - val_loss: 0.1410 - val_accuracy: 0.9467\n",
      "Epoch 74/150\n",
      "75/75 [==============================] - 0s 186us/step - loss: 0.0200 - accuracy: 1.0000 - val_loss: 0.1188 - val_accuracy: 0.9467\n",
      "Epoch 75/150\n",
      "75/75 [==============================] - 0s 306us/step - loss: 0.0152 - accuracy: 1.0000 - val_loss: 0.1024 - val_accuracy: 0.9600\n",
      "Epoch 76/150\n",
      "75/75 [==============================] - 0s 160us/step - loss: 0.0180 - accuracy: 0.9867 - val_loss: 0.1065 - val_accuracy: 0.9600\n",
      "Epoch 77/150\n",
      "75/75 [==============================] - 0s 146us/step - loss: 0.0170 - accuracy: 1.0000 - val_loss: 0.1142 - val_accuracy: 0.9600\n",
      "Epoch 78/150\n",
      "75/75 [==============================] - 0s 160us/step - loss: 0.0154 - accuracy: 1.0000 - val_loss: 0.1080 - val_accuracy: 0.9600\n",
      "Epoch 79/150\n",
      "75/75 [==============================] - 0s 279us/step - loss: 0.0162 - accuracy: 1.0000 - val_loss: 0.1110 - val_accuracy: 0.9600\n",
      "Epoch 80/150\n",
      "75/75 [==============================] - 0s 173us/step - loss: 0.0157 - accuracy: 1.0000 - val_loss: 0.1154 - val_accuracy: 0.9600\n",
      "Epoch 81/150\n",
      "75/75 [==============================] - 0s 146us/step - loss: 0.0152 - accuracy: 1.0000 - val_loss: 0.1131 - val_accuracy: 0.9600\n",
      "Epoch 82/150\n",
      "75/75 [==============================] - 0s 239us/step - loss: 0.0154 - accuracy: 1.0000 - val_loss: 0.1132 - val_accuracy: 0.9600\n",
      "Epoch 83/150\n",
      "75/75 [==============================] - 0s 239us/step - loss: 0.0156 - accuracy: 1.0000 - val_loss: 0.1111 - val_accuracy: 0.9600\n",
      "Epoch 84/150\n",
      "75/75 [==============================] - 0s 186us/step - loss: 0.0145 - accuracy: 1.0000 - val_loss: 0.1102 - val_accuracy: 0.9600\n",
      "Epoch 85/150\n",
      "75/75 [==============================] - 0s 173us/step - loss: 0.0151 - accuracy: 1.0000 - val_loss: 0.1122 - val_accuracy: 0.9600\n",
      "Epoch 86/150\n",
      "75/75 [==============================] - 0s 253us/step - loss: 0.0152 - accuracy: 1.0000 - val_loss: 0.1092 - val_accuracy: 0.9600\n",
      "Epoch 87/150\n",
      "75/75 [==============================] - 0s 213us/step - loss: 0.0145 - accuracy: 1.0000 - val_loss: 0.1163 - val_accuracy: 0.9467\n",
      "Epoch 88/150\n",
      "75/75 [==============================] - 0s 293us/step - loss: 0.0143 - accuracy: 1.0000 - val_loss: 0.1137 - val_accuracy: 0.9600\n",
      "Epoch 89/150\n",
      "75/75 [==============================] - 0s 279us/step - loss: 0.0138 - accuracy: 1.0000 - val_loss: 0.1072 - val_accuracy: 0.9600\n",
      "Epoch 90/150\n",
      "75/75 [==============================] - 0s 199us/step - loss: 0.0144 - accuracy: 1.0000 - val_loss: 0.1127 - val_accuracy: 0.9600\n",
      "Epoch 91/150\n",
      "75/75 [==============================] - 0s 160us/step - loss: 0.0141 - accuracy: 1.0000 - val_loss: 0.1085 - val_accuracy: 0.9600\n",
      "Epoch 92/150\n",
      "75/75 [==============================] - 0s 319us/step - loss: 0.0155 - accuracy: 1.0000 - val_loss: 0.1035 - val_accuracy: 0.9600\n",
      "Epoch 93/150\n",
      "75/75 [==============================] - 0s 200us/step - loss: 0.0154 - accuracy: 1.0000 - val_loss: 0.1176 - val_accuracy: 0.9467\n",
      "Epoch 94/150\n",
      "75/75 [==============================] - 0s 146us/step - loss: 0.0160 - accuracy: 1.0000 - val_loss: 0.1036 - val_accuracy: 0.9600\n",
      "Epoch 95/150\n",
      "75/75 [==============================] - 0s 306us/step - loss: 0.0130 - accuracy: 1.0000 - val_loss: 0.1167 - val_accuracy: 0.9600\n",
      "Epoch 96/150\n",
      "75/75 [==============================] - 0s 173us/step - loss: 0.0130 - accuracy: 1.0000 - val_loss: 0.1201 - val_accuracy: 0.9467\n",
      "Epoch 97/150\n",
      "75/75 [==============================] - 0s 173us/step - loss: 0.0146 - accuracy: 1.0000 - val_loss: 0.1099 - val_accuracy: 0.9600\n",
      "Epoch 98/150\n",
      "75/75 [==============================] - 0s 133us/step - loss: 0.0147 - accuracy: 1.0000 - val_loss: 0.1230 - val_accuracy: 0.9467\n",
      "Epoch 99/150\n",
      "75/75 [==============================] - 0s 253us/step - loss: 0.0120 - accuracy: 1.0000 - val_loss: 0.1122 - val_accuracy: 0.9600\n",
      "Epoch 100/150\n",
      "75/75 [==============================] - 0s 146us/step - loss: 0.0129 - accuracy: 1.0000 - val_loss: 0.1119 - val_accuracy: 0.9600\n",
      "Epoch 101/150\n",
      "75/75 [==============================] - 0s 173us/step - loss: 0.0127 - accuracy: 1.0000 - val_loss: 0.1130 - val_accuracy: 0.9600\n",
      "Epoch 102/150\n",
      "75/75 [==============================] - 0s 146us/step - loss: 0.0143 - accuracy: 1.0000 - val_loss: 0.1276 - val_accuracy: 0.9467\n",
      "Epoch 103/150\n",
      "75/75 [==============================] - 0s 319us/step - loss: 0.0125 - accuracy: 1.0000 - val_loss: 0.1144 - val_accuracy: 0.9600\n",
      "Epoch 104/150\n",
      "75/75 [==============================] - 0s 160us/step - loss: 0.0121 - accuracy: 1.0000 - val_loss: 0.1192 - val_accuracy: 0.9467\n",
      "Epoch 105/150\n",
      "75/75 [==============================] - 0s 306us/step - loss: 0.0120 - accuracy: 1.0000 - val_loss: 0.1182 - val_accuracy: 0.9467\n",
      "Epoch 106/150\n",
      "75/75 [==============================] - 0s 319us/step - loss: 0.0123 - accuracy: 1.0000 - val_loss: 0.1183 - val_accuracy: 0.9467\n",
      "Epoch 107/150\n",
      "75/75 [==============================] - 0s 173us/step - loss: 0.0115 - accuracy: 1.0000 - val_loss: 0.1144 - val_accuracy: 0.9600\n",
      "Epoch 108/150\n",
      "75/75 [==============================] - 0s 319us/step - loss: 0.0116 - accuracy: 1.0000 - val_loss: 0.1114 - val_accuracy: 0.9600\n",
      "Epoch 109/150\n",
      "75/75 [==============================] - 0s 173us/step - loss: 0.0115 - accuracy: 1.0000 - val_loss: 0.1137 - val_accuracy: 0.9600\n",
      "Epoch 110/150\n",
      "75/75 [==============================] - 0s 186us/step - loss: 0.0114 - accuracy: 1.0000 - val_loss: 0.1167 - val_accuracy: 0.9600\n",
      "Epoch 111/150\n",
      "75/75 [==============================] - 0s 160us/step - loss: 0.0114 - accuracy: 1.0000 - val_loss: 0.1138 - val_accuracy: 0.9600\n",
      "Epoch 112/150\n",
      "75/75 [==============================] - 0s 253us/step - loss: 0.0116 - accuracy: 1.0000 - val_loss: 0.1206 - val_accuracy: 0.9467\n",
      "Epoch 113/150\n",
      "75/75 [==============================] - 0s 146us/step - loss: 0.0117 - accuracy: 1.0000 - val_loss: 0.1068 - val_accuracy: 0.9600\n",
      "Epoch 114/150\n",
      "75/75 [==============================] - 0s 186us/step - loss: 0.0112 - accuracy: 1.0000 - val_loss: 0.1110 - val_accuracy: 0.9600\n",
      "Epoch 115/150\n",
      "75/75 [==============================] - 0s 227us/step - loss: 0.0103 - accuracy: 1.0000 - val_loss: 0.1206 - val_accuracy: 0.9467\n",
      "Epoch 116/150\n",
      "75/75 [==============================] - 0s 253us/step - loss: 0.0110 - accuracy: 1.0000 - val_loss: 0.1165 - val_accuracy: 0.9467\n",
      "Epoch 117/150\n",
      "75/75 [==============================] - 0s 199us/step - loss: 0.0102 - accuracy: 1.0000 - val_loss: 0.1198 - val_accuracy: 0.9467\n",
      "Epoch 118/150\n",
      "75/75 [==============================] - 0s 353us/step - loss: 0.0116 - accuracy: 1.0000 - val_loss: 0.1146 - val_accuracy: 0.9467\n",
      "Epoch 119/150\n",
      "75/75 [==============================] - 0s 200us/step - loss: 0.0103 - accuracy: 1.0000 - val_loss: 0.1346 - val_accuracy: 0.9467\n",
      "Epoch 120/150\n",
      "75/75 [==============================] - 0s 160us/step - loss: 0.0118 - accuracy: 1.0000 - val_loss: 0.1228 - val_accuracy: 0.9467\n",
      "Epoch 121/150\n",
      "75/75 [==============================] - 0s 199us/step - loss: 0.0104 - accuracy: 1.0000 - val_loss: 0.1303 - val_accuracy: 0.9467\n",
      "Epoch 122/150\n",
      "75/75 [==============================] - 0s 253us/step - loss: 0.0103 - accuracy: 1.0000 - val_loss: 0.1236 - val_accuracy: 0.9467\n",
      "Epoch 123/150\n",
      "75/75 [==============================] - 0s 186us/step - loss: 0.0100 - accuracy: 1.0000 - val_loss: 0.1155 - val_accuracy: 0.9600\n",
      "Epoch 124/150\n",
      "75/75 [==============================] - 0s 173us/step - loss: 0.0101 - accuracy: 1.0000 - val_loss: 0.1197 - val_accuracy: 0.9467\n",
      "Epoch 125/150\n",
      "75/75 [==============================] - 0s 253us/step - loss: 0.0100 - accuracy: 1.0000 - val_loss: 0.1156 - val_accuracy: 0.9467\n",
      "Epoch 126/150\n",
      "75/75 [==============================] - 0s 160us/step - loss: 0.0104 - accuracy: 1.0000 - val_loss: 0.1151 - val_accuracy: 0.9600\n",
      "Epoch 127/150\n",
      "75/75 [==============================] - 0s 173us/step - loss: 0.0091 - accuracy: 1.0000 - val_loss: 0.1356 - val_accuracy: 0.9467\n",
      "Epoch 128/150\n",
      "75/75 [==============================] - 0s 160us/step - loss: 0.0102 - accuracy: 1.0000 - val_loss: 0.1259 - val_accuracy: 0.9467\n",
      "Epoch 129/150\n",
      "75/75 [==============================] - 0s 253us/step - loss: 0.0094 - accuracy: 1.0000 - val_loss: 0.1198 - val_accuracy: 0.9467\n",
      "Epoch 130/150\n",
      "75/75 [==============================] - 0s 160us/step - loss: 0.0098 - accuracy: 1.0000 - val_loss: 0.1196 - val_accuracy: 0.9467\n",
      "Epoch 131/150\n",
      "75/75 [==============================] - 0s 173us/step - loss: 0.0104 - accuracy: 1.0000 - val_loss: 0.1113 - val_accuracy: 0.9600\n",
      "Epoch 132/150\n",
      "75/75 [==============================] - 0s 226us/step - loss: 0.0094 - accuracy: 1.0000 - val_loss: 0.1216 - val_accuracy: 0.9467\n",
      "Epoch 133/150\n",
      "75/75 [==============================] - 0s 239us/step - loss: 0.0093 - accuracy: 1.0000 - val_loss: 0.1162 - val_accuracy: 0.9467\n",
      "Epoch 134/150\n",
      "75/75 [==============================] - 0s 160us/step - loss: 0.0093 - accuracy: 1.0000 - val_loss: 0.1178 - val_accuracy: 0.9467\n",
      "Epoch 135/150\n",
      "75/75 [==============================] - 0s 306us/step - loss: 0.0089 - accuracy: 1.0000 - val_loss: 0.1169 - val_accuracy: 0.9467\n",
      "Epoch 136/150\n",
      "75/75 [==============================] - 0s 160us/step - loss: 0.0089 - accuracy: 1.0000 - val_loss: 0.1190 - val_accuracy: 0.9467\n",
      "Epoch 137/150\n",
      "75/75 [==============================] - 0s 186us/step - loss: 0.0085 - accuracy: 1.0000 - val_loss: 0.1181 - val_accuracy: 0.9467\n",
      "Epoch 138/150\n",
      "75/75 [==============================] - 0s 160us/step - loss: 0.0094 - accuracy: 1.0000 - val_loss: 0.1162 - val_accuracy: 0.9467\n",
      "Epoch 139/150\n",
      "75/75 [==============================] - 0s 306us/step - loss: 0.0084 - accuracy: 1.0000 - val_loss: 0.1385 - val_accuracy: 0.9467\n",
      "Epoch 140/150\n",
      "75/75 [==============================] - ETA: 0s - loss: 0.0017 - accuracy: 1.00 - 0s 146us/step - loss: 0.0095 - accuracy: 1.0000 - val_loss: 0.1288 - val_accuracy: 0.9467\n",
      "Epoch 141/150\n",
      "75/75 [==============================] - 0s 173us/step - loss: 0.0083 - accuracy: 1.0000 - val_loss: 0.1201 - val_accuracy: 0.9467\n",
      "Epoch 142/150\n",
      "75/75 [==============================] - 0s 186us/step - loss: 0.0085 - accuracy: 1.0000 - val_loss: 0.1162 - val_accuracy: 0.9600\n",
      "Epoch 143/150\n",
      "75/75 [==============================] - 0s 253us/step - loss: 0.0083 - accuracy: 1.0000 - val_loss: 0.1160 - val_accuracy: 0.9600\n",
      "Epoch 144/150\n",
      "75/75 [==============================] - 0s 359us/step - loss: 0.0089 - accuracy: 1.0000 - val_loss: 0.1160 - val_accuracy: 0.9600\n",
      "Epoch 145/150\n",
      "75/75 [==============================] - 0s 273us/step - loss: 0.0086 - accuracy: 1.0000 - val_loss: 0.1178 - val_accuracy: 0.9600\n",
      "Epoch 146/150\n",
      "75/75 [==============================] - 0s 199us/step - loss: 0.0087 - accuracy: 1.0000 - val_loss: 0.1169 - val_accuracy: 0.9600\n",
      "Epoch 147/150\n",
      "75/75 [==============================] - 0s 133us/step - loss: 0.0083 - accuracy: 1.0000 - val_loss: 0.1220 - val_accuracy: 0.9467\n",
      "Epoch 148/150\n",
      "75/75 [==============================] - 0s 319us/step - loss: 0.0081 - accuracy: 1.0000 - val_loss: 0.1208 - val_accuracy: 0.9467\n",
      "Epoch 149/150\n",
      "75/75 [==============================] - 0s 146us/step - loss: 0.0081 - accuracy: 1.0000 - val_loss: 0.1196 - val_accuracy: 0.9467\n",
      "Epoch 150/150\n",
      "75/75 [==============================] - 0s 186us/step - loss: 0.0076 - accuracy: 1.0000 - val_loss: 0.1343 - val_accuracy: 0.9467\n"
     ]
    },
    {
     "data": {
      "image/png": "[encoded data removed]",
      "text/plain": [
       "<Figure size 432x288 with 1 Axes>"
      ]
     },
     "metadata": {
      "needs_background": "light"
     },
     "output_type": "display_data"
    },
    {
     "data": {
      "image/png": "[encoded data removed]",
      "text/plain": [
       "<Figure size 432x288 with 1 Axes>"
      ]
     },
     "metadata": {
      "needs_background": "light"
     },
     "output_type": "display_data"
    }
   ],
   "source": [
    "model = Sequential([Dense(12,input_shape = (4,)),Activation(\"sigmoid\"),Dense(units = 3,input_shape=(12,)),Activation(\"softmax\")])\n",
    "from keras.optimizers import SGD\n",
    "SGDoptimizer = SGD(lr = .2, momentum = .8)\n",
    "model.compile(optimizer = SGDoptimizer,loss = \"categorical_crossentropy\",metrics = [\"accuracy\"])\n",
    "history = model.fit(X_train,y_train,epochs = 150, batch_size = 10,verbose = 1, validation_data = (X_test,y_test))\n",
    "plotHistory(history)"
   ]
  },
  {
   "cell_type": "markdown",
   "metadata": {},
   "source": [
    "This was a much more succesful classifier than the previous one using the adam optimizer. The accuarcy got to 100% by the first epoch and pretty much stays there. Loss also went down faster."
   ]
  },
  {
   "cell_type": "markdown",
   "metadata": {},
   "source": [
    "#### 15) Remember, this is a classification problem. Use your model to predict the classes for the test data (using the function predict_classes), and store the results as y_pred."
   ]
  },
  {
   "cell_type": "code",
   "execution_count": 116,
   "metadata": {},
   "outputs": [],
   "source": [
    "y_pred = model.predict_classes(X_test)"
   ]
  },
  {
   "cell_type": "markdown",
   "metadata": {},
   "source": [
    "#### 16) Finally, using your code from the lab on classification, output the confusion_matrix and the classification_report (from scikit-learn's metric package) to print out the complete performance results."
   ]
  },
  {
   "cell_type": "code",
   "execution_count": 117,
   "metadata": {},
   "outputs": [
    {
     "name": "stdout",
     "output_type": "stream",
     "text": [
      "[[23  0  0]\n",
      " [ 0 18  4]\n",
      " [ 0  0 30]]\n",
      "              precision    recall  f1-score   support\n",
      "\n",
      "           0       1.00      1.00      1.00        23\n",
      "           1       1.00      0.82      0.90        22\n",
      "           2       0.88      1.00      0.94        30\n",
      "\n",
      "    accuracy                           0.95        75\n",
      "   macro avg       0.96      0.94      0.95        75\n",
      "weighted avg       0.95      0.95      0.95        75\n",
      "\n"
     ]
    }
   ],
   "source": [
    "y_test_cat= y_test_unbinarized[\"species\"].astype('category').cat.codes\n",
    "from sklearn.metrics import confusion_matrix\n",
    "print(confusion_matrix(y_test_cat.values,y_pred))\n",
    "from sklearn.metrics import classification_report\n",
    "print(classification_report(y_test_cat,y_pred))"
   ]
  },
  {
   "cell_type": "markdown",
   "metadata": {},
   "source": [
    "#### 17) Import the above class into your code. Then write a function called create_keras_model(). Copy all of your code that creates the Sequential instance, adds the layers, activation functions, and compiles it, into this function."
   ]
  },
  {
   "cell_type": "code",
   "execution_count": 118,
   "metadata": {},
   "outputs": [],
   "source": [
    "from keras.wrappers.scikit_learn import KerasClassifier\n",
    "def create_keras_model():\n",
    "    model = Sequential([Dense(12,input_shape = (4,)),Activation(\"sigmoid\"),Dense(units = 3,input_shape=(12,)),Activation(\"softmax\")])\n",
    "    model.compile(optimizer='adam', loss=\"categorical_crossentropy\",metrics=[\"accuracy\"])\n",
    "    return model\n",
    "# Create a wrapped keras model\n",
    "clf = KerasClassifier(build_fn=create_keras_model, verbose=1, epochs=100,batch_size=1)"
   ]
  },
  {
   "cell_type": "markdown",
   "metadata": {},
   "source": [
    "#### 18) At this point, you now have a classifier model that behaves like any other scikit-learn classifier! Cool, right?\n",
    "So, using the clf classifier above, use it just like you would any other classifier. Run the fit method on\n",
    "your classifier, just like you did in lab10. Use X_train and the one hot encoded y_train data. Then, use\n",
    "the predict() method to generate class predictions on X_test. Store the results in y_pred."
   ]
  },
  {
   "cell_type": "code",
   "execution_count": 120,
   "metadata": {},
   "outputs": [
    {
     "name": "stdout",
     "output_type": "stream",
     "text": [
      "Epoch 1/100\n",
      "75/75 [==============================] - 0s 5ms/step - loss: 0.9890 - accuracy: 0.4933\n",
      "Epoch 2/100\n",
      "75/75 [==============================] - 0s 2ms/step - loss: 0.8876 - accuracy: 0.6533\n",
      "Epoch 3/100\n",
      "75/75 [==============================] - 0s 1ms/step - loss: 0.8125 - accuracy: 0.8133\n",
      "Epoch 4/100\n",
      "75/75 [==============================] - 0s 2ms/step - loss: 0.7506 - accuracy: 0.8400\n",
      "Epoch 5/100\n",
      "75/75 [==============================] - 0s 1ms/step - loss: 0.6958 - accuracy: 0.8533\n",
      "Epoch 6/100\n",
      "75/75 [==============================] - 0s 2ms/step - loss: 0.6500 - accuracy: 0.8667\n",
      "Epoch 7/100\n",
      "75/75 [==============================] - 0s 1ms/step - loss: 0.6099 - accuracy: 0.8533\n",
      "Epoch 8/100\n",
      "75/75 [==============================] - 0s 1ms/step - loss: 0.5771 - accuracy: 0.8533\n",
      "Epoch 9/100\n",
      "75/75 [==============================] - 0s 2ms/step - loss: 0.5444 - accuracy: 0.8667\n",
      "Epoch 10/100\n",
      "75/75 [==============================] - 0s 1ms/step - loss: 0.5158 - accuracy: 0.8533\n",
      "Epoch 11/100\n",
      "75/75 [==============================] - 0s 1ms/step - loss: 0.4918 - accuracy: 0.8667\n",
      "Epoch 12/100\n",
      "75/75 [==============================] - 0s 1ms/step - loss: 0.4692 - accuracy: 0.8533\n",
      "Epoch 13/100\n",
      "75/75 [==============================] - 0s 1ms/step - loss: 0.4506 - accuracy: 0.8667\n",
      "Epoch 14/100\n",
      "75/75 [==============================] - 0s 1ms/step - loss: 0.4310 - accuracy: 0.8667\n",
      "Epoch 15/100\n",
      "75/75 [==============================] - 0s 1ms/step - loss: 0.4146 - accuracy: 0.8667\n",
      "Epoch 16/100\n",
      "75/75 [==============================] - 0s 1ms/step - loss: 0.4004 - accuracy: 0.8667\n",
      "Epoch 17/100\n",
      "75/75 [==============================] - 0s 1ms/step - loss: 0.3868 - accuracy: 0.8800\n",
      "Epoch 18/100\n",
      "75/75 [==============================] - 0s 1ms/step - loss: 0.3744 - accuracy: 0.8800\n",
      "Epoch 19/100\n",
      "75/75 [==============================] - 0s 1ms/step - loss: 0.3627 - accuracy: 0.8667\n",
      "Epoch 20/100\n",
      "75/75 [==============================] - 0s 2ms/step - loss: 0.3524 - accuracy: 0.8800\n",
      "Epoch 21/100\n",
      "75/75 [==============================] - 0s 1ms/step - loss: 0.3429 - accuracy: 0.8800\n",
      "Epoch 22/100\n",
      "75/75 [==============================] - 0s 1ms/step - loss: 0.3356 - accuracy: 0.8800\n",
      "Epoch 23/100\n",
      "75/75 [==============================] - 0s 1ms/step - loss: 0.3250 - accuracy: 0.8800\n",
      "Epoch 24/100\n",
      "75/75 [==============================] - 0s 1ms/step - loss: 0.3182 - accuracy: 0.8933\n",
      "Epoch 25/100\n",
      "75/75 [==============================] - 0s 1ms/step - loss: 0.3104 - accuracy: 0.8933\n",
      "Epoch 26/100\n",
      "75/75 [==============================] - 0s 1ms/step - loss: 0.3015 - accuracy: 0.8800\n",
      "Epoch 27/100\n",
      "75/75 [==============================] - 0s 2ms/step - loss: 0.2953 - accuracy: 0.8933\n",
      "Epoch 28/100\n",
      "75/75 [==============================] - 0s 2ms/step - loss: 0.2896 - accuracy: 0.8933\n",
      "Epoch 29/100\n",
      "75/75 [==============================] - 0s 1ms/step - loss: 0.2825 - accuracy: 0.9067\n",
      "Epoch 30/100\n",
      "75/75 [==============================] - 0s 1ms/step - loss: 0.2769 - accuracy: 0.8933\n",
      "Epoch 31/100\n",
      "75/75 [==============================] - 0s 1ms/step - loss: 0.2705 - accuracy: 0.9067\n",
      "Epoch 32/100\n",
      "75/75 [==============================] - 0s 1ms/step - loss: 0.2656 - accuracy: 0.9067\n",
      "Epoch 33/100\n",
      "75/75 [==============================] - 0s 2ms/step - loss: 0.2586 - accuracy: 0.9067\n",
      "Epoch 34/100\n",
      "75/75 [==============================] - 0s 2ms/step - loss: 0.2535 - accuracy: 0.9200\n",
      "Epoch 35/100\n",
      "75/75 [==============================] - 0s 1ms/step - loss: 0.2487 - accuracy: 0.9200\n",
      "Epoch 36/100\n",
      "75/75 [==============================] - 0s 2ms/step - loss: 0.2434 - accuracy: 0.9200\n",
      "Epoch 37/100\n",
      "75/75 [==============================] - 0s 2ms/step - loss: 0.2406 - accuracy: 0.9200\n",
      "Epoch 38/100\n",
      "75/75 [==============================] - 0s 2ms/step - loss: 0.2343 - accuracy: 0.9200\n",
      "Epoch 39/100\n",
      "75/75 [==============================] - 0s 2ms/step - loss: 0.2295 - accuracy: 0.9200\n",
      "Epoch 40/100\n",
      "75/75 [==============================] - 0s 1ms/step - loss: 0.2263 - accuracy: 0.9200\n",
      "Epoch 41/100\n",
      "75/75 [==============================] - 0s 1ms/step - loss: 0.2206 - accuracy: 0.9200\n",
      "Epoch 42/100\n",
      "75/75 [==============================] - 0s 1ms/step - loss: 0.2168 - accuracy: 0.9200\n",
      "Epoch 43/100\n",
      "75/75 [==============================] - 0s 971us/step - loss: 0.2127 - accuracy: 0.9200\n",
      "Epoch 44/100\n",
      "75/75 [==============================] - 0s 1ms/step - loss: 0.2084 - accuracy: 0.9333\n",
      "Epoch 45/100\n",
      "75/75 [==============================] - 0s 2ms/step - loss: 0.2054 - accuracy: 0.9333\n",
      "Epoch 46/100\n",
      "75/75 [==============================] - 0s 2ms/step - loss: 0.2007 - accuracy: 0.9333\n",
      "Epoch 47/100\n",
      "75/75 [==============================] - 0s 1ms/step - loss: 0.1965 - accuracy: 0.9200\n",
      "Epoch 48/100\n",
      "75/75 [==============================] - 0s 1ms/step - loss: 0.1938 - accuracy: 0.9200\n",
      "Epoch 49/100\n",
      "75/75 [==============================] - 0s 1ms/step - loss: 0.1898 - accuracy: 0.9333\n",
      "Epoch 50/100\n",
      "75/75 [==============================] - 0s 1ms/step - loss: 0.1855 - accuracy: 0.9333\n",
      "Epoch 51/100\n",
      "75/75 [==============================] - 0s 1ms/step - loss: 0.1822 - accuracy: 0.9467\n",
      "Epoch 52/100\n",
      "75/75 [==============================] - 0s 1ms/step - loss: 0.1782 - accuracy: 0.9467\n",
      "Epoch 53/100\n",
      "75/75 [==============================] - 0s 1ms/step - loss: 0.1746 - accuracy: 0.9600\n",
      "Epoch 54/100\n",
      "75/75 [==============================] - 0s 1ms/step - loss: 0.1713 - accuracy: 0.9600\n",
      "Epoch 55/100\n",
      "75/75 [==============================] - 0s 1ms/step - loss: 0.1683 - accuracy: 0.9600\n",
      "Epoch 56/100\n",
      "75/75 [==============================] - 0s 2ms/step - loss: 0.1646 - accuracy: 0.9600\n",
      "Epoch 57/100\n",
      "75/75 [==============================] - 0s 2ms/step - loss: 0.1618 - accuracy: 0.9600\n",
      "Epoch 58/100\n",
      "75/75 [==============================] - 0s 1ms/step - loss: 0.1590 - accuracy: 0.9600\n",
      "Epoch 59/100\n",
      "75/75 [==============================] - 0s 1ms/step - loss: 0.1549 - accuracy: 0.9600\n",
      "Epoch 60/100\n",
      "75/75 [==============================] - 0s 1ms/step - loss: 0.1529 - accuracy: 0.9600\n",
      "Epoch 61/100\n",
      "75/75 [==============================] - 0s 1ms/step - loss: 0.1492 - accuracy: 0.9600\n",
      "Epoch 62/100\n",
      "75/75 [==============================] - 0s 2ms/step - loss: 0.1477 - accuracy: 0.9600\n",
      "Epoch 63/100\n",
      "75/75 [==============================] - 0s 2ms/step - loss: 0.1442 - accuracy: 0.9600\n",
      "Epoch 64/100\n",
      "75/75 [==============================] - 0s 1ms/step - loss: 0.1410 - accuracy: 0.9600\n",
      "Epoch 65/100\n",
      "75/75 [==============================] - 0s 1ms/step - loss: 0.1376 - accuracy: 0.9600\n",
      "Epoch 66/100\n",
      "75/75 [==============================] - 0s 1ms/step - loss: 0.1348 - accuracy: 0.9600\n",
      "Epoch 67/100\n",
      "75/75 [==============================] - 0s 2ms/step - loss: 0.1321 - accuracy: 0.9600\n",
      "Epoch 68/100\n",
      "75/75 [==============================] - 0s 2ms/step - loss: 0.1296 - accuracy: 0.9733\n",
      "Epoch 69/100\n",
      "75/75 [==============================] - 0s 2ms/step - loss: 0.1277 - accuracy: 0.9733\n",
      "Epoch 70/100\n",
      "75/75 [==============================] - 0s 1ms/step - loss: 0.1243 - accuracy: 0.9733\n",
      "Epoch 71/100\n",
      "75/75 [==============================] - 0s 1ms/step - loss: 0.1222 - accuracy: 0.9733\n",
      "Epoch 72/100\n",
      "75/75 [==============================] - 0s 2ms/step - loss: 0.1199 - accuracy: 0.9733\n",
      "Epoch 73/100\n",
      "75/75 [==============================] - 0s 2ms/step - loss: 0.1172 - accuracy: 0.9733: 0s - loss: 0.0903 - accuracy: 1.\n",
      "Epoch 74/100\n",
      "75/75 [==============================] - 0s 2ms/step - loss: 0.1164 - accuracy: 0.9733\n",
      "Epoch 75/100\n",
      "75/75 [==============================] - 0s 2ms/step - loss: 0.1130 - accuracy: 0.9733\n",
      "Epoch 76/100\n",
      "75/75 [==============================] - 0s 1ms/step - loss: 0.1106 - accuracy: 0.9733\n",
      "Epoch 77/100\n",
      "75/75 [==============================] - 0s 1ms/step - loss: 0.1091 - accuracy: 0.9733\n",
      "Epoch 78/100\n",
      "75/75 [==============================] - 0s 1ms/step - loss: 0.1061 - accuracy: 0.9733\n",
      "Epoch 79/100\n",
      "75/75 [==============================] - 0s 1ms/step - loss: 0.1053 - accuracy: 0.9733\n",
      "Epoch 80/100\n",
      "75/75 [==============================] - 0s 2ms/step - loss: 0.1018 - accuracy: 0.9733\n",
      "Epoch 81/100\n",
      "75/75 [==============================] - 0s 2ms/step - loss: 0.1011 - accuracy: 0.9733\n",
      "Epoch 82/100\n",
      "75/75 [==============================] - 0s 2ms/step - loss: 0.0987 - accuracy: 0.9733\n",
      "Epoch 83/100\n",
      "75/75 [==============================] - 0s 2ms/step - loss: 0.0979 - accuracy: 0.9733\n",
      "Epoch 84/100\n",
      "75/75 [==============================] - 0s 1ms/step - loss: 0.0941 - accuracy: 0.9733\n",
      "Epoch 85/100\n",
      "75/75 [==============================] - 0s 1ms/step - loss: 0.0926 - accuracy: 0.9733\n",
      "Epoch 86/100\n",
      "75/75 [==============================] - 0s 1ms/step - loss: 0.0909 - accuracy: 0.9867\n",
      "Epoch 87/100\n",
      "75/75 [==============================] - 0s 1ms/step - loss: 0.0897 - accuracy: 0.9867\n",
      "Epoch 88/100\n",
      "75/75 [==============================] - 0s 2ms/step - loss: 0.0882 - accuracy: 0.9867\n",
      "Epoch 89/100\n",
      "75/75 [==============================] - 0s 2ms/step - loss: 0.0861 - accuracy: 0.9733\n",
      "Epoch 90/100\n",
      "75/75 [==============================] - 0s 1ms/step - loss: 0.0845 - accuracy: 0.9867\n",
      "Epoch 91/100\n",
      "75/75 [==============================] - 0s 1ms/step - loss: 0.0833 - accuracy: 0.9867\n",
      "Epoch 92/100\n",
      "75/75 [==============================] - 0s 2ms/step - loss: 0.0812 - accuracy: 0.9867\n",
      "Epoch 93/100\n",
      "75/75 [==============================] - 0s 2ms/step - loss: 0.0800 - accuracy: 0.9867\n",
      "Epoch 94/100\n",
      "75/75 [==============================] - 0s 2ms/step - loss: 0.0783 - accuracy: 0.9867\n",
      "Epoch 95/100\n",
      "75/75 [==============================] - 0s 2ms/step - loss: 0.0773 - accuracy: 0.9867\n",
      "Epoch 96/100\n",
      "75/75 [==============================] - 0s 2ms/step - loss: 0.0758 - accuracy: 0.9867\n",
      "Epoch 97/100\n",
      "75/75 [==============================] - 0s 2ms/step - loss: 0.0753 - accuracy: 0.9867\n",
      "Epoch 98/100\n",
      "75/75 [==============================] - 0s 1ms/step - loss: 0.0732 - accuracy: 0.9867\n",
      "Epoch 99/100\n",
      "75/75 [==============================] - 0s 2ms/step - loss: 0.0725 - accuracy: 0.9867\n",
      "Epoch 100/100\n",
      "75/75 [==============================] - 0s 2ms/step - loss: 0.0709 - accuracy: 0.9867\n",
      "75/75 [==============================] - 0s 798us/step\n"
     ]
    }
   ],
   "source": [
    "clf.fit(X_train,y_train)\n",
    "y_pred  = clf.predict(X_test)"
   ]
  },
  {
   "cell_type": "markdown",
   "metadata": {},
   "source": [
    "#### 19) Use the predictions to generate a confusion matrix."
   ]
  },
  {
   "cell_type": "code",
   "execution_count": 123,
   "metadata": {},
   "outputs": [
    {
     "name": "stdout",
     "output_type": "stream",
     "text": [
      "[[23  0  0]\n",
      " [ 0 20  2]\n",
      " [ 0  3 27]]\n"
     ]
    }
   ],
   "source": [
    "print(confusion_matrix(y_test_cat,y_pred))"
   ]
  },
  {
   "cell_type": "markdown",
   "metadata": {},
   "source": [
    "#### 20) Generate a performance report with the classification_report function."
   ]
  },
  {
   "cell_type": "code",
   "execution_count": 122,
   "metadata": {},
   "outputs": [
    {
     "name": "stdout",
     "output_type": "stream",
     "text": [
      "              precision    recall  f1-score   support\n",
      "\n",
      "           0       1.00      1.00      1.00        23\n",
      "           1       0.87      0.91      0.89        22\n",
      "           2       0.93      0.90      0.92        30\n",
      "\n",
      "    accuracy                           0.93        75\n",
      "   macro avg       0.93      0.94      0.93        75\n",
      "weighted avg       0.93      0.93      0.93        75\n",
      "\n"
     ]
    }
   ],
   "source": [
    "print(classification_report(y_test_cat,y_pred))"
   ]
  },
  {
   "cell_type": "markdown",
   "metadata": {},
   "source": [
    "#### 21) Now, harness the power of wrapping this class. Use your code from lab10 that performed a full cross validation. For sake of your time, you may set K to 5. Also, you will likely want to disable verbose mode for this, otherwise you'll have a LOT of output. AND, because deep learning models can take a while to train each model, it is a good idea to generate some output in your loop to show that the cross validation is progressing."
   ]
  },
  {
   "cell_type": "code",
   "execution_count": 139,
   "metadata": {},
   "outputs": [],
   "source": [
    "kfold = KFold(5,True)"
   ]
  },
  {
   "cell_type": "code",
   "execution_count": 140,
   "metadata": {},
   "outputs": [],
   "source": [
    "df_results = []\n",
    "df_iris = sns.load_dataset('iris')\n",
    "df_iris.species = pd.Categorical(df_iris.species)\n",
    "X = df_iris.iloc[:,:4]\n",
    "y = pd.DataFrame(df_iris.iloc[:,4])\n",
    "X = shuffle(X,random_state = 0)\n",
    "y = shuffle(y,random_state = 0)\n",
    "y_unbinarized = y.copy()"
   ]
  },
  {
   "cell_type": "code",
   "execution_count": 141,
   "metadata": {},
   "outputs": [
    {
     "name": "stdout",
     "output_type": "stream",
     "text": [
      "Fold: 0\n",
      "Fold: 1\n",
      "Fold: 2\n",
      "Fold: 3\n",
      "Fold: 4\n"
     ]
    },
    {
     "data": {
      "text/html": [
       "<div>\n",
       "<style scoped>\n",
       "    .dataframe tbody tr th:only-of-type {\n",
       "        vertical-align: middle;\n",
       "    }\n",
       "\n",
       "    .dataframe tbody tr th {\n",
       "        vertical-align: top;\n",
       "    }\n",
       "\n",
       "    .dataframe thead th {\n",
       "        text-align: right;\n",
       "    }\n",
       "</style>\n",
       "<table border=\"1\" class=\"dataframe\">\n",
       "  <thead>\n",
       "    <tr style=\"text-align: right;\">\n",
       "      <th></th>\n",
       "      <th>true</th>\n",
       "      <th>pred</th>\n",
       "    </tr>\n",
       "  </thead>\n",
       "  <tbody>\n",
       "    <tr>\n",
       "      <th>0</th>\n",
       "      <td>setosa</td>\n",
       "      <td>0</td>\n",
       "    </tr>\n",
       "    <tr>\n",
       "      <th>1</th>\n",
       "      <td>setosa</td>\n",
       "      <td>0</td>\n",
       "    </tr>\n",
       "    <tr>\n",
       "      <th>2</th>\n",
       "      <td>versicolor</td>\n",
       "      <td>1</td>\n",
       "    </tr>\n",
       "    <tr>\n",
       "      <th>3</th>\n",
       "      <td>virginica</td>\n",
       "      <td>2</td>\n",
       "    </tr>\n",
       "    <tr>\n",
       "      <th>4</th>\n",
       "      <td>versicolor</td>\n",
       "      <td>1</td>\n",
       "    </tr>\n",
       "    <tr>\n",
       "      <th>...</th>\n",
       "      <td>...</td>\n",
       "      <td>...</td>\n",
       "    </tr>\n",
       "    <tr>\n",
       "      <th>145</th>\n",
       "      <td>versicolor</td>\n",
       "      <td>1</td>\n",
       "    </tr>\n",
       "    <tr>\n",
       "      <th>146</th>\n",
       "      <td>virginica</td>\n",
       "      <td>2</td>\n",
       "    </tr>\n",
       "    <tr>\n",
       "      <th>147</th>\n",
       "      <td>setosa</td>\n",
       "      <td>0</td>\n",
       "    </tr>\n",
       "    <tr>\n",
       "      <th>148</th>\n",
       "      <td>versicolor</td>\n",
       "      <td>1</td>\n",
       "    </tr>\n",
       "    <tr>\n",
       "      <th>149</th>\n",
       "      <td>setosa</td>\n",
       "      <td>0</td>\n",
       "    </tr>\n",
       "  </tbody>\n",
       "</table>\n",
       "<p>150 rows × 2 columns</p>\n",
       "</div>"
      ],
      "text/plain": [
       "           true pred\n",
       "0        setosa    0\n",
       "1        setosa    0\n",
       "2    versicolor    1\n",
       "3     virginica    2\n",
       "4    versicolor    1\n",
       "..          ...  ...\n",
       "145  versicolor    1\n",
       "146   virginica    2\n",
       "147      setosa    0\n",
       "148  versicolor    1\n",
       "149      setosa    0\n",
       "\n",
       "[150 rows x 2 columns]"
      ]
     },
     "execution_count": 141,
     "metadata": {},
     "output_type": "execute_result"
    }
   ],
   "source": [
    "#y is df_iris.iloc[:,4]\n",
    "y=pd.get_dummies(y)\n",
    "for k, (train,test) in enumerate(kfold.split(X,y)):\n",
    "    print(\"Fold: {}\".format(k))\n",
    "    clf = KerasClassifier(build_fn=create_keras_model, verbose=0, epochs=100,batch_size=1)\n",
    "    clf.fit(X.iloc[train,:],y.iloc[train])\n",
    "    df_results.append([y_unbinarized.iloc[test].values.tolist(),clf.predict(X.iloc[test,:])])\n",
    "\n",
    "\n",
    "df_results = pd.DataFrame(df_results,columns=[\"true\",\"pred\"])\n",
    "df_results[\"true\"] = df_results[\"true\"].apply(lambda x: [e[0] for e in x])\n",
    "df_def = pd.DataFrame({\"true\":df_results.explode(\"true\").iloc[:,0],\"pred\":df_results.explode(\"pred\").iloc[:,1]}).reset_index(drop = True)\n",
    "df_def"
   ]
  },
  {
   "cell_type": "code",
   "execution_count": 142,
   "metadata": {},
   "outputs": [
    {
     "data": {
      "text/html": [
       "<div>\n",
       "<style scoped>\n",
       "    .dataframe tbody tr th:only-of-type {\n",
       "        vertical-align: middle;\n",
       "    }\n",
       "\n",
       "    .dataframe tbody tr th {\n",
       "        vertical-align: top;\n",
       "    }\n",
       "\n",
       "    .dataframe thead th {\n",
       "        text-align: right;\n",
       "    }\n",
       "</style>\n",
       "<table border=\"1\" class=\"dataframe\">\n",
       "  <thead>\n",
       "    <tr style=\"text-align: right;\">\n",
       "      <th></th>\n",
       "      <th>true</th>\n",
       "      <th>pred</th>\n",
       "    </tr>\n",
       "  </thead>\n",
       "  <tbody>\n",
       "    <tr>\n",
       "      <th>0</th>\n",
       "      <td>0</td>\n",
       "      <td>0</td>\n",
       "    </tr>\n",
       "    <tr>\n",
       "      <th>1</th>\n",
       "      <td>0</td>\n",
       "      <td>0</td>\n",
       "    </tr>\n",
       "    <tr>\n",
       "      <th>2</th>\n",
       "      <td>1</td>\n",
       "      <td>1</td>\n",
       "    </tr>\n",
       "    <tr>\n",
       "      <th>3</th>\n",
       "      <td>2</td>\n",
       "      <td>2</td>\n",
       "    </tr>\n",
       "    <tr>\n",
       "      <th>4</th>\n",
       "      <td>1</td>\n",
       "      <td>1</td>\n",
       "    </tr>\n",
       "    <tr>\n",
       "      <th>...</th>\n",
       "      <td>...</td>\n",
       "      <td>...</td>\n",
       "    </tr>\n",
       "    <tr>\n",
       "      <th>145</th>\n",
       "      <td>1</td>\n",
       "      <td>1</td>\n",
       "    </tr>\n",
       "    <tr>\n",
       "      <th>146</th>\n",
       "      <td>2</td>\n",
       "      <td>2</td>\n",
       "    </tr>\n",
       "    <tr>\n",
       "      <th>147</th>\n",
       "      <td>0</td>\n",
       "      <td>0</td>\n",
       "    </tr>\n",
       "    <tr>\n",
       "      <th>148</th>\n",
       "      <td>1</td>\n",
       "      <td>1</td>\n",
       "    </tr>\n",
       "    <tr>\n",
       "      <th>149</th>\n",
       "      <td>0</td>\n",
       "      <td>0</td>\n",
       "    </tr>\n",
       "  </tbody>\n",
       "</table>\n",
       "<p>150 rows × 2 columns</p>\n",
       "</div>"
      ],
      "text/plain": [
       "     true pred\n",
       "0       0    0\n",
       "1       0    0\n",
       "2       1    1\n",
       "3       2    2\n",
       "4       1    1\n",
       "..    ...  ...\n",
       "145     1    1\n",
       "146     2    2\n",
       "147     0    0\n",
       "148     1    1\n",
       "149     0    0\n",
       "\n",
       "[150 rows x 2 columns]"
      ]
     },
     "execution_count": 142,
     "metadata": {},
     "output_type": "execute_result"
    }
   ],
   "source": [
    "df_def.true = df_def.true.astype('category').cat.codes\n",
    "df_def"
   ]
  },
  {
   "cell_type": "markdown",
   "metadata": {},
   "source": [
    "#### 22) Generate a full confusion matrix and final classification report based on your 5-fold cross validation of the keras model."
   ]
  },
  {
   "cell_type": "code",
   "execution_count": 152,
   "metadata": {},
   "outputs": [],
   "source": [
    "df_def.true = pd.Categorical(df_def.true)\n",
    "df_def.pred = pd.Categorical(df_def.pred)"
   ]
  },
  {
   "cell_type": "code",
   "execution_count": 154,
   "metadata": {},
   "outputs": [
    {
     "name": "stdout",
     "output_type": "stream",
     "text": [
      "[[50  0  0]\n",
      " [ 0 48  2]\n",
      " [ 0  1 49]]\n"
     ]
    }
   ],
   "source": [
    "print(confusion_matrix(df_def.true,df_def.pred))"
   ]
  },
  {
   "cell_type": "code",
   "execution_count": 153,
   "metadata": {},
   "outputs": [
    {
     "name": "stdout",
     "output_type": "stream",
     "text": [
      "              precision    recall  f1-score   support\n",
      "\n",
      "           0       1.00      1.00      1.00        50\n",
      "           1       0.98      0.96      0.97        50\n",
      "           2       0.96      0.98      0.97        50\n",
      "\n",
      "    accuracy                           0.98       150\n",
      "   macro avg       0.98      0.98      0.98       150\n",
      "weighted avg       0.98      0.98      0.98       150\n",
      "\n"
     ]
    }
   ],
   "source": [
    "print(classification_report(df_def.true,df_def.pred))"
   ]
  }
 ],
 "metadata": {
  "kernelspec": {
   "display_name": "Python 3",
   "language": "python",
   "name": "python3"
  },
  "language_info": {
   "codemirror_mode": {
    "name": "ipython",
    "version": 3
   },
   "file_extension": ".py",
   "mimetype": "text/x-python",
   "name": "python",
   "nbconvert_exporter": "python",
   "pygments_lexer": "ipython3",
   "version": "3.7.6"
  }
 },
 "nbformat": 4,
 "nbformat_minor": 4
}
