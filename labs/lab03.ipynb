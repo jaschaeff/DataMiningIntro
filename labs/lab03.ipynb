{
 "cells": [
  {
   "cell_type": "markdown",
   "metadata": {},
   "source": [
    "# Lab 03 - pandas\n",
    "\n",
    "Name: Jake Schaeffer  \n",
    "Class: CSCI 349 - Intro to Data Mining  \n",
    "Semester: Spring 2020  \n",
    "Instructor: Brian King"
   ]
  },
  {
   "cell_type": "code",
   "execution_count": 2,
   "metadata": {},
   "outputs": [],
   "source": [
    "import sys\n",
    "import numpy as np\n",
    "import pandas as pd"
   ]
  },
  {
   "cell_type": "markdown",
   "metadata": {},
   "source": [
    "### 1) [P] Report the Python, Numpy and Pandas version numbers."
   ]
  },
  {
   "cell_type": "code",
   "execution_count": 4,
   "metadata": {},
   "outputs": [
    {
     "name": "stdout",
     "output_type": "stream",
     "text": [
      "system version:  3.7.6 (default, Jan  8 2020, 20:23:39) [MSC v.1916 64 bit (AMD64)]\n",
      "numpy version:  1.17.4\n",
      "pandas version:  0.25.3\n"
     ]
    }
   ],
   "source": [
    "print(\"system version: \",sys.version)\n",
    "print(\"numpy version: \",np.version.version)\n",
    "print(\"pandas version: \",pd.__version__)"
   ]
  },
  {
   "cell_type": "markdown",
   "metadata": {},
   "source": [
    "### 2) [P] Now, show the result of pd.show_versions(). Write a comment in the cell about what this shows.\n",
    "The start of Chapter 5 in McKinney's book, \"Python for Data Analysis\", has a nice explanation about the relationship between numpy and pandas. (See https://learning.oreilly.com/library/view/python-for-data/9781491957653/ch05.html . Also, don't forget the pandas user guide!) Let's go through some interview questions about pandas."
   ]
  },
  {
   "cell_type": "code",
   "execution_count": 3,
   "metadata": {},
   "outputs": [
    {
     "name": "stdout",
     "output_type": "stream",
     "text": [
      "\n",
      "INSTALLED VERSIONS\n",
      "------------------\n",
      "commit           : None\n",
      "python           : 3.7.6.final.0\n",
      "python-bits      : 64\n",
      "OS               : Windows\n",
      "OS-release       : 10\n",
      "machine          : AMD64\n",
      "processor        : Intel64 Family 6 Model 142 Stepping 11, GenuineIntel\n",
      "byteorder        : little\n",
      "LC_ALL           : None\n",
      "LANG             : None\n",
      "LOCALE           : None.None\n",
      "\n",
      "pandas           : 0.25.3\n",
      "numpy            : 1.17.4\n",
      "pytz             : 2019.3\n",
      "dateutil         : 2.8.1\n",
      "pip              : 19.3.1\n",
      "setuptools       : 44.0.0.post20200106\n",
      "Cython           : None\n",
      "pytest           : None\n",
      "hypothesis       : None\n",
      "sphinx           : None\n",
      "blosc            : None\n",
      "feather          : None\n",
      "xlsxwriter       : None\n",
      "lxml.etree       : None\n",
      "html5lib         : None\n",
      "pymysql          : None\n",
      "psycopg2         : None\n",
      "jinja2           : 2.10.3\n",
      "IPython          : 7.11.1\n",
      "pandas_datareader: None\n",
      "bs4              : None\n",
      "bottleneck       : None\n",
      "fastparquet      : None\n",
      "gcsfs            : None\n",
      "lxml.etree       : None\n",
      "matplotlib       : 3.1.1\n",
      "numexpr          : None\n",
      "odfpy            : None\n",
      "openpyxl         : None\n",
      "pandas_gbq       : None\n",
      "pyarrow          : None\n",
      "pytables         : None\n",
      "s3fs             : None\n",
      "scipy            : 1.3.2\n",
      "sqlalchemy       : None\n",
      "tables           : None\n",
      "xarray           : None\n",
      "xlrd             : None\n",
      "xlwt             : None\n",
      "xlsxwriter       : None\n",
      "None\n"
     ]
    }
   ],
   "source": [
    "print(pd.show_versions())"
   ]
  },
  {
   "cell_type": "markdown",
   "metadata": {},
   "source": [
    "### 3) Explain the relationship between numpy and pandas. How are they tied together? How are they different?\n",
    "\n",
    "pandas uses numpy as a basis. numpy gives us a way to represent arrays easily. pandas builds on that by providing ways to easily manipulate, analyze and vizualize arrays as dataframes. A series is a column of a dataframe. It often would be used to hold all the different values of the same attribute across different objects."
   ]
  },
  {
   "cell_type": "markdown",
   "metadata": {},
   "source": [
    "### 4) [M] Compare and contrast Series and DataFrame.\n",
    "\n",
    "A series is like a 1 dimensional dataframe. it contains only one sequence of data. a Dataframe can contain many series. A series can act like a ndarray or dict."
   ]
  },
  {
   "cell_type": "markdown",
   "metadata": {},
   "source": [
    "### 5) [M] What are the data types that can be used to create a Series object in pandas?\n",
    "\n",
    "a dictionary, a numpy array, a scalar value"
   ]
  },
  {
   "cell_type": "markdown",
   "metadata": {},
   "source": [
    "### 6) [M] What are the data structures that can be used to create a DataFrame object in pandas?\n",
    "\n",
    "- a dictionary containing any of the things that can be used to make a series, or series themselves\n",
    "- 2-d numpy array\n",
    "- series\n",
    "- dataframe"
   ]
  },
  {
   "cell_type": "markdown",
   "metadata": {},
   "source": [
    "### 7) [M] In the user guide, when creating a Series, What role does the index parameter play when creating a Series object? Does the index always need to be specified? If not, what happens? Pay close attention to this NOTE from their Intro to Data Structures documentation.\n",
    "\n",
    "The index paramater allows us to label the indices of the series however we want.\n",
    "Index does not have to be specified. If not specified, it will be a normal index 0,1,2,3..."
   ]
  },
  {
   "cell_type": "code",
   "execution_count": 4,
   "metadata": {},
   "outputs": [],
   "source": [
    "days = [\"Mon\",\"Tue\",\"Wed\",\"Thu\",\"Fri\"]\n",
    "scores_1 = [9.5, 8.75, 8, 10, 7.75]\n",
    "scores_2 = [9, 8, 10, 8.75, 7.25]"
   ]
  },
  {
   "cell_type": "markdown",
   "metadata": {},
   "source": [
    "### 8) [P] Convert scores_1 and scores_2 into two Series objects. Use days as your index. You should name each Series object using the name parameter as \"week_1\", and \"week_2\". Do not show the result, only store the variables."
   ]
  },
  {
   "cell_type": "code",
   "execution_count": 16,
   "metadata": {},
   "outputs": [],
   "source": [
    "week_1 = pd.Series(scores_1, index = days, name = \"week_1\")\n",
    "week_2 = pd.Series(scores_2, index = days, name = \"week_2\")"
   ]
  },
  {
   "cell_type": "markdown",
   "metadata": {},
   "source": [
    "###  9) [P] Create a pandas DataFrame called scores, that represents the above data. Show your data frame. Your results should be arranged as shown below. You don't have the right answer until you can have the last line of your data from be scores, with a nicely formatted data frame rendered in your notebook. For example:"
   ]
  },
  {
   "cell_type": "code",
   "execution_count": 50,
   "metadata": {},
   "outputs": [
    {
     "data": {
      "text/html": [
       "<div>\n",
       "<style scoped>\n",
       "    .dataframe tbody tr th:only-of-type {\n",
       "        vertical-align: middle;\n",
       "    }\n",
       "\n",
       "    .dataframe tbody tr th {\n",
       "        vertical-align: top;\n",
       "    }\n",
       "\n",
       "    .dataframe thead th {\n",
       "        text-align: right;\n",
       "    }\n",
       "</style>\n",
       "<table border=\"1\" class=\"dataframe\">\n",
       "  <thead>\n",
       "    <tr style=\"text-align: right;\">\n",
       "      <th></th>\n",
       "      <th>Mon</th>\n",
       "      <th>Tue</th>\n",
       "      <th>Wed</th>\n",
       "      <th>Thu</th>\n",
       "      <th>Fri</th>\n",
       "    </tr>\n",
       "  </thead>\n",
       "  <tbody>\n",
       "    <tr>\n",
       "      <th>week_1</th>\n",
       "      <td>9.5</td>\n",
       "      <td>8.75</td>\n",
       "      <td>8.0</td>\n",
       "      <td>10.00</td>\n",
       "      <td>7.75</td>\n",
       "    </tr>\n",
       "    <tr>\n",
       "      <th>week_2</th>\n",
       "      <td>9.0</td>\n",
       "      <td>8.00</td>\n",
       "      <td>10.0</td>\n",
       "      <td>8.75</td>\n",
       "      <td>7.25</td>\n",
       "    </tr>\n",
       "  </tbody>\n",
       "</table>\n",
       "</div>"
      ],
      "text/plain": [
       "        Mon   Tue   Wed    Thu   Fri\n",
       "week_1  9.5  8.75   8.0  10.00  7.75\n",
       "week_2  9.0  8.00  10.0   8.75  7.25"
      ]
     },
     "execution_count": 50,
     "metadata": {},
     "output_type": "execute_result"
    }
   ],
   "source": [
    "scores = pd.DataFrame((week_1,week_2),)\n",
    "scores"
   ]
  },
  {
   "cell_type": "markdown",
   "metadata": {},
   "source": [
    "### 10) [P] Append the following data to the end of scores. [8.5,8,9.75,9,6]. The row label on the new week is \"week_3\". Show your updated data frame. It should look like the following:"
   ]
  },
  {
   "cell_type": "code",
   "execution_count": 51,
   "metadata": {},
   "outputs": [
    {
     "data": {
      "text/html": [
       "<div>\n",
       "<style scoped>\n",
       "    .dataframe tbody tr th:only-of-type {\n",
       "        vertical-align: middle;\n",
       "    }\n",
       "\n",
       "    .dataframe tbody tr th {\n",
       "        vertical-align: top;\n",
       "    }\n",
       "\n",
       "    .dataframe thead th {\n",
       "        text-align: right;\n",
       "    }\n",
       "</style>\n",
       "<table border=\"1\" class=\"dataframe\">\n",
       "  <thead>\n",
       "    <tr style=\"text-align: right;\">\n",
       "      <th></th>\n",
       "      <th>Mon</th>\n",
       "      <th>Tue</th>\n",
       "      <th>Wed</th>\n",
       "      <th>Thu</th>\n",
       "      <th>Fri</th>\n",
       "    </tr>\n",
       "  </thead>\n",
       "  <tbody>\n",
       "    <tr>\n",
       "      <th>week_1</th>\n",
       "      <td>9.5</td>\n",
       "      <td>8.75</td>\n",
       "      <td>8.00</td>\n",
       "      <td>10.00</td>\n",
       "      <td>7.75</td>\n",
       "    </tr>\n",
       "    <tr>\n",
       "      <th>week_2</th>\n",
       "      <td>9.0</td>\n",
       "      <td>8.00</td>\n",
       "      <td>10.00</td>\n",
       "      <td>8.75</td>\n",
       "      <td>7.25</td>\n",
       "    </tr>\n",
       "    <tr>\n",
       "      <th>week_3</th>\n",
       "      <td>8.5</td>\n",
       "      <td>8.00</td>\n",
       "      <td>9.75</td>\n",
       "      <td>9.00</td>\n",
       "      <td>6.00</td>\n",
       "    </tr>\n",
       "  </tbody>\n",
       "</table>\n",
       "</div>"
      ],
      "text/plain": [
       "        Mon   Tue    Wed    Thu   Fri\n",
       "week_1  9.5  8.75   8.00  10.00  7.75\n",
       "week_2  9.0  8.00  10.00   8.75  7.25\n",
       "week_3  8.5  8.00   9.75   9.00  6.00"
      ]
     },
     "execution_count": 51,
     "metadata": {},
     "output_type": "execute_result"
    }
   ],
   "source": [
    "week_3 = pd.Series([8.5,8,9.75,9,6], index = days, name = \"week_3\")\n",
    "scores = scores.append(week_3)\n",
    "scores"
   ]
  },
  {
   "cell_type": "markdown",
   "metadata": {},
   "source": [
    "### 11) [M] numpy and pandas have an ENORMOUS number of ways for selecting data. At first, the flexibility will confuse and drive you nuts. In time, it because amazing and intuitive (with less nuts.) Write yourself a quick one sentence reference for each access method listed above, with one example for each using the scores DataFrame.\n",
    "\n",
    "\n",
    ".at - get value based on row and column label.  \n",
    "scores.at\\[\"week_1\",\"Wed\"\\] would return 8.00  \n",
    "\n",
    ".iat - same as .at but with integer index.  \n",
    "scores.iat\\[1,2\\] would return 10.00  \n",
    "\n",
    ".loc - get a group of rows or columns by label  \n",
    "scores.loc\\[:,\"Wed\", \"Thu\"\\] would give all scores from Wednesday and Thursday  \n",
    "\n",
    ".iloc - get a group of rows or columns by index number  \n",
    "scores.iloc\\[1:\\] would give rows week_2 and week_3"
   ]
  },
  {
   "cell_type": "markdown",
   "metadata": {},
   "source": [
    "### 12) [P] Show at least two different techniques to select scores for Tuesday using the string \"Tue\""
   ]
  },
  {
   "cell_type": "code",
   "execution_count": 59,
   "metadata": {},
   "outputs": [
    {
     "name": "stdout",
     "output_type": "stream",
     "text": [
      "week_1    8.75\n",
      "week_2    8.00\n",
      "week_3    8.00\n",
      "Name: Tue, dtype: float64\n"
     ]
    },
    {
     "data": {
      "text/plain": [
       "week_1    8.75\n",
       "week_2    8.00\n",
       "week_3    8.00\n",
       "Name: Tue, dtype: float64"
      ]
     },
     "execution_count": 59,
     "metadata": {},
     "output_type": "execute_result"
    }
   ],
   "source": [
    "print(scores[\"Tue\"])\n",
    "print(scores.loc[:,\"Tue\"])"
   ]
  },
  {
   "cell_type": "markdown",
   "metadata": {},
   "source": [
    "### 13) [P] Show how to retrieve the scores for Tuesday using the named attribute Tue"
   ]
  },
  {
   "cell_type": "code",
   "execution_count": 60,
   "metadata": {},
   "outputs": [
    {
     "data": {
      "text/plain": [
       "week_1    8.75\n",
       "week_2    8.00\n",
       "week_3    8.00\n",
       "Name: Tue, dtype: float64"
      ]
     },
     "execution_count": 60,
     "metadata": {},
     "output_type": "execute_result"
    }
   ],
   "source": [
    "scores.Tue"
   ]
  },
  {
   "cell_type": "markdown",
   "metadata": {},
   "source": [
    "### 14) [P] Show at least three techniques to select scores for Wednesday using an integer. The return type can be either a DataFrame or a Series.\n"
   ]
  },
  {
   "cell_type": "code",
   "execution_count": 78,
   "metadata": {},
   "outputs": [
    {
     "name": "stdout",
     "output_type": "stream",
     "text": [
      "week_1     8.00\n",
      "week_2    10.00\n",
      "week_3     9.75\n",
      "Name: Wed, dtype: float64\n",
      "week_1     8.00\n",
      "week_2    10.00\n",
      "week_3     9.75\n",
      "Name: Wed, dtype: float64\n",
      "          Wed\n",
      "week_1   8.00\n",
      "week_2  10.00\n",
      "week_3   9.75\n"
     ]
    }
   ],
   "source": [
    "print(scores.iloc[:,2]) #series\n",
    "print(scores.T.iloc[2]) #series\n",
    "print(scores.loc[:][[days[2]]]) #dataframe"
   ]
  },
  {
   "cell_type": "markdown",
   "metadata": {},
   "source": [
    "### 15) [P] Select the data for the first week using the string \"week_1\". Your result should return a Seriesrepresenting the scores for week 1."
   ]
  },
  {
   "cell_type": "code",
   "execution_count": 85,
   "metadata": {},
   "outputs": [
    {
     "data": {
      "text/plain": [
       "Mon     9.50\n",
       "Tue     8.75\n",
       "Wed     8.00\n",
       "Thu    10.00\n",
       "Fri     7.75\n",
       "Name: week_1, dtype: float64"
      ]
     },
     "execution_count": 85,
     "metadata": {},
     "output_type": "execute_result"
    }
   ],
   "source": [
    "scores.loc[\"week_1\"]"
   ]
  },
  {
   "cell_type": "markdown",
   "metadata": {},
   "source": [
    "### 16) [P] Select the data for the first week using the string \"week_1\". Your result should return a DataFrame, representing the subset of the scores DataFrame for week 1 only."
   ]
  },
  {
   "cell_type": "code",
   "execution_count": 88,
   "metadata": {},
   "outputs": [
    {
     "data": {
      "text/html": [
       "<div>\n",
       "<style scoped>\n",
       "    .dataframe tbody tr th:only-of-type {\n",
       "        vertical-align: middle;\n",
       "    }\n",
       "\n",
       "    .dataframe tbody tr th {\n",
       "        vertical-align: top;\n",
       "    }\n",
       "\n",
       "    .dataframe thead th {\n",
       "        text-align: right;\n",
       "    }\n",
       "</style>\n",
       "<table border=\"1\" class=\"dataframe\">\n",
       "  <thead>\n",
       "    <tr style=\"text-align: right;\">\n",
       "      <th></th>\n",
       "      <th>Mon</th>\n",
       "      <th>Tue</th>\n",
       "      <th>Wed</th>\n",
       "      <th>Thu</th>\n",
       "      <th>Fri</th>\n",
       "    </tr>\n",
       "  </thead>\n",
       "  <tbody>\n",
       "    <tr>\n",
       "      <th>week_1</th>\n",
       "      <td>9.5</td>\n",
       "      <td>8.75</td>\n",
       "      <td>8.0</td>\n",
       "      <td>10.0</td>\n",
       "      <td>7.75</td>\n",
       "    </tr>\n",
       "  </tbody>\n",
       "</table>\n",
       "</div>"
      ],
      "text/plain": [
       "        Mon   Tue  Wed   Thu   Fri\n",
       "week_1  9.5  8.75  8.0  10.0  7.75"
      ]
     },
     "execution_count": 88,
     "metadata": {},
     "output_type": "execute_result"
    }
   ],
   "source": [
    "scores.loc[[\"week_1\"]]"
   ]
  },
  {
   "cell_type": "markdown",
   "metadata": {},
   "source": [
    "### 17) [P] Select the data for the first week using a slice (HINT: 0:1)"
   ]
  },
  {
   "cell_type": "code",
   "execution_count": 89,
   "metadata": {},
   "outputs": [
    {
     "data": {
      "text/html": [
       "<div>\n",
       "<style scoped>\n",
       "    .dataframe tbody tr th:only-of-type {\n",
       "        vertical-align: middle;\n",
       "    }\n",
       "\n",
       "    .dataframe tbody tr th {\n",
       "        vertical-align: top;\n",
       "    }\n",
       "\n",
       "    .dataframe thead th {\n",
       "        text-align: right;\n",
       "    }\n",
       "</style>\n",
       "<table border=\"1\" class=\"dataframe\">\n",
       "  <thead>\n",
       "    <tr style=\"text-align: right;\">\n",
       "      <th></th>\n",
       "      <th>Mon</th>\n",
       "      <th>Tue</th>\n",
       "      <th>Wed</th>\n",
       "      <th>Thu</th>\n",
       "      <th>Fri</th>\n",
       "    </tr>\n",
       "  </thead>\n",
       "  <tbody>\n",
       "    <tr>\n",
       "      <th>week_1</th>\n",
       "      <td>9.5</td>\n",
       "      <td>8.75</td>\n",
       "      <td>8.0</td>\n",
       "      <td>10.0</td>\n",
       "      <td>7.75</td>\n",
       "    </tr>\n",
       "  </tbody>\n",
       "</table>\n",
       "</div>"
      ],
      "text/plain": [
       "        Mon   Tue  Wed   Thu   Fri\n",
       "week_1  9.5  8.75  8.0  10.0  7.75"
      ]
     },
     "execution_count": 89,
     "metadata": {},
     "output_type": "execute_result"
    }
   ],
   "source": [
    "scores.iloc[0:1]"
   ]
  },
  {
   "cell_type": "markdown",
   "metadata": {},
   "source": [
    "### 18) [P] Show at least two techniques to select the data for the second week using an integer"
   ]
  },
  {
   "cell_type": "code",
   "execution_count": 101,
   "metadata": {},
   "outputs": [
    {
     "name": "stdout",
     "output_type": "stream",
     "text": [
      "Mon     9.00\n",
      "Tue     8.00\n",
      "Wed    10.00\n",
      "Thu     8.75\n",
      "Fri     7.25\n",
      "Name: week_2, dtype: float64\n",
      "Mon     9.00\n",
      "Tue     8.00\n",
      "Wed    10.00\n",
      "Thu     8.75\n",
      "Fri     7.25\n",
      "Name: week_2, dtype: float64\n"
     ]
    }
   ],
   "source": [
    "print(scores.iloc[1])\n",
    "print(scores.iloc[-2])"
   ]
  },
  {
   "cell_type": "markdown",
   "metadata": {},
   "source": [
    "### 19) [P] Select Monday and Friday of the first and third week."
   ]
  },
  {
   "cell_type": "code",
   "execution_count": 103,
   "metadata": {},
   "outputs": [
    {
     "data": {
      "text/html": [
       "<div>\n",
       "<style scoped>\n",
       "    .dataframe tbody tr th:only-of-type {\n",
       "        vertical-align: middle;\n",
       "    }\n",
       "\n",
       "    .dataframe tbody tr th {\n",
       "        vertical-align: top;\n",
       "    }\n",
       "\n",
       "    .dataframe thead th {\n",
       "        text-align: right;\n",
       "    }\n",
       "</style>\n",
       "<table border=\"1\" class=\"dataframe\">\n",
       "  <thead>\n",
       "    <tr style=\"text-align: right;\">\n",
       "      <th></th>\n",
       "      <th>Mon</th>\n",
       "      <th>Fri</th>\n",
       "    </tr>\n",
       "  </thead>\n",
       "  <tbody>\n",
       "    <tr>\n",
       "      <th>week_1</th>\n",
       "      <td>9.5</td>\n",
       "      <td>7.75</td>\n",
       "    </tr>\n",
       "    <tr>\n",
       "      <th>week_2</th>\n",
       "      <td>9.0</td>\n",
       "      <td>7.25</td>\n",
       "    </tr>\n",
       "  </tbody>\n",
       "</table>\n",
       "</div>"
      ],
      "text/plain": [
       "        Mon   Fri\n",
       "week_1  9.5  7.75\n",
       "week_2  9.0  7.25"
      ]
     },
     "execution_count": 103,
     "metadata": {},
     "output_type": "execute_result"
    }
   ],
   "source": [
    "scores.loc[[\"week_1\",\"week_2\"],[\"Mon\",\"Fri\"]]"
   ]
  },
  {
   "cell_type": "markdown",
   "metadata": {},
   "source": [
    "### 20) [P] Report the mean for each week"
   ]
  },
  {
   "cell_type": "code",
   "execution_count": 104,
   "metadata": {},
   "outputs": [
    {
     "data": {
      "text/plain": [
       "week_1    8.80\n",
       "week_2    8.60\n",
       "week_3    8.25\n",
       "dtype: float64"
      ]
     },
     "execution_count": 104,
     "metadata": {},
     "output_type": "execute_result"
    }
   ],
   "source": [
    "scores.mean(axis = 1)"
   ]
  },
  {
   "cell_type": "markdown",
   "metadata": {},
   "source": [
    "### 21) [P] For each week, report how much each day's score for that week differed from the mean for the week"
   ]
  },
  {
   "cell_type": "code",
   "execution_count": 105,
   "metadata": {},
   "outputs": [
    {
     "data": {
      "text/html": [
       "<div>\n",
       "<style scoped>\n",
       "    .dataframe tbody tr th:only-of-type {\n",
       "        vertical-align: middle;\n",
       "    }\n",
       "\n",
       "    .dataframe tbody tr th {\n",
       "        vertical-align: top;\n",
       "    }\n",
       "\n",
       "    .dataframe thead th {\n",
       "        text-align: right;\n",
       "    }\n",
       "</style>\n",
       "<table border=\"1\" class=\"dataframe\">\n",
       "  <thead>\n",
       "    <tr style=\"text-align: right;\">\n",
       "      <th></th>\n",
       "      <th>Mon</th>\n",
       "      <th>Tue</th>\n",
       "      <th>Wed</th>\n",
       "      <th>Thu</th>\n",
       "      <th>Fri</th>\n",
       "    </tr>\n",
       "  </thead>\n",
       "  <tbody>\n",
       "    <tr>\n",
       "      <th>week_1</th>\n",
       "      <td>0.70</td>\n",
       "      <td>-0.05</td>\n",
       "      <td>-0.8</td>\n",
       "      <td>1.20</td>\n",
       "      <td>-1.05</td>\n",
       "    </tr>\n",
       "    <tr>\n",
       "      <th>week_2</th>\n",
       "      <td>0.40</td>\n",
       "      <td>-0.60</td>\n",
       "      <td>1.4</td>\n",
       "      <td>0.15</td>\n",
       "      <td>-1.35</td>\n",
       "    </tr>\n",
       "    <tr>\n",
       "      <th>week_3</th>\n",
       "      <td>0.25</td>\n",
       "      <td>-0.25</td>\n",
       "      <td>1.5</td>\n",
       "      <td>0.75</td>\n",
       "      <td>-2.25</td>\n",
       "    </tr>\n",
       "  </tbody>\n",
       "</table>\n",
       "</div>"
      ],
      "text/plain": [
       "         Mon   Tue  Wed   Thu   Fri\n",
       "week_1  0.70 -0.05 -0.8  1.20 -1.05\n",
       "week_2  0.40 -0.60  1.4  0.15 -1.35\n",
       "week_3  0.25 -0.25  1.5  0.75 -2.25"
      ]
     },
     "execution_count": 105,
     "metadata": {},
     "output_type": "execute_result"
    }
   ],
   "source": [
    "scores.sub(scores.mean(axis = 1), axis = 0)"
   ]
  },
  {
   "cell_type": "markdown",
   "metadata": {},
   "source": [
    "### 22) [P] Report the maximum score for each week"
   ]
  },
  {
   "cell_type": "code",
   "execution_count": 109,
   "metadata": {},
   "outputs": [
    {
     "data": {
      "text/plain": [
       "week_1    10.00\n",
       "week_2    10.00\n",
       "week_3     9.75\n",
       "dtype: float64"
      ]
     },
     "execution_count": 109,
     "metadata": {},
     "output_type": "execute_result"
    }
   ],
   "source": [
    "#index max gives index of the max value\n",
    "scores.max(axis = 1)"
   ]
  },
  {
   "cell_type": "markdown",
   "metadata": {},
   "source": [
    "### 23) [P] For each week, report which day had the largest score"
   ]
  },
  {
   "cell_type": "code",
   "execution_count": 108,
   "metadata": {},
   "outputs": [
    {
     "data": {
      "text/plain": [
       "week_1    Thu\n",
       "week_2    Wed\n",
       "week_3    Wed\n",
       "dtype: object"
      ]
     },
     "execution_count": 108,
     "metadata": {},
     "output_type": "execute_result"
    }
   ],
   "source": [
    "scores.idxmax(axis = 1)"
   ]
  },
  {
   "cell_type": "markdown",
   "metadata": {},
   "source": [
    "### 24) [P] Report the week that had the highest total quiz score. Your answer should only be the name of the week from the index."
   ]
  },
  {
   "cell_type": "code",
   "execution_count": 114,
   "metadata": {},
   "outputs": [
    {
     "data": {
      "text/plain": [
       "'week_1'"
      ]
     },
     "execution_count": 114,
     "metadata": {},
     "output_type": "execute_result"
    }
   ],
   "source": [
    "scores.sum(axis = 1).idxmax(axis = 1)"
   ]
  },
  {
   "cell_type": "markdown",
   "metadata": {},
   "source": [
    "### 25) [P] Report the number of days of each week that had a score >= 9.25. Your answer should be a Series that looks like the following:"
   ]
  },
  {
   "cell_type": "code",
   "execution_count": 126,
   "metadata": {},
   "outputs": [
    {
     "data": {
      "text/plain": [
       "week_1    2\n",
       "week_2    1\n",
       "week_3    1\n",
       "dtype: int64"
      ]
     },
     "execution_count": 126,
     "metadata": {},
     "output_type": "execute_result"
    }
   ],
   "source": [
    "scores.ge(9.25).sum(axis = 1)"
   ]
  },
  {
   "cell_type": "markdown",
   "metadata": {},
   "source": [
    "### 26) [P] Report the scores rescaled to fall between 0 and 100, instead of 0 to 10 as they are now."
   ]
  },
  {
   "cell_type": "code",
   "execution_count": 127,
   "metadata": {},
   "outputs": [
    {
     "data": {
      "text/html": [
       "<div>\n",
       "<style scoped>\n",
       "    .dataframe tbody tr th:only-of-type {\n",
       "        vertical-align: middle;\n",
       "    }\n",
       "\n",
       "    .dataframe tbody tr th {\n",
       "        vertical-align: top;\n",
       "    }\n",
       "\n",
       "    .dataframe thead th {\n",
       "        text-align: right;\n",
       "    }\n",
       "</style>\n",
       "<table border=\"1\" class=\"dataframe\">\n",
       "  <thead>\n",
       "    <tr style=\"text-align: right;\">\n",
       "      <th></th>\n",
       "      <th>Mon</th>\n",
       "      <th>Tue</th>\n",
       "      <th>Wed</th>\n",
       "      <th>Thu</th>\n",
       "      <th>Fri</th>\n",
       "    </tr>\n",
       "  </thead>\n",
       "  <tbody>\n",
       "    <tr>\n",
       "      <th>week_1</th>\n",
       "      <td>95.0</td>\n",
       "      <td>87.5</td>\n",
       "      <td>80.0</td>\n",
       "      <td>100.0</td>\n",
       "      <td>77.5</td>\n",
       "    </tr>\n",
       "    <tr>\n",
       "      <th>week_2</th>\n",
       "      <td>90.0</td>\n",
       "      <td>80.0</td>\n",
       "      <td>100.0</td>\n",
       "      <td>87.5</td>\n",
       "      <td>72.5</td>\n",
       "    </tr>\n",
       "    <tr>\n",
       "      <th>week_3</th>\n",
       "      <td>85.0</td>\n",
       "      <td>80.0</td>\n",
       "      <td>97.5</td>\n",
       "      <td>90.0</td>\n",
       "      <td>60.0</td>\n",
       "    </tr>\n",
       "  </tbody>\n",
       "</table>\n",
       "</div>"
      ],
      "text/plain": [
       "         Mon   Tue    Wed    Thu   Fri\n",
       "week_1  95.0  87.5   80.0  100.0  77.5\n",
       "week_2  90.0  80.0  100.0   87.5  72.5\n",
       "week_3  85.0  80.0   97.5   90.0  60.0"
      ]
     },
     "execution_count": 127,
     "metadata": {},
     "output_type": "execute_result"
    }
   ],
   "source": [
    "scores*10"
   ]
  },
  {
   "cell_type": "code",
   "execution_count": null,
   "metadata": {},
   "outputs": [],
   "source": []
  }
 ],
 "metadata": {
  "kernelspec": {
   "display_name": "Python 3",
   "language": "python",
   "name": "python3"
  },
  "language_info": {
   "codemirror_mode": {
    "name": "ipython",
    "version": 3
   },
   "file_extension": ".py",
   "mimetype": "text/x-python",
   "name": "python",
   "nbconvert_exporter": "python",
   "pygments_lexer": "ipython3",
   "version": "3.7.6"
  }
 },
 "nbformat": 4,
 "nbformat_minor": 4
}
