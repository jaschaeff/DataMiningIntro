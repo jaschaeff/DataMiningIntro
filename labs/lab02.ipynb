{
 "cells": [
  {
   "cell_type": "markdown",
   "metadata": {},
   "source": [
    "# Lab 02 - numpy\n",
    "\n",
    "Name: Jake Schaeffer\\\n",
    "Class: CSCI 349 - Intro to Data Mining\\\n",
    "Semester: Spring 2020\\\n",
    "Instructor: Brian King"
   ]
  },
  {
   "cell_type": "code",
   "execution_count": 2,
   "metadata": {},
   "outputs": [],
   "source": [
    "#Setting things up ye\n",
    "import sys\n",
    "import numpy as np"
   ]
  },
  {
   "cell_type": "markdown",
   "metadata": {},
   "source": [
    "# 1) [P] Create an 52500 x 75 matrix of zeros, stored as X. Then, print out the shape of the matrix, the base data type, the individual item size in the array, and the total size of the array in bytes (as an integer). Also, print out the total size in megabytes with 3 places of significance."
   ]
  },
  {
   "cell_type": "code",
   "execution_count": 15,
   "metadata": {},
   "outputs": [
    {
     "name": "stdout",
     "output_type": "stream",
     "text": [
      "X Shape: (52500, 75)\n",
      "X Data type: float64\n",
      "X Size in bytes: 31500000\n",
      "X Size in megabytes: 31500.000\n"
     ]
    }
   ],
   "source": [
    "X = np.zeros((52500,75))\n",
    "print(\"X Shape: {}\".format(X.shape))\n",
    "print(\"X Data type: {}\".format(X.dtype))\n",
    "print(\"X Size in bytes: %d\" %X.nbytes)\n",
    "print(\"X Size in megabytes: %.3f\" %(X.nbytes/1000))"
   ]
  },
  {
   "cell_type": "markdown",
   "metadata": {},
   "source": [
    "# 2) [P] Resize X to have the same number of elements, but with 100 rows. Show the shape. Show the number of bytes (which should be the same as the previous answer)"
   ]
  },
  {
   "cell_type": "code",
   "execution_count": 18,
   "metadata": {},
   "outputs": [
    {
     "name": "stdout",
     "output_type": "stream",
     "text": [
      "X Shape: (100, 39375)\n",
      "X Size in bytes: 31500000\n"
     ]
    }
   ],
   "source": [
    "X = np.resize(X,(100,X.size//100))\n",
    "print(\"X Shape: {}\".format(X.shape))\n",
    "print(\"X Size in bytes: %d\" %X.nbytes)"
   ]
  },
  {
   "cell_type": "markdown",
   "metadata": {},
   "source": [
    "# 3) [P] Redo #1, but use a base datatype of 16-bit integers. \n",
    "\n",
    "You should have a reduction in memory by a factor of 4. There are times when this type of change is simple, but highly effective in speeding up your algorithm. Integer computations will always outperform floating point\n",
    "computations. Use the simplest data type available that can accurately store your data."
   ]
  },
  {
   "cell_type": "code",
   "execution_count": 19,
   "metadata": {},
   "outputs": [
    {
     "name": "stdout",
     "output_type": "stream",
     "text": [
      "X Shape: (52500, 75)\n",
      "X Data type: int16\n",
      "X Size in bytes: 7875000\n",
      "X Size in megabytes: 7875.000\n"
     ]
    }
   ],
   "source": [
    "X = np.zeros((52500,75), np.int16)\n",
    "print(\"X Shape: {}\".format(X.shape))\n",
    "print(\"X Data type: {}\".format(X.dtype))\n",
    "print(\"X Size in bytes: %d\" %X.nbytes)\n",
    "print(\"X Size in megabytes: %.3f\" %(X.nbytes/1000))"
   ]
  },
  {
   "cell_type": "markdown",
   "metadata": {},
   "source": [
    "# 4) [P] How many dimensions does X have? Answer using the appropriate property of np.ndarray objects."
   ]
  },
  {
   "cell_type": "code",
   "execution_count": 22,
   "metadata": {},
   "outputs": [
    {
     "name": "stdout",
     "output_type": "stream",
     "text": [
      "2\n"
     ]
    }
   ],
   "source": [
    "print(X.ndim)"
   ]
  },
  {
   "cell_type": "markdown",
   "metadata": {},
   "source": [
    "# 5) [P] Enter the following list in your cell: \n",
    "# str_nums = ['2.14', '-9.3', '42'] \n",
    "# Convert this to a numpy array named X. What is the base type? Show the contents of X. \n",
    "# Then, convert X to an array of single precision floating point numbers. (HINT: use astype). Show X again"
   ]
  },
  {
   "cell_type": "code",
   "execution_count": 3,
   "metadata": {},
   "outputs": [
    {
     "name": "stdout",
     "output_type": "stream",
     "text": [
      "X type:  <U4\n",
      "X:  ['2.14' '-9.3' '42']\n",
      "X:  [ 2.14 -9.3  42.  ]\n"
     ]
    }
   ],
   "source": [
    "str_nums = ['2.14', '-9.3', '42']\n",
    "X = np.asarray(str_nums)\n",
    "print(\"X type: \",X.dtype)\n",
    "print(\"X: \", X)\n",
    "X = X.astype(np.float32)\n",
    "print(\"X: \", X)"
   ]
  },
  {
   "cell_type": "markdown",
   "metadata": {},
   "source": [
    "# 6) [P] Copy the three definitions above for days, scores_1, and scores_2. Create a numpy array calledscores, that has scores_1 as the first row and scores_2 as the second row, using np.concatenate.Then, change days into a np.array from the list days. Show the contents of scores and days, and output their shape."
   ]
  },
  {
   "cell_type": "code",
   "execution_count": 60,
   "metadata": {},
   "outputs": [
    {
     "name": "stdout",
     "output_type": "stream",
     "text": [
      "scores array: \n",
      " [[ 9.5   8.75  8.   10.    7.75]\n",
      " [ 9.    8.   10.    8.75  7.25]]\n",
      "days array: \n",
      " ['Mon' 'Tue' 'Wed' 'Thu' 'Fri']\n",
      "scores array shape:  (2, 5)\n",
      "days array shape:  (5,)\n"
     ]
    }
   ],
   "source": [
    "days = [\"Mon\", \"Tue\", \"Wed\", \"Thu\", \"Fri\"]\n",
    "scores_1 = [9.5, 8.75, 8, 10, 7.75]\n",
    "scores_2 = [9, 8, 10, 8.75, 7.25]\n",
    "#create score arrays\n",
    "scores_1Array = np.array(scores_1)\n",
    "scores_2Array = np.array(scores_2)\n",
    "#reshape into vertical arrays\n",
    "scores_1Array = np.reshape(scores_1Array,(1,scores_1Array.size))\n",
    "scores_2Array = np.reshape(scores_2Array,(1,scores_2Array.size))\n",
    "#could maybe have used transpose?\n",
    "#concatenate the vertical arrays\n",
    "# idk how to do this a simpler way. this is what it said to do in the .vstack documentation\n",
    "scores = np.concatenate((scores_1Array,scores_2Array))\n",
    "\n",
    "days = np.array(days)\n",
    "\n",
    "print(\"scores array: \\n\", scores)\n",
    "print(\"days array: \\n\", days)\n",
    "print(\"scores array shape: \", scores.shape)\n",
    "print(\"days array shape: \", days.shape)"
   ]
  },
  {
   "cell_type": "markdown",
   "metadata": {},
   "source": [
    "# 7) [P] Repeat the previous problem with the creation of scores from scores_1 and scores_2, but repeat it with np.vstack. The array should be identical."
   ]
  },
  {
   "cell_type": "code",
   "execution_count": 66,
   "metadata": {},
   "outputs": [
    {
     "name": "stdout",
     "output_type": "stream",
     "text": [
      "scores array: \n",
      " [[ 9.5   8.75  8.   10.    7.75]\n",
      " [ 9.    8.   10.    8.75  7.25]]\n",
      "days array: \n",
      " ['Mon' 'Tue' 'Wed' 'Thu' 'Fri']\n",
      "scores array shape:  (2, 5)\n",
      "days array shape:  (5,)\n"
     ]
    }
   ],
   "source": [
    "days = [\"Mon\", \"Tue\", \"Wed\", \"Thu\", \"Fri\"]\n",
    "scores_1 = [9.5, 8.75, 8, 10, 7.75]\n",
    "scores_2 = [9, 8, 10, 8.75, 7.25]\n",
    "\n",
    "scores  = np.vstack((scores_1,scores_2))\n",
    "days = np.array(days)\n",
    "print(\"scores array: \\n\", scores)\n",
    "print(\"days array: \\n\", days)\n",
    "print(\"scores array shape: \", scores.shape)\n",
    "print(\"days array shape: \", days.shape)"
   ]
  },
  {
   "cell_type": "markdown",
   "metadata": {},
   "source": [
    "# 8) [M] Compare the result of the expression days == \"Fri\" if the variable days was a Python list as entered above, vs. days being a numpy array. What is the difference in the result? In general, how does numpy deal with standard comparison operators?\n",
    "\n",
    "days == \"Fri\" would return False with a list because the list is not equal to the string. the string \"Fri\" is compared to the list: days, as a whole.\n",
    "\n",
    "days == \"Fri\" with days as an array would return True for the last value and False for the others.\n",
    "With numpy, an operation is done on each value within the array. This is broadcasting. Thus, in numpy, the == operator on an array is checking if any of the values in days are equal to \"Fri\". So instead of outputting a single boolean, it will output an array of booleans that shows the result of the expression for every value in the array."
   ]
  },
  {
   "cell_type": "markdown",
   "metadata": {},
   "source": [
    "# 9) [P] Select the scores that fell on Monday.\n",
    "\n",
    "HINT: For cells that ask for only one output, you can sometimes avoid a print statement. The expression\n",
    "evaluated as the last line of a cell will also be the output of the cell. For example, if I did not use the print\n",
    "function, here's what the answer would look like:"
   ]
  },
  {
   "cell_type": "code",
   "execution_count": 67,
   "metadata": {},
   "outputs": [
    {
     "data": {
      "text/plain": [
       "array([[9.5],\n",
       "       [9. ]])"
      ]
     },
     "execution_count": 67,
     "metadata": {},
     "output_type": "execute_result"
    }
   ],
   "source": [
    "#get select values in scores. we use days == \"Mon\" in order to create an array of booleans\n",
    "# that is only True for \"Mon\", then we use the array of booleans and only return the values \n",
    "#in scores that line up with True. Since \"Mon\" is the first value in the days array,\n",
    "# the first value of each row of scores will be returned.\n",
    "scores[:,days==\"Mon\"]"
   ]
  },
  {
   "cell_type": "markdown",
   "metadata": {},
   "source": [
    "# 10) [P] Select all of the scores that are NOT on Monday (Hint – look up the ~ operator)"
   ]
  },
  {
   "cell_type": "code",
   "execution_count": 74,
   "metadata": {},
   "outputs": [
    {
     "data": {
      "text/plain": [
       "array([[ 8.75,  8.  , 10.  ,  7.75],\n",
       "       [ 8.  , 10.  ,  8.75,  7.25]])"
      ]
     },
     "execution_count": 74,
     "metadata": {},
     "output_type": "execute_result"
    }
   ],
   "source": [
    "# the ~ operator gives the complement (invert)\n",
    "# here we are getting the complement of the array of booleans that results from the\n",
    "# equality operation\n",
    "\n",
    "scores[:,~(days==\"Mon\")]\n",
    "\n",
    "#could also do \n",
    "#scores[:,days!=\"Mon\"]"
   ]
  },
  {
   "cell_type": "markdown",
   "metadata": {},
   "source": [
    "# 11) [P] Select the scores that were on Tuesday or Thursday"
   ]
  },
  {
   "cell_type": "code",
   "execution_count": 80,
   "metadata": {},
   "outputs": [
    {
     "data": {
      "text/plain": [
       "array([[ 8.75, 10.  ],\n",
       "       [ 8.  ,  8.75]])"
      ]
     },
     "execution_count": 80,
     "metadata": {},
     "output_type": "execute_result"
    }
   ],
   "source": [
    "scores[:,np.logical_or(days == \"Tue\" ,days == \"Thu\")]"
   ]
  },
  {
   "cell_type": "markdown",
   "metadata": {},
   "source": [
    "# 12) [P] Show the minimum and maximum scores for the entire array of scores"
   ]
  },
  {
   "cell_type": "code",
   "execution_count": 82,
   "metadata": {},
   "outputs": [
    {
     "name": "stdout",
     "output_type": "stream",
     "text": [
      "min score:  7.25\n",
      "max score:  10.0\n"
     ]
    }
   ],
   "source": [
    "print(\"min score: \", np.min(scores))\n",
    "print(\"max score: \", np.max(scores))"
   ]
  },
  {
   "cell_type": "markdown",
   "metadata": {},
   "source": [
    "# 13) [P] Show the minimum scores for each week as a new array. The result should have the same dimensions \n",
    "(hint\n",
    "– use the keepdims parameter)."
   ]
  },
  {
   "cell_type": "code",
   "execution_count": 83,
   "metadata": {},
   "outputs": [
    {
     "data": {
      "text/plain": [
       "array([[7.75],\n",
       "       [7.25]])"
      ]
     },
     "execution_count": 83,
     "metadata": {},
     "output_type": "execute_result"
    }
   ],
   "source": [
    "# setting acis to 1 tells the min function to find the min row by row.\n",
    "# setting keepdims to True means it will be kept as a two row array\n",
    "scores.min(axis = 1, keepdims = True)"
   ]
  },
  {
   "cell_type": "markdown",
   "metadata": {},
   "source": [
    "# 14) [P] Report the day that the maximum score occurred each week. (HINT: use argmax and use that result to index days.)"
   ]
  },
  {
   "cell_type": "code",
   "execution_count": 91,
   "metadata": {},
   "outputs": [
    {
     "name": "stdout",
     "output_type": "stream",
     "text": [
      "Week 1 max score day: Thu\n",
      "\n",
      "Week 2 max score day: Wed\n",
      "\n"
     ]
    }
   ],
   "source": [
    "week  = 1\n",
    "for day in days[np.argmax(scores, axis = 1)]:\n",
    "    print(\"Week {} max score day: {}\\n\".format(week,day))\n",
    "    week+=1"
   ]
  },
  {
   "cell_type": "markdown",
   "metadata": {},
   "source": [
    "# 15) [P] Report the mean of the scores of each week"
   ]
  },
  {
   "cell_type": "code",
   "execution_count": 94,
   "metadata": {},
   "outputs": [
    {
     "name": "stdout",
     "output_type": "stream",
     "text": [
      "Week 1 mean score: 8.8\n",
      "\n",
      "Week 2 mean score: 8.6\n",
      "\n"
     ]
    }
   ],
   "source": [
    "# axis of 1 means we are looking at the mean for each row (week)\n",
    "# if we set axis to 0 it would give mean for each column (day)\n",
    "\n",
    "week = 1\n",
    "for mean in np.mean(scores, axis = 1):\n",
    "    print(\"Week {} mean score: {}\\n\".format(week,mean))\n",
    "    week+=1"
   ]
  },
  {
   "cell_type": "markdown",
   "metadata": {},
   "source": [
    "# 16) [P] Suppose the lowest score was dropped from each week. Report the mean of each week, but without the minimum score for that week."
   ]
  },
  {
   "cell_type": "code",
   "execution_count": 152,
   "metadata": {},
   "outputs": [
    {
     "name": "stdout",
     "output_type": "stream",
     "text": [
      "Week 1 mean score without min: 9.0625\n",
      "\n",
      "Week 2 mean score without min: 8.9375\n",
      "\n"
     ]
    }
   ],
   "source": [
    "#axis = 1 bc we are going row by row\n",
    "# find indices that contain mins\n",
    "minIndices = np.argmin(scores, axis = 1)\n",
    "# create an array that is scores without the mins for each row\n",
    "scoresLessMins = np.delete(scores,minIndices,axis = 1)\n",
    "# take the mean of each row\n",
    "means = np.mean(scoresLessMins,axis = 1)\n",
    "\n",
    "# print the result nicely - could do any number of weeks\n",
    "week = 1\n",
    "for mean in means:\n",
    "    print(\"Week {} mean score without min: {}\\n\".format(week,mean))\n",
    "    week+=1"
   ]
  },
  {
   "cell_type": "markdown",
   "metadata": {},
   "source": [
    "# 17) [P] Convert the scores to fall on a scale from 0-100 instead of 0-10. Show the result."
   ]
  },
  {
   "cell_type": "code",
   "execution_count": 126,
   "metadata": {},
   "outputs": [
    {
     "data": {
      "text/plain": [
       "array([[ 95. ,  87.5,  80. , 100. ,  77.5],\n",
       "       [ 90. ,  80. , 100. ,  87.5,  72.5]])"
      ]
     },
     "execution_count": 126,
     "metadata": {},
     "output_type": "execute_result"
    }
   ],
   "source": [
    "scores * 10"
   ]
  },
  {
   "cell_type": "code",
   "execution_count": 153,
   "metadata": {},
   "outputs": [
    {
     "data": {
      "text/plain": [
       "array([[48, 84, 39, 54, 77],\n",
       "       [25, 16, 50, 24, 27],\n",
       "       [31, 44, 31, 27, 59],\n",
       "       [93, 70, 81, 74, 48],\n",
       "       [51, 77, 38, 35, 39],\n",
       "       [68, 12,  1, 76, 81],\n",
       "       [ 4,  3, 20, 13, 66],\n",
       "       [76, 82, 15, 72, 61],\n",
       "       [47, 29, 82, 88, 14],\n",
       "       [97, 13, 70, 96, 32]])"
      ]
     },
     "execution_count": 153,
     "metadata": {},
     "output_type": "execute_result"
    }
   ],
   "source": [
    "np.random.seed(1234)\n",
    "X = np.random.randint(1,100,50).reshape((10,5))\n",
    "X"
   ]
  },
  {
   "cell_type": "markdown",
   "metadata": {},
   "source": [
    "# 18) [P] Select the first row of X"
   ]
  },
  {
   "cell_type": "code",
   "execution_count": 154,
   "metadata": {},
   "outputs": [
    {
     "data": {
      "text/plain": [
       "array([48, 84, 39, 54, 77])"
      ]
     },
     "execution_count": 154,
     "metadata": {},
     "output_type": "execute_result"
    }
   ],
   "source": [
    "X[0]"
   ]
  },
  {
   "cell_type": "markdown",
   "metadata": {},
   "source": [
    "# 19) [P] Select the last column of X"
   ]
  },
  {
   "cell_type": "code",
   "execution_count": 157,
   "metadata": {},
   "outputs": [
    {
     "data": {
      "text/plain": [
       "array([77, 27, 59, 48, 39, 81, 66, 61, 14, 32])"
      ]
     },
     "execution_count": 157,
     "metadata": {},
     "output_type": "execute_result"
    }
   ],
   "source": [
    "X[:,-1]"
   ]
  },
  {
   "cell_type": "markdown",
   "metadata": {},
   "source": [
    "# 20) [P] Select the first AND last column of X"
   ]
  },
  {
   "cell_type": "code",
   "execution_count": 180,
   "metadata": {},
   "outputs": [
    {
     "data": {
      "text/plain": [
       "array([48, 25, 31, 93, 51, 68,  4, 76, 47, 97, 77, 27, 59, 48, 39, 81, 66,\n",
       "       61, 14, 32])"
      ]
     },
     "execution_count": 180,
     "metadata": {},
     "output_type": "execute_result"
    }
   ],
   "source": [
    "#i'm not sure if this is what the question is asking. could use vstack\n",
    "np.concatenate((X[:,0],X[:,-1]))"
   ]
  },
  {
   "cell_type": "markdown",
   "metadata": {},
   "source": [
    "# 21) [P] Select every other row of X"
   ]
  },
  {
   "cell_type": "code",
   "execution_count": 173,
   "metadata": {},
   "outputs": [
    {
     "data": {
      "text/plain": [
       "array([[48, 84, 39, 54, 77],\n",
       "       [31, 44, 31, 27, 59],\n",
       "       [51, 77, 38, 35, 39],\n",
       "       [ 4,  3, 20, 13, 66],\n",
       "       [47, 29, 82, 88, 14]])"
      ]
     },
     "execution_count": 173,
     "metadata": {},
     "output_type": "execute_result"
    }
   ],
   "source": [
    "X[::2]"
   ]
  },
  {
   "cell_type": "markdown",
   "metadata": {},
   "source": [
    "# 22) [P] Show the transpose of X, but don't change X itself"
   ]
  },
  {
   "cell_type": "code",
   "execution_count": 182,
   "metadata": {},
   "outputs": [
    {
     "data": {
      "text/plain": [
       "array([[48, 25, 31, 93, 51, 68,  4, 76, 47, 97],\n",
       "       [84, 16, 44, 70, 77, 12,  3, 82, 29, 13],\n",
       "       [39, 50, 31, 81, 38,  1, 20, 15, 82, 70],\n",
       "       [54, 24, 27, 74, 35, 76, 13, 72, 88, 96],\n",
       "       [77, 27, 59, 48, 39, 81, 66, 61, 14, 32]])"
      ]
     },
     "execution_count": 182,
     "metadata": {},
     "output_type": "execute_result"
    }
   ],
   "source": [
    "np.transpose(X)"
   ]
  },
  {
   "cell_type": "markdown",
   "metadata": {},
   "source": [
    "# 23) [P] Select the first column of X and set the result to Y."
   ]
  },
  {
   "cell_type": "code",
   "execution_count": 183,
   "metadata": {},
   "outputs": [
    {
     "data": {
      "text/plain": [
       "array([48, 84, 39, 54, 77])"
      ]
     },
     "execution_count": 183,
     "metadata": {},
     "output_type": "execute_result"
    }
   ],
   "source": [
    "Y = X[0]\n",
    "Y"
   ]
  },
  {
   "cell_type": "markdown",
   "metadata": {},
   "source": [
    "# 24) [P] Increment the first value of Y, then show the corresponding value of X. Did both values in X and Y change?\n",
    "\n",
    "THIS IS AN IMPORTANT OBSERVATION WHEN DEALING WITH SELECTING DATA!"
   ]
  },
  {
   "cell_type": "code",
   "execution_count": 192,
   "metadata": {},
   "outputs": [
    {
     "name": "stdout",
     "output_type": "stream",
     "text": [
      "Y: \n",
      " [52 84 39 54 77]\n",
      "X: \n",
      " [[52 84 39 54 77]\n",
      " [25 16 50 24 27]\n",
      " [31 44 31 27 59]\n",
      " [93 70 81 74 48]\n",
      " [51 77 38 35 39]\n",
      " [68 12  1 76 81]\n",
      " [ 4  3 20 13 66]\n",
      " [76 82 15 72 61]\n",
      " [47 29 82 88 14]\n",
      " [97 13 70 96 32]]\n"
     ]
    }
   ],
   "source": [
    "Y[0] +=1\n",
    "print(\"Y: \\n\",Y)\n",
    "print(\"X: \\n\",X)\n",
    "#The value of X and Y both change"
   ]
  },
  {
   "cell_type": "markdown",
   "metadata": {},
   "source": [
    "# 25) [P] Repeat exercise 23, but ensure that Y is assigned a copy of the selected data. Increment the first value of Y\n",
    "again and ensure that the corresponding value of X did not change."
   ]
  },
  {
   "cell_type": "code",
   "execution_count": 197,
   "metadata": {},
   "outputs": [
    {
     "name": "stdout",
     "output_type": "stream",
     "text": [
      "Y first value:  52\n",
      "X first value:  52\n",
      "\n",
      "incrementing the first value in Y by 1...\n",
      "\n",
      "Y first value:  53\n",
      "X first value:  52\n"
     ]
    }
   ],
   "source": [
    "Y = np.copy(X[0])\n",
    "print(\"Y first value: \",Y[0])\n",
    "print(\"X first value: \",X[0][0])\n",
    "print(\"\\nincrementing the first value in Y by 1...\\n\")\n",
    "Y[0]+=1\n",
    "print(\"Y first value: \",Y[0])\n",
    "print(\"X first value: \",X[0][0])"
   ]
  },
  {
   "cell_type": "markdown",
   "metadata": {},
   "source": [
    "# 26) [P] Create an array that contains the sequence of numbers 0, 0.1, 0.2, ... 9.8, 9.9 using arange, as a 10x10 matrix, stored as X."
   ]
  },
  {
   "cell_type": "code",
   "execution_count": 202,
   "metadata": {},
   "outputs": [
    {
     "data": {
      "text/plain": [
       "array([[0. , 0.1, 0.2, 0.3, 0.4, 0.5, 0.6, 0.7, 0.8, 0.9],\n",
       "       [1. , 1.1, 1.2, 1.3, 1.4, 1.5, 1.6, 1.7, 1.8, 1.9],\n",
       "       [2. , 2.1, 2.2, 2.3, 2.4, 2.5, 2.6, 2.7, 2.8, 2.9],\n",
       "       [3. , 3.1, 3.2, 3.3, 3.4, 3.5, 3.6, 3.7, 3.8, 3.9],\n",
       "       [4. , 4.1, 4.2, 4.3, 4.4, 4.5, 4.6, 4.7, 4.8, 4.9],\n",
       "       [5. , 5.1, 5.2, 5.3, 5.4, 5.5, 5.6, 5.7, 5.8, 5.9],\n",
       "       [6. , 6.1, 6.2, 6.3, 6.4, 6.5, 6.6, 6.7, 6.8, 6.9],\n",
       "       [7. , 7.1, 7.2, 7.3, 7.4, 7.5, 7.6, 7.7, 7.8, 7.9],\n",
       "       [8. , 8.1, 8.2, 8.3, 8.4, 8.5, 8.6, 8.7, 8.8, 8.9],\n",
       "       [9. , 9.1, 9.2, 9.3, 9.4, 9.5, 9.6, 9.7, 9.8, 9.9]])"
      ]
     },
     "execution_count": 202,
     "metadata": {},
     "output_type": "execute_result"
    }
   ],
   "source": [
    "X = np.reshape(np.arange(0,10,.1),(10,10))\n",
    "X"
   ]
  },
  {
   "cell_type": "markdown",
   "metadata": {},
   "source": [
    "# 27) [P] Set the RNG seed to 1234. Then create an array X of 100 uniformly distributed numbers, with all values between 1.0 and 10.0. Then, show the mean, the median, the minimum and maximum values of X."
   ]
  },
  {
   "cell_type": "code",
   "execution_count": 209,
   "metadata": {},
   "outputs": [
    {
     "name": "stdout",
     "output_type": "stream",
     "text": [
      "X mean =  5.5\n",
      "X min =  1.0\n",
      "X max =  10.0\n"
     ]
    }
   ],
   "source": [
    "np.random.seed(1234)\n",
    "X = np.linspace(1.0,10.0,100)\n",
    "print(\"X mean = \",np.mean(X))\n",
    "print(\"X min = \", np.min(X))\n",
    "print(\"X max = \", np.max(X))"
   ]
  },
  {
   "cell_type": "markdown",
   "metadata": {},
   "source": [
    "# 28) [M] Define what is meant by a normal distribution. What are the parameters of a normal distribution?\n",
    "\n",
    "The normal distribution is often found in nature. For instance, human heights are well documented to follow an approximately normal distribution for each sex.\n",
    "\n",
    "A normal distribution's mean and standard deviation can be used to find the percentage of values in any given area of the distribution. This is because a normal distribution is distributed according to how many standard deviations a value is from the mean (often called the Z score). \n",
    "\n",
    "Often people refer to the 68 - 95 - 99.7 rule when talking about the normal distribution. This refers to the fact that 68% of values are within one standard deviation of the mean, 95% within 2, and 99.7% within 3.\n",
    "\n",
    "[ref](https://www.investopedia.com/terms/n/normaldistribution.asp)"
   ]
  },
  {
   "cell_type": "markdown",
   "metadata": {},
   "source": [
    "# 29) [M] In simple terms, using a normal distribution, what does the Law of Large Numbers tell us?\n",
    "\n",
    "As we get more and more values (i.e. sample size grows), the average (mean) of the distribution will get closer to the average of the population (the \"actual\" average). In terms of a normal distribution, the more values used, the closer the average of the distribution will be to the actual average.\n"
   ]
  },
  {
   "cell_type": "markdown",
   "metadata": {},
   "source": [
    "# 30) [P] Write a function called test_normal_dist. The purpose of this function is to evaluate the law of large numbers. It should have four parameters:\n",
    "mu = mean of distribution\\\n",
    "sd = standard deviation\\\n",
    "vec_length = length of the vector to generate randomly from a normal distribution, with mu and sd as\n",
    "parameters\\\n",
    "num_trials = number of times to repeat the experiment\\\n",
    "\n",
    "The function should behave as follows. First, initialize the seed value to 1234, before your loop. Then, loop for\n",
    "num_trials, generating vec_length numbers from a normal distribution. Compute the mean of that\n",
    "vector, then compute its deviation (absolute value of the observed mean - expected mean). This should be\n",
    "repeated for all trials, and then return the average deviation over all trials."
   ]
  },
  {
   "cell_type": "code",
   "execution_count": 233,
   "metadata": {},
   "outputs": [],
   "source": [
    "# this shows the Central Limit Theorem in action! I think....\n",
    "\n",
    "def test_normal_dist(mu, sd, vec_length, num_trials):\n",
    "    np.random.seed(1234)\n",
    "    deviationsTotal = 0\n",
    "    for trial in range(num_trials):\n",
    "        mean = np.mean(np.random.normal(mu,sd,vec_length))\n",
    "        deviationsTotal += abs(mean-mu)\n",
    "    return deviationsTotal/num_trials"
   ]
  },
  {
   "cell_type": "markdown",
   "metadata": {},
   "source": [
    "# 31) [P] Use test_normal_dist to obtain the deviation for vector lengths of 10, 100, 1000, 10000, and 100000. \n",
    "\n",
    "Use a fixed number of trials of 100 for each experiment. Report the results as a numpy array with two\n",
    "dimensions. the first being the vector length, and the second being the average deviation resulting from your\n",
    "test_normal_dist function. Your resulting array should look like:\n",
    "\n",
    "In other words, your results should confirm the Law of Large Numbers."
   ]
  },
  {
   "cell_type": "code",
   "execution_count": 234,
   "metadata": {},
   "outputs": [
    {
     "name": "stdout",
     "output_type": "stream",
     "text": [
      "[[   10.             0.23862042]\n",
      " [  100.             0.08096253]\n",
      " [ 1000.             0.02229   ]\n",
      " [10000.             0.00794419]]\n"
     ]
    }
   ],
   "source": [
    "np.set_printoptions(suppress=True)\n",
    "#https://kite.com/python/answers/how-to-format-how-a-numpy-array-prints-in-python\n",
    "a = np.array(((10, test_normal_dist(0,1,10,100)),\n",
    "              (100, test_normal_dist(0,1,100,100)),\n",
    "              (1000, test_normal_dist(0,1,1000,100)),\n",
    "              (10000, test_normal_dist(0,1,10000,100))))\n",
    "\n",
    "print(a)"
   ]
  },
  {
   "cell_type": "markdown",
   "metadata": {},
   "source": [
    "This result confirms that Law of Large Numbers because as the number of trials gets larger, the average deviation gets smaller and smaller; meaning that as the number of trials increases, the mean of the trials gets closer to the actual mean."
   ]
  },
  {
   "cell_type": "code",
   "execution_count": null,
   "metadata": {},
   "outputs": [],
   "source": []
  }
 ],
 "metadata": {
  "kernelspec": {
   "display_name": "Python 3",
   "language": "python",
   "name": "python3"
  },
  "language_info": {
   "codemirror_mode": {
    "name": "ipython",
    "version": 3
   },
   "file_extension": ".py",
   "mimetype": "text/x-python",
   "name": "python",
   "nbconvert_exporter": "python",
   "pygments_lexer": "ipython3",
   "version": "3.7.4"
  }
 },
 "nbformat": 4,
 "nbformat_minor": 4
}
