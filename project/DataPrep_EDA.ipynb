{
 "cells": [
  {
   "cell_type": "markdown",
   "metadata": {},
   "source": [
    "## Problem:\n",
    "\n",
    "Using the data on which countries medaled in different summer olympic events since the start of the modern olympics, I will attempt to predict who will win the Tokyo 2020 games.\n",
    "By \"win\" I mean whhich country will medal in select events, as well as which country will have the most medals. Winning can also be interpreted as the highest weighted score of medals - e.g. 3 for gold, 2 for silver, 1 for bronze.\n",
    "\n",
    "This data was sourced from kaggle and can be found at this link: https://www.kaggle.com/the-guardian/olympic-games"
   ]
  },
  {
   "cell_type": "code",
   "execution_count": 669,
   "metadata": {},
   "outputs": [],
   "source": [
    "import numpy as np\n",
    "import pandas as pd\n",
    "import matplotlib as mpl\n",
    "import matplotlib.pyplot as plt\n",
    "import seaborn as sns"
   ]
  },
  {
   "cell_type": "code",
   "execution_count": 670,
   "metadata": {},
   "outputs": [
    {
     "data": {
      "text/html": [
       "<div>\n",
       "<style scoped>\n",
       "    .dataframe tbody tr th:only-of-type {\n",
       "        vertical-align: middle;\n",
       "    }\n",
       "\n",
       "    .dataframe tbody tr th {\n",
       "        vertical-align: top;\n",
       "    }\n",
       "\n",
       "    .dataframe thead th {\n",
       "        text-align: right;\n",
       "    }\n",
       "</style>\n",
       "<table border=\"1\" class=\"dataframe\">\n",
       "  <thead>\n",
       "    <tr style=\"text-align: right;\">\n",
       "      <th></th>\n",
       "      <th>Year</th>\n",
       "      <th>City</th>\n",
       "      <th>Sport</th>\n",
       "      <th>Discipline</th>\n",
       "      <th>Athlete</th>\n",
       "      <th>Country</th>\n",
       "      <th>Gender</th>\n",
       "      <th>Event</th>\n",
       "      <th>Medal</th>\n",
       "    </tr>\n",
       "  </thead>\n",
       "  <tbody>\n",
       "    <tr>\n",
       "      <th>0</th>\n",
       "      <td>1896</td>\n",
       "      <td>Athens</td>\n",
       "      <td>Aquatics</td>\n",
       "      <td>Swimming</td>\n",
       "      <td>HAJOS, Alfred</td>\n",
       "      <td>HUN</td>\n",
       "      <td>Men</td>\n",
       "      <td>100M Freestyle</td>\n",
       "      <td>Gold</td>\n",
       "    </tr>\n",
       "    <tr>\n",
       "      <th>1</th>\n",
       "      <td>1896</td>\n",
       "      <td>Athens</td>\n",
       "      <td>Aquatics</td>\n",
       "      <td>Swimming</td>\n",
       "      <td>HERSCHMANN, Otto</td>\n",
       "      <td>AUT</td>\n",
       "      <td>Men</td>\n",
       "      <td>100M Freestyle</td>\n",
       "      <td>Silver</td>\n",
       "    </tr>\n",
       "    <tr>\n",
       "      <th>2</th>\n",
       "      <td>1896</td>\n",
       "      <td>Athens</td>\n",
       "      <td>Aquatics</td>\n",
       "      <td>Swimming</td>\n",
       "      <td>DRIVAS, Dimitrios</td>\n",
       "      <td>GRE</td>\n",
       "      <td>Men</td>\n",
       "      <td>100M Freestyle For Sailors</td>\n",
       "      <td>Bronze</td>\n",
       "    </tr>\n",
       "    <tr>\n",
       "      <th>3</th>\n",
       "      <td>1896</td>\n",
       "      <td>Athens</td>\n",
       "      <td>Aquatics</td>\n",
       "      <td>Swimming</td>\n",
       "      <td>MALOKINIS, Ioannis</td>\n",
       "      <td>GRE</td>\n",
       "      <td>Men</td>\n",
       "      <td>100M Freestyle For Sailors</td>\n",
       "      <td>Gold</td>\n",
       "    </tr>\n",
       "    <tr>\n",
       "      <th>4</th>\n",
       "      <td>1896</td>\n",
       "      <td>Athens</td>\n",
       "      <td>Aquatics</td>\n",
       "      <td>Swimming</td>\n",
       "      <td>CHASAPIS, Spiridon</td>\n",
       "      <td>GRE</td>\n",
       "      <td>Men</td>\n",
       "      <td>100M Freestyle For Sailors</td>\n",
       "      <td>Silver</td>\n",
       "    </tr>\n",
       "    <tr>\n",
       "      <th>...</th>\n",
       "      <td>...</td>\n",
       "      <td>...</td>\n",
       "      <td>...</td>\n",
       "      <td>...</td>\n",
       "      <td>...</td>\n",
       "      <td>...</td>\n",
       "      <td>...</td>\n",
       "      <td>...</td>\n",
       "      <td>...</td>\n",
       "    </tr>\n",
       "    <tr>\n",
       "      <th>31160</th>\n",
       "      <td>2012</td>\n",
       "      <td>London</td>\n",
       "      <td>Wrestling</td>\n",
       "      <td>Wrestling Freestyle</td>\n",
       "      <td>JANIKOWSKI, Damian</td>\n",
       "      <td>POL</td>\n",
       "      <td>Men</td>\n",
       "      <td>Wg 84 KG</td>\n",
       "      <td>Bronze</td>\n",
       "    </tr>\n",
       "    <tr>\n",
       "      <th>31161</th>\n",
       "      <td>2012</td>\n",
       "      <td>London</td>\n",
       "      <td>Wrestling</td>\n",
       "      <td>Wrestling Freestyle</td>\n",
       "      <td>REZAEI, Ghasem Gholamreza</td>\n",
       "      <td>IRI</td>\n",
       "      <td>Men</td>\n",
       "      <td>Wg 96 KG</td>\n",
       "      <td>Gold</td>\n",
       "    </tr>\n",
       "    <tr>\n",
       "      <th>31162</th>\n",
       "      <td>2012</td>\n",
       "      <td>London</td>\n",
       "      <td>Wrestling</td>\n",
       "      <td>Wrestling Freestyle</td>\n",
       "      <td>TOTROV, Rustam</td>\n",
       "      <td>RUS</td>\n",
       "      <td>Men</td>\n",
       "      <td>Wg 96 KG</td>\n",
       "      <td>Silver</td>\n",
       "    </tr>\n",
       "    <tr>\n",
       "      <th>31163</th>\n",
       "      <td>2012</td>\n",
       "      <td>London</td>\n",
       "      <td>Wrestling</td>\n",
       "      <td>Wrestling Freestyle</td>\n",
       "      <td>ALEKSANYAN, Artur</td>\n",
       "      <td>ARM</td>\n",
       "      <td>Men</td>\n",
       "      <td>Wg 96 KG</td>\n",
       "      <td>Bronze</td>\n",
       "    </tr>\n",
       "    <tr>\n",
       "      <th>31164</th>\n",
       "      <td>2012</td>\n",
       "      <td>London</td>\n",
       "      <td>Wrestling</td>\n",
       "      <td>Wrestling Freestyle</td>\n",
       "      <td>LIDBERG, Jimmy</td>\n",
       "      <td>SWE</td>\n",
       "      <td>Men</td>\n",
       "      <td>Wg 96 KG</td>\n",
       "      <td>Bronze</td>\n",
       "    </tr>\n",
       "  </tbody>\n",
       "</table>\n",
       "<p>31165 rows × 9 columns</p>\n",
       "</div>"
      ],
      "text/plain": [
       "       Year    City      Sport           Discipline  \\\n",
       "0      1896  Athens   Aquatics             Swimming   \n",
       "1      1896  Athens   Aquatics             Swimming   \n",
       "2      1896  Athens   Aquatics             Swimming   \n",
       "3      1896  Athens   Aquatics             Swimming   \n",
       "4      1896  Athens   Aquatics             Swimming   \n",
       "...     ...     ...        ...                  ...   \n",
       "31160  2012  London  Wrestling  Wrestling Freestyle   \n",
       "31161  2012  London  Wrestling  Wrestling Freestyle   \n",
       "31162  2012  London  Wrestling  Wrestling Freestyle   \n",
       "31163  2012  London  Wrestling  Wrestling Freestyle   \n",
       "31164  2012  London  Wrestling  Wrestling Freestyle   \n",
       "\n",
       "                         Athlete Country Gender                       Event  \\\n",
       "0                  HAJOS, Alfred     HUN    Men              100M Freestyle   \n",
       "1               HERSCHMANN, Otto     AUT    Men              100M Freestyle   \n",
       "2              DRIVAS, Dimitrios     GRE    Men  100M Freestyle For Sailors   \n",
       "3             MALOKINIS, Ioannis     GRE    Men  100M Freestyle For Sailors   \n",
       "4             CHASAPIS, Spiridon     GRE    Men  100M Freestyle For Sailors   \n",
       "...                          ...     ...    ...                         ...   \n",
       "31160         JANIKOWSKI, Damian     POL    Men                    Wg 84 KG   \n",
       "31161  REZAEI, Ghasem Gholamreza     IRI    Men                    Wg 96 KG   \n",
       "31162             TOTROV, Rustam     RUS    Men                    Wg 96 KG   \n",
       "31163          ALEKSANYAN, Artur     ARM    Men                    Wg 96 KG   \n",
       "31164             LIDBERG, Jimmy     SWE    Men                    Wg 96 KG   \n",
       "\n",
       "        Medal  \n",
       "0        Gold  \n",
       "1      Silver  \n",
       "2      Bronze  \n",
       "3        Gold  \n",
       "4      Silver  \n",
       "...       ...  \n",
       "31160  Bronze  \n",
       "31161    Gold  \n",
       "31162  Silver  \n",
       "31163  Bronze  \n",
       "31164  Bronze  \n",
       "\n",
       "[31165 rows x 9 columns]"
      ]
     },
     "execution_count": 670,
     "metadata": {},
     "output_type": "execute_result"
    }
   ],
   "source": [
    "df = pd.read_csv(\"./data/summer.csv\")\n",
    "df"
   ]
  },
  {
   "cell_type": "markdown",
   "metadata": {},
   "source": [
    "first lets get rid of some unnecessary variables. At first glance, Sport is just a more general version of Discipline, so we will take that out. Athlete is not of much interest either for the sake of this analysis so we will take that out too."
   ]
  },
  {
   "cell_type": "code",
   "execution_count": 671,
   "metadata": {},
   "outputs": [
    {
     "data": {
      "text/html": [
       "<div>\n",
       "<style scoped>\n",
       "    .dataframe tbody tr th:only-of-type {\n",
       "        vertical-align: middle;\n",
       "    }\n",
       "\n",
       "    .dataframe tbody tr th {\n",
       "        vertical-align: top;\n",
       "    }\n",
       "\n",
       "    .dataframe thead th {\n",
       "        text-align: right;\n",
       "    }\n",
       "</style>\n",
       "<table border=\"1\" class=\"dataframe\">\n",
       "  <thead>\n",
       "    <tr style=\"text-align: right;\">\n",
       "      <th></th>\n",
       "      <th>Year</th>\n",
       "      <th>City</th>\n",
       "      <th>Discipline</th>\n",
       "      <th>Country</th>\n",
       "      <th>Gender</th>\n",
       "      <th>Event</th>\n",
       "      <th>Medal</th>\n",
       "    </tr>\n",
       "  </thead>\n",
       "  <tbody>\n",
       "    <tr>\n",
       "      <th>0</th>\n",
       "      <td>1896</td>\n",
       "      <td>Athens</td>\n",
       "      <td>Swimming</td>\n",
       "      <td>HUN</td>\n",
       "      <td>Men</td>\n",
       "      <td>100M Freestyle</td>\n",
       "      <td>Gold</td>\n",
       "    </tr>\n",
       "    <tr>\n",
       "      <th>1</th>\n",
       "      <td>1896</td>\n",
       "      <td>Athens</td>\n",
       "      <td>Swimming</td>\n",
       "      <td>AUT</td>\n",
       "      <td>Men</td>\n",
       "      <td>100M Freestyle</td>\n",
       "      <td>Silver</td>\n",
       "    </tr>\n",
       "    <tr>\n",
       "      <th>2</th>\n",
       "      <td>1896</td>\n",
       "      <td>Athens</td>\n",
       "      <td>Swimming</td>\n",
       "      <td>GRE</td>\n",
       "      <td>Men</td>\n",
       "      <td>100M Freestyle For Sailors</td>\n",
       "      <td>Bronze</td>\n",
       "    </tr>\n",
       "    <tr>\n",
       "      <th>3</th>\n",
       "      <td>1896</td>\n",
       "      <td>Athens</td>\n",
       "      <td>Swimming</td>\n",
       "      <td>GRE</td>\n",
       "      <td>Men</td>\n",
       "      <td>100M Freestyle For Sailors</td>\n",
       "      <td>Gold</td>\n",
       "    </tr>\n",
       "    <tr>\n",
       "      <th>4</th>\n",
       "      <td>1896</td>\n",
       "      <td>Athens</td>\n",
       "      <td>Swimming</td>\n",
       "      <td>GRE</td>\n",
       "      <td>Men</td>\n",
       "      <td>100M Freestyle For Sailors</td>\n",
       "      <td>Silver</td>\n",
       "    </tr>\n",
       "  </tbody>\n",
       "</table>\n",
       "</div>"
      ],
      "text/plain": [
       "   Year    City Discipline Country Gender                       Event   Medal\n",
       "0  1896  Athens   Swimming     HUN    Men              100M Freestyle    Gold\n",
       "1  1896  Athens   Swimming     AUT    Men              100M Freestyle  Silver\n",
       "2  1896  Athens   Swimming     GRE    Men  100M Freestyle For Sailors  Bronze\n",
       "3  1896  Athens   Swimming     GRE    Men  100M Freestyle For Sailors    Gold\n",
       "4  1896  Athens   Swimming     GRE    Men  100M Freestyle For Sailors  Silver"
      ]
     },
     "execution_count": 671,
     "metadata": {},
     "output_type": "execute_result"
    }
   ],
   "source": [
    "df = df.drop(\"Sport\", axis = 1).drop(\"Athlete\",axis  =1)\n",
    "df.head()"
   ]
  },
  {
   "cell_type": "markdown",
   "metadata": {},
   "source": [
    "Let's categorize all of these variables."
   ]
  },
  {
   "cell_type": "code",
   "execution_count": 672,
   "metadata": {},
   "outputs": [
    {
     "name": "stdout",
     "output_type": "stream",
     "text": [
      "<class 'pandas.core.frame.DataFrame'>\n",
      "RangeIndex: 31165 entries, 0 to 31164\n",
      "Data columns (total 7 columns):\n",
      "Year          31165 non-null int64\n",
      "City          31165 non-null category\n",
      "Discipline    31165 non-null category\n",
      "Country       31161 non-null category\n",
      "Gender        31165 non-null category\n",
      "Event         31165 non-null category\n",
      "Medal         31165 non-null category\n",
      "dtypes: category(6), int64(1)\n",
      "memory usage: 522.4 KB\n"
     ]
    }
   ],
   "source": [
    "for col in df.columns[1:]:\n",
    "    df[col] = pd.Categorical(df[col])\n",
    "df.info()"
   ]
  },
  {
   "cell_type": "markdown",
   "metadata": {},
   "source": [
    "Let's make sure this worked correctly by seeing that their are the three medal categories"
   ]
  },
  {
   "cell_type": "code",
   "execution_count": 673,
   "metadata": {},
   "outputs": [
    {
     "data": {
      "text/plain": [
       "Index(['Bronze', 'Gold', 'Silver'], dtype='object')"
      ]
     },
     "execution_count": 673,
     "metadata": {},
     "output_type": "execute_result"
    }
   ],
   "source": [
    "df.Medal.cat.categories"
   ]
  },
  {
   "cell_type": "markdown",
   "metadata": {},
   "source": [
    "WE also need to remove duplicates, as some events take up multiple observations. for instance, soccer winners get a bunch of the exact same medal (one for each teammate). We only want one observation (medal) for the country, not one for each individual."
   ]
  },
  {
   "cell_type": "code",
   "execution_count": 674,
   "metadata": {},
   "outputs": [],
   "source": [
    "df = df.drop_duplicates()"
   ]
  },
  {
   "cell_type": "code",
   "execution_count": 675,
   "metadata": {},
   "outputs": [
    {
     "data": {
      "text/plain": [
       "Text(0.5, 1.0, 'Medals given out each year (3 per event)')"
      ]
     },
     "execution_count": 675,
     "metadata": {},
     "output_type": "execute_result"
    },
    {
     "data": {
      "image/png": "[encoded data removed]",
      "text/plain": [
       "<Figure size 432x288 with 1 Axes>"
      ]
     },
     "metadata": {
      "needs_background": "light"
     },
     "output_type": "display_data"
    }
   ],
   "source": [
    "years = df.groupby(\"Year\")\n",
    "fig = years.count()[\"Medal\"].plot()\n",
    "fig.set_title(\"Medals given out each year (3 per event)\")"
   ]
  },
  {
   "cell_type": "code",
   "execution_count": null,
   "metadata": {},
   "outputs": [],
   "source": []
  },
  {
   "cell_type": "markdown",
   "metadata": {},
   "source": [
    "We see that there is much more data for recent years, which is to be expected. I am considering weighting more recent years higher, as they are likely a better representation of a country's current strength in a given event.\n",
    "An interesting feature of this graph to note the decline in number of medals (and thus, events) during the two world wars."
   ]
  },
  {
   "cell_type": "code",
   "execution_count": 676,
   "metadata": {},
   "outputs": [
    {
     "data": {
      "text/plain": [
       "Year\n",
       "1896                   Athens\n",
       "1900                    Paris\n",
       "1904                 St Louis\n",
       "1908                   London\n",
       "1912                Stockholm\n",
       "1920                  Antwerp\n",
       "1924                    Paris\n",
       "1928                Amsterdam\n",
       "1932              Los Angeles\n",
       "1936                   Berlin\n",
       "1948                   London\n",
       "1952                 Helsinki\n",
       "1956    Melbourne / Stockholm\n",
       "1960                     Rome\n",
       "1964                    Tokyo\n",
       "1968                   Mexico\n",
       "1972                   Munich\n",
       "1976                 Montreal\n",
       "1980                   Moscow\n",
       "1984              Los Angeles\n",
       "1988                    Seoul\n",
       "1992                Barcelona\n",
       "1996                  Atlanta\n",
       "2000                   Sydney\n",
       "2004                   Athens\n",
       "2008                  Beijing\n",
       "2012                   London\n",
       "Name: City, dtype: category\n",
       "Categories (22, object): [Amsterdam, Antwerp, Athens, Atlanta, ..., St Louis, Stockholm, Sydney, Tokyo]"
      ]
     },
     "execution_count": 676,
     "metadata": {},
     "output_type": "execute_result"
    }
   ],
   "source": [
    "hosts = df.groupby(\"Year\").first()[\"City\"]\n",
    "hosts"
   ]
  },
  {
   "cell_type": "markdown",
   "metadata": {},
   "source": [
    "Here we see which city hosted each of the olympics. Another thing of note is the lack of summer olympics in 1940 and 44 due to WWII."
   ]
  },
  {
   "cell_type": "code",
   "execution_count": 677,
   "metadata": {},
   "outputs": [
    {
     "data": {
      "text/plain": [
       "Text(0.5, 1.0, 'Times hosted')"
      ]
     },
     "execution_count": 677,
     "metadata": {},
     "output_type": "execute_result"
    },
    {
     "data": {
      "image/png": "[encoded data removed]",
      "text/plain": [
       "<Figure size 432x288 with 1 Axes>"
      ]
     },
     "metadata": {
      "needs_background": "light"
     },
     "output_type": "display_data"
    }
   ],
   "source": [
    "hostCounts = df.groupby(\"Year\").first().groupby(\"City\").count()[\"Medal\"]\n",
    "ax  = sns.barplot(hostCounts.index, hostCounts)\n",
    "for item in ax.get_xticklabels():\n",
    "    item.set_rotation(90)\n",
    "    \n",
    "ax.set_title(\"Times hosted\")"
   ]
  },
  {
   "cell_type": "markdown",
   "metadata": {},
   "source": [
    "Most cities have only hosted the games once, with London being the only city to host 3 times!"
   ]
  },
  {
   "cell_type": "code",
   "execution_count": 678,
   "metadata": {},
   "outputs": [
    {
     "name": "stdout",
     "output_type": "stream",
     "text": [
      "Medals won:\n"
     ]
    },
    {
     "data": {
      "text/plain": [
       "Country\n",
       "USA    2408\n",
       "URS    1008\n",
       "GBR     794\n",
       "FRA     661\n",
       "GER     580\n",
       "Name: Medal, dtype: int64"
      ]
     },
     "execution_count": 678,
     "metadata": {},
     "output_type": "execute_result"
    }
   ],
   "source": [
    "print(\"Medals won:\")\n",
    "df.groupby(\"Country\").count()[\"Medal\"].sort_values(ascending = False).head()"
   ]
  },
  {
   "cell_type": "markdown",
   "metadata": {},
   "source": [
    "Here we see the countries with the most medals in summer olympics from 1896 - 2012. On thing to note is that URS is the Soviet Union. We could consider combining the Soviet union and Russia into one category. In the next cell, we see that Russia has medaled 768 time as of the end of the 2012 olympics and after the breakup of the Soviet Union."
   ]
  },
  {
   "cell_type": "code",
   "execution_count": 679,
   "metadata": {},
   "outputs": [
    {
     "data": {
      "text/plain": [
       "Text(0.5, 1.0, 'russia medals won per year by event')"
      ]
     },
     "execution_count": 679,
     "metadata": {},
     "output_type": "execute_result"
    },
    {
     "data": {
      "image/png": "[encoded data removed]",
      "text/plain": [
       "<Figure size 432x288 with 1 Axes>"
      ]
     },
     "metadata": {
      "needs_background": "light"
     },
     "output_type": "display_data"
    }
   ],
   "source": [
    "fig = df[df[\"Country\"] == \"RUS\"].groupby(\"Year\").count()[\"Medal\"].plot()\n",
    "fig.set_title(\"russia medals won per year by event\")"
   ]
  },
  {
   "cell_type": "markdown",
   "metadata": {},
   "source": [
    "I have decided not to combine these countries. Because I want to weight more recent olympics heavier, this decision will likely have little effect on the end result.\n",
    "  \n",
    "    \n",
    "Next lets just look at medals won in the 2012 olympics. (the most recent for this data set)"
   ]
  },
  {
   "cell_type": "code",
   "execution_count": 680,
   "metadata": {},
   "outputs": [
    {
     "data": {
      "text/plain": [
       "Country\n",
       "USA    104\n",
       "CHN     91\n",
       "RUS     72\n",
       "GBR     68\n",
       "GER     45\n",
       "Name: Medal, dtype: int64"
      ]
     },
     "execution_count": 680,
     "metadata": {},
     "output_type": "execute_result"
    }
   ],
   "source": [
    "df[df[\"Year\"] == 2012].groupby(\"Country\").count()[\"Medal\"].sort_values(ascending = False).head()"
   ]
  },
  {
   "cell_type": "markdown",
   "metadata": {},
   "source": [
    "We see the USA is still on top and that USSR's main successor still plays second fiddle. China is prominent, yet does not show up in the top 5 all time. Lets look into this."
   ]
  },
  {
   "cell_type": "code",
   "execution_count": 681,
   "metadata": {},
   "outputs": [
    {
     "data": {
      "text/plain": [
       "Text(0.5, 1.0, 'china medals won per year by event')"
      ]
     },
     "execution_count": 681,
     "metadata": {},
     "output_type": "execute_result"
    },
    {
     "data": {
      "image/png": "[encoded data removed]",
      "text/plain": [
       "<Figure size 432x288 with 1 Axes>"
      ]
     },
     "metadata": {
      "needs_background": "light"
     },
     "output_type": "display_data"
    }
   ],
   "source": [
    "fig = df[df[\"Country\"] == \"CHN\"].groupby(\"Year\").count()[\"Medal\"].plot()\n",
    "fig.set_title(\"china medals won per year by event\")"
   ]
  },
  {
   "cell_type": "markdown",
   "metadata": {},
   "source": [
    "China had no medals before 1984? Seems odd. https://en.wikipedia.org/wiki/China_at_the_Olympics there we have it. China's beef with Taiwan runs deep..."
   ]
  },
  {
   "cell_type": "markdown",
   "metadata": {},
   "source": [
    "Similar to Russia, due to my thoughts about weighting more recent games much more heavily, this will likely not be a detriment in determining if China will medal."
   ]
  },
  {
   "cell_type": "code",
   "execution_count": 682,
   "metadata": {},
   "outputs": [
    {
     "data": {
      "text/plain": [
       "Country\n",
       "USA    103.6\n",
       "RUS     77.6\n",
       "CHN     72.4\n",
       "GER     51.8\n",
       "AUS     46.2\n",
       "Name: Medal, dtype: float64"
      ]
     },
     "execution_count": 682,
     "metadata": {},
     "output_type": "execute_result"
    }
   ],
   "source": [
    "past5 = df[(df[\"Year\"] == 1996) | (df[\"Year\"] == 2000) |(df[\"Year\"] == 2004) | (df[\"Year\"] == 2008) | (df[\"Year\"] == 2012)]\n",
    "#now we have only the data from the most recent 5 olympiads that are in this data set ( because this dataset doesn't include 2016)\n",
    "past5.groupby(\"Country\").count()[\"Medal\"].sort_values(ascending = False).head() / 5"
   ]
  },
  {
   "cell_type": "markdown",
   "metadata": {},
   "source": [
    "In the olympiads from '96 to '12, we see that USA had the highest average number of medals per olympiad. What if we look only at golds ?"
   ]
  },
  {
   "cell_type": "code",
   "execution_count": 683,
   "metadata": {},
   "outputs": [
    {
     "data": {
      "text/plain": [
       "Country\n",
       "USA    40.0\n",
       "CHN    32.8\n",
       "RUS    25.8\n",
       "GER    15.4\n",
       "GBR    14.0\n",
       "Name: Medal, dtype: float64"
      ]
     },
     "execution_count": 683,
     "metadata": {},
     "output_type": "execute_result"
    }
   ],
   "source": [
    "past5[past5.Medal == \"Gold\"].groupby(\"Country\").count()[\"Medal\"].sort_values(ascending = False).head() / 5"
   ]
  },
  {
   "cell_type": "markdown",
   "metadata": {},
   "source": [
    "China gets a lot of golds! Let's look at some proportions..."
   ]
  },
  {
   "cell_type": "code",
   "execution_count": 684,
   "metadata": {},
   "outputs": [
    {
     "data": {
      "text/plain": [
       "Country\n",
       "UAE    1.00\n",
       "PAN    1.00\n",
       "BDI    1.00\n",
       "GRN    1.00\n",
       "CMR    0.75\n",
       "Name: Medal, dtype: float64"
      ]
     },
     "execution_count": 684,
     "metadata": {},
     "output_type": "execute_result"
    }
   ],
   "source": [
    "past5GoldCount = past5[past5.Medal == \"Gold\"].groupby(\"Country\").count()[\"Medal\"]\n",
    "past5MedalCount = past5.groupby(\"Country\").count()[\"Medal\"]\n",
    "goldProps = past5GoldCount / past5MedalCount\n",
    "goldProps.sort_values(ascending = False).head()"
   ]
  },
  {
   "cell_type": "markdown",
   "metadata": {},
   "source": [
    "Looks like UAE, Panama, Grenada, and Berundi got only Golds! Of course, they probably didn't get many medals altogether. Let's only look at countries with atleast 10 medals in the past 5 olympiads."
   ]
  },
  {
   "cell_type": "code",
   "execution_count": 685,
   "metadata": {},
   "outputs": [
    {
     "data": {
      "text/plain": [
       "Country\n",
       "ETH    0.468750\n",
       "CHN    0.453039\n",
       "NOR    0.444444\n",
       "IRI    0.428571\n",
       "NZL    0.410256\n",
       "Name: Medal, dtype: float64"
      ]
     },
     "execution_count": 685,
     "metadata": {},
     "output_type": "execute_result"
    }
   ],
   "source": [
    "tenMedalBool = (past5.groupby(\"Country\").count() >= 10)[\"Year\"]\n",
    "goldProps[tenMedalBool].sort_values(ascending = False).head()"
   ]
  },
  {
   "cell_type": "markdown",
   "metadata": {},
   "source": [
    "Ethiopa takes the gold! So what is Ethiopia so good at winning?"
   ]
  },
  {
   "cell_type": "code",
   "execution_count": 686,
   "metadata": {},
   "outputs": [
    {
     "name": "stdout",
     "output_type": "stream",
     "text": [
      "Ethopia total medals for events for summer olympics 1996 - 2012, top 5\n"
     ]
    },
    {
     "data": {
      "text/plain": [
       "Event\n",
       "10000M                21\n",
       "5000M                 13\n",
       "Marathon               9\n",
       "3000M Steeple          1\n",
       "3000M Steeplechase     1\n",
       "Name: Medal, dtype: int64"
      ]
     },
     "execution_count": 686,
     "metadata": {},
     "output_type": "execute_result"
    }
   ],
   "source": [
    "print(\"Ethopia total medals for events for summer olympics 1996 - 2012, top 5\")\n",
    "df[df[\"Country\"] == \"ETH\"].groupby(\"Event\").count()[\"Medal\"].sort_values(ascending = False).head()"
   ]
  },
  {
   "cell_type": "markdown",
   "metadata": {},
   "source": [
    "Clearly long distance running is Ethiopia's specialty."
   ]
  },
  {
   "cell_type": "markdown",
   "metadata": {},
   "source": [
    "We are starting to stray a little from our goal: predicting what country will do best in future olympiads. To figure this out,we could weight the two most important metrics: the medal (gold, silver bronze), and the age of the medal (more recent has more weight).\n",
    "Given the huge importance of recent dominance in predicting, I am weighting wins by weighting each year 2/3 less than the more recent. So the most recent olympiad has a weight of 1, the next  has weight .66, then .44, .3  etc. for the sake of simplicity with medal weighting, I will do the [\"New York Times weighted point system\"](https://www.topendsports.com/events/summer/medal-tally/rankings-weighted.htm) which gives weights of 4, 2, and 1 to gold, silver and bronze, respectively. Thus, A bronze from 2012 will have the greater weight than a gold from 2000 but less weight than a gold from 2004. This is a fairly arbitrary weighting system, but I like it."
   ]
  },
  {
   "cell_type": "code",
   "execution_count": 687,
   "metadata": {},
   "outputs": [],
   "source": [
    "df[\"yearWeight\"] = (2/3)**(29 - (df[\"Year\"] - 1896)/4) # 2/3 to an exponent = to how many olympiads ago that olympiad was. so 2012's exponent is 0, 2008's is 1, etc."
   ]
  },
  {
   "cell_type": "code",
   "execution_count": 688,
   "metadata": {},
   "outputs": [],
   "source": [
    "df[\"medalWeight\"] = 0\n",
    "def weightMedal (row):\n",
    "    if row['Medal'] == \"Gold\" :\n",
    "        return 4\n",
    "    if row[\"Medal\"] == \"Silver\":\n",
    "        return 2\n",
    "    if row['Medal'] == \"Bronze\" :\n",
    "        return 1\n",
    "df['medalWeight'] = df.apply(lambda row: weightMedal(row), axis=1)\n",
    "df[\"Weight\"] = df['medalWeight'] * df[\"yearWeight\"]"
   ]
  },
  {
   "cell_type": "code",
   "execution_count": 689,
   "metadata": {},
   "outputs": [
    {
     "data": {
      "text/plain": [
       "Country  Discipline\n",
       "USA      Swimming      233.421655\n",
       "         Athletics     181.544251\n",
       "RUS      Athletics      88.975309\n",
       "AUS      Swimming       88.884538\n",
       "CHN      Diving         81.442615\n",
       "Name: Weight, dtype: float64"
      ]
     },
     "execution_count": 689,
     "metadata": {},
     "output_type": "execute_result"
    }
   ],
   "source": [
    "df.groupby([\"Country\",\"Discipline\"]).sum()[\"Weight\"].sort_values(ascending = False).head()"
   ]
  },
  {
   "cell_type": "markdown",
   "metadata": {},
   "source": [
    "This is a rough way of determining which country will perform the best in a certain discipline in the next olympics. "
   ]
  },
  {
   "cell_type": "markdown",
   "metadata": {},
   "source": [
    "We will now use some of this data to predict who will who will win the gold in that event. We will base it only off of the \"weight\", a score based off of how how well a country did in each event. Using all events is a lot, so we will just do swimming and track &field. for the sake of simplicity we will only use mens events."
   ]
  },
  {
   "cell_type": "code",
   "execution_count": 698,
   "metadata": {},
   "outputs": [],
   "source": [
    "df = df[df.Year != 1896]\n",
    "allscores  = df.groupby([\"Country\",\"Event\"]).sum()[\"Weight\"]"
   ]
  },
  {
   "cell_type": "code",
   "execution_count": 699,
   "metadata": {},
   "outputs": [],
   "source": [
    "countries = df[\"Country\"].drop_duplicates().dropna()\n",
    "events = df[(df[\"Discipline\"] == \"Swimming\") |(df[\"Discipline\"] == \"Athletics\")].Event.drop_duplicates()"
   ]
  },
  {
   "cell_type": "code",
   "execution_count": 700,
   "metadata": {},
   "outputs": [],
   "source": [
    "scores = pd.DataFrame(index = events,columns = countries)\n",
    "for country in countries:\n",
    "    for event in events:\n",
    "        scores.loc[event,country] = allscores[country,event]"
   ]
  },
  {
   "cell_type": "code",
   "execution_count": 701,
   "metadata": {},
   "outputs": [],
   "source": [
    "for event in scores.index:\n",
    "    if scores.loc[event].count() < 20:\n",
    "        scores.drop(event,inplace = True)"
   ]
  },
  {
   "cell_type": "code",
   "execution_count": 702,
   "metadata": {},
   "outputs": [],
   "source": [
    "scores = scores.fillna(0)"
   ]
  },
  {
   "cell_type": "markdown",
   "metadata": {},
   "source": [
    "We have taken all track and swimming events with 20 or more scores and created a frame with each countries \"strength\" in that event. Now we will create y, which is the target. This is who is predicted to win gold in the event."
   ]
  },
  {
   "cell_type": "markdown",
   "metadata": {},
   "source": [
    "We will have \"truth\" be the most recent result (from 2012). "
   ]
  },
  {
   "cell_type": "code",
   "execution_count": 703,
   "metadata": {},
   "outputs": [],
   "source": [
    "londonGolds = df[(df[\"Gender\"] == \"Men\") &(df[\"Medal\"] == \"Gold\") &(df[\"Year\"] == 2012) & ((df[\"Discipline\"] == \"Swimming\")|(df[\"Discipline\"] == \"Athletics\"))]"
   ]
  },
  {
   "cell_type": "code",
   "execution_count": 704,
   "metadata": {},
   "outputs": [],
   "source": [
    "y = londonGolds[['Event','Country']]"
   ]
  },
  {
   "cell_type": "code",
   "execution_count": 705,
   "metadata": {},
   "outputs": [],
   "source": [
    "scores.index = scores.index.astype(str)\n",
    "scores.columns = scores.columns.astype(str)\n",
    "Xy = pd.merge(scores, y, on= \"Event\")\n",
    "Xy.set_index(\"Event\",drop = True,inplace = True)"
   ]
  },
  {
   "cell_type": "code",
   "execution_count": 706,
   "metadata": {},
   "outputs": [
    {
     "data": {
      "text/html": [
       "<div>\n",
       "<style scoped>\n",
       "    .dataframe tbody tr th:only-of-type {\n",
       "        vertical-align: middle;\n",
       "    }\n",
       "\n",
       "    .dataframe tbody tr th {\n",
       "        vertical-align: top;\n",
       "    }\n",
       "\n",
       "    .dataframe thead th {\n",
       "        text-align: right;\n",
       "    }\n",
       "</style>\n",
       "<table border=\"1\" class=\"dataframe\">\n",
       "  <thead>\n",
       "    <tr style=\"text-align: right;\">\n",
       "      <th></th>\n",
       "      <th>HUN</th>\n",
       "      <th>GBR</th>\n",
       "      <th>AUT</th>\n",
       "      <th>NED</th>\n",
       "      <th>GER</th>\n",
       "      <th>AUS</th>\n",
       "      <th>FRA</th>\n",
       "      <th>DEN</th>\n",
       "      <th>BEL</th>\n",
       "      <th>USA</th>\n",
       "      <th>...</th>\n",
       "      <th>BRN</th>\n",
       "      <th>GUA</th>\n",
       "      <th>GRN</th>\n",
       "      <th>TTO</th>\n",
       "      <th>BOT</th>\n",
       "      <th>MNE</th>\n",
       "      <th>CYP</th>\n",
       "      <th>SGP</th>\n",
       "      <th>GAB</th>\n",
       "      <th>Country</th>\n",
       "    </tr>\n",
       "    <tr>\n",
       "      <th>Event</th>\n",
       "      <th></th>\n",
       "      <th></th>\n",
       "      <th></th>\n",
       "      <th></th>\n",
       "      <th></th>\n",
       "      <th></th>\n",
       "      <th></th>\n",
       "      <th></th>\n",
       "      <th></th>\n",
       "      <th></th>\n",
       "      <th></th>\n",
       "      <th></th>\n",
       "      <th></th>\n",
       "      <th></th>\n",
       "      <th></th>\n",
       "      <th></th>\n",
       "      <th></th>\n",
       "      <th></th>\n",
       "      <th></th>\n",
       "      <th></th>\n",
       "      <th></th>\n",
       "    </tr>\n",
       "  </thead>\n",
       "  <tbody>\n",
       "    <tr>\n",
       "      <th>200M Freestyle</th>\n",
       "      <td>0.000023</td>\n",
       "      <td>0.000000</td>\n",
       "      <td>0.000012</td>\n",
       "      <td>2.158614</td>\n",
       "      <td>0.987672</td>\n",
       "      <td>5.258928</td>\n",
       "      <td>6.444444</td>\n",
       "      <td>0.000000</td>\n",
       "      <td>0.000000</td>\n",
       "      <td>9.366440</td>\n",
       "      <td>...</td>\n",
       "      <td>0.0</td>\n",
       "      <td>0</td>\n",
       "      <td>0.0</td>\n",
       "      <td>0.0</td>\n",
       "      <td>0.0</td>\n",
       "      <td>0</td>\n",
       "      <td>0</td>\n",
       "      <td>0</td>\n",
       "      <td>0</td>\n",
       "      <td>FRA</td>\n",
       "    </tr>\n",
       "    <tr>\n",
       "      <th>100M</th>\n",
       "      <td>0.000000</td>\n",
       "      <td>0.880174</td>\n",
       "      <td>0.000000</td>\n",
       "      <td>0.006541</td>\n",
       "      <td>0.000952</td>\n",
       "      <td>0.068188</td>\n",
       "      <td>0.000000</td>\n",
       "      <td>0.000000</td>\n",
       "      <td>0.000000</td>\n",
       "      <td>11.594415</td>\n",
       "      <td>...</td>\n",
       "      <td>0.0</td>\n",
       "      <td>0</td>\n",
       "      <td>0.0</td>\n",
       "      <td>0.0</td>\n",
       "      <td>0.0</td>\n",
       "      <td>0</td>\n",
       "      <td>0</td>\n",
       "      <td>0</td>\n",
       "      <td>0</td>\n",
       "      <td>JAM</td>\n",
       "    </tr>\n",
       "    <tr>\n",
       "      <th>1500M</th>\n",
       "      <td>0.005138</td>\n",
       "      <td>2.501173</td>\n",
       "      <td>0.197531</td>\n",
       "      <td>0.001522</td>\n",
       "      <td>0.002284</td>\n",
       "      <td>0.023978</td>\n",
       "      <td>0.677368</td>\n",
       "      <td>0.000000</td>\n",
       "      <td>0.052025</td>\n",
       "      <td>2.029040</td>\n",
       "      <td>...</td>\n",
       "      <td>1.0</td>\n",
       "      <td>0</td>\n",
       "      <td>0.0</td>\n",
       "      <td>0.0</td>\n",
       "      <td>0.0</td>\n",
       "      <td>0</td>\n",
       "      <td>0</td>\n",
       "      <td>0</td>\n",
       "      <td>0</td>\n",
       "      <td>ALG</td>\n",
       "    </tr>\n",
       "    <tr>\n",
       "      <th>200M</th>\n",
       "      <td>0.000000</td>\n",
       "      <td>0.679476</td>\n",
       "      <td>0.000000</td>\n",
       "      <td>0.011108</td>\n",
       "      <td>0.000200</td>\n",
       "      <td>0.126469</td>\n",
       "      <td>0.795262</td>\n",
       "      <td>0.000000</td>\n",
       "      <td>0.000000</td>\n",
       "      <td>16.283101</td>\n",
       "      <td>...</td>\n",
       "      <td>0.0</td>\n",
       "      <td>0</td>\n",
       "      <td>0.0</td>\n",
       "      <td>0.0</td>\n",
       "      <td>0.0</td>\n",
       "      <td>0</td>\n",
       "      <td>0</td>\n",
       "      <td>0</td>\n",
       "      <td>0</td>\n",
       "      <td>JAM</td>\n",
       "    </tr>\n",
       "    <tr>\n",
       "      <th>400M</th>\n",
       "      <td>0.000000</td>\n",
       "      <td>5.456943</td>\n",
       "      <td>0.000000</td>\n",
       "      <td>0.000000</td>\n",
       "      <td>0.000280</td>\n",
       "      <td>1.696821</td>\n",
       "      <td>1.363117</td>\n",
       "      <td>0.000012</td>\n",
       "      <td>0.000000</td>\n",
       "      <td>18.415580</td>\n",
       "      <td>...</td>\n",
       "      <td>0.0</td>\n",
       "      <td>0</td>\n",
       "      <td>4.0</td>\n",
       "      <td>1.0</td>\n",
       "      <td>0.0</td>\n",
       "      <td>0</td>\n",
       "      <td>0</td>\n",
       "      <td>0</td>\n",
       "      <td>0</td>\n",
       "      <td>GRN</td>\n",
       "    </tr>\n",
       "    <tr>\n",
       "      <th>400M Hurdles</th>\n",
       "      <td>0.000000</td>\n",
       "      <td>1.455511</td>\n",
       "      <td>0.000000</td>\n",
       "      <td>0.000000</td>\n",
       "      <td>0.000000</td>\n",
       "      <td>0.351166</td>\n",
       "      <td>0.444468</td>\n",
       "      <td>0.000000</td>\n",
       "      <td>0.000000</td>\n",
       "      <td>14.896107</td>\n",
       "      <td>...</td>\n",
       "      <td>0.0</td>\n",
       "      <td>0</td>\n",
       "      <td>0.0</td>\n",
       "      <td>0.0</td>\n",
       "      <td>0.0</td>\n",
       "      <td>0</td>\n",
       "      <td>0</td>\n",
       "      <td>0</td>\n",
       "      <td>0</td>\n",
       "      <td>DOM</td>\n",
       "    </tr>\n",
       "    <tr>\n",
       "      <th>800M</th>\n",
       "      <td>0.000000</td>\n",
       "      <td>2.465863</td>\n",
       "      <td>0.592593</td>\n",
       "      <td>0.538310</td>\n",
       "      <td>1.188498</td>\n",
       "      <td>0.056521</td>\n",
       "      <td>0.016937</td>\n",
       "      <td>1.037037</td>\n",
       "      <td>0.062301</td>\n",
       "      <td>0.579829</td>\n",
       "      <td>...</td>\n",
       "      <td>0.0</td>\n",
       "      <td>0</td>\n",
       "      <td>0.0</td>\n",
       "      <td>0.0</td>\n",
       "      <td>2.0</td>\n",
       "      <td>0</td>\n",
       "      <td>0</td>\n",
       "      <td>0</td>\n",
       "      <td>0</td>\n",
       "      <td>KEN</td>\n",
       "    </tr>\n",
       "    <tr>\n",
       "      <th>Discus Throw</th>\n",
       "      <td>0.900497</td>\n",
       "      <td>0.000000</td>\n",
       "      <td>0.000000</td>\n",
       "      <td>0.234111</td>\n",
       "      <td>6.438469</td>\n",
       "      <td>0.131687</td>\n",
       "      <td>0.007913</td>\n",
       "      <td>0.000000</td>\n",
       "      <td>0.000000</td>\n",
       "      <td>3.290614</td>\n",
       "      <td>...</td>\n",
       "      <td>0.0</td>\n",
       "      <td>0</td>\n",
       "      <td>0.0</td>\n",
       "      <td>0.0</td>\n",
       "      <td>0.0</td>\n",
       "      <td>0</td>\n",
       "      <td>0</td>\n",
       "      <td>0</td>\n",
       "      <td>0</td>\n",
       "      <td>GER</td>\n",
       "    </tr>\n",
       "    <tr>\n",
       "      <th>Hammer Throw</th>\n",
       "      <td>4.891128</td>\n",
       "      <td>0.000134</td>\n",
       "      <td>0.000000</td>\n",
       "      <td>0.000000</td>\n",
       "      <td>2.303570</td>\n",
       "      <td>0.000000</td>\n",
       "      <td>0.000000</td>\n",
       "      <td>0.000000</td>\n",
       "      <td>0.000000</td>\n",
       "      <td>0.412597</td>\n",
       "      <td>...</td>\n",
       "      <td>0.0</td>\n",
       "      <td>0</td>\n",
       "      <td>0.0</td>\n",
       "      <td>0.0</td>\n",
       "      <td>0.0</td>\n",
       "      <td>0</td>\n",
       "      <td>0</td>\n",
       "      <td>0</td>\n",
       "      <td>0</td>\n",
       "      <td>HUN</td>\n",
       "    </tr>\n",
       "    <tr>\n",
       "      <th>High Jump</th>\n",
       "      <td>0.001869</td>\n",
       "      <td>2.556582</td>\n",
       "      <td>0.017342</td>\n",
       "      <td>0.000401</td>\n",
       "      <td>0.527297</td>\n",
       "      <td>0.160043</td>\n",
       "      <td>0.001956</td>\n",
       "      <td>0.000000</td>\n",
       "      <td>2.666678</td>\n",
       "      <td>6.594434</td>\n",
       "      <td>...</td>\n",
       "      <td>0.0</td>\n",
       "      <td>0</td>\n",
       "      <td>0.0</td>\n",
       "      <td>0.0</td>\n",
       "      <td>0.0</td>\n",
       "      <td>0</td>\n",
       "      <td>0</td>\n",
       "      <td>0</td>\n",
       "      <td>0</td>\n",
       "      <td>RUS</td>\n",
       "    </tr>\n",
       "    <tr>\n",
       "      <th>Long Jump</th>\n",
       "      <td>0.008373</td>\n",
       "      <td>4.145604</td>\n",
       "      <td>0.000000</td>\n",
       "      <td>0.000000</td>\n",
       "      <td>1.712836</td>\n",
       "      <td>2.712693</td>\n",
       "      <td>0.000000</td>\n",
       "      <td>0.000000</td>\n",
       "      <td>0.000000</td>\n",
       "      <td>12.558842</td>\n",
       "      <td>...</td>\n",
       "      <td>0.0</td>\n",
       "      <td>0</td>\n",
       "      <td>0.0</td>\n",
       "      <td>0.0</td>\n",
       "      <td>0.0</td>\n",
       "      <td>0</td>\n",
       "      <td>0</td>\n",
       "      <td>0</td>\n",
       "      <td>0</td>\n",
       "      <td>GBR</td>\n",
       "    </tr>\n",
       "    <tr>\n",
       "      <th>Marathon</th>\n",
       "      <td>0.000000</td>\n",
       "      <td>0.078491</td>\n",
       "      <td>0.000000</td>\n",
       "      <td>0.078037</td>\n",
       "      <td>0.131687</td>\n",
       "      <td>0.175583</td>\n",
       "      <td>0.014574</td>\n",
       "      <td>0.000000</td>\n",
       "      <td>0.062218</td>\n",
       "      <td>1.689263</td>\n",
       "      <td>...</td>\n",
       "      <td>0.0</td>\n",
       "      <td>0</td>\n",
       "      <td>0.0</td>\n",
       "      <td>0.0</td>\n",
       "      <td>0.0</td>\n",
       "      <td>0</td>\n",
       "      <td>0</td>\n",
       "      <td>0</td>\n",
       "      <td>0</td>\n",
       "      <td>UGA</td>\n",
       "    </tr>\n",
       "    <tr>\n",
       "      <th>Pole Vault</th>\n",
       "      <td>0.000000</td>\n",
       "      <td>0.000000</td>\n",
       "      <td>0.000000</td>\n",
       "      <td>0.000000</td>\n",
       "      <td>3.197531</td>\n",
       "      <td>3.259259</td>\n",
       "      <td>5.082762</td>\n",
       "      <td>0.000178</td>\n",
       "      <td>0.000000</td>\n",
       "      <td>11.373048</td>\n",
       "      <td>...</td>\n",
       "      <td>0.0</td>\n",
       "      <td>0</td>\n",
       "      <td>0.0</td>\n",
       "      <td>0.0</td>\n",
       "      <td>0.0</td>\n",
       "      <td>0</td>\n",
       "      <td>0</td>\n",
       "      <td>0</td>\n",
       "      <td>0</td>\n",
       "      <td>FRA</td>\n",
       "    </tr>\n",
       "    <tr>\n",
       "      <th>Shot Put</th>\n",
       "      <td>0.007707</td>\n",
       "      <td>0.000053</td>\n",
       "      <td>0.001522</td>\n",
       "      <td>0.000000</td>\n",
       "      <td>4.114019</td>\n",
       "      <td>0.058528</td>\n",
       "      <td>0.006090</td>\n",
       "      <td>0.444444</td>\n",
       "      <td>0.000000</td>\n",
       "      <td>6.680827</td>\n",
       "      <td>...</td>\n",
       "      <td>0.0</td>\n",
       "      <td>0</td>\n",
       "      <td>0.0</td>\n",
       "      <td>0.0</td>\n",
       "      <td>0.0</td>\n",
       "      <td>0</td>\n",
       "      <td>0</td>\n",
       "      <td>0</td>\n",
       "      <td>0</td>\n",
       "      <td>POL</td>\n",
       "    </tr>\n",
       "    <tr>\n",
       "      <th>Triple Jump</th>\n",
       "      <td>0.000000</td>\n",
       "      <td>2.972214</td>\n",
       "      <td>0.000000</td>\n",
       "      <td>0.000000</td>\n",
       "      <td>0.000000</td>\n",
       "      <td>0.004031</td>\n",
       "      <td>0.000000</td>\n",
       "      <td>0.000000</td>\n",
       "      <td>0.000000</td>\n",
       "      <td>7.984044</td>\n",
       "      <td>...</td>\n",
       "      <td>0.0</td>\n",
       "      <td>0</td>\n",
       "      <td>0.0</td>\n",
       "      <td>0.0</td>\n",
       "      <td>0.0</td>\n",
       "      <td>0</td>\n",
       "      <td>0</td>\n",
       "      <td>0</td>\n",
       "      <td>0</td>\n",
       "      <td>USA</td>\n",
       "    </tr>\n",
       "    <tr>\n",
       "      <th>100M Backstroke</th>\n",
       "      <td>1.000523</td>\n",
       "      <td>0.028600</td>\n",
       "      <td>0.888889</td>\n",
       "      <td>0.066603</td>\n",
       "      <td>0.296644</td>\n",
       "      <td>3.302489</td>\n",
       "      <td>0.465949</td>\n",
       "      <td>0.006143</td>\n",
       "      <td>0.000089</td>\n",
       "      <td>25.957647</td>\n",
       "      <td>...</td>\n",
       "      <td>0.0</td>\n",
       "      <td>0</td>\n",
       "      <td>0.0</td>\n",
       "      <td>0.0</td>\n",
       "      <td>0.0</td>\n",
       "      <td>0</td>\n",
       "      <td>0</td>\n",
       "      <td>0</td>\n",
       "      <td>0</td>\n",
       "      <td>USA</td>\n",
       "    </tr>\n",
       "    <tr>\n",
       "      <th>100M Freestyle</th>\n",
       "      <td>0.015269</td>\n",
       "      <td>0.020793</td>\n",
       "      <td>0.000000</td>\n",
       "      <td>9.130073</td>\n",
       "      <td>3.193867</td>\n",
       "      <td>7.189422</td>\n",
       "      <td>2.973937</td>\n",
       "      <td>0.006090</td>\n",
       "      <td>0.000000</td>\n",
       "      <td>8.804193</td>\n",
       "      <td>...</td>\n",
       "      <td>0.0</td>\n",
       "      <td>0</td>\n",
       "      <td>0.0</td>\n",
       "      <td>0.0</td>\n",
       "      <td>0.0</td>\n",
       "      <td>0</td>\n",
       "      <td>0</td>\n",
       "      <td>0</td>\n",
       "      <td>0</td>\n",
       "      <td>USA</td>\n",
       "    </tr>\n",
       "    <tr>\n",
       "      <th>400M Freestyle</th>\n",
       "      <td>0.013702</td>\n",
       "      <td>4.905685</td>\n",
       "      <td>0.000044</td>\n",
       "      <td>0.204874</td>\n",
       "      <td>0.921811</td>\n",
       "      <td>4.898559</td>\n",
       "      <td>5.799075</td>\n",
       "      <td>0.003947</td>\n",
       "      <td>0.000000</td>\n",
       "      <td>9.681773</td>\n",
       "      <td>...</td>\n",
       "      <td>0.0</td>\n",
       "      <td>0</td>\n",
       "      <td>0.0</td>\n",
       "      <td>0.0</td>\n",
       "      <td>0.0</td>\n",
       "      <td>0</td>\n",
       "      <td>0</td>\n",
       "      <td>0</td>\n",
       "      <td>0</td>\n",
       "      <td>CHN</td>\n",
       "    </tr>\n",
       "    <tr>\n",
       "      <th>Decathlon</th>\n",
       "      <td>0.000000</td>\n",
       "      <td>0.390255</td>\n",
       "      <td>0.000000</td>\n",
       "      <td>0.000000</td>\n",
       "      <td>0.395362</td>\n",
       "      <td>0.000000</td>\n",
       "      <td>0.003045</td>\n",
       "      <td>0.000000</td>\n",
       "      <td>0.000000</td>\n",
       "      <td>10.994412</td>\n",
       "      <td>...</td>\n",
       "      <td>0.0</td>\n",
       "      <td>0</td>\n",
       "      <td>0.0</td>\n",
       "      <td>0.0</td>\n",
       "      <td>0.0</td>\n",
       "      <td>0</td>\n",
       "      <td>0</td>\n",
       "      <td>0</td>\n",
       "      <td>0</td>\n",
       "      <td>USA</td>\n",
       "    </tr>\n",
       "    <tr>\n",
       "      <th>200M Breaststroke</th>\n",
       "      <td>8.171443</td>\n",
       "      <td>2.469666</td>\n",
       "      <td>0.000000</td>\n",
       "      <td>0.011629</td>\n",
       "      <td>0.450213</td>\n",
       "      <td>3.786189</td>\n",
       "      <td>0.666667</td>\n",
       "      <td>0.000752</td>\n",
       "      <td>0.058795</td>\n",
       "      <td>11.248057</td>\n",
       "      <td>...</td>\n",
       "      <td>0.0</td>\n",
       "      <td>0</td>\n",
       "      <td>0.0</td>\n",
       "      <td>0.0</td>\n",
       "      <td>0.0</td>\n",
       "      <td>0</td>\n",
       "      <td>0</td>\n",
       "      <td>0</td>\n",
       "      <td>0</td>\n",
       "      <td>HUN</td>\n",
       "    </tr>\n",
       "    <tr>\n",
       "      <th>4X400M Relay</th>\n",
       "      <td>0.000026</td>\n",
       "      <td>0.870969</td>\n",
       "      <td>0.000000</td>\n",
       "      <td>0.000000</td>\n",
       "      <td>0.200719</td>\n",
       "      <td>0.895740</td>\n",
       "      <td>0.020555</td>\n",
       "      <td>0.000000</td>\n",
       "      <td>0.000000</td>\n",
       "      <td>19.755863</td>\n",
       "      <td>...</td>\n",
       "      <td>0.0</td>\n",
       "      <td>0</td>\n",
       "      <td>0.0</td>\n",
       "      <td>1.0</td>\n",
       "      <td>0.0</td>\n",
       "      <td>0</td>\n",
       "      <td>0</td>\n",
       "      <td>0</td>\n",
       "      <td>0</td>\n",
       "      <td>BAH</td>\n",
       "    </tr>\n",
       "    <tr>\n",
       "      <th>Javelin Throw</th>\n",
       "      <td>0.199785</td>\n",
       "      <td>1.704618</td>\n",
       "      <td>0.017651</td>\n",
       "      <td>0.000000</td>\n",
       "      <td>5.219405</td>\n",
       "      <td>0.395062</td>\n",
       "      <td>0.000000</td>\n",
       "      <td>0.001522</td>\n",
       "      <td>0.000000</td>\n",
       "      <td>0.078779</td>\n",
       "      <td>...</td>\n",
       "      <td>0.0</td>\n",
       "      <td>0</td>\n",
       "      <td>0.0</td>\n",
       "      <td>4.0</td>\n",
       "      <td>0.0</td>\n",
       "      <td>0</td>\n",
       "      <td>0</td>\n",
       "      <td>0</td>\n",
       "      <td>0</td>\n",
       "      <td>TTO</td>\n",
       "    </tr>\n",
       "    <tr>\n",
       "      <th>10000M</th>\n",
       "      <td>0.006851</td>\n",
       "      <td>4.318740</td>\n",
       "      <td>0.000000</td>\n",
       "      <td>0.000000</td>\n",
       "      <td>0.000000</td>\n",
       "      <td>0.016271</td>\n",
       "      <td>0.007790</td>\n",
       "      <td>0.000000</td>\n",
       "      <td>0.034683</td>\n",
       "      <td>2.829263</td>\n",
       "      <td>...</td>\n",
       "      <td>0.0</td>\n",
       "      <td>0</td>\n",
       "      <td>0.0</td>\n",
       "      <td>0.0</td>\n",
       "      <td>0.0</td>\n",
       "      <td>0</td>\n",
       "      <td>0</td>\n",
       "      <td>0</td>\n",
       "      <td>0</td>\n",
       "      <td>GBR</td>\n",
       "    </tr>\n",
       "    <tr>\n",
       "      <th>4X100M Relay</th>\n",
       "      <td>0.002284</td>\n",
       "      <td>2.077761</td>\n",
       "      <td>0.000000</td>\n",
       "      <td>0.006223</td>\n",
       "      <td>0.006221</td>\n",
       "      <td>0.016747</td>\n",
       "      <td>1.590701</td>\n",
       "      <td>0.000000</td>\n",
       "      <td>1.333333</td>\n",
       "      <td>9.810736</td>\n",
       "      <td>...</td>\n",
       "      <td>0.0</td>\n",
       "      <td>0</td>\n",
       "      <td>0.0</td>\n",
       "      <td>2.0</td>\n",
       "      <td>0.0</td>\n",
       "      <td>0</td>\n",
       "      <td>0</td>\n",
       "      <td>0</td>\n",
       "      <td>0</td>\n",
       "      <td>JAM</td>\n",
       "    </tr>\n",
       "    <tr>\n",
       "      <th>5000M</th>\n",
       "      <td>0.000000</td>\n",
       "      <td>4.027763</td>\n",
       "      <td>0.000000</td>\n",
       "      <td>0.001522</td>\n",
       "      <td>0.529033</td>\n",
       "      <td>0.000000</td>\n",
       "      <td>0.005082</td>\n",
       "      <td>0.000000</td>\n",
       "      <td>0.006090</td>\n",
       "      <td>0.039138</td>\n",
       "      <td>...</td>\n",
       "      <td>0.0</td>\n",
       "      <td>0</td>\n",
       "      <td>0.0</td>\n",
       "      <td>0.0</td>\n",
       "      <td>0.0</td>\n",
       "      <td>0</td>\n",
       "      <td>0</td>\n",
       "      <td>0</td>\n",
       "      <td>0</td>\n",
       "      <td>GBR</td>\n",
       "    </tr>\n",
       "    <tr>\n",
       "      <th>50KM Walk</th>\n",
       "      <td>0.025406</td>\n",
       "      <td>0.040497</td>\n",
       "      <td>0.000000</td>\n",
       "      <td>0.000000</td>\n",
       "      <td>0.131687</td>\n",
       "      <td>5.333333</td>\n",
       "      <td>0.000000</td>\n",
       "      <td>0.000000</td>\n",
       "      <td>0.000000</td>\n",
       "      <td>0.028903</td>\n",
       "      <td>...</td>\n",
       "      <td>0.0</td>\n",
       "      <td>0</td>\n",
       "      <td>0.0</td>\n",
       "      <td>0.0</td>\n",
       "      <td>0.0</td>\n",
       "      <td>0</td>\n",
       "      <td>0</td>\n",
       "      <td>0</td>\n",
       "      <td>0</td>\n",
       "      <td>AUS</td>\n",
       "    </tr>\n",
       "    <tr>\n",
       "      <th>100M Butterfly</th>\n",
       "      <td>0.017342</td>\n",
       "      <td>0.087791</td>\n",
       "      <td>0.000000</td>\n",
       "      <td>1.655321</td>\n",
       "      <td>0.000000</td>\n",
       "      <td>8.171638</td>\n",
       "      <td>0.131687</td>\n",
       "      <td>0.000000</td>\n",
       "      <td>0.000000</td>\n",
       "      <td>17.878029</td>\n",
       "      <td>...</td>\n",
       "      <td>0.0</td>\n",
       "      <td>0</td>\n",
       "      <td>0.0</td>\n",
       "      <td>0.0</td>\n",
       "      <td>0.0</td>\n",
       "      <td>0</td>\n",
       "      <td>0</td>\n",
       "      <td>0</td>\n",
       "      <td>0</td>\n",
       "      <td>USA</td>\n",
       "    </tr>\n",
       "    <tr>\n",
       "      <th>200M Butterfly</th>\n",
       "      <td>1.336759</td>\n",
       "      <td>0.545603</td>\n",
       "      <td>0.000000</td>\n",
       "      <td>0.046244</td>\n",
       "      <td>0.000000</td>\n",
       "      <td>4.686434</td>\n",
       "      <td>0.131687</td>\n",
       "      <td>0.175583</td>\n",
       "      <td>0.000000</td>\n",
       "      <td>11.142025</td>\n",
       "      <td>...</td>\n",
       "      <td>0.0</td>\n",
       "      <td>0</td>\n",
       "      <td>0.0</td>\n",
       "      <td>0.0</td>\n",
       "      <td>0.0</td>\n",
       "      <td>0</td>\n",
       "      <td>0</td>\n",
       "      <td>0</td>\n",
       "      <td>0</td>\n",
       "      <td>RSA</td>\n",
       "    </tr>\n",
       "    <tr>\n",
       "      <th>100M Breaststroke</th>\n",
       "      <td>0.438957</td>\n",
       "      <td>0.559264</td>\n",
       "      <td>0.666667</td>\n",
       "      <td>0.234111</td>\n",
       "      <td>0.197531</td>\n",
       "      <td>7.168386</td>\n",
       "      <td>1.169639</td>\n",
       "      <td>0.039018</td>\n",
       "      <td>0.790123</td>\n",
       "      <td>9.097603</td>\n",
       "      <td>...</td>\n",
       "      <td>0.0</td>\n",
       "      <td>0</td>\n",
       "      <td>0.0</td>\n",
       "      <td>0.0</td>\n",
       "      <td>0.0</td>\n",
       "      <td>0</td>\n",
       "      <td>0</td>\n",
       "      <td>0</td>\n",
       "      <td>0</td>\n",
       "      <td>RSA</td>\n",
       "    </tr>\n",
       "  </tbody>\n",
       "</table>\n",
       "<p>29 rows × 148 columns</p>\n",
       "</div>"
      ],
      "text/plain": [
       "                        HUN       GBR       AUT       NED       GER       AUS  \\\n",
       "Event                                                                           \n",
       "200M Freestyle     0.000023  0.000000  0.000012  2.158614  0.987672  5.258928   \n",
       "100M               0.000000  0.880174  0.000000  0.006541  0.000952  0.068188   \n",
       "1500M              0.005138  2.501173  0.197531  0.001522  0.002284  0.023978   \n",
       "200M               0.000000  0.679476  0.000000  0.011108  0.000200  0.126469   \n",
       "400M               0.000000  5.456943  0.000000  0.000000  0.000280  1.696821   \n",
       "400M Hurdles       0.000000  1.455511  0.000000  0.000000  0.000000  0.351166   \n",
       "800M               0.000000  2.465863  0.592593  0.538310  1.188498  0.056521   \n",
       "Discus Throw       0.900497  0.000000  0.000000  0.234111  6.438469  0.131687   \n",
       "Hammer Throw       4.891128  0.000134  0.000000  0.000000  2.303570  0.000000   \n",
       "High Jump          0.001869  2.556582  0.017342  0.000401  0.527297  0.160043   \n",
       "Long Jump          0.008373  4.145604  0.000000  0.000000  1.712836  2.712693   \n",
       "Marathon           0.000000  0.078491  0.000000  0.078037  0.131687  0.175583   \n",
       "Pole Vault         0.000000  0.000000  0.000000  0.000000  3.197531  3.259259   \n",
       "Shot Put           0.007707  0.000053  0.001522  0.000000  4.114019  0.058528   \n",
       "Triple Jump        0.000000  2.972214  0.000000  0.000000  0.000000  0.004031   \n",
       "100M Backstroke    1.000523  0.028600  0.888889  0.066603  0.296644  3.302489   \n",
       "100M Freestyle     0.015269  0.020793  0.000000  9.130073  3.193867  7.189422   \n",
       "400M Freestyle     0.013702  4.905685  0.000044  0.204874  0.921811  4.898559   \n",
       "Decathlon          0.000000  0.390255  0.000000  0.000000  0.395362  0.000000   \n",
       "200M Breaststroke  8.171443  2.469666  0.000000  0.011629  0.450213  3.786189   \n",
       "4X400M Relay       0.000026  0.870969  0.000000  0.000000  0.200719  0.895740   \n",
       "Javelin Throw      0.199785  1.704618  0.017651  0.000000  5.219405  0.395062   \n",
       "10000M             0.006851  4.318740  0.000000  0.000000  0.000000  0.016271   \n",
       "4X100M Relay       0.002284  2.077761  0.000000  0.006223  0.006221  0.016747   \n",
       "5000M              0.000000  4.027763  0.000000  0.001522  0.529033  0.000000   \n",
       "50KM Walk          0.025406  0.040497  0.000000  0.000000  0.131687  5.333333   \n",
       "100M Butterfly     0.017342  0.087791  0.000000  1.655321  0.000000  8.171638   \n",
       "200M Butterfly     1.336759  0.545603  0.000000  0.046244  0.000000  4.686434   \n",
       "100M Breaststroke  0.438957  0.559264  0.666667  0.234111  0.197531  7.168386   \n",
       "\n",
       "                        FRA       DEN       BEL        USA  ...  BRN  GUA  \\\n",
       "Event                                                       ...             \n",
       "200M Freestyle     6.444444  0.000000  0.000000   9.366440  ...  0.0    0   \n",
       "100M               0.000000  0.000000  0.000000  11.594415  ...  0.0    0   \n",
       "1500M              0.677368  0.000000  0.052025   2.029040  ...  1.0    0   \n",
       "200M               0.795262  0.000000  0.000000  16.283101  ...  0.0    0   \n",
       "400M               1.363117  0.000012  0.000000  18.415580  ...  0.0    0   \n",
       "400M Hurdles       0.444468  0.000000  0.000000  14.896107  ...  0.0    0   \n",
       "800M               0.016937  1.037037  0.062301   0.579829  ...  0.0    0   \n",
       "Discus Throw       0.007913  0.000000  0.000000   3.290614  ...  0.0    0   \n",
       "Hammer Throw       0.000000  0.000000  0.000000   0.412597  ...  0.0    0   \n",
       "High Jump          0.001956  0.000000  2.666678   6.594434  ...  0.0    0   \n",
       "Long Jump          0.000000  0.000000  0.000000  12.558842  ...  0.0    0   \n",
       "Marathon           0.014574  0.000000  0.062218   1.689263  ...  0.0    0   \n",
       "Pole Vault         5.082762  0.000178  0.000000  11.373048  ...  0.0    0   \n",
       "Shot Put           0.006090  0.444444  0.000000   6.680827  ...  0.0    0   \n",
       "Triple Jump        0.000000  0.000000  0.000000   7.984044  ...  0.0    0   \n",
       "100M Backstroke    0.465949  0.006143  0.000089  25.957647  ...  0.0    0   \n",
       "100M Freestyle     2.973937  0.006090  0.000000   8.804193  ...  0.0    0   \n",
       "400M Freestyle     5.799075  0.003947  0.000000   9.681773  ...  0.0    0   \n",
       "Decathlon          0.003045  0.000000  0.000000  10.994412  ...  0.0    0   \n",
       "200M Breaststroke  0.666667  0.000752  0.058795  11.248057  ...  0.0    0   \n",
       "4X400M Relay       0.020555  0.000000  0.000000  19.755863  ...  0.0    0   \n",
       "Javelin Throw      0.000000  0.001522  0.000000   0.078779  ...  0.0    0   \n",
       "10000M             0.007790  0.000000  0.034683   2.829263  ...  0.0    0   \n",
       "4X100M Relay       1.590701  0.000000  1.333333   9.810736  ...  0.0    0   \n",
       "5000M              0.005082  0.000000  0.006090   0.039138  ...  0.0    0   \n",
       "50KM Walk          0.000000  0.000000  0.000000   0.028903  ...  0.0    0   \n",
       "100M Butterfly     0.131687  0.000000  0.000000  17.878029  ...  0.0    0   \n",
       "200M Butterfly     0.131687  0.175583  0.000000  11.142025  ...  0.0    0   \n",
       "100M Breaststroke  1.169639  0.039018  0.790123   9.097603  ...  0.0    0   \n",
       "\n",
       "                   GRN  TTO  BOT  MNE  CYP  SGP  GAB  Country  \n",
       "Event                                                          \n",
       "200M Freestyle     0.0  0.0  0.0    0    0    0    0      FRA  \n",
       "100M               0.0  0.0  0.0    0    0    0    0      JAM  \n",
       "1500M              0.0  0.0  0.0    0    0    0    0      ALG  \n",
       "200M               0.0  0.0  0.0    0    0    0    0      JAM  \n",
       "400M               4.0  1.0  0.0    0    0    0    0      GRN  \n",
       "400M Hurdles       0.0  0.0  0.0    0    0    0    0      DOM  \n",
       "800M               0.0  0.0  2.0    0    0    0    0      KEN  \n",
       "Discus Throw       0.0  0.0  0.0    0    0    0    0      GER  \n",
       "Hammer Throw       0.0  0.0  0.0    0    0    0    0      HUN  \n",
       "High Jump          0.0  0.0  0.0    0    0    0    0      RUS  \n",
       "Long Jump          0.0  0.0  0.0    0    0    0    0      GBR  \n",
       "Marathon           0.0  0.0  0.0    0    0    0    0      UGA  \n",
       "Pole Vault         0.0  0.0  0.0    0    0    0    0      FRA  \n",
       "Shot Put           0.0  0.0  0.0    0    0    0    0      POL  \n",
       "Triple Jump        0.0  0.0  0.0    0    0    0    0      USA  \n",
       "100M Backstroke    0.0  0.0  0.0    0    0    0    0      USA  \n",
       "100M Freestyle     0.0  0.0  0.0    0    0    0    0      USA  \n",
       "400M Freestyle     0.0  0.0  0.0    0    0    0    0      CHN  \n",
       "Decathlon          0.0  0.0  0.0    0    0    0    0      USA  \n",
       "200M Breaststroke  0.0  0.0  0.0    0    0    0    0      HUN  \n",
       "4X400M Relay       0.0  1.0  0.0    0    0    0    0      BAH  \n",
       "Javelin Throw      0.0  4.0  0.0    0    0    0    0      TTO  \n",
       "10000M             0.0  0.0  0.0    0    0    0    0      GBR  \n",
       "4X100M Relay       0.0  2.0  0.0    0    0    0    0      JAM  \n",
       "5000M              0.0  0.0  0.0    0    0    0    0      GBR  \n",
       "50KM Walk          0.0  0.0  0.0    0    0    0    0      AUS  \n",
       "100M Butterfly     0.0  0.0  0.0    0    0    0    0      USA  \n",
       "200M Butterfly     0.0  0.0  0.0    0    0    0    0      RSA  \n",
       "100M Breaststroke  0.0  0.0  0.0    0    0    0    0      RSA  \n",
       "\n",
       "[29 rows x 148 columns]"
      ]
     },
     "execution_count": 706,
     "metadata": {},
     "output_type": "execute_result"
    }
   ],
   "source": [
    "Xy"
   ]
  },
  {
   "cell_type": "code",
   "execution_count": null,
   "metadata": {},
   "outputs": [],
   "source": []
  },
  {
   "cell_type": "code",
   "execution_count": null,
   "metadata": {},
   "outputs": [],
   "source": []
  }
 ],
 "metadata": {
  "kernelspec": {
   "display_name": "Python 3",
   "language": "python",
   "name": "python3"
  },
  "language_info": {
   "codemirror_mode": {
    "name": "ipython",
    "version": 3
   },
   "file_extension": ".py",
   "mimetype": "text/x-python",
   "name": "python",
   "nbconvert_exporter": "python",
   "pygments_lexer": "ipython3",
   "version": "3.7.6"
  }
 },
 "nbformat": 4,
 "nbformat_minor": 4
}
