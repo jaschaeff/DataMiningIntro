{
 "cells": [
  {
   "cell_type": "markdown",
   "metadata": {},
   "source": [
    "## Final Report:\n",
    "### Using past medal winnings to determine the winner in select summer olympic events\n",
    "by Jake Schaeffer"
   ]
  },
  {
   "cell_type": "code",
   "execution_count": 44,
   "metadata": {},
   "outputs": [],
   "source": [
    "import numpy as np\n",
    "import pandas as pd\n",
    "import matplotlib as mpl\n",
    "import matplotlib.pyplot as plt\n",
    "import seaborn as sns\n",
    "from sklearn.naive_bayes import MultinomialNB\n",
    "from sklearn.metrics import classification_report\n",
    "from sklearn.model_selection import cross_val_predict"
   ]
  },
  {
   "cell_type": "markdown",
   "metadata": {},
   "source": [
    "### Introduction:\n",
    "By using data about the summer olympics dating back to the first modern olympiad, I will create a model that attempts to predict the winning country of track & field and swimming events using the historical data of which countries medaled."
   ]
  },
  {
   "cell_type": "markdown",
   "metadata": {},
   "source": [
    "### Data\n",
    "This data contains information on who got on the podium in all summer olympic events since the beginning of the modern olympic era to the games played in London in 2012. Each observation represents an athlete that podiumed, including multiple observations for teams. When I perform classification, I will use select parts of this data to attempt to predict which country will get the gold in all swimming and track &field events."
   ]
  },
  {
   "cell_type": "code",
   "execution_count": 21,
   "metadata": {},
   "outputs": [],
   "source": [
    "df = pd.read_csv(\"./data/summer.csv\")"
   ]
  },
  {
   "cell_type": "markdown",
   "metadata": {},
   "source": [
    "### Data Preparation\n",
    "First, I will make all variables that are not the year categoricals. Then I will take out two unneeded variables: sport, which is a category used for events that is extraneous, and athlete, which is too varied to offer any meaning statistically. Then I got rid of duplicate observations. These come from teams that podiumed where there are multiple athletes. By dropping duplicates, we have only one observation for each team that podiumed."
   ]
  },
  {
   "cell_type": "code",
   "execution_count": 22,
   "metadata": {},
   "outputs": [],
   "source": [
    "for col in df.columns[1:]:\n",
    "    df[col] = pd.Categorical(df[col])\n",
    "df = df.drop(\"Sport\", axis = 1).drop(\"Athlete\",axis  =1)\n",
    "df = df.drop_duplicates()"
   ]
  },
  {
   "cell_type": "markdown",
   "metadata": {},
   "source": [
    "Next, I calculate a weight for each observation. this is a very rudimentary way of quantifying how good a country is at an event. I weight the medals using New York Times' point system of 4,2,1 for Gold Silver and Bronze. I weight how recent the medal was won by weighting each older olympiad 2/3 that of the previous. So 2012 has a weight of 1, 2008- 2/3. 2004- 4/9, and so on. This is done to value a country's past dominance in an event, but also goes down as we go farther back in time due country's dominance changing over time. With this system, most observations from before the 1990s are not very important in the weighting. Considering that the events I am looking at are mostly of single athletes, this makes sense because athletes that may have won a country medals in the past have likely retired."
   ]
  },
  {
   "cell_type": "code",
   "execution_count": 23,
   "metadata": {},
   "outputs": [],
   "source": [
    "df[\"yearWeight\"] = (2/3)**(29 - (df[\"Year\"] - 1896)/4)\n",
    "df[\"medalWeight\"] = 0\n",
    "def weightMedal (row):\n",
    "    if row['Medal'] == \"Gold\" :\n",
    "        return 4\n",
    "    if row[\"Medal\"] == \"Silver\":\n",
    "        return 2\n",
    "    if row['Medal'] == \"Bronze\" :\n",
    "        return 1\n",
    "df['medalWeight'] = df.apply(lambda row: weightMedal(row), axis=1)\n",
    "df[\"Weight\"] = df['medalWeight'] * df[\"yearWeight\"]"
   ]
  },
  {
   "cell_type": "markdown",
   "metadata": {},
   "source": [
    "We can predict that total golds is likely tied to the countrie's total medal weight score...."
   ]
  },
  {
   "cell_type": "code",
   "execution_count": 42,
   "metadata": {},
   "outputs": [
    {
     "data": {
      "text/plain": [
       "Text(0.5, 1.0, 'Country podium score vs number of golds')"
      ]
     },
     "execution_count": 42,
     "metadata": {},
     "output_type": "execute_result"
    },
    {
     "data": {
      "image/png": "[encoded data removed]",
      "text/plain": [
       "<Figure size 432x288 with 1 Axes>"
      ]
     },
     "metadata": {
      "needs_background": "light"
     },
     "output_type": "display_data"
    }
   ],
   "source": [
    "totalWeights = df.groupby(\"Country\").sum()[\"Weight\"]\n",
    "totalGolds = df[df[\"Medal\"] == \"Gold\"].groupby(\"Country\").count()[\"Medal\"]\n",
    "fig = sns.scatterplot(x = totalWeights,y = totalGolds)\n",
    "fig.set_title(\"Country podium score vs number of golds\")"
   ]
  },
  {
   "cell_type": "markdown",
   "metadata": {},
   "source": [
    "1896 is not included because there was a large difference in the events played in that year compared to the 1900s. Here I also create a dataframe called \"scores\" that contains each country's \"weight\" in each event. This is used for our input when modeling."
   ]
  },
  {
   "cell_type": "code",
   "execution_count": 24,
   "metadata": {},
   "outputs": [],
   "source": [
    "df = df[df.Year != 1896]\n",
    "allscores  = df.groupby([\"Country\",\"Event\"]).sum()[\"Weight\"]\n",
    "countries = df[\"Country\"].drop_duplicates().dropna()\n",
    "events = df[(df[\"Discipline\"] == \"Swimming\") |(df[\"Discipline\"] == \"Athletics\")].Event.drop_duplicates()\n",
    "scores = pd.DataFrame(index = events,columns = countries)\n",
    "for country in countries:\n",
    "    for event in events:\n",
    "        scores.loc[event,country] = allscores[country,event]\n",
    "for event in scores.index:\n",
    "    if scores.loc[event].count() < 20:\n",
    "        scores.drop(event,inplace = True)"
   ]
  },
  {
   "cell_type": "markdown",
   "metadata": {},
   "source": [
    "In order to get the target labels, I used the most recent year as \"truth\". the countries that one gold in each event are put into y."
   ]
  },
  {
   "cell_type": "code",
   "execution_count": 28,
   "metadata": {},
   "outputs": [],
   "source": [
    "londonGolds = df[(df[\"Gender\"] == \"Men\") &(df[\"Medal\"] == \"Gold\") &(df[\"Year\"] == 2012) & ((df[\"Discipline\"] == \"Swimming\")|(df[\"Discipline\"] == \"Athletics\"))]\n",
    "y = londonGolds[['Event','Country']]\n",
    "scores.index = scores.index.astype(str)\n",
    "scores.columns = scores.columns.astype(str)\n",
    "Xy = pd.merge(scores, y, on= \"Event\")\n",
    "Xy = Xy.set_index(\"Event\")\n",
    "X = Xy.iloc[:,:-1]\n",
    "y = Xy.iloc[:,-1]\n",
    "X = X.fillna(0)"
   ]
  },
  {
   "cell_type": "markdown",
   "metadata": {},
   "source": [
    "### Model\n",
    "\n",
    "I found that using Naive Bayes with a lot of smoothing and using a uniform prior resulted in the best prediction accuracy. comparing the accuracy of different methods with different parameters, I found that naive bayes made since given the form of the data, and more smoothing essentially means we are picking the most likely winner each time, which is usually going to be right more often then a less likely pick. This is due to some countries having absolute dominance in some events."
   ]
  },
  {
   "cell_type": "code",
   "execution_count": 59,
   "metadata": {},
   "outputs": [
    {
     "name": "stdout",
     "output_type": "stream",
     "text": [
      "accuracy of the Naive Bayes model: 34.48%\n"
     ]
    },
    {
     "name": "stderr",
     "output_type": "stream",
     "text": [
      "C:\\Users\\Jake\\Anaconda3\\envs\\csci349\\lib\\site-packages\\sklearn\\model_selection\\_split.py:667: UserWarning: The least populated class in y has only 1 members, which is less than n_splits=5.\n",
      "  % (min_groups, self.n_splits)), UserWarning)\n"
     ]
    },
    {
     "data": {
      "text/plain": [
       "MultinomialNB(alpha=3, class_prior=None, fit_prior=False)"
      ]
     },
     "execution_count": 59,
     "metadata": {},
     "output_type": "execute_result"
    }
   ],
   "source": [
    "clf = MultinomialNB(alpha = 3,fit_prior = False)\n",
    "y_pred = cross_val_predict(clf,X,y)\n",
    "print(\"accuracy of the Naive Bayes model: {:.2F}%\".format(accuracy_score(y,y_pred)*100))\n",
    "clf.fit(X,y)"
   ]
  },
  {
   "cell_type": "markdown",
   "metadata": {},
   "source": [
    "### Performance Results\n",
    "We see from the results that due to the number of possible results and how much can change between olympiads, there are many mistakes, but none that are consistent. Overall I would say a 34% accuracy rate is not bad considering the variability of the inputs and the arbitraryness of the weighting system."
   ]
  },
  {
   "cell_type": "code",
   "execution_count": 62,
   "metadata": {},
   "outputs": [
    {
     "data": {
      "text/plain": [
       "<sklearn.metrics._plot.confusion_matrix.ConfusionMatrixDisplay at 0x1887560b508>"
      ]
     },
     "execution_count": 62,
     "metadata": {},
     "output_type": "execute_result"
    },
    {
     "data": {
      "image/png": "[encoded data removed]",
      "text/plain": [
       "<Figure size 432x288 with 2 Axes>"
      ]
     },
     "metadata": {
      "needs_background": "light"
     },
     "output_type": "display_data"
    }
   ],
   "source": [
    "from sklearn.metrics import plot_confusion_matrix\n",
    "plot_confusion_matrix(clf,X,y,xticks_rotation = \"vertical\")"
   ]
  },
  {
   "cell_type": "markdown",
   "metadata": {},
   "source": [
    "### Discussion"
   ]
  },
  {
   "cell_type": "markdown",
   "metadata": {},
   "source": [
    "I made the mistake of picking a data set that did not lend itself to classification, and thus spent hours pulling my hair out trying to figure out what to classify. My result was something I am not happy with, as it isn't very useful. However, I did find that I like making incites from data, but maybe in more of a tableau way than in a machine learning way. I was not surprised that most methods didn't offer very good accuracy of classification, as the task would be hard for anyone given how much things change between olympiads. I think I would try changing the weighting system and treating that as a parameter would be a way to figure out how to better classify. In this I did not consider that I could use the weighting system as a parameter until I had already coded everything."
   ]
  },
  {
   "cell_type": "markdown",
   "metadata": {},
   "source": [
    "### Conclusions"
   ]
  },
  {
   "cell_type": "markdown",
   "metadata": {},
   "source": [
    "I found that it is very difficult to predict what country will win an olympic event. ESPECIALLY if it's an individual event. Individual athletes come and go so quickly, and talents may come from any different country. I think that this shows one of the beauties of the olympics - that there is no guarantee that any country will win in any sport. "
   ]
  }
 ],
 "metadata": {
  "kernelspec": {
   "display_name": "Python 3",
   "language": "python",
   "name": "python3"
  },
  "language_info": {
   "codemirror_mode": {
    "name": "ipython",
    "version": 3
   },
   "file_extension": ".py",
   "mimetype": "text/x-python",
   "name": "python",
   "nbconvert_exporter": "python",
   "pygments_lexer": "ipython3",
   "version": "3.7.6"
  }
 },
 "nbformat": 4,
 "nbformat_minor": 4
}
